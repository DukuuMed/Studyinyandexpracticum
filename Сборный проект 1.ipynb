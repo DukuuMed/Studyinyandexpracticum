{
 "cells": [
  {
   "cell_type": "markdown",
   "metadata": {},
   "source": [
    "**Привет, Руслан!**\n",
    "\n",
    "Меня зовут Анастасия Ефременко, я буду проверять твой проект. Предлагаю тебе общаться на \"ты\", но если тебе это некомфортно, дай знать и мы перейдем на \"Вы\". Цель этого ревью: помочь тебе довести проект до совершенства. Так, как это хотел бы видеть работодатель. \n",
    "\n",
    "Прошу тебя не удалять мои комменатрии пока проект не будет принят, чтобы облегчить нам процес работы.\n",
    "\n",
    "Свои комменатрии я выделяю разными цветами, и вот что это значит:\n",
    "\n",
    "<div class=\"alert alert-danger\">\n",
    "<b>Осторожно!</b> \n",
    "Красным цветом выделены недочеты, на которые обязательно нужно обратить внимание. Их следует исправить в твоей работе.</div>\n",
    "\n",
    "<div class=\"alert alert-warning\">\n",
    "<b>Рекомендация:</b> \n",
    "Желтым цветом я оставляю тебе советы, которые стоит принять во внимание. Если есть желание, можешь исправить их. </div>\n",
    "\n",
    "<div class=\"alert alert-success\">\n",
    "<b>Good job! </b> Ну а зеленым цветом будет помечена обратная связь по твоему проекту.</div>\n",
    "\n",
    "Предлагаю тебе работать в тандеме, поэтому ответы на мои комментарии, возникающие по ходу работы вопросы можешь выделять синим цветом.\n",
    "<div class=\"alert alert-info\">\n",
    "<b>Комментарий студента:</b> выделяется синим цветом. </div>"
   ]
  },
  {
   "cell_type": "markdown",
   "metadata": {},
   "source": [
    "<div class=\"alert alert-info\">\n",
    "<b>Комментарий студента:</b> Привет Анастасия! Рад знакомству! На ты - отлично! Спасибо запроверку и комментарии, ниже я поправил все, что отмечено так, как сумел. Буду рад твоим комментариям и советам! </div>"
   ]
  },
  {
   "cell_type": "markdown",
   "metadata": {
    "id": "sIfNaMOxgFyK"
   },
   "source": [
    "# Исследование данных о российском кинопрокате\n",
    "\n"
   ]
  },
  {
   "cell_type": "markdown",
   "metadata": {
    "id": "dw87FlzMgFyM"
   },
   "source": [
    "Пути к файлам:\n",
    "- /datasets/mkrf_movies.csv — данные о прокатных удостоверениях.\n",
    "- /datasets/mkrf_shows.csv — данные о прокате в российских кинотеатрах.\n",
    "\n",
    "\n",
    "**Описание таблиц**\n",
    "\n",
    "Таблица mkrf_movies содержит информацию из реестра прокатных удостоверений. У одного фильма может быть несколько прокатных удостоверений.\n",
    "* title — название фильма;\n",
    "* puNumber — номер прокатного удостоверения;\n",
    "* show_start_date — дата премьеры фильма;\n",
    "* type — тип фильма;\n",
    "* film_studio — студия-производитель;\n",
    "* production_country — страна-производитель;\n",
    "* director — режиссёр;\n",
    "* producer — продюсер;\n",
    "* age_restriction — возрастная категория;\n",
    "* refundable_support — объём возвратных средств государственной поддержки;\n",
    "* nonrefundable_support — объём невозвратных средств государственной поддержки;\n",
    "* financing_source — источник государственного финансирования;\n",
    "* budget — общий бюджет фильма;\n",
    "* ratings — рейтинг фильма на КиноПоиске;\n",
    "* genres — жанр фильма.\n",
    "\n",
    "Обратите внимание, что столбец budget уже включает в себя полный объём государственной поддержки. Данные в этом столбце указаны только для тех фильмов, которые получили государственную поддержку.\n",
    "\n",
    "Таблица mkrf_shows содержит сведения о показах фильмов в российских кинотеатрах.\n",
    "* puNumber — номер прокатного удостоверения;\n",
    "* box_office — сборы в рублях."
   ]
  },
  {
   "cell_type": "markdown",
   "metadata": {},
   "source": [
    "<div class=\"alert alert-success\">\n",
    "<b>Комментарий ревьюера: </b> \n",
    "    \n",
    "Молодец, что сделал оглавление и добавил описание проекта с описанием данных.\n",
    "</div>"
   ]
  },
  {
   "cell_type": "markdown",
   "metadata": {
    "id": "3bSlkCsbgFyL"
   },
   "source": [
    "### Шаг 1. Откройте файлы с данными и объедините их в один датафрейм. \n",
    "\n",
    "Объедините данные таким образом, чтобы все объекты из датасета `mkrf_movies` обязательно вошли в получившийся датафрейм. \n",
    "\n",
    "<div id=\"accordion\">\n",
    "    <div class=\"card\">\n",
    "        <div class=\"card-header\" id=\"headingThree\">\n",
    "            <button class=\"btn btn-link collapsed\" data-toggle=\"collapse\" data-target=\"#collapseHint_0\" aria-expanded=\"false\" aria-controls=\"collapseHint_0\">Подсказка</button>\n",
    "        </div>\n",
    "        <div id=\"collapseHint_0\" class=\"collapse\" aria-labelledby=\"headingThree\" data-parent=\"#accordion\">\n",
    "            <div class=\"card-body\">\n",
    "Обратите внимание на тип данных столбца, по которому будете соединять датафреймы. Тип данных этих столбцов должен быть одинаковым в обоих датафреймах.\n",
    "            </div>\n",
    "        </div>\n",
    "    </div>\n",
    "</div>"
   ]
  },
  {
   "cell_type": "markdown",
   "metadata": {},
   "source": [
    "**Импортируем рабочие библиотеки**"
   ]
  },
  {
   "cell_type": "code",
   "execution_count": 1,
   "metadata": {},
   "outputs": [],
   "source": [
    "import pandas as pd\n",
    "import numpy as np\n",
    "import matplotlib.pyplot as plt\n",
    "import seaborn as sns\n",
    "\n",
    "from datetime import datetime\n",
    "import warnings\n",
    "warnings.filterwarnings('ignore')"
   ]
  },
  {
   "cell_type": "markdown",
   "metadata": {},
   "source": [
    "**Откроем файлы и проведем объединение в единый датафрейм**"
   ]
  },
  {
   "cell_type": "code",
   "execution_count": 2,
   "metadata": {
    "scrolled": false
   },
   "outputs": [
    {
     "data": {
      "text/html": [
       "<div>\n",
       "<style scoped>\n",
       "    .dataframe tbody tr th:only-of-type {\n",
       "        vertical-align: middle;\n",
       "    }\n",
       "\n",
       "    .dataframe tbody tr th {\n",
       "        vertical-align: top;\n",
       "    }\n",
       "\n",
       "    .dataframe thead th {\n",
       "        text-align: right;\n",
       "    }\n",
       "</style>\n",
       "<table border=\"1\" class=\"dataframe\">\n",
       "  <thead>\n",
       "    <tr style=\"text-align: right;\">\n",
       "      <th></th>\n",
       "      <th>title</th>\n",
       "      <th>puNumber</th>\n",
       "      <th>show_start_date</th>\n",
       "      <th>type</th>\n",
       "      <th>film_studio</th>\n",
       "      <th>production_country</th>\n",
       "      <th>director</th>\n",
       "      <th>producer</th>\n",
       "      <th>age_restriction</th>\n",
       "      <th>refundable_support</th>\n",
       "      <th>nonrefundable_support</th>\n",
       "      <th>budget</th>\n",
       "      <th>financing_source</th>\n",
       "      <th>ratings</th>\n",
       "      <th>genres</th>\n",
       "      <th>box_office</th>\n",
       "    </tr>\n",
       "  </thead>\n",
       "  <tbody>\n",
       "    <tr>\n",
       "      <td>0</td>\n",
       "      <td>Открытый простор</td>\n",
       "      <td>221048915</td>\n",
       "      <td>2015-11-27T12:00:00.000Z</td>\n",
       "      <td>Художественный</td>\n",
       "      <td>Тачстоун Пикчерз, Кобальт Пикчерз, Бикон Пикче...</td>\n",
       "      <td>США</td>\n",
       "      <td>Кевин Костнер</td>\n",
       "      <td>Дэвид Валдес, Кевин Костнер, Джейк Эбертс</td>\n",
       "      <td>«18+» - запрещено для детей</td>\n",
       "      <td>NaN</td>\n",
       "      <td>NaN</td>\n",
       "      <td>NaN</td>\n",
       "      <td>NaN</td>\n",
       "      <td>7.2</td>\n",
       "      <td>боевик,драма,мелодрама</td>\n",
       "      <td>NaN</td>\n",
       "    </tr>\n",
       "    <tr>\n",
       "      <td>1</td>\n",
       "      <td>Особо важное задание</td>\n",
       "      <td>111013716</td>\n",
       "      <td>2016-09-13T12:00:00.000Z</td>\n",
       "      <td>Художественный</td>\n",
       "      <td>Киностудия \"Мосфильм\"</td>\n",
       "      <td>СССР</td>\n",
       "      <td>Е.Матвеев</td>\n",
       "      <td>NaN</td>\n",
       "      <td>«6+» - для детей старше 6 лет</td>\n",
       "      <td>NaN</td>\n",
       "      <td>NaN</td>\n",
       "      <td>NaN</td>\n",
       "      <td>NaN</td>\n",
       "      <td>6.6</td>\n",
       "      <td>драма,военный</td>\n",
       "      <td>NaN</td>\n",
       "    </tr>\n",
       "    <tr>\n",
       "      <td>2</td>\n",
       "      <td>Особо опасен</td>\n",
       "      <td>221038416</td>\n",
       "      <td>2016-10-10T12:00:00.000Z</td>\n",
       "      <td>Художественный</td>\n",
       "      <td>Юниверсал Пикчерз, Кикстарт Продакшнз, Марк Пл...</td>\n",
       "      <td>США</td>\n",
       "      <td>Тимур Бекмамбетов</td>\n",
       "      <td>Джим Лемли, Джейсон Нетер, Марк Е.Платт, Яйн Смит</td>\n",
       "      <td>«18+» - запрещено для детей</td>\n",
       "      <td>NaN</td>\n",
       "      <td>NaN</td>\n",
       "      <td>NaN</td>\n",
       "      <td>NaN</td>\n",
       "      <td>6.8</td>\n",
       "      <td>фантастика,боевик,триллер</td>\n",
       "      <td>NaN</td>\n",
       "    </tr>\n",
       "  </tbody>\n",
       "</table>\n",
       "</div>"
      ],
      "text/plain": [
       "                  title   puNumber           show_start_date            type  \\\n",
       "0      Открытый простор  221048915  2015-11-27T12:00:00.000Z  Художественный   \n",
       "1  Особо важное задание  111013716  2016-09-13T12:00:00.000Z  Художественный   \n",
       "2          Особо опасен  221038416  2016-10-10T12:00:00.000Z  Художественный   \n",
       "\n",
       "                                         film_studio production_country  \\\n",
       "0  Тачстоун Пикчерз, Кобальт Пикчерз, Бикон Пикче...                США   \n",
       "1                              Киностудия \"Мосфильм\"               СССР   \n",
       "2  Юниверсал Пикчерз, Кикстарт Продакшнз, Марк Пл...                США   \n",
       "\n",
       "            director                                           producer  \\\n",
       "0      Кевин Костнер          Дэвид Валдес, Кевин Костнер, Джейк Эбертс   \n",
       "1          Е.Матвеев                                                NaN   \n",
       "2  Тимур Бекмамбетов  Джим Лемли, Джейсон Нетер, Марк Е.Платт, Яйн Смит   \n",
       "\n",
       "                 age_restriction  refundable_support  nonrefundable_support  \\\n",
       "0    «18+» - запрещено для детей                 NaN                    NaN   \n",
       "1  «6+» - для детей старше 6 лет                 NaN                    NaN   \n",
       "2    «18+» - запрещено для детей                 NaN                    NaN   \n",
       "\n",
       "   budget financing_source ratings                     genres  box_office  \n",
       "0     NaN              NaN     7.2     боевик,драма,мелодрама         NaN  \n",
       "1     NaN              NaN     6.6              драма,военный         NaN  \n",
       "2     NaN              NaN     6.8  фантастика,боевик,триллер         NaN  "
      ]
     },
     "execution_count": 2,
     "metadata": {},
     "output_type": "execute_result"
    }
   ],
   "source": [
    "data1 = pd.read_csv('/datasets/mkrf_movies.csv')\n",
    "data2 = pd.read_csv('/datasets/mkrf_shows.csv')\n",
    "#data1.info() и data2.info() подсказали нам, что колонка для объедниения может быть puNumber, однако data1.dtypes говорит, что разный тип данных, это мешает провести объединение ==> проведем изменение типа данных \n",
    "#data1['puNumber'].astype('int') - выдает ошибку ValueError: invalid literal for int() with base 10: 'нет', то есть в какой-то ячейке вместо чисел вписан текст, найдем ее.\n",
    "#df1 = data1[data1['puNumber'].str.contains(\"нет\")] - 1797 строка содержит значение \"нет\" вместо чисел. Посмотрим по столбцу title есть ли еще это название фильтма, чтобы найти номер прокатного удостоверения и зменить его в этой ячейке\n",
    "#df1 = data1[data1['title'].str.contains(\"Курбан-роман\")] - на строке 2078 находится то же название и мы видим номер прокатного удостоверения 111009614, можем его подставить вместо \"нет\"\n",
    "\n",
    "data1.loc[1797, 'puNumber'] = 1110096141 #Да, это не совсем корректный способ поиска и замены некорректных значений; не могу сообразить сходу как это сделать, может функцию написать? Надо как то искать дубликаты и подставлять в этой конкретно колонке нужные значения.Добавил 1 чтобы значения отличались и не удалять строчку\n",
    "data1['puNumber'] = pd.to_numeric(data1['puNumber'])\n",
    "data2['puNumber'] = data2['puNumber'].astype(int)\n",
    "df = data1.merge(data2, on='puNumber', how='outer')\n",
    "df.head(3)\n",
    "#Проведя объединение данных можем приступать к их обработке"
   ]
  },
  {
   "cell_type": "markdown",
   "metadata": {},
   "source": [
    "<div class=\"alert alert-success\">\n",
    "<b>Комментарий ревьюера: </b> \n",
    "    \n",
    "Круто, что ты подробно описал, как именно ты объединял датафреймы и какой логикой руководствовался.\n",
    "</div>"
   ]
  },
  {
   "cell_type": "markdown",
   "metadata": {},
   "source": [
    "<div class=\"alert alert-danger\">\n",
    "<b>Комментарий ревьюера: </b> \n",
    "    \n",
    "Однако не стоит приравнивать строковое значение к уже имеющемуся, так как номера прокатного удостоверения должны быть уникальны. Лучше всего было бы либо просто удалить эту строку, либо заменить ее другим неповторяющимся номером, например, добавить еще одну цифру к номеру, которые есть у этого же фильма.\n",
    "</div>"
   ]
  },
  {
   "cell_type": "markdown",
   "metadata": {},
   "source": [
    "<div class=\"alert alert-info\">\n",
    "<b>Комментарий студента:</b> Да, согласен. Я добавил цифру 1 к номеру. На будущее буду иметь ввиду такой лайфхак. Мне не хотелось удалять строчку просто. </div>"
   ]
  },
  {
   "cell_type": "markdown",
   "metadata": {},
   "source": [
    "<div class=\"alert alert-success\">\n",
    "<b>Комментарий ревьюера v2: </b> \n",
    "    \n",
    "👍\n",
    "</div>"
   ]
  },
  {
   "cell_type": "code",
   "execution_count": 3,
   "metadata": {
    "scrolled": true
   },
   "outputs": [
    {
     "data": {
      "text/html": [
       "<div>\n",
       "<style scoped>\n",
       "    .dataframe tbody tr th:only-of-type {\n",
       "        vertical-align: middle;\n",
       "    }\n",
       "\n",
       "    .dataframe tbody tr th {\n",
       "        vertical-align: top;\n",
       "    }\n",
       "\n",
       "    .dataframe thead th {\n",
       "        text-align: right;\n",
       "    }\n",
       "</style>\n",
       "<table border=\"1\" class=\"dataframe\">\n",
       "  <thead>\n",
       "    <tr style=\"text-align: right;\">\n",
       "      <th></th>\n",
       "      <th>puNumber</th>\n",
       "      <th>refundable_support</th>\n",
       "      <th>nonrefundable_support</th>\n",
       "      <th>budget</th>\n",
       "      <th>box_office</th>\n",
       "    </tr>\n",
       "  </thead>\n",
       "  <tbody>\n",
       "    <tr>\n",
       "      <td>count</td>\n",
       "      <td>7.486000e+03</td>\n",
       "      <td>3.320000e+02</td>\n",
       "      <td>3.320000e+02</td>\n",
       "      <td>3.320000e+02</td>\n",
       "      <td>3.158000e+03</td>\n",
       "    </tr>\n",
       "    <tr>\n",
       "      <td>mean</td>\n",
       "      <td>1.353268e+08</td>\n",
       "      <td>1.186446e+07</td>\n",
       "      <td>4.898099e+07</td>\n",
       "      <td>1.272297e+08</td>\n",
       "      <td>7.647870e+07</td>\n",
       "    </tr>\n",
       "    <tr>\n",
       "      <td>std</td>\n",
       "      <td>3.997137e+07</td>\n",
       "      <td>2.491656e+07</td>\n",
       "      <td>5.998012e+07</td>\n",
       "      <td>1.885883e+08</td>\n",
       "      <td>2.403531e+08</td>\n",
       "    </tr>\n",
       "    <tr>\n",
       "      <td>min</td>\n",
       "      <td>1.811096e+06</td>\n",
       "      <td>0.000000e+00</td>\n",
       "      <td>0.000000e+00</td>\n",
       "      <td>0.000000e+00</td>\n",
       "      <td>0.000000e+00</td>\n",
       "    </tr>\n",
       "    <tr>\n",
       "      <td>25%</td>\n",
       "      <td>1.120251e+08</td>\n",
       "      <td>0.000000e+00</td>\n",
       "      <td>2.500000e+07</td>\n",
       "      <td>4.200000e+07</td>\n",
       "      <td>8.623900e+04</td>\n",
       "    </tr>\n",
       "    <tr>\n",
       "      <td>50%</td>\n",
       "      <td>1.210155e+08</td>\n",
       "      <td>0.000000e+00</td>\n",
       "      <td>3.000000e+07</td>\n",
       "      <td>6.864992e+07</td>\n",
       "      <td>2.327988e+06</td>\n",
       "    </tr>\n",
       "    <tr>\n",
       "      <td>75%</td>\n",
       "      <td>1.240033e+08</td>\n",
       "      <td>1.500000e+07</td>\n",
       "      <td>4.037500e+07</td>\n",
       "      <td>1.419853e+08</td>\n",
       "      <td>2.397967e+07</td>\n",
       "    </tr>\n",
       "    <tr>\n",
       "      <td>max</td>\n",
       "      <td>1.110096e+09</td>\n",
       "      <td>1.800000e+08</td>\n",
       "      <td>4.000000e+08</td>\n",
       "      <td>2.305074e+09</td>\n",
       "      <td>3.073569e+09</td>\n",
       "    </tr>\n",
       "  </tbody>\n",
       "</table>\n",
       "</div>"
      ],
      "text/plain": [
       "           puNumber  refundable_support  nonrefundable_support        budget  \\\n",
       "count  7.486000e+03        3.320000e+02           3.320000e+02  3.320000e+02   \n",
       "mean   1.353268e+08        1.186446e+07           4.898099e+07  1.272297e+08   \n",
       "std    3.997137e+07        2.491656e+07           5.998012e+07  1.885883e+08   \n",
       "min    1.811096e+06        0.000000e+00           0.000000e+00  0.000000e+00   \n",
       "25%    1.120251e+08        0.000000e+00           2.500000e+07  4.200000e+07   \n",
       "50%    1.210155e+08        0.000000e+00           3.000000e+07  6.864992e+07   \n",
       "75%    1.240033e+08        1.500000e+07           4.037500e+07  1.419853e+08   \n",
       "max    1.110096e+09        1.800000e+08           4.000000e+08  2.305074e+09   \n",
       "\n",
       "         box_office  \n",
       "count  3.158000e+03  \n",
       "mean   7.647870e+07  \n",
       "std    2.403531e+08  \n",
       "min    0.000000e+00  \n",
       "25%    8.623900e+04  \n",
       "50%    2.327988e+06  \n",
       "75%    2.397967e+07  \n",
       "max    3.073569e+09  "
      ]
     },
     "execution_count": 3,
     "metadata": {},
     "output_type": "execute_result"
    }
   ],
   "source": [
    "df.describe()"
   ]
  },
  {
   "cell_type": "code",
   "execution_count": 4,
   "metadata": {},
   "outputs": [
    {
     "data": {
      "text/plain": [
       "['title',\n",
       " 'puNumber',\n",
       " 'show_start_date',\n",
       " 'type',\n",
       " 'film_studio',\n",
       " 'production_country',\n",
       " 'director',\n",
       " 'producer',\n",
       " 'age_restriction',\n",
       " 'refundable_support',\n",
       " 'nonrefundable_support',\n",
       " 'budget',\n",
       " 'financing_source',\n",
       " 'ratings',\n",
       " 'genres',\n",
       " 'box_office']"
      ]
     },
     "execution_count": 4,
     "metadata": {},
     "output_type": "execute_result"
    }
   ],
   "source": [
    "df.columns.tolist()"
   ]
  },
  {
   "cell_type": "markdown",
   "metadata": {
    "id": "KLDGpPG0gFyM"
   },
   "source": [
    "### Шаг 2. Предобработка данных"
   ]
  },
  {
   "cell_type": "markdown",
   "metadata": {
    "id": "ssWwKXsxgFyO"
   },
   "source": [
    "#### Шаг 2.1. Проверьте типы данных\n",
    "\n",
    "- Проверьте типы данных в датафрейме и преобразуйте их там, где это необходимо."
   ]
  },
  {
   "cell_type": "code",
   "execution_count": 5,
   "metadata": {
    "scrolled": true
   },
   "outputs": [
    {
     "data": {
      "text/plain": [
       "title                     object\n",
       "puNumber                   int64\n",
       "show_start_date           object\n",
       "type                      object\n",
       "film_studio               object\n",
       "production_country        object\n",
       "director                  object\n",
       "producer                  object\n",
       "age_restriction           object\n",
       "refundable_support       float64\n",
       "nonrefundable_support    float64\n",
       "budget                   float64\n",
       "financing_source          object\n",
       "ratings                   object\n",
       "genres                    object\n",
       "box_office               float64\n",
       "dtype: object"
      ]
     },
     "execution_count": 5,
     "metadata": {},
     "output_type": "execute_result"
    }
   ],
   "source": [
    "df.dtypes"
   ]
  },
  {
   "cell_type": "code",
   "execution_count": 6,
   "metadata": {},
   "outputs": [
    {
     "data": {
      "text/plain": [
       "array(['7.2', '6.6', '6.8', '7.7', '8.3', '8.0', '7.8', '8.1', '7.1',\n",
       "       '6.0', '7.4', '5.8', '8.7', '6.3', '6.9', '5.0', '4.3', '7.3',\n",
       "       '7.0', '6.4', nan, '8.2', '7.5', '6.7', '7.9', '5.9', '6.2', '5.6',\n",
       "       '6.5', '2.4', '7.6', '6.1', '8.6', '8.5', '8.8', '5.5', '5.1',\n",
       "       '5.7', '5.4', '99%', '4.4', '4.5', '5.3', '4.1', '8.4', '2.6',\n",
       "       '3.8', '4.6', '4.8', '4.0', '3.0', '1.6', '4.2', '5.2', '4.7',\n",
       "       '4.9', '3.9', '2.7', '3.3', '2.9', '28%', '3.7', '1.4', '3.1',\n",
       "       '97%', '3.5', '3.2', '2.8', '1.5', '2.1', '2.5', '9.2', '3.4',\n",
       "       '1.1', '3.6', '83%', '64%', '91%', '94%', '62%', '79%', '90%',\n",
       "       '19%', '88%', '1.0', '89%', '1.3', '1.9', '1.8', '1.2', '1.7',\n",
       "       '9.0', '98%', '8.9', '9.1'], dtype=object)"
      ]
     },
     "execution_count": 6,
     "metadata": {},
     "output_type": "execute_result"
    }
   ],
   "source": [
    "df['ratings'].unique()\n",
    "#В столбце ratings - встречаются значения \"91%\", вместо типового \"7.2\" - это явно ошибка заполнения данных в разных форматах. К тому же столбец типа object а не float. \n"
   ]
  },
  {
   "cell_type": "code",
   "execution_count": 7,
   "metadata": {},
   "outputs": [
    {
     "data": {
      "text/html": [
       "<div>\n",
       "<style scoped>\n",
       "    .dataframe tbody tr th:only-of-type {\n",
       "        vertical-align: middle;\n",
       "    }\n",
       "\n",
       "    .dataframe tbody tr th {\n",
       "        vertical-align: top;\n",
       "    }\n",
       "\n",
       "    .dataframe thead th {\n",
       "        text-align: right;\n",
       "    }\n",
       "</style>\n",
       "<table border=\"1\" class=\"dataframe\">\n",
       "  <thead>\n",
       "    <tr style=\"text-align: right;\">\n",
       "      <th></th>\n",
       "      <th>title</th>\n",
       "      <th>puNumber</th>\n",
       "      <th>show_start_date</th>\n",
       "      <th>type</th>\n",
       "      <th>film_studio</th>\n",
       "      <th>production_country</th>\n",
       "      <th>director</th>\n",
       "      <th>producer</th>\n",
       "      <th>age_restriction</th>\n",
       "      <th>refundable_support</th>\n",
       "      <th>nonrefundable_support</th>\n",
       "      <th>budget</th>\n",
       "      <th>financing_source</th>\n",
       "      <th>ratings</th>\n",
       "      <th>genres</th>\n",
       "      <th>box_office</th>\n",
       "    </tr>\n",
       "  </thead>\n",
       "  <tbody>\n",
       "    <tr>\n",
       "      <td>43</td>\n",
       "      <td>Мемуары гейши (по роману Артура Голдена)</td>\n",
       "      <td>121000606</td>\n",
       "      <td>2012-12-14T12:00:00.000Z</td>\n",
       "      <td>Художественный</td>\n",
       "      <td>Коламбия Пикчерз Корпорейшн, ДримУоркс ЭсКейДж...</td>\n",
       "      <td>США</td>\n",
       "      <td>Роб Маршалл</td>\n",
       "      <td>Стивен Спилберг, Люси Фишер, Дуглас Уик, Джон ...</td>\n",
       "      <td>«12+» - для детей старше 12 лет</td>\n",
       "      <td>NaN</td>\n",
       "      <td>NaN</td>\n",
       "      <td>NaN</td>\n",
       "      <td>NaN</td>\n",
       "      <td>NaN</td>\n",
       "      <td>NaN</td>\n",
       "      <td>NaN</td>\n",
       "    </tr>\n",
       "    <tr>\n",
       "      <td>150</td>\n",
       "      <td>Жди меня</td>\n",
       "      <td>111013615</td>\n",
       "      <td>2015-08-25T12:00:00.000Z</td>\n",
       "      <td>Художественный</td>\n",
       "      <td>Киностудия \"Мосфильм\"</td>\n",
       "      <td>СССР</td>\n",
       "      <td>А.Столпер, Б.Иванов</td>\n",
       "      <td>NaN</td>\n",
       "      <td>«6+» - для детей старше 6 лет</td>\n",
       "      <td>NaN</td>\n",
       "      <td>NaN</td>\n",
       "      <td>NaN</td>\n",
       "      <td>NaN</td>\n",
       "      <td>NaN</td>\n",
       "      <td>NaN</td>\n",
       "      <td>NaN</td>\n",
       "    </tr>\n",
       "    <tr>\n",
       "      <td>154</td>\n",
       "      <td>Дом из песка и тумана (по книге Андре Дюбуи III)</td>\n",
       "      <td>221037813</td>\n",
       "      <td>2013-10-25T12:00:00.000Z</td>\n",
       "      <td>Художественный</td>\n",
       "      <td>Кобальт Пикчерз</td>\n",
       "      <td>США</td>\n",
       "      <td>Вадим Перельман</td>\n",
       "      <td>Майкл Лондон</td>\n",
       "      <td>«16+» - для детей старше 16 лет</td>\n",
       "      <td>NaN</td>\n",
       "      <td>NaN</td>\n",
       "      <td>NaN</td>\n",
       "      <td>NaN</td>\n",
       "      <td>NaN</td>\n",
       "      <td>NaN</td>\n",
       "      <td>NaN</td>\n",
       "    </tr>\n",
       "    <tr>\n",
       "      <td>159</td>\n",
       "      <td>Жемчужная девушка</td>\n",
       "      <td>224011014</td>\n",
       "      <td>2014-08-28T12:00:00.000Z</td>\n",
       "      <td>Художественный</td>\n",
       "      <td>Чешское телевидение,Студия \"Три брата\" агентск...</td>\n",
       "      <td>Чехия</td>\n",
       "      <td>Владимир Дрга</td>\n",
       "      <td>NaN</td>\n",
       "      <td>«0+» - для любой зрительской аудитории</td>\n",
       "      <td>NaN</td>\n",
       "      <td>NaN</td>\n",
       "      <td>NaN</td>\n",
       "      <td>NaN</td>\n",
       "      <td>NaN</td>\n",
       "      <td>NaN</td>\n",
       "      <td>NaN</td>\n",
       "    </tr>\n",
       "    <tr>\n",
       "      <td>227</td>\n",
       "      <td>Полустанок</td>\n",
       "      <td>111026714</td>\n",
       "      <td>2014-12-24T12:00:00.000Z</td>\n",
       "      <td>Художественный</td>\n",
       "      <td>Киностудия \"Мосфильм\"</td>\n",
       "      <td>СССР</td>\n",
       "      <td>Б.Барнет</td>\n",
       "      <td>NaN</td>\n",
       "      <td>«12+» - для детей старше 12 лет</td>\n",
       "      <td>NaN</td>\n",
       "      <td>NaN</td>\n",
       "      <td>NaN</td>\n",
       "      <td>NaN</td>\n",
       "      <td>NaN</td>\n",
       "      <td>NaN</td>\n",
       "      <td>NaN</td>\n",
       "    </tr>\n",
       "    <tr>\n",
       "      <td>...</td>\n",
       "      <td>...</td>\n",
       "      <td>...</td>\n",
       "      <td>...</td>\n",
       "      <td>...</td>\n",
       "      <td>...</td>\n",
       "      <td>...</td>\n",
       "      <td>...</td>\n",
       "      <td>...</td>\n",
       "      <td>...</td>\n",
       "      <td>...</td>\n",
       "      <td>...</td>\n",
       "      <td>...</td>\n",
       "      <td>...</td>\n",
       "      <td>...</td>\n",
       "      <td>...</td>\n",
       "      <td>...</td>\n",
       "    </tr>\n",
       "    <tr>\n",
       "      <td>7479</td>\n",
       "      <td>Эколав</td>\n",
       "      <td>111023219</td>\n",
       "      <td>2019-12-26T12:00:00.000Z</td>\n",
       "      <td>Художественный</td>\n",
       "      <td>ВГИК</td>\n",
       "      <td>Россия</td>\n",
       "      <td>Д.Григорьев</td>\n",
       "      <td>ВГИК</td>\n",
       "      <td>«18+» - запрещено для детей</td>\n",
       "      <td>NaN</td>\n",
       "      <td>NaN</td>\n",
       "      <td>NaN</td>\n",
       "      <td>NaN</td>\n",
       "      <td>NaN</td>\n",
       "      <td>NaN</td>\n",
       "      <td>NaN</td>\n",
       "    </tr>\n",
       "    <tr>\n",
       "      <td>7480</td>\n",
       "      <td>Акрам Хан: Родом из Карри Хауса</td>\n",
       "      <td>126007919</td>\n",
       "      <td>2019-12-23T12:00:00.000Z</td>\n",
       "      <td>Прочие</td>\n",
       "      <td>Свон Филмз</td>\n",
       "      <td>Великобритания</td>\n",
       "      <td>Ник Пойнц</td>\n",
       "      <td>Поппи Бегум, Ник Пойнц</td>\n",
       "      <td>«12+» - для детей старше 12 лет</td>\n",
       "      <td>NaN</td>\n",
       "      <td>NaN</td>\n",
       "      <td>NaN</td>\n",
       "      <td>NaN</td>\n",
       "      <td>NaN</td>\n",
       "      <td>NaN</td>\n",
       "      <td>219569.0</td>\n",
       "    </tr>\n",
       "    <tr>\n",
       "      <td>7481</td>\n",
       "      <td>Сад художника: Американский импрессионизм</td>\n",
       "      <td>126008019</td>\n",
       "      <td>2019-12-23T12:00:00.000Z</td>\n",
       "      <td>Прочие</td>\n",
       "      <td>Севен Артс Продакшнз</td>\n",
       "      <td>Великобритания</td>\n",
       "      <td>Фил Грабски</td>\n",
       "      <td>Фил Грабски</td>\n",
       "      <td>«12+» - для детей старше 12 лет</td>\n",
       "      <td>NaN</td>\n",
       "      <td>NaN</td>\n",
       "      <td>NaN</td>\n",
       "      <td>NaN</td>\n",
       "      <td>NaN</td>\n",
       "      <td>NaN</td>\n",
       "      <td>NaN</td>\n",
       "    </tr>\n",
       "    <tr>\n",
       "      <td>7483</td>\n",
       "      <td>Щенячий патруль: Скорей спешим на помощь!</td>\n",
       "      <td>124010819</td>\n",
       "      <td>2019-12-28T12:00:00.000Z</td>\n",
       "      <td>Художественный</td>\n",
       "      <td>Никелодеон Анимейшн Студиос, Спин Мастер</td>\n",
       "      <td>США - Канада</td>\n",
       "      <td>Чарльз Е.Бастьен</td>\n",
       "      <td>Дженнифер Додж</td>\n",
       "      <td>«0+» - для любой зрительской аудитории</td>\n",
       "      <td>NaN</td>\n",
       "      <td>NaN</td>\n",
       "      <td>NaN</td>\n",
       "      <td>NaN</td>\n",
       "      <td>NaN</td>\n",
       "      <td>NaN</td>\n",
       "      <td>NaN</td>\n",
       "    </tr>\n",
       "    <tr>\n",
       "      <td>7484</td>\n",
       "      <td>Машины песенки. Серия \"Испанские мотивы\"</td>\n",
       "      <td>124010619</td>\n",
       "      <td>2019-12-30T12:00:00.000Z</td>\n",
       "      <td>Анимационный</td>\n",
       "      <td>Анимаккорд Лтд., ООО Студия \"АНИМАККОРД\"</td>\n",
       "      <td>Республика Кипр, Россия</td>\n",
       "      <td>А.Беляев</td>\n",
       "      <td>Д.Ловейко</td>\n",
       "      <td>«0+» - для любой зрительской аудитории</td>\n",
       "      <td>NaN</td>\n",
       "      <td>NaN</td>\n",
       "      <td>NaN</td>\n",
       "      <td>NaN</td>\n",
       "      <td>NaN</td>\n",
       "      <td>NaN</td>\n",
       "      <td>NaN</td>\n",
       "    </tr>\n",
       "  </tbody>\n",
       "</table>\n",
       "<p>967 rows × 16 columns</p>\n",
       "</div>"
      ],
      "text/plain": [
       "                                                 title   puNumber  \\\n",
       "43            Мемуары гейши (по роману Артура Голдена)  121000606   \n",
       "150                                           Жди меня  111013615   \n",
       "154   Дом из песка и тумана (по книге Андре Дюбуи III)  221037813   \n",
       "159                                  Жемчужная девушка  224011014   \n",
       "227                                         Полустанок  111026714   \n",
       "...                                                ...        ...   \n",
       "7479                                            Эколав  111023219   \n",
       "7480                   Акрам Хан: Родом из Карри Хауса  126007919   \n",
       "7481         Сад художника: Американский импрессионизм  126008019   \n",
       "7483         Щенячий патруль: Скорей спешим на помощь!  124010819   \n",
       "7484          Машины песенки. Серия \"Испанские мотивы\"  124010619   \n",
       "\n",
       "               show_start_date             type  \\\n",
       "43    2012-12-14T12:00:00.000Z   Художественный   \n",
       "150   2015-08-25T12:00:00.000Z   Художественный   \n",
       "154   2013-10-25T12:00:00.000Z   Художественный   \n",
       "159   2014-08-28T12:00:00.000Z   Художественный   \n",
       "227   2014-12-24T12:00:00.000Z   Художественный   \n",
       "...                        ...              ...   \n",
       "7479  2019-12-26T12:00:00.000Z   Художественный   \n",
       "7480  2019-12-23T12:00:00.000Z           Прочие   \n",
       "7481  2019-12-23T12:00:00.000Z           Прочие   \n",
       "7483  2019-12-28T12:00:00.000Z   Художественный   \n",
       "7484  2019-12-30T12:00:00.000Z     Анимационный   \n",
       "\n",
       "                                            film_studio  \\\n",
       "43    Коламбия Пикчерз Корпорейшн, ДримУоркс ЭсКейДж...   \n",
       "150                               Киностудия \"Мосфильм\"   \n",
       "154                                     Кобальт Пикчерз   \n",
       "159   Чешское телевидение,Студия \"Три брата\" агентск...   \n",
       "227                               Киностудия \"Мосфильм\"   \n",
       "...                                                 ...   \n",
       "7479                                               ВГИК   \n",
       "7480                                         Свон Филмз   \n",
       "7481                               Севен Артс Продакшнз   \n",
       "7483           Никелодеон Анимейшн Студиос, Спин Мастер   \n",
       "7484           Анимаккорд Лтд., ООО Студия \"АНИМАККОРД\"   \n",
       "\n",
       "           production_country             director  \\\n",
       "43                        США          Роб Маршалл   \n",
       "150                      СССР  А.Столпер, Б.Иванов   \n",
       "154                       США      Вадим Перельман   \n",
       "159                     Чехия        Владимир Дрга   \n",
       "227                      СССР             Б.Барнет   \n",
       "...                       ...                  ...   \n",
       "7479                   Россия          Д.Григорьев   \n",
       "7480           Великобритания            Ник Пойнц   \n",
       "7481           Великобритания          Фил Грабски   \n",
       "7483             США - Канада     Чарльз Е.Бастьен   \n",
       "7484  Республика Кипр, Россия             А.Беляев   \n",
       "\n",
       "                                               producer  \\\n",
       "43    Стивен Спилберг, Люси Фишер, Дуглас Уик, Джон ...   \n",
       "150                                                 NaN   \n",
       "154                                        Майкл Лондон   \n",
       "159                                                 NaN   \n",
       "227                                                 NaN   \n",
       "...                                                 ...   \n",
       "7479                                               ВГИК   \n",
       "7480                             Поппи Бегум, Ник Пойнц   \n",
       "7481                                        Фил Грабски   \n",
       "7483                                     Дженнифер Додж   \n",
       "7484                                          Д.Ловейко   \n",
       "\n",
       "                             age_restriction  refundable_support  \\\n",
       "43           «12+» - для детей старше 12 лет                 NaN   \n",
       "150            «6+» - для детей старше 6 лет                 NaN   \n",
       "154          «16+» - для детей старше 16 лет                 NaN   \n",
       "159   «0+» - для любой зрительской аудитории                 NaN   \n",
       "227          «12+» - для детей старше 12 лет                 NaN   \n",
       "...                                      ...                 ...   \n",
       "7479             «18+» - запрещено для детей                 NaN   \n",
       "7480         «12+» - для детей старше 12 лет                 NaN   \n",
       "7481         «12+» - для детей старше 12 лет                 NaN   \n",
       "7483  «0+» - для любой зрительской аудитории                 NaN   \n",
       "7484  «0+» - для любой зрительской аудитории                 NaN   \n",
       "\n",
       "      nonrefundable_support  budget financing_source ratings genres  \\\n",
       "43                      NaN     NaN              NaN     NaN    NaN   \n",
       "150                     NaN     NaN              NaN     NaN    NaN   \n",
       "154                     NaN     NaN              NaN     NaN    NaN   \n",
       "159                     NaN     NaN              NaN     NaN    NaN   \n",
       "227                     NaN     NaN              NaN     NaN    NaN   \n",
       "...                     ...     ...              ...     ...    ...   \n",
       "7479                    NaN     NaN              NaN     NaN    NaN   \n",
       "7480                    NaN     NaN              NaN     NaN    NaN   \n",
       "7481                    NaN     NaN              NaN     NaN    NaN   \n",
       "7483                    NaN     NaN              NaN     NaN    NaN   \n",
       "7484                    NaN     NaN              NaN     NaN    NaN   \n",
       "\n",
       "      box_office  \n",
       "43           NaN  \n",
       "150          NaN  \n",
       "154          NaN  \n",
       "159          NaN  \n",
       "227          NaN  \n",
       "...          ...  \n",
       "7479         NaN  \n",
       "7480    219569.0  \n",
       "7481         NaN  \n",
       "7483         NaN  \n",
       "7484         NaN  \n",
       "\n",
       "[967 rows x 16 columns]"
      ]
     },
     "metadata": {},
     "output_type": "display_data"
    }
   ],
   "source": [
    "#Посмотрим что за строки, в которых пропущены значения рейтинга \n",
    "display(df[df['ratings'].isna()])\n",
    "#между стркоами нет ничего общего, рейтинг нам не известен, но мы могли бы поменять на среднее/медианное значение по столбцу, однако 967 строк это почти 13% данных, они могут существенно повлиять на общую картину, поэтому оставим пока что как есть. "
   ]
  },
  {
   "cell_type": "code",
   "execution_count": 8,
   "metadata": {},
   "outputs": [],
   "source": [
    "#старый вариант замены значений на 0.0х\n",
    "#df['ratings'] = (pd.to_numeric(df['ratings'].str[:-1])\n",
    "                            #.div(100)\n",
    "                           # .mask(df['ratings'] == '%', 0).astype('float'))\n",
    "#df['ratings']"
   ]
  },
  {
   "cell_type": "code",
   "execution_count": 9,
   "metadata": {},
   "outputs": [
    {
     "data": {
      "text/plain": [
       "array([7.2, 6.6, 6.8, 7.7, 8.3, 8. , 7.8, 8.1, 7.1, 6. , 7.4, 5.8, 8.7,\n",
       "       6.3, 6.9, 5. , 4.3, 7.3, 7. , 6.4, nan, 8.2, 7.5, 6.7, 7.9, 5.9,\n",
       "       6.2, 5.6, 6.5, 2.4, 7.6, 6.1, 8.6, 8.5, 8.8, 5.5, 5.1, 5.7, 5.4,\n",
       "       9.9, 4.4, 4.5, 5.3, 4.1, 8.4, 2.6, 3.8, 4.6, 4.8, 4. , 3. , 1.6,\n",
       "       4.2, 5.2, 4.7, 4.9, 3.9, 2.7, 3.3, 2.9, 2.8, 3.7, 1.4, 3.1, 9.7,\n",
       "       3.5, 3.2, 1.5, 2.1, 2.5, 9.2, 3.4, 1.1, 3.6, 9.1, 9.4, 9. , 1.9,\n",
       "       1. , 8.9, 1.3, 1.8, 1.2, 1.7, 9.8])"
      ]
     },
     "execution_count": 9,
     "metadata": {},
     "output_type": "execute_result"
    }
   ],
   "source": [
    "#новый вариант замены значений\n",
    "def parseFloat(str):\n",
    "    try:\n",
    "        return float(str)\n",
    "    except:\n",
    "        str = str.strip()\n",
    "        if str.endswith(\"%\"):\n",
    "            return float(str.strip(\"%\").strip()) / 10\n",
    "        raise Exception(\"Don't know how to parse %s\" % str)\n",
    "\n",
    "df['ratings'] = df['ratings'].apply(parseFloat)\n",
    "df['ratings'].unique()"
   ]
  },
  {
   "cell_type": "code",
   "execution_count": 10,
   "metadata": {},
   "outputs": [
    {
     "data": {
      "text/plain": [
       "dtype('float64')"
      ]
     },
     "execution_count": 10,
     "metadata": {},
     "output_type": "execute_result"
    }
   ],
   "source": [
    "df['ratings'].dtype"
   ]
  },
  {
   "cell_type": "markdown",
   "metadata": {},
   "source": [
    "<div class=\"alert alert-danger\">\n",
    "<b>Комментарий ревьюера: </b> \n",
    "    \n",
    "Хорошо, что ты заметил эти проценты в рейтинге, но не стоит из-за них сбивать всю рейтинговую шкалу. Она должна остаться от 0 до 10, и поработать нужно только над рейтингом с процентами.\n",
    "</div>"
   ]
  },
  {
   "cell_type": "markdown",
   "metadata": {},
   "source": [
    "<div class=\"alert alert-info\">\n",
    "<b>Комментарий студента:</b> Я очень долго искал каим образом мне приравнять все значения. Другого способа на тот момент я не нашел(. Сейчас попробовал другим способом решить то же самое - нашел похожую функцию на stuck overflow, только изменил деление. Однако осталась проблема с отсутствующими значениями после плавающей точки - напрмиер \"5. \" - как такое решать?. </div>"
   ]
  },
  {
   "cell_type": "markdown",
   "metadata": {},
   "source": [
    "<div class=\"alert alert-success\">\n",
    "<b>Комментарий ревьюера v2: </b> \n",
    "    \n",
    "Это вполне нормально, просто в данной записи, если после запятой идут нули, они просто не пишутся, то есть `5` - это тоже самое, что `5.  `.\n",
    "    \n",
    "Молодец, что пользуешься stack overflow. Невозможно все уметь, так что гугление - это важный навык.\n",
    "</div>"
   ]
  },
  {
   "cell_type": "code",
   "execution_count": 11,
   "metadata": {
    "scrolled": true
   },
   "outputs": [
    {
     "data": {
      "text/html": [
       "<div>\n",
       "<style scoped>\n",
       "    .dataframe tbody tr th:only-of-type {\n",
       "        vertical-align: middle;\n",
       "    }\n",
       "\n",
       "    .dataframe tbody tr th {\n",
       "        vertical-align: top;\n",
       "    }\n",
       "\n",
       "    .dataframe thead th {\n",
       "        text-align: right;\n",
       "    }\n",
       "</style>\n",
       "<table border=\"1\" class=\"dataframe\">\n",
       "  <thead>\n",
       "    <tr style=\"text-align: right;\">\n",
       "      <th></th>\n",
       "      <th>title</th>\n",
       "      <th>puNumber</th>\n",
       "      <th>show_start_date</th>\n",
       "      <th>type</th>\n",
       "      <th>film_studio</th>\n",
       "      <th>production_country</th>\n",
       "      <th>director</th>\n",
       "      <th>producer</th>\n",
       "      <th>age_restriction</th>\n",
       "      <th>refundable_support</th>\n",
       "      <th>nonrefundable_support</th>\n",
       "      <th>budget</th>\n",
       "      <th>financing_source</th>\n",
       "      <th>ratings</th>\n",
       "      <th>genres</th>\n",
       "      <th>box_office</th>\n",
       "    </tr>\n",
       "  </thead>\n",
       "  <tbody>\n",
       "    <tr>\n",
       "      <td>0</td>\n",
       "      <td>Открытый простор</td>\n",
       "      <td>221048915</td>\n",
       "      <td>2015-11-27</td>\n",
       "      <td>Художественный</td>\n",
       "      <td>Тачстоун Пикчерз, Кобальт Пикчерз, Бикон Пикче...</td>\n",
       "      <td>США</td>\n",
       "      <td>Кевин Костнер</td>\n",
       "      <td>Дэвид Валдес, Кевин Костнер, Джейк Эбертс</td>\n",
       "      <td>«18+» - запрещено для детей</td>\n",
       "      <td>NaN</td>\n",
       "      <td>NaN</td>\n",
       "      <td>NaN</td>\n",
       "      <td>NaN</td>\n",
       "      <td>7.2</td>\n",
       "      <td>боевик,драма,мелодрама</td>\n",
       "      <td>NaN</td>\n",
       "    </tr>\n",
       "    <tr>\n",
       "      <td>1</td>\n",
       "      <td>Особо важное задание</td>\n",
       "      <td>111013716</td>\n",
       "      <td>2016-09-13</td>\n",
       "      <td>Художественный</td>\n",
       "      <td>Киностудия \"Мосфильм\"</td>\n",
       "      <td>СССР</td>\n",
       "      <td>Е.Матвеев</td>\n",
       "      <td>NaN</td>\n",
       "      <td>«6+» - для детей старше 6 лет</td>\n",
       "      <td>NaN</td>\n",
       "      <td>NaN</td>\n",
       "      <td>NaN</td>\n",
       "      <td>NaN</td>\n",
       "      <td>6.6</td>\n",
       "      <td>драма,военный</td>\n",
       "      <td>NaN</td>\n",
       "    </tr>\n",
       "  </tbody>\n",
       "</table>\n",
       "</div>"
      ],
      "text/plain": [
       "                  title   puNumber show_start_date            type  \\\n",
       "0      Открытый простор  221048915      2015-11-27  Художественный   \n",
       "1  Особо важное задание  111013716      2016-09-13  Художественный   \n",
       "\n",
       "                                         film_studio production_country  \\\n",
       "0  Тачстоун Пикчерз, Кобальт Пикчерз, Бикон Пикче...                США   \n",
       "1                              Киностудия \"Мосфильм\"               СССР   \n",
       "\n",
       "        director                                   producer  \\\n",
       "0  Кевин Костнер  Дэвид Валдес, Кевин Костнер, Джейк Эбертс   \n",
       "1      Е.Матвеев                                        NaN   \n",
       "\n",
       "                 age_restriction  refundable_support  nonrefundable_support  \\\n",
       "0    «18+» - запрещено для детей                 NaN                    NaN   \n",
       "1  «6+» - для детей старше 6 лет                 NaN                    NaN   \n",
       "\n",
       "   budget financing_source  ratings                  genres  box_office  \n",
       "0     NaN              NaN      7.2  боевик,драма,мелодрама         NaN  \n",
       "1     NaN              NaN      6.6           драма,военный         NaN  "
      ]
     },
     "execution_count": 11,
     "metadata": {},
     "output_type": "execute_result"
    }
   ],
   "source": [
    "#2015-11-27T12:00:00.000Z - преобразуем в простую форму\n",
    "df['show_start_date'] = pd.to_datetime(df['show_start_date'], format='%Y-%m-%dT%I:%M:%S.000Z')\n",
    "df.head(2)"
   ]
  },
  {
   "cell_type": "markdown",
   "metadata": {},
   "source": [
    "<div class=\"alert alert-success\">\n",
    "<b>Комментарий ревьюера: </b> \n",
    "    \n",
    "Отлично.\n",
    "</div>"
   ]
  },
  {
   "cell_type": "markdown",
   "metadata": {
    "id": "i0MOLbF-gFyP"
   },
   "source": [
    "#### Шаг 2.2. Изучите пропуски в датафрейме\n",
    "\n",
    "- Объясните, почему заполнили пропуски определённым образом или почему не стали этого делать."
   ]
  },
  {
   "cell_type": "code",
   "execution_count": 12,
   "metadata": {},
   "outputs": [
    {
     "name": "stdout",
     "output_type": "stream",
     "text": [
      "title                     0.000000\n",
      "puNumber                  0.000000\n",
      "show_start_date           0.000000\n",
      "type                      0.000000\n",
      "film_studio               0.240449\n",
      "production_country        0.026717\n",
      "director                  0.120224\n",
      "producer                  7.587497\n",
      "age_restriction           0.000000\n",
      "refundable_support       95.565055\n",
      "nonrefundable_support    95.565055\n",
      "budget                   95.565055\n",
      "financing_source         95.565055\n",
      "ratings                  12.917446\n",
      "genres                   13.037670\n",
      "box_office               57.814587\n",
      "dtype: float64\n"
     ]
    }
   ],
   "source": [
    "print(df.isna().sum()/len(df)*100)"
   ]
  },
  {
   "cell_type": "markdown",
   "metadata": {},
   "source": [
    "Для полноценного анализа данных нам стоило бы преобразовать эти столбцы следующим образом:\n",
    "- show_start_date - избавимся от времени в часах и минутах, оно нам не нужно в рамках исследования\n",
    "- ratings - перобразуем в числовое значение\n",
    "- refundable_support - переведем в целочисленное\n",
    "- nonrefundable_support - переведем в целочисленное\n",
    "- budget - переведем в целочисленное\n",
    "- box_office - переведем в целочисленное\n",
    "\n",
    "Однако, в некоторых столбцах отсутствуют значения - мы не знаем природу пропусков. \n"
   ]
  },
  {
   "cell_type": "markdown",
   "metadata": {},
   "source": [
    "<div class=\"alert alert-success\">\n",
    "<b>Комментарий ревьюера: </b> \n",
    "    \n",
    "Хорошо, что посчитал процент пропусков и расписал планы на каждый столбец.\n",
    "</div>"
   ]
  },
  {
   "cell_type": "code",
   "execution_count": 13,
   "metadata": {
    "id": "8MJD_lkngFyP"
   },
   "outputs": [
    {
     "name": "stdout",
     "output_type": "stream",
     "text": [
      "<class 'pandas.core.frame.DataFrame'>\n",
      "Int64Index: 7486 entries, 0 to 7485\n",
      "Data columns (total 16 columns):\n",
      "title                    7486 non-null object\n",
      "puNumber                 7486 non-null int64\n",
      "show_start_date          7486 non-null datetime64[ns]\n",
      "type                     7486 non-null object\n",
      "film_studio              7468 non-null object\n",
      "production_country       7484 non-null object\n",
      "director                 7477 non-null object\n",
      "producer                 6918 non-null object\n",
      "age_restriction          7486 non-null object\n",
      "refundable_support       332 non-null float64\n",
      "nonrefundable_support    332 non-null float64\n",
      "budget                   332 non-null float64\n",
      "financing_source         332 non-null object\n",
      "ratings                  6519 non-null float64\n",
      "genres                   6510 non-null object\n",
      "box_office               3158 non-null float64\n",
      "dtypes: datetime64[ns](1), float64(5), int64(1), object(9)\n",
      "memory usage: 994.2+ KB\n"
     ]
    }
   ],
   "source": [
    "#Можно было бы заполнить пропуски в следующих столбцах на ноль или -1, но это не поможет нашему исследованию, а только запутает. Лучше отработать с теми значениями, которые есть.\n",
    "#df['refundable_support'] = df['refundable_support'].fillna(0).astype(int)\n",
    "#df['nonrefundable_support'] = df['nonrefundable_support'].fillna(0).astype(int)\n",
    "#df['budget'] = df['budget'].fillna(0).astype(int)\n",
    "#df['box_office'] = df['box_office'].fillna(-1).astype(int) #в сборах в рублях укажем отрицательные значения, чтобы пр идальнейшем анализе можно было фильтром пользоваться\n",
    "df.info()"
   ]
  },
  {
   "cell_type": "markdown",
   "metadata": {},
   "source": [
    "<div class=\"alert alert-danger\">\n",
    "<b>Комментарий ревьюера v2: </b> \n",
    "    \n",
    "Остожно, не стоит заполнять пропуски заглушкой для сборов. Отстутствие информации по сборам - это абсолютно нормально.\n",
    "</div>"
   ]
  },
  {
   "cell_type": "markdown",
   "metadata": {},
   "source": [
    "<div class=\"alert alert-info\">\n",
    "<b>Комментарий студента:</b> По итогу убрал здесь заполнение заглушкой -1 </div>"
   ]
  },
  {
   "cell_type": "markdown",
   "metadata": {},
   "source": [
    "<div class=\"alert alert-success\">\n",
    "<b>Комментарий ревьюера v3: </b> \n",
    "    \n",
    "Отлично.\n",
    "</div>"
   ]
  },
  {
   "cell_type": "markdown",
   "metadata": {},
   "source": [
    "<div class=\"alert alert-success\">\n",
    "<b>Комментарий ревьюера: </b> \n",
    "    \n",
    "Согласна с тем, что ты не стал заполнять нулями пропуски, так как это может нарушить логику исследования. В данных столбцах присутствуют нули, и мы бы только смешали имеющиеся нули с пропусками. Имеющийся ноль означает, что денег не было, а пропуск означает, что мы не знаем, были ли деньги.\n",
    "</div>"
   ]
  },
  {
   "cell_type": "code",
   "execution_count": 14,
   "metadata": {},
   "outputs": [
    {
     "data": {
      "text/plain": [
       "array(['боевик,драма,мелодрама', 'драма,военный',\n",
       "       'фантастика,боевик,триллер', 'драма', 'мелодрама,комедия',\n",
       "       'мюзикл,мелодрама,комедия', 'комедия,криминал',\n",
       "       'боевик,триллер,детектив', 'боевик,драма,приключения',\n",
       "       'драма,спорт', 'триллер,драма,мелодрама', 'комедия,мелодрама',\n",
       "       'драма,мелодрама,комедия', 'драма,мелодрама', 'драма,история',\n",
       "       'драма,мелодрама,семейный', 'комедия,мелодрама,криминал',\n",
       "       'комедия', 'боевик,драма,криминал', 'драма,комедия',\n",
       "       'ужасы,фантастика,комедия', 'мультфильм,короткометражка,мелодрама',\n",
       "       'драма,криминал', 'мультфильм,фантастика,фэнтези',\n",
       "       'триллер,драма,криминал', 'драма,мелодрама,биография',\n",
       "       'драма,комедия,военный', 'фантастика,драма,детектив',\n",
       "       'мюзикл,семейный', 'unknown', 'военный,приключения,драма',\n",
       "       'документальный,драма', 'драма,биография,история',\n",
       "       'боевик,триллер,драма', 'фэнтези,боевик',\n",
       "       'боевик,комедия,криминал', 'мюзикл,комедия,детский',\n",
       "       'комедия,мелодрама,драма', 'мультфильм,фэнтези,комедия',\n",
       "       'комедия,история', 'мелодрама', 'драма,биография,музыка',\n",
       "       'фэнтези,драма,мелодрама', 'триллер,военный',\n",
       "       'драма,мелодрама,военный', 'мюзикл,драма,мелодрама',\n",
       "       'мюзикл,комедия', 'мультфильм,приключения,семейный',\n",
       "       'ужасы,триллер', 'боевик,драма,военный', 'драма,боевик',\n",
       "       'мультфильм,драма,комедия', 'триллер,криминал',\n",
       "       'военный,биография,драма', 'комедия,семейный', 'военный',\n",
       "       'драма,семейный,биография', 'фэнтези,приключения,семейный',\n",
       "       'драма,криминал,биография', 'ужасы,триллер,детектив',\n",
       "       'боевик,история,драма', 'ужасы,триллер,драма',\n",
       "       'драма,криминал,спорт', 'документальный,короткометражка',\n",
       "       'триллер,драма', 'криминал,детектив,приключения',\n",
       "       'драма,комедия,криминал', 'драма,комедия,вестерн',\n",
       "       'драма,мелодрама,детектив', 'мелодрама,биография',\n",
       "       'фэнтези,мелодрама,драма', 'драма,мелодрама,история',\n",
       "       'комедия,приключения,история', 'приключения', 'драма,семейный',\n",
       "       'криминал,детектив', 'мультфильм,короткометражка,ужасы',\n",
       "       'фантастика,триллер,драма', 'фэнтези,мелодрама,комедия',\n",
       "       'драма,биография', 'комедия,криминал,история',\n",
       "       'триллер,драма,детектив', 'фантастика,комедия,приключения',\n",
       "       'фэнтези,семейный', 'ужасы,фантастика,боевик',\n",
       "       'мелодрама,криминал', 'комедия,приключения,мелодрама',\n",
       "       'боевик,триллер,приключения', 'боевик,приключения',\n",
       "       'боевик,триллер,криминал', 'документальный,военный,история',\n",
       "       'драма,музыка', 'боевик,драма', 'приключения,боевик',\n",
       "       'драма,военный,биография', 'триллер,драма,приключения',\n",
       "       'аниме,мультфильм,фэнтези', 'триллер,детектив,драма',\n",
       "       'боевик,триллер,мелодрама', 'боевик,история',\n",
       "       'приключения,история', 'драма,комедия,приключения',\n",
       "       'фэнтези,комедия,приключения', 'драма,вестерн',\n",
       "       'документальный,музыка', 'мелодрама,драма',\n",
       "       'триллер,криминал,детектив', 'ужасы', 'боевик,комедия,приключения',\n",
       "       'мультфильм,фэнтези,боевик', 'боевик,фэнтези,драма',\n",
       "       'фэнтези,драма', 'фэнтези,боевик,комедия',\n",
       "       'приключения,детский,комедия', 'документальный',\n",
       "       'боевик,триллер,комедия', 'мелодрама,комедия,криминал',\n",
       "       'драма,детектив', 'мюзикл,ужасы,триллер', 'детектив,триллер,ужасы',\n",
       "       'ужасы,фэнтези', 'ужасы,фэнтези,триллер', 'мультфильм,драма',\n",
       "       'ужасы,боевик,фантастика', 'боевик', 'фантастика,боевик',\n",
       "       'мелодрама,комедия,приключения', 'триллер,детектив',\n",
       "       'мюзикл,мелодрама,фэнтези', 'криминал', 'триллер,комедия,криминал',\n",
       "       'боевик,приключения,триллер', 'триллер,драма,военный',\n",
       "       'комедия,семейный,музыка', 'комедия,фантастика,мелодрама',\n",
       "       'фантастика,триллер,криминал', 'комедия,драма', 'боевик,военный',\n",
       "       'ужасы,фантастика,триллер', 'фантастика,драма,мелодрама',\n",
       "       'фэнтези,драма,детектив', 'боевик,триллер', 'боевик,драма,история',\n",
       "       'мультфильм,мюзикл,фэнтези', 'для взрослых,драма,мелодрама',\n",
       "       'мультфильм,боевик,детектив', 'фантастика,мелодрама,боевик',\n",
       "       'ужасы,фантастика,детектив', 'фантастика,боевик,приключения',\n",
       "       'мелодрама,комедия,спорт', 'комедия,боевик,приключения',\n",
       "       'документальный,приключения', 'мультфильм,короткометражка,детский',\n",
       "       'комедия,приключения', 'ужасы,драма', 'ужасы,фэнтези,боевик',\n",
       "       'мультфильм,фэнтези,детский', 'мюзикл,боевик,драма',\n",
       "       'семейный,комедия,драма', 'концерт,музыка', 'фэнтези,боевик,драма',\n",
       "       'драма,комедия,музыка', 'фантастика,фэнтези,боевик',\n",
       "       'фэнтези,комедия,семейный', 'фэнтези,драма,комедия',\n",
       "       'мультфильм,мюзикл,драма', 'триллер', 'боевик,криминал,триллер',\n",
       "       'мультфильм,приключения,драма', 'мелодрама,музыка',\n",
       "       'документальный,музыка,концерт', 'мультфильм,семейный',\n",
       "       'мультфильм,комедия,приключения', 'мультфильм,комедия,семейный',\n",
       "       'фантастика,драма', 'фэнтези,боевик,приключения',\n",
       "       'мультфильм,приключения', 'драма,военный,история', 'история',\n",
       "       'драма,приключения,военный',\n",
       "       'документальный,короткометражка,семейный',\n",
       "       'мелодрама,история,триллер', 'ужасы,детектив',\n",
       "       'мюзикл,комедия,приключения', 'драма,спорт,биография',\n",
       "       'фантастика,боевик,комедия', 'фантастика,приключения,детектив',\n",
       "       'короткометражка,драма,военный', 'драма,мультфильм',\n",
       "       'приключения,семейный', 'детектив', 'триллер,приключения',\n",
       "       'аниме,мультфильм,боевик', 'драма,комедия,биография',\n",
       "       'драма,комедия,спорт', 'боевик,мелодрама,комедия',\n",
       "       'семейный,комедия', 'фэнтези,боевик,триллер',\n",
       "       'документальный,фэнтези,семейный', 'фантастика,фэнтези,драма',\n",
       "       'ужасы,комедия,фэнтези', 'документальный,биография,музыка',\n",
       "       'фантастика,боевик,фэнтези', 'ужасы,боевик,триллер',\n",
       "       'комедия,криминал,семейный', 'приключения,драма',\n",
       "       'криминал,драма,триллер', 'драма,детектив,криминал',\n",
       "       'фэнтези,приключения,комедия', 'комедия,спорт',\n",
       "       'мюзикл,фэнтези,мелодрама', 'мультфильм,фэнтези,приключения',\n",
       "       'фантастика,фэнтези,приключения', 'фэнтези',\n",
       "       'фэнтези,приключения,боевик', 'фантастика,боевик,драма',\n",
       "       'криминал,драма', 'криминал,триллер,драма',\n",
       "       'драма,мелодрама,приключения', 'детский,комедия',\n",
       "       'фантастика,драма,боевик', 'мультфильм,семейный,фэнтези',\n",
       "       'концерт,музыка,документальный', 'ужасы,комедия,приключения',\n",
       "       'драма,мелодрама,криминал', 'ужасы,фантастика,фэнтези',\n",
       "       'боевик,комедия', 'мультфильм,фантастика,комедия', 'триллер,ужасы',\n",
       "       'мультфильм,мюзикл,комедия', 'мелодрама,фэнтези,триллер',\n",
       "       'детский,приключения,комедия', 'комедия,детектив',\n",
       "       'аниме,мультфильм,мелодрама', 'документальный,драма,семейный',\n",
       "       'документальный,биография,история', 'военный,боевик,драма',\n",
       "       'ужасы,комедия', 'комедия,приключения,семейный',\n",
       "       'приключения,биография,история', 'детский,приключения,семейный',\n",
       "       'спорт,драма,биография', 'аниме,мультфильм,ужасы',\n",
       "       'фантастика,боевик,криминал', 'мюзикл,драма',\n",
       "       'драма,криминал,детектив', 'аниме,мультфильм,драма',\n",
       "       'драма,триллер,приключения', 'триллер,криминал,драма',\n",
       "       'фэнтези,комедия,драма', 'мультфильм,комедия',\n",
       "       'драма,комедия,история', 'комедия,биография,история',\n",
       "       'мультфильм,фантастика,приключения', 'аниме,мультфильм,фантастика',\n",
       "       'мультфильм,фэнтези,семейный', 'мультфильм,боевик,комедия',\n",
       "       'комедия,криминал,спорт', 'документальный,мюзикл',\n",
       "       'мелодрама,комедия,музыка', 'биография',\n",
       "       'триллер,криминал,комедия', 'фантастика,драма,комедия',\n",
       "       'комедия,драма,мелодрама', 'фантастика,приключения,боевик',\n",
       "       'мультфильм,фэнтези,драма', 'триллер,комедия',\n",
       "       'драма,приключения,биография', 'фантастика,комедия',\n",
       "       'мелодрама,драма,комедия', 'боевик,криминал',\n",
       "       'драма,криминал,боевик', 'мультфильм,мюзикл,детский',\n",
       "       'драма,фэнтези', 'документальный,семейный',\n",
       "       'фэнтези,драма,приключения', 'ужасы,комедия,фантастика',\n",
       "       'драма,мелодрама,музыка', 'фэнтези,драма,семейный',\n",
       "       'триллер,мелодрама,драма', 'вестерн,боевик,драма',\n",
       "       'мультфильм,короткометражка,комедия', 'триллер,драма,история',\n",
       "       'ужасы,фантастика', 'ужасы,мелодрама,комедия',\n",
       "       'фэнтези,приключения', 'фантастика,триллер',\n",
       "       'ужасы,боевик,фэнтези', 'мультфильм,комедия,детский',\n",
       "       'триллер,драма,биография', 'мультфильм,ужасы,фэнтези',\n",
       "       'мультфильм,ужасы,фантастика', 'ужасы,боевик,комедия',\n",
       "       'драма,биография,спорт', 'мультфильм', 'мелодрама,комедия,драма',\n",
       "       'приключения,фантастика,семейный', 'комедия,криминал,детектив',\n",
       "       'ужасы,триллер,комедия', 'криминал,комедия,триллер',\n",
       "       'семейный,приключения,комедия', 'мультфильм,драма,приключения',\n",
       "       'ужасы,драма,детектив', 'драма,приключения,фэнтези',\n",
       "       'фантастика,мультфильм,драма', 'драма,триллер,детектив',\n",
       "       'драма,история,музыка', 'детский', 'триллер,боевик,криминал',\n",
       "       'драма,фантастика', 'комедия,драма,семейный',\n",
       "       'боевик,драма,комедия', 'комедия,ужасы',\n",
       "       'драма,фантастика,триллер', 'фантастика,драма,триллер',\n",
       "       'история,спорт,драма', 'документальный,биография',\n",
       "       'биография,история', 'спорт,драма', 'боевик,фэнтези',\n",
       "       'мультфильм,фэнтези', 'документальный,комедия,история',\n",
       "       'криминал,комедия,боевик', 'фэнтези,приключения,драма',\n",
       "       'музыка,концерт', 'триллер,драма,боевик',\n",
       "       'комедия,криминал,боевик', 'комедия,фантастика,боевик',\n",
       "       'вестерн,приключения,боевик', 'аниме,мультфильм,комедия',\n",
       "       'детектив,криминал,триллер', 'мультфильм,комедия,криминал',\n",
       "       'комедия,приключения,детектив', 'мелодрама,фантастика,драма',\n",
       "       'драма,комедия,семейный', 'приключения,фантастика',\n",
       "       'триллер,детектив,ужасы', 'комедия,приключения,фэнтези',\n",
       "       'фэнтези,триллер,драма', 'мелодрама,приключения,боевик',\n",
       "       'детектив,триллер,криминал', 'фэнтези,семейный,мелодрама',\n",
       "       'военный,драма', 'документальный,приключения,семейный',\n",
       "       'криминал,комедия,драма', 'комедия,фантастика',\n",
       "       'история,биография,драма', 'мелодрама,драма,музыка',\n",
       "       'боевик,мелодрама', 'комедия,криминал,триллер',\n",
       "       'детектив,триллер,боевик', 'комедия,боевик,криминал',\n",
       "       'комедия,вестерн', 'детский,мелодрама,семейный',\n",
       "       'короткометражка,мультфильм', 'комедия,фэнтези',\n",
       "       'фантастика,драма,ужасы', 'триллер,драма,ужасы',\n",
       "       'драма,фэнтези,история', 'комедия,драма,короткометражка',\n",
       "       'фэнтези,триллер,приключения', 'семейный',\n",
       "       'комедия,криминал,драма', 'комедия,фэнтези,ужасы',\n",
       "       'короткометражка,комедия,криминал', 'фантастика',\n",
       "       'триллер,ужасы,драма', 'мелодрама,драма,фэнтези',\n",
       "       'фантастика,приключения,драма', 'боевик,детектив',\n",
       "       'военный,драма,боевик', 'комедия,мелодрама,фэнтези',\n",
       "       'вестерн,криминал,триллер', 'драма,история,триллер',\n",
       "       'мультфильм,фантастика,боевик', 'детектив,драма,криминал',\n",
       "       'приключения,история,драма', 'мультфильм,семейный,детский',\n",
       "       'биография,драма,история', 'триллер,криминал,боевик',\n",
       "       'история,мелодрама', 'приключения,детский',\n",
       "       'музыка,приключения,концерт', 'военный,драма,комедия',\n",
       "       'фэнтези,боевик,военный', 'фантастика,детектив,боевик',\n",
       "       'мультфильм,фэнтези,история', 'биография,мелодрама,драма',\n",
       "       'документальный,биография,спорт', 'фантастика,комедия,детектив',\n",
       "       'музыка,концерт,документальный', 'триллер,боевик,приключения',\n",
       "       'триллер,драма,комедия', 'детектив,криминал',\n",
       "       'мультфильм,приключения,фэнтези', 'мелодрама,приключения',\n",
       "       'комедия,музыка', 'мелодрама,комедия,ужасы',\n",
       "       'драма,криминал,приключения', 'приключения,детектив,мелодрама',\n",
       "       'драма,криминал,фантастика', 'фэнтези,драма,биография',\n",
       "       'детектив,фантастика,криминал', 'триллер,драма,фантастика',\n",
       "       'ужасы,комедия,боевик', 'мелодрама,история', 'триллер,боевик',\n",
       "       'фильм-нуар,триллер,детектив', 'комедия,криминал,приключения',\n",
       "       'ужасы,триллер,мелодрама', 'военный,драма,история',\n",
       "       'драма,спорт,история', 'документальный,драма,история',\n",
       "       'триллер,мелодрама,детектив', 'детский,семейный',\n",
       "       'мюзикл,семейный,драма', 'биография,военный,драма',\n",
       "       'мультфильм,детский', 'боевик,криминал,драма',\n",
       "       'детектив,фэнтези,триллер', 'драма,боевик,приключения',\n",
       "       'драма,мелодрама,фэнтези', 'детектив,история,драма',\n",
       "       'фэнтези,боевик,ужасы', 'ужасы,фэнтези,мелодрама',\n",
       "       'ужасы,приключения', 'боевик,фантастика',\n",
       "       'ужасы,мелодрама,детектив', 'фантастика,триллер,приключения',\n",
       "       'боевик,приключения,история', 'приключения,боевик,триллер',\n",
       "       'детектив,ужасы,криминал', 'семейный,фэнтези', 'мюзикл,мелодрама',\n",
       "       'драма,военный,приключения', 'фантастика,драма,приключения',\n",
       "       'приключения,семейный,драма', 'история,драма,боевик',\n",
       "       'мультфильм,приключения,комедия', 'криминал,драма,комедия',\n",
       "       'ужасы,комедия,драма', 'комедия,семейный,приключения',\n",
       "       'мюзикл,фэнтези,драма', 'драма,вестерн,боевик',\n",
       "       'фантастика,триллер,детектив', 'драма,история,детектив',\n",
       "       'короткометражка,биография', 'мультфильм,приключения,фантастика',\n",
       "       'комедия,триллер', 'мультфильм,приключения,детектив',\n",
       "       'драма,триллер', 'ужасы,триллер,криминал',\n",
       "       'документальный,криминал,военный', 'ужасы,фэнтези,драма',\n",
       "       'фэнтези,комедия', 'ужасы,фэнтези,комедия', 'комедия,музыка,драма',\n",
       "       'мультфильм,приключения,военный', 'мюзикл,фэнтези,комедия',\n",
       "       'боевик,фантастика,приключения', 'триллер,ужасы,криминал',\n",
       "       'ужасы,фантастика,драма', 'фантастика,приключения,семейный',\n",
       "       'короткометражка,музыка', 'мелодрама,детектив,комедия',\n",
       "       'документальный,триллер,биография', 'боевик,фантастика,триллер',\n",
       "       'спорт,драма,комедия', 'фэнтези,мелодрама,приключения',\n",
       "       'триллер,детектив,криминал', 'короткометражка,мелодрама',\n",
       "       'мультфильм,семейный,спорт', 'комедия,фэнтези,мелодрама',\n",
       "       'драма,спорт,комедия', 'история,драма,мелодрама',\n",
       "       'драма,боевик,криминал', 'драма,комедия,триллер',\n",
       "       'аниме,мультфильм', 'документальный,ужасы',\n",
       "       'мультфильм,короткометражка', 'драма,история,военный',\n",
       "       'мультфильм,короткометражка,фэнтези', 'комедия,военный,музыка',\n",
       "       'биография,история,драма', 'ужасы,драма,мелодрама',\n",
       "       'драма,комедия,детектив', 'комедия,семейный,фантастика',\n",
       "       'мультфильм,семейный,комедия', 'история,детектив',\n",
       "       'приключения,мелодрама,детектив', 'мюзикл,комедия,мелодрама',\n",
       "       'драма,фантастика,ужасы', 'мультфильм,ужасы,комедия',\n",
       "       'для взрослых,драма,комедия', 'ужасы,комедия,музыка',\n",
       "       'комедия,история,драма', 'семейный,детектив,детский',\n",
       "       'короткометражка,драма', 'документальный,новости,драма',\n",
       "       'триллер,мелодрама', 'ужасы,драма,вестерн',\n",
       "       'мюзикл,фэнтези,семейный', 'вестерн,драма,триллер',\n",
       "       'приключения,вестерн,боевик', 'семейный,комедия,музыка',\n",
       "       'боевик,драма,вестерн', 'ужасы,драма,триллер',\n",
       "       'фантастика,мелодрама', 'комедия,криминал,биография',\n",
       "       'семейный,мультфильм,комедия', 'комедия,драма,криминал',\n",
       "       'фантастика,боевик,военный', 'приключения,биография,драма',\n",
       "       'приключения,триллер,биография', 'криминал,боевик,триллер',\n",
       "       'боевик,вестерн,приключения', 'история,драма',\n",
       "       'фантастика,фэнтези,комедия', 'мультфильм,детский,комедия',\n",
       "       'мелодрама,комедия,триллер', 'документальный,боевик,приключения',\n",
       "       'драма,приключения', 'мелодрама,военный,драма', 'триллер,фэнтези',\n",
       "       'драма,триллер,биография', 'фэнтези,боевик,семейный',\n",
       "       'фантастика,триллер,комедия', 'документальный,фэнтези',\n",
       "       'комедия,мультфильм,фантастика', 'криминал,биография,комедия',\n",
       "       'биография,спорт,драма', 'приключения,военный',\n",
       "       'мультфильм,семейный,драма', 'документальный,фэнтези,драма',\n",
       "       'комедия,боевик,фантастика', 'семейный,приключения,военный',\n",
       "       'триллер,ужасы,детектив', 'короткометражка',\n",
       "       'мелодрама,триллер,история', 'документальный,история',\n",
       "       'мультфильм,приключения,детский', 'драма,комедия,мультфильм',\n",
       "       'военный,детектив', 'семейный,приключения,документальный',\n",
       "       'детский,фэнтези', 'документальный,комедия', 'комедия,биография',\n",
       "       'криминал,комедия', 'спорт,мелодрама,криминал',\n",
       "       'фантастика,комедия,боевик', 'боевик,приключения,детектив',\n",
       "       'детектив,триллер,драма', 'документальный,фантастика',\n",
       "       'мелодрама,комедия,семейный', 'мультфильм,мелодрама,комедия',\n",
       "       'драма,спорт,семейный', 'фантастика,мелодрама,фэнтези',\n",
       "       'мюзикл,комедия,музыка', 'фантастика,триллер,мелодрама',\n",
       "       'приключения,комедия,фэнтези', 'фэнтези,боевик,детектив',\n",
       "       'фэнтези,боевик,мелодрама', 'комедия,военный',\n",
       "       'драма,спорт,боевик', 'мультфильм,боевик,триллер',\n",
       "       'мелодрама,семейный', 'фантастика,боевик,детектив',\n",
       "       'драма,приключения,история', 'документальный,драма,музыка',\n",
       "       'фантастика,триллер,боевик', 'фэнтези,боевик,вестерн',\n",
       "       'драма,комедия,мелодрама', 'ужасы,фэнтези,приключения',\n",
       "       'триллер,фэнтези,драма', 'мультфильм,мюзикл,мелодрама',\n",
       "       'ужасы,триллер,фантастика', 'триллер,мелодрама,комедия',\n",
       "       'ужасы,комедия,семейный', 'комедия,приключения,музыка',\n",
       "       'документальный,комедия,криминал', 'мелодрама,детектив',\n",
       "       'детский,приключения,фантастика', 'короткометражка,боевик,драма',\n",
       "       'боевик,комедия,семейный', 'фантастика,боевик,мелодрама',\n",
       "       'фэнтези,триллер,мелодрама', 'драма,детектив,история',\n",
       "       'боевик,криминал,детектив', 'мультфильм,фэнтези,мелодрама',\n",
       "       'мелодрама,драма,боевик', 'драма,вестерн,приключения',\n",
       "       'драма,приключения,мелодрама', 'фэнтези,боевик,криминал',\n",
       "       'фантастика,комедия,семейный', 'детский,фэнтези,приключения',\n",
       "       'ужасы,боевик', 'фантастика,мелодрама,комедия',\n",
       "       'семейный,спорт,боевик', 'триллер,биография,драма',\n",
       "       'ужасы,драма,комедия', 'мультфильм,фэнтези,триллер', 'мюзикл',\n",
       "       'боевик,спорт,драма', 'комедия,приключения,вестерн',\n",
       "       'документальный,ужасы,боевик', 'фантастика,боевик,семейный',\n",
       "       'военный,история', 'ужасы,боевик,криминал', 'детектив,триллер',\n",
       "       'драма,семейный,комедия', 'драма,детектив,приключения',\n",
       "       'драма,криминал,история', 'приключения,триллер',\n",
       "       'боевик,драма,биография', 'драма,приключения,триллер',\n",
       "       'комедия,фэнтези,приключения', 'фантастика,боевик,ужасы',\n",
       "       'драма,комедия,фантастика', 'детектив,криминал,драма',\n",
       "       'боевик,триллер,фэнтези', 'приключения,детектив,семейный',\n",
       "       'ужасы,комедия,криминал', 'мультфильм,биография,драма',\n",
       "       'история,боевик,фэнтези', 'детектив,криминал,боевик',\n",
       "       'приключения,фэнтези', 'комедия,приключения,спорт',\n",
       "       'драма,биография,мюзикл', 'комедия,семейный,фэнтези',\n",
       "       'детектив,драма,триллер', 'боевик,приключения,семейный',\n",
       "       'биография,спорт,комедия', 'фантастика,приключения,военный',\n",
       "       'документальный,драма,биография', 'детектив,приключения,драма',\n",
       "       'аниме,мультфильм,приключения', 'семейный,приключения',\n",
       "       'ужасы,фэнтези,детектив', 'семейный,документальный',\n",
       "       'драма,приключения,семейный', 'приключения,история,военный',\n",
       "       'фэнтези,мелодрама', 'фэнтези,триллер,детектив',\n",
       "       'документальный,спорт,биография', 'комедия,триллер,драма',\n",
       "       'драма,ужасы', 'биография,музыка,драма', 'фэнтези,ужасы',\n",
       "       'детектив,мелодрама,фэнтези', 'боевик,военный,история',\n",
       "       'биография,драма,криминал', 'триллер,мелодрама,криминал',\n",
       "       'семейный,мелодрама', 'биография,драма', 'военный,история,драма',\n",
       "       'фантастика,детектив,фэнтези', 'детектив,приключения,триллер',\n",
       "       'фантастика,приключения', 'мультфильм,короткометражка,мюзикл',\n",
       "       'мультфильм,детский,семейный', 'документальный,драма,комедия',\n",
       "       'комедия,приключения,криминал', 'документальный,семейный,музыка',\n",
       "       'мелодрама,музыка,драма', 'детектив,фантастика,триллер',\n",
       "       'драма,мелодрама,триллер', 'биография,драма,военный',\n",
       "       'приключения,фантастика,драма', 'детектив,фильм-нуар,комедия',\n",
       "       'документальный,спорт', 'триллер,фантастика,драма',\n",
       "       'биография,документальный', 'ужасы,фантастика,мелодрама',\n",
       "       'детектив,комедия', 'история,биография,военный',\n",
       "       'криминал,мелодрама', 'драма,криминал,вестерн',\n",
       "       'мелодрама,семейный,приключения', 'триллер,ужасы,мелодрама',\n",
       "       'фэнтези,драма,фильм-нуар', 'детектив,мелодрама',\n",
       "       'комедия,драма,биография', 'драма,военный,боевик',\n",
       "       'драма,комедия,ужасы', 'фантастика,драма,криминал',\n",
       "       'документальный,музыка,биография', 'мультфильм,боевик,приключения',\n",
       "       'короткометражка,фантастика', 'мультфильм,мелодрама,драма',\n",
       "       'боевик,военный,драма', 'фэнтези,семейный,приключения',\n",
       "       'детский,мультфильм,приключения', 'семейный,фэнтези,комедия',\n",
       "       'фэнтези,ужасы,триллер', 'ужасы,триллер,приключения',\n",
       "       'драма,боевик,история', 'фэнтези,комедия,детектив',\n",
       "       'история,приключения', 'аниме,мультфильм,короткометражка',\n",
       "       'драма,военный,триллер', 'биография,криминал,триллер',\n",
       "       'фантастика,фэнтези,детектив', 'вестерн,биография,драма',\n",
       "       'биография,музыка,мюзикл', 'драма,история,биография',\n",
       "       'приключения,драма,фантастика', 'комедия,фэнтези,криминал',\n",
       "       'биография,спорт,история', 'драма,криминал,семейный',\n",
       "       'детектив,боевик,история', 'ужасы,комедия,детектив',\n",
       "       'триллер,приключения,драма', 'фэнтези,комедия,криминал',\n",
       "       'триллер,криминал,приключения', 'комедия,детектив,приключения',\n",
       "       'фэнтези,драма,ужасы', 'ужасы,драма,военный', 'реальное ТВ',\n",
       "       'аниме,мультфильм,детектив', 'приключения,фэнтези,семейный',\n",
       "       'драма,биография,комедия', 'триллер,комедия,ужасы',\n",
       "       'музыка,мелодрама,фэнтези', 'мультфильм,история',\n",
       "       'мультфильм,комедия,фантастика', 'биография,криминал,драма',\n",
       "       'комедия,мелодрама,фантастика', 'криминал,боевик,комедия',\n",
       "       'история,криминал', 'детектив,комедия,драма',\n",
       "       'триллер,фантастика,боевик', 'криминал,боевик',\n",
       "       'комедия,драма,военный', 'драма,триллер,криминал',\n",
       "       'мультфильм,мелодрама,приключения', 'фантастика,фэнтези,триллер',\n",
       "       'короткометражка,драма,триллер', 'военный,боевик,история',\n",
       "       'боевик,драма,триллер', 'документальный,военный,драма',\n",
       "       'драма,криминал,фильм-нуар', 'мультфильм,детский,приключения',\n",
       "       'мелодрама,история,драма'], dtype=object)"
      ]
     },
     "execution_count": 14,
     "metadata": {},
     "output_type": "execute_result"
    }
   ],
   "source": [
    "#В столбце жанр заполним пропуски на неизвестный жанр, чтобы в дальнейшем пр ианализе не путаться.\n",
    "df['genres'] = df['genres'].fillna('unknown')\n",
    "df['genres'].unique()"
   ]
  },
  {
   "cell_type": "code",
   "execution_count": 15,
   "metadata": {
    "id": "kVGSplJOgFyO"
   },
   "outputs": [
    {
     "data": {
      "text/plain": [
       "array(['Дэвид Валдес, Кевин Костнер, Джейк Эбертс', 'unknown',\n",
       "       'Джим Лемли, Джейсон Нетер, Марк Е.Платт, Яйн Смит', ...,\n",
       "       'Поппи Бегум, Ник Пойнц',\n",
       "       'Джефф Боулер, Дэниэл Гродник, Луильо Руис, Брэт Саксон, Кирк Шоу',\n",
       "       'Дженнифер Додж'], dtype=object)"
      ]
     },
     "execution_count": 15,
     "metadata": {},
     "output_type": "execute_result"
    }
   ],
   "source": [
    "df['producer'] = df['producer'].fillna('unknown')\n",
    "df['producer'].unique()"
   ]
  },
  {
   "cell_type": "code",
   "execution_count": 16,
   "metadata": {
    "scrolled": true
   },
   "outputs": [
    {
     "data": {
      "text/plain": [
       "array(['Кевин Костнер', 'Е.Матвеев', 'Тимур Бекмамбетов', ...,\n",
       "       'Ник Пауэлл', 'А.Беляев', 'И.Трусов'], dtype=object)"
      ]
     },
     "execution_count": 16,
     "metadata": {},
     "output_type": "execute_result"
    }
   ],
   "source": [
    "df['director'] = df['director'].fillna('unknown')\n",
    "df['director'].unique()"
   ]
  },
  {
   "cell_type": "markdown",
   "metadata": {},
   "source": [
    "<div class=\"alert alert-success\">\n",
    "<b>Комментарий ревьюера: </b> \n",
    "    \n",
    "Согласна, в строковых столбцах вполне можно заполнить пропуски заглушкой.\n",
    "</div>"
   ]
  },
  {
   "cell_type": "markdown",
   "metadata": {
    "id": "4c6k1t9ygFyQ"
   },
   "source": [
    "#### Шаг 2.3. Изучите дубликаты в датафрейме\n",
    "- Проверьте, есть ли в данных дубликаты. Опишите причины, которые могли повлиять на появление дублей."
   ]
  },
  {
   "cell_type": "code",
   "execution_count": 17,
   "metadata": {
    "scrolled": true
   },
   "outputs": [
    {
     "name": "stdout",
     "output_type": "stream",
     "text": [
      "Количество дубликатов: 0\n"
     ]
    }
   ],
   "source": [
    "print('Количество дубликатов:', df.duplicated().sum())"
   ]
  },
  {
   "cell_type": "code",
   "execution_count": 18,
   "metadata": {},
   "outputs": [
    {
     "name": "stdout",
     "output_type": "stream",
     "text": [
      "Количество дубликатов по номеру удостоверения: 2\n"
     ]
    }
   ],
   "source": [
    "print('Количество дубликатов по номеру удостоверения:', df['puNumber'].duplicated().sum())"
   ]
  },
  {
   "cell_type": "code",
   "execution_count": 19,
   "metadata": {},
   "outputs": [
    {
     "name": "stdout",
     "output_type": "stream",
     "text": [
      "Количество дубликатов по номеру удостоверения: 1\n"
     ]
    }
   ],
   "source": [
    "df['puNumber'] = df['puNumber'].drop_duplicates()\n",
    "print('Количество дубликатов по номеру удостоверения:', df['puNumber'].duplicated().sum())"
   ]
  },
  {
   "cell_type": "markdown",
   "metadata": {},
   "source": [
    "<div class=\"alert alert-success\">\n",
    "<b>Комментарий ревьюера: </b> \n",
    "    \n",
    "Супер, явных дубликатов нет.\n",
    "</div>"
   ]
  },
  {
   "cell_type": "markdown",
   "metadata": {},
   "source": [
    "<div class=\"alert alert-danger\">\n",
    "<b>Комментарий ревьюера: </b> \n",
    "    \n",
    "Как я уже говорила выше, нужно проверить наличие дубликатов по номеру прокатного удостоверения, так как оно 100% должно быть уникально.\n",
    "</div>"
   ]
  },
  {
   "cell_type": "markdown",
   "metadata": {},
   "source": [
    "<div class=\"alert alert-info\">\n",
    "<b>По номеру удостоверения найдено 2 и удален 1 дубликат. Вопрос - почему метод не удалил второй дубликат? это может быть связано с тем, что я заменил в самом начале отсутствующее значение номера удостоверения на похожже, добавив число 1? </div>"
   ]
  },
  {
   "cell_type": "markdown",
   "metadata": {},
   "source": [
    "<div class=\"alert alert-warning\">\n",
    "<b>Комментарий ревьюера v2: </b> \n",
    "    \n",
    "Дело в том, что одна из строк-дубликатов имеет пропуск в номере прокатного удостоверения. Нужно удалить эту строку и попробовать еще раз избавиться от дубликатов.\n",
    "</div>"
   ]
  },
  {
   "cell_type": "code",
   "execution_count": 20,
   "metadata": {},
   "outputs": [
    {
     "name": "stdout",
     "output_type": "stream",
     "text": [
      "Количество дубликатов по номеру удостоверения: 0\n"
     ]
    }
   ],
   "source": [
    "#Удаляю строку с пропуском номера прокатного удостоверения и снова удаляю дубликаты\n",
    "df.dropna(subset = ['puNumber'], inplace = True)\n",
    "df['puNumber'] = df['puNumber'].drop_duplicates()\n",
    "print('Количество дубликатов по номеру удостоверения:', df['puNumber'].duplicated().sum())"
   ]
  },
  {
   "cell_type": "markdown",
   "metadata": {},
   "source": [
    "<div class=\"alert alert-info\">\n",
    "<b>Во, удалил! </div>"
   ]
  },
  {
   "cell_type": "markdown",
   "metadata": {},
   "source": [
    "<div class=\"alert alert-success\">\n",
    "<b>Комментарий ревьюера v3: </b> \n",
    "    \n",
    "Ура! Долой дубликаты!\n",
    "</div>"
   ]
  },
  {
   "cell_type": "markdown",
   "metadata": {
    "id": "52fOPrEBgFyQ"
   },
   "source": [
    "#### Шаг 2.4. Изучите категориальные значения\n",
    "\n",
    "- Посмотрите, какая общая проблема встречается почти во всех категориальных столбцах;\n",
    "- Исправьте проблемные значения в поле `type`.\n",
    "\n",
    "<div id=\"accordion\">\n",
    "    <div class=\"card\">\n",
    "        <div class=\"card-header\" id=\"headingThree\">\n",
    "            <button class=\"btn btn-link collapsed\" data-toggle=\"collapse\" data-target=\"#collapseHint_1\" aria-expanded=\"false\" aria-controls=\"collapseHint_1\">Подсказка</button>\n",
    "        </div>\n",
    "        <div id=\"collapseHint_1\" class=\"collapse\" aria-labelledby=\"headingThree\" data-parent=\"#accordion\">\n",
    "            <div class=\"card-body\">\n",
    "В поле <code>type</code> есть несколько значений, у которых появился пробел в начале строки. Самый простой способ их «починить» -- использовать метод <a href=\"https://pandas.pydata.org/docs/reference/api/pandas.Series.str.strip.html#pandas.Series.str.strip\">.str.strip</a>. Этот метод удаляет все пробелы, которые встречаются в начале и в конце строки. Применяют его таким образом:<br>\n",
    "<code>df['type'].str.strip()</code>\n",
    "            </div>\n",
    "        </div>\n",
    "    </div>\n",
    "</div>"
   ]
  },
  {
   "cell_type": "code",
   "execution_count": 21,
   "metadata": {
    "id": "aKck8RIdgFyQ"
   },
   "outputs": [
    {
     "data": {
      "text/plain": [
       "array(['«18+» - запрещено для детей', '«6+» - для детей старше 6 лет',\n",
       "       '«12+» - для детей старше 12 лет',\n",
       "       '«16+» - для детей старше 16 лет',\n",
       "       '«0+» - для любой зрительской аудитории'], dtype=object)"
      ]
     },
     "execution_count": 21,
     "metadata": {},
     "output_type": "execute_result"
    }
   ],
   "source": [
    "df['age_restriction'].unique()"
   ]
  },
  {
   "cell_type": "code",
   "execution_count": 22,
   "metadata": {},
   "outputs": [
    {
     "data": {
      "text/plain": [
       "array(['Художественный', 'Анимационный', 'Прочие', 'Документальный',\n",
       "       'Научно-популярный', ' Художественный', ' Анимационный',\n",
       "       'Музыкально-развлекательный'], dtype=object)"
      ]
     },
     "execution_count": 22,
     "metadata": {},
     "output_type": "execute_result"
    }
   ],
   "source": [
    "df['type'].unique()\n",
    "#В столбце присутствуют пробелы лишние в названиях категорий"
   ]
  },
  {
   "cell_type": "code",
   "execution_count": 23,
   "metadata": {
    "scrolled": true
   },
   "outputs": [
    {
     "data": {
      "text/plain": [
       "0       Художественный\n",
       "1       Художественный\n",
       "2       Художественный\n",
       "3       Художественный\n",
       "4       Художественный\n",
       "             ...      \n",
       "7481            Прочие\n",
       "7482    Художественный\n",
       "7483    Художественный\n",
       "7484      Анимационный\n",
       "7485      Анимационный\n",
       "Name: type, Length: 7484, dtype: object"
      ]
     },
     "execution_count": 23,
     "metadata": {},
     "output_type": "execute_result"
    }
   ],
   "source": [
    "df['type'] = df['type'].str.strip()\n",
    "df['type']"
   ]
  },
  {
   "cell_type": "markdown",
   "metadata": {},
   "source": [
    "<div class=\"alert alert-danger\">\n",
    "<b>Комментарий ревьюера: </b> \n",
    "    \n",
    "Отлично, только вот ты забыл сохранить. \n",
    "</div>"
   ]
  },
  {
   "cell_type": "markdown",
   "metadata": {},
   "source": [
    "<div class=\"alert alert-info\">\n",
    "<b>Комментарий студента:</b> ой) поправил, сохранил туда же. </div>"
   ]
  },
  {
   "cell_type": "markdown",
   "metadata": {},
   "source": [
    "<div class=\"alert alert-success\">\n",
    "<b>Комментарий ревьюера v2: </b> ✔  </div>"
   ]
  },
  {
   "cell_type": "code",
   "execution_count": 24,
   "metadata": {},
   "outputs": [
    {
     "data": {
      "text/plain": [
       "array(['Тачстоун Пикчерз, Кобальт Пикчерз, Бикон Пикчерз, Тиг Продакшнз',\n",
       "       'Киностудия \"Мосфильм\"',\n",
       "       'Юниверсал Пикчерз, Кикстарт Продакшнз, Марк Платт Продакшнз, Рилейтивити Медиа, Спайгласс Интертейнмент, Стилкин Филмз, Топ Кау Продакшнз',\n",
       "       ...,\n",
       "       'Дэниел Гродник Продакшнз, Вандерфилм Медиа Корпорэйшн, Импринт Интертейнмент, Вор Хорс Интертейнмент, Пимиента ',\n",
       "       'Никелодеон Анимейшн Студиос, Спин Мастер',\n",
       "       'Анимаккорд Лтд., ООО Студия \"АНИМАККОРД\"'], dtype=object)"
      ]
     },
     "execution_count": 24,
     "metadata": {},
     "output_type": "execute_result"
    }
   ],
   "source": [
    "df['film_studio'].unique()\n",
    "# 'Анимаккорд Лтд. и  ООО Студия \"АНИМАККОРД\" - возможно это одно и то же, просто по-разнмоу записанное, но мы этого не знаем наверняка."
   ]
  },
  {
   "cell_type": "code",
   "execution_count": 25,
   "metadata": {
    "scrolled": true
   },
   "outputs": [
    {
     "data": {
      "text/plain": [
       "array(['США', 'СССР', 'Франция', 'СССР, Венгрия',\n",
       "       'Германия-Великобритания', 'Великобритания - Италия',\n",
       "       'Чехословакия', 'США - Франция - Турция', 'Новая Зеландия',\n",
       "       'Канада - Франция - Испания', 'США-Германия',\n",
       "       'США - Великобритания', 'Великобритания', 'США - Германия',\n",
       "       'Франция - Мексика - США', 'Россия, Казахстан, США',\n",
       "       'СССР, Швеция', 'СССР, Франция, Англия, Куба, ГДР', 'Германия',\n",
       "       'Великобритания-США-Германия-КНР',\n",
       "       'СССР, ЧССР, Западный Берлин, ПНР', 'СССР, Италия', 'Гонконг, КНР',\n",
       "       'США - Франция', 'США - Япония - Франция - Великобритания',\n",
       "       'Гонконг - Сингапур - Таиланд - Великобритания', 'США-Канада',\n",
       "       'Франция - Италия - Великобритания - США', 'Франция - США',\n",
       "       'Ирландия-Великобритания-Германия', 'Чехия', 'США-Австралия',\n",
       "       'СССР, Финляндия', 'США-Франция-Великобритания-Австрия',\n",
       "       'США - Бельгия', 'США - Ирландия - Великобритания',\n",
       "       'Великобритания - США',\n",
       "       'Люксембург - Нидерланды - Испания - Великобритания - США - Италия',\n",
       "       'Великобритания - Франция - США', 'Новая Зеландия - США',\n",
       "       'США - Великобритания - Чехия',\n",
       "       'Канада - Франция - Великобритания', 'Ирландия',\n",
       "       'Великобритания - Германия - США',\n",
       "       'США - Франция - Великобритания', 'Япония', 'СССР, Польша',\n",
       "       'Франция - Испания', 'Канада-Франция', 'Германия - Италия - США',\n",
       "       'Аргентина - Бразилия', 'Дания - Швейцария - Бельгия - Франция',\n",
       "       'США - Испания', 'Германия - США',\n",
       "       'Франция - Австрия - Германия - Италия - США', 'Австрия',\n",
       "       'США - Канада - Германия', 'США - Канада',\n",
       "       'СССР - Швейцария - Франция', 'Россия - Казахстан', 'Гонконг',\n",
       "       'Италия', 'США - ОАЭ', 'Россия',\n",
       "       'США - Франция - Испания - Великобритания',\n",
       "       'Великобритания - Франция', 'США-Италия-Испания-Аргентина',\n",
       "       'Франция-Великобритания', 'КНР - Гонконг',\n",
       "       'Франция - Италия - Швейцария', 'США - Новая Зеландия',\n",
       "       'Франция - Бельгия', 'КНР', 'Германия - Великобритания - Австрия',\n",
       "       'Великобритания - Израиль - Франция - Япония - США', 'Швеция',\n",
       "       'Испания', 'Дания', 'Франция - Бельгия - Люксембург',\n",
       "       'США - Индия - ОАЭ',\n",
       "       'Германия-Канада-Великобритания-Швейцария-Франция',\n",
       "       'Мексика - Чили', 'Аргентина', 'Бразилия', 'Чили', 'Австралия',\n",
       "       'Португалия - Франция', 'США - ЮАР', 'Исландия-Ирландия-Германия',\n",
       "       'США-Индонезия', 'Южная Корея', 'Мексика - Испания - Дания - США',\n",
       "       'Великобритания-США', 'Франция - Италия', 'США-Франция',\n",
       "       'США - Венгрия - Великобритания', 'Бельгия-Франция-Италия',\n",
       "       'Чехия - Германия', 'Германия - Франция', 'США-Нидерланды',\n",
       "       'Украина', 'Великобритания - Германия', 'Франция-Бельгия',\n",
       "       'США-Франция-Испания', 'Италия - Франция', 'Канада',\n",
       "       'Швеция-Франция-Дания', 'Германия-Франция-Польша',\n",
       "       'Франция-Великобритания - Германия',\n",
       "       'США - Бразилия - Франция - Австралия - Великобритания - Германия',\n",
       "       'Германия-Австрия', 'Германия-Италия- Шри-Ланка',\n",
       "       'Великобритания - Испания',\n",
       "       'США - Великобритания - Канада - Швеция',\n",
       "       'Босния и Герцеговина - Франция - Великобритания - Германия - Словения - Бельгия - Сербия',\n",
       "       'Великобритания - Франция - Италия - США', 'США-ОАЭ',\n",
       "       'Испания - Франция', 'США-Великобритания', 'США-ЮАР',\n",
       "       'Великобритания-Австралия - США',\n",
       "       'Норвегия - Швеция - Дания - Германия', 'Норвегия', 'Швейцария',\n",
       "       'Греция - Германия - Франция', 'Норвения', 'Южная Корея - США',\n",
       "       'Чили - Франция - США', 'Австрия - Германия - Франция',\n",
       "       'Швеция - Дания', 'Великобритания - Франция - Бельгия - Италия',\n",
       "       'Франция - Германия', 'Грузия - Франция - Люксембург',\n",
       "       'США - Франция - Великобритания - Бразилия ', 'США - КНР',\n",
       "       'Мексика - Франция', 'США - Германия - Гонконг - Сингапур',\n",
       "       'Финляндия - Австрия - Россия', 'Испания - Куба',\n",
       "       'Великобритания - ЮАР', 'Великобритания - Ирландия', 'Израиль',\n",
       "       'Бразилия - Германия - Порртугалия - Франция ',\n",
       "       'Франция - Канада - Бельгия', 'Франция-Испания',\n",
       "       'Испания - Канада - Япония', 'Иран', 'Швеция-Куба',\n",
       "       'США-Великобритания-Ирландия', 'Гонконг - КНР', 'Нидерланды',\n",
       "       'Испания - Канада', 'Япония-Великобритания',\n",
       "       'Великобритания - Норвегия - Дания - Германия',\n",
       "       'Финляндия - Франция - Германия',\n",
       "       'Мексика - Франция - Нидерланды - Германия', 'США - Индия',\n",
       "       'США-Великобритания-Индия', 'США-Канада-Бельгия',\n",
       "       'Республика Узбекистан', 'Италия ', 'Турция',\n",
       "       'Сербия - Словения - Хорватия - Черногория - Македония',\n",
       "       'Киргизия', 'Германия - Нидерланды - Беларусь - Россия - Латвия',\n",
       "       'Индия', 'Нидерланды - Россия - Германия',\n",
       "       'Великобритания - Нидерланды - Франция - Хорватия',\n",
       "       'Канада - Южная Корея',\n",
       "       'Великобритания - Польша - КНР - Индия - Норвегия',\n",
       "       'Япония - Франция - США - Южная Корея - Турция',\n",
       "       'Мексика - Аргентина - Великобритания', 'Израиль - Франция',\n",
       "       'Польша - Португалия - Франция - Великобритания',\n",
       "       'Австралия - США', 'США - Великобритания ',\n",
       "       'Франция - Люксембург - Бельгия', 'Армения',\n",
       "       'Бельгия - Люксембург - Франция - Швейцария',\n",
       "       'США - Великобритания - Канада', 'Норвегия - Швеция',\n",
       "       'Канада - Франция', 'КНР - Гонконг - США',\n",
       "       'США - Сингапур - Малайзия - Индонезия', 'Германия - Россия',\n",
       "       'Япония - Канада', 'Финляндия - Дания - Германия - Ирландия',\n",
       "       'Франция - Люксембург - Германия - Бельгия - Швейцария - Великобритания ',\n",
       "       'Канада - США', 'США-Италия-Испания', 'США-Испания',\n",
       "       'США - Швейцария - Франция', 'Испания - США - Колумбия',\n",
       "       'Канада-ЮАР', 'Франция - Россия',\n",
       "       'Германия - Финляндия - Австралия', 'Дания - Швеция', 'Бельгия',\n",
       "       'Германия - Франция - Австрия', 'Франция-Индия', 'ЮАР',\n",
       "       'Франция-Перу', 'Франция - Канада', 'Республика Беларусь',\n",
       "       'Великобритания - Австрия - Франция - США',\n",
       "       'Австрия-Германия-Франция', 'США-Россия', 'Германия-США',\n",
       "       'США - Южная Корея', 'Канада - КНР',\n",
       "       'Дания - Швеция - Италия - Франция - Германия',\n",
       "       'Франция-Италия-Испания-Венгрия', 'Франция - Германия - Бельгия',\n",
       "       'Франция-Великобритания-Чехия', 'Румыния - Франция - Бельгия',\n",
       "       'Болгария - Франция - Изриль',\n",
       "       'Израиль - Германия - Польша - Бельгия - Франция - Люксембург',\n",
       "       'Россия, Германия, Франция, Бельгия', 'Индонезия',\n",
       "       'Франция - Португалия', 'Великобритания - Пуэрто-Рико',\n",
       "       'СССР, ФРГ, Западный Берлин', 'Россия, Республика Беларусь',\n",
       "       'США, Великобритания', 'Франция - Австрия', 'Бельгия-Нидерланды',\n",
       "       'Великобритания - США - Индия', 'США - Великобритания - Австралия',\n",
       "       'Канада - Франция - США - ОАЭ - Великобритания',\n",
       "       'США - Австралия - Франция',\n",
       "       'Дания-Франция-Бельгия-Германия-Великобритания',\n",
       "       'Испания - Аргентина', 'Исландия - Финляндия',\n",
       "       'Россия-Польша-Голландия-Словакия', 'Дания - Германия - Швеция',\n",
       "       'Южная Корея - США - Канада', 'Таиланд', 'США-Мальта',\n",
       "       'США -Германия',\n",
       "       'Великобритания - Германия - Франция - Кипр - США', 'Мексика',\n",
       "       'США - Великобритания - Ирландия', 'США - Украина',\n",
       "       'США - Финляндия - Испания - Великобритания - Франция',\n",
       "       'Австралия-Великобритания',\n",
       "       'США - Канада - Афганистан - Бельгия - Франция',\n",
       "       'США - Великобритания - Германия - Новая Зеландия - Бельгия - Франция',\n",
       "       'Франция-Канада',\n",
       "       'Ирландия - Финляндия - Бельгия - Великобритания - США - Швейцария',\n",
       "       'Малайзия - США', 'Германия - Италия',\n",
       "       'США - Франция - Бельгия - Италия', 'Франция - Ирландия - Швеция',\n",
       "       'Азербайджан-Россия', 'Великобритания - Италия - Швейцария',\n",
       "       'США - Германия - Великобритания',\n",
       "       'Германия - Бельгия - США -Франция', 'США-Китай', 'Чили - Испания',\n",
       "       'Франция - Швейцария', 'Канада - Испания',\n",
       "       'США - Румыния - Великобритания', 'США - Япония',\n",
       "       'США - Россия - Франция', 'Франция-США', 'Парагвай',\n",
       "       'Германия - Канада', 'США - Канада - Великобритания',\n",
       "       'Финляндия - Канада', 'Уругвай-Мексика-Германия ', 'США - Чили',\n",
       "       'Германия - Аргентина - Нидерланды - Чили',\n",
       "       'США - Канада - Индонезия', 'Армения - Казахстан', 'Финляндия',\n",
       "       'Испания - Италия - Франция',\n",
       "       'Бельгия - Испания - Канада - Нидерланды',\n",
       "       'Великобритания - Франция - Швеция - Бельгия',\n",
       "       'Мексика - Эквадор - Канада - США - Франция - Малайзия - Италия - Аргентина - Германия - Индия  ',\n",
       "       'Франция - Бенльгия', 'Индия - Великобритания',\n",
       "       'Япония - Великобритания - Франция',\n",
       "       'Испания - Уругвай - Аргентина',\n",
       "       'Франция - Италия - Бельгия - Люксембург',\n",
       "       'Франция - Украина - Грузия - Армения',\n",
       "       'Сербия - Германия - Венгрия', 'Франция-Польша', 'Франция ',\n",
       "       'Румыния-США', 'Россия-Азербайджан',\n",
       "       'США - Нидерланды - Бельгия - Венгрия - Греция - Канада',\n",
       "       'Германия - Франция - Люксембург', 'США - Россия',\n",
       "       'Великобритания - США - Франция', 'США - Австралия - Дания',\n",
       "       'Бельгия-Франция', 'США-Мексика',\n",
       "       'Норвегия - Азербайджан - Россия - Колумбия - Великобритания - Венгрия - Румыния - Франция - Грузия',\n",
       "       'СЩА', 'Бразилия - Испания', 'Россия, Франция, Латвия',\n",
       "       'Нидерланды - США - Германия - Канада - Франция - Ирландия - Великобритания',\n",
       "       'Уругвай - Колумбия', 'США - Испания - Болгария',\n",
       "       'Армения - Германия', 'США - Великобритания- Франция - Швеция',\n",
       "       'США - Мексика', 'Австралия-Турция-США', 'Швеция - Германия',\n",
       "       'Польша - Италия - Россия', 'Франция - Бразилия',\n",
       "       'США - Канада - КНР', 'СССР, Венгрия, ЧССР, ГДР',\n",
       "       'Бельгия - Германия - Люксембург', 'СССР  ', 'СССР ', ' СССР ',\n",
       "       'США - Австралия', 'Бразилия - США',\n",
       "       'США - Великобритания - Канада - КНР', 'Франция - Чили',\n",
       "       'Франция - США - Великобритания - Колумбия - Бельгия - Россия',\n",
       "       'Дания - Великобритания - ЮАР', 'СССР   ',\n",
       "       'Россия-США-Канада-Люксембург', 'Россия - Республика Кипр',\n",
       "       'Германия - США - Швеция - Франция',\n",
       "       'Великобритания-Германия-Канада-ЮАР', ' СССР   ', 'СССР     ',\n",
       "       'Ирландия, Канада',\n",
       "       'Япония - Великобритания - Швейцария - Ирландия - Дания - Франция - Польша - Австралия - Канада  ',\n",
       "       'Великобритания, Канада', 'Бельгия - США',\n",
       "       'Великобритания - США - Россия', 'Россия-Украина',\n",
       "       'Германия - США - Великобритания - Израиль', 'Канада - Германия',\n",
       "       'США- Ю.Корея', 'Индия - Мексика',\n",
       "       'Великобритания - Франция - Республика Кипр - Швейцария - США - Сербия',\n",
       "       'Испания - Аргентина - Индия - США',\n",
       "       'Норвегия - Исландия - США - Великобритания ',\n",
       "       'Турция - Германя - Франция', 'Германия - Великобритания',\n",
       "       'Австралия - Германия', 'Мексика - Испания',\n",
       "       'Великобритания - США - Германия - Бельгия',\n",
       "       'США - Чехия - Франция', 'Россия - Италия', 'Франция-Россия',\n",
       "       'Норвегия - Дания - Швеция', 'Франция - Швейцария - Германия',\n",
       "       'Грузия - Украина', 'Россия - Эстония - Финляндия - Беларусь',\n",
       "       'США - Франция - ЮАР', 'Великобритания - США - Швейцария',\n",
       "       'Канада-США', 'Мексика - Нидерланды - Германия - Франция',\n",
       "       'США - Испания - Франция', 'США - Великобритания - КНР',\n",
       "       'США-Франция-Канада',\n",
       "       'Япония, Великобритания, Австрия, Германия, Ю.Корея',\n",
       "       'Великобритания - Ирландия - США', 'Бельгия - Италия - Франция ',\n",
       "       'Швейцария-Германия-ЮАР', 'Великобритания - США - Германия',\n",
       "       'Германия - Исландия', 'Испания - США', 'СССР    ', 'Хорватия',\n",
       "       'Финляндия - Исландия - Швеция',\n",
       "       'Канада - США - Германия - Франция',\n",
       "       'США - Великобритания - Испания', 'Ирландия-Великобритания',\n",
       "       'Аргентина - Испания', 'Австрия - Германия', ' СССР',\n",
       "       'Германия - Швейцария - Франция - Южная Корея - США',\n",
       "       'Украина - Нидерланды', 'Венгрия - Германия - Швеция',\n",
       "       'Германия - Франция -  Польша - Турция - Канада - Италия - Россия ',\n",
       "       'СССР, Афганистан', 'СССР, Монголия', 'Россия-Кипр',\n",
       "       'Россия, Грузия, Испания',\n",
       "       'Великобритания - Нидерланды - Германия - Франция - Бельгия - Австрия ',\n",
       "       'Испания - Великобритания - Франция',\n",
       "       'Дания - Норвегия - Великобритания',\n",
       "       'Бельгия - Франция - Люксембург',\n",
       "       'Италия - Франция - Швейцария - Великобритания',\n",
       "       'Франция - Бельгия - Великобритания - Испания - Германия - США',\n",
       "       'Швейцария - Израиль - Франция - Великобритания',\n",
       "       'Великобритания - США - Канада - Нидерланды - Франция',\n",
       "       'Россия, Италия', 'СССР, Албания',\n",
       "       'Россия, Украина, Республика Беларусь, Литва',\n",
       "       'Финляндия - Великобритания - Германия', 'Россия, Украина, Польша',\n",
       "       'Франция - Италия - Бельгия - КНР',\n",
       "       'Германия - Бельгия - Люксембург - Ирландия', 'КНР - Сингапур',\n",
       "       'Франция - Бельгия - Великобритания - США - Нидерланды - Канада',\n",
       "       'США - Россия - Польша - Германия - Пуэрто Рико',\n",
       "       'Франция - Бельгия - Канада', 'США ', 'Мексика - США',\n",
       "       'США - Гонконг - КНР ', 'Греция - Россия',\n",
       "       'Ирландия - Дания - Бельгия - Люксембург - Франция',\n",
       "       'Эстония - Россия',\n",
       "       'Великобритания - Исландия - Испания - Швейцария - США',\n",
       "       'Австралия - Великобритания - Бельгия - Индия',\n",
       "       'Швеция - Германия - Франция - Норвегия',\n",
       "       'Нидерланды - Бельгия - Германия - Ирландия',\n",
       "       'Нидерланды - Великобритания - Бельгия',\n",
       "       'США - Колумбия - Испания', 'Франция-Испания-Бельгия-Панама',\n",
       "       'США-Великобритания-Чехия-Румыния',\n",
       "       'Аргентина - Уругвай - Россия - Германия - Франция - Нидерланды',\n",
       "       'Швеция - Франция - Норвегия - Дания',\n",
       "       'Италия-Франция-Великобритания', 'Великобритания, Франция',\n",
       "       'Австралия, США', 'Венесуэла',\n",
       "       'Великобритания - США - Австралия - Ирландия - Германия - Куба - Канада',\n",
       "       'Южная Корея - КНР',\n",
       "       'Аргентина - Мексика - Бразилия - Франция - США', 'Швеция - США',\n",
       "       'Франция - Германия - Турция - Катар', 'Франция-Китай',\n",
       "       'Россия, Германия, Великобритания',\n",
       "       'Великобритания - Италия - Испания', 'Италия - Россия',\n",
       "       'Япония - КНР - Южная Корея', 'Россия, Германия',\n",
       "       'Россия-Ирландия', 'Македония - Франция - Великобритания',\n",
       "       'Франция - Бразилия - Италия', 'Россия-США', 'Армения-Россия',\n",
       "       'Россия, Румыния', 'Франция -  Бельгия', 'Грузия-Франция',\n",
       "       'ЮАР - США', 'Великобритания-США-Франция',\n",
       "       'Великобритания - США - Германия - Канада - Австралия',\n",
       "       'США-Ирландия', 'Россия, Республика Кипр',\n",
       "       'Германия - Люксембург - Франция', 'Россия-Франция',\n",
       "       'США - Нидерланды - Финляндия - Великобритания - Италия',\n",
       "       'Республика Кипр', 'Венгрия', 'Франция - США - Норвегия - Дания',\n",
       "       'Германия - Австрия - Ирландия', 'США - Финляндия',\n",
       "       'Италия-Великобритания', 'Россия, Испания',\n",
       "       'США - Великобритания - Болгария', 'Великобритания - Люксембург',\n",
       "       'Индия - США', 'США - Канада - Россия - Франция - Чили - Ирландия',\n",
       "       'Грузия-Россия',\n",
       "       'Дания - Австрия - Ирландия - Финляндия - Норвегия - Швеция - Нидерланды',\n",
       "       'США-КНР', 'Грузия', 'Австралия - Ирландия',\n",
       "       'Великобритания - Канада', 'Италия - Аргентина - Словения ',\n",
       "       'Испания - Франция - Нидерланды - Германия - Бельгия - Великобритания - Канада',\n",
       "       'Франция - Чехия - Бельгия',\n",
       "       'Великобритания - Франция - Германия - США',\n",
       "       'Ирландия - Великобритания - Франция - США - Германия - Нидерланды',\n",
       "       'США - Канада - Япония - КНР', 'Италия-Франция',\n",
       "       'США - Великобритания - Исландия', 'Великобритания-Франция',\n",
       "       'Франция - Германия - Нидерланды', 'Иран ',\n",
       "       'Франция - Германия - Швеция - США - Чехия - Словакия - Великобритания - Нидерланды',\n",
       "       'Франция - Канада - Н.Зеландия - США - Нидерланды - Германия - Швеция - Россия',\n",
       "       'Турция - США',\n",
       "       'Великобритания - США - Канада - Бельгия - Нидерланды - Австрия - Германия',\n",
       "       'Израиль - Франция - Германия - Палестина - США - Австрия - Великобритания',\n",
       "       'Аргентина - Франция - Испания', 'СССР, Россия',\n",
       "       'Великобритания - Франция - Италия - Индия - Дания - КНР - Бангладеш - Камбоджа - Гаити - Уганда',\n",
       "       'Италия - Франция - Швейцария',\n",
       "       'Ирландия - Великобритания - Канада', 'Перу', 'США - Норвегия',\n",
       "       'Испания-Канада', 'Китай-Гонконг', 'США - Германия - КНР',\n",
       "       'Великобритания - Новая Зеландия',\n",
       "       'Франция - Дания - Швеция - КНР',\n",
       "       'США - Великобритания - Германия - Бельгия - Дания',\n",
       "       'США - Франция - Канада - Германия - Австралия - Индия', nan,\n",
       "       'СССР, Румыния, Франция', 'СССР, ГДР', 'Австралия-Ирландия',\n",
       "       'США - Китай', 'Великобритания - Франция - Австрия - Швеция',\n",
       "       'Россия, Таджикистан', 'Нидерланды - Бельгия - Болгария',\n",
       "       'Великобритания - Канада - США', 'Франция - Бельгия - Испания',\n",
       "       'Китай-Гонконг-США', 'Франция - Великобритания', 'США - Вьетнам',\n",
       "       'США - Германия - Франция', 'Германия - Франция - Бельгия',\n",
       "       'США - Италия',\n",
       "       'Германия - Дания - Испания - Швеция - Канада - Эстония - Франция',\n",
       "       'Княжество Андорра - Украина', 'Германия - Люксембург - Бельгия',\n",
       "       'Великобритания - Россия - Украина - США',\n",
       "       'Германия - Бельгия - Люксембург - Норвегия',\n",
       "       'США - Австралия - Новая Зеландия - Великобритания',\n",
       "       'США - Франция - Канада - Великобритания', 'Испания-Колумбия',\n",
       "       'Великобритания - Чехия - Франция', 'Россия, Украина', 'Исландия',\n",
       "       'Великобритания - Франция - Венгрия',\n",
       "       'Россия, Франция, Германия, Бельгия', 'Франция - Македония',\n",
       "       'Нидерланды - Франция - Германия - Бельгия - Швеция - Великобритания',\n",
       "       'Испания - США - Великобритания - Канада', 'Германия - Австрия',\n",
       "       'Республика Казахстан',\n",
       "       'Франция - Испания - Дания - Венгрия - Швейцария', 'Франция-КНР',\n",
       "       'США - Пуэрто-Рико - Франция ', 'Мексика - Тайвань - США',\n",
       "       'Великобритания - Испания - Непал - Индия - Венгрия - Гонконг - Германия - Дания - Бахрейн',\n",
       "       'Великобритания - Аргентина - США - Франция - Россия - Испания',\n",
       "       'КНР - США', 'Италия - США', 'Финляндия - Швеция - Германия',\n",
       "       'Канада- Испания', 'Франция - Бельгия - Чехия',\n",
       "       'Франция-Бельгия-Канада', 'Франция - Германия - США',\n",
       "       'США - Дания', 'Индия - КНР', 'Чехия-Великобритания-США',\n",
       "       'США-ФРГ-Россия', 'Ирландия-Нидерланды-Франция-США-Великобритания',\n",
       "       'Россия, Грузия, Хорватия, Испания',\n",
       "       'Финляндия - Швеция - Норвегия', 'Сербия - Великобритания - США',\n",
       "       'США - Великобритания - Франция - Гонконг', 'Швейцария - Франция',\n",
       "       'Швейцария - Великобритания', 'ОАЭ - США',\n",
       "       'США - Франция - Германия - Канада - Австралия ',\n",
       "       'Германия - Австралия', 'Иран, Франция',\n",
       "       'США - Великобритания - Новая Зеландия', 'США-Колумбия',\n",
       "       'США-Франция-Ирландия', 'Великобритания - Франция - Бельгия',\n",
       "       'США - Великобритания - Япония', 'США - Франция - Германия',\n",
       "       'Польша - Ирландия', 'Ирландия - Великобритания - Франция - США',\n",
       "       'США - Бельгия - Великобритания', 'СССР, ВНР',\n",
       "       'Испания - Франция - США - Великобритания - Бельгия',\n",
       "       'Франция - Дания - США', 'США - Гонконг', 'Бразилия - К;анада',\n",
       "       'Франция-Германия', 'США - Колумбия',\n",
       "       'США - Ирландия - Великобритания - Франция',\n",
       "       'Великобритания - США - Канада', 'Польша - Франция',\n",
       "       'Канада - США - Нидерланды - Великобритания - Аргентина',\n",
       "       'Великобритания - Дания', 'Франция - Бельгия - Япония',\n",
       "       'Россия,  Испания', 'Франция -Бельгия',\n",
       "       'США - Канада - Германия - Франция', 'США-Канада-Франция',\n",
       "       'Россия - Германия', 'Россия-Италия', 'Китай - Гонконг',\n",
       "       'Германия-Австрия-Франция-Италия', 'США-Япония',\n",
       "       'США - Германия - Канада', 'Испания-Мексика',\n",
       "       'США - Япония - Канада - Великобритания - Германия - Франция',\n",
       "       'США -Великобритания - Австралия', 'Россия-Украина-Германия',\n",
       "       'Израиль - Франция - Великобритания - Германия', 'Корея',\n",
       "       'Россия - Болгария', 'США-Индия',\n",
       "       'Германия-Канада-Франция-Бельгия', 'Германия-Кения',\n",
       "       'Франция - Монако', 'Франция-Испания-Швейцария',\n",
       "       'Австрия-Франция-Германия', 'Румыния',\n",
       "       'США-Великобритания-Франция', 'Канада-Великобритания',\n",
       "       'Канада-Бразилия-Япония', 'Германия - Дания - Норвегия',\n",
       "       'Дания - Германия', 'СССР - Италия',\n",
       "       'СССР - ГДР - Польша - Италия',\n",
       "       'США - Испания - Франция - Великобритания', 'Китай',\n",
       "       'Мексика-Аргентина',\n",
       "       'Германия - Великобритания - Италия - Испания',\n",
       "       'Франция-Германия-Великобритания', 'Россия - Германия - Швейцария',\n",
       "       'Франция-Австралия', 'Голландия', 'Швейцария-Франция',\n",
       "       'Россия-Белоруссия', 'Франция - Испания - Тайвань',\n",
       "       'США-Южная Корея-Новая Зеландия', 'Великобритания-Венгрия',\n",
       "       'Россия-Германия', 'Великобритания-Франция-Германия',\n",
       "       'Франция-Германия-Италия', 'Швеция-Финляндия-Франция-Норвегия',\n",
       "       'Франция-Италия', 'Германия-Израиль',\n",
       "       'Швеция - Германия - Дания - Норвегия', 'США-Бельгия',\n",
       "       'Франция-Гонконг-Ирландия', 'Эстония', 'Литва-Россия-Украина',\n",
       "       'Германия - Италия - Франция',\n",
       "       'Великобритания - Австрия - Германия', 'Бельгия - Франция',\n",
       "       'Россия-Казахстан', 'Испания - Мальта',\n",
       "       'Франция-Россия-Румыния-Италия-Бельгия', 'Россия - Польша',\n",
       "       'Испания - Мексика', 'США-Аргентина', 'Великобритания ',\n",
       "       'Израиль-США-Франция', 'США - Новая Зеландия - Япония',\n",
       "       'Франция - Чехия - Великобритания', 'Россия-Польша',\n",
       "       'Германия-Франция-Великобритания', 'США-Германия-Канада',\n",
       "       'США-Гонконг-Китай', 'США - Великобритания - Германия',\n",
       "       'США-Канада-Австралия', 'Япония-США-Франция',\n",
       "       'Франция-Испания-Германия', 'США - Хорватия - Босния-Герцеговина',\n",
       "       'Великобритания - Чехия - Франция - Италия',\n",
       "       'США - Германия - Нидерланды', 'Германия - Франция - Канада',\n",
       "       'Франция-Грузия-Германия-Россия-Украина-Бельгия',\n",
       "       'Великобритания - Франция - Италия', 'Россия - США',\n",
       "       'Франция - Италия - Иран', 'Россия - Азербайджан', 'Греция',\n",
       "       'Дания - США', 'США-Великобритания-Новая Зеландия',\n",
       "       'США-Германия-Австралия', 'США-Канада-Италия',\n",
       "       'США - Япония - Германия', 'Австралия-США',\n",
       "       'Франция - Великобритания - Багамские острова - США',\n",
       "       'Швейцария - Люксембург', 'Швейцария - Австрия',\n",
       "       'Германия - Швейцария', 'Дания-Швеция-Франция-Германия', 'Польша',\n",
       "       'Швейцария-Австрия', 'Бразилия - Канада - США',\n",
       "       'Нидерланды - Россия', 'Португалия', 'Франция-Аргентина',\n",
       "       'Швеция-Франция', 'Франция-Украина', 'Германия-Украина-Нидерланды',\n",
       "       'Италия-Швейцария', 'США-Германия-Великобритания',\n",
       "       'Латвия - Россия', 'Германия-Франция-Великобритания-США',\n",
       "       'Канада - Италия', 'США - Объединенные Арабские Эмираты',\n",
       "       'США-Венгрия', 'Малайзия', 'Россия - Германия - Украина',\n",
       "       'США - Австралия - Мексика', 'Литва - Венгрия', 'Германия - Китай',\n",
       "       'Казахстан', 'Республика Корея',\n",
       "       'США - Германия - Франция - Великобритания - Канада ',\n",
       "       'Бельгия - Германия - Люксембург - Франция', 'Франция - Греция',\n",
       "       'Италия - Канада', 'США - Великобритания - Франция',\n",
       "       'США-Италия-Греция', 'Германия - США - Великобритания - Ирландия',\n",
       "       'Великобритания - Франция - Германия',\n",
       "       'Германия - Нидерланды - ЮАР',\n",
       "       'США-Япония-Германия-Великобритания-Нидерланды',\n",
       "       'США-Япония-Германия-Великобритания',\n",
       "       'Германия - Франция - Польша',\n",
       "       'Таиланд-Великобритания-Франция-Германия-Испания-Нидерланды',\n",
       "       'Германия-Италия-Швейцария',\n",
       "       'Дания - Швеция - Великобритания - Франция - Германия - Нидерланды - Норвегия - Финляндия',\n",
       "       'Франция - Великобритания - Нидерланды - Люксембург',\n",
       "       'Нидерланды-Великобритания-Франция-Италия-Япония',\n",
       "       'Финляндия-Дания-Германия-Ирландия', 'Испания-Аргентина',\n",
       "       'Великобритания - Нидерланды - Франция - США', 'Канада - Мексика',\n",
       "       'США, Франция', 'Канада-Южная Корея-США',\n",
       "       'Великобритания - Франция - Бельгия - США', 'КНР - Канада - США',\n",
       "       'Италия - Франция - Германия',\n",
       "       'Швеция - Германия - Франция - Дания', 'Франция - США - Бельгия',\n",
       "       'Украина - Германия - Латвия - Эстония', 'Австрия - Люксембург',\n",
       "       'Великобритания - КНР', 'Монголия', 'Франция - Дания',\n",
       "       'Швеция - Дания - Финляндия',\n",
       "       'Сингапур - Великобритания - Индонезия - Канада - США',\n",
       "       'США - Германия - Япония', 'Таиланд - США', 'Франция - Нидерланды',\n",
       "       'Великобритания - Румыния', 'США - Мальта',\n",
       "       'Великобритания - Германия - Нидерланды - Дания',\n",
       "       'Франция - Германия - Литва - Нидерланды - Россия',\n",
       "       'США - ЮАР - Гонконг', 'Австралия - Колумбия',\n",
       "       'Великобритания - Польша', 'США - Великобритания - Швеция',\n",
       "       'Франция - Швеция - Дания - Норвегия', 'Болгария - США',\n",
       "       'СССР, ФРГ', 'Бельгия - Нидерланды - Франция',\n",
       "       'Финляндия - Германия', 'Болгария',\n",
       "       'Грузия - Россия - Украина - Хорватия - Германия',\n",
       "       'Франция - Люксембург', 'Франция - Германия - Австрия',\n",
       "       'Норвегия - США', 'Германия-Швеция', 'Франция - Германия - Италия',\n",
       "       'Франция-Германия-Австрия', 'КНР-США',\n",
       "       'Великобритания - Ирландия - США ',\n",
       "       'Дания - Латвия - Россия - США', 'Финляндия - Польша',\n",
       "       'Германия - Бельгия', 'Германия - США - Франция - Испания',\n",
       "       'Бельгия-Германия-Канада-Франция-США-Великобритания',\n",
       "       'Нидерланды - Бельгия - Люксембург', 'Канада-Германия',\n",
       "       'Люксембург - Бельгия - Франция', 'США-Великобритания-Австралия',\n",
       "       'Великобритания, Новая Зеландия', 'Бельгия, Великобритания, США',\n",
       "       'Великобритания, Австралия', 'Исландия, Бельгия',\n",
       "       'Испания - Швейцария - Великобритания - Германия - Новая Зеландия - Нидерланды - Канада',\n",
       "       'Франция, Бельгия', 'Великобритания, США', 'Киргизия-Россия',\n",
       "       'Германия, США', 'Великобритания, США, Испания',\n",
       "       'Италия - Швейцария - Германия', 'Россия, Армения',\n",
       "       'Франция, Германия', 'Китай, Канада, США', 'Германия, Австралия',\n",
       "       'КНР, США', 'США, Великобритания, Люксембург',\n",
       "       'Испания, Ирландия, Бельгия, Франция',\n",
       "       'Великобритания - Гонконг - Венгрия - США - Ирландия',\n",
       "       'США - Пуэрто Рико', 'Аргентина - Испания - Уругвай',\n",
       "       'Израиль - Германия - Франция - Швейцария',\n",
       "       'Великобритания - Мексика - США', 'Испания - Болгария - США',\n",
       "       'Россия-Словакия-Чехия',\n",
       "       'Швейцария - КНР - США - Россия - Республика Корея - Великобритания',\n",
       "       'Россия, Нидерланды, Финляндия',\n",
       "       'Испания - Бельгия - Франция - Португалия - Великобритания',\n",
       "       'Бразилия - Португалия - Франция', 'Швеция - Норвегия',\n",
       "       'Франция - Польша - Бельгия', 'CША', 'Китай, США',\n",
       "       'Италия, Франция, Германия', 'Германия - Австрия - Франция',\n",
       "       'Чехия - Словакия - Хорватия', 'Россия, Польша, Финляндия',\n",
       "       'Россия, Латвия, Чешская Республика',\n",
       "       'Франция - Великобритания - Камбоджа - США - КНР',\n",
       "       'Чехия - Испания - США', 'Германия - Люксембург - Дания',\n",
       "       'Великобритания - Испания - Германия', 'Дания - Исландия',\n",
       "       'Германия, Франция, Великобритания',\n",
       "       'Великобритания - Испания - Италия - Латвия - Франция - Эстония',\n",
       "       'Дания, Швеция, Великобритания, Франция, Германия, Норвегия, Финляндия, Нидерланды, Италия',\n",
       "       'Польша - Франция - Великобритания',\n",
       "       'Дания, Норвегия, Венгрия, Чехия',\n",
       "       'Дания - Франция - Германия - Швеция',\n",
       "       'Великобритания, Швеция, США',\n",
       "       'Канада, Франция, Италия, Швейцария, США', 'США, Индия',\n",
       "       'США - Великобритания - Германия - - Швеция - Канада',\n",
       "       'Италия, Франция', 'Республика Беларусь, Германия, США, Россия',\n",
       "       'Италия-Швейцария-Франция-Германия ',\n",
       "       'Россия - Франция - Великобритания - Латвия', 'Россия-Беларусь',\n",
       "       'Франция - Испания - Румыния - США - Бельгия', 'Италия-США',\n",
       "       'Россия, Австрия', 'Ирландия - Великобритания - США',\n",
       "       'Швейцария, Великобритания, Франция, США, Ирландия',\n",
       "       'Мексика, Франция, Германия, Дания, Швеция', 'Нидерланды, Бельгия',\n",
       "       'Швеция, Норвегия, Финляндия, Франция', 'Испания, Франция, Италия',\n",
       "       'Испания-Франция-Греция-Индия-США-Россия-Великобритания',\n",
       "       'Великобритания - Япония - США',\n",
       "       'Дания, Канада, Норвегия, Австралия, США', 'Аргентина, Испания',\n",
       "       'Россия, Германия, Казахстан, Польша, Китай',\n",
       "       'Португалия, Франция, Польша, США', 'США - Канада - Аргентина',\n",
       "       'Ливан-США', 'Япония - США', 'США, Гонконг ',\n",
       "       'Франция - Россия - Швейцария - Румыния - Венгрия',\n",
       "       'Аргентина-Испания', 'Россия, Сербия', 'США - Болгария - Мексика',\n",
       "       'США - Великобритания - Швейцария - Франция',\n",
       "       'Таиланд - КНР - США',\n",
       "       'Великобритания, Нидерланды, Польша, Швейцария, Франция',\n",
       "       'Ирландия - США',\n",
       "       'Германия - Франция - Великобритания - Польша - США',\n",
       "       'Великобритания-Франция-Италия', 'США - Австралия - Индия',\n",
       "       'Франция - КНР', 'Великобритания - Израиль',\n",
       "       'Великобритания - Норвегия - Кения - Хорватия',\n",
       "       'США - Бразилия - Великобритания - Канада', 'Германия, Бельгия',\n",
       "       'Австралия, Канада', 'США, Великобритания, Франция',\n",
       "       'Кения, Германия', 'Нидерланды, Бельгия, Люксембург', 'Колумбия',\n",
       "       'Латвия - Франция', 'Ирландия, Великобритания',\n",
       "       'Франция - Израиль - Германия', 'Швеция, Франция, Великобритания',\n",
       "       'Бельгия - Люксембург', 'Германия - Бельгия - Великобритания',\n",
       "       'Испания, Франция, Великобритания, Дания, Бельгия, Германия',\n",
       "       'Румыния, ЮАР, Иран, Франция, Канада, Великобритания',\n",
       "       'Германия, Франция', 'США, Япония',\n",
       "       'США, Великобритания, Ирландия, Люксембург', 'Республика Армения',\n",
       "       'США, Франция, Япония', 'Япония, США', 'Канада, США',\n",
       "       'Республика Кипр - Россия',\n",
       "       'Дания - Франция - Италия - Бельгия - Нидерланды',\n",
       "       'Россия - Грузия', 'Италия, Германия', 'Норвегия, Швеция, Дания',\n",
       "       'Республика Кипр, Россия', 'КНР, Индия, Гонконг, США',\n",
       "       'Израиль, Украина', 'США, Россия', 'США - КНР - Индия - Ю.Корея',\n",
       "       'США - Швеция', 'Франция, Канада', 'Россия-Китай',\n",
       "       'Канада, Великобритания', 'США, Германия',\n",
       "       'Канада, США, Каймановы острова',\n",
       "       'Бразилия, Уругвай, Дания, Норвегия, Чили, Швеция',\n",
       "       'Пуэрто-Рико, Великобритания, США',\n",
       "       'Уругвай - Аргентина - Испания',\n",
       "       'США - Великобритания - Италия - Израиль - Сербия - Индия',\n",
       "       'США - Канада - Франция - Индия', 'Великобритания - Россия - КНР',\n",
       "       'Франция, Новая Зеландия', 'Франция, Люксембург, Бельгия',\n",
       "       'Канада, США, Норвегия', 'Италия, Испания',\n",
       "       'Испания - Германия - Нидерланды', 'Бразилия - США - КНР ',\n",
       "       'Великобритания, Германия, Дания, США', '2019',\n",
       "       'Италия - Фрация - Бразилия - Германия',\n",
       "       'Норвегия - Швеция - Россия', 'Великобритания, Япония, США',\n",
       "       'Сша, Канада', 'Бельгия, Канада',\n",
       "       'Великобритания - Австралия - США', 'США, Канада', 'КНР - США ',\n",
       "       'Франция - Финляндия', 'Колумбия - США',\n",
       "       'Великобритания, Франция, Бельгия', 'Норвегия - Нидерланды',\n",
       "       'Великобритания, Канада, США', 'Япония, Великобритания',\n",
       "       'Италия - Бельгия - Франция', 'Россия, Бельгия, Финляндия',\n",
       "       'США, Украина', 'Франция, Норвегия',\n",
       "       'Великобритания, Южная Корея, Канада, США, Индия, Китай, Япония',\n",
       "       'Канада - Норвегия', 'Республика Кипр-Россия', 'Германия, Россия',\n",
       "       'Польша - Франция - Испания - Бразилия - Швеция',\n",
       "       'Австрия, Великобритания, Германия', 'Франция - Сенегал - Бельгия',\n",
       "       'Франция, Бельгия, Люксембург', 'Финляндия, Латвия', 'Пакистан',\n",
       "       'Германия, Франция, США', 'Германия - Великобритания - США',\n",
       "       'КНР - Франция', 'Дания, Норвегия, Швеция, Исландия',\n",
       "       'Республика Кипр, США, Россия', 'Новая Зеландия - КНР',\n",
       "       'Дания - Канада - Швеция - Франция - Германия - Великобритания - США'],\n",
       "      dtype=object)"
      ]
     },
     "execution_count": 25,
     "metadata": {},
     "output_type": "execute_result"
    }
   ],
   "source": [
    "df['production_country'].unique()\n",
    "#Присутствует разное написание дефиса когда более 1 страны: 'США-Канада' и 'Великобритания - Италия', а также есть варианты, где 'СССР, Финляндия', то есть без дефиса. "
   ]
  },
  {
   "cell_type": "markdown",
   "metadata": {},
   "source": [
    "<div class=\"alert alert-warning\">\n",
    "<b>Комментарий ревьюера: </b> \n",
    "    \n",
    "И все же надо оставить небольшой комментарий с ответом на вопрос: \"какая общая проблема встречается почти во всех категориальных столбцах\".\n",
    "</div>"
   ]
  },
  {
   "cell_type": "markdown",
   "metadata": {},
   "source": [
    "<div class=\"alert alert-info\">\n",
    "<b>Комментарий студента:</b> Добавил ниже </div>"
   ]
  },
  {
   "cell_type": "markdown",
   "metadata": {},
   "source": [
    "Общая проблема для категориальных значений - отсутствие единого стандарта заполнения, что приводит к увеличению набора данных с разной записью, но одним значением. В дальнейшем все значения надо привести к единому стандарту заполнения (я подразумеваю что данные собирались в базу годами и по-размномц разные люди добавляют категориальные значения). Как вариант - при внесении данных в базу для категориальных значений должны быть выпадающие списки с готовыми значениями, а новые значения должны добавляться по запросу. Это поможет в дальнейшем обеспечить однородность заполненных данных и упростить анализ, повысить его точность."
   ]
  },
  {
   "cell_type": "markdown",
   "metadata": {},
   "source": [
    "<div class=\"alert alert-success\">\n",
    "<b>Комментарий ревьюера v2: </b> \n",
    "    \n",
    "Абсолютно верно.\n",
    "</div>"
   ]
  },
  {
   "cell_type": "markdown",
   "metadata": {
    "id": "XFSN5lrEgFyR"
   },
   "source": [
    "#### Шаг 2.5. Проверьте количественные значения\n",
    "\n",
    "- Проверьте, обнаружились ли в таких столбцах подозрительные данные. Как с такими данными лучше поступить?\n",
    "\n",
    "<div id=\"accordion\">\n",
    "    <div class=\"card\">\n",
    "        <div class=\"card-header\" id=\"headingThree\">\n",
    "            <button class=\"btn btn-link collapsed\" data-toggle=\"collapse\" data-target=\"#collapseHint_budget\" aria-expanded=\"false\" aria-controls=\"collapseHint_budget\">Подсказка</button>\n",
    "        </div>\n",
    "        <div id=\"collapseHint_budget\" class=\"collapse\" aria-labelledby=\"headingThree\" data-parent=\"#accordion\">\n",
    "            <div class=\"card-body\">\n",
    "Обратите внимание на описание столбца <code>budget</code>. Как этот столбец соотносится с двумя другими: <code>refundable_support</code> и <code>nonrefundable_support</code>?\n",
    "            </div>\n",
    "        </div>\n",
    "    </div>\n",
    "</div>"
   ]
  },
  {
   "cell_type": "markdown",
   "metadata": {},
   "source": [
    "Столбцы budget, refundable_support и nonrefundable_support а также financing_source - заполнены тольок 332 строки (4.4% от датасета)"
   ]
  },
  {
   "cell_type": "code",
   "execution_count": 26,
   "metadata": {},
   "outputs": [
    {
     "data": {
      "text/html": [
       "<div>\n",
       "<style scoped>\n",
       "    .dataframe tbody tr th:only-of-type {\n",
       "        vertical-align: middle;\n",
       "    }\n",
       "\n",
       "    .dataframe tbody tr th {\n",
       "        vertical-align: top;\n",
       "    }\n",
       "\n",
       "    .dataframe thead th {\n",
       "        text-align: right;\n",
       "    }\n",
       "</style>\n",
       "<table border=\"1\" class=\"dataframe\">\n",
       "  <thead>\n",
       "    <tr style=\"text-align: right;\">\n",
       "      <th></th>\n",
       "      <th>puNumber</th>\n",
       "      <th>refundable_support</th>\n",
       "      <th>nonrefundable_support</th>\n",
       "      <th>budget</th>\n",
       "      <th>ratings</th>\n",
       "      <th>box_office</th>\n",
       "    </tr>\n",
       "  </thead>\n",
       "  <tbody>\n",
       "    <tr>\n",
       "      <td>count</td>\n",
       "      <td>7.484000e+03</td>\n",
       "      <td>3.320000e+02</td>\n",
       "      <td>3.320000e+02</td>\n",
       "      <td>3.320000e+02</td>\n",
       "      <td>6517.000000</td>\n",
       "      <td>3.158000e+03</td>\n",
       "    </tr>\n",
       "    <tr>\n",
       "      <td>mean</td>\n",
       "      <td>1.353039e+08</td>\n",
       "      <td>1.186446e+07</td>\n",
       "      <td>4.898099e+07</td>\n",
       "      <td>1.272297e+08</td>\n",
       "      <td>6.487955</td>\n",
       "      <td>7.647870e+07</td>\n",
       "    </tr>\n",
       "    <tr>\n",
       "      <td>std</td>\n",
       "      <td>3.995211e+07</td>\n",
       "      <td>2.491656e+07</td>\n",
       "      <td>5.998012e+07</td>\n",
       "      <td>1.885883e+08</td>\n",
       "      <td>1.114717</td>\n",
       "      <td>2.403531e+08</td>\n",
       "    </tr>\n",
       "    <tr>\n",
       "      <td>min</td>\n",
       "      <td>1.811096e+06</td>\n",
       "      <td>0.000000e+00</td>\n",
       "      <td>0.000000e+00</td>\n",
       "      <td>0.000000e+00</td>\n",
       "      <td>1.000000</td>\n",
       "      <td>0.000000e+00</td>\n",
       "    </tr>\n",
       "    <tr>\n",
       "      <td>25%</td>\n",
       "      <td>1.120251e+08</td>\n",
       "      <td>0.000000e+00</td>\n",
       "      <td>2.500000e+07</td>\n",
       "      <td>4.200000e+07</td>\n",
       "      <td>5.900000</td>\n",
       "      <td>8.623900e+04</td>\n",
       "    </tr>\n",
       "    <tr>\n",
       "      <td>50%</td>\n",
       "      <td>1.210155e+08</td>\n",
       "      <td>0.000000e+00</td>\n",
       "      <td>3.000000e+07</td>\n",
       "      <td>6.864992e+07</td>\n",
       "      <td>6.600000</td>\n",
       "      <td>2.327988e+06</td>\n",
       "    </tr>\n",
       "    <tr>\n",
       "      <td>75%</td>\n",
       "      <td>1.240033e+08</td>\n",
       "      <td>1.500000e+07</td>\n",
       "      <td>4.037500e+07</td>\n",
       "      <td>1.419853e+08</td>\n",
       "      <td>7.200000</td>\n",
       "      <td>2.397967e+07</td>\n",
       "    </tr>\n",
       "    <tr>\n",
       "      <td>max</td>\n",
       "      <td>1.110096e+09</td>\n",
       "      <td>1.800000e+08</td>\n",
       "      <td>4.000000e+08</td>\n",
       "      <td>2.305074e+09</td>\n",
       "      <td>9.900000</td>\n",
       "      <td>3.073569e+09</td>\n",
       "    </tr>\n",
       "  </tbody>\n",
       "</table>\n",
       "</div>"
      ],
      "text/plain": [
       "           puNumber  refundable_support  nonrefundable_support        budget  \\\n",
       "count  7.484000e+03        3.320000e+02           3.320000e+02  3.320000e+02   \n",
       "mean   1.353039e+08        1.186446e+07           4.898099e+07  1.272297e+08   \n",
       "std    3.995211e+07        2.491656e+07           5.998012e+07  1.885883e+08   \n",
       "min    1.811096e+06        0.000000e+00           0.000000e+00  0.000000e+00   \n",
       "25%    1.120251e+08        0.000000e+00           2.500000e+07  4.200000e+07   \n",
       "50%    1.210155e+08        0.000000e+00           3.000000e+07  6.864992e+07   \n",
       "75%    1.240033e+08        1.500000e+07           4.037500e+07  1.419853e+08   \n",
       "max    1.110096e+09        1.800000e+08           4.000000e+08  2.305074e+09   \n",
       "\n",
       "           ratings    box_office  \n",
       "count  6517.000000  3.158000e+03  \n",
       "mean      6.487955  7.647870e+07  \n",
       "std       1.114717  2.403531e+08  \n",
       "min       1.000000  0.000000e+00  \n",
       "25%       5.900000  8.623900e+04  \n",
       "50%       6.600000  2.327988e+06  \n",
       "75%       7.200000  2.397967e+07  \n",
       "max       9.900000  3.073569e+09  "
      ]
     },
     "execution_count": 26,
     "metadata": {},
     "output_type": "execute_result"
    }
   ],
   "source": [
    "df.describe()"
   ]
  },
  {
   "cell_type": "code",
   "execution_count": 27,
   "metadata": {},
   "outputs": [
    {
     "data": {
      "text/plain": [
       "0.6412236551080055"
      ]
     },
     "execution_count": 27,
     "metadata": {},
     "output_type": "execute_result"
    }
   ],
   "source": [
    "df['budget'].corr(df['refundable_support'])"
   ]
  },
  {
   "cell_type": "code",
   "execution_count": 28,
   "metadata": {},
   "outputs": [
    {
     "data": {
      "text/plain": [
       "0.5941693326605133"
      ]
     },
     "execution_count": 28,
     "metadata": {},
     "output_type": "execute_result"
    }
   ],
   "source": [
    "df['budget'].corr(df['nonrefundable_support'])"
   ]
  },
  {
   "cell_type": "markdown",
   "metadata": {},
   "source": [
    "Видим достаточно высокую корреляцию бюджета с возвратными и невозвратными средств государственной поддержки. То есть чем больше бюджет, тем больше возвратных средств. Смущает, что корелляция так же высокая и в невозвратныз средствах."
   ]
  },
  {
   "cell_type": "code",
   "execution_count": 29,
   "metadata": {
    "scrolled": true
   },
   "outputs": [
    {
     "data": {
      "text/html": [
       "<div>\n",
       "<style scoped>\n",
       "    .dataframe tbody tr th:only-of-type {\n",
       "        vertical-align: middle;\n",
       "    }\n",
       "\n",
       "    .dataframe tbody tr th {\n",
       "        vertical-align: top;\n",
       "    }\n",
       "\n",
       "    .dataframe thead th {\n",
       "        text-align: right;\n",
       "    }\n",
       "</style>\n",
       "<table border=\"1\" class=\"dataframe\">\n",
       "  <thead>\n",
       "    <tr style=\"text-align: right;\">\n",
       "      <th></th>\n",
       "      <th>title</th>\n",
       "      <th>puNumber</th>\n",
       "      <th>show_start_date</th>\n",
       "      <th>type</th>\n",
       "      <th>film_studio</th>\n",
       "      <th>production_country</th>\n",
       "      <th>director</th>\n",
       "      <th>producer</th>\n",
       "      <th>age_restriction</th>\n",
       "      <th>refundable_support</th>\n",
       "      <th>nonrefundable_support</th>\n",
       "      <th>budget</th>\n",
       "      <th>financing_source</th>\n",
       "      <th>ratings</th>\n",
       "      <th>genres</th>\n",
       "      <th>box_office</th>\n",
       "    </tr>\n",
       "  </thead>\n",
       "  <tbody>\n",
       "    <tr>\n",
       "      <td>0</td>\n",
       "      <td>Открытый простор</td>\n",
       "      <td>221048915.0</td>\n",
       "      <td>2015-11-27</td>\n",
       "      <td>Художественный</td>\n",
       "      <td>Тачстоун Пикчерз, Кобальт Пикчерз, Бикон Пикче...</td>\n",
       "      <td>США</td>\n",
       "      <td>Кевин Костнер</td>\n",
       "      <td>Дэвид Валдес, Кевин Костнер, Джейк Эбертс</td>\n",
       "      <td>«18+» - запрещено для детей</td>\n",
       "      <td>NaN</td>\n",
       "      <td>NaN</td>\n",
       "      <td>NaN</td>\n",
       "      <td>NaN</td>\n",
       "      <td>7.2</td>\n",
       "      <td>боевик,драма,мелодрама</td>\n",
       "      <td>NaN</td>\n",
       "    </tr>\n",
       "    <tr>\n",
       "      <td>1</td>\n",
       "      <td>Особо важное задание</td>\n",
       "      <td>111013716.0</td>\n",
       "      <td>2016-09-13</td>\n",
       "      <td>Художественный</td>\n",
       "      <td>Киностудия \"Мосфильм\"</td>\n",
       "      <td>СССР</td>\n",
       "      <td>Е.Матвеев</td>\n",
       "      <td>unknown</td>\n",
       "      <td>«6+» - для детей старше 6 лет</td>\n",
       "      <td>NaN</td>\n",
       "      <td>NaN</td>\n",
       "      <td>NaN</td>\n",
       "      <td>NaN</td>\n",
       "      <td>6.6</td>\n",
       "      <td>драма,военный</td>\n",
       "      <td>NaN</td>\n",
       "    </tr>\n",
       "    <tr>\n",
       "      <td>2</td>\n",
       "      <td>Особо опасен</td>\n",
       "      <td>221038416.0</td>\n",
       "      <td>2016-10-10</td>\n",
       "      <td>Художественный</td>\n",
       "      <td>Юниверсал Пикчерз, Кикстарт Продакшнз, Марк Пл...</td>\n",
       "      <td>США</td>\n",
       "      <td>Тимур Бекмамбетов</td>\n",
       "      <td>Джим Лемли, Джейсон Нетер, Марк Е.Платт, Яйн Смит</td>\n",
       "      <td>«18+» - запрещено для детей</td>\n",
       "      <td>NaN</td>\n",
       "      <td>NaN</td>\n",
       "      <td>NaN</td>\n",
       "      <td>NaN</td>\n",
       "      <td>6.8</td>\n",
       "      <td>фантастика,боевик,триллер</td>\n",
       "      <td>NaN</td>\n",
       "    </tr>\n",
       "    <tr>\n",
       "      <td>3</td>\n",
       "      <td>Особо опасен</td>\n",
       "      <td>221026916.0</td>\n",
       "      <td>2016-06-10</td>\n",
       "      <td>Художественный</td>\n",
       "      <td>Юниверсал Пикчерз, Кикстарт Продакшнз, Марк Пл...</td>\n",
       "      <td>США</td>\n",
       "      <td>Тимур Бекмамбетов</td>\n",
       "      <td>Джим Лемли, Джейсон Нетер, Марк Е.Платт, Яйн Смит</td>\n",
       "      <td>«18+» - запрещено для детей</td>\n",
       "      <td>NaN</td>\n",
       "      <td>NaN</td>\n",
       "      <td>NaN</td>\n",
       "      <td>NaN</td>\n",
       "      <td>6.8</td>\n",
       "      <td>фантастика,боевик,триллер</td>\n",
       "      <td>NaN</td>\n",
       "    </tr>\n",
       "    <tr>\n",
       "      <td>4</td>\n",
       "      <td>Особо опасен</td>\n",
       "      <td>221030815.0</td>\n",
       "      <td>2015-07-29</td>\n",
       "      <td>Художественный</td>\n",
       "      <td>Юниверсал Пикчерз, Кикстарт Продакшнз, Марк Пл...</td>\n",
       "      <td>США</td>\n",
       "      <td>Тимур Бекмамбетов</td>\n",
       "      <td>Джим Лемли, Джейсон Нетер, Марк Е.Платт, Яйн Смит</td>\n",
       "      <td>«18+» - запрещено для детей</td>\n",
       "      <td>NaN</td>\n",
       "      <td>NaN</td>\n",
       "      <td>NaN</td>\n",
       "      <td>NaN</td>\n",
       "      <td>6.8</td>\n",
       "      <td>фантастика,боевик,триллер</td>\n",
       "      <td>NaN</td>\n",
       "    </tr>\n",
       "    <tr>\n",
       "      <td>...</td>\n",
       "      <td>...</td>\n",
       "      <td>...</td>\n",
       "      <td>...</td>\n",
       "      <td>...</td>\n",
       "      <td>...</td>\n",
       "      <td>...</td>\n",
       "      <td>...</td>\n",
       "      <td>...</td>\n",
       "      <td>...</td>\n",
       "      <td>...</td>\n",
       "      <td>...</td>\n",
       "      <td>...</td>\n",
       "      <td>...</td>\n",
       "      <td>...</td>\n",
       "      <td>...</td>\n",
       "      <td>...</td>\n",
       "    </tr>\n",
       "    <tr>\n",
       "      <td>7481</td>\n",
       "      <td>Сад художника: Американский импрессионизм</td>\n",
       "      <td>126008019.0</td>\n",
       "      <td>2019-12-23</td>\n",
       "      <td>Прочие</td>\n",
       "      <td>Севен Артс Продакшнз</td>\n",
       "      <td>Великобритания</td>\n",
       "      <td>Фил Грабски</td>\n",
       "      <td>Фил Грабски</td>\n",
       "      <td>«12+» - для детей старше 12 лет</td>\n",
       "      <td>NaN</td>\n",
       "      <td>NaN</td>\n",
       "      <td>NaN</td>\n",
       "      <td>NaN</td>\n",
       "      <td>NaN</td>\n",
       "      <td>unknown</td>\n",
       "      <td>NaN</td>\n",
       "    </tr>\n",
       "    <tr>\n",
       "      <td>7482</td>\n",
       "      <td>Звериная ярость</td>\n",
       "      <td>121037819.0</td>\n",
       "      <td>2019-12-24</td>\n",
       "      <td>Художественный</td>\n",
       "      <td>Дэниел Гродник Продакшнз, Вандерфилм Медиа Кор...</td>\n",
       "      <td>США</td>\n",
       "      <td>Ник Пауэлл</td>\n",
       "      <td>Джефф Боулер, Дэниэл Гродник, Луильо Руис, Брэ...</td>\n",
       "      <td>«16+» - для детей старше 16 лет</td>\n",
       "      <td>NaN</td>\n",
       "      <td>NaN</td>\n",
       "      <td>NaN</td>\n",
       "      <td>NaN</td>\n",
       "      <td>5.4</td>\n",
       "      <td>боевик,триллер</td>\n",
       "      <td>NaN</td>\n",
       "    </tr>\n",
       "    <tr>\n",
       "      <td>7483</td>\n",
       "      <td>Щенячий патруль: Скорей спешим на помощь!</td>\n",
       "      <td>124010819.0</td>\n",
       "      <td>2019-12-28</td>\n",
       "      <td>Художественный</td>\n",
       "      <td>Никелодеон Анимейшн Студиос, Спин Мастер</td>\n",
       "      <td>США - Канада</td>\n",
       "      <td>Чарльз Е.Бастьен</td>\n",
       "      <td>Дженнифер Додж</td>\n",
       "      <td>«0+» - для любой зрительской аудитории</td>\n",
       "      <td>NaN</td>\n",
       "      <td>NaN</td>\n",
       "      <td>NaN</td>\n",
       "      <td>NaN</td>\n",
       "      <td>NaN</td>\n",
       "      <td>unknown</td>\n",
       "      <td>NaN</td>\n",
       "    </tr>\n",
       "    <tr>\n",
       "      <td>7484</td>\n",
       "      <td>Машины песенки. Серия \"Испанские мотивы\"</td>\n",
       "      <td>124010619.0</td>\n",
       "      <td>2019-12-30</td>\n",
       "      <td>Анимационный</td>\n",
       "      <td>Анимаккорд Лтд., ООО Студия \"АНИМАККОРД\"</td>\n",
       "      <td>Республика Кипр, Россия</td>\n",
       "      <td>А.Беляев</td>\n",
       "      <td>Д.Ловейко</td>\n",
       "      <td>«0+» - для любой зрительской аудитории</td>\n",
       "      <td>NaN</td>\n",
       "      <td>NaN</td>\n",
       "      <td>NaN</td>\n",
       "      <td>NaN</td>\n",
       "      <td>NaN</td>\n",
       "      <td>unknown</td>\n",
       "      <td>NaN</td>\n",
       "    </tr>\n",
       "    <tr>\n",
       "      <td>7485</td>\n",
       "      <td>Машины песенки. Серия \"Когда цветут кактусы\"</td>\n",
       "      <td>124010719.0</td>\n",
       "      <td>2019-12-30</td>\n",
       "      <td>Анимационный</td>\n",
       "      <td>Анимаккорд Лтд., ООО Студия \"АНИМАККОРД\"</td>\n",
       "      <td>Республика Кипр, Россия</td>\n",
       "      <td>И.Трусов</td>\n",
       "      <td>Д.Ловейко</td>\n",
       "      <td>«0+» - для любой зрительской аудитории</td>\n",
       "      <td>NaN</td>\n",
       "      <td>NaN</td>\n",
       "      <td>NaN</td>\n",
       "      <td>NaN</td>\n",
       "      <td>6.3</td>\n",
       "      <td>комедия,вестерн</td>\n",
       "      <td>NaN</td>\n",
       "    </tr>\n",
       "  </tbody>\n",
       "</table>\n",
       "<p>7152 rows × 16 columns</p>\n",
       "</div>"
      ],
      "text/plain": [
       "                                             title     puNumber  \\\n",
       "0                                 Открытый простор  221048915.0   \n",
       "1                             Особо важное задание  111013716.0   \n",
       "2                                     Особо опасен  221038416.0   \n",
       "3                                     Особо опасен  221026916.0   \n",
       "4                                     Особо опасен  221030815.0   \n",
       "...                                            ...          ...   \n",
       "7481     Сад художника: Американский импрессионизм  126008019.0   \n",
       "7482                               Звериная ярость  121037819.0   \n",
       "7483     Щенячий патруль: Скорей спешим на помощь!  124010819.0   \n",
       "7484      Машины песенки. Серия \"Испанские мотивы\"  124010619.0   \n",
       "7485  Машины песенки. Серия \"Когда цветут кактусы\"  124010719.0   \n",
       "\n",
       "     show_start_date            type  \\\n",
       "0         2015-11-27  Художественный   \n",
       "1         2016-09-13  Художественный   \n",
       "2         2016-10-10  Художественный   \n",
       "3         2016-06-10  Художественный   \n",
       "4         2015-07-29  Художественный   \n",
       "...              ...             ...   \n",
       "7481      2019-12-23          Прочие   \n",
       "7482      2019-12-24  Художественный   \n",
       "7483      2019-12-28  Художественный   \n",
       "7484      2019-12-30    Анимационный   \n",
       "7485      2019-12-30    Анимационный   \n",
       "\n",
       "                                            film_studio  \\\n",
       "0     Тачстоун Пикчерз, Кобальт Пикчерз, Бикон Пикче...   \n",
       "1                                 Киностудия \"Мосфильм\"   \n",
       "2     Юниверсал Пикчерз, Кикстарт Продакшнз, Марк Пл...   \n",
       "3     Юниверсал Пикчерз, Кикстарт Продакшнз, Марк Пл...   \n",
       "4     Юниверсал Пикчерз, Кикстарт Продакшнз, Марк Пл...   \n",
       "...                                                 ...   \n",
       "7481                               Севен Артс Продакшнз   \n",
       "7482  Дэниел Гродник Продакшнз, Вандерфилм Медиа Кор...   \n",
       "7483           Никелодеон Анимейшн Студиос, Спин Мастер   \n",
       "7484           Анимаккорд Лтд., ООО Студия \"АНИМАККОРД\"   \n",
       "7485           Анимаккорд Лтд., ООО Студия \"АНИМАККОРД\"   \n",
       "\n",
       "           production_country           director  \\\n",
       "0                         США      Кевин Костнер   \n",
       "1                        СССР          Е.Матвеев   \n",
       "2                         США  Тимур Бекмамбетов   \n",
       "3                         США  Тимур Бекмамбетов   \n",
       "4                         США  Тимур Бекмамбетов   \n",
       "...                       ...                ...   \n",
       "7481           Великобритания        Фил Грабски   \n",
       "7482                      США         Ник Пауэлл   \n",
       "7483             США - Канада   Чарльз Е.Бастьен   \n",
       "7484  Республика Кипр, Россия           А.Беляев   \n",
       "7485  Республика Кипр, Россия           И.Трусов   \n",
       "\n",
       "                                               producer  \\\n",
       "0             Дэвид Валдес, Кевин Костнер, Джейк Эбертс   \n",
       "1                                               unknown   \n",
       "2     Джим Лемли, Джейсон Нетер, Марк Е.Платт, Яйн Смит   \n",
       "3     Джим Лемли, Джейсон Нетер, Марк Е.Платт, Яйн Смит   \n",
       "4     Джим Лемли, Джейсон Нетер, Марк Е.Платт, Яйн Смит   \n",
       "...                                                 ...   \n",
       "7481                                        Фил Грабски   \n",
       "7482  Джефф Боулер, Дэниэл Гродник, Луильо Руис, Брэ...   \n",
       "7483                                     Дженнифер Додж   \n",
       "7484                                          Д.Ловейко   \n",
       "7485                                          Д.Ловейко   \n",
       "\n",
       "                             age_restriction  refundable_support  \\\n",
       "0                «18+» - запрещено для детей                 NaN   \n",
       "1              «6+» - для детей старше 6 лет                 NaN   \n",
       "2                «18+» - запрещено для детей                 NaN   \n",
       "3                «18+» - запрещено для детей                 NaN   \n",
       "4                «18+» - запрещено для детей                 NaN   \n",
       "...                                      ...                 ...   \n",
       "7481         «12+» - для детей старше 12 лет                 NaN   \n",
       "7482         «16+» - для детей старше 16 лет                 NaN   \n",
       "7483  «0+» - для любой зрительской аудитории                 NaN   \n",
       "7484  «0+» - для любой зрительской аудитории                 NaN   \n",
       "7485  «0+» - для любой зрительской аудитории                 NaN   \n",
       "\n",
       "      nonrefundable_support  budget financing_source  ratings  \\\n",
       "0                       NaN     NaN              NaN      7.2   \n",
       "1                       NaN     NaN              NaN      6.6   \n",
       "2                       NaN     NaN              NaN      6.8   \n",
       "3                       NaN     NaN              NaN      6.8   \n",
       "4                       NaN     NaN              NaN      6.8   \n",
       "...                     ...     ...              ...      ...   \n",
       "7481                    NaN     NaN              NaN      NaN   \n",
       "7482                    NaN     NaN              NaN      5.4   \n",
       "7483                    NaN     NaN              NaN      NaN   \n",
       "7484                    NaN     NaN              NaN      NaN   \n",
       "7485                    NaN     NaN              NaN      6.3   \n",
       "\n",
       "                         genres  box_office  \n",
       "0        боевик,драма,мелодрама         NaN  \n",
       "1                 драма,военный         NaN  \n",
       "2     фантастика,боевик,триллер         NaN  \n",
       "3     фантастика,боевик,триллер         NaN  \n",
       "4     фантастика,боевик,триллер         NaN  \n",
       "...                         ...         ...  \n",
       "7481                    unknown         NaN  \n",
       "7482             боевик,триллер         NaN  \n",
       "7483                    unknown         NaN  \n",
       "7484                    unknown         NaN  \n",
       "7485            комедия,вестерн         NaN  \n",
       "\n",
       "[7152 rows x 16 columns]"
      ]
     },
     "metadata": {},
     "output_type": "display_data"
    }
   ],
   "source": [
    "display(df[df['budget'].isna()])"
   ]
  },
  {
   "cell_type": "markdown",
   "metadata": {},
   "source": [
    "<div class=\"alert alert-danger\">\n",
    "<b>Комментарий ревьюера: </b> \n",
    "    \n",
    "Попробуй еще поискать подозрительные данные. Подсказка: обрати внимание, что сумма возвратной и невозвратной гос поддержки бывает больше, чем бюджет. Так быть не должно.\n",
    "</div>"
   ]
  },
  {
   "cell_type": "markdown",
   "metadata": {},
   "source": [
    "<div class=\"alert alert-info\">\n",
    "<b>Я в процессе исследования с этими тремя столбцами тупил конкретно. Если я правильно понял логику, то возвратные + невозвратные = какая то часть от общего бюджета. Она дейтвительно не должна превышать весь бюджет. Вероятно, в данных есть ошибки заполнения или даже не заполненные данные, что видно, если применить query ниже - везде где несовпадает бюджет с суммированием возвратных и не возвратных стоят нули. Такого быть не должно. Тогда тут еще вопрос встает - стоит ли менять данные - то есть в случаях с нулями заменить их на сумму возвратных и невозвратных. Но тут неизветен объем других стредств, поэтмоу лучше ничего неделать и обратиться к поставщику данных для уточнения. </div>"
   ]
  },
  {
   "cell_type": "markdown",
   "metadata": {},
   "source": [
    "<div class=\"alert alert-success\">\n",
    "<b>Комментарий ревьюера v2: </b> \n",
    "    \n",
    "Согласна с твоими размышлениями!\n",
    "</div>"
   ]
  },
  {
   "cell_type": "markdown",
   "metadata": {},
   "source": [
    "<div class=\"alert alert-danger\">\n",
    "<b>Комментарий ревьюера v2: </b> \n",
    "    \n",
    "Только вот ты либо удаляешь эти строки в основном датафрейме, либо далее используешь уже `df_4`, иначе ты зря все это удалял.\n",
    "</div>"
   ]
  },
  {
   "cell_type": "markdown",
   "metadata": {},
   "source": [
    "<div class=\"alert alert-danger\">\n",
    "<b>Комментарий ревьюера v3: </b> \n",
    "    \n",
    "Строки с нулевым бюджетом не должны участовать в исследовании. Их нужно либо заполнить суммой возвратной и невозвратной гос поддержки, либо просто удалить.\n",
    "</div>"
   ]
  },
  {
   "cell_type": "markdown",
   "metadata": {},
   "source": [
    "<div class=\"alert alert-info\">\n",
    "<b>Строки с нулевыми значениями бюджета я лучше удалю. Есть вероятность получить некорректные цифры если заменить их суммой только возвратных и невозвратных - как я писал ранее , может оказаться что были еще страдства, но из-за каких то сбоев даные не занеслись. Тогда только возвратные и невозвратные в сумме могут подпортить общую картину, логичнее выглядит удалить просто строки с нулевым бюджетом. Ниже удалил, получилось 301 строчка для исследования. </div>"
   ]
  },
  {
   "cell_type": "markdown",
   "metadata": {},
   "source": [
    "<div class=\"alert alert-danger\">\n",
    "<b>Комментарий ревьюера v4: </b> \n",
    "    \n",
    "Руслан, ты успустил важную деталь. Тебе нужно отсеять не строки с пропусками в данном случае, а строки, где бюджет равен нулю, это не одно и то же.\n",
    "    \n",
    "Причем предлагаю делать это здесь же и для всего датафрейма, чтобы потом уже не держать это в голове. Строк с нулевым бюджетом не так много.\n",
    "    \n",
    "    \n",
    "Дело в том, что строки с пропусками в расчетах и не участвуют, а вот строки с нулями, участвуют и их нарушают.\n",
    "</div>"
   ]
  },
  {
   "cell_type": "code",
   "execution_count": 30,
   "metadata": {},
   "outputs": [
    {
     "data": {
      "text/plain": [
       "array([           nan, 7.94119000e+07, 3.71428570e+07, 1.76023490e+08,\n",
       "       4.05741400e+07, 4.00151220e+07, 5.18500000e+07, 2.20588394e+08,\n",
       "       8.62100670e+07, 1.39551503e+08, 4.85714300e+07, 8.00000000e+07,\n",
       "       3.62595000e+07, 7.08761720e+07, 2.52489571e+08, 7.49100000e+07,\n",
       "       8.97823120e+07, 4.36437176e+08, 4.05000000e+07, 6.84906060e+07,\n",
       "       4.50066090e+07, 1.31000000e+08, 5.00000000e+08, 6.10114070e+07,\n",
       "       4.00000000e+07, 3.73712620e+07, 3.52969500e+07, 4.30000000e+07,\n",
       "       7.74017510e+07, 3.50000000e+07, 5.11967110e+07, 9.01200000e+07,\n",
       "       2.67288892e+08, 4.92804960e+07, 4.90714280e+07, 4.69688830e+07,\n",
       "       5.51950000e+07, 1.56360666e+08, 3.74247960e+07, 3.57600600e+07,\n",
       "       2.81155800e+07, 3.79436520e+07, 1.38325738e+08, 4.22525090e+07,\n",
       "       3.99900000e+07, 1.12000000e+08, 5.57294240e+07, 3.57142860e+07,\n",
       "       1.39357211e+08, 5.02187410e+07, 4.02650000e+07, 3.90579710e+07,\n",
       "       9.25000000e+07, 4.14978600e+07, 8.62363940e+07, 8.03241370e+07,\n",
       "       2.40153900e+08, 1.00274436e+08, 4.02877700e+07, 2.85714290e+07,\n",
       "       3.84768690e+07, 2.70000000e+07, 8.16124110e+07, 6.40300800e+07,\n",
       "       8.02732770e+07, 3.60000000e+08, 1.30619336e+08, 5.28600000e+07,\n",
       "       1.11736163e+08, 5.54049630e+07, 7.33795540e+07, 4.20000000e+07,\n",
       "       1.05445546e+08, 5.80784510e+07, 1.34000000e+08, 8.46670380e+07,\n",
       "       1.64780000e+08, 4.19989840e+07, 5.95607460e+07, 7.40719180e+07,\n",
       "       3.90000000e+07, 8.53840000e+07, 1.50008573e+08, 5.21246380e+07,\n",
       "       2.11810247e+08, 6.35283867e+08, 3.78891650e+07, 4.62000000e+07,\n",
       "       7.59409410e+07, 5.42096570e+07, 9.00000000e+07, 6.94287280e+07,\n",
       "       6.98830490e+07, 4.28600000e+07, 4.61600000e+07, 6.20446460e+07,\n",
       "       4.86611500e+07, 3.99075326e+08, 6.10700000e+07, 3.84615380e+07,\n",
       "       4.55386550e+07, 3.80000000e+07, 5.69095200e+07, 5.38462000e+07,\n",
       "       1.79257987e+08, 1.09020947e+08, 9.02767740e+07, 7.86865000e+07,\n",
       "       1.44624640e+07, 2.15860000e+08, 5.00000000e+07, 7.00000000e+07,\n",
       "       9.10000000e+07, 3.70009900e+07, 2.22177790e+08, 3.84400000e+07,\n",
       "       6.82942000e+07, 1.62630398e+08, 2.26271533e+08, 5.28441977e+08,\n",
       "       5.99374700e+07, 7.50001350e+07, 2.22513841e+08, 4.61954270e+07,\n",
       "       6.88092260e+07, 6.10000000e+07, 6.84200536e+08, 2.87802711e+08,\n",
       "       7.00864390e+07, 6.30000000e+07, 3.85000000e+07, 1.10464061e+08,\n",
       "       9.50000000e+07, 1.13837339e+08, 5.43032220e+07, 4.30000000e+08,\n",
       "       1.82659393e+08, 3.23232109e+08, 5.78743750e+07, 2.06982031e+08,\n",
       "       1.20000000e+08, 2.02484224e+08, 9.08227660e+07, 3.60162690e+07,\n",
       "       1.26932894e+08, 5.46875000e+07, 2.43122945e+08, 3.13053130e+07,\n",
       "       2.15162287e+08, 3.78787870e+07, 2.10405981e+08, 3.20000000e+08,\n",
       "       4.61538870e+07, 1.80000000e+08, 4.54832330e+07, 4.06008000e+07,\n",
       "       2.04674000e+08, 3.44905389e+08, 1.28570000e+08, 6.50000000e+07,\n",
       "       4.73280000e+07, 1.87060800e+07, 5.77670810e+07, 9.02780630e+07,\n",
       "       5.40000000e+07, 6.31700000e+07, 4.66573110e+07, 3.00000000e+07,\n",
       "       1.03290596e+09, 7.70000000e+07, 8.35534120e+07, 1.57236080e+08,\n",
       "       5.71667970e+07, 4.93733957e+08, 3.52477575e+08, 7.80963150e+07,\n",
       "       2.19398491e+08, 7.42751000e+07, 5.00012729e+08, 3.84667000e+07,\n",
       "       1.81664180e+07, 4.86808580e+07, 1.36230333e+08, 5.84473010e+07,\n",
       "       1.50000000e+08, 1.74381922e+08, 1.30000000e+08, 5.90192191e+08,\n",
       "       1.74464395e+08, 4.46000000e+07, 2.92412422e+08, 1.70122675e+08,\n",
       "       1.48585222e+08, 6.00000000e+07, 1.09609029e+08, 8.28004880e+07,\n",
       "       8.76491270e+07, 2.04400968e+08, 1.40005238e+08, 1.10000000e+08,\n",
       "       3.90191139e+08, 1.09814241e+08, 3.78491030e+07, 1.18000000e+08,\n",
       "       2.98500000e+08, 2.00067392e+08, 3.76000000e+07, 1.14510306e+08,\n",
       "       3.91292890e+07, 9.50655460e+07, 3.85000000e+08, 3.08000000e+07,\n",
       "       3.77656540e+07, 6.20000000e+07, 1.68271268e+08, 1.11812387e+08,\n",
       "       4.50450500e+07, 1.81302726e+08, 7.03050000e+07, 8.24968890e+07,\n",
       "       6.03735760e+07, 7.69130580e+07, 4.69237760e+07, 4.82380750e+07,\n",
       "       9.30000000e+07, 4.50745470e+07, 1.54245687e+08, 1.72763618e+08,\n",
       "       1.85500705e+08, 3.97000000e+07, 1.79708770e+08, 5.63784717e+08,\n",
       "       3.56550000e+08, 3.35567667e+08, 1.23714264e+08, 1.15000000e+08,\n",
       "       4.42865840e+07, 5.66935590e+07, 1.01463696e+08, 1.08518988e+08,\n",
       "       4.99826569e+08, 4.69411400e+07, 7.83551540e+07, 1.02760000e+08,\n",
       "       2.64578774e+08, 1.69000000e+08, 2.40041307e+08, 1.65222908e+08,\n",
       "       4.53704666e+08, 3.77442800e+07, 3.88582600e+07, 3.75000000e+07,\n",
       "       4.80000000e+07, 4.61538460e+07, 1.05721524e+08, 4.10000000e+07,\n",
       "       6.15714490e+07, 4.63000000e+07, 4.72000000e+07, 3.00000000e+08,\n",
       "       5.50000000e+07, 6.06685760e+07, 4.50500000e+07, 7.15176310e+07,\n",
       "       1.50100000e+07, 6.01503760e+07, 6.47929130e+07, 6.79427180e+07,\n",
       "       2.30507430e+09, 1.01659240e+08, 6.24157490e+07, 1.54989700e+08,\n",
       "       7.79941965e+08, 3.30000000e+07, 1.47866278e+08, 5.78760000e+07,\n",
       "       2.50000000e+08, 1.40025000e+08, 3.04489110e+07, 7.50000000e+07,\n",
       "       3.60054850e+08, 4.77340500e+07, 7.84222120e+07, 2.70000000e+08,\n",
       "       1.60000000e+08, 9.80000000e+08, 1.90000000e+08, 9.44000000e+08,\n",
       "       4.61540000e+07, 1.50147502e+08])"
      ]
     },
     "execution_count": 30,
     "metadata": {},
     "output_type": "execute_result"
    }
   ],
   "source": [
    "df = df[df.budget != 0]\n",
    "df['budget'].unique()"
   ]
  },
  {
   "cell_type": "markdown",
   "metadata": {},
   "source": [
    "<div class=\"alert alert-info\">\n",
    "<b>Строки с нулевым значением удалил! </div>"
   ]
  },
  {
   "cell_type": "markdown",
   "metadata": {},
   "source": [
    "<div class=\"alert alert-success\">\n",
    "<b>Комментарий ревьюера v5: </b> \n",
    "\n",
    "То что надо.\n",
    "</div>"
   ]
  },
  {
   "cell_type": "markdown",
   "metadata": {
    "id": "Eu6oWp2CgFyS"
   },
   "source": [
    "#### Шаг 2.6. Добавьте новые столбцы\n",
    "\n",
    "\n",
    "\n"
   ]
  },
  {
   "cell_type": "markdown",
   "metadata": {
    "id": "7GgW-UpAgFyS"
   },
   "source": [
    "- Создайте столбец с информацией о годе проката. Выделите год из даты премьеры фильма."
   ]
  },
  {
   "cell_type": "code",
   "execution_count": 31,
   "metadata": {
    "id": "I-yd1DkWgFyT"
   },
   "outputs": [
    {
     "data": {
      "text/html": [
       "<div>\n",
       "<style scoped>\n",
       "    .dataframe tbody tr th:only-of-type {\n",
       "        vertical-align: middle;\n",
       "    }\n",
       "\n",
       "    .dataframe tbody tr th {\n",
       "        vertical-align: top;\n",
       "    }\n",
       "\n",
       "    .dataframe thead th {\n",
       "        text-align: right;\n",
       "    }\n",
       "</style>\n",
       "<table border=\"1\" class=\"dataframe\">\n",
       "  <thead>\n",
       "    <tr style=\"text-align: right;\">\n",
       "      <th></th>\n",
       "      <th>title</th>\n",
       "      <th>puNumber</th>\n",
       "      <th>show_start_date</th>\n",
       "      <th>type</th>\n",
       "      <th>film_studio</th>\n",
       "      <th>production_country</th>\n",
       "      <th>director</th>\n",
       "      <th>producer</th>\n",
       "      <th>age_restriction</th>\n",
       "      <th>refundable_support</th>\n",
       "      <th>nonrefundable_support</th>\n",
       "      <th>budget</th>\n",
       "      <th>financing_source</th>\n",
       "      <th>ratings</th>\n",
       "      <th>genres</th>\n",
       "      <th>box_office</th>\n",
       "      <th>date_year</th>\n",
       "    </tr>\n",
       "  </thead>\n",
       "  <tbody>\n",
       "    <tr>\n",
       "      <td>0</td>\n",
       "      <td>Открытый простор</td>\n",
       "      <td>221048915.0</td>\n",
       "      <td>2015-11-27</td>\n",
       "      <td>Художественный</td>\n",
       "      <td>Тачстоун Пикчерз, Кобальт Пикчерз, Бикон Пикче...</td>\n",
       "      <td>США</td>\n",
       "      <td>Кевин Костнер</td>\n",
       "      <td>Дэвид Валдес, Кевин Костнер, Джейк Эбертс</td>\n",
       "      <td>«18+» - запрещено для детей</td>\n",
       "      <td>NaN</td>\n",
       "      <td>NaN</td>\n",
       "      <td>NaN</td>\n",
       "      <td>NaN</td>\n",
       "      <td>7.2</td>\n",
       "      <td>боевик,драма,мелодрама</td>\n",
       "      <td>NaN</td>\n",
       "      <td>2015</td>\n",
       "    </tr>\n",
       "    <tr>\n",
       "      <td>1</td>\n",
       "      <td>Особо важное задание</td>\n",
       "      <td>111013716.0</td>\n",
       "      <td>2016-09-13</td>\n",
       "      <td>Художественный</td>\n",
       "      <td>Киностудия \"Мосфильм\"</td>\n",
       "      <td>СССР</td>\n",
       "      <td>Е.Матвеев</td>\n",
       "      <td>unknown</td>\n",
       "      <td>«6+» - для детей старше 6 лет</td>\n",
       "      <td>NaN</td>\n",
       "      <td>NaN</td>\n",
       "      <td>NaN</td>\n",
       "      <td>NaN</td>\n",
       "      <td>6.6</td>\n",
       "      <td>драма,военный</td>\n",
       "      <td>NaN</td>\n",
       "      <td>2016</td>\n",
       "    </tr>\n",
       "    <tr>\n",
       "      <td>2</td>\n",
       "      <td>Особо опасен</td>\n",
       "      <td>221038416.0</td>\n",
       "      <td>2016-10-10</td>\n",
       "      <td>Художественный</td>\n",
       "      <td>Юниверсал Пикчерз, Кикстарт Продакшнз, Марк Пл...</td>\n",
       "      <td>США</td>\n",
       "      <td>Тимур Бекмамбетов</td>\n",
       "      <td>Джим Лемли, Джейсон Нетер, Марк Е.Платт, Яйн Смит</td>\n",
       "      <td>«18+» - запрещено для детей</td>\n",
       "      <td>NaN</td>\n",
       "      <td>NaN</td>\n",
       "      <td>NaN</td>\n",
       "      <td>NaN</td>\n",
       "      <td>6.8</td>\n",
       "      <td>фантастика,боевик,триллер</td>\n",
       "      <td>NaN</td>\n",
       "      <td>2016</td>\n",
       "    </tr>\n",
       "    <tr>\n",
       "      <td>3</td>\n",
       "      <td>Особо опасен</td>\n",
       "      <td>221026916.0</td>\n",
       "      <td>2016-06-10</td>\n",
       "      <td>Художественный</td>\n",
       "      <td>Юниверсал Пикчерз, Кикстарт Продакшнз, Марк Пл...</td>\n",
       "      <td>США</td>\n",
       "      <td>Тимур Бекмамбетов</td>\n",
       "      <td>Джим Лемли, Джейсон Нетер, Марк Е.Платт, Яйн Смит</td>\n",
       "      <td>«18+» - запрещено для детей</td>\n",
       "      <td>NaN</td>\n",
       "      <td>NaN</td>\n",
       "      <td>NaN</td>\n",
       "      <td>NaN</td>\n",
       "      <td>6.8</td>\n",
       "      <td>фантастика,боевик,триллер</td>\n",
       "      <td>NaN</td>\n",
       "      <td>2016</td>\n",
       "    </tr>\n",
       "    <tr>\n",
       "      <td>4</td>\n",
       "      <td>Особо опасен</td>\n",
       "      <td>221030815.0</td>\n",
       "      <td>2015-07-29</td>\n",
       "      <td>Художественный</td>\n",
       "      <td>Юниверсал Пикчерз, Кикстарт Продакшнз, Марк Пл...</td>\n",
       "      <td>США</td>\n",
       "      <td>Тимур Бекмамбетов</td>\n",
       "      <td>Джим Лемли, Джейсон Нетер, Марк Е.Платт, Яйн Смит</td>\n",
       "      <td>«18+» - запрещено для детей</td>\n",
       "      <td>NaN</td>\n",
       "      <td>NaN</td>\n",
       "      <td>NaN</td>\n",
       "      <td>NaN</td>\n",
       "      <td>6.8</td>\n",
       "      <td>фантастика,боевик,триллер</td>\n",
       "      <td>NaN</td>\n",
       "      <td>2015</td>\n",
       "    </tr>\n",
       "  </tbody>\n",
       "</table>\n",
       "</div>"
      ],
      "text/plain": [
       "                  title     puNumber show_start_date            type  \\\n",
       "0      Открытый простор  221048915.0      2015-11-27  Художественный   \n",
       "1  Особо важное задание  111013716.0      2016-09-13  Художественный   \n",
       "2          Особо опасен  221038416.0      2016-10-10  Художественный   \n",
       "3          Особо опасен  221026916.0      2016-06-10  Художественный   \n",
       "4          Особо опасен  221030815.0      2015-07-29  Художественный   \n",
       "\n",
       "                                         film_studio production_country  \\\n",
       "0  Тачстоун Пикчерз, Кобальт Пикчерз, Бикон Пикче...                США   \n",
       "1                              Киностудия \"Мосфильм\"               СССР   \n",
       "2  Юниверсал Пикчерз, Кикстарт Продакшнз, Марк Пл...                США   \n",
       "3  Юниверсал Пикчерз, Кикстарт Продакшнз, Марк Пл...                США   \n",
       "4  Юниверсал Пикчерз, Кикстарт Продакшнз, Марк Пл...                США   \n",
       "\n",
       "            director                                           producer  \\\n",
       "0      Кевин Костнер          Дэвид Валдес, Кевин Костнер, Джейк Эбертс   \n",
       "1          Е.Матвеев                                            unknown   \n",
       "2  Тимур Бекмамбетов  Джим Лемли, Джейсон Нетер, Марк Е.Платт, Яйн Смит   \n",
       "3  Тимур Бекмамбетов  Джим Лемли, Джейсон Нетер, Марк Е.Платт, Яйн Смит   \n",
       "4  Тимур Бекмамбетов  Джим Лемли, Джейсон Нетер, Марк Е.Платт, Яйн Смит   \n",
       "\n",
       "                 age_restriction  refundable_support  nonrefundable_support  \\\n",
       "0    «18+» - запрещено для детей                 NaN                    NaN   \n",
       "1  «6+» - для детей старше 6 лет                 NaN                    NaN   \n",
       "2    «18+» - запрещено для детей                 NaN                    NaN   \n",
       "3    «18+» - запрещено для детей                 NaN                    NaN   \n",
       "4    «18+» - запрещено для детей                 NaN                    NaN   \n",
       "\n",
       "   budget financing_source  ratings                     genres  box_office  \\\n",
       "0     NaN              NaN      7.2     боевик,драма,мелодрама         NaN   \n",
       "1     NaN              NaN      6.6              драма,военный         NaN   \n",
       "2     NaN              NaN      6.8  фантастика,боевик,триллер         NaN   \n",
       "3     NaN              NaN      6.8  фантастика,боевик,триллер         NaN   \n",
       "4     NaN              NaN      6.8  фантастика,боевик,триллер         NaN   \n",
       "\n",
       "   date_year  \n",
       "0       2015  \n",
       "1       2016  \n",
       "2       2016  \n",
       "3       2016  \n",
       "4       2015  "
      ]
     },
     "execution_count": 31,
     "metadata": {},
     "output_type": "execute_result"
    }
   ],
   "source": [
    "df['date_year'] = pd.DatetimeIndex(df['show_start_date']).year\n",
    "df.head(5)"
   ]
  },
  {
   "cell_type": "markdown",
   "metadata": {},
   "source": [
    "<div class=\"alert alert-success\">\n",
    "<b>Комментарий ревьюера: </b> Все верно. </div>"
   ]
  },
  {
   "cell_type": "markdown",
   "metadata": {
    "id": "nFTDLDYOgFyT"
   },
   "source": [
    "- Создайте два столбца: с именем и фамилией главного режиссёра и основным жанром фильма. В столбцы войдут первые значения из списка режиссёров и жанров соответственно.\n",
    "\n",
    "<div id=\"accordion\">\n",
    "    <div class=\"card\">\n",
    "        <div class=\"card-header\" id=\"headingThree\">\n",
    "            <button class=\"btn btn-link collapsed\" data-toggle=\"collapse\" data-target=\"#collapseHint_2\" aria-expanded=\"false\" aria-controls=\"collapseHint_2\">Подсказка</button>\n",
    "        </div>\n",
    "        <div id=\"collapseHint_2\" class=\"collapse\" aria-labelledby=\"headingThree\" data-parent=\"#accordion\">\n",
    "            <div class=\"card-body\">\n",
    "Чтобы создать такие столбцы, лучше всего использовать собственную функцию. Эту функцию можно применить к двум столбцам сразу. \n",
    "            </div>\n",
    "        </div>\n",
    "    </div>\n",
    "</div>"
   ]
  },
  {
   "cell_type": "markdown",
   "metadata": {},
   "source": [
    "#здесь я пытался найти решения для разделения, но кажется я не вижу очевидного. С функциями пока еще есть проблемы. Пробовал так - \n",
    " - df['director_1'] = df.iloc[1]['director']\n",
    " - df\n",
    "но он почему то дублирует на весь столбец первую фамилию. "
   ]
  },
  {
   "cell_type": "markdown",
   "metadata": {},
   "source": [
    "<div class=\"alert alert-danger\">\n",
    "<b>Комментарий ревьюера: </b> \n",
    "    \n",
    "В данном случае можно даже обойтись без функции, использовать уже имеющийся в Pandas строковый метод: `.str.partition(',')[0]`. По запятой разделяем все элементы и выбираем первый.\n",
    "</div>\n"
   ]
  },
  {
   "cell_type": "code",
   "execution_count": 32,
   "metadata": {},
   "outputs": [
    {
     "data": {
      "text/html": [
       "<div>\n",
       "<style scoped>\n",
       "    .dataframe tbody tr th:only-of-type {\n",
       "        vertical-align: middle;\n",
       "    }\n",
       "\n",
       "    .dataframe tbody tr th {\n",
       "        vertical-align: top;\n",
       "    }\n",
       "\n",
       "    .dataframe thead th {\n",
       "        text-align: right;\n",
       "    }\n",
       "</style>\n",
       "<table border=\"1\" class=\"dataframe\">\n",
       "  <thead>\n",
       "    <tr style=\"text-align: right;\">\n",
       "      <th></th>\n",
       "      <th>title</th>\n",
       "      <th>puNumber</th>\n",
       "      <th>show_start_date</th>\n",
       "      <th>type</th>\n",
       "      <th>film_studio</th>\n",
       "      <th>production_country</th>\n",
       "      <th>director</th>\n",
       "      <th>producer</th>\n",
       "      <th>age_restriction</th>\n",
       "      <th>refundable_support</th>\n",
       "      <th>nonrefundable_support</th>\n",
       "      <th>budget</th>\n",
       "      <th>financing_source</th>\n",
       "      <th>ratings</th>\n",
       "      <th>genres</th>\n",
       "      <th>box_office</th>\n",
       "      <th>date_year</th>\n",
       "      <th>director_name</th>\n",
       "      <th>genre_main</th>\n",
       "    </tr>\n",
       "  </thead>\n",
       "  <tbody>\n",
       "    <tr>\n",
       "      <td>0</td>\n",
       "      <td>Открытый простор</td>\n",
       "      <td>221048915.0</td>\n",
       "      <td>2015-11-27</td>\n",
       "      <td>Художественный</td>\n",
       "      <td>Тачстоун Пикчерз, Кобальт Пикчерз, Бикон Пикче...</td>\n",
       "      <td>США</td>\n",
       "      <td>Кевин Костнер</td>\n",
       "      <td>Дэвид Валдес, Кевин Костнер, Джейк Эбертс</td>\n",
       "      <td>«18+» - запрещено для детей</td>\n",
       "      <td>NaN</td>\n",
       "      <td>NaN</td>\n",
       "      <td>NaN</td>\n",
       "      <td>NaN</td>\n",
       "      <td>7.2</td>\n",
       "      <td>боевик,драма,мелодрама</td>\n",
       "      <td>NaN</td>\n",
       "      <td>2015</td>\n",
       "      <td>Кевин Костнер</td>\n",
       "      <td>боевик</td>\n",
       "    </tr>\n",
       "    <tr>\n",
       "      <td>1</td>\n",
       "      <td>Особо важное задание</td>\n",
       "      <td>111013716.0</td>\n",
       "      <td>2016-09-13</td>\n",
       "      <td>Художественный</td>\n",
       "      <td>Киностудия \"Мосфильм\"</td>\n",
       "      <td>СССР</td>\n",
       "      <td>Е.Матвеев</td>\n",
       "      <td>unknown</td>\n",
       "      <td>«6+» - для детей старше 6 лет</td>\n",
       "      <td>NaN</td>\n",
       "      <td>NaN</td>\n",
       "      <td>NaN</td>\n",
       "      <td>NaN</td>\n",
       "      <td>6.6</td>\n",
       "      <td>драма,военный</td>\n",
       "      <td>NaN</td>\n",
       "      <td>2016</td>\n",
       "      <td>Е.Матвеев</td>\n",
       "      <td>драма</td>\n",
       "    </tr>\n",
       "    <tr>\n",
       "      <td>2</td>\n",
       "      <td>Особо опасен</td>\n",
       "      <td>221038416.0</td>\n",
       "      <td>2016-10-10</td>\n",
       "      <td>Художественный</td>\n",
       "      <td>Юниверсал Пикчерз, Кикстарт Продакшнз, Марк Пл...</td>\n",
       "      <td>США</td>\n",
       "      <td>Тимур Бекмамбетов</td>\n",
       "      <td>Джим Лемли, Джейсон Нетер, Марк Е.Платт, Яйн Смит</td>\n",
       "      <td>«18+» - запрещено для детей</td>\n",
       "      <td>NaN</td>\n",
       "      <td>NaN</td>\n",
       "      <td>NaN</td>\n",
       "      <td>NaN</td>\n",
       "      <td>6.8</td>\n",
       "      <td>фантастика,боевик,триллер</td>\n",
       "      <td>NaN</td>\n",
       "      <td>2016</td>\n",
       "      <td>Тимур Бекмамбетов</td>\n",
       "      <td>фантастика</td>\n",
       "    </tr>\n",
       "    <tr>\n",
       "      <td>3</td>\n",
       "      <td>Особо опасен</td>\n",
       "      <td>221026916.0</td>\n",
       "      <td>2016-06-10</td>\n",
       "      <td>Художественный</td>\n",
       "      <td>Юниверсал Пикчерз, Кикстарт Продакшнз, Марк Пл...</td>\n",
       "      <td>США</td>\n",
       "      <td>Тимур Бекмамбетов</td>\n",
       "      <td>Джим Лемли, Джейсон Нетер, Марк Е.Платт, Яйн Смит</td>\n",
       "      <td>«18+» - запрещено для детей</td>\n",
       "      <td>NaN</td>\n",
       "      <td>NaN</td>\n",
       "      <td>NaN</td>\n",
       "      <td>NaN</td>\n",
       "      <td>6.8</td>\n",
       "      <td>фантастика,боевик,триллер</td>\n",
       "      <td>NaN</td>\n",
       "      <td>2016</td>\n",
       "      <td>Тимур Бекмамбетов</td>\n",
       "      <td>фантастика</td>\n",
       "    </tr>\n",
       "    <tr>\n",
       "      <td>4</td>\n",
       "      <td>Особо опасен</td>\n",
       "      <td>221030815.0</td>\n",
       "      <td>2015-07-29</td>\n",
       "      <td>Художественный</td>\n",
       "      <td>Юниверсал Пикчерз, Кикстарт Продакшнз, Марк Пл...</td>\n",
       "      <td>США</td>\n",
       "      <td>Тимур Бекмамбетов</td>\n",
       "      <td>Джим Лемли, Джейсон Нетер, Марк Е.Платт, Яйн Смит</td>\n",
       "      <td>«18+» - запрещено для детей</td>\n",
       "      <td>NaN</td>\n",
       "      <td>NaN</td>\n",
       "      <td>NaN</td>\n",
       "      <td>NaN</td>\n",
       "      <td>6.8</td>\n",
       "      <td>фантастика,боевик,триллер</td>\n",
       "      <td>NaN</td>\n",
       "      <td>2015</td>\n",
       "      <td>Тимур Бекмамбетов</td>\n",
       "      <td>фантастика</td>\n",
       "    </tr>\n",
       "    <tr>\n",
       "      <td>...</td>\n",
       "      <td>...</td>\n",
       "      <td>...</td>\n",
       "      <td>...</td>\n",
       "      <td>...</td>\n",
       "      <td>...</td>\n",
       "      <td>...</td>\n",
       "      <td>...</td>\n",
       "      <td>...</td>\n",
       "      <td>...</td>\n",
       "      <td>...</td>\n",
       "      <td>...</td>\n",
       "      <td>...</td>\n",
       "      <td>...</td>\n",
       "      <td>...</td>\n",
       "      <td>...</td>\n",
       "      <td>...</td>\n",
       "      <td>...</td>\n",
       "      <td>...</td>\n",
       "      <td>...</td>\n",
       "    </tr>\n",
       "    <tr>\n",
       "      <td>7481</td>\n",
       "      <td>Сад художника: Американский импрессионизм</td>\n",
       "      <td>126008019.0</td>\n",
       "      <td>2019-12-23</td>\n",
       "      <td>Прочие</td>\n",
       "      <td>Севен Артс Продакшнз</td>\n",
       "      <td>Великобритания</td>\n",
       "      <td>Фил Грабски</td>\n",
       "      <td>Фил Грабски</td>\n",
       "      <td>«12+» - для детей старше 12 лет</td>\n",
       "      <td>NaN</td>\n",
       "      <td>NaN</td>\n",
       "      <td>NaN</td>\n",
       "      <td>NaN</td>\n",
       "      <td>NaN</td>\n",
       "      <td>unknown</td>\n",
       "      <td>NaN</td>\n",
       "      <td>2019</td>\n",
       "      <td>Фил Грабски</td>\n",
       "      <td>unknown</td>\n",
       "    </tr>\n",
       "    <tr>\n",
       "      <td>7482</td>\n",
       "      <td>Звериная ярость</td>\n",
       "      <td>121037819.0</td>\n",
       "      <td>2019-12-24</td>\n",
       "      <td>Художественный</td>\n",
       "      <td>Дэниел Гродник Продакшнз, Вандерфилм Медиа Кор...</td>\n",
       "      <td>США</td>\n",
       "      <td>Ник Пауэлл</td>\n",
       "      <td>Джефф Боулер, Дэниэл Гродник, Луильо Руис, Брэ...</td>\n",
       "      <td>«16+» - для детей старше 16 лет</td>\n",
       "      <td>NaN</td>\n",
       "      <td>NaN</td>\n",
       "      <td>NaN</td>\n",
       "      <td>NaN</td>\n",
       "      <td>5.4</td>\n",
       "      <td>боевик,триллер</td>\n",
       "      <td>NaN</td>\n",
       "      <td>2019</td>\n",
       "      <td>Ник Пауэлл</td>\n",
       "      <td>боевик</td>\n",
       "    </tr>\n",
       "    <tr>\n",
       "      <td>7483</td>\n",
       "      <td>Щенячий патруль: Скорей спешим на помощь!</td>\n",
       "      <td>124010819.0</td>\n",
       "      <td>2019-12-28</td>\n",
       "      <td>Художественный</td>\n",
       "      <td>Никелодеон Анимейшн Студиос, Спин Мастер</td>\n",
       "      <td>США - Канада</td>\n",
       "      <td>Чарльз Е.Бастьен</td>\n",
       "      <td>Дженнифер Додж</td>\n",
       "      <td>«0+» - для любой зрительской аудитории</td>\n",
       "      <td>NaN</td>\n",
       "      <td>NaN</td>\n",
       "      <td>NaN</td>\n",
       "      <td>NaN</td>\n",
       "      <td>NaN</td>\n",
       "      <td>unknown</td>\n",
       "      <td>NaN</td>\n",
       "      <td>2019</td>\n",
       "      <td>Чарльз Е.Бастьен</td>\n",
       "      <td>unknown</td>\n",
       "    </tr>\n",
       "    <tr>\n",
       "      <td>7484</td>\n",
       "      <td>Машины песенки. Серия \"Испанские мотивы\"</td>\n",
       "      <td>124010619.0</td>\n",
       "      <td>2019-12-30</td>\n",
       "      <td>Анимационный</td>\n",
       "      <td>Анимаккорд Лтд., ООО Студия \"АНИМАККОРД\"</td>\n",
       "      <td>Республика Кипр, Россия</td>\n",
       "      <td>А.Беляев</td>\n",
       "      <td>Д.Ловейко</td>\n",
       "      <td>«0+» - для любой зрительской аудитории</td>\n",
       "      <td>NaN</td>\n",
       "      <td>NaN</td>\n",
       "      <td>NaN</td>\n",
       "      <td>NaN</td>\n",
       "      <td>NaN</td>\n",
       "      <td>unknown</td>\n",
       "      <td>NaN</td>\n",
       "      <td>2019</td>\n",
       "      <td>А.Беляев</td>\n",
       "      <td>unknown</td>\n",
       "    </tr>\n",
       "    <tr>\n",
       "      <td>7485</td>\n",
       "      <td>Машины песенки. Серия \"Когда цветут кактусы\"</td>\n",
       "      <td>124010719.0</td>\n",
       "      <td>2019-12-30</td>\n",
       "      <td>Анимационный</td>\n",
       "      <td>Анимаккорд Лтд., ООО Студия \"АНИМАККОРД\"</td>\n",
       "      <td>Республика Кипр, Россия</td>\n",
       "      <td>И.Трусов</td>\n",
       "      <td>Д.Ловейко</td>\n",
       "      <td>«0+» - для любой зрительской аудитории</td>\n",
       "      <td>NaN</td>\n",
       "      <td>NaN</td>\n",
       "      <td>NaN</td>\n",
       "      <td>NaN</td>\n",
       "      <td>6.3</td>\n",
       "      <td>комедия,вестерн</td>\n",
       "      <td>NaN</td>\n",
       "      <td>2019</td>\n",
       "      <td>И.Трусов</td>\n",
       "      <td>комедия</td>\n",
       "    </tr>\n",
       "  </tbody>\n",
       "</table>\n",
       "<p>7467 rows × 19 columns</p>\n",
       "</div>"
      ],
      "text/plain": [
       "                                             title     puNumber  \\\n",
       "0                                 Открытый простор  221048915.0   \n",
       "1                             Особо важное задание  111013716.0   \n",
       "2                                     Особо опасен  221038416.0   \n",
       "3                                     Особо опасен  221026916.0   \n",
       "4                                     Особо опасен  221030815.0   \n",
       "...                                            ...          ...   \n",
       "7481     Сад художника: Американский импрессионизм  126008019.0   \n",
       "7482                               Звериная ярость  121037819.0   \n",
       "7483     Щенячий патруль: Скорей спешим на помощь!  124010819.0   \n",
       "7484      Машины песенки. Серия \"Испанские мотивы\"  124010619.0   \n",
       "7485  Машины песенки. Серия \"Когда цветут кактусы\"  124010719.0   \n",
       "\n",
       "     show_start_date            type  \\\n",
       "0         2015-11-27  Художественный   \n",
       "1         2016-09-13  Художественный   \n",
       "2         2016-10-10  Художественный   \n",
       "3         2016-06-10  Художественный   \n",
       "4         2015-07-29  Художественный   \n",
       "...              ...             ...   \n",
       "7481      2019-12-23          Прочие   \n",
       "7482      2019-12-24  Художественный   \n",
       "7483      2019-12-28  Художественный   \n",
       "7484      2019-12-30    Анимационный   \n",
       "7485      2019-12-30    Анимационный   \n",
       "\n",
       "                                            film_studio  \\\n",
       "0     Тачстоун Пикчерз, Кобальт Пикчерз, Бикон Пикче...   \n",
       "1                                 Киностудия \"Мосфильм\"   \n",
       "2     Юниверсал Пикчерз, Кикстарт Продакшнз, Марк Пл...   \n",
       "3     Юниверсал Пикчерз, Кикстарт Продакшнз, Марк Пл...   \n",
       "4     Юниверсал Пикчерз, Кикстарт Продакшнз, Марк Пл...   \n",
       "...                                                 ...   \n",
       "7481                               Севен Артс Продакшнз   \n",
       "7482  Дэниел Гродник Продакшнз, Вандерфилм Медиа Кор...   \n",
       "7483           Никелодеон Анимейшн Студиос, Спин Мастер   \n",
       "7484           Анимаккорд Лтд., ООО Студия \"АНИМАККОРД\"   \n",
       "7485           Анимаккорд Лтд., ООО Студия \"АНИМАККОРД\"   \n",
       "\n",
       "           production_country           director  \\\n",
       "0                         США      Кевин Костнер   \n",
       "1                        СССР          Е.Матвеев   \n",
       "2                         США  Тимур Бекмамбетов   \n",
       "3                         США  Тимур Бекмамбетов   \n",
       "4                         США  Тимур Бекмамбетов   \n",
       "...                       ...                ...   \n",
       "7481           Великобритания        Фил Грабски   \n",
       "7482                      США         Ник Пауэлл   \n",
       "7483             США - Канада   Чарльз Е.Бастьен   \n",
       "7484  Республика Кипр, Россия           А.Беляев   \n",
       "7485  Республика Кипр, Россия           И.Трусов   \n",
       "\n",
       "                                               producer  \\\n",
       "0             Дэвид Валдес, Кевин Костнер, Джейк Эбертс   \n",
       "1                                               unknown   \n",
       "2     Джим Лемли, Джейсон Нетер, Марк Е.Платт, Яйн Смит   \n",
       "3     Джим Лемли, Джейсон Нетер, Марк Е.Платт, Яйн Смит   \n",
       "4     Джим Лемли, Джейсон Нетер, Марк Е.Платт, Яйн Смит   \n",
       "...                                                 ...   \n",
       "7481                                        Фил Грабски   \n",
       "7482  Джефф Боулер, Дэниэл Гродник, Луильо Руис, Брэ...   \n",
       "7483                                     Дженнифер Додж   \n",
       "7484                                          Д.Ловейко   \n",
       "7485                                          Д.Ловейко   \n",
       "\n",
       "                             age_restriction  refundable_support  \\\n",
       "0                «18+» - запрещено для детей                 NaN   \n",
       "1              «6+» - для детей старше 6 лет                 NaN   \n",
       "2                «18+» - запрещено для детей                 NaN   \n",
       "3                «18+» - запрещено для детей                 NaN   \n",
       "4                «18+» - запрещено для детей                 NaN   \n",
       "...                                      ...                 ...   \n",
       "7481         «12+» - для детей старше 12 лет                 NaN   \n",
       "7482         «16+» - для детей старше 16 лет                 NaN   \n",
       "7483  «0+» - для любой зрительской аудитории                 NaN   \n",
       "7484  «0+» - для любой зрительской аудитории                 NaN   \n",
       "7485  «0+» - для любой зрительской аудитории                 NaN   \n",
       "\n",
       "      nonrefundable_support  budget financing_source  ratings  \\\n",
       "0                       NaN     NaN              NaN      7.2   \n",
       "1                       NaN     NaN              NaN      6.6   \n",
       "2                       NaN     NaN              NaN      6.8   \n",
       "3                       NaN     NaN              NaN      6.8   \n",
       "4                       NaN     NaN              NaN      6.8   \n",
       "...                     ...     ...              ...      ...   \n",
       "7481                    NaN     NaN              NaN      NaN   \n",
       "7482                    NaN     NaN              NaN      5.4   \n",
       "7483                    NaN     NaN              NaN      NaN   \n",
       "7484                    NaN     NaN              NaN      NaN   \n",
       "7485                    NaN     NaN              NaN      6.3   \n",
       "\n",
       "                         genres  box_office  date_year      director_name  \\\n",
       "0        боевик,драма,мелодрама         NaN       2015      Кевин Костнер   \n",
       "1                 драма,военный         NaN       2016          Е.Матвеев   \n",
       "2     фантастика,боевик,триллер         NaN       2016  Тимур Бекмамбетов   \n",
       "3     фантастика,боевик,триллер         NaN       2016  Тимур Бекмамбетов   \n",
       "4     фантастика,боевик,триллер         NaN       2015  Тимур Бекмамбетов   \n",
       "...                         ...         ...        ...                ...   \n",
       "7481                    unknown         NaN       2019        Фил Грабски   \n",
       "7482             боевик,триллер         NaN       2019         Ник Пауэлл   \n",
       "7483                    unknown         NaN       2019   Чарльз Е.Бастьен   \n",
       "7484                    unknown         NaN       2019           А.Беляев   \n",
       "7485            комедия,вестерн         NaN       2019           И.Трусов   \n",
       "\n",
       "      genre_main  \n",
       "0         боевик  \n",
       "1          драма  \n",
       "2     фантастика  \n",
       "3     фантастика  \n",
       "4     фантастика  \n",
       "...          ...  \n",
       "7481     unknown  \n",
       "7482      боевик  \n",
       "7483     unknown  \n",
       "7484     unknown  \n",
       "7485     комедия  \n",
       "\n",
       "[7467 rows x 19 columns]"
      ]
     },
     "execution_count": 32,
     "metadata": {},
     "output_type": "execute_result"
    }
   ],
   "source": [
    "df['director_name'] = df['director'].str.partition(',')[0]\n",
    "#df['director_surname'] = df['director'].str.partition(', ')[2]\n",
    "df['genre_main'] = df['genres'].str.partition(',')[0]\n",
    "df"
   ]
  },
  {
   "cell_type": "markdown",
   "metadata": {},
   "source": [
    "<div class=\"alert alert-info\">\n",
    "<b>добавил столбцы вот так </div>"
   ]
  },
  {
   "cell_type": "markdown",
   "metadata": {},
   "source": [
    "<div class=\"alert alert-danger\">\n",
    "<b>Комментарий ревьюера v2: </b> \n",
    "    \n",
    "Не стоит разделять имя и фамилию режиссера, так как у кого-то сначала написано имя, а потом фамилия, у кого-то в имени или фамилии несколько слов, у кого-то вместо имени инициалы. Лучше просто сохранить ФИО до запятой.\n",
    "</div>"
   ]
  },
  {
   "cell_type": "markdown",
   "metadata": {},
   "source": [
    "<div class=\"alert alert-info\">\n",
    "<b>Да, поправил, удалили столбец с фамилией, сделал разделение по запятой. </div>"
   ]
  },
  {
   "cell_type": "markdown",
   "metadata": {},
   "source": [
    "<div class=\"alert alert-success\">\n",
    "<b>Комментарий ревьюера v3: </b> \n",
    "    \n",
    "Теперь логичнее.\n",
    "</div>"
   ]
  },
  {
   "cell_type": "markdown",
   "metadata": {
    "id": "1FsCXHwdgFyU"
   },
   "source": [
    "- Посчитайте, какую долю от общего бюджета фильма составляет государственная поддержка."
   ]
  },
  {
   "cell_type": "code",
   "execution_count": 33,
   "metadata": {
    "id": "PnXKIVdFgFyR",
    "scrolled": true
   },
   "outputs": [
    {
     "data": {
      "text/html": [
       "<div>\n",
       "<style scoped>\n",
       "    .dataframe tbody tr th:only-of-type {\n",
       "        vertical-align: middle;\n",
       "    }\n",
       "\n",
       "    .dataframe tbody tr th {\n",
       "        vertical-align: top;\n",
       "    }\n",
       "\n",
       "    .dataframe thead th {\n",
       "        text-align: right;\n",
       "    }\n",
       "</style>\n",
       "<table border=\"1\" class=\"dataframe\">\n",
       "  <thead>\n",
       "    <tr style=\"text-align: right;\">\n",
       "      <th></th>\n",
       "      <th>puNumber</th>\n",
       "      <th>refundable_support</th>\n",
       "      <th>nonrefundable_support</th>\n",
       "      <th>budget</th>\n",
       "      <th>ratings</th>\n",
       "      <th>box_office</th>\n",
       "      <th>date_year</th>\n",
       "      <th>film_support_money</th>\n",
       "    </tr>\n",
       "  </thead>\n",
       "  <tbody>\n",
       "    <tr>\n",
       "      <td>count</td>\n",
       "      <td>3.150000e+02</td>\n",
       "      <td>3.150000e+02</td>\n",
       "      <td>3.150000e+02</td>\n",
       "      <td>3.150000e+02</td>\n",
       "      <td>300.000000</td>\n",
       "      <td>3.010000e+02</td>\n",
       "      <td>315.000000</td>\n",
       "      <td>315.000000</td>\n",
       "    </tr>\n",
       "    <tr>\n",
       "      <td>mean</td>\n",
       "      <td>1.115683e+08</td>\n",
       "      <td>1.160317e+07</td>\n",
       "      <td>4.810704e+07</td>\n",
       "      <td>1.340961e+08</td>\n",
       "      <td>6.036667</td>\n",
       "      <td>1.306983e+08</td>\n",
       "      <td>2016.742857</td>\n",
       "      <td>51.738582</td>\n",
       "    </tr>\n",
       "    <tr>\n",
       "      <td>std</td>\n",
       "      <td>5.844829e+06</td>\n",
       "      <td>2.515144e+07</td>\n",
       "      <td>5.988614e+07</td>\n",
       "      <td>1.912260e+08</td>\n",
       "      <td>1.159167</td>\n",
       "      <td>3.391903e+08</td>\n",
       "      <td>1.647398</td>\n",
       "      <td>17.004298</td>\n",
       "    </tr>\n",
       "    <tr>\n",
       "      <td>min</td>\n",
       "      <td>1.110001e+08</td>\n",
       "      <td>0.000000e+00</td>\n",
       "      <td>0.000000e+00</td>\n",
       "      <td>1.446246e+07</td>\n",
       "      <td>1.000000</td>\n",
       "      <td>1.550000e+03</td>\n",
       "      <td>2013.000000</td>\n",
       "      <td>4.404305</td>\n",
       "    </tr>\n",
       "    <tr>\n",
       "      <td>25%</td>\n",
       "      <td>1.110048e+08</td>\n",
       "      <td>0.000000e+00</td>\n",
       "      <td>2.500000e+07</td>\n",
       "      <td>4.615387e+07</td>\n",
       "      <td>5.400000</td>\n",
       "      <td>1.067649e+06</td>\n",
       "      <td>2015.000000</td>\n",
       "      <td>37.345810</td>\n",
       "    </tr>\n",
       "    <tr>\n",
       "      <td>50%</td>\n",
       "      <td>1.110102e+08</td>\n",
       "      <td>0.000000e+00</td>\n",
       "      <td>3.000000e+07</td>\n",
       "      <td>7.337955e+07</td>\n",
       "      <td>6.200000</td>\n",
       "      <td>1.274840e+07</td>\n",
       "      <td>2017.000000</td>\n",
       "      <td>59.226455</td>\n",
       "    </tr>\n",
       "    <tr>\n",
       "      <td>75%</td>\n",
       "      <td>1.110172e+08</td>\n",
       "      <td>1.000000e+07</td>\n",
       "      <td>4.000000e+07</td>\n",
       "      <td>1.500043e+08</td>\n",
       "      <td>6.700000</td>\n",
       "      <td>1.031348e+08</td>\n",
       "      <td>2018.000000</td>\n",
       "      <td>65.693118</td>\n",
       "    </tr>\n",
       "    <tr>\n",
       "      <td>max</td>\n",
       "      <td>2.140101e+08</td>\n",
       "      <td>1.800000e+08</td>\n",
       "      <td>4.000000e+08</td>\n",
       "      <td>2.305074e+09</td>\n",
       "      <td>9.400000</td>\n",
       "      <td>3.073569e+09</td>\n",
       "      <td>2019.000000</td>\n",
       "      <td>78.474525</td>\n",
       "    </tr>\n",
       "  </tbody>\n",
       "</table>\n",
       "</div>"
      ],
      "text/plain": [
       "           puNumber  refundable_support  nonrefundable_support        budget  \\\n",
       "count  3.150000e+02        3.150000e+02           3.150000e+02  3.150000e+02   \n",
       "mean   1.115683e+08        1.160317e+07           4.810704e+07  1.340961e+08   \n",
       "std    5.844829e+06        2.515144e+07           5.988614e+07  1.912260e+08   \n",
       "min    1.110001e+08        0.000000e+00           0.000000e+00  1.446246e+07   \n",
       "25%    1.110048e+08        0.000000e+00           2.500000e+07  4.615387e+07   \n",
       "50%    1.110102e+08        0.000000e+00           3.000000e+07  7.337955e+07   \n",
       "75%    1.110172e+08        1.000000e+07           4.000000e+07  1.500043e+08   \n",
       "max    2.140101e+08        1.800000e+08           4.000000e+08  2.305074e+09   \n",
       "\n",
       "          ratings    box_office    date_year  film_support_money  \n",
       "count  300.000000  3.010000e+02   315.000000          315.000000  \n",
       "mean     6.036667  1.306983e+08  2016.742857           51.738582  \n",
       "std      1.159167  3.391903e+08     1.647398           17.004298  \n",
       "min      1.000000  1.550000e+03  2013.000000            4.404305  \n",
       "25%      5.400000  1.067649e+06  2015.000000           37.345810  \n",
       "50%      6.200000  1.274840e+07  2017.000000           59.226455  \n",
       "75%      6.700000  1.031348e+08  2018.000000           65.693118  \n",
       "max      9.400000  3.073569e+09  2019.000000           78.474525  "
      ]
     },
     "execution_count": 33,
     "metadata": {},
     "output_type": "execute_result"
    }
   ],
   "source": [
    "df['film_support_money'] = ((df['refundable_support'] + df['nonrefundable_support'])/ df['budget'])*100\n",
    "\n",
    "df.query('budget > 0').describe()"
   ]
  },
  {
   "cell_type": "markdown",
   "metadata": {},
   "source": [
    "Согласно медианному значению около 59% бюджета из выделенных средств на поддержку кино. (по среднему 51%)"
   ]
  },
  {
   "cell_type": "markdown",
   "metadata": {},
   "source": [
    "<div class=\"alert alert-success\">\n",
    "<b>Комментарий ревьюера v2: </b> \n",
    "    \n",
    "Теперь это отдельный столбец, супер.\n",
    "</div>"
   ]
  },
  {
   "cell_type": "markdown",
   "metadata": {},
   "source": [
    "<div class=\"alert alert-danger\">\n",
    "<b>Комментарий ревьюера v2: </b> \n",
    "    \n",
    "Из-за того, что ты не удалил строки с нулевым бюджетом, ты делишь на ноль, в результате чего получается бесконечность.\n",
    "</div>"
   ]
  },
  {
   "cell_type": "markdown",
   "metadata": {},
   "source": [
    "<div class=\"alert alert-info\">\n",
    "<b>Я удалили строки с пропусками по Box_office по итогу </div>"
   ]
  },
  {
   "cell_type": "markdown",
   "metadata": {},
   "source": [
    "<div class=\"alert alert-danger\">\n",
    "<b>Комментарий ревьюера v3: </b> \n",
    "    \n",
    "Это не то, что нужно. Смотри, отдельно нужно посчитать количество всех фильмов по годам. Отдельно посчитать количество фильмов с известной информацией о сборах по годам. А потом соединить эти два столбца и посчитать процент фильмов со сборами ото всех фильмов.\n",
    "</div>"
   ]
  },
  {
   "cell_type": "markdown",
   "metadata": {},
   "source": [
    "<div class=\"alert alert-info\">\n",
    "<b>После третьего комментария здесь я удалил строки с нулевым бюджетом и картина стала правильнее. Здесь мы по заданию считаем долю господдержки \"Посчитайте, какую долю от общего бюджета фильма составляет государственная поддержка.\" </div>"
   ]
  },
  {
   "cell_type": "markdown",
   "metadata": {},
   "source": [
    "<div class=\"alert alert-success\">\n",
    "<b>Комментарий ревьюера v4: </b> \n",
    "    \n",
    "Да, молодец, средняя доля гос поддержки посчитана верно.\n",
    "    \n",
    "    \n",
    "Только вот на данном этапе просто нужно было создать столбец, а все остальное как раз относится к следующему этапу с подсчетом долей и не только.\n",
    "</div>"
   ]
  },
  {
   "cell_type": "code",
   "execution_count": 34,
   "metadata": {},
   "outputs": [],
   "source": [
    "#Старая запись\n",
    "#df_3 = df.query('refundable_support > 0 and box_office >0')\n",
    "#film_support_money = ((df_3['refundable_support'] + df_3['nonrefundable_support'])/ df_3['budget'])*100\n",
    "#film_support_money.describe()"
   ]
  },
  {
   "cell_type": "markdown",
   "metadata": {},
   "source": [
    "<div class=\"alert alert-danger\">\n",
    "<b>Комментарий ревьюера: </b> Обрати внимание, что нужно создать не новый датафрейм, а столбец в исходном датафрейме. </div>"
   ]
  },
  {
   "cell_type": "markdown",
   "metadata": {},
   "source": [
    "<div class=\"alert alert-info\">\n",
    "<b>Да, сделал столбец </div>"
   ]
  },
  {
   "cell_type": "markdown",
   "metadata": {},
   "source": [
    "<div class=\"alert alert-danger\">\n",
    "<b>Комментарий ревьюера: </b> Что касается `df_3`, то насколько я поняла, это датафрейм, который содержит данный только о фильмах, вышедших в прокат и имеющих возвратную гос поддержку, но гос поддержка может быть и невозвратной. И вполне нормально, если в бюджете вообще не было доли гос поддержке, или же была только невозвратная. Так что для нас здесь важно только чтобы сборы были больше нуля.  </div>"
   ]
  },
  {
   "cell_type": "markdown",
   "metadata": {},
   "source": [
    "<div class=\"alert alert-info\">\n",
    "<b>Да, я делал такой фрейм для удобства. Переделал фильтр так, чтобы фильтровалось по сборам. </div>"
   ]
  },
  {
   "cell_type": "code",
   "execution_count": 35,
   "metadata": {},
   "outputs": [
    {
     "data": {
      "text/plain": [
       "date_year\n",
       "2010    983\n",
       "2011    622\n",
       "2012    593\n",
       "2013    630\n",
       "2014    806\n",
       "2015    699\n",
       "2016    815\n",
       "2017    503\n",
       "2018    887\n",
       "2019    929\n",
       "Name: date_year, dtype: int64"
      ]
     },
     "execution_count": 35,
     "metadata": {},
     "output_type": "execute_result"
    }
   ],
   "source": [
    "#Сохраним количество фильмов в год всего - нам пригодится в дальнейшем для исследования\n",
    "film_by_year = df.groupby('date_year')['date_year'].count()\n",
    "film_by_year"
   ]
  },
  {
   "cell_type": "code",
   "execution_count": 36,
   "metadata": {},
   "outputs": [
    {
     "data": {
      "text/plain": [
       "date_year\n",
       "2010    101\n",
       "2011    109\n",
       "2012    123\n",
       "2013    179\n",
       "2014    272\n",
       "2015    456\n",
       "2016    522\n",
       "2017    355\n",
       "2018    471\n",
       "2019    529\n",
       "Name: date_year, dtype: int64"
      ]
     },
     "execution_count": 36,
     "metadata": {},
     "output_type": "execute_result"
    }
   ],
   "source": [
    "#Сохраним количество фильмов в год с имеющимися данными о сборах - нам пригодится в дальнейшем для исследования\n",
    "film_by_year_box = df.query('box_office>0').groupby('date_year')['date_year'].count()\n",
    "film_by_year_box"
   ]
  },
  {
   "cell_type": "markdown",
   "metadata": {},
   "source": [
    "Самое большое количество фильмов выходило в прокат в 2019(530) году, а самое маленькое в 2010 (101)"
   ]
  },
  {
   "cell_type": "code",
   "execution_count": 37,
   "metadata": {
    "scrolled": true
   },
   "outputs": [
    {
     "data": {
      "text/html": [
       "<div>\n",
       "<style scoped>\n",
       "    .dataframe tbody tr th:only-of-type {\n",
       "        vertical-align: middle;\n",
       "    }\n",
       "\n",
       "    .dataframe tbody tr th {\n",
       "        vertical-align: top;\n",
       "    }\n",
       "\n",
       "    .dataframe thead th {\n",
       "        text-align: right;\n",
       "    }\n",
       "</style>\n",
       "<table border=\"1\" class=\"dataframe\">\n",
       "  <thead>\n",
       "    <tr style=\"text-align: right;\">\n",
       "      <th></th>\n",
       "      <th>title</th>\n",
       "      <th>puNumber</th>\n",
       "      <th>show_start_date</th>\n",
       "      <th>type</th>\n",
       "      <th>film_studio</th>\n",
       "      <th>production_country</th>\n",
       "      <th>director</th>\n",
       "      <th>producer</th>\n",
       "      <th>age_restriction</th>\n",
       "      <th>refundable_support</th>\n",
       "      <th>nonrefundable_support</th>\n",
       "      <th>budget</th>\n",
       "      <th>financing_source</th>\n",
       "      <th>ratings</th>\n",
       "      <th>genres</th>\n",
       "      <th>box_office</th>\n",
       "      <th>date_year</th>\n",
       "      <th>director_name</th>\n",
       "      <th>genre_main</th>\n",
       "      <th>film_support_money</th>\n",
       "    </tr>\n",
       "  </thead>\n",
       "  <tbody>\n",
       "    <tr>\n",
       "      <td>0</td>\n",
       "      <td>Открытый простор</td>\n",
       "      <td>221048915.0</td>\n",
       "      <td>2015-11-27</td>\n",
       "      <td>Художественный</td>\n",
       "      <td>Тачстоун Пикчерз, Кобальт Пикчерз, Бикон Пикче...</td>\n",
       "      <td>США</td>\n",
       "      <td>Кевин Костнер</td>\n",
       "      <td>Дэвид Валдес, Кевин Костнер, Джейк Эбертс</td>\n",
       "      <td>«18+» - запрещено для детей</td>\n",
       "      <td>NaN</td>\n",
       "      <td>NaN</td>\n",
       "      <td>NaN</td>\n",
       "      <td>NaN</td>\n",
       "      <td>7.2</td>\n",
       "      <td>боевик,драма,мелодрама</td>\n",
       "      <td>NaN</td>\n",
       "      <td>2015</td>\n",
       "      <td>Кевин Костнер</td>\n",
       "      <td>боевик</td>\n",
       "      <td>NaN</td>\n",
       "    </tr>\n",
       "    <tr>\n",
       "      <td>1</td>\n",
       "      <td>Особо важное задание</td>\n",
       "      <td>111013716.0</td>\n",
       "      <td>2016-09-13</td>\n",
       "      <td>Художественный</td>\n",
       "      <td>Киностудия \"Мосфильм\"</td>\n",
       "      <td>СССР</td>\n",
       "      <td>Е.Матвеев</td>\n",
       "      <td>unknown</td>\n",
       "      <td>«6+» - для детей старше 6 лет</td>\n",
       "      <td>NaN</td>\n",
       "      <td>NaN</td>\n",
       "      <td>NaN</td>\n",
       "      <td>NaN</td>\n",
       "      <td>6.6</td>\n",
       "      <td>драма,военный</td>\n",
       "      <td>NaN</td>\n",
       "      <td>2016</td>\n",
       "      <td>Е.Матвеев</td>\n",
       "      <td>драма</td>\n",
       "      <td>NaN</td>\n",
       "    </tr>\n",
       "    <tr>\n",
       "      <td>2</td>\n",
       "      <td>Особо опасен</td>\n",
       "      <td>221038416.0</td>\n",
       "      <td>2016-10-10</td>\n",
       "      <td>Художественный</td>\n",
       "      <td>Юниверсал Пикчерз, Кикстарт Продакшнз, Марк Пл...</td>\n",
       "      <td>США</td>\n",
       "      <td>Тимур Бекмамбетов</td>\n",
       "      <td>Джим Лемли, Джейсон Нетер, Марк Е.Платт, Яйн Смит</td>\n",
       "      <td>«18+» - запрещено для детей</td>\n",
       "      <td>NaN</td>\n",
       "      <td>NaN</td>\n",
       "      <td>NaN</td>\n",
       "      <td>NaN</td>\n",
       "      <td>6.8</td>\n",
       "      <td>фантастика,боевик,триллер</td>\n",
       "      <td>NaN</td>\n",
       "      <td>2016</td>\n",
       "      <td>Тимур Бекмамбетов</td>\n",
       "      <td>фантастика</td>\n",
       "      <td>NaN</td>\n",
       "    </tr>\n",
       "    <tr>\n",
       "      <td>3</td>\n",
       "      <td>Особо опасен</td>\n",
       "      <td>221026916.0</td>\n",
       "      <td>2016-06-10</td>\n",
       "      <td>Художественный</td>\n",
       "      <td>Юниверсал Пикчерз, Кикстарт Продакшнз, Марк Пл...</td>\n",
       "      <td>США</td>\n",
       "      <td>Тимур Бекмамбетов</td>\n",
       "      <td>Джим Лемли, Джейсон Нетер, Марк Е.Платт, Яйн Смит</td>\n",
       "      <td>«18+» - запрещено для детей</td>\n",
       "      <td>NaN</td>\n",
       "      <td>NaN</td>\n",
       "      <td>NaN</td>\n",
       "      <td>NaN</td>\n",
       "      <td>6.8</td>\n",
       "      <td>фантастика,боевик,триллер</td>\n",
       "      <td>NaN</td>\n",
       "      <td>2016</td>\n",
       "      <td>Тимур Бекмамбетов</td>\n",
       "      <td>фантастика</td>\n",
       "      <td>NaN</td>\n",
       "    </tr>\n",
       "    <tr>\n",
       "      <td>4</td>\n",
       "      <td>Особо опасен</td>\n",
       "      <td>221030815.0</td>\n",
       "      <td>2015-07-29</td>\n",
       "      <td>Художественный</td>\n",
       "      <td>Юниверсал Пикчерз, Кикстарт Продакшнз, Марк Пл...</td>\n",
       "      <td>США</td>\n",
       "      <td>Тимур Бекмамбетов</td>\n",
       "      <td>Джим Лемли, Джейсон Нетер, Марк Е.Платт, Яйн Смит</td>\n",
       "      <td>«18+» - запрещено для детей</td>\n",
       "      <td>NaN</td>\n",
       "      <td>NaN</td>\n",
       "      <td>NaN</td>\n",
       "      <td>NaN</td>\n",
       "      <td>6.8</td>\n",
       "      <td>фантастика,боевик,триллер</td>\n",
       "      <td>NaN</td>\n",
       "      <td>2015</td>\n",
       "      <td>Тимур Бекмамбетов</td>\n",
       "      <td>фантастика</td>\n",
       "      <td>NaN</td>\n",
       "    </tr>\n",
       "    <tr>\n",
       "      <td>...</td>\n",
       "      <td>...</td>\n",
       "      <td>...</td>\n",
       "      <td>...</td>\n",
       "      <td>...</td>\n",
       "      <td>...</td>\n",
       "      <td>...</td>\n",
       "      <td>...</td>\n",
       "      <td>...</td>\n",
       "      <td>...</td>\n",
       "      <td>...</td>\n",
       "      <td>...</td>\n",
       "      <td>...</td>\n",
       "      <td>...</td>\n",
       "      <td>...</td>\n",
       "      <td>...</td>\n",
       "      <td>...</td>\n",
       "      <td>...</td>\n",
       "      <td>...</td>\n",
       "      <td>...</td>\n",
       "      <td>...</td>\n",
       "    </tr>\n",
       "    <tr>\n",
       "      <td>7481</td>\n",
       "      <td>Сад художника: Американский импрессионизм</td>\n",
       "      <td>126008019.0</td>\n",
       "      <td>2019-12-23</td>\n",
       "      <td>Прочие</td>\n",
       "      <td>Севен Артс Продакшнз</td>\n",
       "      <td>Великобритания</td>\n",
       "      <td>Фил Грабски</td>\n",
       "      <td>Фил Грабски</td>\n",
       "      <td>«12+» - для детей старше 12 лет</td>\n",
       "      <td>NaN</td>\n",
       "      <td>NaN</td>\n",
       "      <td>NaN</td>\n",
       "      <td>NaN</td>\n",
       "      <td>NaN</td>\n",
       "      <td>unknown</td>\n",
       "      <td>NaN</td>\n",
       "      <td>2019</td>\n",
       "      <td>Фил Грабски</td>\n",
       "      <td>unknown</td>\n",
       "      <td>NaN</td>\n",
       "    </tr>\n",
       "    <tr>\n",
       "      <td>7482</td>\n",
       "      <td>Звериная ярость</td>\n",
       "      <td>121037819.0</td>\n",
       "      <td>2019-12-24</td>\n",
       "      <td>Художественный</td>\n",
       "      <td>Дэниел Гродник Продакшнз, Вандерфилм Медиа Кор...</td>\n",
       "      <td>США</td>\n",
       "      <td>Ник Пауэлл</td>\n",
       "      <td>Джефф Боулер, Дэниэл Гродник, Луильо Руис, Брэ...</td>\n",
       "      <td>«16+» - для детей старше 16 лет</td>\n",
       "      <td>NaN</td>\n",
       "      <td>NaN</td>\n",
       "      <td>NaN</td>\n",
       "      <td>NaN</td>\n",
       "      <td>5.4</td>\n",
       "      <td>боевик,триллер</td>\n",
       "      <td>NaN</td>\n",
       "      <td>2019</td>\n",
       "      <td>Ник Пауэлл</td>\n",
       "      <td>боевик</td>\n",
       "      <td>NaN</td>\n",
       "    </tr>\n",
       "    <tr>\n",
       "      <td>7483</td>\n",
       "      <td>Щенячий патруль: Скорей спешим на помощь!</td>\n",
       "      <td>124010819.0</td>\n",
       "      <td>2019-12-28</td>\n",
       "      <td>Художественный</td>\n",
       "      <td>Никелодеон Анимейшн Студиос, Спин Мастер</td>\n",
       "      <td>США - Канада</td>\n",
       "      <td>Чарльз Е.Бастьен</td>\n",
       "      <td>Дженнифер Додж</td>\n",
       "      <td>«0+» - для любой зрительской аудитории</td>\n",
       "      <td>NaN</td>\n",
       "      <td>NaN</td>\n",
       "      <td>NaN</td>\n",
       "      <td>NaN</td>\n",
       "      <td>NaN</td>\n",
       "      <td>unknown</td>\n",
       "      <td>NaN</td>\n",
       "      <td>2019</td>\n",
       "      <td>Чарльз Е.Бастьен</td>\n",
       "      <td>unknown</td>\n",
       "      <td>NaN</td>\n",
       "    </tr>\n",
       "    <tr>\n",
       "      <td>7484</td>\n",
       "      <td>Машины песенки. Серия \"Испанские мотивы\"</td>\n",
       "      <td>124010619.0</td>\n",
       "      <td>2019-12-30</td>\n",
       "      <td>Анимационный</td>\n",
       "      <td>Анимаккорд Лтд., ООО Студия \"АНИМАККОРД\"</td>\n",
       "      <td>Республика Кипр, Россия</td>\n",
       "      <td>А.Беляев</td>\n",
       "      <td>Д.Ловейко</td>\n",
       "      <td>«0+» - для любой зрительской аудитории</td>\n",
       "      <td>NaN</td>\n",
       "      <td>NaN</td>\n",
       "      <td>NaN</td>\n",
       "      <td>NaN</td>\n",
       "      <td>NaN</td>\n",
       "      <td>unknown</td>\n",
       "      <td>NaN</td>\n",
       "      <td>2019</td>\n",
       "      <td>А.Беляев</td>\n",
       "      <td>unknown</td>\n",
       "      <td>NaN</td>\n",
       "    </tr>\n",
       "    <tr>\n",
       "      <td>7485</td>\n",
       "      <td>Машины песенки. Серия \"Когда цветут кактусы\"</td>\n",
       "      <td>124010719.0</td>\n",
       "      <td>2019-12-30</td>\n",
       "      <td>Анимационный</td>\n",
       "      <td>Анимаккорд Лтд., ООО Студия \"АНИМАККОРД\"</td>\n",
       "      <td>Республика Кипр, Россия</td>\n",
       "      <td>И.Трусов</td>\n",
       "      <td>Д.Ловейко</td>\n",
       "      <td>«0+» - для любой зрительской аудитории</td>\n",
       "      <td>NaN</td>\n",
       "      <td>NaN</td>\n",
       "      <td>NaN</td>\n",
       "      <td>NaN</td>\n",
       "      <td>6.3</td>\n",
       "      <td>комедия,вестерн</td>\n",
       "      <td>NaN</td>\n",
       "      <td>2019</td>\n",
       "      <td>И.Трусов</td>\n",
       "      <td>комедия</td>\n",
       "      <td>NaN</td>\n",
       "    </tr>\n",
       "  </tbody>\n",
       "</table>\n",
       "<p>7467 rows × 20 columns</p>\n",
       "</div>"
      ],
      "text/plain": [
       "                                             title     puNumber  \\\n",
       "0                                 Открытый простор  221048915.0   \n",
       "1                             Особо важное задание  111013716.0   \n",
       "2                                     Особо опасен  221038416.0   \n",
       "3                                     Особо опасен  221026916.0   \n",
       "4                                     Особо опасен  221030815.0   \n",
       "...                                            ...          ...   \n",
       "7481     Сад художника: Американский импрессионизм  126008019.0   \n",
       "7482                               Звериная ярость  121037819.0   \n",
       "7483     Щенячий патруль: Скорей спешим на помощь!  124010819.0   \n",
       "7484      Машины песенки. Серия \"Испанские мотивы\"  124010619.0   \n",
       "7485  Машины песенки. Серия \"Когда цветут кактусы\"  124010719.0   \n",
       "\n",
       "     show_start_date            type  \\\n",
       "0         2015-11-27  Художественный   \n",
       "1         2016-09-13  Художественный   \n",
       "2         2016-10-10  Художественный   \n",
       "3         2016-06-10  Художественный   \n",
       "4         2015-07-29  Художественный   \n",
       "...              ...             ...   \n",
       "7481      2019-12-23          Прочие   \n",
       "7482      2019-12-24  Художественный   \n",
       "7483      2019-12-28  Художественный   \n",
       "7484      2019-12-30    Анимационный   \n",
       "7485      2019-12-30    Анимационный   \n",
       "\n",
       "                                            film_studio  \\\n",
       "0     Тачстоун Пикчерз, Кобальт Пикчерз, Бикон Пикче...   \n",
       "1                                 Киностудия \"Мосфильм\"   \n",
       "2     Юниверсал Пикчерз, Кикстарт Продакшнз, Марк Пл...   \n",
       "3     Юниверсал Пикчерз, Кикстарт Продакшнз, Марк Пл...   \n",
       "4     Юниверсал Пикчерз, Кикстарт Продакшнз, Марк Пл...   \n",
       "...                                                 ...   \n",
       "7481                               Севен Артс Продакшнз   \n",
       "7482  Дэниел Гродник Продакшнз, Вандерфилм Медиа Кор...   \n",
       "7483           Никелодеон Анимейшн Студиос, Спин Мастер   \n",
       "7484           Анимаккорд Лтд., ООО Студия \"АНИМАККОРД\"   \n",
       "7485           Анимаккорд Лтд., ООО Студия \"АНИМАККОРД\"   \n",
       "\n",
       "           production_country           director  \\\n",
       "0                         США      Кевин Костнер   \n",
       "1                        СССР          Е.Матвеев   \n",
       "2                         США  Тимур Бекмамбетов   \n",
       "3                         США  Тимур Бекмамбетов   \n",
       "4                         США  Тимур Бекмамбетов   \n",
       "...                       ...                ...   \n",
       "7481           Великобритания        Фил Грабски   \n",
       "7482                      США         Ник Пауэлл   \n",
       "7483             США - Канада   Чарльз Е.Бастьен   \n",
       "7484  Республика Кипр, Россия           А.Беляев   \n",
       "7485  Республика Кипр, Россия           И.Трусов   \n",
       "\n",
       "                                               producer  \\\n",
       "0             Дэвид Валдес, Кевин Костнер, Джейк Эбертс   \n",
       "1                                               unknown   \n",
       "2     Джим Лемли, Джейсон Нетер, Марк Е.Платт, Яйн Смит   \n",
       "3     Джим Лемли, Джейсон Нетер, Марк Е.Платт, Яйн Смит   \n",
       "4     Джим Лемли, Джейсон Нетер, Марк Е.Платт, Яйн Смит   \n",
       "...                                                 ...   \n",
       "7481                                        Фил Грабски   \n",
       "7482  Джефф Боулер, Дэниэл Гродник, Луильо Руис, Брэ...   \n",
       "7483                                     Дженнифер Додж   \n",
       "7484                                          Д.Ловейко   \n",
       "7485                                          Д.Ловейко   \n",
       "\n",
       "                             age_restriction  refundable_support  \\\n",
       "0                «18+» - запрещено для детей                 NaN   \n",
       "1              «6+» - для детей старше 6 лет                 NaN   \n",
       "2                «18+» - запрещено для детей                 NaN   \n",
       "3                «18+» - запрещено для детей                 NaN   \n",
       "4                «18+» - запрещено для детей                 NaN   \n",
       "...                                      ...                 ...   \n",
       "7481         «12+» - для детей старше 12 лет                 NaN   \n",
       "7482         «16+» - для детей старше 16 лет                 NaN   \n",
       "7483  «0+» - для любой зрительской аудитории                 NaN   \n",
       "7484  «0+» - для любой зрительской аудитории                 NaN   \n",
       "7485  «0+» - для любой зрительской аудитории                 NaN   \n",
       "\n",
       "      nonrefundable_support  budget financing_source  ratings  \\\n",
       "0                       NaN     NaN              NaN      7.2   \n",
       "1                       NaN     NaN              NaN      6.6   \n",
       "2                       NaN     NaN              NaN      6.8   \n",
       "3                       NaN     NaN              NaN      6.8   \n",
       "4                       NaN     NaN              NaN      6.8   \n",
       "...                     ...     ...              ...      ...   \n",
       "7481                    NaN     NaN              NaN      NaN   \n",
       "7482                    NaN     NaN              NaN      5.4   \n",
       "7483                    NaN     NaN              NaN      NaN   \n",
       "7484                    NaN     NaN              NaN      NaN   \n",
       "7485                    NaN     NaN              NaN      6.3   \n",
       "\n",
       "                         genres  box_office  date_year      director_name  \\\n",
       "0        боевик,драма,мелодрама         NaN       2015      Кевин Костнер   \n",
       "1                 драма,военный         NaN       2016          Е.Матвеев   \n",
       "2     фантастика,боевик,триллер         NaN       2016  Тимур Бекмамбетов   \n",
       "3     фантастика,боевик,триллер         NaN       2016  Тимур Бекмамбетов   \n",
       "4     фантастика,боевик,триллер         NaN       2015  Тимур Бекмамбетов   \n",
       "...                         ...         ...        ...                ...   \n",
       "7481                    unknown         NaN       2019        Фил Грабски   \n",
       "7482             боевик,триллер         NaN       2019         Ник Пауэлл   \n",
       "7483                    unknown         NaN       2019   Чарльз Е.Бастьен   \n",
       "7484                    unknown         NaN       2019           А.Беляев   \n",
       "7485            комедия,вестерн         NaN       2019           И.Трусов   \n",
       "\n",
       "      genre_main  film_support_money  \n",
       "0         боевик                 NaN  \n",
       "1          драма                 NaN  \n",
       "2     фантастика                 NaN  \n",
       "3     фантастика                 NaN  \n",
       "4     фантастика                 NaN  \n",
       "...          ...                 ...  \n",
       "7481     unknown                 NaN  \n",
       "7482      боевик                 NaN  \n",
       "7483     unknown                 NaN  \n",
       "7484     unknown                 NaN  \n",
       "7485     комедия                 NaN  \n",
       "\n",
       "[7467 rows x 20 columns]"
      ]
     },
     "execution_count": 37,
     "metadata": {},
     "output_type": "execute_result"
    }
   ],
   "source": [
    "#Создадим копию датасета\n",
    "df_5 = df.copy(deep=True)\n",
    "df_5\n"
   ]
  },
  {
   "cell_type": "code",
   "execution_count": 38,
   "metadata": {
    "scrolled": true
   },
   "outputs": [
    {
     "data": {
      "text/plain": [
       "array([2.70000000e+03, 3.60000000e+02, 4.20000000e+02, ...,\n",
       "       3.14379050e+06, 1.80017724e+07, 2.19569000e+05])"
      ]
     },
     "execution_count": 38,
     "metadata": {},
     "output_type": "execute_result"
    }
   ],
   "source": [
    "#Отсфильтруем датасет так, чтобы остались только строки, где бюджет > 0\n",
    "df_5 = df_5.query('box_office > 0')\n",
    "df_5['box_office'].unique()"
   ]
  },
  {
   "cell_type": "markdown",
   "metadata": {},
   "source": [
    "<div class=\"alert alert-danger\">\n",
    "<b>Комментарий ревьюера v4: </b> \n",
    "    \n",
    "Да, действительно, к данному датафрейму ты далее не обращаешься. Здесь нужно было создать отдельный датафрейм для фильмов, у кого есть информацию по СБОРАМ (`box_office`), а не по бюджету. Так как далее ты можешь его использовать при подсчете количества фильмов, вышедшх в прокат.\n",
    "</div>"
   ]
  },
  {
   "cell_type": "markdown",
   "metadata": {},
   "source": [
    "<div class=\"alert alert-success\">\n",
    "<b>Комментарий ревьюера v5: </b> \n",
    "\n",
    "Теперь все верно.\n",
    "</div>"
   ]
  },
  {
   "cell_type": "markdown",
   "metadata": {
    "id": "6t4EukPLgFyV"
   },
   "source": [
    "### Шаг 3. Проведите исследовательский анализ данных\n"
   ]
  },
  {
   "cell_type": "markdown",
   "metadata": {
    "id": "vAH8WCzugFyV"
   },
   "source": [
    "- Посмотрите, сколько фильмов выходило в прокат каждый год. Обратите внимание, что данные о прокате в кинотеатрах известны не для всех фильмов. Посчитайте, какую долю составляют фильмы с указанной информацией о прокате в кинотеатрах."
   ]
  },
  {
   "cell_type": "markdown",
   "metadata": {},
   "source": [
    "<div class=\"alert alert-info\">\n",
    "<b>Здесь переделал вывод данных методом query. Вывод поменялся абсолютно противоположно! </div>"
   ]
  },
  {
   "cell_type": "markdown",
   "metadata": {},
   "source": [
    "<div class=\"alert alert-danger\">\n",
    "<b>Комментарий ревьюера: </b> Здесь все не так просто. От тебя требуется вывести не просто все фильмы, а только те, которые вышли в прокат, то есть те, о чьих сборах есть данные.\n",
    "\n",
    "Также нужно посчитать долю. Там тебе нужно будет количество фильмов с имеющейся информации о сборах разделить на те значения, которые ты вывел сейчас.</div>"
   ]
  },
  {
   "cell_type": "code",
   "execution_count": 39,
   "metadata": {},
   "outputs": [
    {
     "data": {
      "text/plain": [
       "date_year\n",
       "2010    10.274669\n",
       "2011    17.524116\n",
       "2012    20.741990\n",
       "2013    28.412698\n",
       "2014    33.746898\n",
       "2015    65.236052\n",
       "2016    64.049080\n",
       "2017    70.576541\n",
       "2018    53.100338\n",
       "2019    56.942949\n",
       "Name: date_year, dtype: float64"
      ]
     },
     "execution_count": 39,
     "metadata": {},
     "output_type": "execute_result"
    }
   ],
   "source": [
    "#Вычисляем долю фильмов со сборами больше нуля к количеству фильмов\n",
    "film_by_year_part = film_by_year_box/film_by_year *100\n",
    "film_by_year_part"
   ]
  },
  {
   "cell_type": "code",
   "execution_count": 40,
   "metadata": {},
   "outputs": [
    {
     "data": {
      "image/png": "[encoded data removed]",
      "text/plain": [
       "<Figure size 432x288 with 1 Axes>"
      ]
     },
     "metadata": {
      "needs_background": "light"
     },
     "output_type": "display_data"
    }
   ],
   "source": [
    "#Строим график\n",
    "\n",
    "film_by_year_part.plot()\n",
    "plt.show()\n"
   ]
  },
  {
   "cell_type": "markdown",
   "metadata": {},
   "source": [
    "Видно как доля отношение количества фильмов с господдержкой  увеличивалось в динамике от 2010 к 2019 году. Больший процент поддержки получали фильмы с 2014 по 2018 года."
   ]
  },
  {
   "cell_type": "code",
   "execution_count": 41,
   "metadata": {
    "id": "ABeV47y7gFyW",
    "scrolled": true
   },
   "outputs": [
    {
     "data": {
      "text/html": [
       "<div>\n",
       "<style scoped>\n",
       "    .dataframe tbody tr th:only-of-type {\n",
       "        vertical-align: middle;\n",
       "    }\n",
       "\n",
       "    .dataframe tbody tr th {\n",
       "        vertical-align: top;\n",
       "    }\n",
       "\n",
       "    .dataframe thead tr th {\n",
       "        text-align: left;\n",
       "    }\n",
       "\n",
       "    .dataframe thead tr:last-of-type th {\n",
       "        text-align: right;\n",
       "    }\n",
       "</style>\n",
       "<table border=\"1\" class=\"dataframe\">\n",
       "  <thead>\n",
       "    <tr>\n",
       "      <th></th>\n",
       "      <th>count</th>\n",
       "    </tr>\n",
       "    <tr>\n",
       "      <th></th>\n",
       "      <th>title</th>\n",
       "    </tr>\n",
       "    <tr>\n",
       "      <th>date_year</th>\n",
       "      <th></th>\n",
       "    </tr>\n",
       "  </thead>\n",
       "  <tbody>\n",
       "    <tr>\n",
       "      <td>2019</td>\n",
       "      <td>529</td>\n",
       "    </tr>\n",
       "    <tr>\n",
       "      <td>2018</td>\n",
       "      <td>471</td>\n",
       "    </tr>\n",
       "    <tr>\n",
       "      <td>2017</td>\n",
       "      <td>355</td>\n",
       "    </tr>\n",
       "    <tr>\n",
       "      <td>2016</td>\n",
       "      <td>522</td>\n",
       "    </tr>\n",
       "    <tr>\n",
       "      <td>2015</td>\n",
       "      <td>456</td>\n",
       "    </tr>\n",
       "    <tr>\n",
       "      <td>2014</td>\n",
       "      <td>272</td>\n",
       "    </tr>\n",
       "    <tr>\n",
       "      <td>2013</td>\n",
       "      <td>179</td>\n",
       "    </tr>\n",
       "    <tr>\n",
       "      <td>2012</td>\n",
       "      <td>123</td>\n",
       "    </tr>\n",
       "    <tr>\n",
       "      <td>2011</td>\n",
       "      <td>109</td>\n",
       "    </tr>\n",
       "    <tr>\n",
       "      <td>2010</td>\n",
       "      <td>101</td>\n",
       "    </tr>\n",
       "  </tbody>\n",
       "</table>\n",
       "</div>"
      ],
      "text/plain": [
       "          count\n",
       "          title\n",
       "date_year      \n",
       "2019        529\n",
       "2018        471\n",
       "2017        355\n",
       "2016        522\n",
       "2015        456\n",
       "2014        272\n",
       "2013        179\n",
       "2012        123\n",
       "2011        109\n",
       "2010        101"
      ]
     },
     "execution_count": 41,
     "metadata": {},
     "output_type": "execute_result"
    }
   ],
   "source": [
    "#Фильмы с бюджетом больше нуля по годам (по df_5)\n",
    "df_5_years = df_5.pivot_table(index='date_year', values='title', aggfunc=['count']).sort_values('date_year', ascending=False)\n",
    "df_5_years"
   ]
  },
  {
   "cell_type": "markdown",
   "metadata": {},
   "source": [
    "<div class=\"alert alert-danger\">\n",
    "<b>Комментарий ревьюера v4: </b> \n",
    "    \n",
    "Тебе здесь нужно вывести количество фильмов, выходиших в прокат. Для этого тебе нужно отобрать только те строки датафрейма, где `box_office` больше нуля. И график далее вывести нужно только по фильмам, у которых сборы больше нуля.\n",
    "    \n",
    "Поэтому советую подправить df_5 и сделать, чтобы там `box_office` был больше нуля, тогда его можно было бы использовать здесь.\n",
    "</div>"
   ]
  },
  {
   "cell_type": "markdown",
   "metadata": {},
   "source": [
    "<div class=\"alert alert-info\">\n",
    "<b>Сделал </div>"
   ]
  },
  {
   "cell_type": "markdown",
   "metadata": {},
   "source": [
    "<div class=\"alert alert-success\">\n",
    "<b>Комментарий ревьюера v5: </b> \n",
    "\n",
    "Отлично!\n",
    "</div>"
   ]
  },
  {
   "cell_type": "code",
   "execution_count": 42,
   "metadata": {},
   "outputs": [],
   "source": [
    "#Сколько фильмов выходило по годам. Поскольку смотрим мы по датасету, где удалены строки с пропусками в сборах и в бюджете, имеем следующие значения\n",
    "#film_by_year = df.groupby('date_year')['date_year'].count()\n",
    "#film_by_year\n",
    "\n",
    "#пришлось эту операцию провести раньше по ходу исследования чтобы сохранить данные до удаления из датафрейма строк с нулевым бюджетом"
   ]
  },
  {
   "cell_type": "markdown",
   "metadata": {},
   "source": [
    "<div class=\"alert alert-success\">\n",
    "<b>Комментарий ревьюера v2: </b> \n",
    "    \n",
    "Супер, то что надо.\n",
    "</div>"
   ]
  },
  {
   "cell_type": "markdown",
   "metadata": {
    "id": "BEOdcIrIgFyW"
   },
   "source": [
    "- Изучите, как менялась динамика проката по годам. В каком году сумма сборов была минимальной? А максимальной?"
   ]
  },
  {
   "cell_type": "code",
   "execution_count": 43,
   "metadata": {
    "id": "tfEhofYvgFyX"
   },
   "outputs": [
    {
     "data": {
      "text/plain": [
       "<matplotlib.axes._subplots.AxesSubplot at 0x7faf20096fd0>"
      ]
     },
     "execution_count": 43,
     "metadata": {},
     "output_type": "execute_result"
    },
    {
     "data": {
      "image/png": "[encoded data removed]",
      "text/plain": [
       "<Figure size 432x288 with 1 Axes>"
      ]
     },
     "metadata": {
      "needs_background": "light"
     },
     "output_type": "display_data"
    }
   ],
   "source": [
    "df_5_years.plot()"
   ]
  },
  {
   "cell_type": "markdown",
   "metadata": {},
   "source": [
    "Видим, что в 2017 году был резкий спад, и затем очень быстрое восстановление в 2018 году."
   ]
  },
  {
   "cell_type": "markdown",
   "metadata": {
    "id": "G-7qS-N-gFyY"
   },
   "source": [
    "- С помощью сводной таблицы посчитайте среднюю и медианную сумму сборов для каждого года."
   ]
  },
  {
   "cell_type": "code",
   "execution_count": 44,
   "metadata": {
    "id": "jmp-rgg9gFyY"
   },
   "outputs": [
    {
     "data": {
      "text/html": [
       "<div>\n",
       "<style scoped>\n",
       "    .dataframe tbody tr th:only-of-type {\n",
       "        vertical-align: middle;\n",
       "    }\n",
       "\n",
       "    .dataframe tbody tr th {\n",
       "        vertical-align: top;\n",
       "    }\n",
       "\n",
       "    .dataframe thead th {\n",
       "        text-align: right;\n",
       "    }\n",
       "</style>\n",
       "<table border=\"1\" class=\"dataframe\">\n",
       "  <thead>\n",
       "    <tr style=\"text-align: right;\">\n",
       "      <th></th>\n",
       "      <th>date_year</th>\n",
       "      <th>mean</th>\n",
       "      <th>count</th>\n",
       "      <th>median</th>\n",
       "    </tr>\n",
       "  </thead>\n",
       "  <tbody>\n",
       "    <tr>\n",
       "      <td>0</td>\n",
       "      <td>2019</td>\n",
       "      <td>9.126295e+07</td>\n",
       "      <td>529</td>\n",
       "      <td>4601033.60</td>\n",
       "    </tr>\n",
       "    <tr>\n",
       "      <td>1</td>\n",
       "      <td>2018</td>\n",
       "      <td>1.045690e+08</td>\n",
       "      <td>471</td>\n",
       "      <td>8751895.75</td>\n",
       "    </tr>\n",
       "    <tr>\n",
       "      <td>2</td>\n",
       "      <td>2017</td>\n",
       "      <td>1.365018e+08</td>\n",
       "      <td>355</td>\n",
       "      <td>9919415.00</td>\n",
       "    </tr>\n",
       "    <tr>\n",
       "      <td>3</td>\n",
       "      <td>2016</td>\n",
       "      <td>8.954467e+07</td>\n",
       "      <td>522</td>\n",
       "      <td>3777202.68</td>\n",
       "    </tr>\n",
       "    <tr>\n",
       "      <td>4</td>\n",
       "      <td>2015</td>\n",
       "      <td>8.449085e+07</td>\n",
       "      <td>456</td>\n",
       "      <td>4864744.05</td>\n",
       "    </tr>\n",
       "    <tr>\n",
       "      <td>5</td>\n",
       "      <td>2014</td>\n",
       "      <td>2.733352e+07</td>\n",
       "      <td>272</td>\n",
       "      <td>20310.00</td>\n",
       "    </tr>\n",
       "    <tr>\n",
       "      <td>6</td>\n",
       "      <td>2013</td>\n",
       "      <td>1.664788e+05</td>\n",
       "      <td>179</td>\n",
       "      <td>3580.00</td>\n",
       "    </tr>\n",
       "    <tr>\n",
       "      <td>7</td>\n",
       "      <td>2012</td>\n",
       "      <td>5.654815e+04</td>\n",
       "      <td>123</td>\n",
       "      <td>6220.00</td>\n",
       "    </tr>\n",
       "    <tr>\n",
       "      <td>8</td>\n",
       "      <td>2011</td>\n",
       "      <td>1.293832e+05</td>\n",
       "      <td>109</td>\n",
       "      <td>3000.00</td>\n",
       "    </tr>\n",
       "    <tr>\n",
       "      <td>9</td>\n",
       "      <td>2010</td>\n",
       "      <td>2.404608e+04</td>\n",
       "      <td>101</td>\n",
       "      <td>1710.00</td>\n",
       "    </tr>\n",
       "  </tbody>\n",
       "</table>\n",
       "</div>"
      ],
      "text/plain": [
       "   date_year          mean  count      median\n",
       "0       2019  9.126295e+07    529  4601033.60\n",
       "1       2018  1.045690e+08    471  8751895.75\n",
       "2       2017  1.365018e+08    355  9919415.00\n",
       "3       2016  8.954467e+07    522  3777202.68\n",
       "4       2015  8.449085e+07    456  4864744.05\n",
       "5       2014  2.733352e+07    272    20310.00\n",
       "6       2013  1.664788e+05    179     3580.00\n",
       "7       2012  5.654815e+04    123     6220.00\n",
       "8       2011  1.293832e+05    109     3000.00\n",
       "9       2010  2.404608e+04    101     1710.00"
      ]
     },
     "execution_count": 44,
     "metadata": {},
     "output_type": "execute_result"
    }
   ],
   "source": [
    "#отсортируем таблицу так, чтобы в выборку не попали значения с отрицательными сборами\n",
    "\n",
    "df_box_office_per_year = df_5.pivot_table(index = 'date_year', values = 'box_office', aggfunc = ['mean', 'count', 'median'])\n",
    "df_box_office_per_year.columns = ['mean', 'count', 'median']\n",
    "df_box_office_per_year.sort_values('date_year', ascending = False).reset_index()"
   ]
  },
  {
   "cell_type": "markdown",
   "metadata": {},
   "source": [
    "<div class=\"alert alert-warning\">\n",
    "<b>Комментарий ревьюера: </b> Как ты думаешь, что может означать то, что медиана и среднее значение так сильно различаются?  </div>"
   ]
  },
  {
   "cell_type": "markdown",
   "metadata": {},
   "source": [
    "<div class=\"alert alert-info\">\n",
    "<b>Если есть существенная разница между средним и медианным значением, значит в данных присутствуют выбросы (аномалии). НАпример какой то один фильм за год получил огромные сборы, а все остальные примерно одинаковые значения - тогда медиана и среднее будет отличаться. </div>"
   ]
  },
  {
   "cell_type": "markdown",
   "metadata": {},
   "source": [
    "<div class=\"alert alert-success\">\n",
    "<b>Комментарий ревьюера v2: </b> Абсолютно верно.  </div>"
   ]
  },
  {
   "cell_type": "markdown",
   "metadata": {
    "id": "Ok89WFwJgFyZ"
   },
   "source": [
    "- Определите, влияет ли возрастное ограничение аудитории («6+», «12+», «16+», «18+» и т. д.) на сборы фильма в прокате в период с 2015 по 2019 год? Фильмы с каким возрастным ограничением собрали больше всего денег в прокате? Меняется ли картина в зависимости от года? Если да, предположите, с чем это может быть связано."
   ]
  },
  {
   "cell_type": "code",
   "execution_count": 45,
   "metadata": {
    "id": "jsSbEqfjgFya",
    "scrolled": true
   },
   "outputs": [
    {
     "data": {
      "text/html": [
       "<div>\n",
       "<style scoped>\n",
       "    .dataframe tbody tr th:only-of-type {\n",
       "        vertical-align: middle;\n",
       "    }\n",
       "\n",
       "    .dataframe tbody tr th {\n",
       "        vertical-align: top;\n",
       "    }\n",
       "\n",
       "    .dataframe thead th {\n",
       "        text-align: right;\n",
       "    }\n",
       "</style>\n",
       "<table border=\"1\" class=\"dataframe\">\n",
       "  <thead>\n",
       "    <tr style=\"text-align: right;\">\n",
       "      <th></th>\n",
       "      <th>age_restriction</th>\n",
       "      <th>mean</th>\n",
       "      <th>count</th>\n",
       "      <th>median</th>\n",
       "    </tr>\n",
       "  </thead>\n",
       "  <tbody>\n",
       "    <tr>\n",
       "      <td>0</td>\n",
       "      <td>«6+» - для детей старше 6 лет</td>\n",
       "      <td>1.775569e+08</td>\n",
       "      <td>311</td>\n",
       "      <td>13596322.70</td>\n",
       "    </tr>\n",
       "    <tr>\n",
       "      <td>1</td>\n",
       "      <td>«18+» - запрещено для детей</td>\n",
       "      <td>5.152675e+07</td>\n",
       "      <td>791</td>\n",
       "      <td>6164575.34</td>\n",
       "    </tr>\n",
       "    <tr>\n",
       "      <td>2</td>\n",
       "      <td>«16+» - для детей старше 16 лет</td>\n",
       "      <td>9.423120e+07</td>\n",
       "      <td>797</td>\n",
       "      <td>5477552.00</td>\n",
       "    </tr>\n",
       "    <tr>\n",
       "      <td>3</td>\n",
       "      <td>«12+» - для детей старше 12 лет</td>\n",
       "      <td>1.725849e+08</td>\n",
       "      <td>344</td>\n",
       "      <td>4928678.00</td>\n",
       "    </tr>\n",
       "    <tr>\n",
       "      <td>4</td>\n",
       "      <td>«0+» - для любой зрительской аудитории</td>\n",
       "      <td>8.989749e+06</td>\n",
       "      <td>90</td>\n",
       "      <td>2949626.65</td>\n",
       "    </tr>\n",
       "  </tbody>\n",
       "</table>\n",
       "</div>"
      ],
      "text/plain": [
       "                          age_restriction          mean  count       median\n",
       "0           «6+» - для детей старше 6 лет  1.775569e+08    311  13596322.70\n",
       "1             «18+» - запрещено для детей  5.152675e+07    791   6164575.34\n",
       "2         «16+» - для детей старше 16 лет  9.423120e+07    797   5477552.00\n",
       "3         «12+» - для детей старше 12 лет  1.725849e+08    344   4928678.00\n",
       "4  «0+» - для любой зрительской аудитории  8.989749e+06     90   2949626.65"
      ]
     },
     "execution_count": 45,
     "metadata": {},
     "output_type": "execute_result"
    }
   ],
   "source": [
    "#Сначала посмотрим на общий тренд - посмотрим какая из категорий фильмов самая прибыльная по медиане и среднему\n",
    "pivot_tabel_age_box = df_5.query('date_year>=2015').pivot_table(index = 'age_restriction', values = 'box_office', aggfunc = ['mean', 'count', 'median'])\n",
    "pivot_tabel_age_box.columns = ['mean', 'count', 'median']\n",
    "pivot_tabel_age_box.sort_values('age_restriction', ascending = False).reset_index()"
   ]
  },
  {
   "cell_type": "markdown",
   "metadata": {},
   "source": [
    "Видим что самые кассовые фильмы идут из категории 6+ по среднему значению, и они же по медианному, то есть с ними собрали больше всего денег в прокате в целом. Однако количество фильмов в категориях сильно разнится."
   ]
  },
  {
   "cell_type": "code",
   "execution_count": 46,
   "metadata": {
    "scrolled": false
   },
   "outputs": [
    {
     "data": {
      "text/html": [
       "<div>\n",
       "<style scoped>\n",
       "    .dataframe tbody tr th:only-of-type {\n",
       "        vertical-align: middle;\n",
       "    }\n",
       "\n",
       "    .dataframe tbody tr th {\n",
       "        vertical-align: top;\n",
       "    }\n",
       "\n",
       "    .dataframe thead th {\n",
       "        text-align: right;\n",
       "    }\n",
       "</style>\n",
       "<table border=\"1\" class=\"dataframe\">\n",
       "  <thead>\n",
       "    <tr style=\"text-align: right;\">\n",
       "      <th></th>\n",
       "      <th>date_year</th>\n",
       "      <th>age_restriction</th>\n",
       "      <th>mean</th>\n",
       "      <th>count</th>\n",
       "      <th>median</th>\n",
       "      <th>sum</th>\n",
       "    </tr>\n",
       "  </thead>\n",
       "  <tbody>\n",
       "    <tr>\n",
       "      <td>0</td>\n",
       "      <td>2019</td>\n",
       "      <td>«6+» - для детей старше 6 лет</td>\n",
       "      <td>1.588118e+08</td>\n",
       "      <td>80</td>\n",
       "      <td>1.252553e+07</td>\n",
       "      <td>1.270494e+10</td>\n",
       "    </tr>\n",
       "    <tr>\n",
       "      <td>1</td>\n",
       "      <td>2019</td>\n",
       "      <td>«18+» - запрещено для детей</td>\n",
       "      <td>5.531036e+07</td>\n",
       "      <td>183</td>\n",
       "      <td>5.603217e+06</td>\n",
       "      <td>1.012180e+10</td>\n",
       "    </tr>\n",
       "    <tr>\n",
       "      <td>2</td>\n",
       "      <td>2019</td>\n",
       "      <td>«16+» - для детей старше 16 лет</td>\n",
       "      <td>7.164842e+07</td>\n",
       "      <td>178</td>\n",
       "      <td>3.210718e+06</td>\n",
       "      <td>1.275342e+10</td>\n",
       "    </tr>\n",
       "    <tr>\n",
       "      <td>3</td>\n",
       "      <td>2019</td>\n",
       "      <td>«12+» - для детей старше 12 лет</td>\n",
       "      <td>1.491788e+08</td>\n",
       "      <td>85</td>\n",
       "      <td>3.405546e+06</td>\n",
       "      <td>1.268020e+10</td>\n",
       "    </tr>\n",
       "    <tr>\n",
       "      <td>4</td>\n",
       "      <td>2019</td>\n",
       "      <td>«0+» - для любой зрительской аудитории</td>\n",
       "      <td>5.915356e+06</td>\n",
       "      <td>3</td>\n",
       "      <td>3.885434e+06</td>\n",
       "      <td>1.774607e+07</td>\n",
       "    </tr>\n",
       "    <tr>\n",
       "      <td>5</td>\n",
       "      <td>2018</td>\n",
       "      <td>«6+» - для детей старше 6 лет</td>\n",
       "      <td>1.525194e+08</td>\n",
       "      <td>65</td>\n",
       "      <td>1.445867e+07</td>\n",
       "      <td>9.913759e+09</td>\n",
       "    </tr>\n",
       "    <tr>\n",
       "      <td>6</td>\n",
       "      <td>2018</td>\n",
       "      <td>«18+» - запрещено для детей</td>\n",
       "      <td>4.893903e+07</td>\n",
       "      <td>179</td>\n",
       "      <td>7.179466e+06</td>\n",
       "      <td>8.760086e+09</td>\n",
       "    </tr>\n",
       "    <tr>\n",
       "      <td>7</td>\n",
       "      <td>2018</td>\n",
       "      <td>«16+» - для детей старше 16 лет</td>\n",
       "      <td>1.050220e+08</td>\n",
       "      <td>155</td>\n",
       "      <td>8.751896e+06</td>\n",
       "      <td>1.627841e+10</td>\n",
       "    </tr>\n",
       "    <tr>\n",
       "      <td>8</td>\n",
       "      <td>2018</td>\n",
       "      <td>«12+» - для детей старше 12 лет</td>\n",
       "      <td>2.129447e+08</td>\n",
       "      <td>67</td>\n",
       "      <td>8.931966e+06</td>\n",
       "      <td>1.426729e+10</td>\n",
       "    </tr>\n",
       "    <tr>\n",
       "      <td>9</td>\n",
       "      <td>2018</td>\n",
       "      <td>«0+» - для любой зрительской аудитории</td>\n",
       "      <td>6.489800e+06</td>\n",
       "      <td>5</td>\n",
       "      <td>3.616937e+06</td>\n",
       "      <td>3.244900e+07</td>\n",
       "    </tr>\n",
       "    <tr>\n",
       "      <td>10</td>\n",
       "      <td>2017</td>\n",
       "      <td>«16+» - для детей старше 16 лет</td>\n",
       "      <td>1.557883e+08</td>\n",
       "      <td>120</td>\n",
       "      <td>9.641408e+06</td>\n",
       "      <td>1.869459e+10</td>\n",
       "    </tr>\n",
       "    <tr>\n",
       "      <td>11</td>\n",
       "      <td>2017</td>\n",
       "      <td>«0+» - для любой зрительской аудитории</td>\n",
       "      <td>7.653298e+07</td>\n",
       "      <td>3</td>\n",
       "      <td>2.217896e+07</td>\n",
       "      <td>2.295989e+08</td>\n",
       "    </tr>\n",
       "    <tr>\n",
       "      <td>12</td>\n",
       "      <td>2017</td>\n",
       "      <td>«12+» - для детей старше 12 лет</td>\n",
       "      <td>1.914982e+08</td>\n",
       "      <td>41</td>\n",
       "      <td>9.010548e+06</td>\n",
       "      <td>7.851428e+09</td>\n",
       "    </tr>\n",
       "    <tr>\n",
       "      <td>13</td>\n",
       "      <td>2017</td>\n",
       "      <td>«18+» - запрещено для детей</td>\n",
       "      <td>6.565643e+07</td>\n",
       "      <td>147</td>\n",
       "      <td>8.212677e+06</td>\n",
       "      <td>9.651496e+09</td>\n",
       "    </tr>\n",
       "    <tr>\n",
       "      <td>14</td>\n",
       "      <td>2017</td>\n",
       "      <td>«6+» - для детей старше 6 лет</td>\n",
       "      <td>2.734326e+08</td>\n",
       "      <td>44</td>\n",
       "      <td>5.027498e+07</td>\n",
       "      <td>1.203103e+10</td>\n",
       "    </tr>\n",
       "    <tr>\n",
       "      <td>15</td>\n",
       "      <td>2016</td>\n",
       "      <td>«6+» - для детей старше 6 лет</td>\n",
       "      <td>1.721878e+08</td>\n",
       "      <td>70</td>\n",
       "      <td>3.026256e+06</td>\n",
       "      <td>1.205315e+10</td>\n",
       "    </tr>\n",
       "    <tr>\n",
       "      <td>16</td>\n",
       "      <td>2016</td>\n",
       "      <td>«18+» - запрещено для детей</td>\n",
       "      <td>4.499291e+07</td>\n",
       "      <td>151</td>\n",
       "      <td>6.107002e+06</td>\n",
       "      <td>6.793930e+09</td>\n",
       "    </tr>\n",
       "    <tr>\n",
       "      <td>17</td>\n",
       "      <td>2016</td>\n",
       "      <td>«16+» - для детей старше 16 лет</td>\n",
       "      <td>9.219027e+07</td>\n",
       "      <td>180</td>\n",
       "      <td>5.133022e+06</td>\n",
       "      <td>1.659425e+10</td>\n",
       "    </tr>\n",
       "    <tr>\n",
       "      <td>18</td>\n",
       "      <td>2016</td>\n",
       "      <td>«12+» - для детей старше 12 лет</td>\n",
       "      <td>1.393845e+08</td>\n",
       "      <td>80</td>\n",
       "      <td>4.225478e+06</td>\n",
       "      <td>1.115076e+10</td>\n",
       "    </tr>\n",
       "    <tr>\n",
       "      <td>19</td>\n",
       "      <td>2016</td>\n",
       "      <td>«0+» - для любой зрительской аудитории</td>\n",
       "      <td>3.664118e+06</td>\n",
       "      <td>41</td>\n",
       "      <td>2.571294e+06</td>\n",
       "      <td>1.502288e+08</td>\n",
       "    </tr>\n",
       "    <tr>\n",
       "      <td>20</td>\n",
       "      <td>2015</td>\n",
       "      <td>«12+» - для детей старше 12 лет</td>\n",
       "      <td>1.890072e+08</td>\n",
       "      <td>71</td>\n",
       "      <td>1.535156e+07</td>\n",
       "      <td>1.341951e+10</td>\n",
       "    </tr>\n",
       "    <tr>\n",
       "      <td>21</td>\n",
       "      <td>2015</td>\n",
       "      <td>«6+» - для детей старше 6 лет</td>\n",
       "      <td>1.637945e+08</td>\n",
       "      <td>52</td>\n",
       "      <td>1.951325e+07</td>\n",
       "      <td>8.517312e+09</td>\n",
       "    </tr>\n",
       "    <tr>\n",
       "      <td>22</td>\n",
       "      <td>2015</td>\n",
       "      <td>«18+» - запрещено для детей</td>\n",
       "      <td>4.145306e+07</td>\n",
       "      <td>131</td>\n",
       "      <td>4.654761e+06</td>\n",
       "      <td>5.430351e+09</td>\n",
       "    </tr>\n",
       "    <tr>\n",
       "      <td>23</td>\n",
       "      <td>2015</td>\n",
       "      <td>«16+» - для детей старше 16 лет</td>\n",
       "      <td>6.574147e+07</td>\n",
       "      <td>164</td>\n",
       "      <td>4.445026e+06</td>\n",
       "      <td>1.078160e+10</td>\n",
       "    </tr>\n",
       "    <tr>\n",
       "      <td>24</td>\n",
       "      <td>2015</td>\n",
       "      <td>«0+» - для любой зрительской аудитории</td>\n",
       "      <td>9.975120e+06</td>\n",
       "      <td>38</td>\n",
       "      <td>2.949809e+06</td>\n",
       "      <td>3.790546e+08</td>\n",
       "    </tr>\n",
       "    <tr>\n",
       "      <td>25</td>\n",
       "      <td>2014</td>\n",
       "      <td>«18+» - запрещено для детей</td>\n",
       "      <td>4.910473e+07</td>\n",
       "      <td>45</td>\n",
       "      <td>1.801080e+05</td>\n",
       "      <td>2.209713e+09</td>\n",
       "    </tr>\n",
       "    <tr>\n",
       "      <td>26</td>\n",
       "      <td>2014</td>\n",
       "      <td>«16+» - для детей старше 16 лет</td>\n",
       "      <td>6.760077e+06</td>\n",
       "      <td>79</td>\n",
       "      <td>1.386000e+04</td>\n",
       "      <td>5.340461e+08</td>\n",
       "    </tr>\n",
       "    <tr>\n",
       "      <td>27</td>\n",
       "      <td>2014</td>\n",
       "      <td>«12+» - для детей старше 12 лет</td>\n",
       "      <td>3.191089e+07</td>\n",
       "      <td>81</td>\n",
       "      <td>6.870000e+03</td>\n",
       "      <td>2.584782e+09</td>\n",
       "    </tr>\n",
       "    <tr>\n",
       "      <td>28</td>\n",
       "      <td>2014</td>\n",
       "      <td>«0+» - для любой зрительской аудитории</td>\n",
       "      <td>9.883217e+06</td>\n",
       "      <td>38</td>\n",
       "      <td>1.908550e+05</td>\n",
       "      <td>3.755623e+08</td>\n",
       "    </tr>\n",
       "    <tr>\n",
       "      <td>29</td>\n",
       "      <td>2014</td>\n",
       "      <td>«6+» - для детей старше 6 лет</td>\n",
       "      <td>5.967636e+07</td>\n",
       "      <td>29</td>\n",
       "      <td>1.376850e+05</td>\n",
       "      <td>1.730614e+09</td>\n",
       "    </tr>\n",
       "    <tr>\n",
       "      <td>30</td>\n",
       "      <td>2013</td>\n",
       "      <td>«0+» - для любой зрительской аудитории</td>\n",
       "      <td>7.325142e+04</td>\n",
       "      <td>37</td>\n",
       "      <td>1.322500e+04</td>\n",
       "      <td>2.710302e+06</td>\n",
       "    </tr>\n",
       "    <tr>\n",
       "      <td>31</td>\n",
       "      <td>2013</td>\n",
       "      <td>«6+» - для детей старше 6 лет</td>\n",
       "      <td>1.439008e+04</td>\n",
       "      <td>25</td>\n",
       "      <td>3.545000e+03</td>\n",
       "      <td>3.597520e+05</td>\n",
       "    </tr>\n",
       "    <tr>\n",
       "      <td>32</td>\n",
       "      <td>2013</td>\n",
       "      <td>«18+» - запрещено для детей</td>\n",
       "      <td>3.225778e+05</td>\n",
       "      <td>16</td>\n",
       "      <td>1.775000e+03</td>\n",
       "      <td>5.161246e+06</td>\n",
       "    </tr>\n",
       "    <tr>\n",
       "      <td>33</td>\n",
       "      <td>2013</td>\n",
       "      <td>«16+» - для детей старше 16 лет</td>\n",
       "      <td>1.495613e+04</td>\n",
       "      <td>44</td>\n",
       "      <td>3.590000e+03</td>\n",
       "      <td>6.580696e+05</td>\n",
       "    </tr>\n",
       "    <tr>\n",
       "      <td>34</td>\n",
       "      <td>2013</td>\n",
       "      <td>«12+» - для детей старше 12 лет</td>\n",
       "      <td>3.668480e+05</td>\n",
       "      <td>57</td>\n",
       "      <td>2.700000e+03</td>\n",
       "      <td>2.091034e+07</td>\n",
       "    </tr>\n",
       "    <tr>\n",
       "      <td>35</td>\n",
       "      <td>2012</td>\n",
       "      <td>«16+» - для детей старше 16 лет</td>\n",
       "      <td>6.923864e+04</td>\n",
       "      <td>47</td>\n",
       "      <td>1.920000e+03</td>\n",
       "      <td>3.254216e+06</td>\n",
       "    </tr>\n",
       "    <tr>\n",
       "      <td>36</td>\n",
       "      <td>2012</td>\n",
       "      <td>«0+» - для любой зрительской аудитории</td>\n",
       "      <td>7.554943e+04</td>\n",
       "      <td>30</td>\n",
       "      <td>1.806750e+04</td>\n",
       "      <td>2.266483e+06</td>\n",
       "    </tr>\n",
       "    <tr>\n",
       "      <td>37</td>\n",
       "      <td>2012</td>\n",
       "      <td>«12+» - для детей старше 12 лет</td>\n",
       "      <td>8.364154e+03</td>\n",
       "      <td>13</td>\n",
       "      <td>6.775000e+03</td>\n",
       "      <td>1.087340e+05</td>\n",
       "    </tr>\n",
       "    <tr>\n",
       "      <td>38</td>\n",
       "      <td>2012</td>\n",
       "      <td>«18+» - запрещено для детей</td>\n",
       "      <td>1.074000e+04</td>\n",
       "      <td>17</td>\n",
       "      <td>1.385000e+03</td>\n",
       "      <td>1.825800e+05</td>\n",
       "    </tr>\n",
       "    <tr>\n",
       "      <td>39</td>\n",
       "      <td>2012</td>\n",
       "      <td>«6+» - для детей старше 6 лет</td>\n",
       "      <td>7.146312e+04</td>\n",
       "      <td>16</td>\n",
       "      <td>6.475000e+03</td>\n",
       "      <td>1.143410e+06</td>\n",
       "    </tr>\n",
       "    <tr>\n",
       "      <td>40</td>\n",
       "      <td>2011</td>\n",
       "      <td>«6+» - для детей старше 6 лет</td>\n",
       "      <td>4.500000e+02</td>\n",
       "      <td>1</td>\n",
       "      <td>4.500000e+02</td>\n",
       "      <td>4.500000e+02</td>\n",
       "    </tr>\n",
       "    <tr>\n",
       "      <td>41</td>\n",
       "      <td>2011</td>\n",
       "      <td>«18+» - запрещено для детей</td>\n",
       "      <td>5.200000e+02</td>\n",
       "      <td>2</td>\n",
       "      <td>5.200000e+02</td>\n",
       "      <td>1.040000e+03</td>\n",
       "    </tr>\n",
       "    <tr>\n",
       "      <td>42</td>\n",
       "      <td>2011</td>\n",
       "      <td>«16+» - для детей старше 16 лет</td>\n",
       "      <td>7.065056e+03</td>\n",
       "      <td>54</td>\n",
       "      <td>2.835000e+03</td>\n",
       "      <td>3.815130e+05</td>\n",
       "    </tr>\n",
       "    <tr>\n",
       "      <td>43</td>\n",
       "      <td>2011</td>\n",
       "      <td>«12+» - для детей старше 12 лет</td>\n",
       "      <td>9.995045e+03</td>\n",
       "      <td>22</td>\n",
       "      <td>3.741500e+03</td>\n",
       "      <td>2.198910e+05</td>\n",
       "    </tr>\n",
       "    <tr>\n",
       "      <td>44</td>\n",
       "      <td>2011</td>\n",
       "      <td>«0+» - для любой зрительской аудитории</td>\n",
       "      <td>4.499957e+05</td>\n",
       "      <td>30</td>\n",
       "      <td>7.010000e+03</td>\n",
       "      <td>1.349987e+07</td>\n",
       "    </tr>\n",
       "    <tr>\n",
       "      <td>45</td>\n",
       "      <td>2010</td>\n",
       "      <td>«16+» - для детей старше 16 лет</td>\n",
       "      <td>6.787259e+03</td>\n",
       "      <td>54</td>\n",
       "      <td>1.235000e+03</td>\n",
       "      <td>3.665120e+05</td>\n",
       "    </tr>\n",
       "    <tr>\n",
       "      <td>46</td>\n",
       "      <td>2010</td>\n",
       "      <td>«12+» - для детей старше 12 лет</td>\n",
       "      <td>7.067412e+03</td>\n",
       "      <td>17</td>\n",
       "      <td>2.650000e+03</td>\n",
       "      <td>1.201460e+05</td>\n",
       "    </tr>\n",
       "    <tr>\n",
       "      <td>47</td>\n",
       "      <td>2010</td>\n",
       "      <td>«18+» - запрещено для детей</td>\n",
       "      <td>6.798125e+03</td>\n",
       "      <td>8</td>\n",
       "      <td>9.150000e+02</td>\n",
       "      <td>5.438500e+04</td>\n",
       "    </tr>\n",
       "    <tr>\n",
       "      <td>48</td>\n",
       "      <td>2010</td>\n",
       "      <td>«0+» - для любой зрительской аудитории</td>\n",
       "      <td>8.580050e+04</td>\n",
       "      <td>22</td>\n",
       "      <td>6.052500e+03</td>\n",
       "      <td>1.887611e+06</td>\n",
       "    </tr>\n",
       "  </tbody>\n",
       "</table>\n",
       "</div>"
      ],
      "text/plain": [
       "    date_year                         age_restriction          mean  count  \\\n",
       "0        2019           «6+» - для детей старше 6 лет  1.588118e+08     80   \n",
       "1        2019             «18+» - запрещено для детей  5.531036e+07    183   \n",
       "2        2019         «16+» - для детей старше 16 лет  7.164842e+07    178   \n",
       "3        2019         «12+» - для детей старше 12 лет  1.491788e+08     85   \n",
       "4        2019  «0+» - для любой зрительской аудитории  5.915356e+06      3   \n",
       "5        2018           «6+» - для детей старше 6 лет  1.525194e+08     65   \n",
       "6        2018             «18+» - запрещено для детей  4.893903e+07    179   \n",
       "7        2018         «16+» - для детей старше 16 лет  1.050220e+08    155   \n",
       "8        2018         «12+» - для детей старше 12 лет  2.129447e+08     67   \n",
       "9        2018  «0+» - для любой зрительской аудитории  6.489800e+06      5   \n",
       "10       2017         «16+» - для детей старше 16 лет  1.557883e+08    120   \n",
       "11       2017  «0+» - для любой зрительской аудитории  7.653298e+07      3   \n",
       "12       2017         «12+» - для детей старше 12 лет  1.914982e+08     41   \n",
       "13       2017             «18+» - запрещено для детей  6.565643e+07    147   \n",
       "14       2017           «6+» - для детей старше 6 лет  2.734326e+08     44   \n",
       "15       2016           «6+» - для детей старше 6 лет  1.721878e+08     70   \n",
       "16       2016             «18+» - запрещено для детей  4.499291e+07    151   \n",
       "17       2016         «16+» - для детей старше 16 лет  9.219027e+07    180   \n",
       "18       2016         «12+» - для детей старше 12 лет  1.393845e+08     80   \n",
       "19       2016  «0+» - для любой зрительской аудитории  3.664118e+06     41   \n",
       "20       2015         «12+» - для детей старше 12 лет  1.890072e+08     71   \n",
       "21       2015           «6+» - для детей старше 6 лет  1.637945e+08     52   \n",
       "22       2015             «18+» - запрещено для детей  4.145306e+07    131   \n",
       "23       2015         «16+» - для детей старше 16 лет  6.574147e+07    164   \n",
       "24       2015  «0+» - для любой зрительской аудитории  9.975120e+06     38   \n",
       "25       2014             «18+» - запрещено для детей  4.910473e+07     45   \n",
       "26       2014         «16+» - для детей старше 16 лет  6.760077e+06     79   \n",
       "27       2014         «12+» - для детей старше 12 лет  3.191089e+07     81   \n",
       "28       2014  «0+» - для любой зрительской аудитории  9.883217e+06     38   \n",
       "29       2014           «6+» - для детей старше 6 лет  5.967636e+07     29   \n",
       "30       2013  «0+» - для любой зрительской аудитории  7.325142e+04     37   \n",
       "31       2013           «6+» - для детей старше 6 лет  1.439008e+04     25   \n",
       "32       2013             «18+» - запрещено для детей  3.225778e+05     16   \n",
       "33       2013         «16+» - для детей старше 16 лет  1.495613e+04     44   \n",
       "34       2013         «12+» - для детей старше 12 лет  3.668480e+05     57   \n",
       "35       2012         «16+» - для детей старше 16 лет  6.923864e+04     47   \n",
       "36       2012  «0+» - для любой зрительской аудитории  7.554943e+04     30   \n",
       "37       2012         «12+» - для детей старше 12 лет  8.364154e+03     13   \n",
       "38       2012             «18+» - запрещено для детей  1.074000e+04     17   \n",
       "39       2012           «6+» - для детей старше 6 лет  7.146312e+04     16   \n",
       "40       2011           «6+» - для детей старше 6 лет  4.500000e+02      1   \n",
       "41       2011             «18+» - запрещено для детей  5.200000e+02      2   \n",
       "42       2011         «16+» - для детей старше 16 лет  7.065056e+03     54   \n",
       "43       2011         «12+» - для детей старше 12 лет  9.995045e+03     22   \n",
       "44       2011  «0+» - для любой зрительской аудитории  4.499957e+05     30   \n",
       "45       2010         «16+» - для детей старше 16 лет  6.787259e+03     54   \n",
       "46       2010         «12+» - для детей старше 12 лет  7.067412e+03     17   \n",
       "47       2010             «18+» - запрещено для детей  6.798125e+03      8   \n",
       "48       2010  «0+» - для любой зрительской аудитории  8.580050e+04     22   \n",
       "\n",
       "          median           sum  \n",
       "0   1.252553e+07  1.270494e+10  \n",
       "1   5.603217e+06  1.012180e+10  \n",
       "2   3.210718e+06  1.275342e+10  \n",
       "3   3.405546e+06  1.268020e+10  \n",
       "4   3.885434e+06  1.774607e+07  \n",
       "5   1.445867e+07  9.913759e+09  \n",
       "6   7.179466e+06  8.760086e+09  \n",
       "7   8.751896e+06  1.627841e+10  \n",
       "8   8.931966e+06  1.426729e+10  \n",
       "9   3.616937e+06  3.244900e+07  \n",
       "10  9.641408e+06  1.869459e+10  \n",
       "11  2.217896e+07  2.295989e+08  \n",
       "12  9.010548e+06  7.851428e+09  \n",
       "13  8.212677e+06  9.651496e+09  \n",
       "14  5.027498e+07  1.203103e+10  \n",
       "15  3.026256e+06  1.205315e+10  \n",
       "16  6.107002e+06  6.793930e+09  \n",
       "17  5.133022e+06  1.659425e+10  \n",
       "18  4.225478e+06  1.115076e+10  \n",
       "19  2.571294e+06  1.502288e+08  \n",
       "20  1.535156e+07  1.341951e+10  \n",
       "21  1.951325e+07  8.517312e+09  \n",
       "22  4.654761e+06  5.430351e+09  \n",
       "23  4.445026e+06  1.078160e+10  \n",
       "24  2.949809e+06  3.790546e+08  \n",
       "25  1.801080e+05  2.209713e+09  \n",
       "26  1.386000e+04  5.340461e+08  \n",
       "27  6.870000e+03  2.584782e+09  \n",
       "28  1.908550e+05  3.755623e+08  \n",
       "29  1.376850e+05  1.730614e+09  \n",
       "30  1.322500e+04  2.710302e+06  \n",
       "31  3.545000e+03  3.597520e+05  \n",
       "32  1.775000e+03  5.161246e+06  \n",
       "33  3.590000e+03  6.580696e+05  \n",
       "34  2.700000e+03  2.091034e+07  \n",
       "35  1.920000e+03  3.254216e+06  \n",
       "36  1.806750e+04  2.266483e+06  \n",
       "37  6.775000e+03  1.087340e+05  \n",
       "38  1.385000e+03  1.825800e+05  \n",
       "39  6.475000e+03  1.143410e+06  \n",
       "40  4.500000e+02  4.500000e+02  \n",
       "41  5.200000e+02  1.040000e+03  \n",
       "42  2.835000e+03  3.815130e+05  \n",
       "43  3.741500e+03  2.198910e+05  \n",
       "44  7.010000e+03  1.349987e+07  \n",
       "45  1.235000e+03  3.665120e+05  \n",
       "46  2.650000e+03  1.201460e+05  \n",
       "47  9.150000e+02  5.438500e+04  \n",
       "48  6.052500e+03  1.887611e+06  "
      ]
     },
     "execution_count": 46,
     "metadata": {},
     "output_type": "execute_result"
    }
   ],
   "source": [
    "pivot_tabel_age_box = df_5.pivot_table(index = ['date_year','age_restriction'], values = 'box_office', aggfunc = ['mean', 'count', 'median', 'sum'])\n",
    "pivot_tabel_age_box.columns = ['mean', 'count', 'median', 'sum']\n",
    "pivot_tabel_age_box.sort_values('date_year', ascending = False).reset_index()"
   ]
  },
  {
   "cell_type": "markdown",
   "metadata": {},
   "source": [
    "<div class=\"alert alert-danger\">\n",
    "<b>Комментарий ревьюера v2: </b> \n",
    "    \n",
    "Ты забыл отсеять заглушку из сборов. Тогда лучше просто не стоит ее ставить на этапе предобработки.\n",
    "</div>"
   ]
  },
  {
   "cell_type": "markdown",
   "metadata": {},
   "source": [
    "<div class=\"alert alert-info\">\n",
    "<b>Убрал заглушку удалив строки, теперь красиво все</div>"
   ]
  },
  {
   "cell_type": "markdown",
   "metadata": {},
   "source": [
    "<div class=\"alert alert-success\">\n",
    "<b>Комментарий ревьюера v3: </b> \n",
    "    \n",
    "Отлично.\n",
    "</div>"
   ]
  },
  {
   "cell_type": "markdown",
   "metadata": {},
   "source": [
    "<div class=\"alert alert-danger\">\n",
    "<b>Комментарий ревьюера: </b> Только вот в задании от тебя хотят динамику суммы продаж по возрастному рейтингу.\n",
    "    \n",
    "Для наглядности нужно добавить линейный график, где линия определенного цвета будет означать отдельный возрастной рейтинг. </div>"
   ]
  },
  {
   "cell_type": "code",
   "execution_count": 47,
   "metadata": {
    "scrolled": true
   },
   "outputs": [
    {
     "data": {
      "image/png": "[encoded data removed]",
      "text/plain": [
       "<Figure size 432x288 with 1 Axes>"
      ]
     },
     "metadata": {
      "needs_background": "light"
     },
     "output_type": "display_data"
    }
   ],
   "source": [
    "pivot_tabel_age_box.unstack().plot(y = 'sum')\n",
    "plt.legend()\n",
    "plt.show()\n"
   ]
  },
  {
   "cell_type": "markdown",
   "metadata": {},
   "source": [
    "Интересно, что сборы фильмов 18+ , 6+ и 16+ в 2017 году не просели, в отличии от остальных. Вероятно в этих категориях были весьма кассовые фильмы."
   ]
  },
  {
   "cell_type": "markdown",
   "metadata": {},
   "source": [
    "<div class=\"alert alert-info\">\n",
    "<b>Вот так получилось</div>"
   ]
  },
  {
   "cell_type": "markdown",
   "metadata": {},
   "source": [
    "<div class=\"alert alert-success\">\n",
    "<b>Комментарий ревьюера v2: </b> То что надо. Можно было бы еще увеличить размер график для красоты. </div>"
   ]
  },
  {
   "cell_type": "markdown",
   "metadata": {},
   "source": [
    "<div class=\"alert alert-danger\">\n",
    "<b>Комментарий ревьюера v3: </b> \n",
    "    \n",
    "Извини, проглядела. График должен быть построен для суммы сборов, а не медианы.\n",
    "</div>"
   ]
  },
  {
   "cell_type": "markdown",
   "metadata": {},
   "source": [
    "<div class=\"alert alert-info\">\n",
    "<b>Построил по сумме, добавив агрегацию в предыдущую таблицу по сумме. </div>"
   ]
  },
  {
   "cell_type": "markdown",
   "metadata": {},
   "source": [
    "<div class=\"alert alert-success\">\n",
    "<b>Комментарий ревьюера v4: </b> \n",
    "    \n",
    "Отлично!\n",
    "</div>"
   ]
  },
  {
   "cell_type": "markdown",
   "metadata": {
    "id": "l_Kg6Ku4gFya"
   },
   "source": [
    "### Шаг 4. Исследуйте фильмы, которые получили государственную поддержку\n",
    "\n",
    "На этом этапе нет конкретных инструкций и заданий — поищите интересные закономерности в данных. Посмотрите, сколько выделяют средств на поддержку кино. Проверьте, хорошо ли окупаются такие фильмы, какой у них рейтинг."
   ]
  },
  {
   "cell_type": "code",
   "execution_count": 48,
   "metadata": {
    "scrolled": true
   },
   "outputs": [
    {
     "data": {
      "text/html": [
       "<div>\n",
       "<style scoped>\n",
       "    .dataframe tbody tr th:only-of-type {\n",
       "        vertical-align: middle;\n",
       "    }\n",
       "\n",
       "    .dataframe tbody tr th {\n",
       "        vertical-align: top;\n",
       "    }\n",
       "\n",
       "    .dataframe thead th {\n",
       "        text-align: right;\n",
       "    }\n",
       "</style>\n",
       "<table border=\"1\" class=\"dataframe\">\n",
       "  <thead>\n",
       "    <tr style=\"text-align: right;\">\n",
       "      <th></th>\n",
       "      <th>puNumber</th>\n",
       "      <th>refundable_support</th>\n",
       "      <th>nonrefundable_support</th>\n",
       "      <th>budget</th>\n",
       "      <th>ratings</th>\n",
       "      <th>box_office</th>\n",
       "      <th>date_year</th>\n",
       "      <th>film_support_money</th>\n",
       "    </tr>\n",
       "  </thead>\n",
       "  <tbody>\n",
       "    <tr>\n",
       "      <td>count</td>\n",
       "      <td>3.150000e+02</td>\n",
       "      <td>3.150000e+02</td>\n",
       "      <td>3.150000e+02</td>\n",
       "      <td>3.150000e+02</td>\n",
       "      <td>300.000000</td>\n",
       "      <td>3.010000e+02</td>\n",
       "      <td>315.000000</td>\n",
       "      <td>315.000000</td>\n",
       "    </tr>\n",
       "    <tr>\n",
       "      <td>mean</td>\n",
       "      <td>1.115683e+08</td>\n",
       "      <td>1.160317e+07</td>\n",
       "      <td>4.810704e+07</td>\n",
       "      <td>1.340961e+08</td>\n",
       "      <td>6.036667</td>\n",
       "      <td>1.306983e+08</td>\n",
       "      <td>2016.742857</td>\n",
       "      <td>51.738582</td>\n",
       "    </tr>\n",
       "    <tr>\n",
       "      <td>std</td>\n",
       "      <td>5.844829e+06</td>\n",
       "      <td>2.515144e+07</td>\n",
       "      <td>5.988614e+07</td>\n",
       "      <td>1.912260e+08</td>\n",
       "      <td>1.159167</td>\n",
       "      <td>3.391903e+08</td>\n",
       "      <td>1.647398</td>\n",
       "      <td>17.004298</td>\n",
       "    </tr>\n",
       "    <tr>\n",
       "      <td>min</td>\n",
       "      <td>1.110001e+08</td>\n",
       "      <td>0.000000e+00</td>\n",
       "      <td>0.000000e+00</td>\n",
       "      <td>1.446246e+07</td>\n",
       "      <td>1.000000</td>\n",
       "      <td>1.550000e+03</td>\n",
       "      <td>2013.000000</td>\n",
       "      <td>4.404305</td>\n",
       "    </tr>\n",
       "    <tr>\n",
       "      <td>25%</td>\n",
       "      <td>1.110048e+08</td>\n",
       "      <td>0.000000e+00</td>\n",
       "      <td>2.500000e+07</td>\n",
       "      <td>4.615387e+07</td>\n",
       "      <td>5.400000</td>\n",
       "      <td>1.067649e+06</td>\n",
       "      <td>2015.000000</td>\n",
       "      <td>37.345810</td>\n",
       "    </tr>\n",
       "    <tr>\n",
       "      <td>50%</td>\n",
       "      <td>1.110102e+08</td>\n",
       "      <td>0.000000e+00</td>\n",
       "      <td>3.000000e+07</td>\n",
       "      <td>7.337955e+07</td>\n",
       "      <td>6.200000</td>\n",
       "      <td>1.274840e+07</td>\n",
       "      <td>2017.000000</td>\n",
       "      <td>59.226455</td>\n",
       "    </tr>\n",
       "    <tr>\n",
       "      <td>75%</td>\n",
       "      <td>1.110172e+08</td>\n",
       "      <td>1.000000e+07</td>\n",
       "      <td>4.000000e+07</td>\n",
       "      <td>1.500043e+08</td>\n",
       "      <td>6.700000</td>\n",
       "      <td>1.031348e+08</td>\n",
       "      <td>2018.000000</td>\n",
       "      <td>65.693118</td>\n",
       "    </tr>\n",
       "    <tr>\n",
       "      <td>max</td>\n",
       "      <td>2.140101e+08</td>\n",
       "      <td>1.800000e+08</td>\n",
       "      <td>4.000000e+08</td>\n",
       "      <td>2.305074e+09</td>\n",
       "      <td>9.400000</td>\n",
       "      <td>3.073569e+09</td>\n",
       "      <td>2019.000000</td>\n",
       "      <td>78.474525</td>\n",
       "    </tr>\n",
       "  </tbody>\n",
       "</table>\n",
       "</div>"
      ],
      "text/plain": [
       "           puNumber  refundable_support  nonrefundable_support        budget  \\\n",
       "count  3.150000e+02        3.150000e+02           3.150000e+02  3.150000e+02   \n",
       "mean   1.115683e+08        1.160317e+07           4.810704e+07  1.340961e+08   \n",
       "std    5.844829e+06        2.515144e+07           5.988614e+07  1.912260e+08   \n",
       "min    1.110001e+08        0.000000e+00           0.000000e+00  1.446246e+07   \n",
       "25%    1.110048e+08        0.000000e+00           2.500000e+07  4.615387e+07   \n",
       "50%    1.110102e+08        0.000000e+00           3.000000e+07  7.337955e+07   \n",
       "75%    1.110172e+08        1.000000e+07           4.000000e+07  1.500043e+08   \n",
       "max    2.140101e+08        1.800000e+08           4.000000e+08  2.305074e+09   \n",
       "\n",
       "          ratings    box_office    date_year  film_support_money  \n",
       "count  300.000000  3.010000e+02   315.000000          315.000000  \n",
       "mean     6.036667  1.306983e+08  2016.742857           51.738582  \n",
       "std      1.159167  3.391903e+08     1.647398           17.004298  \n",
       "min      1.000000  1.550000e+03  2013.000000            4.404305  \n",
       "25%      5.400000  1.067649e+06  2015.000000           37.345810  \n",
       "50%      6.200000  1.274840e+07  2017.000000           59.226455  \n",
       "75%      6.700000  1.031348e+08  2018.000000           65.693118  \n",
       "max      9.400000  3.073569e+09  2019.000000           78.474525  "
      ]
     },
     "execution_count": 48,
     "metadata": {},
     "output_type": "execute_result"
    }
   ],
   "source": [
    "df_6 = df.query('refundable_support > 0 or nonrefundable_support > 0')\n",
    "df_6.describe()"
   ]
  },
  {
   "cell_type": "markdown",
   "metadata": {},
   "source": [
    "<div class=\"alert alert-danger\">\n",
    "<b>Комментарий ревьюера: </b> Данный датафрейм не очень показателен, так как здесь должны быть только те строки, где <b>сумма</b> возвратной и невозвратной гос поддержки больше нуля. </div>"
   ]
  },
  {
   "cell_type": "markdown",
   "metadata": {},
   "source": [
    "<div class=\"alert alert-info\">\n",
    "<b>Вот так вышло. Я понять не могу почему среднее значение не считается, вместо него и максимального по столбцу film_support_money пишется inf.  </div>"
   ]
  },
  {
   "cell_type": "markdown",
   "metadata": {},
   "source": [
    "<div class=\"alert alert-danger\">\n",
    "<b>Комментарий ревьюера v2: </b> \n",
    "    \n",
    "Просто ты забыл отсеять строки с нулевым бюджетом, а точнее взять другой датафрейм.\n",
    "</div>"
   ]
  },
  {
   "cell_type": "markdown",
   "metadata": {},
   "source": [
    "<div class=\"alert alert-info\">\n",
    "<b>query('budget > 0')  - здесь и ниже вставил такой фильтр  </div>"
   ]
  },
  {
   "cell_type": "markdown",
   "metadata": {},
   "source": [
    "<div class=\"alert alert-danger\">\n",
    "<b>Комментарий ревьюера v3: </b> \n",
    "    \n",
    "Смотри, бюждет может быть больше нуля, НО это еще не значит, что в этот бюджет включена гос поддержка. Так что тебе нужны фильмы, где сумма возвратной и невозвратной гос поддержки больше нуля.\n",
    "</div>"
   ]
  },
  {
   "cell_type": "markdown",
   "metadata": {},
   "source": [
    "<div class=\"alert alert-success\">\n",
    "<b>Комментарий ревьюера v4: </b> \n",
    "    \n",
    "Супер! Проще всего сохранить датафрейм с данным фильмом отдельно, чтобы далее его использовать, а не уточнять каждый раз условие.\n",
    "</div>"
   ]
  },
  {
   "cell_type": "markdown",
   "metadata": {},
   "source": [
    "<div class=\"alert alert-info\">\n",
    "<b>Сделал новый фрейм df_6 </div>"
   ]
  },
  {
   "cell_type": "markdown",
   "metadata": {},
   "source": [
    "<div class=\"alert alert-success\">\n",
    "<b>Комментарий ревьюера v5: </b> \n",
    "\n",
    "Супер.\n",
    "</div>"
   ]
  },
  {
   "cell_type": "markdown",
   "metadata": {},
   "source": [
    "У фильмов с господдержкой в среднем низкий рейтинг, 6.2"
   ]
  },
  {
   "cell_type": "code",
   "execution_count": 49,
   "metadata": {
    "scrolled": false
   },
   "outputs": [
    {
     "data": {
      "text/html": [
       "<div>\n",
       "<style scoped>\n",
       "    .dataframe tbody tr th:only-of-type {\n",
       "        vertical-align: middle;\n",
       "    }\n",
       "\n",
       "    .dataframe tbody tr th {\n",
       "        vertical-align: top;\n",
       "    }\n",
       "\n",
       "    .dataframe thead th {\n",
       "        text-align: right;\n",
       "    }\n",
       "</style>\n",
       "<table border=\"1\" class=\"dataframe\">\n",
       "  <thead>\n",
       "    <tr style=\"text-align: right;\">\n",
       "      <th></th>\n",
       "      <th>refundable_support</th>\n",
       "      <th>nonrefundable_support</th>\n",
       "      <th>ratings</th>\n",
       "      <th>box_office</th>\n",
       "      <th>film_support_money</th>\n",
       "    </tr>\n",
       "  </thead>\n",
       "  <tbody>\n",
       "    <tr>\n",
       "      <td>refundable_support</td>\n",
       "      <td>1.000000</td>\n",
       "      <td>0.372622</td>\n",
       "      <td>0.005712</td>\n",
       "      <td>0.325531</td>\n",
       "      <td>-0.025356</td>\n",
       "    </tr>\n",
       "    <tr>\n",
       "      <td>nonrefundable_support</td>\n",
       "      <td>0.372622</td>\n",
       "      <td>1.000000</td>\n",
       "      <td>0.129516</td>\n",
       "      <td>0.443342</td>\n",
       "      <td>0.120342</td>\n",
       "    </tr>\n",
       "    <tr>\n",
       "      <td>ratings</td>\n",
       "      <td>0.005712</td>\n",
       "      <td>0.129516</td>\n",
       "      <td>1.000000</td>\n",
       "      <td>0.147052</td>\n",
       "      <td>-0.046337</td>\n",
       "    </tr>\n",
       "    <tr>\n",
       "      <td>box_office</td>\n",
       "      <td>0.325531</td>\n",
       "      <td>0.443342</td>\n",
       "      <td>0.147052</td>\n",
       "      <td>1.000000</td>\n",
       "      <td>-0.117436</td>\n",
       "    </tr>\n",
       "    <tr>\n",
       "      <td>film_support_money</td>\n",
       "      <td>-0.025356</td>\n",
       "      <td>0.120342</td>\n",
       "      <td>-0.046337</td>\n",
       "      <td>-0.117436</td>\n",
       "      <td>1.000000</td>\n",
       "    </tr>\n",
       "  </tbody>\n",
       "</table>\n",
       "</div>"
      ],
      "text/plain": [
       "                       refundable_support  nonrefundable_support   ratings  \\\n",
       "refundable_support               1.000000               0.372622  0.005712   \n",
       "nonrefundable_support            0.372622               1.000000  0.129516   \n",
       "ratings                          0.005712               0.129516  1.000000   \n",
       "box_office                       0.325531               0.443342  0.147052   \n",
       "film_support_money              -0.025356               0.120342 -0.046337   \n",
       "\n",
       "                       box_office  film_support_money  \n",
       "refundable_support       0.325531           -0.025356  \n",
       "nonrefundable_support    0.443342            0.120342  \n",
       "ratings                  0.147052           -0.046337  \n",
       "box_office               1.000000           -0.117436  \n",
       "film_support_money      -0.117436            1.000000  "
      ]
     },
     "execution_count": 49,
     "metadata": {},
     "output_type": "execute_result"
    }
   ],
   "source": [
    "import seaborn as sns\n",
    "columns_for_corr = [ 'refundable_support', 'nonrefundable_support', 'ratings', 'box_office','film_support_money' \n",
    "                    ]\n",
    "df_6[columns_for_corr].corr()"
   ]
  },
  {
   "cell_type": "markdown",
   "metadata": {},
   "source": [
    "Видим очень слабую корреляцию между рейтингом и сборами, то есть рейтинг фильтма может быт ьвысоким а сборы маленькими. "
   ]
  },
  {
   "cell_type": "markdown",
   "metadata": {},
   "source": [
    "<div class=\"alert alert-success\">\n",
    "<b>Комментарий ревьюера: </b> Интересная идея - посчитать корреляцию. </div>\n",
    "\n",
    "<div class=\"alert alert-warning\">\n",
    "<b>Комментарий ревьюера: </b> Только вот это можно делать со всеми столбцами, кроме года. Коэффициент корреляции Пирсона применяется только для непрерывных значений, а для дискретных значений (например, количество чего-либо, год), нужно использовать уже другой статистический метод. </div>\n",
    "\n",
    "\n",
    "<div class=\"alert alert-danger\">\n",
    "<b>Комментарий ревьюера: </b> Данный этап нужно расширить, изучить еще парочку явлений и добавить графики, если это необходимо, не зря же ты испортирал seaborn.\n",
    "\n",
    "Под каждую таблицу необходимо добавить краткие выводы, интерпретации полученного результата.</div>"
   ]
  },
  {
   "cell_type": "markdown",
   "metadata": {},
   "source": [
    "<div class=\"alert alert-info\">\n",
    "<b>Год убрал из таблицы. </div>"
   ]
  },
  {
   "cell_type": "markdown",
   "metadata": {},
   "source": [
    "<div class=\"alert alert-success\">\n",
    "<b>Комментарий ревьюера v2: </b> Отлично. </div>"
   ]
  },
  {
   "cell_type": "markdown",
   "metadata": {},
   "source": [
    "Посмотрим на количество фильмов по режиссеру, по жанру, преобладание жанров в год, годовые сборы фильмов по жанрам/режиссерам"
   ]
  },
  {
   "cell_type": "code",
   "execution_count": 50,
   "metadata": {
    "scrolled": true
   },
   "outputs": [
    {
     "data": {
      "text/plain": [
       "director_name\n",
       "Р.Давлетьяров                         5\n",
       "С.Андреасян                           4\n",
       "Д.Дьяченко                            4\n",
       "К.Шипенко                             3\n",
       "Д.Шмидт                               3\n",
       "                                     ..\n",
       "С.Черников                            0\n",
       "А.Попова                              0\n",
       "М.Бальчюнас (псевдоним М.Вайсберг)    0\n",
       "Ю.Разыков                             0\n",
       " Ф.Бондарчук                          0\n",
       "Name: box_office, Length: 258, dtype: int64"
      ]
     },
     "execution_count": 50,
     "metadata": {},
     "output_type": "execute_result"
    }
   ],
   "source": [
    "#количество фильмов по режиссеру\n",
    "df_6.groupby('director_name')['box_office'].count().sort_values(ascending=False) \n"
   ]
  },
  {
   "cell_type": "markdown",
   "metadata": {},
   "source": [
    "Больше всего фильмов вышло у Давлетьярова, Дьяченко и Андреасяна - по 5, 4 фильма."
   ]
  },
  {
   "cell_type": "code",
   "execution_count": 51,
   "metadata": {
    "scrolled": true
   },
   "outputs": [
    {
     "data": {
      "text/plain": [
       "genre_main\n",
       "драма          86\n",
       "комедия        67\n",
       "мультфильм     25\n",
       "unknown        14\n",
       "триллер        14\n",
       "мелодрама      13\n",
       "фэнтези        11\n",
       "ужасы          10\n",
       "фантастика      9\n",
       "военный         9\n",
       "приключения     6\n",
       "семейный        6\n",
       "детектив        5\n",
       "боевик          5\n",
       "мюзикл          4\n",
       "история         4\n",
       "криминал        3\n",
       "спорт           3\n",
       "детский         3\n",
       "биография       3\n",
       "реальное ТВ     1\n",
       "Name: box_office, dtype: int64"
      ]
     },
     "execution_count": 51,
     "metadata": {},
     "output_type": "execute_result"
    }
   ],
   "source": [
    "#количество фильмов по основному жанру\n",
    "df_6.groupby('genre_main')['box_office'].count().sort_values(ascending=False) "
   ]
  },
  {
   "cell_type": "markdown",
   "metadata": {},
   "source": [
    "Больше всего выходило драмы, комедии, мультфильм, мелодрама и триллер - в порядке убывания. Самые не популярные фильмы - реальное ТВ, биография, криминал, спорт."
   ]
  },
  {
   "cell_type": "code",
   "execution_count": 52,
   "metadata": {},
   "outputs": [
    {
     "data": {
      "text/plain": [
       "<matplotlib.axes._subplots.AxesSubplot at 0x7faf1f93a210>"
      ]
     },
     "execution_count": 52,
     "metadata": {},
     "output_type": "execute_result"
    },
    {
     "data": {
      "image/png": "[encoded data removed]",
      "text/plain": [
       "<Figure size 432x288 with 1 Axes>"
      ]
     },
     "metadata": {
      "needs_background": "light"
     },
     "output_type": "display_data"
    }
   ],
   "source": [
    "#топ 5 жанров по сборам\n",
    "df_6.groupby(by='genre_main').agg({'box_office':'sum'}).sort_values(by='box_office', ascending=False).head(5).plot(kind='bar')"
   ]
  },
  {
   "cell_type": "code",
   "execution_count": 53,
   "metadata": {},
   "outputs": [
    {
     "data": {
      "text/plain": [
       "<matplotlib.axes._subplots.AxesSubplot at 0x7fafa51f8c50>"
      ]
     },
     "execution_count": 53,
     "metadata": {},
     "output_type": "execute_result"
    },
    {
     "data": {
      "image/png": "[encoded data removed]",
      "text/plain": [
       "<Figure size 432x288 with 1 Axes>"
      ]
     },
     "metadata": {
      "needs_background": "light"
     },
     "output_type": "display_data"
    }
   ],
   "source": [
    "#топ 5 режиссеров по сборам\n",
    "df_6.groupby(by='director_name').agg({'box_office':'sum'}).sort_values(by='box_office', ascending=False).head(5).plot(kind='bar')"
   ]
  },
  {
   "cell_type": "code",
   "execution_count": 54,
   "metadata": {
    "scrolled": true
   },
   "outputs": [
    {
     "data": {
      "text/plain": [
       "<matplotlib.axes._subplots.AxesSubplot at 0x7faf1f7f0410>"
      ]
     },
     "execution_count": 54,
     "metadata": {},
     "output_type": "execute_result"
    },
    {
     "data": {
      "image/png": "[encoded data removed]",
      "text/plain": [
       "<Figure size 432x288 with 1 Axes>"
      ]
     },
     "metadata": {
      "needs_background": "light"
     },
     "output_type": "display_data"
    }
   ],
   "source": [
    "#топ 5 лет по сборам\n",
    "df_6.groupby(by='date_year').agg({'box_office':'sum'}).sort_values(by='box_office', ascending=False).head(5).plot(kind='bar')"
   ]
  },
  {
   "cell_type": "markdown",
   "metadata": {},
   "source": [
    "Странно, что для фильмов с господдержкой высокие сборы в 2017 году, ранее мы отметили что в целом для всех фильмов был 2017 год был плохим."
   ]
  },
  {
   "cell_type": "markdown",
   "metadata": {},
   "source": [
    "<div class=\"alert alert-success\">\n",
    "<b>Комментарий ревьюера v2: </b> То что надо  </div>"
   ]
  },
  {
   "cell_type": "markdown",
   "metadata": {},
   "source": [
    "<div class=\"alert alert-success\">\n",
    "<b>Комментарий ревьюера v4: </b> \n",
    "    \n",
    "Отлично! Вот сейчас исследование проведено только для фильмов с гос поддержкой.\n",
    "</div>"
   ]
  },
  {
   "cell_type": "markdown",
   "metadata": {
    "id": "V2gYwMcPgFyd"
   },
   "source": [
    "### Шаг 5. Напишите общий вывод"
   ]
  },
  {
   "cell_type": "markdown",
   "metadata": {},
   "source": [
    "Мы провели обработку данных и выяснили что в исходном датасете есть пропущенные или некорректные значения.\n",
    "Скорее всего это связано с длительным сроком накопления базы датасета.\n",
    "- Столбцы budget, refundable_support и nonrefundable_support а также financing_source - заполнены тольок 332 строки (4.4% от датасета). \n",
    "- Мы обнаружили среднюю корреляцию между возвратным/невозвратным финансирование и бюджетом (в среднем доля финансирования составляет до 59% от бюджета). \n",
    "- Также мы выяснили что фильмы с господдержкой в среднем имеют оценку 5.5, что ниже среднего.\n",
    "- Видим что самые кассовые фильтмы идут из категории 6+ по среднему значению, и они же по медианному, то есть с ними собрали больше всего денег в прокате в целом\n",
    "- 2017 год для фильмов с господдержкой оказался самым кассовым\n",
    "- К.Шипенко - самый кассовый режиссер\n",
    "- Комедия - самый кассовый жанр\n",
    "- Чаще всего господдержку получили фильмы жанров драмы, комедии, мультфильм\n",
    "- Больше всего фильмов с господдержкой вышло у Давлетьярова, Дьяченко и Андреасяна - по 4 фильма"
   ]
  },
  {
   "cell_type": "markdown",
   "metadata": {},
   "source": [
    "<div class=\"alert alert-success\">\n",
    "<b>Комментарий ревьюера: </b> Хороший краткий вывод, который можно было бы дополнить информацией, полученной на последнем этапе о фильмах с гос поддержкой. </div>"
   ]
  },
  {
   "cell_type": "markdown",
   "metadata": {
    "id": "AYRg3dzXgFye"
   },
   "source": [
    "<div class=\"alert alert-success\">\n",
    "<b>Комментарий ревьюера: </b> \n",
    "\n",
    "Руслан, ты хорошо поработал над своим первым сборным проектом: подготовил данные для анализа, подсчитал все требуемые метрики и провел пусть краткое, но исследование.\n",
    "\n",
    "Предлагаю тебе немного доработать проект, чтобы довести его до совершенства:\n",
    "\n",
    "1. Избавиться от дублей по номеру прокатного удостоверения.\n",
    "2. Оставить рейтинг в имеющейся шкале.\n",
    "3. Сохранить изменения в столбце с типом фильма.\n",
    "4. Поработать над строками, где сумма гос поддержки больше бюджета.\n",
    "5. Добавить столбцы с долей гос поддержки, основным режиссером и жанром.\n",
    "6. Посчитать количество фильмов, вышедших в прокат, по года + добавить доли.\n",
    "7. Добавить график для изменения суммы продаж по годам и возрастным рейтингам.\n",
    "8. Доработать собственное исследование (взять нужные данные, расширить исследование).\n",
    "\n",
    "Если будут вопросы, обращайся, с удовольствием на них отвечу.\n",
    "\n",
    "</div>"
   ]
  },
  {
   "cell_type": "markdown",
   "metadata": {},
   "source": [
    "<div class=\"alert alert-info\">\n",
    "<b>Выводы дополнил. Спасибо большое за проверку! Вроде все устранил. Если нет - подсвети пожалйста? </div>"
   ]
  },
  {
   "cell_type": "markdown",
   "metadata": {},
   "source": [
    "<div class=\"alert alert-success\">\n",
    "<b>Комментарий ревьюера v2: </b> \n",
    "\n",
    "Руслан, спасибо, что прислушался к рекомендациям, теперь проект стал еще лучше. Осталось только подправить некоторые детели:\n",
    "\n",
    "1. Не заполнять столбец со сборами заглушкой, удалить строку с пропуском в номере прокатного удостоверения.\n",
    "2. Сохранить удаление строк с нулевым доходом для всего датафрейма.\n",
    "3. Сохранить ФИО режиссера в один столбец.\n",
    "\n",
    "Возникнут еще вопросы, пиши :)\n",
    "\n",
    "</div>"
   ]
  },
  {
   "cell_type": "markdown",
   "metadata": {},
   "source": [
    " <div class=\"alert alert-info\">\n",
    "<b>\n",
    " - 1. Сделал - не стл заполнять заглушкой, удалил строку с пропуском в номере.\n",
    " - 2. Я в основном удалил по итогу\n",
    " - 3. СОхранил в отдельный столбец, фамилию как новый столбец убрал из датасета.\n",
    " \n",
    " Спасибо за проверку, удивился что в выходной день ответили даже!  </div>"
   ]
  },
  {
   "cell_type": "markdown",
   "metadata": {},
   "source": [
    "<div class=\"alert alert-success\">\n",
    "<b>Комментарий ревьюера v3: </b> \n",
    "\n",
    "Руслан, для ревью нет выходных, мы проверяем работы каждый день в течении 24 часов с момента отправки, ведь многие студенты особенно активно занимаются именно на выходных.\n",
    "    \n",
    "Итак, уде лучше. Никаких лишних заглушек, да и столбцы с режиссерами верные. Осталось только:\n",
    "    \n",
    "1. Посчитать долю фильмов, выходивших в прокат.\n",
    "2. Для всего датафрейма отсеять строки с нулевым бюджетом или заполнить его чем-нибудь.\n",
    "3. Для своего исследования взять те строки, где сумма возвратной и невозвратной гос поддержки больше нуля, а не бюджет.\n",
    "    \n",
    "Мы на финишной прямой!\n",
    "\n",
    "</div>"
   ]
  },
  {
   "cell_type": "markdown",
   "metadata": {},
   "source": [
    "<div class=\"alert alert-info\">\n",
    "<b> Спасибо! Медленно, но верно, как говорится! \n",
    "    я окончательно запутался в наших комментариях и последовательности((( \n",
    "    \n",
    "    - доля фильмов, выходивших в прокат - посчитал и сделал график.\n",
    "    - удалил строки с нулевым бюджетом, сделал df_5, только вот нигде потом не использовал. Кажется я не понимаю для чег оего сделал. Может мне надо как то с чистого листа начат ьпроект, переписать просто из этой тетрадки все верные действия?\n",
    "    - Для своего исследования взял строки, где сумма гос поддержки больше нуля df.query('refundable_support > 0 or nonrefundable_support > 0') .\n",
    "    Спасибо за терпение! \n",
    "    </div>"
   ]
  },
  {
   "cell_type": "markdown",
   "metadata": {},
   "source": [
    "<div class=\"alert alert-success\">\n",
    "<b>Комментарий ревьюера v4: </b> \n",
    "    \n",
    "Руслан, на самом деле ты уже почти справился с проектом, остался маленький нюанс и все, так что начинать проект сначала не имеет смысла. Сейчас исследование фильмов с гос поддержкой проведено верно, доля фильмов со сборами также посчитана верно. \n",
    "    \n",
    "    \n",
    "Тебе осталось только настроить `df_5` так, чтобы не бюджет был больше нуля, а чтобы сборы были больше нуля. После чего использовать этот датафрейм при создании `df_years`. А нулевой (именно нулевой, а не NaN) бюджет нужно удалить на этапе предобработки. \n",
    "    \n",
    "Еще разов повторюсь, чтобы отсеять фильмы, вышедшие в прокат, мы должны выбрать только те строки, где не пропущен столбец со сборами.\n",
    "    \n",
    "Осталось совсем чуть-чуть! Ты близок к цели!\n",
    "</div>"
   ]
  },
  {
   "cell_type": "markdown",
   "metadata": {},
   "source": [
    "<div class=\"alert alert-info\">\n",
    "<b>Спасибо! \n",
    "    \n",
    "    - Строки с нулевым значением удалил  \n",
    "    - df_5 настроил чтобы сборы были больше 0\n",
    "    - изменил df_years  с применением df_5\n",
    "    - в исследовании сделал df_6 чтобы не писать условие постоянно. \n",
    "    \n",
    "    Сборный проект это серьезное испытание, думаю что второй раз сборный проект будет даваться легче мне. Я точно усвоил что:\n",
    "    - мне удобно делать пометки прямо в коде, распысывать что я делаю и для чего - так проще вернутсья потом и вспомнить что делал.\n",
    "    - мне надо разбивать каждое действие на отдельную ячейку кода, так я проще потом править и искать ошибки\n",
    "    - мне надо для себя придумать упрощенную систему сохзранения датафреймов, потому что df_5 или df_6 - как потом вспомнить что есть что? и громоздить названия длинные тоже не прикольно. надо искать упрощения.\n",
    "    - надо подучить правила оформления тетрадки jupiter\n",
    "    \n",
    "    Посмотри пожалуйста, вроде все теперь поправил? </div>"
   ]
  },
  {
   "cell_type": "markdown",
   "metadata": {},
   "source": [
    "<div class=\"alert alert-success\">\n",
    "<b>Комментарий ревьюера v5: </b> \n",
    "\n",
    "Руслан, теперь все правильно. Абсолютно логичные выводы. Действительно, код лучше всего комментировать и разбивать на ячейки. Также верное замечание про название переменных, лучше вкладывать в них смысл. Особенно ясно понимаешь это, когда вовращаешься к проекту через пару дней или через неделю.\n",
    "    \n",
    "С удовольствием принимаю твой проект и желаю успехов далее!\n",
    "    \n",
    "    \n",
    "</div>"
   ]
  }
 ],
 "metadata": {
  "ExecuteTimeLog": [
   {
    "duration": 537,
    "start_time": "2021-07-07T10:12:08.634Z"
   },
   {
    "duration": 206,
    "start_time": "2021-07-07T10:12:30.191Z"
   },
   {
    "duration": 227,
    "start_time": "2021-07-07T10:12:33.078Z"
   },
   {
    "duration": 153,
    "start_time": "2021-07-07T10:13:42.146Z"
   },
   {
    "duration": 233,
    "start_time": "2021-07-07T10:30:09.252Z"
   },
   {
    "duration": 19,
    "start_time": "2021-07-07T10:30:15.577Z"
   },
   {
    "duration": 18,
    "start_time": "2021-07-07T10:30:57.348Z"
   },
   {
    "duration": 19,
    "start_time": "2021-07-07T10:31:17.452Z"
   },
   {
    "duration": 21,
    "start_time": "2021-07-07T10:31:32.227Z"
   },
   {
    "duration": 27,
    "start_time": "2021-07-07T10:32:06.588Z"
   },
   {
    "duration": 23,
    "start_time": "2021-07-07T10:32:43.645Z"
   },
   {
    "duration": 24,
    "start_time": "2021-07-07T10:33:06.948Z"
   },
   {
    "duration": 7,
    "start_time": "2021-07-07T10:33:28.558Z"
   },
   {
    "duration": 23,
    "start_time": "2021-07-07T10:33:43.761Z"
   },
   {
    "duration": 28,
    "start_time": "2021-07-07T10:34:13.466Z"
   },
   {
    "duration": 23,
    "start_time": "2021-07-07T10:35:56.187Z"
   },
   {
    "duration": 6,
    "start_time": "2021-07-07T10:36:48.182Z"
   },
   {
    "duration": 14,
    "start_time": "2021-07-07T10:37:49.641Z"
   },
   {
    "duration": 6,
    "start_time": "2021-07-07T10:38:06.694Z"
   },
   {
    "duration": 6,
    "start_time": "2021-07-07T10:38:13.493Z"
   },
   {
    "duration": 19,
    "start_time": "2021-07-07T10:38:44.056Z"
   },
   {
    "duration": 186,
    "start_time": "2021-07-07T10:48:35.618Z"
   },
   {
    "duration": 24,
    "start_time": "2021-07-07T10:48:51.498Z"
   },
   {
    "duration": 20,
    "start_time": "2021-07-07T10:48:59.415Z"
   },
   {
    "duration": 20,
    "start_time": "2021-07-07T10:53:02.195Z"
   },
   {
    "duration": 188,
    "start_time": "2021-07-07T10:54:40.486Z"
   },
   {
    "duration": 115,
    "start_time": "2021-07-07T10:54:52.552Z"
   },
   {
    "duration": 214,
    "start_time": "2021-07-07T10:54:56.354Z"
   },
   {
    "duration": 47,
    "start_time": "2021-07-07T10:54:58.282Z"
   },
   {
    "duration": 217,
    "start_time": "2021-07-07T10:59:16.075Z"
   },
   {
    "duration": 51,
    "start_time": "2021-07-07T10:59:16.243Z"
   },
   {
    "duration": 578,
    "start_time": "2021-07-07T10:59:18.774Z"
   },
   {
    "duration": 161,
    "start_time": "2021-07-07T10:59:21.238Z"
   },
   {
    "duration": 59,
    "start_time": "2021-07-07T10:59:21.453Z"
   },
   {
    "duration": 3,
    "start_time": "2021-07-07T11:02:10.786Z"
   },
   {
    "duration": 13,
    "start_time": "2021-07-07T11:07:07.722Z"
   },
   {
    "duration": 26,
    "start_time": "2021-07-07T11:07:17.958Z"
   },
   {
    "duration": 22,
    "start_time": "2021-07-07T11:08:17.939Z"
   },
   {
    "duration": 212,
    "start_time": "2021-07-07T11:08:19.665Z"
   },
   {
    "duration": 21,
    "start_time": "2021-07-07T11:08:29.945Z"
   },
   {
    "duration": 31,
    "start_time": "2021-07-07T11:08:38.899Z"
   },
   {
    "duration": 23,
    "start_time": "2021-07-07T11:08:54.527Z"
   },
   {
    "duration": 8,
    "start_time": "2021-07-07T11:18:55.974Z"
   },
   {
    "duration": 7,
    "start_time": "2021-07-07T11:19:03.639Z"
   },
   {
    "duration": 7,
    "start_time": "2021-07-07T11:19:06.444Z"
   },
   {
    "duration": 578,
    "start_time": "2021-07-07T12:09:59.576Z"
   },
   {
    "duration": 195,
    "start_time": "2021-07-07T12:10:00.156Z"
   },
   {
    "duration": 115,
    "start_time": "2021-07-07T12:10:00.353Z"
   },
   {
    "duration": 3,
    "start_time": "2021-07-07T12:10:00.470Z"
   },
   {
    "duration": 32,
    "start_time": "2021-07-07T12:10:00.474Z"
   },
   {
    "duration": 23,
    "start_time": "2021-07-07T12:10:00.508Z"
   },
   {
    "duration": 19,
    "start_time": "2021-07-07T12:10:00.533Z"
   },
   {
    "duration": 44,
    "start_time": "2021-07-07T12:10:00.553Z"
   },
   {
    "duration": 7,
    "start_time": "2021-07-07T12:10:00.600Z"
   },
   {
    "duration": 7,
    "start_time": "2021-07-07T12:19:45.761Z"
   },
   {
    "duration": 21,
    "start_time": "2021-07-07T12:21:35.482Z"
   },
   {
    "duration": 21,
    "start_time": "2021-07-07T12:29:23.569Z"
   },
   {
    "duration": 525,
    "start_time": "2021-07-07T12:29:44.542Z"
   },
   {
    "duration": 214,
    "start_time": "2021-07-07T12:29:45.069Z"
   },
   {
    "duration": 92,
    "start_time": "2021-07-07T12:29:45.285Z"
   },
   {
    "duration": 3,
    "start_time": "2021-07-07T12:29:45.379Z"
   },
   {
    "duration": 28,
    "start_time": "2021-07-07T12:29:45.384Z"
   },
   {
    "duration": 23,
    "start_time": "2021-07-07T12:29:45.413Z"
   },
   {
    "duration": 21,
    "start_time": "2021-07-07T12:29:45.437Z"
   },
   {
    "duration": 41,
    "start_time": "2021-07-07T12:29:45.460Z"
   },
   {
    "duration": 7,
    "start_time": "2021-07-07T12:29:45.502Z"
   },
   {
    "duration": 20,
    "start_time": "2021-07-07T12:29:45.511Z"
   },
   {
    "duration": 12,
    "start_time": "2021-07-07T12:34:02.800Z"
   },
   {
    "duration": 7,
    "start_time": "2021-07-07T12:35:10.479Z"
   },
   {
    "duration": 8,
    "start_time": "2021-07-07T12:35:22.440Z"
   },
   {
    "duration": 6,
    "start_time": "2021-07-07T12:35:35.649Z"
   },
   {
    "duration": 6,
    "start_time": "2021-07-07T12:35:43.107Z"
   },
   {
    "duration": 22,
    "start_time": "2021-07-07T12:38:03.029Z"
   },
   {
    "duration": 10,
    "start_time": "2021-07-07T12:38:06.592Z"
   },
   {
    "duration": 563,
    "start_time": "2021-07-07T12:38:46.493Z"
   },
   {
    "duration": 265,
    "start_time": "2021-07-07T12:38:47.058Z"
   },
   {
    "duration": 94,
    "start_time": "2021-07-07T12:38:47.325Z"
   },
   {
    "duration": 3,
    "start_time": "2021-07-07T12:38:47.422Z"
   },
   {
    "duration": 30,
    "start_time": "2021-07-07T12:38:47.427Z"
   },
   {
    "duration": 16,
    "start_time": "2021-07-07T12:38:53.305Z"
   },
   {
    "duration": 10,
    "start_time": "2021-07-07T12:38:53.499Z"
   },
   {
    "duration": 8,
    "start_time": "2021-07-07T12:39:48.161Z"
   },
   {
    "duration": 27,
    "start_time": "2021-07-07T12:41:17.629Z"
   },
   {
    "duration": 17,
    "start_time": "2021-07-07T12:41:17.867Z"
   },
   {
    "duration": 21,
    "start_time": "2021-07-07T12:41:19.310Z"
   },
   {
    "duration": 7,
    "start_time": "2021-07-07T12:41:19.544Z"
   },
   {
    "duration": 20,
    "start_time": "2021-07-07T12:41:20.504Z"
   },
   {
    "duration": 554,
    "start_time": "2021-07-07T12:56:23.696Z"
   },
   {
    "duration": 200,
    "start_time": "2021-07-07T12:56:25.234Z"
   },
   {
    "duration": 119,
    "start_time": "2021-07-07T12:56:25.480Z"
   },
   {
    "duration": 4,
    "start_time": "2021-07-07T12:56:25.762Z"
   },
   {
    "duration": 26,
    "start_time": "2021-07-07T12:56:27.172Z"
   },
   {
    "duration": 12,
    "start_time": "2021-07-07T12:56:29.051Z"
   },
   {
    "duration": 10,
    "start_time": "2021-07-07T12:56:29.291Z"
   },
   {
    "duration": 8,
    "start_time": "2021-07-07T12:56:29.623Z"
   },
   {
    "duration": 28,
    "start_time": "2021-07-07T12:56:32.137Z"
   },
   {
    "duration": 19,
    "start_time": "2021-07-07T12:56:39.785Z"
   },
   {
    "duration": 20,
    "start_time": "2021-07-07T12:56:44.297Z"
   },
   {
    "duration": 7,
    "start_time": "2021-07-07T12:56:45.392Z"
   },
   {
    "duration": 23,
    "start_time": "2021-07-07T12:56:46.615Z"
   },
   {
    "duration": 4,
    "start_time": "2021-07-07T12:57:06.625Z"
   },
   {
    "duration": 32,
    "start_time": "2021-07-07T12:57:36.690Z"
   },
   {
    "duration": 18,
    "start_time": "2021-07-07T12:58:00.149Z"
   },
   {
    "duration": 15,
    "start_time": "2021-07-07T12:59:16.793Z"
   },
   {
    "duration": 7,
    "start_time": "2021-07-07T13:19:22.624Z"
   },
   {
    "duration": 6,
    "start_time": "2021-07-07T14:17:33.527Z"
   },
   {
    "duration": 9,
    "start_time": "2021-07-07T14:17:48.409Z"
   },
   {
    "duration": 8,
    "start_time": "2021-07-07T14:20:13.060Z"
   },
   {
    "duration": 8,
    "start_time": "2021-07-07T14:20:37.957Z"
   },
   {
    "duration": 8,
    "start_time": "2021-07-07T14:20:47.470Z"
   },
   {
    "duration": 9,
    "start_time": "2021-07-07T14:20:54.503Z"
   },
   {
    "duration": 10,
    "start_time": "2021-07-07T14:28:57.763Z"
   },
   {
    "duration": 3,
    "start_time": "2021-07-07T14:30:23.377Z"
   },
   {
    "duration": 3,
    "start_time": "2021-07-07T14:30:36.489Z"
   },
   {
    "duration": 103,
    "start_time": "2021-07-07T14:30:52.351Z"
   },
   {
    "duration": 8,
    "start_time": "2021-07-07T14:30:54.763Z"
   },
   {
    "duration": 8,
    "start_time": "2021-07-07T14:31:29.301Z"
   },
   {
    "duration": 13,
    "start_time": "2021-07-07T14:31:44.516Z"
   },
   {
    "duration": 7,
    "start_time": "2021-07-07T14:33:10.972Z"
   },
   {
    "duration": 11,
    "start_time": "2021-07-07T14:33:27.780Z"
   },
   {
    "duration": 8,
    "start_time": "2021-07-07T14:34:44.588Z"
   },
   {
    "duration": 57,
    "start_time": "2021-07-07T14:35:59.042Z"
   },
   {
    "duration": 3,
    "start_time": "2021-07-07T14:36:28.168Z"
   },
   {
    "duration": 5,
    "start_time": "2021-07-07T14:36:46.254Z"
   },
   {
    "duration": 4,
    "start_time": "2021-07-07T14:36:52.714Z"
   },
   {
    "duration": 3,
    "start_time": "2021-07-07T14:36:56.612Z"
   },
   {
    "duration": 4,
    "start_time": "2021-07-07T14:36:57.049Z"
   },
   {
    "duration": 3,
    "start_time": "2021-07-07T14:39:21.214Z"
   },
   {
    "duration": 7,
    "start_time": "2021-07-07T14:39:52.406Z"
   },
   {
    "duration": 11,
    "start_time": "2021-07-07T14:39:58.576Z"
   },
   {
    "duration": 9,
    "start_time": "2021-07-07T14:40:26.301Z"
   },
   {
    "duration": 10,
    "start_time": "2021-07-07T14:40:31.704Z"
   },
   {
    "duration": 11,
    "start_time": "2021-07-07T14:40:36.249Z"
   },
   {
    "duration": 10,
    "start_time": "2021-07-07T14:40:39.783Z"
   },
   {
    "duration": 9,
    "start_time": "2021-07-07T14:40:48.558Z"
   },
   {
    "duration": 10,
    "start_time": "2021-07-07T14:40:57.143Z"
   },
   {
    "duration": 9,
    "start_time": "2021-07-07T14:41:06.074Z"
   },
   {
    "duration": 4324,
    "start_time": "2021-07-07T14:41:22.004Z"
   },
   {
    "duration": 11,
    "start_time": "2021-07-07T14:41:33.392Z"
   },
   {
    "duration": 9,
    "start_time": "2021-07-07T14:41:39.288Z"
   },
   {
    "duration": 569,
    "start_time": "2021-07-07T14:42:14.387Z"
   },
   {
    "duration": 197,
    "start_time": "2021-07-07T14:42:14.959Z"
   },
   {
    "duration": 84,
    "start_time": "2021-07-07T14:42:16.052Z"
   },
   {
    "duration": 4,
    "start_time": "2021-07-07T14:42:16.900Z"
   },
   {
    "duration": 27,
    "start_time": "2021-07-07T14:42:19.898Z"
   },
   {
    "duration": 12,
    "start_time": "2021-07-07T14:42:21.577Z"
   },
   {
    "duration": 9,
    "start_time": "2021-07-07T14:42:21.813Z"
   },
   {
    "duration": 9,
    "start_time": "2021-07-07T14:42:22.569Z"
   },
   {
    "duration": 29,
    "start_time": "2021-07-07T14:42:25.837Z"
   },
   {
    "duration": 20,
    "start_time": "2021-07-07T14:42:27.003Z"
   },
   {
    "duration": 21,
    "start_time": "2021-07-07T14:42:28.767Z"
   },
   {
    "duration": 7,
    "start_time": "2021-07-07T14:42:29.838Z"
   },
   {
    "duration": 4,
    "start_time": "2021-07-07T14:43:25.493Z"
   },
   {
    "duration": 7,
    "start_time": "2021-07-07T14:43:26.573Z"
   },
   {
    "duration": 10,
    "start_time": "2021-07-07T14:43:31.639Z"
   },
   {
    "duration": 9,
    "start_time": "2021-07-07T14:43:32.046Z"
   },
   {
    "duration": 10,
    "start_time": "2021-07-07T14:43:33.301Z"
   },
   {
    "duration": 12,
    "start_time": "2021-07-07T14:43:33.658Z"
   },
   {
    "duration": 8,
    "start_time": "2021-07-07T14:43:34.552Z"
   },
   {
    "duration": 9,
    "start_time": "2021-07-07T14:43:35.058Z"
   },
   {
    "duration": 12,
    "start_time": "2021-07-07T14:43:35.914Z"
   },
   {
    "duration": 17,
    "start_time": "2021-07-07T14:45:34.368Z"
   },
   {
    "duration": 512,
    "start_time": "2021-07-07T14:51:58.236Z"
   },
   {
    "duration": 223,
    "start_time": "2021-07-07T14:51:58.750Z"
   },
   {
    "duration": 93,
    "start_time": "2021-07-07T14:51:58.977Z"
   },
   {
    "duration": 4,
    "start_time": "2021-07-07T14:51:59.071Z"
   },
   {
    "duration": 37,
    "start_time": "2021-07-07T14:51:59.077Z"
   },
   {
    "duration": 18,
    "start_time": "2021-07-07T14:51:59.116Z"
   },
   {
    "duration": 10,
    "start_time": "2021-07-07T14:51:59.137Z"
   },
   {
    "duration": 8,
    "start_time": "2021-07-07T14:51:59.149Z"
   },
   {
    "duration": 54,
    "start_time": "2021-07-07T14:51:59.158Z"
   },
   {
    "duration": 18,
    "start_time": "2021-07-07T14:51:59.213Z"
   },
   {
    "duration": 22,
    "start_time": "2021-07-07T14:51:59.232Z"
   },
   {
    "duration": 36,
    "start_time": "2021-07-07T14:51:59.255Z"
   },
   {
    "duration": 7,
    "start_time": "2021-07-07T14:51:59.293Z"
   },
   {
    "duration": 10,
    "start_time": "2021-07-07T14:51:59.302Z"
   },
   {
    "duration": 9,
    "start_time": "2021-07-07T14:51:59.313Z"
   },
   {
    "duration": 11,
    "start_time": "2021-07-07T14:51:59.324Z"
   },
   {
    "duration": 8,
    "start_time": "2021-07-07T14:51:59.337Z"
   },
   {
    "duration": 46,
    "start_time": "2021-07-07T14:51:59.347Z"
   },
   {
    "duration": 22,
    "start_time": "2021-07-07T14:51:59.395Z"
   },
   {
    "duration": 24,
    "start_time": "2021-07-07T14:57:32.911Z"
   },
   {
    "duration": 7,
    "start_time": "2021-07-07T14:58:22.070Z"
   },
   {
    "duration": 4,
    "start_time": "2021-07-07T14:59:11.239Z"
   },
   {
    "duration": 25,
    "start_time": "2021-07-07T15:07:22.208Z"
   },
   {
    "duration": 16,
    "start_time": "2021-07-07T15:08:25.560Z"
   },
   {
    "duration": 15,
    "start_time": "2021-07-07T15:08:40.647Z"
   },
   {
    "duration": 14,
    "start_time": "2021-07-07T15:08:46.669Z"
   },
   {
    "duration": 533,
    "start_time": "2021-07-07T15:18:07.440Z"
   },
   {
    "duration": 173,
    "start_time": "2021-07-07T15:18:07.974Z"
   },
   {
    "duration": 84,
    "start_time": "2021-07-07T15:18:08.149Z"
   },
   {
    "duration": 3,
    "start_time": "2021-07-07T15:18:08.235Z"
   },
   {
    "duration": 30,
    "start_time": "2021-07-07T15:18:08.240Z"
   },
   {
    "duration": 22,
    "start_time": "2021-07-07T15:18:08.272Z"
   },
   {
    "duration": 11,
    "start_time": "2021-07-07T15:18:08.295Z"
   },
   {
    "duration": 11,
    "start_time": "2021-07-07T15:18:08.309Z"
   },
   {
    "duration": 40,
    "start_time": "2021-07-07T15:18:08.322Z"
   },
   {
    "duration": 42,
    "start_time": "2021-07-07T15:18:08.364Z"
   },
   {
    "duration": 22,
    "start_time": "2021-07-07T15:18:08.408Z"
   },
   {
    "duration": 5,
    "start_time": "2021-07-07T15:18:08.432Z"
   },
   {
    "duration": 13,
    "start_time": "2021-07-07T15:18:08.439Z"
   },
   {
    "duration": 9,
    "start_time": "2021-07-07T15:18:08.454Z"
   },
   {
    "duration": 32,
    "start_time": "2021-07-07T15:18:08.465Z"
   },
   {
    "duration": 10,
    "start_time": "2021-07-07T15:18:08.501Z"
   },
   {
    "duration": 7,
    "start_time": "2021-07-07T15:18:08.513Z"
   },
   {
    "duration": 11,
    "start_time": "2021-07-07T15:18:08.521Z"
   },
   {
    "duration": 17,
    "start_time": "2021-07-07T15:18:08.534Z"
   },
   {
    "duration": 44,
    "start_time": "2021-07-07T15:18:08.553Z"
   },
   {
    "duration": 22,
    "start_time": "2021-07-07T15:18:08.599Z"
   },
   {
    "duration": 61,
    "start_time": "2021-07-07T15:18:08.622Z"
   },
   {
    "duration": 7,
    "start_time": "2021-07-07T15:18:39.457Z"
   },
   {
    "duration": 5,
    "start_time": "2021-07-07T16:05:17.020Z"
   },
   {
    "duration": 5,
    "start_time": "2021-07-07T16:51:28.794Z"
   },
   {
    "duration": 546,
    "start_time": "2021-07-07T16:52:26.306Z"
   },
   {
    "duration": 203,
    "start_time": "2021-07-07T16:52:27.523Z"
   },
   {
    "duration": 85,
    "start_time": "2021-07-07T16:52:27.736Z"
   },
   {
    "duration": 4,
    "start_time": "2021-07-07T16:52:27.899Z"
   },
   {
    "duration": 25,
    "start_time": "2021-07-07T16:52:28.674Z"
   },
   {
    "duration": 8,
    "start_time": "2021-07-07T16:52:32.956Z"
   },
   {
    "duration": 18,
    "start_time": "2021-07-07T16:52:35.616Z"
   },
   {
    "duration": 6,
    "start_time": "2021-07-07T16:52:36.913Z"
   },
   {
    "duration": 11,
    "start_time": "2021-07-07T16:52:40.258Z"
   },
   {
    "duration": 10,
    "start_time": "2021-07-07T16:52:46.251Z"
   },
   {
    "duration": 8,
    "start_time": "2021-07-07T16:52:47.182Z"
   },
   {
    "duration": 27,
    "start_time": "2021-07-07T16:53:20.391Z"
   },
   {
    "duration": 20,
    "start_time": "2021-07-07T16:53:22.022Z"
   },
   {
    "duration": 23,
    "start_time": "2021-07-07T16:53:23.690Z"
   },
   {
    "duration": 8,
    "start_time": "2021-07-07T16:53:24.261Z"
   },
   {
    "duration": 4,
    "start_time": "2021-07-07T16:53:38.733Z"
   },
   {
    "duration": 7,
    "start_time": "2021-07-07T16:53:40.445Z"
   },
   {
    "duration": 11,
    "start_time": "2021-07-07T16:53:41.348Z"
   },
   {
    "duration": 13,
    "start_time": "2021-07-07T16:53:45.250Z"
   },
   {
    "duration": 12,
    "start_time": "2021-07-07T16:53:45.467Z"
   },
   {
    "duration": 4,
    "start_time": "2021-07-07T16:55:32.704Z"
   },
   {
    "duration": 12,
    "start_time": "2021-07-07T16:55:49.012Z"
   },
   {
    "duration": 18,
    "start_time": "2021-07-07T16:55:49.547Z"
   },
   {
    "duration": 611,
    "start_time": "2021-07-07T16:58:35.156Z"
   },
   {
    "duration": 200,
    "start_time": "2021-07-07T16:58:35.770Z"
   },
   {
    "duration": 86,
    "start_time": "2021-07-07T16:58:35.972Z"
   },
   {
    "duration": 3,
    "start_time": "2021-07-07T16:58:36.060Z"
   },
   {
    "duration": 27,
    "start_time": "2021-07-07T16:58:36.065Z"
   },
   {
    "duration": 8,
    "start_time": "2021-07-07T16:58:36.094Z"
   },
   {
    "duration": 17,
    "start_time": "2021-07-07T16:58:36.103Z"
   },
   {
    "duration": 5,
    "start_time": "2021-07-07T16:58:36.123Z"
   },
   {
    "duration": 11,
    "start_time": "2021-07-07T16:58:36.130Z"
   },
   {
    "duration": 7,
    "start_time": "2021-07-07T16:58:36.143Z"
   },
   {
    "duration": 37,
    "start_time": "2021-07-07T16:58:36.152Z"
   },
   {
    "duration": 27,
    "start_time": "2021-07-07T16:58:36.191Z"
   },
   {
    "duration": 19,
    "start_time": "2021-07-07T16:58:36.219Z"
   },
   {
    "duration": 49,
    "start_time": "2021-07-07T16:58:36.240Z"
   },
   {
    "duration": 6,
    "start_time": "2021-07-07T16:58:36.291Z"
   },
   {
    "duration": 3,
    "start_time": "2021-07-07T16:58:36.299Z"
   },
   {
    "duration": 13,
    "start_time": "2021-07-07T16:58:36.304Z"
   },
   {
    "duration": 10,
    "start_time": "2021-07-07T16:58:36.319Z"
   },
   {
    "duration": 10,
    "start_time": "2021-07-07T16:58:36.331Z"
   },
   {
    "duration": 44,
    "start_time": "2021-07-07T16:58:36.343Z"
   },
   {
    "duration": 4,
    "start_time": "2021-07-07T16:58:36.388Z"
   },
   {
    "duration": 13,
    "start_time": "2021-07-07T16:58:36.394Z"
   },
   {
    "duration": 16,
    "start_time": "2021-07-07T16:58:36.410Z"
   },
   {
    "duration": 8,
    "start_time": "2021-07-07T17:02:31.629Z"
   },
   {
    "duration": 8,
    "start_time": "2021-07-07T17:02:34.308Z"
   },
   {
    "duration": 6,
    "start_time": "2021-07-07T17:05:13.483Z"
   },
   {
    "duration": 17,
    "start_time": "2021-07-07T17:05:20.606Z"
   },
   {
    "duration": 7,
    "start_time": "2021-07-07T17:05:34.638Z"
   },
   {
    "duration": 3,
    "start_time": "2021-07-07T17:06:31.883Z"
   },
   {
    "duration": 570,
    "start_time": "2021-07-07T17:06:37.165Z"
   },
   {
    "duration": 174,
    "start_time": "2021-07-07T17:06:37.737Z"
   },
   {
    "duration": 47,
    "start_time": "2021-07-07T17:06:37.913Z"
   },
   {
    "duration": 3,
    "start_time": "2021-07-07T17:06:37.962Z"
   },
   {
    "duration": 27,
    "start_time": "2021-07-07T17:06:37.967Z"
   },
   {
    "duration": 7,
    "start_time": "2021-07-07T17:06:37.996Z"
   },
   {
    "duration": 16,
    "start_time": "2021-07-07T17:06:38.005Z"
   },
   {
    "duration": 6,
    "start_time": "2021-07-07T17:06:38.024Z"
   },
   {
    "duration": 12,
    "start_time": "2021-07-07T17:06:38.031Z"
   },
   {
    "duration": 41,
    "start_time": "2021-07-07T17:06:38.045Z"
   },
   {
    "duration": 8,
    "start_time": "2021-07-07T17:06:38.088Z"
   },
   {
    "duration": 26,
    "start_time": "2021-07-07T17:06:38.098Z"
   },
   {
    "duration": 17,
    "start_time": "2021-07-07T17:06:38.126Z"
   },
   {
    "duration": 43,
    "start_time": "2021-07-07T17:06:38.144Z"
   },
   {
    "duration": 6,
    "start_time": "2021-07-07T17:06:38.188Z"
   },
   {
    "duration": 5,
    "start_time": "2021-07-07T17:06:38.195Z"
   },
   {
    "duration": 9,
    "start_time": "2021-07-07T17:06:38.201Z"
   },
   {
    "duration": 12,
    "start_time": "2021-07-07T17:06:38.212Z"
   },
   {
    "duration": 11,
    "start_time": "2021-07-07T17:06:38.226Z"
   },
   {
    "duration": 47,
    "start_time": "2021-07-07T17:06:38.239Z"
   },
   {
    "duration": 4,
    "start_time": "2021-07-07T17:06:38.288Z"
   },
   {
    "duration": 13,
    "start_time": "2021-07-07T17:06:38.293Z"
   },
   {
    "duration": 5,
    "start_time": "2021-07-07T17:06:38.309Z"
   },
   {
    "duration": 18,
    "start_time": "2021-07-07T17:06:38.325Z"
   },
   {
    "duration": 20,
    "start_time": "2021-07-07T17:07:02.805Z"
   },
   {
    "duration": 19,
    "start_time": "2021-07-07T17:07:08.527Z"
   },
   {
    "duration": 19,
    "start_time": "2021-07-07T17:07:12.758Z"
   },
   {
    "duration": 22,
    "start_time": "2021-07-07T17:07:17.497Z"
   },
   {
    "duration": 19,
    "start_time": "2021-07-07T17:07:19.645Z"
   },
   {
    "duration": 10,
    "start_time": "2021-07-07T17:07:34.239Z"
   },
   {
    "duration": 17,
    "start_time": "2021-07-07T17:07:54.144Z"
   },
   {
    "duration": 14,
    "start_time": "2021-07-07T17:08:14.357Z"
   },
   {
    "duration": 616,
    "start_time": "2021-07-07T17:08:45.254Z"
   },
   {
    "duration": 178,
    "start_time": "2021-07-07T17:08:45.872Z"
   },
   {
    "duration": 60,
    "start_time": "2021-07-07T17:08:46.054Z"
   },
   {
    "duration": 3,
    "start_time": "2021-07-07T17:08:46.116Z"
   },
   {
    "duration": 26,
    "start_time": "2021-07-07T17:08:46.121Z"
   },
   {
    "duration": 7,
    "start_time": "2021-07-07T17:08:46.149Z"
   },
   {
    "duration": 17,
    "start_time": "2021-07-07T17:08:46.158Z"
   },
   {
    "duration": 14,
    "start_time": "2021-07-07T17:08:46.176Z"
   },
   {
    "duration": 17,
    "start_time": "2021-07-07T17:08:46.193Z"
   },
   {
    "duration": 9,
    "start_time": "2021-07-07T17:08:46.211Z"
   },
   {
    "duration": 21,
    "start_time": "2021-07-07T17:08:46.221Z"
   },
   {
    "duration": 49,
    "start_time": "2021-07-07T17:08:46.244Z"
   },
   {
    "duration": 24,
    "start_time": "2021-07-07T17:08:46.295Z"
   },
   {
    "duration": 22,
    "start_time": "2021-07-07T17:08:46.321Z"
   },
   {
    "duration": 6,
    "start_time": "2021-07-07T17:08:46.345Z"
   },
   {
    "duration": 5,
    "start_time": "2021-07-07T17:08:46.353Z"
   },
   {
    "duration": 13,
    "start_time": "2021-07-07T17:08:46.386Z"
   },
   {
    "duration": 12,
    "start_time": "2021-07-07T17:08:46.402Z"
   },
   {
    "duration": 10,
    "start_time": "2021-07-07T17:08:46.415Z"
   },
   {
    "duration": 7,
    "start_time": "2021-07-07T17:08:46.427Z"
   },
   {
    "duration": 8,
    "start_time": "2021-07-07T17:08:46.435Z"
   },
   {
    "duration": 68,
    "start_time": "2021-07-07T17:08:46.446Z"
   },
   {
    "duration": 13,
    "start_time": "2021-07-07T17:08:46.516Z"
   },
   {
    "duration": 78,
    "start_time": "2021-07-07T17:08:46.530Z"
   },
   {
    "duration": 40,
    "start_time": "2021-07-07T17:09:08.185Z"
   },
   {
    "duration": 16,
    "start_time": "2021-07-07T17:09:19.324Z"
   },
   {
    "duration": 21,
    "start_time": "2021-07-07T17:09:23.290Z"
   },
   {
    "duration": 13,
    "start_time": "2021-07-07T17:09:54.812Z"
   },
   {
    "duration": 13,
    "start_time": "2021-07-07T17:10:02.039Z"
   },
   {
    "duration": 10,
    "start_time": "2021-07-07T17:10:29.632Z"
   },
   {
    "duration": 13,
    "start_time": "2021-07-07T17:10:52.372Z"
   },
   {
    "duration": 13,
    "start_time": "2021-07-07T17:11:17.270Z"
   },
   {
    "duration": 13,
    "start_time": "2021-07-07T17:14:59.284Z"
   },
   {
    "duration": 547,
    "start_time": "2021-07-07T17:18:52.403Z"
   },
   {
    "duration": 163,
    "start_time": "2021-07-07T17:18:52.952Z"
   },
   {
    "duration": 44,
    "start_time": "2021-07-07T17:18:53.117Z"
   },
   {
    "duration": 3,
    "start_time": "2021-07-07T17:18:53.162Z"
   },
   {
    "duration": 26,
    "start_time": "2021-07-07T17:18:53.167Z"
   },
   {
    "duration": 6,
    "start_time": "2021-07-07T17:18:53.195Z"
   },
   {
    "duration": 15,
    "start_time": "2021-07-07T17:18:53.203Z"
   },
   {
    "duration": 5,
    "start_time": "2021-07-07T17:18:53.220Z"
   },
   {
    "duration": 11,
    "start_time": "2021-07-07T17:18:53.228Z"
   },
   {
    "duration": 9,
    "start_time": "2021-07-07T17:18:53.241Z"
   },
   {
    "duration": 41,
    "start_time": "2021-07-07T17:18:53.252Z"
   },
   {
    "duration": 33,
    "start_time": "2021-07-07T17:18:53.295Z"
   },
   {
    "duration": 19,
    "start_time": "2021-07-07T17:18:53.330Z"
   },
   {
    "duration": 49,
    "start_time": "2021-07-07T17:18:53.350Z"
   },
   {
    "duration": 5,
    "start_time": "2021-07-07T17:18:53.401Z"
   },
   {
    "duration": 5,
    "start_time": "2021-07-07T17:18:53.408Z"
   },
   {
    "duration": 11,
    "start_time": "2021-07-07T17:18:53.414Z"
   },
   {
    "duration": 9,
    "start_time": "2021-07-07T17:18:53.427Z"
   },
   {
    "duration": 10,
    "start_time": "2021-07-07T17:18:53.437Z"
   },
   {
    "duration": 39,
    "start_time": "2021-07-07T17:18:53.448Z"
   },
   {
    "duration": 26,
    "start_time": "2021-07-07T17:18:55.799Z"
   },
   {
    "duration": 598,
    "start_time": "2021-07-07T17:20:17.862Z"
   },
   {
    "duration": 161,
    "start_time": "2021-07-07T17:20:18.462Z"
   },
   {
    "duration": 45,
    "start_time": "2021-07-07T17:20:18.626Z"
   },
   {
    "duration": 4,
    "start_time": "2021-07-07T17:20:18.673Z"
   },
   {
    "duration": 38,
    "start_time": "2021-07-07T17:20:26.877Z"
   },
   {
    "duration": 7,
    "start_time": "2021-07-07T17:20:37.405Z"
   },
   {
    "duration": 19,
    "start_time": "2021-07-07T17:20:51.534Z"
   },
   {
    "duration": 5,
    "start_time": "2021-07-07T17:20:57.228Z"
   },
   {
    "duration": 7,
    "start_time": "2021-07-07T17:21:08.235Z"
   },
   {
    "duration": 19,
    "start_time": "2021-07-07T17:21:42.158Z"
   },
   {
    "duration": 14,
    "start_time": "2021-07-07T17:21:50.225Z"
   },
   {
    "duration": 22,
    "start_time": "2021-07-07T17:22:54.104Z"
   },
   {
    "duration": 5,
    "start_time": "2021-07-07T17:22:56.371Z"
   },
   {
    "duration": 14,
    "start_time": "2021-07-07T17:22:58.316Z"
   },
   {
    "duration": 5,
    "start_time": "2021-07-07T17:22:58.493Z"
   },
   {
    "duration": 35,
    "start_time": "2021-07-07T17:22:59.666Z"
   },
   {
    "duration": 6,
    "start_time": "2021-07-07T17:23:02.410Z"
   },
   {
    "duration": 611,
    "start_time": "2021-07-07T17:24:59.664Z"
   },
   {
    "duration": 178,
    "start_time": "2021-07-07T17:25:01.945Z"
   },
   {
    "duration": 47,
    "start_time": "2021-07-07T17:25:02.125Z"
   },
   {
    "duration": 2,
    "start_time": "2021-07-07T17:25:07.903Z"
   },
   {
    "duration": 254,
    "start_time": "2021-07-07T17:25:08.232Z"
   },
   {
    "duration": 182,
    "start_time": "2021-07-07T17:25:08.671Z"
   },
   {
    "duration": 6,
    "start_time": "2021-07-07T17:25:13.104Z"
   },
   {
    "duration": 36,
    "start_time": "2021-07-07T17:25:13.662Z"
   },
   {
    "duration": 7,
    "start_time": "2021-07-07T17:25:14.528Z"
   },
   {
    "duration": 24,
    "start_time": "2021-07-07T17:25:27.982Z"
   },
   {
    "duration": 3,
    "start_time": "2021-07-07T17:25:48.982Z"
   },
   {
    "duration": 165,
    "start_time": "2021-07-07T17:25:48.987Z"
   },
   {
    "duration": 50,
    "start_time": "2021-07-07T17:25:49.154Z"
   },
   {
    "duration": 4,
    "start_time": "2021-07-07T17:25:49.206Z"
   },
   {
    "duration": 26,
    "start_time": "2021-07-07T17:25:49.212Z"
   },
   {
    "duration": 7,
    "start_time": "2021-07-07T17:25:49.240Z"
   },
   {
    "duration": 16,
    "start_time": "2021-07-07T17:25:49.249Z"
   },
   {
    "duration": 22,
    "start_time": "2021-07-07T17:25:49.266Z"
   },
   {
    "duration": 16,
    "start_time": "2021-07-07T17:25:49.291Z"
   },
   {
    "duration": 9,
    "start_time": "2021-07-07T17:25:49.309Z"
   },
   {
    "duration": 7,
    "start_time": "2021-07-07T17:25:49.319Z"
   },
   {
    "duration": 28,
    "start_time": "2021-07-07T17:25:49.328Z"
   },
   {
    "duration": 44,
    "start_time": "2021-07-07T17:25:49.357Z"
   },
   {
    "duration": 22,
    "start_time": "2021-07-07T17:25:49.403Z"
   },
   {
    "duration": 7,
    "start_time": "2021-07-07T17:25:49.427Z"
   },
   {
    "duration": 3,
    "start_time": "2021-07-07T17:25:49.436Z"
   },
   {
    "duration": 44,
    "start_time": "2021-07-07T17:25:49.441Z"
   },
   {
    "duration": 12,
    "start_time": "2021-07-07T17:25:49.488Z"
   },
   {
    "duration": 13,
    "start_time": "2021-07-07T17:25:49.502Z"
   },
   {
    "duration": 10,
    "start_time": "2021-07-07T17:25:49.516Z"
   },
   {
    "duration": 62,
    "start_time": "2021-07-07T17:25:49.527Z"
   },
   {
    "duration": 26,
    "start_time": "2021-07-07T17:26:51.809Z"
   },
   {
    "duration": 26,
    "start_time": "2021-07-07T17:26:55.759Z"
   },
   {
    "duration": 26,
    "start_time": "2021-07-07T17:27:04.501Z"
   },
   {
    "duration": 25,
    "start_time": "2021-07-07T17:28:24.859Z"
   },
   {
    "duration": 21,
    "start_time": "2021-07-07T17:28:55.250Z"
   },
   {
    "duration": 21,
    "start_time": "2021-07-07T17:28:58.885Z"
   },
   {
    "duration": 7,
    "start_time": "2021-07-07T17:45:40.972Z"
   },
   {
    "duration": 13,
    "start_time": "2021-07-07T17:45:42.529Z"
   },
   {
    "duration": 27,
    "start_time": "2021-07-07T17:45:51.026Z"
   },
   {
    "duration": 518,
    "start_time": "2021-07-07T17:46:15.532Z"
   },
   {
    "duration": 235,
    "start_time": "2021-07-07T17:46:16.053Z"
   },
   {
    "duration": 80,
    "start_time": "2021-07-07T17:46:16.292Z"
   },
   {
    "duration": 5,
    "start_time": "2021-07-07T17:46:16.373Z"
   },
   {
    "duration": 26,
    "start_time": "2021-07-07T17:46:16.380Z"
   },
   {
    "duration": 7,
    "start_time": "2021-07-07T17:46:16.408Z"
   },
   {
    "duration": 16,
    "start_time": "2021-07-07T17:46:16.418Z"
   },
   {
    "duration": 5,
    "start_time": "2021-07-07T17:46:16.436Z"
   },
   {
    "duration": 13,
    "start_time": "2021-07-07T17:46:16.442Z"
   },
   {
    "duration": 35,
    "start_time": "2021-07-07T17:46:16.456Z"
   },
   {
    "duration": 8,
    "start_time": "2021-07-07T17:46:16.493Z"
   },
   {
    "duration": 28,
    "start_time": "2021-07-07T17:46:16.502Z"
   },
   {
    "duration": 17,
    "start_time": "2021-07-07T17:46:16.532Z"
   },
   {
    "duration": 44,
    "start_time": "2021-07-07T17:46:16.551Z"
   },
   {
    "duration": 6,
    "start_time": "2021-07-07T17:46:16.597Z"
   },
   {
    "duration": 4,
    "start_time": "2021-07-07T17:46:16.605Z"
   },
   {
    "duration": 9,
    "start_time": "2021-07-07T17:46:16.610Z"
   },
   {
    "duration": 9,
    "start_time": "2021-07-07T17:46:16.621Z"
   },
   {
    "duration": 10,
    "start_time": "2021-07-07T17:46:16.632Z"
   },
   {
    "duration": 43,
    "start_time": "2021-07-07T17:46:16.644Z"
   },
   {
    "duration": 26,
    "start_time": "2021-07-07T17:46:16.689Z"
   },
   {
    "duration": 19,
    "start_time": "2021-07-07T17:46:16.718Z"
   },
   {
    "duration": 8,
    "start_time": "2021-07-07T17:46:16.738Z"
   },
   {
    "duration": 43,
    "start_time": "2021-07-07T17:46:16.747Z"
   },
   {
    "duration": 19,
    "start_time": "2021-07-07T17:46:16.791Z"
   },
   {
    "duration": 9,
    "start_time": "2021-07-07T17:46:16.812Z"
   },
   {
    "duration": 60,
    "start_time": "2021-07-07T17:46:16.822Z"
   },
   {
    "duration": -8,
    "start_time": "2021-07-07T17:46:16.892Z"
   },
   {
    "duration": 12,
    "start_time": "2021-07-07T17:48:47.707Z"
   },
   {
    "duration": 553,
    "start_time": "2021-07-07T18:10:09.350Z"
   },
   {
    "duration": 230,
    "start_time": "2021-07-07T18:10:09.905Z"
   },
   {
    "duration": 97,
    "start_time": "2021-07-07T18:10:10.137Z"
   },
   {
    "duration": 5,
    "start_time": "2021-07-07T18:10:10.236Z"
   },
   {
    "duration": 29,
    "start_time": "2021-07-07T18:10:10.242Z"
   },
   {
    "duration": 7,
    "start_time": "2021-07-07T18:10:10.272Z"
   },
   {
    "duration": 15,
    "start_time": "2021-07-07T18:10:10.281Z"
   },
   {
    "duration": 4,
    "start_time": "2021-07-07T18:10:10.299Z"
   },
   {
    "duration": 14,
    "start_time": "2021-07-07T18:10:10.305Z"
   },
   {
    "duration": 8,
    "start_time": "2021-07-07T18:10:10.321Z"
   },
   {
    "duration": 8,
    "start_time": "2021-07-07T18:10:10.331Z"
   },
   {
    "duration": 56,
    "start_time": "2021-07-07T18:10:10.341Z"
   },
   {
    "duration": 19,
    "start_time": "2021-07-07T18:10:10.399Z"
   },
   {
    "duration": 23,
    "start_time": "2021-07-07T18:10:10.419Z"
   },
   {
    "duration": 6,
    "start_time": "2021-07-07T18:10:10.444Z"
   },
   {
    "duration": 9,
    "start_time": "2021-07-07T18:10:10.451Z"
   },
   {
    "duration": 30,
    "start_time": "2021-07-07T18:10:10.462Z"
   },
   {
    "duration": 9,
    "start_time": "2021-07-07T18:10:10.494Z"
   },
   {
    "duration": 14,
    "start_time": "2021-07-07T18:10:10.505Z"
   },
   {
    "duration": 7,
    "start_time": "2021-07-07T18:10:10.521Z"
   },
   {
    "duration": 26,
    "start_time": "2021-07-07T18:10:10.530Z"
   },
   {
    "duration": 44,
    "start_time": "2021-07-07T18:10:10.558Z"
   },
   {
    "duration": 7,
    "start_time": "2021-07-07T18:10:10.605Z"
   },
   {
    "duration": 11,
    "start_time": "2021-07-07T18:10:10.614Z"
   },
   {
    "duration": 19,
    "start_time": "2021-07-07T18:10:10.626Z"
   },
   {
    "duration": 44,
    "start_time": "2021-07-07T18:10:10.646Z"
   },
   {
    "duration": 516,
    "start_time": "2021-07-07T18:14:00.826Z"
   },
   {
    "duration": 230,
    "start_time": "2021-07-07T18:14:01.344Z"
   },
   {
    "duration": 105,
    "start_time": "2021-07-07T18:14:01.576Z"
   },
   {
    "duration": 5,
    "start_time": "2021-07-07T18:14:01.683Z"
   },
   {
    "duration": 46,
    "start_time": "2021-07-07T18:14:01.690Z"
   },
   {
    "duration": 7,
    "start_time": "2021-07-07T18:14:01.738Z"
   },
   {
    "duration": 20,
    "start_time": "2021-07-07T18:14:01.747Z"
   },
   {
    "duration": 16,
    "start_time": "2021-07-07T18:14:01.769Z"
   },
   {
    "duration": 14,
    "start_time": "2021-07-07T18:14:01.787Z"
   },
   {
    "duration": 15,
    "start_time": "2021-07-07T18:14:01.803Z"
   },
   {
    "duration": 12,
    "start_time": "2021-07-07T18:14:01.820Z"
   },
   {
    "duration": 35,
    "start_time": "2021-07-07T18:14:01.833Z"
   },
   {
    "duration": 31,
    "start_time": "2021-07-07T18:14:01.869Z"
   },
   {
    "duration": 37,
    "start_time": "2021-07-07T18:14:01.902Z"
   },
   {
    "duration": 8,
    "start_time": "2021-07-07T18:14:01.942Z"
   },
   {
    "duration": 16,
    "start_time": "2021-07-07T18:14:01.952Z"
   },
   {
    "duration": 13,
    "start_time": "2021-07-07T18:14:01.970Z"
   },
   {
    "duration": 32,
    "start_time": "2021-07-07T18:14:01.985Z"
   },
   {
    "duration": 11,
    "start_time": "2021-07-07T18:14:02.019Z"
   },
   {
    "duration": 22,
    "start_time": "2021-07-07T18:14:02.031Z"
   },
   {
    "duration": 27,
    "start_time": "2021-07-07T18:14:02.055Z"
   },
   {
    "duration": 18,
    "start_time": "2021-07-07T18:14:02.084Z"
   },
   {
    "duration": 18,
    "start_time": "2021-07-07T18:14:02.106Z"
   },
   {
    "duration": 11,
    "start_time": "2021-07-07T18:14:02.126Z"
   },
   {
    "duration": 21,
    "start_time": "2021-07-07T18:14:02.138Z"
   },
   {
    "duration": 32,
    "start_time": "2021-07-07T18:14:02.161Z"
   },
   {
    "duration": 28,
    "start_time": "2021-07-07T18:14:44.295Z"
   },
   {
    "duration": 6,
    "start_time": "2021-07-07T18:15:05.834Z"
   },
   {
    "duration": 511,
    "start_time": "2021-07-07T18:15:41.541Z"
   },
   {
    "duration": 183,
    "start_time": "2021-07-07T18:15:42.054Z"
   },
   {
    "duration": 50,
    "start_time": "2021-07-07T18:15:42.239Z"
   },
   {
    "duration": 5,
    "start_time": "2021-07-07T18:15:42.291Z"
   },
   {
    "duration": 48,
    "start_time": "2021-07-07T18:15:42.297Z"
   },
   {
    "duration": 8,
    "start_time": "2021-07-07T18:15:42.346Z"
   },
   {
    "duration": 17,
    "start_time": "2021-07-07T18:15:42.356Z"
   },
   {
    "duration": 15,
    "start_time": "2021-07-07T18:15:42.375Z"
   },
   {
    "duration": 12,
    "start_time": "2021-07-07T18:15:42.392Z"
   },
   {
    "duration": 7,
    "start_time": "2021-07-07T18:15:42.406Z"
   },
   {
    "duration": 7,
    "start_time": "2021-07-07T18:15:42.415Z"
   },
   {
    "duration": 29,
    "start_time": "2021-07-07T18:15:42.423Z"
   },
   {
    "duration": 43,
    "start_time": "2021-07-07T18:15:42.453Z"
   },
   {
    "duration": 18,
    "start_time": "2021-07-07T18:15:42.497Z"
   },
   {
    "duration": 6,
    "start_time": "2021-07-07T18:15:42.516Z"
   },
   {
    "duration": 3,
    "start_time": "2021-07-07T18:15:42.523Z"
   },
   {
    "duration": 18,
    "start_time": "2021-07-07T18:15:42.528Z"
   },
   {
    "duration": 10,
    "start_time": "2021-07-07T18:15:42.547Z"
   },
   {
    "duration": 36,
    "start_time": "2021-07-07T18:15:42.559Z"
   },
   {
    "duration": 8,
    "start_time": "2021-07-07T18:15:42.597Z"
   },
   {
    "duration": 28,
    "start_time": "2021-07-07T18:15:42.606Z"
   },
   {
    "duration": 52,
    "start_time": "2021-07-07T18:15:42.635Z"
   },
   {
    "duration": 7,
    "start_time": "2021-07-07T18:15:42.690Z"
   },
   {
    "duration": 10,
    "start_time": "2021-07-07T18:15:42.699Z"
   },
   {
    "duration": 19,
    "start_time": "2021-07-07T18:15:42.711Z"
   },
   {
    "duration": 9,
    "start_time": "2021-07-07T18:15:42.732Z"
   },
   {
    "duration": 5,
    "start_time": "2021-07-07T18:15:42.743Z"
   },
   {
    "duration": 1450,
    "start_time": "2021-07-07T18:15:51.984Z"
   },
   {
    "duration": 161,
    "start_time": "2021-07-07T18:15:53.435Z"
   },
   {
    "duration": 124,
    "start_time": "2021-07-07T18:15:53.598Z"
   },
   {
    "duration": 5,
    "start_time": "2021-07-07T18:15:53.724Z"
   },
   {
    "duration": 34,
    "start_time": "2021-07-07T18:15:53.730Z"
   },
   {
    "duration": 7,
    "start_time": "2021-07-07T18:15:53.765Z"
   },
   {
    "duration": 15,
    "start_time": "2021-07-07T18:15:53.773Z"
   },
   {
    "duration": 5,
    "start_time": "2021-07-07T18:15:53.791Z"
   },
   {
    "duration": 19,
    "start_time": "2021-07-07T18:15:53.798Z"
   },
   {
    "duration": 9,
    "start_time": "2021-07-07T18:15:53.818Z"
   },
   {
    "duration": 19,
    "start_time": "2021-07-07T18:15:53.828Z"
   },
   {
    "duration": 27,
    "start_time": "2021-07-07T18:15:53.848Z"
   },
   {
    "duration": 16,
    "start_time": "2021-07-07T18:15:53.884Z"
   },
   {
    "duration": 29,
    "start_time": "2021-07-07T18:15:53.901Z"
   },
   {
    "duration": 5,
    "start_time": "2021-07-07T18:15:53.932Z"
   },
   {
    "duration": 15,
    "start_time": "2021-07-07T18:15:53.939Z"
   },
   {
    "duration": 13,
    "start_time": "2021-07-07T18:15:53.956Z"
   },
   {
    "duration": 20,
    "start_time": "2021-07-07T18:15:53.971Z"
   },
   {
    "duration": 14,
    "start_time": "2021-07-07T18:15:53.992Z"
   },
   {
    "duration": 9,
    "start_time": "2021-07-07T18:15:54.009Z"
   },
   {
    "duration": 28,
    "start_time": "2021-07-07T18:15:54.020Z"
   },
   {
    "duration": 50,
    "start_time": "2021-07-07T18:15:54.051Z"
   },
   {
    "duration": 8,
    "start_time": "2021-07-07T18:15:54.105Z"
   },
   {
    "duration": 11,
    "start_time": "2021-07-07T18:15:54.115Z"
   },
   {
    "duration": 20,
    "start_time": "2021-07-07T18:15:54.128Z"
   },
   {
    "duration": 13,
    "start_time": "2021-07-07T18:15:54.184Z"
   },
   {
    "duration": 7,
    "start_time": "2021-07-07T18:15:54.199Z"
   },
   {
    "duration": 7,
    "start_time": "2021-07-07T18:17:08.042Z"
   },
   {
    "duration": 8,
    "start_time": "2021-07-07T18:17:21.008Z"
   },
   {
    "duration": 7,
    "start_time": "2021-07-07T18:17:29.003Z"
   },
   {
    "duration": 8,
    "start_time": "2021-07-07T18:17:32.492Z"
   },
   {
    "duration": 9,
    "start_time": "2021-07-07T18:17:41.758Z"
   },
   {
    "duration": 255,
    "start_time": "2021-07-07T18:20:20.897Z"
   },
   {
    "duration": 173,
    "start_time": "2021-07-07T18:20:26.636Z"
   },
   {
    "duration": 7,
    "start_time": "2021-07-07T18:21:47.164Z"
   },
   {
    "duration": 254,
    "start_time": "2021-07-07T18:23:08.703Z"
   },
   {
    "duration": 21,
    "start_time": "2021-07-07T18:23:22.506Z"
   },
   {
    "duration": 315,
    "start_time": "2021-07-07T18:25:54.801Z"
   },
   {
    "duration": 34,
    "start_time": "2021-07-07T18:26:51.817Z"
   },
   {
    "duration": 327,
    "start_time": "2021-07-07T18:26:56.147Z"
   },
   {
    "duration": 342,
    "start_time": "2021-07-07T18:27:15.887Z"
   },
   {
    "duration": 302,
    "start_time": "2021-07-07T18:28:18.569Z"
   },
   {
    "duration": 226,
    "start_time": "2021-07-07T18:29:20.879Z"
   },
   {
    "duration": 207,
    "start_time": "2021-07-07T18:29:58.114Z"
   },
   {
    "duration": 140,
    "start_time": "2021-07-07T18:32:04.372Z"
   },
   {
    "duration": 158,
    "start_time": "2021-07-07T18:32:32.508Z"
   },
   {
    "duration": 145,
    "start_time": "2021-07-07T18:32:41.365Z"
   },
   {
    "duration": 132,
    "start_time": "2021-07-07T18:32:45.199Z"
   },
   {
    "duration": 11,
    "start_time": "2021-07-07T18:35:24.679Z"
   },
   {
    "duration": 268,
    "start_time": "2021-07-07T18:36:16.145Z"
   },
   {
    "duration": 227,
    "start_time": "2021-07-07T18:37:04.918Z"
   },
   {
    "duration": 3,
    "start_time": "2021-07-07T18:37:33.012Z"
   },
   {
    "duration": 671,
    "start_time": "2021-07-07T18:37:38.295Z"
   },
   {
    "duration": 54,
    "start_time": "2021-07-07T18:37:53.406Z"
   },
   {
    "duration": 631,
    "start_time": "2021-07-07T18:37:56.463Z"
   },
   {
    "duration": 19,
    "start_time": "2021-07-07T18:39:40.535Z"
   },
   {
    "duration": 20,
    "start_time": "2021-07-07T18:40:12.236Z"
   },
   {
    "duration": 633,
    "start_time": "2021-07-07T18:42:00.398Z"
   },
   {
    "duration": 218,
    "start_time": "2021-07-07T18:42:01.033Z"
   },
   {
    "duration": 49,
    "start_time": "2021-07-07T18:42:01.253Z"
   },
   {
    "duration": 5,
    "start_time": "2021-07-07T18:42:01.303Z"
   },
   {
    "duration": 27,
    "start_time": "2021-07-07T18:42:01.310Z"
   },
   {
    "duration": 8,
    "start_time": "2021-07-07T18:42:01.339Z"
   },
   {
    "duration": 20,
    "start_time": "2021-07-07T18:42:01.348Z"
   },
   {
    "duration": 6,
    "start_time": "2021-07-07T18:42:01.386Z"
   },
   {
    "duration": 16,
    "start_time": "2021-07-07T18:42:01.394Z"
   },
   {
    "duration": 9,
    "start_time": "2021-07-07T18:42:01.411Z"
   },
   {
    "duration": 11,
    "start_time": "2021-07-07T18:42:01.421Z"
   },
   {
    "duration": 31,
    "start_time": "2021-07-07T18:42:01.434Z"
   },
   {
    "duration": 18,
    "start_time": "2021-07-07T18:42:01.485Z"
   },
   {
    "duration": 23,
    "start_time": "2021-07-07T18:42:01.505Z"
   },
   {
    "duration": 6,
    "start_time": "2021-07-07T18:42:01.530Z"
   },
   {
    "duration": 10,
    "start_time": "2021-07-07T18:42:01.538Z"
   },
   {
    "duration": 13,
    "start_time": "2021-07-07T18:42:01.550Z"
   },
   {
    "duration": 24,
    "start_time": "2021-07-07T18:42:01.564Z"
   },
   {
    "duration": 20,
    "start_time": "2021-07-07T18:42:01.590Z"
   },
   {
    "duration": 8,
    "start_time": "2021-07-07T18:42:01.611Z"
   },
   {
    "duration": 31,
    "start_time": "2021-07-07T18:42:01.620Z"
   },
   {
    "duration": 39,
    "start_time": "2021-07-07T18:42:01.653Z"
   },
   {
    "duration": 8,
    "start_time": "2021-07-07T18:42:01.696Z"
   },
   {
    "duration": 13,
    "start_time": "2021-07-07T18:42:01.705Z"
   },
   {
    "duration": 20,
    "start_time": "2021-07-07T18:42:01.720Z"
   },
   {
    "duration": 12,
    "start_time": "2021-07-07T18:42:01.741Z"
   },
   {
    "duration": 35,
    "start_time": "2021-07-07T18:42:01.755Z"
   },
   {
    "duration": 14,
    "start_time": "2021-07-07T18:42:01.792Z"
   },
   {
    "duration": 188,
    "start_time": "2021-07-07T18:42:01.808Z"
   },
   {
    "duration": 19,
    "start_time": "2021-07-07T18:42:01.998Z"
   },
   {
    "duration": 175,
    "start_time": "2021-07-07T18:42:02.019Z"
   },
   {
    "duration": 134,
    "start_time": "2021-07-07T18:42:02.196Z"
   },
   {
    "duration": 10,
    "start_time": "2021-07-07T18:42:02.331Z"
   },
   {
    "duration": 19,
    "start_time": "2021-07-07T18:42:02.343Z"
   },
   {
    "duration": 628,
    "start_time": "2021-07-07T18:46:30.701Z"
   },
   {
    "duration": 183,
    "start_time": "2021-07-07T18:46:31.331Z"
   },
   {
    "duration": 48,
    "start_time": "2021-07-07T18:46:31.516Z"
   },
   {
    "duration": 5,
    "start_time": "2021-07-07T18:46:31.566Z"
   },
   {
    "duration": 28,
    "start_time": "2021-07-07T18:46:31.572Z"
   },
   {
    "duration": 8,
    "start_time": "2021-07-07T18:46:31.602Z"
   },
   {
    "duration": 19,
    "start_time": "2021-07-07T18:46:31.611Z"
   },
   {
    "duration": 6,
    "start_time": "2021-07-07T18:46:31.633Z"
   },
   {
    "duration": 17,
    "start_time": "2021-07-07T18:46:31.642Z"
   },
   {
    "duration": 10,
    "start_time": "2021-07-07T18:46:31.684Z"
   },
   {
    "duration": 9,
    "start_time": "2021-07-07T18:46:31.695Z"
   },
   {
    "duration": 28,
    "start_time": "2021-07-07T18:46:31.705Z"
   },
   {
    "duration": 18,
    "start_time": "2021-07-07T18:46:31.735Z"
   },
   {
    "duration": 48,
    "start_time": "2021-07-07T18:46:31.755Z"
   },
   {
    "duration": 6,
    "start_time": "2021-07-07T18:46:31.804Z"
   },
   {
    "duration": 4,
    "start_time": "2021-07-07T18:46:31.812Z"
   },
   {
    "duration": 9,
    "start_time": "2021-07-07T18:46:31.817Z"
   },
   {
    "duration": 10,
    "start_time": "2021-07-07T18:46:31.827Z"
   },
   {
    "duration": 12,
    "start_time": "2021-07-07T18:46:31.838Z"
   },
   {
    "duration": 39,
    "start_time": "2021-07-07T18:46:31.851Z"
   },
   {
    "duration": 24,
    "start_time": "2021-07-07T18:46:31.892Z"
   },
   {
    "duration": 15,
    "start_time": "2021-07-07T18:46:31.918Z"
   },
   {
    "duration": 7,
    "start_time": "2021-07-07T18:46:31.936Z"
   },
   {
    "duration": 8,
    "start_time": "2021-07-07T18:46:31.944Z"
   },
   {
    "duration": 19,
    "start_time": "2021-07-07T18:46:31.984Z"
   },
   {
    "duration": 10,
    "start_time": "2021-07-07T18:46:32.004Z"
   },
   {
    "duration": 5,
    "start_time": "2021-07-07T18:46:32.016Z"
   },
   {
    "duration": 9,
    "start_time": "2021-07-07T18:46:32.023Z"
   },
   {
    "duration": 199,
    "start_time": "2021-07-07T18:46:32.033Z"
   },
   {
    "duration": 19,
    "start_time": "2021-07-07T18:46:32.234Z"
   },
   {
    "duration": 159,
    "start_time": "2021-07-07T18:46:32.255Z"
   },
   {
    "duration": 134,
    "start_time": "2021-07-07T18:46:32.416Z"
   },
   {
    "duration": 10,
    "start_time": "2021-07-07T18:46:32.552Z"
   },
   {
    "duration": 34,
    "start_time": "2021-07-07T18:46:32.563Z"
   },
   {
    "duration": 1039,
    "start_time": "2021-07-08T08:41:09.419Z"
   },
   {
    "duration": 333,
    "start_time": "2021-07-08T08:41:10.459Z"
   },
   {
    "duration": 173,
    "start_time": "2021-07-08T08:41:10.794Z"
   },
   {
    "duration": 5,
    "start_time": "2021-07-08T08:41:10.968Z"
   },
   {
    "duration": 25,
    "start_time": "2021-07-08T08:41:10.975Z"
   },
   {
    "duration": 9,
    "start_time": "2021-07-08T08:41:11.002Z"
   },
   {
    "duration": 18,
    "start_time": "2021-07-08T08:41:11.013Z"
   },
   {
    "duration": 6,
    "start_time": "2021-07-08T08:41:11.033Z"
   },
   {
    "duration": 44,
    "start_time": "2021-07-08T08:41:11.042Z"
   },
   {
    "duration": 10,
    "start_time": "2021-07-08T08:41:11.088Z"
   },
   {
    "duration": 9,
    "start_time": "2021-07-08T08:41:11.100Z"
   },
   {
    "duration": 27,
    "start_time": "2021-07-08T08:41:11.111Z"
   },
   {
    "duration": 46,
    "start_time": "2021-07-08T08:41:11.140Z"
   },
   {
    "duration": 17,
    "start_time": "2021-07-08T08:41:11.187Z"
   },
   {
    "duration": 6,
    "start_time": "2021-07-08T08:41:11.206Z"
   },
   {
    "duration": 5,
    "start_time": "2021-07-08T08:41:11.213Z"
   },
   {
    "duration": 10,
    "start_time": "2021-07-08T08:41:11.219Z"
   },
   {
    "duration": 9,
    "start_time": "2021-07-08T08:41:11.230Z"
   },
   {
    "duration": 45,
    "start_time": "2021-07-08T08:41:11.241Z"
   },
   {
    "duration": 7,
    "start_time": "2021-07-08T08:41:11.287Z"
   },
   {
    "duration": 24,
    "start_time": "2021-07-08T08:41:11.296Z"
   },
   {
    "duration": 16,
    "start_time": "2021-07-08T08:41:11.322Z"
   },
   {
    "duration": 7,
    "start_time": "2021-07-08T08:41:11.341Z"
   },
   {
    "duration": 41,
    "start_time": "2021-07-08T08:41:11.349Z"
   },
   {
    "duration": 17,
    "start_time": "2021-07-08T08:41:11.391Z"
   },
   {
    "duration": 9,
    "start_time": "2021-07-08T08:41:11.410Z"
   },
   {
    "duration": 5,
    "start_time": "2021-07-08T08:41:11.421Z"
   },
   {
    "duration": 6,
    "start_time": "2021-07-08T08:41:11.428Z"
   },
   {
    "duration": 198,
    "start_time": "2021-07-08T08:41:11.435Z"
   },
   {
    "duration": 18,
    "start_time": "2021-07-08T08:41:11.635Z"
   },
   {
    "duration": 155,
    "start_time": "2021-07-08T08:41:11.655Z"
   },
   {
    "duration": 138,
    "start_time": "2021-07-08T08:41:11.811Z"
   },
   {
    "duration": 10,
    "start_time": "2021-07-08T08:41:11.950Z"
   },
   {
    "duration": 29,
    "start_time": "2021-07-08T08:41:11.961Z"
   },
   {
    "duration": 171,
    "start_time": "2021-07-08T08:47:44.522Z"
   },
   {
    "duration": 124,
    "start_time": "2021-07-08T08:47:46.872Z"
   },
   {
    "duration": 191,
    "start_time": "2021-07-08T08:47:58.148Z"
   },
   {
    "duration": 191,
    "start_time": "2021-07-08T08:48:07.412Z"
   },
   {
    "duration": 261,
    "start_time": "2021-07-08T08:48:10.385Z"
   },
   {
    "duration": 255,
    "start_time": "2021-07-08T08:48:14.494Z"
   },
   {
    "duration": 219,
    "start_time": "2021-07-08T08:48:22.752Z"
   },
   {
    "duration": 173,
    "start_time": "2021-07-08T08:49:06.395Z"
   },
   {
    "duration": 180,
    "start_time": "2021-07-08T08:49:21.011Z"
   },
   {
    "duration": 6,
    "start_time": "2021-07-08T08:50:31.697Z"
   },
   {
    "duration": 10,
    "start_time": "2021-07-08T08:50:47.394Z"
   },
   {
    "duration": 11,
    "start_time": "2021-07-08T08:53:49.332Z"
   },
   {
    "duration": 171,
    "start_time": "2021-07-08T08:54:28.408Z"
   },
   {
    "duration": 636,
    "start_time": "2021-07-08T09:02:48.385Z"
   },
   {
    "duration": 227,
    "start_time": "2021-07-08T09:02:49.023Z"
   },
   {
    "duration": 104,
    "start_time": "2021-07-08T09:02:49.252Z"
   },
   {
    "duration": 5,
    "start_time": "2021-07-08T09:02:49.358Z"
   },
   {
    "duration": 27,
    "start_time": "2021-07-08T09:02:49.365Z"
   },
   {
    "duration": 8,
    "start_time": "2021-07-08T09:02:49.394Z"
   },
   {
    "duration": 18,
    "start_time": "2021-07-08T09:02:49.404Z"
   },
   {
    "duration": 6,
    "start_time": "2021-07-08T09:02:49.424Z"
   },
   {
    "duration": 11,
    "start_time": "2021-07-08T09:02:49.433Z"
   },
   {
    "duration": 13,
    "start_time": "2021-07-08T09:02:49.485Z"
   },
   {
    "duration": 9,
    "start_time": "2021-07-08T09:02:49.500Z"
   },
   {
    "duration": 38,
    "start_time": "2021-07-08T09:02:49.511Z"
   },
   {
    "duration": 42,
    "start_time": "2021-07-08T09:02:49.551Z"
   },
   {
    "duration": 21,
    "start_time": "2021-07-08T09:02:49.594Z"
   },
   {
    "duration": 6,
    "start_time": "2021-07-08T09:02:49.616Z"
   },
   {
    "duration": 3,
    "start_time": "2021-07-08T09:02:49.623Z"
   },
   {
    "duration": 9,
    "start_time": "2021-07-08T09:02:49.628Z"
   },
   {
    "duration": 52,
    "start_time": "2021-07-08T09:02:49.638Z"
   },
   {
    "duration": 11,
    "start_time": "2021-07-08T09:02:49.692Z"
   },
   {
    "duration": 8,
    "start_time": "2021-07-08T09:02:49.704Z"
   },
   {
    "duration": 27,
    "start_time": "2021-07-08T09:02:49.713Z"
   },
   {
    "duration": 59,
    "start_time": "2021-07-08T09:02:49.741Z"
   },
   {
    "duration": 8,
    "start_time": "2021-07-08T09:02:49.803Z"
   },
   {
    "duration": 14,
    "start_time": "2021-07-08T09:02:49.813Z"
   },
   {
    "duration": 20,
    "start_time": "2021-07-08T09:02:49.829Z"
   },
   {
    "duration": 44,
    "start_time": "2021-07-08T09:02:49.851Z"
   },
   {
    "duration": 14,
    "start_time": "2021-07-08T09:02:49.896Z"
   },
   {
    "duration": 221,
    "start_time": "2021-07-08T09:02:49.912Z"
   },
   {
    "duration": 6,
    "start_time": "2021-07-08T09:02:50.134Z"
   },
   {
    "duration": 206,
    "start_time": "2021-07-08T09:02:50.142Z"
   },
   {
    "duration": 19,
    "start_time": "2021-07-08T09:02:50.350Z"
   },
   {
    "duration": 21,
    "start_time": "2021-07-08T09:02:50.370Z"
   },
   {
    "duration": 20,
    "start_time": "2021-07-08T09:02:50.393Z"
   },
   {
    "duration": 5,
    "start_time": "2021-07-08T09:02:50.414Z"
   },
   {
    "duration": 5,
    "start_time": "2021-07-08T09:03:34.173Z"
   },
   {
    "duration": 6,
    "start_time": "2021-07-08T09:04:49.062Z"
   },
   {
    "duration": 9,
    "start_time": "2021-07-08T09:04:50.118Z"
   },
   {
    "duration": 14,
    "start_time": "2021-07-08T09:04:58.512Z"
   },
   {
    "duration": 9,
    "start_time": "2021-07-08T09:05:10.988Z"
   },
   {
    "duration": 11,
    "start_time": "2021-07-08T09:05:11.743Z"
   },
   {
    "duration": 7,
    "start_time": "2021-07-08T09:05:25.677Z"
   },
   {
    "duration": 13,
    "start_time": "2021-07-08T09:05:47.189Z"
   },
   {
    "duration": 13,
    "start_time": "2021-07-08T09:05:54.755Z"
   },
   {
    "duration": 4,
    "start_time": "2021-07-08T09:06:29.189Z"
   },
   {
    "duration": 244,
    "start_time": "2021-07-08T09:06:29.195Z"
   },
   {
    "duration": 91,
    "start_time": "2021-07-08T09:06:29.441Z"
   },
   {
    "duration": 4,
    "start_time": "2021-07-08T09:06:29.534Z"
   },
   {
    "duration": 28,
    "start_time": "2021-07-08T09:06:29.540Z"
   },
   {
    "duration": 6,
    "start_time": "2021-07-08T09:06:29.570Z"
   },
   {
    "duration": 18,
    "start_time": "2021-07-08T09:06:29.578Z"
   },
   {
    "duration": 5,
    "start_time": "2021-07-08T09:06:29.597Z"
   },
   {
    "duration": 13,
    "start_time": "2021-07-08T09:06:29.605Z"
   },
   {
    "duration": 8,
    "start_time": "2021-07-08T09:06:29.620Z"
   },
   {
    "duration": 7,
    "start_time": "2021-07-08T09:06:29.630Z"
   },
   {
    "duration": 63,
    "start_time": "2021-07-08T09:06:29.639Z"
   },
   {
    "duration": 17,
    "start_time": "2021-07-08T09:06:29.704Z"
   },
   {
    "duration": 20,
    "start_time": "2021-07-08T09:06:29.723Z"
   },
   {
    "duration": 6,
    "start_time": "2021-07-08T09:06:29.745Z"
   },
   {
    "duration": 3,
    "start_time": "2021-07-08T09:06:29.752Z"
   },
   {
    "duration": 7,
    "start_time": "2021-07-08T09:06:29.785Z"
   },
   {
    "duration": 11,
    "start_time": "2021-07-08T09:06:29.794Z"
   },
   {
    "duration": 15,
    "start_time": "2021-07-08T09:06:29.807Z"
   },
   {
    "duration": 8,
    "start_time": "2021-07-08T09:06:29.823Z"
   },
   {
    "duration": 70,
    "start_time": "2021-07-08T09:06:29.832Z"
   },
   {
    "duration": 17,
    "start_time": "2021-07-08T09:06:29.903Z"
   },
   {
    "duration": 9,
    "start_time": "2021-07-08T09:06:29.921Z"
   },
   {
    "duration": 9,
    "start_time": "2021-07-08T09:06:29.932Z"
   },
   {
    "duration": 57,
    "start_time": "2021-07-08T09:06:29.942Z"
   },
   {
    "duration": 11,
    "start_time": "2021-07-08T09:06:30.001Z"
   },
   {
    "duration": 19,
    "start_time": "2021-07-08T09:06:30.016Z"
   },
   {
    "duration": 217,
    "start_time": "2021-07-08T09:06:30.037Z"
   },
   {
    "duration": 6,
    "start_time": "2021-07-08T09:06:30.255Z"
   },
   {
    "duration": 205,
    "start_time": "2021-07-08T09:06:30.263Z"
   },
   {
    "duration": 27,
    "start_time": "2021-07-08T09:06:30.470Z"
   },
   {
    "duration": 11,
    "start_time": "2021-07-08T09:06:30.500Z"
   },
   {
    "duration": 31,
    "start_time": "2021-07-08T09:06:30.513Z"
   },
   {
    "duration": 18,
    "start_time": "2021-07-08T09:06:30.546Z"
   },
   {
    "duration": 11,
    "start_time": "2021-07-08T09:06:30.566Z"
   },
   {
    "duration": 19,
    "start_time": "2021-07-08T09:06:30.579Z"
   },
   {
    "duration": 20,
    "start_time": "2021-07-08T09:06:49.466Z"
   },
   {
    "duration": 9,
    "start_time": "2021-07-08T09:06:51.994Z"
   },
   {
    "duration": 20,
    "start_time": "2021-07-08T09:06:52.273Z"
   },
   {
    "duration": 246,
    "start_time": "2021-07-08T09:10:21.272Z"
   },
   {
    "duration": 84,
    "start_time": "2021-07-08T09:10:21.436Z"
   },
   {
    "duration": 7,
    "start_time": "2021-07-08T09:10:37.608Z"
   },
   {
    "duration": 189,
    "start_time": "2021-07-08T09:10:38.573Z"
   },
   {
    "duration": 185,
    "start_time": "2021-07-08T09:10:53.181Z"
   },
   {
    "duration": 11,
    "start_time": "2021-07-08T09:10:59.549Z"
   },
   {
    "duration": 42,
    "start_time": "2021-07-08T09:10:59.709Z"
   },
   {
    "duration": 12,
    "start_time": "2021-07-08T09:11:02.857Z"
   },
   {
    "duration": 28,
    "start_time": "2021-07-08T09:11:10.062Z"
   },
   {
    "duration": 249,
    "start_time": "2021-07-08T09:11:37.388Z"
   },
   {
    "duration": 232,
    "start_time": "2021-07-08T09:11:49.485Z"
   },
   {
    "duration": 453,
    "start_time": "2021-07-08T09:12:01.546Z"
   },
   {
    "duration": 440,
    "start_time": "2021-07-08T09:12:12.347Z"
   },
   {
    "duration": 213,
    "start_time": "2021-07-08T09:13:32.196Z"
   },
   {
    "duration": 172,
    "start_time": "2021-07-08T09:14:07.400Z"
   },
   {
    "duration": 185,
    "start_time": "2021-07-08T09:14:14.905Z"
   },
   {
    "duration": 209,
    "start_time": "2021-07-08T09:14:40.109Z"
   },
   {
    "duration": 201,
    "start_time": "2021-07-08T09:14:54.506Z"
   },
   {
    "duration": 622,
    "start_time": "2021-07-08T09:18:14.497Z"
   },
   {
    "duration": 220,
    "start_time": "2021-07-08T09:18:15.121Z"
   },
   {
    "duration": 79,
    "start_time": "2021-07-08T09:18:15.343Z"
   },
   {
    "duration": 4,
    "start_time": "2021-07-08T09:18:15.425Z"
   },
   {
    "duration": 24,
    "start_time": "2021-07-08T09:18:15.431Z"
   },
   {
    "duration": 8,
    "start_time": "2021-07-08T09:18:15.457Z"
   },
   {
    "duration": 16,
    "start_time": "2021-07-08T09:18:15.466Z"
   },
   {
    "duration": 5,
    "start_time": "2021-07-08T09:18:15.484Z"
   },
   {
    "duration": 10,
    "start_time": "2021-07-08T09:18:15.493Z"
   },
   {
    "duration": 8,
    "start_time": "2021-07-08T09:18:15.504Z"
   },
   {
    "duration": 7,
    "start_time": "2021-07-08T09:18:15.513Z"
   },
   {
    "duration": 26,
    "start_time": "2021-07-08T09:18:15.522Z"
   },
   {
    "duration": 49,
    "start_time": "2021-07-08T09:18:15.550Z"
   },
   {
    "duration": 21,
    "start_time": "2021-07-08T09:18:15.601Z"
   },
   {
    "duration": 8,
    "start_time": "2021-07-08T09:18:15.624Z"
   },
   {
    "duration": 3,
    "start_time": "2021-07-08T09:18:15.634Z"
   },
   {
    "duration": 8,
    "start_time": "2021-07-08T09:18:15.639Z"
   },
   {
    "duration": 45,
    "start_time": "2021-07-08T09:18:15.649Z"
   },
   {
    "duration": 13,
    "start_time": "2021-07-08T09:18:15.696Z"
   },
   {
    "duration": 10,
    "start_time": "2021-07-08T09:18:15.711Z"
   },
   {
    "duration": 64,
    "start_time": "2021-07-08T09:18:15.722Z"
   },
   {
    "duration": 19,
    "start_time": "2021-07-08T09:18:15.788Z"
   },
   {
    "duration": 9,
    "start_time": "2021-07-08T09:18:15.809Z"
   },
   {
    "duration": 9,
    "start_time": "2021-07-08T09:18:15.820Z"
   },
   {
    "duration": 18,
    "start_time": "2021-07-08T09:18:15.831Z"
   },
   {
    "duration": 43,
    "start_time": "2021-07-08T09:18:15.851Z"
   },
   {
    "duration": 12,
    "start_time": "2021-07-08T09:18:15.897Z"
   },
   {
    "duration": 219,
    "start_time": "2021-07-08T09:18:15.911Z"
   },
   {
    "duration": 8,
    "start_time": "2021-07-08T09:18:16.132Z"
   },
   {
    "duration": 199,
    "start_time": "2021-07-08T09:18:16.141Z"
   },
   {
    "duration": 18,
    "start_time": "2021-07-08T09:18:16.341Z"
   },
   {
    "duration": 24,
    "start_time": "2021-07-08T09:18:16.361Z"
   },
   {
    "duration": 24,
    "start_time": "2021-07-08T09:18:16.387Z"
   },
   {
    "duration": 211,
    "start_time": "2021-07-08T09:18:16.413Z"
   },
   {
    "duration": 18,
    "start_time": "2021-07-08T09:18:16.626Z"
   },
   {
    "duration": 596,
    "start_time": "2021-07-08T10:06:33.623Z"
   },
   {
    "duration": 181,
    "start_time": "2021-07-08T10:06:34.221Z"
   },
   {
    "duration": 176,
    "start_time": "2021-07-08T10:06:34.635Z"
   },
   {
    "duration": 239,
    "start_time": "2021-07-08T10:06:55.572Z"
   },
   {
    "duration": 6,
    "start_time": "2021-07-08T10:06:57.687Z"
   },
   {
    "duration": 4,
    "start_time": "2021-07-08T10:07:03.956Z"
   },
   {
    "duration": 4,
    "start_time": "2021-07-08T10:07:10.376Z"
   },
   {
    "duration": 4,
    "start_time": "2021-07-08T10:17:19.889Z"
   },
   {
    "duration": 3,
    "start_time": "2021-07-08T10:19:19.407Z"
   },
   {
    "duration": 197,
    "start_time": "2021-07-08T10:19:19.412Z"
   },
   {
    "duration": 127,
    "start_time": "2021-07-08T10:19:19.611Z"
   },
   {
    "duration": 4,
    "start_time": "2021-07-08T10:19:19.740Z"
   },
   {
    "duration": 27,
    "start_time": "2021-07-08T10:19:19.746Z"
   },
   {
    "duration": 7,
    "start_time": "2021-07-08T10:19:19.775Z"
   },
   {
    "duration": 30,
    "start_time": "2021-07-08T10:19:19.784Z"
   },
   {
    "duration": 7,
    "start_time": "2021-07-08T10:19:19.817Z"
   },
   {
    "duration": 26,
    "start_time": "2021-07-08T10:19:19.826Z"
   },
   {
    "duration": 18,
    "start_time": "2021-07-08T10:19:19.854Z"
   },
   {
    "duration": 14,
    "start_time": "2021-07-08T10:19:19.874Z"
   },
   {
    "duration": 48,
    "start_time": "2021-07-08T10:19:19.890Z"
   },
   {
    "duration": 17,
    "start_time": "2021-07-08T10:19:19.940Z"
   },
   {
    "duration": 38,
    "start_time": "2021-07-08T10:19:19.959Z"
   },
   {
    "duration": 8,
    "start_time": "2021-07-08T10:19:19.999Z"
   },
   {
    "duration": 15,
    "start_time": "2021-07-08T10:19:20.009Z"
   },
   {
    "duration": 22,
    "start_time": "2021-07-08T10:19:20.026Z"
   },
   {
    "duration": 10,
    "start_time": "2021-07-08T10:19:20.050Z"
   },
   {
    "duration": 10,
    "start_time": "2021-07-08T10:19:20.062Z"
   },
   {
    "duration": 20,
    "start_time": "2021-07-08T10:19:20.073Z"
   },
   {
    "duration": 29,
    "start_time": "2021-07-08T10:19:20.095Z"
   },
   {
    "duration": 17,
    "start_time": "2021-07-08T10:19:20.126Z"
   },
   {
    "duration": 40,
    "start_time": "2021-07-08T10:19:20.146Z"
   },
   {
    "duration": 15,
    "start_time": "2021-07-08T10:19:20.189Z"
   },
   {
    "duration": 19,
    "start_time": "2021-07-08T10:19:20.206Z"
   },
   {
    "duration": 10,
    "start_time": "2021-07-08T10:19:20.226Z"
   },
   {
    "duration": 11,
    "start_time": "2021-07-08T10:19:20.238Z"
   },
   {
    "duration": 297,
    "start_time": "2021-07-08T10:19:20.250Z"
   },
   {
    "duration": 6,
    "start_time": "2021-07-08T10:19:20.549Z"
   },
   {
    "duration": 191,
    "start_time": "2021-07-08T10:19:20.557Z"
   },
   {
    "duration": 19,
    "start_time": "2021-07-08T10:19:20.750Z"
   },
   {
    "duration": 20,
    "start_time": "2021-07-08T10:19:20.771Z"
   },
   {
    "duration": 15,
    "start_time": "2021-07-08T10:19:20.793Z"
   },
   {
    "duration": 222,
    "start_time": "2021-07-08T10:19:20.809Z"
   },
   {
    "duration": 20,
    "start_time": "2021-07-08T10:19:21.033Z"
   },
   {
    "duration": 27,
    "start_time": "2021-07-08T10:45:04.055Z"
   },
   {
    "duration": 8,
    "start_time": "2021-07-08T10:45:08.478Z"
   },
   {
    "duration": 8,
    "start_time": "2021-07-08T10:45:31.982Z"
   },
   {
    "duration": 10,
    "start_time": "2021-07-08T10:46:01.221Z"
   },
   {
    "duration": 17,
    "start_time": "2021-07-08T10:46:40.011Z"
   },
   {
    "duration": 193,
    "start_time": "2021-07-08T10:48:19.471Z"
   },
   {
    "duration": 225,
    "start_time": "2021-07-08T10:49:26.480Z"
   },
   {
    "duration": 204,
    "start_time": "2021-07-08T10:49:59.992Z"
   },
   {
    "duration": 435,
    "start_time": "2021-07-08T10:50:06.779Z"
   },
   {
    "duration": 199,
    "start_time": "2021-07-08T10:50:14.891Z"
   },
   {
    "duration": 204,
    "start_time": "2021-07-08T10:50:18.501Z"
   },
   {
    "duration": 244,
    "start_time": "2021-07-08T10:50:23.359Z"
   },
   {
    "duration": 192,
    "start_time": "2021-07-08T10:50:29.135Z"
   },
   {
    "duration": 218,
    "start_time": "2021-07-08T10:50:33.092Z"
   },
   {
    "duration": 207,
    "start_time": "2021-07-08T10:52:45.381Z"
   },
   {
    "duration": 5,
    "start_time": "2021-07-08T10:53:34.641Z"
   },
   {
    "duration": 196,
    "start_time": "2021-07-08T10:53:41.478Z"
   },
   {
    "duration": 43,
    "start_time": "2021-07-08T10:53:50.335Z"
   },
   {
    "duration": 32,
    "start_time": "2021-07-08T10:53:55.294Z"
   },
   {
    "duration": 55,
    "start_time": "2021-07-08T10:54:09.675Z"
   },
   {
    "duration": 16,
    "start_time": "2021-07-08T10:54:12.260Z"
   },
   {
    "duration": 15,
    "start_time": "2021-07-08T10:54:49.150Z"
   },
   {
    "duration": 20,
    "start_time": "2021-07-08T10:56:07.596Z"
   },
   {
    "duration": 16,
    "start_time": "2021-07-08T10:58:26.276Z"
   },
   {
    "duration": 22,
    "start_time": "2021-07-08T10:59:00.486Z"
   },
   {
    "duration": 18,
    "start_time": "2021-07-08T11:02:09.653Z"
   },
   {
    "duration": 10,
    "start_time": "2021-07-08T11:03:44.331Z"
   },
   {
    "duration": 10,
    "start_time": "2021-07-08T11:03:54.055Z"
   },
   {
    "duration": 12,
    "start_time": "2021-07-08T11:04:41.967Z"
   },
   {
    "duration": 24,
    "start_time": "2021-07-08T11:07:30.732Z"
   },
   {
    "duration": 6,
    "start_time": "2021-07-08T11:07:37.364Z"
   },
   {
    "duration": 16,
    "start_time": "2021-07-08T11:08:01.819Z"
   },
   {
    "duration": 17,
    "start_time": "2021-07-08T11:09:47.488Z"
   },
   {
    "duration": 246,
    "start_time": "2021-07-08T11:10:00.830Z"
   },
   {
    "duration": 18,
    "start_time": "2021-07-08T11:13:55.195Z"
   },
   {
    "duration": 204,
    "start_time": "2021-07-08T11:14:04.951Z"
   },
   {
    "duration": 19,
    "start_time": "2021-07-08T11:15:10.613Z"
   },
   {
    "duration": 680,
    "start_time": "2021-07-08T11:16:25.793Z"
   },
   {
    "duration": 451,
    "start_time": "2021-07-08T11:16:40.313Z"
   },
   {
    "duration": 469,
    "start_time": "2021-07-08T11:17:21.286Z"
   },
   {
    "duration": 20,
    "start_time": "2021-07-08T11:19:12.554Z"
   },
   {
    "duration": 35,
    "start_time": "2021-07-08T11:20:05.484Z"
   },
   {
    "duration": 53,
    "start_time": "2021-07-08T11:21:40.050Z"
   },
   {
    "duration": 13,
    "start_time": "2021-07-08T11:22:26.059Z"
   },
   {
    "duration": 19,
    "start_time": "2021-07-08T11:22:47.419Z"
   },
   {
    "duration": 25,
    "start_time": "2021-07-08T11:23:19.958Z"
   },
   {
    "duration": 29,
    "start_time": "2021-07-08T11:23:25.415Z"
   },
   {
    "duration": 10,
    "start_time": "2021-07-08T11:24:45.138Z"
   },
   {
    "duration": 19,
    "start_time": "2021-07-08T11:24:54.498Z"
   },
   {
    "duration": 12,
    "start_time": "2021-07-08T11:25:32.225Z"
   },
   {
    "duration": 19,
    "start_time": "2021-07-08T11:25:37.092Z"
   },
   {
    "duration": 17,
    "start_time": "2021-07-08T11:25:58.116Z"
   },
   {
    "duration": 15,
    "start_time": "2021-07-08T11:26:02.258Z"
   },
   {
    "duration": 8,
    "start_time": "2021-07-08T11:26:59.682Z"
   },
   {
    "duration": 184,
    "start_time": "2021-07-08T11:27:21.894Z"
   },
   {
    "duration": 8,
    "start_time": "2021-07-08T11:27:23.824Z"
   },
   {
    "duration": 202,
    "start_time": "2021-07-08T11:27:23.962Z"
   },
   {
    "duration": 360,
    "start_time": "2021-07-08T11:28:33.215Z"
   },
   {
    "duration": 231,
    "start_time": "2021-07-08T11:32:05.542Z"
   },
   {
    "duration": 607,
    "start_time": "2021-07-08T11:36:27.854Z"
   },
   {
    "duration": 241,
    "start_time": "2021-07-08T11:36:28.463Z"
   },
   {
    "duration": 67,
    "start_time": "2021-07-08T11:36:28.709Z"
   },
   {
    "duration": 5,
    "start_time": "2021-07-08T11:36:28.778Z"
   },
   {
    "duration": 32,
    "start_time": "2021-07-08T11:36:28.784Z"
   },
   {
    "duration": 11,
    "start_time": "2021-07-08T11:36:28.819Z"
   },
   {
    "duration": 20,
    "start_time": "2021-07-08T11:36:28.834Z"
   },
   {
    "duration": 36,
    "start_time": "2021-07-08T11:36:28.857Z"
   },
   {
    "duration": 16,
    "start_time": "2021-07-08T11:36:28.895Z"
   },
   {
    "duration": 14,
    "start_time": "2021-07-08T11:36:28.913Z"
   },
   {
    "duration": 9,
    "start_time": "2021-07-08T11:36:28.930Z"
   },
   {
    "duration": 55,
    "start_time": "2021-07-08T11:36:28.941Z"
   },
   {
    "duration": 27,
    "start_time": "2021-07-08T11:36:28.999Z"
   },
   {
    "duration": 30,
    "start_time": "2021-07-08T11:36:29.028Z"
   },
   {
    "duration": 31,
    "start_time": "2021-07-08T11:36:29.060Z"
   },
   {
    "duration": 3,
    "start_time": "2021-07-08T11:36:29.093Z"
   },
   {
    "duration": 12,
    "start_time": "2021-07-08T11:36:29.099Z"
   },
   {
    "duration": 11,
    "start_time": "2021-07-08T11:36:29.112Z"
   },
   {
    "duration": 12,
    "start_time": "2021-07-08T11:36:29.125Z"
   },
   {
    "duration": 9,
    "start_time": "2021-07-08T11:36:29.139Z"
   },
   {
    "duration": 31,
    "start_time": "2021-07-08T11:36:29.191Z"
   },
   {
    "duration": 17,
    "start_time": "2021-07-08T11:36:29.226Z"
   },
   {
    "duration": 7,
    "start_time": "2021-07-08T11:36:29.245Z"
   },
   {
    "duration": 10,
    "start_time": "2021-07-08T11:36:29.254Z"
   },
   {
    "duration": 30,
    "start_time": "2021-07-08T11:36:29.292Z"
   },
   {
    "duration": 11,
    "start_time": "2021-07-08T11:36:29.324Z"
   },
   {
    "duration": 11,
    "start_time": "2021-07-08T11:36:29.337Z"
   },
   {
    "duration": 230,
    "start_time": "2021-07-08T11:36:29.349Z"
   },
   {
    "duration": 13,
    "start_time": "2021-07-08T11:36:29.588Z"
   },
   {
    "duration": 205,
    "start_time": "2021-07-08T11:36:29.603Z"
   },
   {
    "duration": 20,
    "start_time": "2021-07-08T11:36:29.810Z"
   },
   {
    "duration": 9,
    "start_time": "2021-07-08T11:36:29.832Z"
   },
   {
    "duration": 16,
    "start_time": "2021-07-08T11:36:29.843Z"
   },
   {
    "duration": 283,
    "start_time": "2021-07-08T11:36:29.861Z"
   },
   {
    "duration": 50,
    "start_time": "2021-07-08T11:36:30.146Z"
   },
   {
    "duration": 14,
    "start_time": "2021-07-08T11:36:30.198Z"
   },
   {
    "duration": 11,
    "start_time": "2021-07-08T11:36:30.214Z"
   },
   {
    "duration": 245,
    "start_time": "2021-07-08T11:36:30.227Z"
   },
   {
    "duration": 439,
    "start_time": "2021-07-08T11:36:30.474Z"
   },
   {
    "duration": 210,
    "start_time": "2021-07-08T11:36:30.915Z"
   },
   {
    "duration": 15,
    "start_time": "2021-07-08T11:36:31.127Z"
   },
   {
    "duration": 17,
    "start_time": "2021-07-08T11:38:20.451Z"
   },
   {
    "duration": 642,
    "start_time": "2021-07-08T11:46:17.881Z"
   },
   {
    "duration": 210,
    "start_time": "2021-07-08T11:46:18.525Z"
   },
   {
    "duration": 104,
    "start_time": "2021-07-08T11:46:18.741Z"
   },
   {
    "duration": 8,
    "start_time": "2021-07-08T11:46:18.847Z"
   },
   {
    "duration": 25,
    "start_time": "2021-07-08T11:46:18.857Z"
   },
   {
    "duration": 14,
    "start_time": "2021-07-08T11:46:18.884Z"
   },
   {
    "duration": 22,
    "start_time": "2021-07-08T11:46:18.900Z"
   },
   {
    "duration": 5,
    "start_time": "2021-07-08T11:46:18.924Z"
   },
   {
    "duration": 13,
    "start_time": "2021-07-08T11:46:18.931Z"
   },
   {
    "duration": 45,
    "start_time": "2021-07-08T11:46:18.946Z"
   },
   {
    "duration": 12,
    "start_time": "2021-07-08T11:46:18.993Z"
   },
   {
    "duration": 38,
    "start_time": "2021-07-08T11:46:19.006Z"
   },
   {
    "duration": 50,
    "start_time": "2021-07-08T11:46:19.046Z"
   },
   {
    "duration": 29,
    "start_time": "2021-07-08T11:46:19.099Z"
   },
   {
    "duration": 7,
    "start_time": "2021-07-08T11:46:19.130Z"
   },
   {
    "duration": 3,
    "start_time": "2021-07-08T11:46:19.139Z"
   },
   {
    "duration": 11,
    "start_time": "2021-07-08T11:46:19.144Z"
   },
   {
    "duration": 40,
    "start_time": "2021-07-08T11:46:19.157Z"
   },
   {
    "duration": 15,
    "start_time": "2021-07-08T11:46:19.199Z"
   },
   {
    "duration": 10,
    "start_time": "2021-07-08T11:46:19.217Z"
   },
   {
    "duration": 68,
    "start_time": "2021-07-08T11:46:19.230Z"
   },
   {
    "duration": 17,
    "start_time": "2021-07-08T11:46:19.301Z"
   },
   {
    "duration": 7,
    "start_time": "2021-07-08T11:46:19.321Z"
   },
   {
    "duration": 11,
    "start_time": "2021-07-08T11:46:19.330Z"
   },
   {
    "duration": 59,
    "start_time": "2021-07-08T11:46:19.343Z"
   },
   {
    "duration": 17,
    "start_time": "2021-07-08T11:46:19.405Z"
   },
   {
    "duration": 16,
    "start_time": "2021-07-08T11:46:19.424Z"
   },
   {
    "duration": 252,
    "start_time": "2021-07-08T11:46:19.443Z"
   },
   {
    "duration": 9,
    "start_time": "2021-07-08T11:46:19.697Z"
   },
   {
    "duration": 224,
    "start_time": "2021-07-08T11:46:19.708Z"
   },
   {
    "duration": 21,
    "start_time": "2021-07-08T11:46:19.934Z"
   },
   {
    "duration": 9,
    "start_time": "2021-07-08T11:46:19.956Z"
   },
   {
    "duration": 32,
    "start_time": "2021-07-08T11:46:19.967Z"
   },
   {
    "duration": 288,
    "start_time": "2021-07-08T11:46:20.004Z"
   },
   {
    "duration": 23,
    "start_time": "2021-07-08T11:46:20.300Z"
   },
   {
    "duration": 11,
    "start_time": "2021-07-08T11:46:20.325Z"
   },
   {
    "duration": 11,
    "start_time": "2021-07-08T11:46:20.339Z"
   },
   {
    "duration": 259,
    "start_time": "2021-07-08T11:46:20.352Z"
   },
   {
    "duration": 438,
    "start_time": "2021-07-08T11:46:20.613Z"
   },
   {
    "duration": 207,
    "start_time": "2021-07-08T11:46:21.054Z"
   },
   {
    "duration": 27,
    "start_time": "2021-07-08T11:46:21.262Z"
   },
   {
    "duration": 19,
    "start_time": "2021-07-08T11:46:21.291Z"
   },
   {
    "duration": 820,
    "start_time": "2021-07-08T11:49:01.655Z"
   },
   {
    "duration": 372,
    "start_time": "2021-07-08T11:49:02.478Z"
   },
   {
    "duration": 98,
    "start_time": "2021-07-08T11:49:02.853Z"
   },
   {
    "duration": 6,
    "start_time": "2021-07-08T11:49:02.953Z"
   },
   {
    "duration": 39,
    "start_time": "2021-07-08T11:49:02.960Z"
   },
   {
    "duration": 9,
    "start_time": "2021-07-08T11:49:03.003Z"
   },
   {
    "duration": 23,
    "start_time": "2021-07-08T11:49:03.014Z"
   },
   {
    "duration": 6,
    "start_time": "2021-07-08T11:49:03.041Z"
   },
   {
    "duration": 20,
    "start_time": "2021-07-08T11:49:03.049Z"
   },
   {
    "duration": 18,
    "start_time": "2021-07-08T11:49:03.084Z"
   },
   {
    "duration": 14,
    "start_time": "2021-07-08T11:49:03.104Z"
   },
   {
    "duration": 39,
    "start_time": "2021-07-08T11:49:03.119Z"
   },
   {
    "duration": 38,
    "start_time": "2021-07-08T11:49:03.160Z"
   },
   {
    "duration": 26,
    "start_time": "2021-07-08T11:49:03.200Z"
   },
   {
    "duration": 7,
    "start_time": "2021-07-08T11:49:03.227Z"
   },
   {
    "duration": 4,
    "start_time": "2021-07-08T11:49:03.236Z"
   },
   {
    "duration": 15,
    "start_time": "2021-07-08T11:49:03.243Z"
   },
   {
    "duration": 21,
    "start_time": "2021-07-08T11:49:03.285Z"
   },
   {
    "duration": 17,
    "start_time": "2021-07-08T11:49:03.309Z"
   },
   {
    "duration": 10,
    "start_time": "2021-07-08T11:49:03.328Z"
   },
   {
    "duration": 65,
    "start_time": "2021-07-08T11:49:03.340Z"
   },
   {
    "duration": 18,
    "start_time": "2021-07-08T11:49:03.407Z"
   },
   {
    "duration": 8,
    "start_time": "2021-07-08T11:49:03.428Z"
   },
   {
    "duration": 15,
    "start_time": "2021-07-08T11:49:03.438Z"
   },
   {
    "duration": 40,
    "start_time": "2021-07-08T11:49:03.455Z"
   },
   {
    "duration": 12,
    "start_time": "2021-07-08T11:49:03.497Z"
   },
   {
    "duration": 29,
    "start_time": "2021-07-08T11:49:03.511Z"
   },
   {
    "duration": 285,
    "start_time": "2021-07-08T11:49:03.542Z"
   },
   {
    "duration": 8,
    "start_time": "2021-07-08T11:49:03.829Z"
   },
   {
    "duration": 227,
    "start_time": "2021-07-08T11:49:03.838Z"
   },
   {
    "duration": 40,
    "start_time": "2021-07-08T11:49:04.066Z"
   },
   {
    "duration": 10,
    "start_time": "2021-07-08T11:49:04.108Z"
   },
   {
    "duration": 26,
    "start_time": "2021-07-08T11:49:04.121Z"
   },
   {
    "duration": 290,
    "start_time": "2021-07-08T11:49:04.149Z"
   },
   {
    "duration": 26,
    "start_time": "2021-07-08T11:49:04.441Z"
   },
   {
    "duration": 31,
    "start_time": "2021-07-08T11:49:04.470Z"
   },
   {
    "duration": 14,
    "start_time": "2021-07-08T11:49:04.503Z"
   },
   {
    "duration": 259,
    "start_time": "2021-07-08T11:49:04.521Z"
   },
   {
    "duration": 480,
    "start_time": "2021-07-08T11:49:04.782Z"
   },
   {
    "duration": 225,
    "start_time": "2021-07-08T11:49:05.264Z"
   },
   {
    "duration": 22,
    "start_time": "2021-07-08T11:49:05.491Z"
   },
   {
    "duration": 24,
    "start_time": "2021-07-08T11:49:05.515Z"
   },
   {
    "duration": 634,
    "start_time": "2021-07-08T11:52:24.960Z"
   },
   {
    "duration": 199,
    "start_time": "2021-07-08T11:52:25.599Z"
   },
   {
    "duration": 106,
    "start_time": "2021-07-08T11:52:25.803Z"
   },
   {
    "duration": 7,
    "start_time": "2021-07-08T11:52:25.911Z"
   },
   {
    "duration": 29,
    "start_time": "2021-07-08T11:52:25.920Z"
   },
   {
    "duration": 7,
    "start_time": "2021-07-08T11:52:25.951Z"
   },
   {
    "duration": 26,
    "start_time": "2021-07-08T11:52:25.961Z"
   },
   {
    "duration": 11,
    "start_time": "2021-07-08T11:52:25.990Z"
   },
   {
    "duration": 29,
    "start_time": "2021-07-08T11:52:26.005Z"
   },
   {
    "duration": 9,
    "start_time": "2021-07-08T11:52:26.036Z"
   },
   {
    "duration": 8,
    "start_time": "2021-07-08T11:52:26.047Z"
   },
   {
    "duration": 63,
    "start_time": "2021-07-08T11:52:26.057Z"
   },
   {
    "duration": 17,
    "start_time": "2021-07-08T11:52:26.122Z"
   },
   {
    "duration": 43,
    "start_time": "2021-07-08T11:52:26.142Z"
   },
   {
    "duration": 17,
    "start_time": "2021-07-08T11:52:26.187Z"
   },
   {
    "duration": 5,
    "start_time": "2021-07-08T11:52:26.206Z"
   },
   {
    "duration": 12,
    "start_time": "2021-07-08T11:52:26.212Z"
   },
   {
    "duration": 11,
    "start_time": "2021-07-08T11:52:26.226Z"
   },
   {
    "duration": 12,
    "start_time": "2021-07-08T11:52:26.238Z"
   },
   {
    "duration": 38,
    "start_time": "2021-07-08T11:52:26.252Z"
   },
   {
    "duration": 40,
    "start_time": "2021-07-08T11:52:26.292Z"
   },
   {
    "duration": 17,
    "start_time": "2021-07-08T11:52:26.336Z"
   },
   {
    "duration": 39,
    "start_time": "2021-07-08T11:52:26.355Z"
   },
   {
    "duration": 11,
    "start_time": "2021-07-08T11:52:26.395Z"
   },
   {
    "duration": 23,
    "start_time": "2021-07-08T11:52:26.408Z"
   },
   {
    "duration": 12,
    "start_time": "2021-07-08T11:52:26.432Z"
   },
   {
    "duration": 41,
    "start_time": "2021-07-08T11:52:26.446Z"
   },
   {
    "duration": 215,
    "start_time": "2021-07-08T11:52:26.493Z"
   },
   {
    "duration": 8,
    "start_time": "2021-07-08T11:52:26.710Z"
   },
   {
    "duration": 228,
    "start_time": "2021-07-08T11:52:26.720Z"
   },
   {
    "duration": 18,
    "start_time": "2021-07-08T11:52:26.950Z"
   },
   {
    "duration": 35,
    "start_time": "2021-07-08T11:52:26.969Z"
   },
   {
    "duration": 23,
    "start_time": "2021-07-08T11:52:27.006Z"
   },
   {
    "duration": 258,
    "start_time": "2021-07-08T11:52:27.030Z"
   },
   {
    "duration": 24,
    "start_time": "2021-07-08T11:52:27.290Z"
   },
   {
    "duration": 12,
    "start_time": "2021-07-08T11:52:27.316Z"
   },
   {
    "duration": 10,
    "start_time": "2021-07-08T11:52:27.329Z"
   },
   {
    "duration": 298,
    "start_time": "2021-07-08T11:52:27.341Z"
   },
   {
    "duration": 436,
    "start_time": "2021-07-08T11:52:27.641Z"
   },
   {
    "duration": 216,
    "start_time": "2021-07-08T11:52:28.079Z"
   },
   {
    "duration": 20,
    "start_time": "2021-07-08T11:52:28.297Z"
   },
   {
    "duration": 17,
    "start_time": "2021-07-08T11:52:28.319Z"
   },
   {
    "duration": 1204,
    "start_time": "2021-10-22T16:20:11.845Z"
   },
   {
    "duration": 87,
    "start_time": "2021-10-22T16:21:42.126Z"
   },
   {
    "duration": 382,
    "start_time": "2021-10-22T16:22:19.361Z"
   },
   {
    "duration": 330,
    "start_time": "2021-10-22T16:22:25.392Z"
   },
   {
    "duration": 107,
    "start_time": "2021-10-22T16:22:32.202Z"
   },
   {
    "duration": 118,
    "start_time": "2021-10-22T16:29:42.343Z"
   },
   {
    "duration": 108,
    "start_time": "2021-10-22T16:30:04.262Z"
   },
   {
    "duration": 117,
    "start_time": "2021-10-22T16:30:20.859Z"
   },
   {
    "duration": 337,
    "start_time": "2021-10-22T16:30:35.467Z"
   },
   {
    "duration": 344,
    "start_time": "2021-10-22T16:30:41.319Z"
   },
   {
    "duration": 116,
    "start_time": "2021-10-22T16:31:35.045Z"
   },
   {
    "duration": 105,
    "start_time": "2021-10-22T16:31:53.486Z"
   },
   {
    "duration": 118,
    "start_time": "2021-10-22T16:32:10.076Z"
   },
   {
    "duration": 103,
    "start_time": "2021-10-22T16:33:28.561Z"
   },
   {
    "duration": 1016,
    "start_time": "2021-10-22T16:33:40.808Z"
   },
   {
    "duration": 116,
    "start_time": "2021-10-22T16:34:05.881Z"
   },
   {
    "duration": 1021,
    "start_time": "2021-10-22T16:34:25.192Z"
   },
   {
    "duration": 1068,
    "start_time": "2021-10-22T16:34:35.757Z"
   },
   {
    "duration": 115,
    "start_time": "2021-10-22T16:37:59.509Z"
   },
   {
    "duration": 114,
    "start_time": "2021-10-22T16:38:09.627Z"
   },
   {
    "duration": 352,
    "start_time": "2021-10-22T16:42:08.785Z"
   },
   {
    "duration": 104,
    "start_time": "2021-10-22T16:42:12.274Z"
   },
   {
    "duration": 104,
    "start_time": "2021-10-22T16:43:25.327Z"
   },
   {
    "duration": 110,
    "start_time": "2021-10-22T16:43:33.878Z"
   },
   {
    "duration": 1037,
    "start_time": "2021-10-22T16:44:40.612Z"
   },
   {
    "duration": 478,
    "start_time": "2021-10-22T16:48:54.197Z"
   },
   {
    "duration": 129,
    "start_time": "2021-10-22T16:49:01.808Z"
   },
   {
    "duration": 1206,
    "start_time": "2021-10-22T16:49:17.328Z"
   },
   {
    "duration": 104,
    "start_time": "2021-10-22T16:49:25.643Z"
   },
   {
    "duration": 1047,
    "start_time": "2021-10-22T16:49:41.496Z"
   },
   {
    "duration": 104,
    "start_time": "2021-10-22T16:49:47.478Z"
   },
   {
    "duration": 353,
    "start_time": "2021-10-22T16:50:03.952Z"
   },
   {
    "duration": 373,
    "start_time": "2021-10-22T16:50:09.353Z"
   },
   {
    "duration": 134,
    "start_time": "2021-10-22T16:50:31.595Z"
   },
   {
    "duration": 136,
    "start_time": "2021-10-22T16:50:40.149Z"
   },
   {
    "duration": 358,
    "start_time": "2021-10-22T16:50:46.395Z"
   },
   {
    "duration": 356,
    "start_time": "2021-10-22T16:50:55.025Z"
   },
   {
    "duration": 346,
    "start_time": "2021-10-22T16:51:04.350Z"
   },
   {
    "duration": 342,
    "start_time": "2021-10-22T16:51:14.087Z"
   },
   {
    "duration": 354,
    "start_time": "2021-10-22T16:51:16.682Z"
   },
   {
    "duration": 161,
    "start_time": "2021-10-22T16:51:22.564Z"
   },
   {
    "duration": 339,
    "start_time": "2021-10-22T16:51:27.909Z"
   },
   {
    "duration": 109,
    "start_time": "2021-10-22T16:51:50.316Z"
   },
   {
    "duration": 343,
    "start_time": "2021-10-22T16:51:56.728Z"
   },
   {
    "duration": 345,
    "start_time": "2021-10-22T16:52:11.313Z"
   },
   {
    "duration": 107,
    "start_time": "2021-10-22T16:52:17.524Z"
   },
   {
    "duration": 103,
    "start_time": "2021-10-22T16:52:27.631Z"
   },
   {
    "duration": 1090,
    "start_time": "2021-10-22T16:53:01.891Z"
   },
   {
    "duration": 359,
    "start_time": "2021-10-22T16:54:07.909Z"
   },
   {
    "duration": 349,
    "start_time": "2021-10-22T16:54:25.361Z"
   },
   {
    "duration": 351,
    "start_time": "2021-10-22T16:54:36.390Z"
   },
   {
    "duration": 349,
    "start_time": "2021-10-22T16:54:39.105Z"
   },
   {
    "duration": 1133,
    "start_time": "2021-10-22T16:56:02.172Z"
   },
   {
    "duration": 1829,
    "start_time": "2021-10-22T18:25:13.304Z"
   },
   {
    "duration": 125,
    "start_time": "2021-10-22T18:25:28.438Z"
   },
   {
    "duration": 119,
    "start_time": "2021-10-22T18:25:44.361Z"
   },
   {
    "duration": 1074,
    "start_time": "2021-10-22T18:27:12.048Z"
   },
   {
    "duration": 108,
    "start_time": "2021-10-22T18:27:52.509Z"
   },
   {
    "duration": 109,
    "start_time": "2021-10-22T18:28:02.544Z"
   },
   {
    "duration": 347,
    "start_time": "2021-10-22T18:28:30.113Z"
   },
   {
    "duration": 341,
    "start_time": "2021-10-22T18:28:37.101Z"
   },
   {
    "duration": 343,
    "start_time": "2021-10-22T18:28:48.235Z"
   },
   {
    "duration": 4493,
    "start_time": "2021-10-22T18:28:56.919Z"
   },
   {
    "duration": 128,
    "start_time": "2021-10-22T18:29:14.157Z"
   },
   {
    "duration": 114,
    "start_time": "2021-10-22T18:29:32.640Z"
   },
   {
    "duration": 337,
    "start_time": "2021-10-22T18:31:42.430Z"
   },
   {
    "duration": 105,
    "start_time": "2021-10-22T18:35:50.122Z"
   },
   {
    "duration": 142,
    "start_time": "2021-10-22T18:36:02.897Z"
   },
   {
    "duration": 80,
    "start_time": "2021-10-22T18:36:55.764Z"
   },
   {
    "duration": 79,
    "start_time": "2021-10-22T18:37:18.708Z"
   },
   {
    "duration": 92,
    "start_time": "2021-10-22T18:38:59.505Z"
   },
   {
    "duration": 405,
    "start_time": "2021-10-22T18:40:04.361Z"
   },
   {
    "duration": 350,
    "start_time": "2021-10-22T18:40:17.364Z"
   },
   {
    "duration": 352,
    "start_time": "2021-10-22T18:40:23.372Z"
   },
   {
    "duration": 133,
    "start_time": "2021-10-22T18:40:56.551Z"
   },
   {
    "duration": 118,
    "start_time": "2021-10-22T18:41:23.017Z"
   },
   {
    "duration": 121,
    "start_time": "2021-10-22T18:41:35.929Z"
   },
   {
    "duration": 392,
    "start_time": "2021-10-22T18:42:13.788Z"
   },
   {
    "duration": 347,
    "start_time": "2021-10-22T18:42:18.211Z"
   },
   {
    "duration": 111,
    "start_time": "2021-10-22T18:42:42.525Z"
   },
   {
    "duration": 359,
    "start_time": "2021-10-22T18:43:31.446Z"
   },
   {
    "duration": 127,
    "start_time": "2021-10-22T18:43:40.268Z"
   },
   {
    "duration": 122,
    "start_time": "2021-10-22T18:43:52.121Z"
   },
   {
    "duration": 122,
    "start_time": "2021-10-22T18:43:56.937Z"
   },
   {
    "duration": 122,
    "start_time": "2021-10-22T18:44:16.492Z"
   },
   {
    "duration": 337,
    "start_time": "2021-10-22T18:44:52.255Z"
   },
   {
    "duration": 112,
    "start_time": "2021-10-22T18:45:02.266Z"
   },
   {
    "duration": 1095,
    "start_time": "2021-10-22T18:45:29.365Z"
   },
   {
    "duration": 366,
    "start_time": "2021-10-22T18:54:13.219Z"
   },
   {
    "duration": 114,
    "start_time": "2021-10-22T18:54:22.710Z"
   },
   {
    "duration": 110,
    "start_time": "2021-10-22T18:56:12.903Z"
   },
   {
    "duration": 130,
    "start_time": "2021-10-22T18:56:26.864Z"
   },
   {
    "duration": 118,
    "start_time": "2021-10-22T18:57:06.008Z"
   },
   {
    "duration": 1047,
    "start_time": "2021-10-22T18:59:32.673Z"
   },
   {
    "duration": 107,
    "start_time": "2021-10-22T19:01:04.331Z"
   },
   {
    "duration": 92,
    "start_time": "2021-10-22T19:01:12.108Z"
   },
   {
    "duration": 1055,
    "start_time": "2021-10-22T19:01:22.922Z"
   },
   {
    "duration": 110,
    "start_time": "2021-10-22T19:01:42.898Z"
   },
   {
    "duration": 125,
    "start_time": "2021-10-22T19:01:50.451Z"
   },
   {
    "duration": 109,
    "start_time": "2021-10-22T19:03:23.074Z"
   },
   {
    "duration": 128,
    "start_time": "2021-10-22T19:03:26.086Z"
   },
   {
    "duration": 351,
    "start_time": "2021-10-22T19:05:48.766Z"
   },
   {
    "duration": 115,
    "start_time": "2021-10-22T19:11:49.042Z"
   },
   {
    "duration": 403,
    "start_time": "2021-10-22T19:12:04.463Z"
   },
   {
    "duration": 356,
    "start_time": "2021-10-22T19:12:18.514Z"
   },
   {
    "duration": 387,
    "start_time": "2021-10-22T19:12:28.207Z"
   },
   {
    "duration": 81,
    "start_time": "2021-10-22T19:13:13.759Z"
   },
   {
    "duration": 114,
    "start_time": "2021-10-22T19:15:00.727Z"
   },
   {
    "duration": 126,
    "start_time": "2021-10-22T19:15:11.423Z"
   },
   {
    "duration": 388,
    "start_time": "2021-10-22T19:15:32.153Z"
   },
   {
    "duration": 348,
    "start_time": "2021-10-22T19:17:20.440Z"
   },
   {
    "duration": 1037,
    "start_time": "2021-10-22T19:17:25.019Z"
   },
   {
    "duration": 1055,
    "start_time": "2021-10-22T19:17:39.643Z"
   },
   {
    "duration": 110,
    "start_time": "2021-10-22T19:20:38.980Z"
   },
   {
    "duration": 109,
    "start_time": "2021-10-22T19:20:45.514Z"
   },
   {
    "duration": 114,
    "start_time": "2021-10-22T19:20:55.740Z"
   },
   {
    "duration": 108,
    "start_time": "2021-10-22T19:21:08.485Z"
   },
   {
    "duration": 350,
    "start_time": "2021-10-22T19:21:28.616Z"
   },
   {
    "duration": 107,
    "start_time": "2021-10-22T19:21:56.282Z"
   },
   {
    "duration": 340,
    "start_time": "2021-10-22T19:26:25.759Z"
   },
   {
    "duration": 107,
    "start_time": "2021-10-22T19:26:39.067Z"
   },
   {
    "duration": 109,
    "start_time": "2021-10-22T19:28:08.505Z"
   },
   {
    "duration": 344,
    "start_time": "2021-10-22T19:35:57.743Z"
   },
   {
    "duration": 338,
    "start_time": "2021-10-22T19:36:05.435Z"
   },
   {
    "duration": 135,
    "start_time": "2021-10-22T19:36:32.975Z"
   },
   {
    "duration": 131,
    "start_time": "2021-10-22T19:36:43.985Z"
   },
   {
    "duration": 140,
    "start_time": "2021-10-22T19:39:57.045Z"
   },
   {
    "duration": 138,
    "start_time": "2021-10-22T19:40:14.292Z"
   },
   {
    "duration": 157,
    "start_time": "2021-10-22T19:40:49.360Z"
   },
   {
    "duration": 134,
    "start_time": "2021-10-22T19:40:59.491Z"
   },
   {
    "duration": 24,
    "start_time": "2021-10-22T19:41:05.351Z"
   },
   {
    "duration": 229,
    "start_time": "2021-10-22T19:42:22.184Z"
   },
   {
    "duration": 236,
    "start_time": "2021-10-22T19:42:24.888Z"
   },
   {
    "duration": 5,
    "start_time": "2021-10-22T19:42:45.431Z"
   },
   {
    "duration": 18,
    "start_time": "2021-10-22T19:54:36.917Z"
   },
   {
    "duration": 132,
    "start_time": "2021-10-22T19:55:02.157Z"
   },
   {
    "duration": 10,
    "start_time": "2021-10-22T19:55:15.902Z"
   },
   {
    "duration": 132,
    "start_time": "2021-10-22T19:55:46.090Z"
   },
   {
    "duration": 20,
    "start_time": "2021-10-22T19:55:51.063Z"
   },
   {
    "duration": 134,
    "start_time": "2021-10-22T19:59:51.205Z"
   },
   {
    "duration": 22,
    "start_time": "2021-10-22T19:59:54.757Z"
   },
   {
    "duration": 125,
    "start_time": "2021-10-22T20:00:17.725Z"
   },
   {
    "duration": 136,
    "start_time": "2021-10-22T20:00:25.548Z"
   },
   {
    "duration": 23,
    "start_time": "2021-10-22T20:00:32.747Z"
   },
   {
    "duration": 137,
    "start_time": "2021-10-22T20:05:45.813Z"
   },
   {
    "duration": 20,
    "start_time": "2021-10-22T20:05:51.682Z"
   },
   {
    "duration": 129,
    "start_time": "2021-10-22T20:06:07.628Z"
   },
   {
    "duration": 128,
    "start_time": "2021-10-22T20:06:17.314Z"
   },
   {
    "duration": 11,
    "start_time": "2021-10-22T20:06:20.948Z"
   },
   {
    "duration": 138,
    "start_time": "2021-10-22T20:06:30.359Z"
   },
   {
    "duration": 21,
    "start_time": "2021-10-22T20:06:32.918Z"
   },
   {
    "duration": 136,
    "start_time": "2021-10-22T20:07:05.540Z"
   },
   {
    "duration": 20,
    "start_time": "2021-10-22T20:07:10.542Z"
   },
   {
    "duration": 348,
    "start_time": "2021-10-22T20:07:33.598Z"
   },
   {
    "duration": 130,
    "start_time": "2021-10-22T20:07:36.478Z"
   },
   {
    "duration": 23,
    "start_time": "2021-10-22T20:07:39.201Z"
   },
   {
    "duration": 338,
    "start_time": "2021-10-22T20:12:34.231Z"
   },
   {
    "duration": 371,
    "start_time": "2021-10-22T20:13:18.906Z"
   },
   {
    "duration": 126,
    "start_time": "2021-10-22T20:13:34.894Z"
   },
   {
    "duration": 130,
    "start_time": "2021-10-22T20:13:47.920Z"
   },
   {
    "duration": 20,
    "start_time": "2021-10-22T20:14:05.382Z"
   },
   {
    "duration": 129,
    "start_time": "2021-10-22T20:15:10.275Z"
   },
   {
    "duration": 9,
    "start_time": "2021-10-22T20:15:14.076Z"
   },
   {
    "duration": 129,
    "start_time": "2021-10-22T20:15:21.880Z"
   },
   {
    "duration": 135,
    "start_time": "2021-10-22T20:15:26.971Z"
   },
   {
    "duration": 22,
    "start_time": "2021-10-22T20:15:36.238Z"
   },
   {
    "duration": 139,
    "start_time": "2021-10-22T20:18:10.190Z"
   },
   {
    "duration": 24,
    "start_time": "2021-10-22T20:18:14.969Z"
   },
   {
    "duration": 134,
    "start_time": "2021-10-22T20:18:34.809Z"
   },
   {
    "duration": 23,
    "start_time": "2021-10-22T20:18:37.380Z"
   },
   {
    "duration": 129,
    "start_time": "2021-10-22T20:20:21.441Z"
   },
   {
    "duration": 130,
    "start_time": "2021-10-22T20:20:36.142Z"
   },
   {
    "duration": 11,
    "start_time": "2021-10-22T20:20:40.124Z"
   },
   {
    "duration": 6,
    "start_time": "2021-10-22T20:21:44.240Z"
   },
   {
    "duration": 20,
    "start_time": "2021-10-22T20:21:54.162Z"
   },
   {
    "duration": 135,
    "start_time": "2021-10-22T20:22:15.167Z"
   },
   {
    "duration": 135,
    "start_time": "2021-10-22T20:24:30.019Z"
   },
   {
    "duration": 131,
    "start_time": "2021-10-22T20:25:08.815Z"
   },
   {
    "duration": 133,
    "start_time": "2021-10-22T20:25:15.267Z"
   },
   {
    "duration": 20,
    "start_time": "2021-10-22T20:25:40.537Z"
   },
   {
    "duration": 239,
    "start_time": "2021-10-22T20:26:40.050Z"
   },
   {
    "duration": 6,
    "start_time": "2021-10-22T20:26:42.334Z"
   },
   {
    "duration": 343,
    "start_time": "2021-10-22T20:26:59.676Z"
   },
   {
    "duration": 134,
    "start_time": "2021-10-22T20:27:15.357Z"
   },
   {
    "duration": 5,
    "start_time": "2021-10-22T20:27:20.936Z"
   },
   {
    "duration": 343,
    "start_time": "2021-10-22T20:29:56.628Z"
   },
   {
    "duration": 125,
    "start_time": "2021-10-22T20:31:50.903Z"
   },
   {
    "duration": 5,
    "start_time": "2021-10-22T20:31:55.741Z"
   },
   {
    "duration": 5,
    "start_time": "2021-10-22T20:32:04.761Z"
   },
   {
    "duration": 5,
    "start_time": "2021-10-22T20:32:09.407Z"
   },
   {
    "duration": 11,
    "start_time": "2021-10-22T20:32:19.464Z"
   },
   {
    "duration": 332,
    "start_time": "2021-10-22T20:32:57.089Z"
   },
   {
    "duration": 356,
    "start_time": "2021-10-22T20:34:01.102Z"
   },
   {
    "duration": 327,
    "start_time": "2021-10-22T20:34:17.074Z"
   },
   {
    "duration": 345,
    "start_time": "2021-10-22T20:35:06.431Z"
   },
   {
    "duration": 126,
    "start_time": "2021-10-22T20:35:13.321Z"
   },
   {
    "duration": 5,
    "start_time": "2021-10-22T20:35:17.102Z"
   },
   {
    "duration": 13,
    "start_time": "2021-10-22T20:35:21.089Z"
   },
   {
    "duration": 134,
    "start_time": "2021-10-22T20:41:17.473Z"
   },
   {
    "duration": 5,
    "start_time": "2021-10-22T20:41:21.111Z"
   },
   {
    "duration": 21,
    "start_time": "2021-10-22T20:41:23.733Z"
   },
   {
    "duration": 8,
    "start_time": "2021-10-22T20:53:50.645Z"
   },
   {
    "duration": 25,
    "start_time": "2021-10-22T20:53:55.920Z"
   },
   {
    "duration": 25,
    "start_time": "2021-10-22T20:54:46.642Z"
   },
   {
    "duration": 1633,
    "start_time": "2021-10-22T20:55:39.009Z"
   },
   {
    "duration": 1580,
    "start_time": "2021-10-22T20:56:26.685Z"
   },
   {
    "duration": 26,
    "start_time": "2021-10-22T20:57:13.444Z"
   },
   {
    "duration": 243,
    "start_time": "2021-10-22T20:57:47.469Z"
   },
   {
    "duration": 242,
    "start_time": "2021-10-22T20:58:24.013Z"
   },
   {
    "duration": 249,
    "start_time": "2021-10-22T20:59:59.766Z"
   },
   {
    "duration": 247,
    "start_time": "2021-10-22T21:00:03.959Z"
   },
   {
    "duration": 27,
    "start_time": "2021-10-22T21:01:06.308Z"
   },
   {
    "duration": 28,
    "start_time": "2021-10-22T21:01:27.571Z"
   },
   {
    "duration": 245,
    "start_time": "2021-10-22T21:01:31.755Z"
   },
   {
    "duration": 76,
    "start_time": "2021-10-22T21:01:36.113Z"
   },
   {
    "duration": 28,
    "start_time": "2021-10-22T21:01:41.270Z"
   },
   {
    "duration": 18,
    "start_time": "2021-10-22T21:01:45.864Z"
   },
   {
    "duration": 6,
    "start_time": "2021-10-22T21:02:04.425Z"
   },
   {
    "duration": 244,
    "start_time": "2021-10-22T21:03:00.240Z"
   },
   {
    "duration": 29,
    "start_time": "2021-10-22T21:03:10.706Z"
   },
   {
    "duration": 5,
    "start_time": "2021-10-22T21:05:42.514Z"
   },
   {
    "duration": 6,
    "start_time": "2021-10-22T21:19:45.435Z"
   },
   {
    "duration": 21,
    "start_time": "2021-10-22T21:20:30.564Z"
   },
   {
    "duration": 1205,
    "start_time": "2021-10-22T21:21:15.138Z"
   },
   {
    "duration": 137,
    "start_time": "2021-10-22T21:21:16.345Z"
   },
   {
    "duration": 5,
    "start_time": "2021-10-22T21:21:16.484Z"
   },
   {
    "duration": 12,
    "start_time": "2021-10-22T21:21:16.490Z"
   },
   {
    "duration": 1716,
    "start_time": "2021-10-22T21:21:16.504Z"
   },
   {
    "duration": 603,
    "start_time": "2021-10-22T21:21:17.619Z"
   },
   {
    "duration": 600,
    "start_time": "2021-10-22T21:21:17.624Z"
   },
   {
    "duration": 597,
    "start_time": "2021-10-22T21:21:17.628Z"
   },
   {
    "duration": 19,
    "start_time": "2021-10-22T21:22:55.039Z"
   },
   {
    "duration": 11,
    "start_time": "2021-10-22T21:23:04.365Z"
   },
   {
    "duration": 15,
    "start_time": "2021-10-22T21:23:11.729Z"
   },
   {
    "duration": 14,
    "start_time": "2021-10-22T21:29:10.533Z"
   },
   {
    "duration": 21,
    "start_time": "2021-10-22T21:36:42.066Z"
   },
   {
    "duration": 252,
    "start_time": "2021-10-22T21:38:23.218Z"
   },
   {
    "duration": 16,
    "start_time": "2021-10-22T21:38:34.563Z"
   },
   {
    "duration": 16,
    "start_time": "2021-10-22T21:38:43.846Z"
   },
   {
    "duration": 82,
    "start_time": "2021-10-22T21:40:00.859Z"
   },
   {
    "duration": 14,
    "start_time": "2021-10-22T21:40:15.573Z"
   },
   {
    "duration": 15,
    "start_time": "2021-10-22T21:40:19.360Z"
   },
   {
    "duration": 1189,
    "start_time": "2021-10-22T21:40:29.663Z"
   },
   {
    "duration": 138,
    "start_time": "2021-10-22T21:40:30.854Z"
   },
   {
    "duration": 5,
    "start_time": "2021-10-22T21:40:30.994Z"
   },
   {
    "duration": 9,
    "start_time": "2021-10-22T21:40:31.001Z"
   },
   {
    "duration": 1763,
    "start_time": "2021-10-22T21:40:31.012Z"
   },
   {
    "duration": -475,
    "start_time": "2021-10-22T21:40:33.252Z"
   },
   {
    "duration": -475,
    "start_time": "2021-10-22T21:40:33.254Z"
   },
   {
    "duration": -475,
    "start_time": "2021-10-22T21:40:33.255Z"
   },
   {
    "duration": -475,
    "start_time": "2021-10-22T21:40:33.256Z"
   },
   {
    "duration": -476,
    "start_time": "2021-10-22T21:40:33.258Z"
   },
   {
    "duration": 25,
    "start_time": "2021-10-22T21:41:00.825Z"
   },
   {
    "duration": 17,
    "start_time": "2021-10-22T21:41:04.600Z"
   },
   {
    "duration": 21,
    "start_time": "2021-10-22T21:41:16.720Z"
   },
   {
    "duration": 9,
    "start_time": "2021-10-22T21:41:20.268Z"
   },
   {
    "duration": 16,
    "start_time": "2021-10-22T21:41:49.255Z"
   },
   {
    "duration": 18,
    "start_time": "2021-10-22T21:42:30.929Z"
   },
   {
    "duration": 261,
    "start_time": "2021-10-22T21:44:01.364Z"
   },
   {
    "duration": 15,
    "start_time": "2021-10-22T21:44:18.527Z"
   },
   {
    "duration": 8,
    "start_time": "2021-10-22T21:44:24.864Z"
   },
   {
    "duration": 272,
    "start_time": "2021-10-22T21:45:46.993Z"
   },
   {
    "duration": 16,
    "start_time": "2021-10-22T21:45:59.998Z"
   },
   {
    "duration": 28,
    "start_time": "2021-10-22T21:46:12.643Z"
   },
   {
    "duration": 17,
    "start_time": "2021-10-22T21:48:25.836Z"
   },
   {
    "duration": 1056,
    "start_time": "2021-10-22T21:48:38.370Z"
   },
   {
    "duration": 242,
    "start_time": "2021-10-22T21:48:41.438Z"
   },
   {
    "duration": 31,
    "start_time": "2021-10-22T21:49:12.926Z"
   },
   {
    "duration": 1192,
    "start_time": "2021-10-22T21:51:27.550Z"
   },
   {
    "duration": 134,
    "start_time": "2021-10-22T21:51:28.744Z"
   },
   {
    "duration": 5,
    "start_time": "2021-10-22T21:51:28.880Z"
   },
   {
    "duration": 13,
    "start_time": "2021-10-22T21:51:28.886Z"
   },
   {
    "duration": 50,
    "start_time": "2021-10-22T21:51:28.900Z"
   },
   {
    "duration": 20,
    "start_time": "2021-10-22T21:51:28.952Z"
   },
   {
    "duration": 19,
    "start_time": "2021-10-22T21:51:28.974Z"
   },
   {
    "duration": 20,
    "start_time": "2021-10-22T21:51:28.995Z"
   },
   {
    "duration": 8,
    "start_time": "2021-10-22T21:51:29.017Z"
   },
   {
    "duration": 41,
    "start_time": "2021-10-22T21:51:29.026Z"
   },
   {
    "duration": 30,
    "start_time": "2021-10-22T21:52:33.965Z"
   },
   {
    "duration": 19,
    "start_time": "2021-10-22T21:55:03.671Z"
   },
   {
    "duration": 19,
    "start_time": "2021-10-22T21:55:07.862Z"
   },
   {
    "duration": 11,
    "start_time": "2021-10-22T21:57:11.080Z"
   },
   {
    "duration": 8,
    "start_time": "2021-10-22T22:01:07.509Z"
   },
   {
    "duration": 322,
    "start_time": "2021-10-22T22:01:22.599Z"
   },
   {
    "duration": 291,
    "start_time": "2021-10-22T22:01:26.433Z"
   },
   {
    "duration": 254,
    "start_time": "2021-10-22T22:01:32.868Z"
   },
   {
    "duration": 9,
    "start_time": "2021-10-22T22:01:35.759Z"
   },
   {
    "duration": 32,
    "start_time": "2021-10-22T22:01:58.818Z"
   },
   {
    "duration": 9,
    "start_time": "2021-10-22T22:03:21.841Z"
   },
   {
    "duration": 8,
    "start_time": "2021-10-22T22:03:56.072Z"
   },
   {
    "duration": 1152,
    "start_time": "2021-10-22T22:07:43.602Z"
   },
   {
    "duration": 143,
    "start_time": "2021-10-22T22:07:44.757Z"
   },
   {
    "duration": 30,
    "start_time": "2021-10-22T22:07:44.903Z"
   },
   {
    "duration": 6,
    "start_time": "2021-10-22T22:07:44.935Z"
   },
   {
    "duration": 1758,
    "start_time": "2021-10-22T22:07:44.963Z"
   },
   {
    "duration": 731,
    "start_time": "2021-10-22T22:07:45.992Z"
   },
   {
    "duration": 664,
    "start_time": "2021-10-22T22:07:46.061Z"
   },
   {
    "duration": 659,
    "start_time": "2021-10-22T22:07:46.067Z"
   },
   {
    "duration": 659,
    "start_time": "2021-10-22T22:07:46.069Z"
   },
   {
    "duration": 659,
    "start_time": "2021-10-22T22:07:46.070Z"
   },
   {
    "duration": 659,
    "start_time": "2021-10-22T22:07:46.072Z"
   },
   {
    "duration": 85,
    "start_time": "2021-10-22T22:08:10.431Z"
   },
   {
    "duration": 90,
    "start_time": "2021-10-22T22:08:17.682Z"
   },
   {
    "duration": 77,
    "start_time": "2021-10-22T22:08:36.041Z"
   },
   {
    "duration": 82,
    "start_time": "2021-10-22T22:08:39.187Z"
   },
   {
    "duration": 81,
    "start_time": "2021-10-22T22:08:44.183Z"
   },
   {
    "duration": 81,
    "start_time": "2021-10-22T22:08:55.469Z"
   },
   {
    "duration": 8,
    "start_time": "2021-10-22T22:09:31.996Z"
   },
   {
    "duration": 9,
    "start_time": "2021-10-22T22:09:44.288Z"
   },
   {
    "duration": 275,
    "start_time": "2021-10-23T08:28:03.224Z"
   },
   {
    "duration": 1200,
    "start_time": "2021-10-23T08:28:15.676Z"
   },
   {
    "duration": 135,
    "start_time": "2021-10-23T08:28:16.878Z"
   },
   {
    "duration": 28,
    "start_time": "2021-10-23T08:28:17.015Z"
   },
   {
    "duration": 4,
    "start_time": "2021-10-23T08:28:17.045Z"
   },
   {
    "duration": 13,
    "start_time": "2021-10-23T08:28:17.051Z"
   },
   {
    "duration": 24,
    "start_time": "2021-10-23T08:28:17.066Z"
   },
   {
    "duration": 322,
    "start_time": "2021-10-23T08:28:17.091Z"
   },
   {
    "duration": 307,
    "start_time": "2021-10-23T08:28:17.108Z"
   },
   {
    "duration": 303,
    "start_time": "2021-10-23T08:28:17.113Z"
   },
   {
    "duration": 294,
    "start_time": "2021-10-23T08:28:17.123Z"
   },
   {
    "duration": 292,
    "start_time": "2021-10-23T08:28:17.126Z"
   },
   {
    "duration": 10,
    "start_time": "2021-10-23T08:28:50.928Z"
   },
   {
    "duration": 13,
    "start_time": "2021-10-23T08:29:07.369Z"
   },
   {
    "duration": 264,
    "start_time": "2021-10-23T08:29:29.394Z"
   },
   {
    "duration": 241,
    "start_time": "2021-10-23T08:29:34.334Z"
   },
   {
    "duration": 1177,
    "start_time": "2021-10-23T08:29:59.469Z"
   },
   {
    "duration": 137,
    "start_time": "2021-10-23T08:30:00.648Z"
   },
   {
    "duration": 29,
    "start_time": "2021-10-23T08:30:00.787Z"
   },
   {
    "duration": 6,
    "start_time": "2021-10-23T08:30:00.818Z"
   },
   {
    "duration": 30,
    "start_time": "2021-10-23T08:30:00.825Z"
   },
   {
    "duration": 34,
    "start_time": "2021-10-23T08:30:00.857Z"
   },
   {
    "duration": 866,
    "start_time": "2021-10-23T08:30:00.893Z"
   },
   {
    "duration": 329,
    "start_time": "2021-10-23T08:30:01.432Z"
   },
   {
    "duration": 328,
    "start_time": "2021-10-23T08:30:01.434Z"
   },
   {
    "duration": 327,
    "start_time": "2021-10-23T08:30:01.436Z"
   },
   {
    "duration": 327,
    "start_time": "2021-10-23T08:30:01.437Z"
   },
   {
    "duration": 256,
    "start_time": "2021-10-23T08:30:19.679Z"
   },
   {
    "duration": 1153,
    "start_time": "2021-10-23T08:30:26.787Z"
   },
   {
    "duration": 136,
    "start_time": "2021-10-23T08:30:27.942Z"
   },
   {
    "duration": 33,
    "start_time": "2021-10-23T08:30:28.080Z"
   },
   {
    "duration": 6,
    "start_time": "2021-10-23T08:30:28.116Z"
   },
   {
    "duration": 39,
    "start_time": "2021-10-23T08:30:28.124Z"
   },
   {
    "duration": 26,
    "start_time": "2021-10-23T08:30:28.166Z"
   },
   {
    "duration": 341,
    "start_time": "2021-10-23T08:30:28.193Z"
   },
   {
    "duration": 328,
    "start_time": "2021-10-23T08:30:28.210Z"
   },
   {
    "duration": 327,
    "start_time": "2021-10-23T08:30:28.212Z"
   },
   {
    "duration": 323,
    "start_time": "2021-10-23T08:30:28.217Z"
   },
   {
    "duration": 322,
    "start_time": "2021-10-23T08:30:28.219Z"
   },
   {
    "duration": 265,
    "start_time": "2021-10-23T08:30:49.849Z"
   },
   {
    "duration": 1178,
    "start_time": "2021-10-23T08:30:57.275Z"
   },
   {
    "duration": 142,
    "start_time": "2021-10-23T08:30:58.455Z"
   },
   {
    "duration": 28,
    "start_time": "2021-10-23T08:30:58.598Z"
   },
   {
    "duration": 5,
    "start_time": "2021-10-23T08:30:58.628Z"
   },
   {
    "duration": 31,
    "start_time": "2021-10-23T08:30:58.635Z"
   },
   {
    "duration": 26,
    "start_time": "2021-10-23T08:30:58.668Z"
   },
   {
    "duration": 326,
    "start_time": "2021-10-23T08:30:58.696Z"
   },
   {
    "duration": 330,
    "start_time": "2021-10-23T08:30:58.696Z"
   },
   {
    "duration": 329,
    "start_time": "2021-10-23T08:30:58.698Z"
   },
   {
    "duration": 327,
    "start_time": "2021-10-23T08:30:58.701Z"
   },
   {
    "duration": 325,
    "start_time": "2021-10-23T08:30:58.704Z"
   },
   {
    "duration": 1144,
    "start_time": "2021-10-23T08:33:17.292Z"
   },
   {
    "duration": 133,
    "start_time": "2021-10-23T08:33:18.438Z"
   },
   {
    "duration": 28,
    "start_time": "2021-10-23T08:33:18.573Z"
   },
   {
    "duration": 4,
    "start_time": "2021-10-23T08:33:18.603Z"
   },
   {
    "duration": 25,
    "start_time": "2021-10-23T08:33:18.609Z"
   },
   {
    "duration": 39,
    "start_time": "2021-10-23T08:33:18.636Z"
   },
   {
    "duration": 319,
    "start_time": "2021-10-23T08:33:18.676Z"
   },
   {
    "duration": 314,
    "start_time": "2021-10-23T08:33:18.683Z"
   },
   {
    "duration": 303,
    "start_time": "2021-10-23T08:33:18.695Z"
   },
   {
    "duration": 288,
    "start_time": "2021-10-23T08:33:18.710Z"
   },
   {
    "duration": 284,
    "start_time": "2021-10-23T08:33:18.715Z"
   },
   {
    "duration": 257,
    "start_time": "2021-10-23T08:34:26.256Z"
   },
   {
    "duration": 1300,
    "start_time": "2021-10-23T08:34:31.449Z"
   },
   {
    "duration": 138,
    "start_time": "2021-10-23T08:34:32.752Z"
   },
   {
    "duration": 31,
    "start_time": "2021-10-23T08:34:32.893Z"
   },
   {
    "duration": 6,
    "start_time": "2021-10-23T08:34:32.926Z"
   },
   {
    "duration": 81,
    "start_time": "2021-10-23T08:34:32.934Z"
   },
   {
    "duration": 29,
    "start_time": "2021-10-23T08:34:33.018Z"
   },
   {
    "duration": 347,
    "start_time": "2021-10-23T08:34:33.049Z"
   },
   {
    "duration": 329,
    "start_time": "2021-10-23T08:34:33.069Z"
   },
   {
    "duration": 314,
    "start_time": "2021-10-23T08:34:33.086Z"
   },
   {
    "duration": 308,
    "start_time": "2021-10-23T08:34:33.093Z"
   },
   {
    "duration": 306,
    "start_time": "2021-10-23T08:34:33.096Z"
   },
   {
    "duration": 1192,
    "start_time": "2021-10-23T08:35:10.204Z"
   },
   {
    "duration": 133,
    "start_time": "2021-10-23T08:35:11.398Z"
   },
   {
    "duration": 29,
    "start_time": "2021-10-23T08:35:11.533Z"
   },
   {
    "duration": 6,
    "start_time": "2021-10-23T08:35:11.563Z"
   },
   {
    "duration": 24,
    "start_time": "2021-10-23T08:35:11.571Z"
   },
   {
    "duration": 43,
    "start_time": "2021-10-23T08:35:11.598Z"
   },
   {
    "duration": 381,
    "start_time": "2021-10-23T08:35:11.664Z"
   },
   {
    "duration": 334,
    "start_time": "2021-10-23T08:35:11.714Z"
   },
   {
    "duration": 332,
    "start_time": "2021-10-23T08:35:11.718Z"
   },
   {
    "duration": 330,
    "start_time": "2021-10-23T08:35:11.721Z"
   },
   {
    "duration": 330,
    "start_time": "2021-10-23T08:35:11.723Z"
   },
   {
    "duration": 11,
    "start_time": "2021-10-23T08:44:57.636Z"
   },
   {
    "duration": 1230,
    "start_time": "2021-10-23T08:45:05.101Z"
   },
   {
    "duration": 135,
    "start_time": "2021-10-23T08:45:06.333Z"
   },
   {
    "duration": 39,
    "start_time": "2021-10-23T08:45:06.470Z"
   },
   {
    "duration": 7,
    "start_time": "2021-10-23T08:45:06.512Z"
   },
   {
    "duration": 11,
    "start_time": "2021-10-23T08:45:06.521Z"
   },
   {
    "duration": 57,
    "start_time": "2021-10-23T08:45:06.534Z"
   },
   {
    "duration": 378,
    "start_time": "2021-10-23T08:45:06.593Z"
   },
   {
    "duration": 325,
    "start_time": "2021-10-23T08:45:06.649Z"
   },
   {
    "duration": 325,
    "start_time": "2021-10-23T08:45:06.651Z"
   },
   {
    "duration": 321,
    "start_time": "2021-10-23T08:45:06.656Z"
   },
   {
    "duration": 321,
    "start_time": "2021-10-23T08:45:06.658Z"
   },
   {
    "duration": 320,
    "start_time": "2021-10-23T08:45:06.660Z"
   },
   {
    "duration": 8,
    "start_time": "2021-10-23T08:45:22.527Z"
   },
   {
    "duration": 5,
    "start_time": "2021-10-23T08:46:08.928Z"
   },
   {
    "duration": 10,
    "start_time": "2021-10-23T08:46:13.119Z"
   },
   {
    "duration": 9,
    "start_time": "2021-10-23T08:47:23.355Z"
   },
   {
    "duration": 80,
    "start_time": "2021-10-23T08:47:41.575Z"
   },
   {
    "duration": 8,
    "start_time": "2021-10-23T08:48:00.975Z"
   },
   {
    "duration": 6,
    "start_time": "2021-10-23T08:48:08.525Z"
   },
   {
    "duration": 6,
    "start_time": "2021-10-23T08:48:12.991Z"
   },
   {
    "duration": 7,
    "start_time": "2021-10-23T08:48:15.538Z"
   },
   {
    "duration": 8,
    "start_time": "2021-10-23T08:48:54.578Z"
   },
   {
    "duration": 79,
    "start_time": "2021-10-23T08:50:03.551Z"
   },
   {
    "duration": 7,
    "start_time": "2021-10-23T08:50:09.764Z"
   },
   {
    "duration": 6,
    "start_time": "2021-10-23T08:50:42.305Z"
   },
   {
    "duration": 15,
    "start_time": "2021-10-23T08:53:19.456Z"
   },
   {
    "duration": 8,
    "start_time": "2021-10-23T08:53:56.260Z"
   },
   {
    "duration": 12,
    "start_time": "2021-10-23T09:00:51.531Z"
   },
   {
    "duration": 256,
    "start_time": "2021-10-23T09:01:16.392Z"
   },
   {
    "duration": 240,
    "start_time": "2021-10-23T09:01:20.954Z"
   },
   {
    "duration": 1184,
    "start_time": "2021-10-23T09:01:27.068Z"
   },
   {
    "duration": 132,
    "start_time": "2021-10-23T09:01:28.254Z"
   },
   {
    "duration": 32,
    "start_time": "2021-10-23T09:01:28.388Z"
   },
   {
    "duration": 5,
    "start_time": "2021-10-23T09:01:28.422Z"
   },
   {
    "duration": 8,
    "start_time": "2021-10-23T09:01:28.429Z"
   },
   {
    "duration": 36,
    "start_time": "2021-10-23T09:01:28.439Z"
   },
   {
    "duration": 28,
    "start_time": "2021-10-23T09:01:28.477Z"
   },
   {
    "duration": 318,
    "start_time": "2021-10-23T09:01:28.507Z"
   },
   {
    "duration": 321,
    "start_time": "2021-10-23T09:01:28.506Z"
   },
   {
    "duration": 315,
    "start_time": "2021-10-23T09:01:28.513Z"
   },
   {
    "duration": 314,
    "start_time": "2021-10-23T09:01:28.516Z"
   },
   {
    "duration": 302,
    "start_time": "2021-10-23T09:01:28.529Z"
   },
   {
    "duration": 300,
    "start_time": "2021-10-23T09:01:28.531Z"
   },
   {
    "duration": 246,
    "start_time": "2021-10-23T09:04:00.727Z"
   },
   {
    "duration": 1203,
    "start_time": "2021-10-23T09:04:07.028Z"
   },
   {
    "duration": 134,
    "start_time": "2021-10-23T09:04:08.233Z"
   },
   {
    "duration": 28,
    "start_time": "2021-10-23T09:04:08.369Z"
   },
   {
    "duration": 5,
    "start_time": "2021-10-23T09:04:08.399Z"
   },
   {
    "duration": 7,
    "start_time": "2021-10-23T09:04:08.406Z"
   },
   {
    "duration": 23,
    "start_time": "2021-10-23T09:04:08.415Z"
   },
   {
    "duration": 46,
    "start_time": "2021-10-23T09:04:08.440Z"
   },
   {
    "duration": 341,
    "start_time": "2021-10-23T09:04:08.488Z"
   },
   {
    "duration": 312,
    "start_time": "2021-10-23T09:04:08.519Z"
   },
   {
    "duration": 305,
    "start_time": "2021-10-23T09:04:08.527Z"
   },
   {
    "duration": 298,
    "start_time": "2021-10-23T09:04:08.535Z"
   },
   {
    "duration": 293,
    "start_time": "2021-10-23T09:04:08.541Z"
   },
   {
    "duration": 288,
    "start_time": "2021-10-23T09:04:08.546Z"
   },
   {
    "duration": 1159,
    "start_time": "2021-10-23T09:04:30.483Z"
   },
   {
    "duration": 135,
    "start_time": "2021-10-23T09:04:31.644Z"
   },
   {
    "duration": 28,
    "start_time": "2021-10-23T09:04:31.781Z"
   },
   {
    "duration": 16,
    "start_time": "2021-10-23T09:04:31.811Z"
   },
   {
    "duration": 28,
    "start_time": "2021-10-23T09:04:31.829Z"
   },
   {
    "duration": 46,
    "start_time": "2021-10-23T09:04:31.858Z"
   },
   {
    "duration": 34,
    "start_time": "2021-10-23T09:04:31.906Z"
   },
   {
    "duration": 331,
    "start_time": "2021-10-23T09:04:31.943Z"
   },
   {
    "duration": 315,
    "start_time": "2021-10-23T09:04:31.960Z"
   },
   {
    "duration": 305,
    "start_time": "2021-10-23T09:04:31.971Z"
   },
   {
    "duration": 302,
    "start_time": "2021-10-23T09:04:31.975Z"
   },
   {
    "duration": 301,
    "start_time": "2021-10-23T09:04:31.977Z"
   },
   {
    "duration": 300,
    "start_time": "2021-10-23T09:04:31.979Z"
   },
   {
    "duration": 1149,
    "start_time": "2021-10-23T09:05:55.495Z"
   },
   {
    "duration": 132,
    "start_time": "2021-10-23T09:05:56.646Z"
   },
   {
    "duration": 29,
    "start_time": "2021-10-23T09:05:56.780Z"
   },
   {
    "duration": 5,
    "start_time": "2021-10-23T09:05:56.811Z"
   },
   {
    "duration": 9,
    "start_time": "2021-10-23T09:05:56.817Z"
   },
   {
    "duration": 41,
    "start_time": "2021-10-23T09:05:56.827Z"
   },
   {
    "duration": 27,
    "start_time": "2021-10-23T09:05:56.870Z"
   },
   {
    "duration": 331,
    "start_time": "2021-10-23T09:05:56.899Z"
   },
   {
    "duration": 334,
    "start_time": "2021-10-23T09:05:56.898Z"
   },
   {
    "duration": 329,
    "start_time": "2021-10-23T09:05:56.904Z"
   },
   {
    "duration": 328,
    "start_time": "2021-10-23T09:05:56.906Z"
   },
   {
    "duration": 328,
    "start_time": "2021-10-23T09:05:56.907Z"
   },
   {
    "duration": 327,
    "start_time": "2021-10-23T09:05:56.909Z"
   },
   {
    "duration": 1253,
    "start_time": "2021-10-23T09:07:16.734Z"
   },
   {
    "duration": 136,
    "start_time": "2021-10-23T09:07:17.989Z"
   },
   {
    "duration": 30,
    "start_time": "2021-10-23T09:07:18.128Z"
   },
   {
    "duration": 6,
    "start_time": "2021-10-23T09:07:18.161Z"
   },
   {
    "duration": 389,
    "start_time": "2021-10-23T09:07:18.170Z"
   },
   {
    "duration": 324,
    "start_time": "2021-10-23T09:07:18.238Z"
   },
   {
    "duration": 320,
    "start_time": "2021-10-23T09:07:18.243Z"
   },
   {
    "duration": 316,
    "start_time": "2021-10-23T09:07:18.249Z"
   },
   {
    "duration": 311,
    "start_time": "2021-10-23T09:07:18.255Z"
   },
   {
    "duration": 307,
    "start_time": "2021-10-23T09:07:18.260Z"
   },
   {
    "duration": 303,
    "start_time": "2021-10-23T09:07:18.265Z"
   },
   {
    "duration": 298,
    "start_time": "2021-10-23T09:07:18.271Z"
   },
   {
    "duration": 242,
    "start_time": "2021-10-23T09:07:18.328Z"
   },
   {
    "duration": 243,
    "start_time": "2021-10-23T09:07:32.353Z"
   },
   {
    "duration": 5,
    "start_time": "2021-10-23T09:07:37.473Z"
   },
   {
    "duration": 18,
    "start_time": "2021-10-23T09:09:01.194Z"
   },
   {
    "duration": 274,
    "start_time": "2021-10-23T09:09:30.129Z"
   },
   {
    "duration": 1161,
    "start_time": "2021-10-23T09:09:35.875Z"
   },
   {
    "duration": 133,
    "start_time": "2021-10-23T09:09:37.039Z"
   },
   {
    "duration": 28,
    "start_time": "2021-10-23T09:09:37.177Z"
   },
   {
    "duration": 5,
    "start_time": "2021-10-23T09:09:37.207Z"
   },
   {
    "duration": 8,
    "start_time": "2021-10-23T09:09:37.214Z"
   },
   {
    "duration": 42,
    "start_time": "2021-10-23T09:09:37.224Z"
   },
   {
    "duration": 27,
    "start_time": "2021-10-23T09:09:37.268Z"
   },
   {
    "duration": 340,
    "start_time": "2021-10-23T09:09:37.298Z"
   },
   {
    "duration": 337,
    "start_time": "2021-10-23T09:09:37.303Z"
   },
   {
    "duration": 336,
    "start_time": "2021-10-23T09:09:37.305Z"
   },
   {
    "duration": 335,
    "start_time": "2021-10-23T09:09:37.307Z"
   },
   {
    "duration": 335,
    "start_time": "2021-10-23T09:09:37.309Z"
   },
   {
    "duration": 294,
    "start_time": "2021-10-23T09:09:37.351Z"
   },
   {
    "duration": 265,
    "start_time": "2021-10-23T09:10:08.230Z"
   },
   {
    "duration": 237,
    "start_time": "2021-10-23T09:10:17.376Z"
   },
   {
    "duration": 283,
    "start_time": "2021-10-23T09:10:24.769Z"
   },
   {
    "duration": 1215,
    "start_time": "2021-10-23T09:10:35.000Z"
   },
   {
    "duration": 144,
    "start_time": "2021-10-23T09:10:36.218Z"
   },
   {
    "duration": 32,
    "start_time": "2021-10-23T09:10:36.364Z"
   },
   {
    "duration": 6,
    "start_time": "2021-10-23T09:10:36.398Z"
   },
   {
    "duration": 8,
    "start_time": "2021-10-23T09:10:36.406Z"
   },
   {
    "duration": 21,
    "start_time": "2021-10-23T09:10:36.416Z"
   },
   {
    "duration": 56,
    "start_time": "2021-10-23T09:10:36.439Z"
   },
   {
    "duration": 349,
    "start_time": "2021-10-23T09:10:36.498Z"
   },
   {
    "duration": 328,
    "start_time": "2021-10-23T09:10:36.521Z"
   },
   {
    "duration": 327,
    "start_time": "2021-10-23T09:10:36.523Z"
   },
   {
    "duration": 326,
    "start_time": "2021-10-23T09:10:36.525Z"
   },
   {
    "duration": 323,
    "start_time": "2021-10-23T09:10:36.529Z"
   },
   {
    "duration": 240,
    "start_time": "2021-10-23T09:10:36.613Z"
   },
   {
    "duration": 246,
    "start_time": "2021-10-23T09:13:37.228Z"
   },
   {
    "duration": 1165,
    "start_time": "2021-10-23T09:13:42.894Z"
   },
   {
    "duration": 135,
    "start_time": "2021-10-23T09:13:44.063Z"
   },
   {
    "duration": 30,
    "start_time": "2021-10-23T09:13:44.201Z"
   },
   {
    "duration": 5,
    "start_time": "2021-10-23T09:13:44.233Z"
   },
   {
    "duration": 25,
    "start_time": "2021-10-23T09:13:44.239Z"
   },
   {
    "duration": 23,
    "start_time": "2021-10-23T09:13:44.266Z"
   },
   {
    "duration": 28,
    "start_time": "2021-10-23T09:13:44.290Z"
   },
   {
    "duration": 11,
    "start_time": "2021-10-23T09:13:44.322Z"
   },
   {
    "duration": 46,
    "start_time": "2021-10-23T09:13:44.335Z"
   },
   {
    "duration": 8,
    "start_time": "2021-10-23T09:13:44.383Z"
   },
   {
    "duration": 20,
    "start_time": "2021-10-23T09:13:44.392Z"
   },
   {
    "duration": 1014,
    "start_time": "2021-10-23T09:13:44.413Z"
   },
   {
    "duration": 241,
    "start_time": "2021-10-23T09:14:53.379Z"
   },
   {
    "duration": 1151,
    "start_time": "2021-10-23T09:15:20.015Z"
   },
   {
    "duration": 133,
    "start_time": "2021-10-23T09:15:21.168Z"
   },
   {
    "duration": 28,
    "start_time": "2021-10-23T09:15:21.303Z"
   },
   {
    "duration": 6,
    "start_time": "2021-10-23T09:15:21.333Z"
   },
   {
    "duration": 8,
    "start_time": "2021-10-23T09:15:21.340Z"
   },
   {
    "duration": 19,
    "start_time": "2021-10-23T09:15:21.363Z"
   },
   {
    "duration": 26,
    "start_time": "2021-10-23T09:15:21.384Z"
   },
   {
    "duration": 13,
    "start_time": "2021-10-23T09:15:21.412Z"
   },
   {
    "duration": 43,
    "start_time": "2021-10-23T09:15:21.427Z"
   },
   {
    "duration": 8,
    "start_time": "2021-10-23T09:15:21.472Z"
   },
   {
    "duration": 20,
    "start_time": "2021-10-23T09:15:21.481Z"
   },
   {
    "duration": 1156,
    "start_time": "2021-10-23T09:15:21.503Z"
   },
   {
    "duration": 1189,
    "start_time": "2021-10-23T09:18:07.560Z"
   },
   {
    "duration": 134,
    "start_time": "2021-10-23T09:18:08.751Z"
   },
   {
    "duration": 28,
    "start_time": "2021-10-23T09:18:08.887Z"
   },
   {
    "duration": 4,
    "start_time": "2021-10-23T09:18:08.917Z"
   },
   {
    "duration": 7,
    "start_time": "2021-10-23T09:18:08.923Z"
   },
   {
    "duration": 39,
    "start_time": "2021-10-23T09:18:08.932Z"
   },
   {
    "duration": 27,
    "start_time": "2021-10-23T09:18:08.973Z"
   },
   {
    "duration": 13,
    "start_time": "2021-10-23T09:18:09.002Z"
   },
   {
    "duration": 19,
    "start_time": "2021-10-23T09:18:09.017Z"
   },
   {
    "duration": 33,
    "start_time": "2021-10-23T09:18:09.038Z"
   },
   {
    "duration": 17,
    "start_time": "2021-10-23T09:18:09.073Z"
   },
   {
    "duration": 1064,
    "start_time": "2021-10-23T09:18:09.091Z"
   },
   {
    "duration": 12,
    "start_time": "2021-10-23T09:22:32.318Z"
   },
   {
    "duration": 11,
    "start_time": "2021-10-23T09:22:38.616Z"
   },
   {
    "duration": 12,
    "start_time": "2021-10-23T09:22:45.702Z"
   },
   {
    "duration": 255,
    "start_time": "2021-10-23T09:25:30.551Z"
   },
   {
    "duration": 9,
    "start_time": "2021-10-23T09:25:37.531Z"
   },
   {
    "duration": 7,
    "start_time": "2021-10-23T09:25:53.775Z"
   },
   {
    "duration": 14,
    "start_time": "2021-10-23T09:25:58.417Z"
   },
   {
    "duration": 26,
    "start_time": "2021-10-23T09:26:02.223Z"
   },
   {
    "duration": 1149,
    "start_time": "2021-10-23T09:26:15.289Z"
   },
   {
    "duration": 129,
    "start_time": "2021-10-23T09:26:16.440Z"
   },
   {
    "duration": 28,
    "start_time": "2021-10-23T09:26:16.571Z"
   },
   {
    "duration": 6,
    "start_time": "2021-10-23T09:26:16.601Z"
   },
   {
    "duration": 20,
    "start_time": "2021-10-23T09:26:16.608Z"
   },
   {
    "duration": 20,
    "start_time": "2021-10-23T09:26:16.629Z"
   },
   {
    "duration": 34,
    "start_time": "2021-10-23T09:26:16.652Z"
   },
   {
    "duration": 29,
    "start_time": "2021-10-23T09:26:16.688Z"
   },
   {
    "duration": 44,
    "start_time": "2021-10-23T09:26:16.720Z"
   },
   {
    "duration": 10,
    "start_time": "2021-10-23T09:26:16.766Z"
   },
   {
    "duration": 35,
    "start_time": "2021-10-23T09:26:16.777Z"
   },
   {
    "duration": 1069,
    "start_time": "2021-10-23T09:26:16.814Z"
   },
   {
    "duration": 1145,
    "start_time": "2021-10-23T09:26:43.509Z"
   },
   {
    "duration": 136,
    "start_time": "2021-10-23T09:26:44.656Z"
   },
   {
    "duration": 28,
    "start_time": "2021-10-23T09:26:44.794Z"
   },
   {
    "duration": 5,
    "start_time": "2021-10-23T09:26:44.825Z"
   },
   {
    "duration": 15,
    "start_time": "2021-10-23T09:26:44.832Z"
   },
   {
    "duration": 29,
    "start_time": "2021-10-23T09:26:44.849Z"
   },
   {
    "duration": 32,
    "start_time": "2021-10-23T09:26:44.880Z"
   },
   {
    "duration": 374,
    "start_time": "2021-10-23T09:26:44.914Z"
   },
   {
    "duration": 317,
    "start_time": "2021-10-23T09:26:44.972Z"
   },
   {
    "duration": 316,
    "start_time": "2021-10-23T09:26:44.974Z"
   },
   {
    "duration": 315,
    "start_time": "2021-10-23T09:26:44.976Z"
   },
   {
    "duration": 315,
    "start_time": "2021-10-23T09:26:44.977Z"
   },
   {
    "duration": 26,
    "start_time": "2021-10-23T09:27:24.056Z"
   },
   {
    "duration": 26,
    "start_time": "2021-10-23T09:27:31.096Z"
   },
   {
    "duration": 1154,
    "start_time": "2021-10-23T09:27:39.685Z"
   },
   {
    "duration": 130,
    "start_time": "2021-10-23T09:27:40.841Z"
   },
   {
    "duration": 28,
    "start_time": "2021-10-23T09:27:40.973Z"
   },
   {
    "duration": 5,
    "start_time": "2021-10-23T09:27:41.003Z"
   },
   {
    "duration": 7,
    "start_time": "2021-10-23T09:27:41.010Z"
   },
   {
    "duration": 14,
    "start_time": "2021-10-23T09:27:41.019Z"
   },
   {
    "duration": 53,
    "start_time": "2021-10-23T09:27:41.034Z"
   },
   {
    "duration": 29,
    "start_time": "2021-10-23T09:27:41.089Z"
   },
   {
    "duration": 47,
    "start_time": "2021-10-23T09:27:41.120Z"
   },
   {
    "duration": 9,
    "start_time": "2021-10-23T09:27:41.169Z"
   },
   {
    "duration": 22,
    "start_time": "2021-10-23T09:27:41.179Z"
   },
   {
    "duration": 1048,
    "start_time": "2021-10-23T09:27:41.203Z"
   },
   {
    "duration": 13,
    "start_time": "2021-10-23T09:28:36.859Z"
   },
   {
    "duration": 21,
    "start_time": "2021-10-23T09:29:21.479Z"
   },
   {
    "duration": 5776,
    "start_time": "2021-10-23T09:29:52.814Z"
   },
   {
    "duration": 10,
    "start_time": "2021-10-23T09:30:04.141Z"
   },
   {
    "duration": 248,
    "start_time": "2021-10-23T09:33:10.262Z"
   },
   {
    "duration": 1207,
    "start_time": "2021-10-23T09:33:15.349Z"
   },
   {
    "duration": 134,
    "start_time": "2021-10-23T09:33:16.559Z"
   },
   {
    "duration": 29,
    "start_time": "2021-10-23T09:33:16.695Z"
   },
   {
    "duration": 4,
    "start_time": "2021-10-23T09:33:16.726Z"
   },
   {
    "duration": 11,
    "start_time": "2021-10-23T09:33:16.732Z"
   },
   {
    "duration": 346,
    "start_time": "2021-10-23T09:33:16.745Z"
   },
   {
    "duration": 306,
    "start_time": "2021-10-23T09:33:16.787Z"
   },
   {
    "duration": 302,
    "start_time": "2021-10-23T09:33:16.792Z"
   },
   {
    "duration": 298,
    "start_time": "2021-10-23T09:33:16.797Z"
   },
   {
    "duration": 292,
    "start_time": "2021-10-23T09:33:16.804Z"
   },
   {
    "duration": 290,
    "start_time": "2021-10-23T09:33:16.807Z"
   },
   {
    "duration": 289,
    "start_time": "2021-10-23T09:33:16.809Z"
   },
   {
    "duration": 282,
    "start_time": "2021-10-23T09:33:16.817Z"
   },
   {
    "duration": 493,
    "start_time": "2021-10-23T09:33:32.119Z"
   },
   {
    "duration": 1144,
    "start_time": "2021-10-23T09:33:41.719Z"
   },
   {
    "duration": 132,
    "start_time": "2021-10-23T09:33:42.865Z"
   },
   {
    "duration": 29,
    "start_time": "2021-10-23T09:33:42.999Z"
   },
   {
    "duration": 6,
    "start_time": "2021-10-23T09:33:43.030Z"
   },
   {
    "duration": 10,
    "start_time": "2021-10-23T09:33:43.037Z"
   },
   {
    "duration": 61,
    "start_time": "2021-10-23T09:33:43.049Z"
   },
   {
    "duration": 52,
    "start_time": "2021-10-23T09:33:43.113Z"
   },
   {
    "duration": 20,
    "start_time": "2021-10-23T09:33:43.168Z"
   },
   {
    "duration": 9,
    "start_time": "2021-10-23T09:33:43.190Z"
   },
   {
    "duration": 20,
    "start_time": "2021-10-23T09:33:43.201Z"
   },
   {
    "duration": 40,
    "start_time": "2021-10-23T09:33:43.223Z"
   },
   {
    "duration": 23,
    "start_time": "2021-10-23T09:33:43.265Z"
   },
   {
    "duration": 1569,
    "start_time": "2021-10-23T09:33:43.289Z"
   },
   {
    "duration": 249,
    "start_time": "2021-10-23T09:36:16.239Z"
   },
   {
    "duration": 1217,
    "start_time": "2021-10-23T09:36:22.030Z"
   },
   {
    "duration": 136,
    "start_time": "2021-10-23T09:36:23.250Z"
   },
   {
    "duration": 31,
    "start_time": "2021-10-23T09:36:23.388Z"
   },
   {
    "duration": 6,
    "start_time": "2021-10-23T09:36:23.421Z"
   },
   {
    "duration": 9,
    "start_time": "2021-10-23T09:36:23.429Z"
   },
   {
    "duration": 42,
    "start_time": "2021-10-23T09:36:23.463Z"
   },
   {
    "duration": 25,
    "start_time": "2021-10-23T09:36:23.507Z"
   },
   {
    "duration": 34,
    "start_time": "2021-10-23T09:36:23.534Z"
   },
   {
    "duration": 9,
    "start_time": "2021-10-23T09:36:23.570Z"
   },
   {
    "duration": 19,
    "start_time": "2021-10-23T09:36:23.581Z"
   },
   {
    "duration": 8,
    "start_time": "2021-10-23T09:36:23.603Z"
   },
   {
    "duration": 56,
    "start_time": "2021-10-23T09:36:23.612Z"
   },
   {
    "duration": 1037,
    "start_time": "2021-10-23T09:36:23.670Z"
   },
   {
    "duration": 5,
    "start_time": "2021-10-23T09:39:55.666Z"
   },
   {
    "duration": 9,
    "start_time": "2021-10-23T09:40:18.185Z"
   },
   {
    "duration": 8,
    "start_time": "2021-10-23T09:41:20.574Z"
   },
   {
    "duration": 17,
    "start_time": "2021-10-23T09:42:21.822Z"
   },
   {
    "duration": 6,
    "start_time": "2021-10-23T09:43:26.173Z"
   },
   {
    "duration": 5,
    "start_time": "2021-10-23T09:43:56.365Z"
   },
   {
    "duration": 6,
    "start_time": "2021-10-23T09:45:04.925Z"
   },
   {
    "duration": 9,
    "start_time": "2021-10-23T09:46:39.125Z"
   },
   {
    "duration": 18,
    "start_time": "2021-10-23T09:48:55.604Z"
   },
   {
    "duration": 29,
    "start_time": "2021-10-23T09:54:35.827Z"
   },
   {
    "duration": 8,
    "start_time": "2021-10-23T09:55:31.176Z"
   },
   {
    "duration": 5,
    "start_time": "2021-10-23T09:55:50.528Z"
   },
   {
    "duration": 25,
    "start_time": "2021-10-23T09:56:32.035Z"
   },
   {
    "duration": 9,
    "start_time": "2021-10-23T09:59:23.100Z"
   },
   {
    "duration": 1213,
    "start_time": "2021-10-23T09:59:41.120Z"
   },
   {
    "duration": 135,
    "start_time": "2021-10-23T09:59:42.336Z"
   },
   {
    "duration": 32,
    "start_time": "2021-10-23T09:59:42.474Z"
   },
   {
    "duration": 6,
    "start_time": "2021-10-23T09:59:42.508Z"
   },
   {
    "duration": 8,
    "start_time": "2021-10-23T09:59:42.516Z"
   },
   {
    "duration": 63,
    "start_time": "2021-10-23T09:59:42.527Z"
   },
   {
    "duration": 27,
    "start_time": "2021-10-23T09:59:42.592Z"
   },
   {
    "duration": 10,
    "start_time": "2021-10-23T09:59:42.623Z"
   },
   {
    "duration": 40,
    "start_time": "2021-10-23T09:59:42.636Z"
   },
   {
    "duration": 10,
    "start_time": "2021-10-23T09:59:42.678Z"
   },
   {
    "duration": 10,
    "start_time": "2021-10-23T09:59:42.690Z"
   },
   {
    "duration": 9,
    "start_time": "2021-10-23T09:59:42.702Z"
   },
   {
    "duration": 58,
    "start_time": "2021-10-23T09:59:42.713Z"
   },
   {
    "duration": 4,
    "start_time": "2021-10-23T09:59:42.773Z"
   },
   {
    "duration": 7,
    "start_time": "2021-10-23T09:59:42.779Z"
   },
   {
    "duration": 9,
    "start_time": "2021-10-23T09:59:42.788Z"
   },
   {
    "duration": 7,
    "start_time": "2021-10-23T09:59:42.799Z"
   },
   {
    "duration": 10,
    "start_time": "2021-10-23T09:59:42.808Z"
   },
   {
    "duration": 64,
    "start_time": "2021-10-23T09:59:42.820Z"
   },
   {
    "duration": 27,
    "start_time": "2021-10-23T09:59:42.886Z"
   },
   {
    "duration": 18,
    "start_time": "2021-10-23T09:59:42.915Z"
   },
   {
    "duration": 354,
    "start_time": "2021-10-23T09:59:42.935Z"
   },
   {
    "duration": 330,
    "start_time": "2021-10-23T09:59:42.962Z"
   },
   {
    "duration": 15,
    "start_time": "2021-10-23T14:44:34.050Z"
   },
   {
    "duration": 1069,
    "start_time": "2021-10-24T21:50:44.968Z"
   },
   {
    "duration": 116,
    "start_time": "2021-10-24T21:50:46.039Z"
   },
   {
    "duration": 26,
    "start_time": "2021-10-24T21:50:46.157Z"
   },
   {
    "duration": 5,
    "start_time": "2021-10-24T21:50:46.185Z"
   },
   {
    "duration": 6,
    "start_time": "2021-10-24T21:50:46.192Z"
   },
   {
    "duration": 33,
    "start_time": "2021-10-24T21:50:46.199Z"
   },
   {
    "duration": 22,
    "start_time": "2021-10-24T21:50:46.234Z"
   },
   {
    "duration": 8,
    "start_time": "2021-10-24T21:50:46.258Z"
   },
   {
    "duration": 12,
    "start_time": "2021-10-24T21:50:46.292Z"
   },
   {
    "duration": 8,
    "start_time": "2021-10-24T21:50:46.306Z"
   },
   {
    "duration": 7,
    "start_time": "2021-10-24T21:50:46.316Z"
   },
   {
    "duration": 7,
    "start_time": "2021-10-24T21:50:46.324Z"
   },
   {
    "duration": 18,
    "start_time": "2021-10-24T21:50:46.333Z"
   },
   {
    "duration": 41,
    "start_time": "2021-10-24T21:50:46.352Z"
   },
   {
    "duration": 5,
    "start_time": "2021-10-24T21:50:46.394Z"
   },
   {
    "duration": 10,
    "start_time": "2021-10-24T21:50:46.400Z"
   },
   {
    "duration": 6,
    "start_time": "2021-10-24T21:50:46.412Z"
   },
   {
    "duration": 11,
    "start_time": "2021-10-24T21:50:46.419Z"
   },
   {
    "duration": 27,
    "start_time": "2021-10-24T21:50:46.432Z"
   },
   {
    "duration": 33,
    "start_time": "2021-10-24T21:50:46.461Z"
   },
   {
    "duration": 26,
    "start_time": "2021-10-24T21:50:46.495Z"
   },
   {
    "duration": 15,
    "start_time": "2021-10-24T21:50:46.523Z"
   },
   {
    "duration": 56,
    "start_time": "2021-10-24T21:50:46.541Z"
   },
   {
    "duration": -2413,
    "start_time": "2021-10-24T21:50:49.013Z"
   },
   {
    "duration": -2415,
    "start_time": "2021-10-24T21:50:49.016Z"
   },
   {
    "duration": -2417,
    "start_time": "2021-10-24T21:50:49.019Z"
   },
   {
    "duration": 5,
    "start_time": "2021-10-24T21:52:02.849Z"
   },
   {
    "duration": 1069,
    "start_time": "2021-10-24T22:13:55.365Z"
   },
   {
    "duration": 116,
    "start_time": "2021-10-24T22:13:56.436Z"
   },
   {
    "duration": 27,
    "start_time": "2021-10-24T22:13:56.554Z"
   },
   {
    "duration": 4,
    "start_time": "2021-10-24T22:13:56.583Z"
   },
   {
    "duration": 6,
    "start_time": "2021-10-24T22:13:56.589Z"
   },
   {
    "duration": 32,
    "start_time": "2021-10-24T22:13:56.596Z"
   },
   {
    "duration": 23,
    "start_time": "2021-10-24T22:13:56.629Z"
   },
   {
    "duration": 8,
    "start_time": "2021-10-24T22:13:56.654Z"
   },
   {
    "duration": 34,
    "start_time": "2021-10-24T22:13:56.664Z"
   },
   {
    "duration": 8,
    "start_time": "2021-10-24T22:13:56.699Z"
   },
   {
    "duration": 14,
    "start_time": "2021-10-24T22:13:56.708Z"
   },
   {
    "duration": 6,
    "start_time": "2021-10-24T22:13:56.723Z"
   },
   {
    "duration": 19,
    "start_time": "2021-10-24T22:13:56.731Z"
   },
   {
    "duration": 4,
    "start_time": "2021-10-24T22:13:56.751Z"
   },
   {
    "duration": 5,
    "start_time": "2021-10-24T22:13:56.756Z"
   },
   {
    "duration": 35,
    "start_time": "2021-10-24T22:13:56.762Z"
   },
   {
    "duration": 6,
    "start_time": "2021-10-24T22:13:56.798Z"
   },
   {
    "duration": 9,
    "start_time": "2021-10-24T22:13:56.806Z"
   },
   {
    "duration": 27,
    "start_time": "2021-10-24T22:13:56.817Z"
   },
   {
    "duration": 5,
    "start_time": "2021-10-24T22:13:56.845Z"
   },
   {
    "duration": 6,
    "start_time": "2021-10-24T22:13:56.851Z"
   },
   {
    "duration": 50,
    "start_time": "2021-10-24T22:13:56.859Z"
   },
   {
    "duration": 15,
    "start_time": "2021-10-24T22:13:56.912Z"
   },
   {
    "duration": 55,
    "start_time": "2021-10-24T22:13:56.929Z"
   },
   {
    "duration": -3304,
    "start_time": "2021-10-24T22:14:00.290Z"
   },
   {
    "duration": -3307,
    "start_time": "2021-10-24T22:14:00.294Z"
   },
   {
    "duration": -3309,
    "start_time": "2021-10-24T22:14:00.297Z"
   },
   {
    "duration": 1106,
    "start_time": "2021-10-25T06:56:11.986Z"
   },
   {
    "duration": 260,
    "start_time": "2021-10-25T06:56:13.094Z"
   },
   {
    "duration": 26,
    "start_time": "2021-10-25T06:56:13.356Z"
   },
   {
    "duration": 5,
    "start_time": "2021-10-25T06:56:13.384Z"
   },
   {
    "duration": 5,
    "start_time": "2021-10-25T06:56:13.391Z"
   },
   {
    "duration": 54,
    "start_time": "2021-10-25T06:56:13.398Z"
   },
   {
    "duration": 22,
    "start_time": "2021-10-25T06:56:13.453Z"
   },
   {
    "duration": 8,
    "start_time": "2021-10-25T06:56:13.478Z"
   },
   {
    "duration": 15,
    "start_time": "2021-10-25T06:56:13.488Z"
   },
   {
    "duration": 9,
    "start_time": "2021-10-25T06:56:13.505Z"
   },
   {
    "duration": 34,
    "start_time": "2021-10-25T06:56:13.516Z"
   },
   {
    "duration": 6,
    "start_time": "2021-10-25T06:56:13.552Z"
   },
   {
    "duration": 18,
    "start_time": "2021-10-25T06:56:13.560Z"
   },
   {
    "duration": 4,
    "start_time": "2021-10-25T06:56:13.579Z"
   },
   {
    "duration": 4,
    "start_time": "2021-10-25T06:56:13.585Z"
   },
   {
    "duration": 9,
    "start_time": "2021-10-25T06:56:13.591Z"
   },
   {
    "duration": 7,
    "start_time": "2021-10-25T06:56:13.602Z"
   },
   {
    "duration": 42,
    "start_time": "2021-10-25T06:56:13.611Z"
   },
   {
    "duration": 28,
    "start_time": "2021-10-25T06:56:13.655Z"
   },
   {
    "duration": 4,
    "start_time": "2021-10-25T06:56:13.685Z"
   },
   {
    "duration": 5,
    "start_time": "2021-10-25T06:56:13.691Z"
   },
   {
    "duration": 51,
    "start_time": "2021-10-25T06:56:13.698Z"
   },
   {
    "duration": 15,
    "start_time": "2021-10-25T06:56:13.751Z"
   },
   {
    "duration": 93,
    "start_time": "2021-10-25T06:56:13.768Z"
   },
   {
    "duration": -327,
    "start_time": "2021-10-25T06:56:14.189Z"
   },
   {
    "duration": -331,
    "start_time": "2021-10-25T06:56:14.194Z"
   },
   {
    "duration": -332,
    "start_time": "2021-10-25T06:56:14.196Z"
   },
   {
    "duration": 4,
    "start_time": "2021-10-25T06:57:51.062Z"
   },
   {
    "duration": 27,
    "start_time": "2021-10-25T06:57:55.150Z"
   },
   {
    "duration": 8,
    "start_time": "2021-10-25T06:58:18.275Z"
   },
   {
    "duration": 7,
    "start_time": "2021-10-25T06:58:56.785Z"
   },
   {
    "duration": 28,
    "start_time": "2021-10-25T06:59:28.599Z"
   },
   {
    "duration": 11,
    "start_time": "2021-10-25T07:01:33.350Z"
   },
   {
    "duration": 15,
    "start_time": "2021-10-25T07:01:50.277Z"
   },
   {
    "duration": 15,
    "start_time": "2021-10-25T07:02:15.348Z"
   },
   {
    "duration": 13,
    "start_time": "2021-10-25T07:02:23.470Z"
   },
   {
    "duration": 17,
    "start_time": "2021-10-25T07:02:29.526Z"
   },
   {
    "duration": 15,
    "start_time": "2021-10-25T07:02:38.548Z"
   },
   {
    "duration": 443,
    "start_time": "2021-10-25T07:02:51.563Z"
   },
   {
    "duration": 282,
    "start_time": "2021-10-25T07:03:02.116Z"
   },
   {
    "duration": 15,
    "start_time": "2021-10-25T07:03:13.684Z"
   },
   {
    "duration": 13,
    "start_time": "2021-10-25T07:03:26.530Z"
   },
   {
    "duration": 16,
    "start_time": "2021-10-25T07:03:37.836Z"
   },
   {
    "duration": 15,
    "start_time": "2021-10-25T07:05:25.457Z"
   },
   {
    "duration": 1177,
    "start_time": "2021-10-26T11:42:13.948Z"
   },
   {
    "duration": 130,
    "start_time": "2021-10-26T11:42:15.127Z"
   },
   {
    "duration": 27,
    "start_time": "2021-10-26T11:42:15.259Z"
   },
   {
    "duration": 16,
    "start_time": "2021-10-26T11:42:15.288Z"
   },
   {
    "duration": 59,
    "start_time": "2021-10-26T11:42:15.305Z"
   },
   {
    "duration": 76,
    "start_time": "2021-10-26T11:42:15.366Z"
   },
   {
    "duration": 35,
    "start_time": "2021-10-26T11:42:15.444Z"
   },
   {
    "duration": 17,
    "start_time": "2021-10-26T11:42:15.483Z"
   },
   {
    "duration": 44,
    "start_time": "2021-10-26T11:42:15.503Z"
   },
   {
    "duration": 46,
    "start_time": "2021-10-26T11:42:15.549Z"
   },
   {
    "duration": 28,
    "start_time": "2021-10-26T11:42:15.596Z"
   },
   {
    "duration": 33,
    "start_time": "2021-10-26T11:42:15.626Z"
   },
   {
    "duration": 53,
    "start_time": "2021-10-26T11:42:15.661Z"
   },
   {
    "duration": 26,
    "start_time": "2021-10-26T11:42:15.716Z"
   },
   {
    "duration": 34,
    "start_time": "2021-10-26T11:42:15.743Z"
   },
   {
    "duration": 44,
    "start_time": "2021-10-26T11:42:15.779Z"
   },
   {
    "duration": 27,
    "start_time": "2021-10-26T11:42:15.825Z"
   },
   {
    "duration": 34,
    "start_time": "2021-10-26T11:42:15.853Z"
   },
   {
    "duration": 88,
    "start_time": "2021-10-26T11:42:15.888Z"
   },
   {
    "duration": 13,
    "start_time": "2021-10-26T11:42:15.978Z"
   },
   {
    "duration": 34,
    "start_time": "2021-10-26T11:42:15.993Z"
   },
   {
    "duration": 53,
    "start_time": "2021-10-26T11:42:16.029Z"
   },
   {
    "duration": 17,
    "start_time": "2021-10-26T11:42:16.086Z"
   },
   {
    "duration": 42,
    "start_time": "2021-10-26T11:42:16.105Z"
   },
   {
    "duration": 28,
    "start_time": "2021-10-26T11:42:16.149Z"
   },
   {
    "duration": 56,
    "start_time": "2021-10-26T11:42:16.179Z"
   },
   {
    "duration": 1168,
    "start_time": "2021-10-26T11:42:16.237Z"
   },
   {
    "duration": 18,
    "start_time": "2021-10-26T11:43:00.023Z"
   },
   {
    "duration": 106,
    "start_time": "2021-10-26T11:47:41.397Z"
   },
   {
    "duration": 490,
    "start_time": "2021-10-26T11:47:47.963Z"
   },
   {
    "duration": 1659,
    "start_time": "2021-10-26T11:48:36.761Z"
   },
   {
    "duration": 33,
    "start_time": "2021-10-26T11:52:18.045Z"
   },
   {
    "duration": 27,
    "start_time": "2021-10-26T11:53:17.881Z"
   },
   {
    "duration": 17,
    "start_time": "2021-10-26T11:53:24.981Z"
   },
   {
    "duration": 19,
    "start_time": "2021-10-26T11:55:44.231Z"
   },
   {
    "duration": 2609,
    "start_time": "2021-10-26T11:56:45.108Z"
   },
   {
    "duration": 262,
    "start_time": "2021-10-26T11:57:58.632Z"
   },
   {
    "duration": 286,
    "start_time": "2021-10-26T11:58:49.613Z"
   },
   {
    "duration": 275,
    "start_time": "2021-10-26T12:02:44.570Z"
   },
   {
    "duration": 277,
    "start_time": "2021-10-26T12:02:48.394Z"
   },
   {
    "duration": 2776,
    "start_time": "2021-10-26T12:02:57.595Z"
   },
   {
    "duration": 273,
    "start_time": "2021-10-26T12:04:44.909Z"
   },
   {
    "duration": 5584,
    "start_time": "2021-10-26T12:04:54.032Z"
   },
   {
    "duration": 6043,
    "start_time": "2021-10-26T12:05:14.032Z"
   },
   {
    "duration": 5097,
    "start_time": "2021-10-26T12:05:47.500Z"
   },
   {
    "duration": 6705,
    "start_time": "2021-10-26T12:06:03.379Z"
   },
   {
    "duration": 252,
    "start_time": "2021-10-26T12:33:53.332Z"
   },
   {
    "duration": 290,
    "start_time": "2021-10-26T12:35:41.024Z"
   },
   {
    "duration": 264,
    "start_time": "2021-10-26T12:46:35.973Z"
   },
   {
    "duration": 1117,
    "start_time": "2021-10-26T12:48:39.980Z"
   },
   {
    "duration": 127,
    "start_time": "2021-10-26T12:48:41.099Z"
   },
   {
    "duration": 26,
    "start_time": "2021-10-26T12:48:41.228Z"
   },
   {
    "duration": 4,
    "start_time": "2021-10-26T12:48:41.256Z"
   },
   {
    "duration": 22,
    "start_time": "2021-10-26T12:48:41.262Z"
   },
   {
    "duration": 47,
    "start_time": "2021-10-26T12:48:41.286Z"
   },
   {
    "duration": 28,
    "start_time": "2021-10-26T12:48:41.335Z"
   },
   {
    "duration": 14,
    "start_time": "2021-10-26T12:48:41.365Z"
   },
   {
    "duration": 24,
    "start_time": "2021-10-26T12:48:41.382Z"
   },
   {
    "duration": 14,
    "start_time": "2021-10-26T12:48:41.408Z"
   },
   {
    "duration": 29,
    "start_time": "2021-10-26T12:48:41.423Z"
   },
   {
    "duration": 22,
    "start_time": "2021-10-26T12:48:41.454Z"
   },
   {
    "duration": 29,
    "start_time": "2021-10-26T12:48:41.477Z"
   },
   {
    "duration": 12,
    "start_time": "2021-10-26T12:48:41.507Z"
   },
   {
    "duration": 20,
    "start_time": "2021-10-26T12:48:41.521Z"
   },
   {
    "duration": 26,
    "start_time": "2021-10-26T12:48:41.543Z"
   },
   {
    "duration": 16,
    "start_time": "2021-10-26T12:48:41.571Z"
   },
   {
    "duration": 21,
    "start_time": "2021-10-26T12:48:41.589Z"
   },
   {
    "duration": 39,
    "start_time": "2021-10-26T12:48:41.612Z"
   },
   {
    "duration": 9,
    "start_time": "2021-10-26T12:48:41.653Z"
   },
   {
    "duration": 22,
    "start_time": "2021-10-26T12:48:41.663Z"
   },
   {
    "duration": 43,
    "start_time": "2021-10-26T12:48:41.687Z"
   },
   {
    "duration": 15,
    "start_time": "2021-10-26T12:48:41.733Z"
   },
   {
    "duration": 24,
    "start_time": "2021-10-26T12:48:41.749Z"
   },
   {
    "duration": 13,
    "start_time": "2021-10-26T12:48:41.775Z"
   },
   {
    "duration": 37,
    "start_time": "2021-10-26T12:48:41.789Z"
   },
   {
    "duration": 1149,
    "start_time": "2021-10-26T12:48:41.828Z"
   },
   {
    "duration": 243,
    "start_time": "2021-10-26T12:50:49.224Z"
   },
   {
    "duration": 236,
    "start_time": "2021-10-26T12:50:54.590Z"
   },
   {
    "duration": 231,
    "start_time": "2021-10-26T12:50:59.116Z"
   },
   {
    "duration": 225,
    "start_time": "2021-10-26T12:51:08.651Z"
   },
   {
    "duration": 288,
    "start_time": "2021-10-26T12:52:13.244Z"
   },
   {
    "duration": 256,
    "start_time": "2021-10-26T12:52:47.939Z"
   },
   {
    "duration": 280,
    "start_time": "2021-10-26T12:53:01.752Z"
   },
   {
    "duration": 7739,
    "start_time": "2021-10-26T12:53:09.479Z"
   },
   {
    "duration": 188,
    "start_time": "2021-10-26T12:54:11.874Z"
   },
   {
    "duration": 11,
    "start_time": "2021-10-26T12:58:07.359Z"
   },
   {
    "duration": 269,
    "start_time": "2021-10-26T13:01:55.419Z"
   },
   {
    "duration": 26,
    "start_time": "2021-10-26T13:02:05.326Z"
   },
   {
    "duration": 28,
    "start_time": "2021-10-26T13:04:13.403Z"
   },
   {
    "duration": 29,
    "start_time": "2021-10-26T13:05:00.022Z"
   },
   {
    "duration": 606,
    "start_time": "2021-10-26T13:08:48.726Z"
   },
   {
    "duration": 657,
    "start_time": "2021-10-26T13:09:12.435Z"
   },
   {
    "duration": 312,
    "start_time": "2021-10-26T13:09:38.440Z"
   },
   {
    "duration": 11,
    "start_time": "2021-10-26T13:10:52.384Z"
   },
   {
    "duration": 8,
    "start_time": "2021-10-26T13:11:03.874Z"
   },
   {
    "duration": 8,
    "start_time": "2021-10-26T13:11:09.633Z"
   },
   {
    "duration": 872,
    "start_time": "2021-10-26T13:12:06.908Z"
   },
   {
    "duration": 280,
    "start_time": "2021-10-26T13:20:18.226Z"
   },
   {
    "duration": 4,
    "start_time": "2021-10-26T13:20:36.863Z"
   },
   {
    "duration": 22,
    "start_time": "2021-10-26T13:24:30.709Z"
   },
   {
    "duration": 395,
    "start_time": "2021-10-26T13:25:41.091Z"
   },
   {
    "duration": 25,
    "start_time": "2021-10-26T13:26:11.324Z"
   },
   {
    "duration": 26,
    "start_time": "2021-10-26T13:28:29.933Z"
   },
   {
    "duration": 35,
    "start_time": "2021-10-26T13:34:31.614Z"
   },
   {
    "duration": 209,
    "start_time": "2021-10-26T13:35:50.955Z"
   },
   {
    "duration": 486,
    "start_time": "2021-10-26T13:36:08.092Z"
   },
   {
    "duration": 39,
    "start_time": "2021-10-26T13:36:25.848Z"
   },
   {
    "duration": 39,
    "start_time": "2021-10-26T13:37:00.134Z"
   },
   {
    "duration": 465,
    "start_time": "2021-10-26T13:48:03.523Z"
   },
   {
    "duration": 374,
    "start_time": "2021-10-26T13:48:11.316Z"
   },
   {
    "duration": 482,
    "start_time": "2021-10-26T13:48:41.124Z"
   },
   {
    "duration": 245,
    "start_time": "2021-10-26T13:49:11.641Z"
   },
   {
    "duration": 235,
    "start_time": "2021-10-26T13:49:44.570Z"
   },
   {
    "duration": 271,
    "start_time": "2021-10-26T13:52:02.502Z"
   },
   {
    "duration": 207,
    "start_time": "2021-10-26T13:52:14.702Z"
   },
   {
    "duration": 9668,
    "start_time": "2021-10-26T13:52:29.181Z"
   },
   {
    "duration": 7878,
    "start_time": "2021-10-26T13:52:50.094Z"
   },
   {
    "duration": 173,
    "start_time": "2021-10-26T13:53:16.100Z"
   },
   {
    "duration": 167,
    "start_time": "2021-10-26T13:53:45.933Z"
   },
   {
    "duration": 1187,
    "start_time": "2021-10-26T14:01:16.946Z"
   },
   {
    "duration": 132,
    "start_time": "2021-10-26T14:01:18.136Z"
   },
   {
    "duration": 28,
    "start_time": "2021-10-26T14:01:18.270Z"
   },
   {
    "duration": 7,
    "start_time": "2021-10-26T14:01:18.301Z"
   },
   {
    "duration": 29,
    "start_time": "2021-10-26T14:01:18.310Z"
   },
   {
    "duration": 54,
    "start_time": "2021-10-26T14:01:18.341Z"
   },
   {
    "duration": 33,
    "start_time": "2021-10-26T14:01:18.397Z"
   },
   {
    "duration": 19,
    "start_time": "2021-10-26T14:01:18.432Z"
   },
   {
    "duration": 48,
    "start_time": "2021-10-26T14:01:18.454Z"
   },
   {
    "duration": 37,
    "start_time": "2021-10-26T14:01:18.504Z"
   },
   {
    "duration": 53,
    "start_time": "2021-10-26T14:01:18.544Z"
   },
   {
    "duration": 26,
    "start_time": "2021-10-26T14:01:18.599Z"
   },
   {
    "duration": 47,
    "start_time": "2021-10-26T14:01:18.627Z"
   },
   {
    "duration": 26,
    "start_time": "2021-10-26T14:01:18.676Z"
   },
   {
    "duration": 44,
    "start_time": "2021-10-26T14:01:18.704Z"
   },
   {
    "duration": 36,
    "start_time": "2021-10-26T14:01:18.750Z"
   },
   {
    "duration": 38,
    "start_time": "2021-10-26T14:01:18.788Z"
   },
   {
    "duration": 1099,
    "start_time": "2021-10-26T14:02:56.208Z"
   },
   {
    "duration": 124,
    "start_time": "2021-10-26T14:02:57.309Z"
   },
   {
    "duration": 27,
    "start_time": "2021-10-26T14:02:57.435Z"
   },
   {
    "duration": 5,
    "start_time": "2021-10-26T14:02:57.463Z"
   },
   {
    "duration": 8,
    "start_time": "2021-10-26T14:02:57.470Z"
   },
   {
    "duration": 34,
    "start_time": "2021-10-26T14:02:57.479Z"
   },
   {
    "duration": 43,
    "start_time": "2021-10-26T14:02:57.515Z"
   },
   {
    "duration": 8,
    "start_time": "2021-10-26T14:02:57.559Z"
   },
   {
    "duration": 10,
    "start_time": "2021-10-26T14:02:57.570Z"
   },
   {
    "duration": 10,
    "start_time": "2021-10-26T14:02:57.582Z"
   },
   {
    "duration": 14,
    "start_time": "2021-10-26T14:02:57.593Z"
   },
   {
    "duration": 7,
    "start_time": "2021-10-26T14:02:57.608Z"
   },
   {
    "duration": 19,
    "start_time": "2021-10-26T14:02:57.644Z"
   },
   {
    "duration": 4,
    "start_time": "2021-10-26T14:02:57.665Z"
   },
   {
    "duration": 13,
    "start_time": "2021-10-26T14:02:57.671Z"
   },
   {
    "duration": 18,
    "start_time": "2021-10-26T14:02:57.685Z"
   },
   {
    "duration": 11,
    "start_time": "2021-10-26T14:02:57.705Z"
   },
   {
    "duration": 11,
    "start_time": "2021-10-26T14:02:57.717Z"
   },
   {
    "duration": 36,
    "start_time": "2021-10-26T14:02:57.730Z"
   },
   {
    "duration": 5,
    "start_time": "2021-10-26T14:02:57.767Z"
   },
   {
    "duration": 6,
    "start_time": "2021-10-26T14:02:57.773Z"
   },
   {
    "duration": 25,
    "start_time": "2021-10-26T14:02:57.781Z"
   },
   {
    "duration": 49,
    "start_time": "2021-10-26T14:02:57.808Z"
   },
   {
    "duration": 27,
    "start_time": "2021-10-26T14:02:57.859Z"
   },
   {
    "duration": 14,
    "start_time": "2021-10-26T14:02:57.888Z"
   },
   {
    "duration": 41,
    "start_time": "2021-10-26T14:02:57.904Z"
   },
   {
    "duration": 198,
    "start_time": "2021-10-26T14:02:57.949Z"
   },
   {
    "duration": 28,
    "start_time": "2021-10-26T14:02:58.150Z"
   },
   {
    "duration": 26,
    "start_time": "2021-10-26T14:02:58.179Z"
   },
   {
    "duration": 57,
    "start_time": "2021-10-26T14:02:58.206Z"
   },
   {
    "duration": 188,
    "start_time": "2021-10-26T14:04:52.534Z"
   },
   {
    "duration": 462,
    "start_time": "2021-10-26T14:07:46.492Z"
   },
   {
    "duration": 7353,
    "start_time": "2021-10-26T14:08:43.594Z"
   },
   {
    "duration": 374,
    "start_time": "2021-10-26T14:09:23.315Z"
   },
   {
    "duration": 168,
    "start_time": "2021-10-26T14:09:35.690Z"
   },
   {
    "duration": 252,
    "start_time": "2021-10-26T14:12:00.909Z"
   },
   {
    "duration": 9,
    "start_time": "2021-10-26T14:16:41.480Z"
   },
   {
    "duration": 12,
    "start_time": "2021-10-26T14:16:50.339Z"
   },
   {
    "duration": 7669,
    "start_time": "2021-10-26T14:19:55.870Z"
   },
   {
    "duration": 10,
    "start_time": "2021-10-26T14:24:29.894Z"
   },
   {
    "duration": 270,
    "start_time": "2021-10-26T14:29:10.804Z"
   },
   {
    "duration": 30,
    "start_time": "2021-10-26T14:29:16.487Z"
   },
   {
    "duration": 34,
    "start_time": "2021-10-26T14:29:59.643Z"
   },
   {
    "duration": 1545,
    "start_time": "2021-10-26T14:33:35.217Z"
   },
   {
    "duration": 3,
    "start_time": "2021-10-26T14:36:14.992Z"
   },
   {
    "duration": 6,
    "start_time": "2021-10-26T14:36:18.756Z"
   },
   {
    "duration": 8,
    "start_time": "2021-10-26T14:36:34.521Z"
   },
   {
    "duration": 9,
    "start_time": "2021-10-26T14:36:52.676Z"
   },
   {
    "duration": 12,
    "start_time": "2021-10-26T14:40:12.847Z"
   },
   {
    "duration": 11,
    "start_time": "2021-10-26T14:40:31.176Z"
   },
   {
    "duration": 29,
    "start_time": "2021-10-26T14:40:44.693Z"
   },
   {
    "duration": 27,
    "start_time": "2021-10-26T14:40:54.223Z"
   },
   {
    "duration": 11,
    "start_time": "2021-10-26T14:42:42.057Z"
   },
   {
    "duration": 27,
    "start_time": "2021-10-26T14:42:46.372Z"
   },
   {
    "duration": 4,
    "start_time": "2021-10-26T14:44:31.260Z"
   },
   {
    "duration": 8,
    "start_time": "2021-10-26T14:44:41.915Z"
   },
   {
    "duration": 8,
    "start_time": "2021-10-26T14:45:36.004Z"
   },
   {
    "duration": 31,
    "start_time": "2021-10-26T14:47:25.035Z"
   },
   {
    "duration": 26,
    "start_time": "2021-10-26T14:47:36.156Z"
   },
   {
    "duration": 5,
    "start_time": "2021-10-26T14:48:04.877Z"
   },
   {
    "duration": 5,
    "start_time": "2021-10-26T14:48:09.511Z"
   },
   {
    "duration": 6,
    "start_time": "2021-10-26T14:48:15.168Z"
   },
   {
    "duration": 5,
    "start_time": "2021-10-26T14:49:58.065Z"
   },
   {
    "duration": 6,
    "start_time": "2021-10-26T14:50:05.312Z"
   },
   {
    "duration": 268,
    "start_time": "2021-10-26T14:54:44.666Z"
   },
   {
    "duration": 11,
    "start_time": "2021-10-26T14:54:58.050Z"
   },
   {
    "duration": 10,
    "start_time": "2021-10-26T14:55:59.051Z"
   },
   {
    "duration": 1135,
    "start_time": "2021-10-26T14:56:10.451Z"
   },
   {
    "duration": 119,
    "start_time": "2021-10-26T14:56:11.588Z"
   },
   {
    "duration": 25,
    "start_time": "2021-10-26T14:56:11.709Z"
   },
   {
    "duration": 17,
    "start_time": "2021-10-26T14:56:11.736Z"
   },
   {
    "duration": 31,
    "start_time": "2021-10-26T14:56:11.754Z"
   },
   {
    "duration": 73,
    "start_time": "2021-10-26T14:56:11.786Z"
   },
   {
    "duration": 21,
    "start_time": "2021-10-26T14:56:11.861Z"
   },
   {
    "duration": 7,
    "start_time": "2021-10-26T14:56:11.884Z"
   },
   {
    "duration": 23,
    "start_time": "2021-10-26T14:56:11.893Z"
   },
   {
    "duration": 42,
    "start_time": "2021-10-26T14:56:11.917Z"
   },
   {
    "duration": 24,
    "start_time": "2021-10-26T14:56:11.961Z"
   },
   {
    "duration": 34,
    "start_time": "2021-10-26T14:56:11.986Z"
   },
   {
    "duration": 48,
    "start_time": "2021-10-26T14:56:12.021Z"
   },
   {
    "duration": 4,
    "start_time": "2021-10-26T14:56:12.071Z"
   },
   {
    "duration": 23,
    "start_time": "2021-10-26T14:56:12.076Z"
   },
   {
    "duration": 19,
    "start_time": "2021-10-26T14:56:12.100Z"
   },
   {
    "duration": 29,
    "start_time": "2021-10-26T14:56:12.120Z"
   },
   {
    "duration": 41,
    "start_time": "2021-10-26T14:56:12.150Z"
   },
   {
    "duration": 60,
    "start_time": "2021-10-26T14:56:12.193Z"
   },
   {
    "duration": 9,
    "start_time": "2021-10-26T14:56:12.255Z"
   },
   {
    "duration": 34,
    "start_time": "2021-10-26T14:56:12.265Z"
   },
   {
    "duration": 43,
    "start_time": "2021-10-26T14:56:12.300Z"
   },
   {
    "duration": 15,
    "start_time": "2021-10-26T14:56:12.346Z"
   },
   {
    "duration": 39,
    "start_time": "2021-10-26T14:56:12.362Z"
   },
   {
    "duration": 11,
    "start_time": "2021-10-26T14:56:12.402Z"
   },
   {
    "duration": 36,
    "start_time": "2021-10-26T14:56:12.415Z"
   },
   {
    "duration": 29,
    "start_time": "2021-10-26T14:56:12.453Z"
   },
   {
    "duration": 181,
    "start_time": "2021-10-26T14:56:12.484Z"
   },
   {
    "duration": 28,
    "start_time": "2021-10-26T14:56:12.667Z"
   },
   {
    "duration": 28,
    "start_time": "2021-10-26T14:56:12.696Z"
   },
   {
    "duration": 51,
    "start_time": "2021-10-26T14:56:12.725Z"
   },
   {
    "duration": 24,
    "start_time": "2021-10-26T14:56:12.777Z"
   },
   {
    "duration": 9,
    "start_time": "2021-10-26T14:56:12.803Z"
   },
   {
    "duration": 25,
    "start_time": "2021-10-26T15:15:58.058Z"
   },
   {
    "duration": 4,
    "start_time": "2021-10-26T15:25:14.893Z"
   },
   {
    "duration": 26,
    "start_time": "2021-10-26T15:28:18.625Z"
   },
   {
    "duration": 365,
    "start_time": "2021-10-26T15:29:06.525Z"
   },
   {
    "duration": 266,
    "start_time": "2021-10-26T15:29:13.721Z"
   },
   {
    "duration": 26,
    "start_time": "2021-10-26T15:29:59.890Z"
   },
   {
    "duration": 1078,
    "start_time": "2021-10-26T15:32:53.014Z"
   },
   {
    "duration": 120,
    "start_time": "2021-10-26T15:32:54.094Z"
   },
   {
    "duration": 24,
    "start_time": "2021-10-26T15:32:54.216Z"
   },
   {
    "duration": 7,
    "start_time": "2021-10-26T15:32:54.242Z"
   },
   {
    "duration": 28,
    "start_time": "2021-10-26T15:32:54.251Z"
   },
   {
    "duration": 26,
    "start_time": "2021-10-26T15:32:54.281Z"
   },
   {
    "duration": 56,
    "start_time": "2021-10-26T15:32:54.309Z"
   },
   {
    "duration": 27,
    "start_time": "2021-10-26T15:32:54.367Z"
   },
   {
    "duration": 7,
    "start_time": "2021-10-26T15:32:54.396Z"
   },
   {
    "duration": 22,
    "start_time": "2021-10-26T15:32:54.405Z"
   },
   {
    "duration": 27,
    "start_time": "2021-10-26T15:32:54.429Z"
   },
   {
    "duration": 31,
    "start_time": "2021-10-26T15:32:54.457Z"
   },
   {
    "duration": 38,
    "start_time": "2021-10-26T15:32:54.490Z"
   },
   {
    "duration": 30,
    "start_time": "2021-10-26T15:32:54.530Z"
   },
   {
    "duration": 12,
    "start_time": "2021-10-26T15:32:54.562Z"
   },
   {
    "duration": 25,
    "start_time": "2021-10-26T15:32:54.576Z"
   },
   {
    "duration": 17,
    "start_time": "2021-10-26T15:32:54.603Z"
   },
   {
    "duration": 15,
    "start_time": "2021-10-26T15:32:54.621Z"
   },
   {
    "duration": 31,
    "start_time": "2021-10-26T15:32:54.638Z"
   },
   {
    "duration": 43,
    "start_time": "2021-10-26T15:32:54.671Z"
   },
   {
    "duration": 10,
    "start_time": "2021-10-26T15:32:54.715Z"
   },
   {
    "duration": 17,
    "start_time": "2021-10-26T15:32:54.727Z"
   },
   {
    "duration": 45,
    "start_time": "2021-10-26T15:32:54.746Z"
   },
   {
    "duration": 14,
    "start_time": "2021-10-26T15:32:54.792Z"
   },
   {
    "duration": 29,
    "start_time": "2021-10-26T15:32:54.808Z"
   },
   {
    "duration": 10,
    "start_time": "2021-10-26T15:32:54.839Z"
   },
   {
    "duration": 33,
    "start_time": "2021-10-26T15:32:54.852Z"
   },
   {
    "duration": 37,
    "start_time": "2021-10-26T15:32:54.887Z"
   },
   {
    "duration": 187,
    "start_time": "2021-10-26T15:32:54.925Z"
   },
   {
    "duration": 31,
    "start_time": "2021-10-26T15:32:55.114Z"
   },
   {
    "duration": 34,
    "start_time": "2021-10-26T15:32:55.147Z"
   },
   {
    "duration": 34,
    "start_time": "2021-10-26T15:32:55.183Z"
   },
   {
    "duration": 37,
    "start_time": "2021-10-26T15:32:55.218Z"
   },
   {
    "duration": 32,
    "start_time": "2021-10-26T15:32:55.257Z"
   },
   {
    "duration": 333,
    "start_time": "2021-10-27T09:56:50.326Z"
   },
   {
    "duration": 1437,
    "start_time": "2021-10-27T09:56:55.546Z"
   },
   {
    "duration": 158,
    "start_time": "2021-10-27T09:56:56.987Z"
   },
   {
    "duration": 40,
    "start_time": "2021-10-27T09:56:57.148Z"
   },
   {
    "duration": 6,
    "start_time": "2021-10-27T09:56:57.190Z"
   },
   {
    "duration": 29,
    "start_time": "2021-10-27T09:56:57.199Z"
   },
   {
    "duration": 21,
    "start_time": "2021-10-27T09:56:57.232Z"
   },
   {
    "duration": 401,
    "start_time": "2021-10-27T09:56:57.256Z"
   },
   {
    "duration": -15103,
    "start_time": "2021-10-27T09:57:12.767Z"
   },
   {
    "duration": -15106,
    "start_time": "2021-10-27T09:57:12.772Z"
   },
   {
    "duration": -15108,
    "start_time": "2021-10-27T09:57:12.776Z"
   },
   {
    "duration": -15107,
    "start_time": "2021-10-27T09:57:12.778Z"
   },
   {
    "duration": -15107,
    "start_time": "2021-10-27T09:57:12.780Z"
   },
   {
    "duration": -15107,
    "start_time": "2021-10-27T09:57:12.782Z"
   },
   {
    "duration": -15109,
    "start_time": "2021-10-27T09:57:12.786Z"
   },
   {
    "duration": -15109,
    "start_time": "2021-10-27T09:57:12.788Z"
   },
   {
    "duration": -15114,
    "start_time": "2021-10-27T09:57:12.795Z"
   },
   {
    "duration": -15114,
    "start_time": "2021-10-27T09:57:12.797Z"
   },
   {
    "duration": -15114,
    "start_time": "2021-10-27T09:57:12.799Z"
   },
   {
    "duration": -15113,
    "start_time": "2021-10-27T09:57:12.801Z"
   },
   {
    "duration": -15113,
    "start_time": "2021-10-27T09:57:12.803Z"
   },
   {
    "duration": -15112,
    "start_time": "2021-10-27T09:57:12.804Z"
   },
   {
    "duration": -15112,
    "start_time": "2021-10-27T09:57:12.806Z"
   },
   {
    "duration": -15111,
    "start_time": "2021-10-27T09:57:12.807Z"
   },
   {
    "duration": -15092,
    "start_time": "2021-10-27T09:57:12.814Z"
   },
   {
    "duration": -15091,
    "start_time": "2021-10-27T09:57:12.815Z"
   },
   {
    "duration": -15091,
    "start_time": "2021-10-27T09:57:12.818Z"
   },
   {
    "duration": -15090,
    "start_time": "2021-10-27T09:57:12.819Z"
   },
   {
    "duration": -15090,
    "start_time": "2021-10-27T09:57:12.821Z"
   },
   {
    "duration": -15090,
    "start_time": "2021-10-27T09:57:12.823Z"
   },
   {
    "duration": -15094,
    "start_time": "2021-10-27T09:57:12.829Z"
   },
   {
    "duration": -15093,
    "start_time": "2021-10-27T09:57:12.830Z"
   },
   {
    "duration": -15092,
    "start_time": "2021-10-27T09:57:12.832Z"
   },
   {
    "duration": -15092,
    "start_time": "2021-10-27T09:57:12.834Z"
   },
   {
    "duration": -15093,
    "start_time": "2021-10-27T09:57:12.837Z"
   },
   {
    "duration": -15096,
    "start_time": "2021-10-27T09:57:12.842Z"
   },
   {
    "duration": 277,
    "start_time": "2021-10-27T09:57:22.152Z"
   },
   {
    "duration": 1584,
    "start_time": "2021-10-27T09:57:48.497Z"
   },
   {
    "duration": 162,
    "start_time": "2021-10-27T09:57:50.084Z"
   },
   {
    "duration": 41,
    "start_time": "2021-10-27T09:57:50.250Z"
   },
   {
    "duration": 6,
    "start_time": "2021-10-27T09:57:50.295Z"
   },
   {
    "duration": 10,
    "start_time": "2021-10-27T09:57:50.323Z"
   },
   {
    "duration": 10,
    "start_time": "2021-10-27T09:57:50.336Z"
   },
   {
    "duration": 89,
    "start_time": "2021-10-27T09:57:50.348Z"
   },
   {
    "duration": 6,
    "start_time": "2021-10-27T09:57:50.441Z"
   },
   {
    "duration": 37,
    "start_time": "2021-10-27T09:57:50.451Z"
   },
   {
    "duration": 44,
    "start_time": "2021-10-27T09:57:50.491Z"
   },
   {
    "duration": 16,
    "start_time": "2021-10-27T09:57:50.538Z"
   },
   {
    "duration": 13,
    "start_time": "2021-10-27T09:57:50.557Z"
   },
   {
    "duration": 51,
    "start_time": "2021-10-27T09:57:50.573Z"
   },
   {
    "duration": 10,
    "start_time": "2021-10-27T09:57:50.627Z"
   },
   {
    "duration": 29,
    "start_time": "2021-10-27T09:57:50.639Z"
   },
   {
    "duration": 5,
    "start_time": "2021-10-27T09:57:50.671Z"
   },
   {
    "duration": 45,
    "start_time": "2021-10-27T09:57:50.679Z"
   },
   {
    "duration": 15,
    "start_time": "2021-10-27T09:57:50.727Z"
   },
   {
    "duration": 11,
    "start_time": "2021-10-27T09:57:50.746Z"
   },
   {
    "duration": 21,
    "start_time": "2021-10-27T09:57:50.760Z"
   },
   {
    "duration": 63,
    "start_time": "2021-10-27T09:57:50.823Z"
   },
   {
    "duration": 8,
    "start_time": "2021-10-27T09:57:50.889Z"
   },
   {
    "duration": 8,
    "start_time": "2021-10-27T09:57:50.928Z"
   },
   {
    "duration": 43,
    "start_time": "2021-10-27T09:57:50.939Z"
   },
   {
    "duration": 56,
    "start_time": "2021-10-27T09:57:50.985Z"
   },
   {
    "duration": 41,
    "start_time": "2021-10-27T09:57:51.043Z"
   },
   {
    "duration": 40,
    "start_time": "2021-10-27T09:57:51.087Z"
   },
   {
    "duration": 23,
    "start_time": "2021-10-27T09:57:51.129Z"
   },
   {
    "duration": 31,
    "start_time": "2021-10-27T09:57:51.155Z"
   },
   {
    "duration": 375,
    "start_time": "2021-10-27T09:57:51.189Z"
   },
   {
    "duration": 64,
    "start_time": "2021-10-27T09:57:51.567Z"
   },
   {
    "duration": 51,
    "start_time": "2021-10-27T09:57:51.633Z"
   },
   {
    "duration": 84,
    "start_time": "2021-10-27T09:57:51.686Z"
   },
   {
    "duration": 64,
    "start_time": "2021-10-27T09:57:51.772Z"
   },
   {
    "duration": 15,
    "start_time": "2021-10-27T09:57:51.839Z"
   },
   {
    "duration": 17,
    "start_time": "2021-10-27T11:00:12.123Z"
   },
   {
    "duration": 481,
    "start_time": "2021-10-30T09:59:50.384Z"
   },
   {
    "duration": 1258,
    "start_time": "2021-10-30T10:00:00.781Z"
   },
   {
    "duration": 183,
    "start_time": "2021-10-30T10:00:02.041Z"
   },
   {
    "duration": 26,
    "start_time": "2021-10-30T10:00:02.226Z"
   },
   {
    "duration": 4,
    "start_time": "2021-10-30T10:00:02.254Z"
   },
   {
    "duration": 18,
    "start_time": "2021-10-30T10:00:02.259Z"
   },
   {
    "duration": 12,
    "start_time": "2021-10-30T10:00:02.278Z"
   },
   {
    "duration": 43,
    "start_time": "2021-10-30T10:00:02.291Z"
   },
   {
    "duration": 26,
    "start_time": "2021-10-30T10:00:02.336Z"
   },
   {
    "duration": 17,
    "start_time": "2021-10-30T10:00:02.365Z"
   },
   {
    "duration": 13,
    "start_time": "2021-10-30T10:00:02.383Z"
   },
   {
    "duration": 15,
    "start_time": "2021-10-30T10:00:02.398Z"
   },
   {
    "duration": 8,
    "start_time": "2021-10-30T10:00:02.415Z"
   },
   {
    "duration": 14,
    "start_time": "2021-10-30T10:00:02.425Z"
   },
   {
    "duration": 53,
    "start_time": "2021-10-30T10:00:02.441Z"
   },
   {
    "duration": 5,
    "start_time": "2021-10-30T10:00:02.495Z"
   },
   {
    "duration": 9,
    "start_time": "2021-10-30T10:00:02.501Z"
   },
   {
    "duration": 14,
    "start_time": "2021-10-30T10:00:02.512Z"
   },
   {
    "duration": 23,
    "start_time": "2021-10-30T10:00:02.527Z"
   },
   {
    "duration": 48,
    "start_time": "2021-10-30T10:00:02.552Z"
   },
   {
    "duration": 31,
    "start_time": "2021-10-30T10:00:02.602Z"
   },
   {
    "duration": 5,
    "start_time": "2021-10-30T10:00:02.635Z"
   },
   {
    "duration": 8,
    "start_time": "2021-10-30T10:00:02.641Z"
   },
   {
    "duration": 38,
    "start_time": "2021-10-30T10:00:02.652Z"
   },
   {
    "duration": 17,
    "start_time": "2021-10-30T10:00:02.693Z"
   },
   {
    "duration": 28,
    "start_time": "2021-10-30T10:00:02.713Z"
   },
   {
    "duration": 38,
    "start_time": "2021-10-30T10:00:02.743Z"
   },
   {
    "duration": 15,
    "start_time": "2021-10-30T10:00:02.783Z"
   },
   {
    "duration": 15,
    "start_time": "2021-10-30T10:00:02.800Z"
   },
   {
    "duration": 229,
    "start_time": "2021-10-30T10:00:02.817Z"
   },
   {
    "duration": 34,
    "start_time": "2021-10-30T10:00:03.048Z"
   },
   {
    "duration": 30,
    "start_time": "2021-10-30T10:00:03.084Z"
   },
   {
    "duration": 37,
    "start_time": "2021-10-30T10:00:03.116Z"
   },
   {
    "duration": 49,
    "start_time": "2021-10-30T10:00:03.155Z"
   },
   {
    "duration": 10,
    "start_time": "2021-10-30T10:00:03.205Z"
   },
   {
    "duration": 146,
    "start_time": "2021-10-30T10:02:05.269Z"
   },
   {
    "duration": 12,
    "start_time": "2021-10-30T10:09:12.812Z"
   },
   {
    "duration": 442,
    "start_time": "2021-10-30T10:13:26.914Z"
   },
   {
    "duration": 1236,
    "start_time": "2021-10-30T10:20:40.848Z"
   },
   {
    "duration": 153,
    "start_time": "2021-10-30T10:20:42.086Z"
   },
   {
    "duration": 29,
    "start_time": "2021-10-30T10:20:42.242Z"
   },
   {
    "duration": 5,
    "start_time": "2021-10-30T10:20:42.273Z"
   },
   {
    "duration": 8,
    "start_time": "2021-10-30T10:20:42.280Z"
   },
   {
    "duration": 11,
    "start_time": "2021-10-30T10:20:42.290Z"
   },
   {
    "duration": 30,
    "start_time": "2021-10-30T10:20:42.302Z"
   },
   {
    "duration": 115,
    "start_time": "2021-10-30T10:20:42.335Z"
   },
   {
    "duration": -363,
    "start_time": "2021-10-30T10:20:42.817Z"
   },
   {
    "duration": -385,
    "start_time": "2021-10-30T10:20:42.840Z"
   },
   {
    "duration": -385,
    "start_time": "2021-10-30T10:20:42.842Z"
   },
   {
    "duration": -387,
    "start_time": "2021-10-30T10:20:42.844Z"
   },
   {
    "duration": -389,
    "start_time": "2021-10-30T10:20:42.847Z"
   },
   {
    "duration": -390,
    "start_time": "2021-10-30T10:20:42.849Z"
   },
   {
    "duration": -393,
    "start_time": "2021-10-30T10:20:42.852Z"
   },
   {
    "duration": -394,
    "start_time": "2021-10-30T10:20:42.854Z"
   },
   {
    "duration": -395,
    "start_time": "2021-10-30T10:20:42.856Z"
   },
   {
    "duration": -399,
    "start_time": "2021-10-30T10:20:42.860Z"
   },
   {
    "duration": -400,
    "start_time": "2021-10-30T10:20:42.862Z"
   },
   {
    "duration": -402,
    "start_time": "2021-10-30T10:20:42.865Z"
   },
   {
    "duration": -402,
    "start_time": "2021-10-30T10:20:42.867Z"
   },
   {
    "duration": -404,
    "start_time": "2021-10-30T10:20:42.870Z"
   },
   {
    "duration": -405,
    "start_time": "2021-10-30T10:20:42.873Z"
   },
   {
    "duration": -406,
    "start_time": "2021-10-30T10:20:42.875Z"
   },
   {
    "duration": -407,
    "start_time": "2021-10-30T10:20:42.877Z"
   },
   {
    "duration": -409,
    "start_time": "2021-10-30T10:20:42.880Z"
   },
   {
    "duration": -410,
    "start_time": "2021-10-30T10:20:42.882Z"
   },
   {
    "duration": -411,
    "start_time": "2021-10-30T10:20:42.884Z"
   },
   {
    "duration": -413,
    "start_time": "2021-10-30T10:20:42.887Z"
   },
   {
    "duration": -414,
    "start_time": "2021-10-30T10:20:42.889Z"
   },
   {
    "duration": -416,
    "start_time": "2021-10-30T10:20:42.892Z"
   },
   {
    "duration": -418,
    "start_time": "2021-10-30T10:20:42.895Z"
   },
   {
    "duration": -420,
    "start_time": "2021-10-30T10:20:42.898Z"
   },
   {
    "duration": -422,
    "start_time": "2021-10-30T10:20:42.901Z"
   },
   {
    "duration": -423,
    "start_time": "2021-10-30T10:20:42.903Z"
   },
   {
    "duration": -425,
    "start_time": "2021-10-30T10:20:42.906Z"
   },
   {
    "duration": 2,
    "start_time": "2021-10-30T10:21:05.044Z"
   },
   {
    "duration": 426,
    "start_time": "2021-10-30T10:21:07.690Z"
   },
   {
    "duration": 551,
    "start_time": "2021-10-30T10:28:32.540Z"
   },
   {
    "duration": 662,
    "start_time": "2021-10-30T10:29:24.876Z"
   },
   {
    "duration": 674,
    "start_time": "2021-10-30T10:31:07.457Z"
   },
   {
    "duration": 568,
    "start_time": "2021-10-30T10:31:18.356Z"
   },
   {
    "duration": 604,
    "start_time": "2021-10-30T10:31:28.551Z"
   },
   {
    "duration": 587,
    "start_time": "2021-10-30T10:37:55.674Z"
   },
   {
    "duration": 581,
    "start_time": "2021-10-30T10:40:05.325Z"
   },
   {
    "duration": 622,
    "start_time": "2021-10-30T10:40:27.257Z"
   },
   {
    "duration": 387,
    "start_time": "2021-10-30T10:41:29.432Z"
   },
   {
    "duration": 24,
    "start_time": "2021-10-30T12:59:00.719Z"
   },
   {
    "duration": 36,
    "start_time": "2021-10-30T12:59:08.453Z"
   },
   {
    "duration": 335,
    "start_time": "2021-10-30T12:59:28.066Z"
   },
   {
    "duration": 33,
    "start_time": "2021-10-30T12:59:34.850Z"
   },
   {
    "duration": 1366,
    "start_time": "2021-10-30T13:01:08.054Z"
   },
   {
    "duration": 51,
    "start_time": "2021-10-30T13:01:21.940Z"
   },
   {
    "duration": 53,
    "start_time": "2021-10-30T13:01:41.180Z"
   },
   {
    "duration": 1138,
    "start_time": "2021-10-30T13:02:05.014Z"
   },
   {
    "duration": 177,
    "start_time": "2021-10-30T13:02:06.154Z"
   },
   {
    "duration": 28,
    "start_time": "2021-10-30T13:02:06.333Z"
   },
   {
    "duration": 4,
    "start_time": "2021-10-30T13:02:06.363Z"
   },
   {
    "duration": 8,
    "start_time": "2021-10-30T13:02:06.369Z"
   },
   {
    "duration": 9,
    "start_time": "2021-10-30T13:02:06.379Z"
   },
   {
    "duration": 28,
    "start_time": "2021-10-30T13:02:06.389Z"
   },
   {
    "duration": 2,
    "start_time": "2021-10-30T13:02:06.420Z"
   },
   {
    "duration": 439,
    "start_time": "2021-10-30T13:02:06.424Z"
   },
   {
    "duration": -300,
    "start_time": "2021-10-30T13:02:07.165Z"
   },
   {
    "duration": -310,
    "start_time": "2021-10-30T13:02:07.176Z"
   },
   {
    "duration": -314,
    "start_time": "2021-10-30T13:02:07.181Z"
   },
   {
    "duration": -316,
    "start_time": "2021-10-30T13:02:07.184Z"
   },
   {
    "duration": -319,
    "start_time": "2021-10-30T13:02:07.188Z"
   },
   {
    "duration": -320,
    "start_time": "2021-10-30T13:02:07.190Z"
   },
   {
    "duration": -321,
    "start_time": "2021-10-30T13:02:07.193Z"
   },
   {
    "duration": -321,
    "start_time": "2021-10-30T13:02:07.194Z"
   },
   {
    "duration": -324,
    "start_time": "2021-10-30T13:02:07.198Z"
   },
   {
    "duration": -326,
    "start_time": "2021-10-30T13:02:07.201Z"
   },
   {
    "duration": -328,
    "start_time": "2021-10-30T13:02:07.204Z"
   },
   {
    "duration": -329,
    "start_time": "2021-10-30T13:02:07.206Z"
   },
   {
    "duration": -330,
    "start_time": "2021-10-30T13:02:07.208Z"
   },
   {
    "duration": -395,
    "start_time": "2021-10-30T13:02:07.274Z"
   },
   {
    "duration": -396,
    "start_time": "2021-10-30T13:02:07.276Z"
   },
   {
    "duration": -398,
    "start_time": "2021-10-30T13:02:07.279Z"
   },
   {
    "duration": -399,
    "start_time": "2021-10-30T13:02:07.281Z"
   },
   {
    "duration": -401,
    "start_time": "2021-10-30T13:02:07.283Z"
   },
   {
    "duration": -402,
    "start_time": "2021-10-30T13:02:07.285Z"
   },
   {
    "duration": -404,
    "start_time": "2021-10-30T13:02:07.288Z"
   },
   {
    "duration": -406,
    "start_time": "2021-10-30T13:02:07.291Z"
   },
   {
    "duration": -407,
    "start_time": "2021-10-30T13:02:07.293Z"
   },
   {
    "duration": -409,
    "start_time": "2021-10-30T13:02:07.296Z"
   },
   {
    "duration": -411,
    "start_time": "2021-10-30T13:02:07.299Z"
   },
   {
    "duration": -412,
    "start_time": "2021-10-30T13:02:07.301Z"
   },
   {
    "duration": -413,
    "start_time": "2021-10-30T13:02:07.303Z"
   },
   {
    "duration": -416,
    "start_time": "2021-10-30T13:02:07.307Z"
   },
   {
    "duration": -418,
    "start_time": "2021-10-30T13:02:07.310Z"
   },
   {
    "duration": 379,
    "start_time": "2021-10-30T13:23:49.453Z"
   },
   {
    "duration": 342,
    "start_time": "2021-10-30T13:24:07.194Z"
   },
   {
    "duration": 356,
    "start_time": "2021-10-30T13:26:57.275Z"
   },
   {
    "duration": 372,
    "start_time": "2021-10-30T13:27:15.721Z"
   },
   {
    "duration": 1193,
    "start_time": "2021-10-30T13:27:29.996Z"
   },
   {
    "duration": 193,
    "start_time": "2021-10-30T13:27:31.191Z"
   },
   {
    "duration": 36,
    "start_time": "2021-10-30T13:27:31.386Z"
   },
   {
    "duration": 6,
    "start_time": "2021-10-30T13:27:31.426Z"
   },
   {
    "duration": 10,
    "start_time": "2021-10-30T13:27:31.435Z"
   },
   {
    "duration": 31,
    "start_time": "2021-10-30T13:27:31.447Z"
   },
   {
    "duration": 52,
    "start_time": "2021-10-30T13:27:31.480Z"
   },
   {
    "duration": 5,
    "start_time": "2021-10-30T13:27:31.534Z"
   },
   {
    "duration": 494,
    "start_time": "2021-10-30T13:27:31.542Z"
   },
   {
    "duration": -587,
    "start_time": "2021-10-30T13:27:32.627Z"
   },
   {
    "duration": -703,
    "start_time": "2021-10-30T13:27:32.744Z"
   },
   {
    "duration": -703,
    "start_time": "2021-10-30T13:27:32.746Z"
   },
   {
    "duration": -705,
    "start_time": "2021-10-30T13:27:32.749Z"
   },
   {
    "duration": -705,
    "start_time": "2021-10-30T13:27:32.751Z"
   },
   {
    "duration": -709,
    "start_time": "2021-10-30T13:27:32.756Z"
   },
   {
    "duration": -715,
    "start_time": "2021-10-30T13:27:32.764Z"
   },
   {
    "duration": -719,
    "start_time": "2021-10-30T13:27:32.769Z"
   },
   {
    "duration": -723,
    "start_time": "2021-10-30T13:27:32.775Z"
   },
   {
    "duration": -726,
    "start_time": "2021-10-30T13:27:32.779Z"
   },
   {
    "duration": -728,
    "start_time": "2021-10-30T13:27:32.783Z"
   },
   {
    "duration": -730,
    "start_time": "2021-10-30T13:27:32.786Z"
   },
   {
    "duration": -730,
    "start_time": "2021-10-30T13:27:32.788Z"
   },
   {
    "duration": -731,
    "start_time": "2021-10-30T13:27:32.790Z"
   },
   {
    "duration": -731,
    "start_time": "2021-10-30T13:27:32.792Z"
   },
   {
    "duration": -732,
    "start_time": "2021-10-30T13:27:32.794Z"
   },
   {
    "duration": -732,
    "start_time": "2021-10-30T13:27:32.796Z"
   },
   {
    "duration": -813,
    "start_time": "2021-10-30T13:27:32.878Z"
   },
   {
    "duration": -815,
    "start_time": "2021-10-30T13:27:32.882Z"
   },
   {
    "duration": -817,
    "start_time": "2021-10-30T13:27:32.885Z"
   },
   {
    "duration": -817,
    "start_time": "2021-10-30T13:27:32.887Z"
   },
   {
    "duration": -818,
    "start_time": "2021-10-30T13:27:32.889Z"
   },
   {
    "duration": -818,
    "start_time": "2021-10-30T13:27:32.891Z"
   },
   {
    "duration": -820,
    "start_time": "2021-10-30T13:27:32.894Z"
   },
   {
    "duration": -820,
    "start_time": "2021-10-30T13:27:32.896Z"
   },
   {
    "duration": -820,
    "start_time": "2021-10-30T13:27:32.898Z"
   },
   {
    "duration": -821,
    "start_time": "2021-10-30T13:27:32.900Z"
   },
   {
    "duration": -822,
    "start_time": "2021-10-30T13:27:32.902Z"
   },
   {
    "duration": -822,
    "start_time": "2021-10-30T13:27:32.904Z"
   },
   {
    "duration": 370,
    "start_time": "2021-10-30T13:28:15.545Z"
   },
   {
    "duration": 397,
    "start_time": "2021-10-30T13:28:49.007Z"
   },
   {
    "duration": 15,
    "start_time": "2021-10-30T13:28:57.511Z"
   },
   {
    "duration": 328,
    "start_time": "2021-10-30T13:29:15.035Z"
   },
   {
    "duration": 358,
    "start_time": "2021-10-30T13:31:43.126Z"
   },
   {
    "duration": 580,
    "start_time": "2021-10-30T13:33:36.430Z"
   },
   {
    "duration": 356,
    "start_time": "2021-10-30T13:33:51.750Z"
   },
   {
    "duration": 630,
    "start_time": "2021-10-30T13:33:56.271Z"
   },
   {
    "duration": 365,
    "start_time": "2021-10-30T13:34:02.044Z"
   },
   {
    "duration": 1414,
    "start_time": "2021-10-30T13:34:11.355Z"
   },
   {
    "duration": 347,
    "start_time": "2021-10-30T13:36:36.032Z"
   },
   {
    "duration": 1389,
    "start_time": "2021-10-30T13:37:04.612Z"
   },
   {
    "duration": 1376,
    "start_time": "2021-10-30T13:37:17.082Z"
   },
   {
    "duration": 356,
    "start_time": "2021-10-30T13:42:52.418Z"
   },
   {
    "duration": 5,
    "start_time": "2021-10-30T13:42:58.461Z"
   },
   {
    "duration": 6,
    "start_time": "2021-10-30T13:43:52.618Z"
   },
   {
    "duration": 6,
    "start_time": "2021-10-30T13:44:02.363Z"
   },
   {
    "duration": 345,
    "start_time": "2021-10-30T13:44:25.926Z"
   },
   {
    "duration": 385,
    "start_time": "2021-10-30T13:44:45.594Z"
   },
   {
    "duration": 1364,
    "start_time": "2021-10-30T13:48:21.144Z"
   },
   {
    "duration": 112,
    "start_time": "2021-10-30T13:48:35.853Z"
   },
   {
    "duration": 8,
    "start_time": "2021-10-30T13:49:01.388Z"
   },
   {
    "duration": 7,
    "start_time": "2021-10-30T13:49:15.021Z"
   },
   {
    "duration": 1233,
    "start_time": "2021-10-30T13:50:18.054Z"
   },
   {
    "duration": 140,
    "start_time": "2021-10-30T13:50:19.289Z"
   },
   {
    "duration": 28,
    "start_time": "2021-10-30T13:50:19.431Z"
   },
   {
    "duration": 4,
    "start_time": "2021-10-30T13:50:19.461Z"
   },
   {
    "duration": 6,
    "start_time": "2021-10-30T13:50:19.467Z"
   },
   {
    "duration": 7,
    "start_time": "2021-10-30T13:50:19.475Z"
   },
   {
    "duration": 26,
    "start_time": "2021-10-30T13:50:19.484Z"
   },
   {
    "duration": 2,
    "start_time": "2021-10-30T13:50:19.513Z"
   },
   {
    "duration": 7,
    "start_time": "2021-10-30T13:50:19.517Z"
   },
   {
    "duration": 26,
    "start_time": "2021-10-30T13:50:19.526Z"
   },
   {
    "duration": 31,
    "start_time": "2021-10-30T13:50:19.554Z"
   },
   {
    "duration": 13,
    "start_time": "2021-10-30T13:50:19.587Z"
   },
   {
    "duration": 9,
    "start_time": "2021-10-30T13:50:19.602Z"
   },
   {
    "duration": 8,
    "start_time": "2021-10-30T13:50:19.613Z"
   },
   {
    "duration": 9,
    "start_time": "2021-10-30T13:50:19.623Z"
   },
   {
    "duration": 56,
    "start_time": "2021-10-30T13:50:19.633Z"
   },
   {
    "duration": 108,
    "start_time": "2021-10-30T13:50:19.691Z"
   },
   {
    "duration": -330,
    "start_time": "2021-10-30T13:50:20.131Z"
   },
   {
    "duration": -333,
    "start_time": "2021-10-30T13:50:20.135Z"
   },
   {
    "duration": -335,
    "start_time": "2021-10-30T13:50:20.138Z"
   },
   {
    "duration": -336,
    "start_time": "2021-10-30T13:50:20.140Z"
   },
   {
    "duration": -337,
    "start_time": "2021-10-30T13:50:20.142Z"
   },
   {
    "duration": -338,
    "start_time": "2021-10-30T13:50:20.144Z"
   },
   {
    "duration": -344,
    "start_time": "2021-10-30T13:50:20.151Z"
   },
   {
    "duration": -347,
    "start_time": "2021-10-30T13:50:20.155Z"
   },
   {
    "duration": -348,
    "start_time": "2021-10-30T13:50:20.157Z"
   },
   {
    "duration": -349,
    "start_time": "2021-10-30T13:50:20.159Z"
   },
   {
    "duration": -351,
    "start_time": "2021-10-30T13:50:20.162Z"
   },
   {
    "duration": -351,
    "start_time": "2021-10-30T13:50:20.164Z"
   },
   {
    "duration": -353,
    "start_time": "2021-10-30T13:50:20.167Z"
   },
   {
    "duration": -355,
    "start_time": "2021-10-30T13:50:20.170Z"
   },
   {
    "duration": -357,
    "start_time": "2021-10-30T13:50:20.173Z"
   },
   {
    "duration": -358,
    "start_time": "2021-10-30T13:50:20.175Z"
   },
   {
    "duration": -360,
    "start_time": "2021-10-30T13:50:20.178Z"
   },
   {
    "duration": -361,
    "start_time": "2021-10-30T13:50:20.180Z"
   },
   {
    "duration": -363,
    "start_time": "2021-10-30T13:50:20.183Z"
   },
   {
    "duration": -364,
    "start_time": "2021-10-30T13:50:20.185Z"
   },
   {
    "duration": -365,
    "start_time": "2021-10-30T13:50:20.188Z"
   },
   {
    "duration": 5,
    "start_time": "2021-10-30T13:57:54.211Z"
   },
   {
    "duration": 2549,
    "start_time": "2021-10-30T13:58:33.422Z"
   },
   {
    "duration": 378,
    "start_time": "2021-10-30T14:01:03.315Z"
   },
   {
    "duration": 424,
    "start_time": "2021-10-30T14:02:09.206Z"
   },
   {
    "duration": 4,
    "start_time": "2021-10-30T14:02:16.957Z"
   },
   {
    "duration": 577,
    "start_time": "2021-10-30T14:02:38.729Z"
   },
   {
    "duration": 573,
    "start_time": "2021-10-30T14:09:56.893Z"
   },
   {
    "duration": 726,
    "start_time": "2021-10-30T14:10:50.281Z"
   },
   {
    "duration": 15,
    "start_time": "2021-10-30T14:10:54.370Z"
   },
   {
    "duration": 13,
    "start_time": "2021-10-30T14:11:16.870Z"
   },
   {
    "duration": 14,
    "start_time": "2021-10-30T14:11:28.218Z"
   },
   {
    "duration": 13,
    "start_time": "2021-10-30T14:11:54.690Z"
   },
   {
    "duration": 1303,
    "start_time": "2021-10-30T14:12:03.870Z"
   },
   {
    "duration": 187,
    "start_time": "2021-10-30T14:12:05.176Z"
   },
   {
    "duration": 33,
    "start_time": "2021-10-30T14:12:05.365Z"
   },
   {
    "duration": 4,
    "start_time": "2021-10-30T14:12:05.401Z"
   },
   {
    "duration": 18,
    "start_time": "2021-10-30T14:12:05.406Z"
   },
   {
    "duration": 23,
    "start_time": "2021-10-30T14:12:05.426Z"
   },
   {
    "duration": 28,
    "start_time": "2021-10-30T14:12:05.451Z"
   },
   {
    "duration": 4,
    "start_time": "2021-10-30T14:12:05.481Z"
   },
   {
    "duration": 24,
    "start_time": "2021-10-30T14:12:05.488Z"
   },
   {
    "duration": 34,
    "start_time": "2021-10-30T14:12:05.514Z"
   },
   {
    "duration": 9,
    "start_time": "2021-10-30T14:12:05.550Z"
   },
   {
    "duration": 31,
    "start_time": "2021-10-30T14:12:05.561Z"
   },
   {
    "duration": 9,
    "start_time": "2021-10-30T14:12:05.594Z"
   },
   {
    "duration": 21,
    "start_time": "2021-10-30T14:12:05.605Z"
   },
   {
    "duration": 32,
    "start_time": "2021-10-30T14:12:05.627Z"
   },
   {
    "duration": 42,
    "start_time": "2021-10-30T14:12:05.661Z"
   },
   {
    "duration": 120,
    "start_time": "2021-10-30T14:12:05.705Z"
   },
   {
    "duration": -297,
    "start_time": "2021-10-30T14:12:06.124Z"
   },
   {
    "duration": -299,
    "start_time": "2021-10-30T14:12:06.127Z"
   },
   {
    "duration": -301,
    "start_time": "2021-10-30T14:12:06.130Z"
   },
   {
    "duration": -302,
    "start_time": "2021-10-30T14:12:06.133Z"
   },
   {
    "duration": -304,
    "start_time": "2021-10-30T14:12:06.135Z"
   },
   {
    "duration": -306,
    "start_time": "2021-10-30T14:12:06.138Z"
   },
   {
    "duration": -306,
    "start_time": "2021-10-30T14:12:06.140Z"
   },
   {
    "duration": -318,
    "start_time": "2021-10-30T14:12:06.153Z"
   },
   {
    "duration": -320,
    "start_time": "2021-10-30T14:12:06.156Z"
   },
   {
    "duration": -324,
    "start_time": "2021-10-30T14:12:06.160Z"
   },
   {
    "duration": -327,
    "start_time": "2021-10-30T14:12:06.164Z"
   },
   {
    "duration": -332,
    "start_time": "2021-10-30T14:12:06.170Z"
   },
   {
    "duration": -333,
    "start_time": "2021-10-30T14:12:06.172Z"
   },
   {
    "duration": -335,
    "start_time": "2021-10-30T14:12:06.175Z"
   },
   {
    "duration": -337,
    "start_time": "2021-10-30T14:12:06.178Z"
   },
   {
    "duration": -340,
    "start_time": "2021-10-30T14:12:06.182Z"
   },
   {
    "duration": -341,
    "start_time": "2021-10-30T14:12:06.184Z"
   },
   {
    "duration": -343,
    "start_time": "2021-10-30T14:12:06.187Z"
   },
   {
    "duration": -350,
    "start_time": "2021-10-30T14:12:06.195Z"
   },
   {
    "duration": -354,
    "start_time": "2021-10-30T14:12:06.200Z"
   },
   {
    "duration": -357,
    "start_time": "2021-10-30T14:12:06.204Z"
   },
   {
    "duration": 13,
    "start_time": "2021-10-30T14:12:24.988Z"
   },
   {
    "duration": 10,
    "start_time": "2021-10-30T14:12:37.665Z"
   },
   {
    "duration": 16,
    "start_time": "2021-10-30T14:12:38.675Z"
   },
   {
    "duration": 1292,
    "start_time": "2021-10-30T14:13:11.966Z"
   },
   {
    "duration": 160,
    "start_time": "2021-10-30T14:13:13.260Z"
   },
   {
    "duration": 27,
    "start_time": "2021-10-30T14:13:13.423Z"
   },
   {
    "duration": 4,
    "start_time": "2021-10-30T14:13:13.452Z"
   },
   {
    "duration": 20,
    "start_time": "2021-10-30T14:13:13.458Z"
   },
   {
    "duration": 13,
    "start_time": "2021-10-30T14:13:13.480Z"
   },
   {
    "duration": 25,
    "start_time": "2021-10-30T14:13:13.495Z"
   },
   {
    "duration": 2,
    "start_time": "2021-10-30T14:13:13.522Z"
   },
   {
    "duration": 12,
    "start_time": "2021-10-30T14:13:13.527Z"
   },
   {
    "duration": 55,
    "start_time": "2021-10-30T14:13:13.541Z"
   },
   {
    "duration": 10,
    "start_time": "2021-10-30T14:13:13.598Z"
   },
   {
    "duration": 12,
    "start_time": "2021-10-30T14:13:13.610Z"
   },
   {
    "duration": 8,
    "start_time": "2021-10-30T14:13:13.624Z"
   },
   {
    "duration": 8,
    "start_time": "2021-10-30T14:13:13.634Z"
   },
   {
    "duration": 43,
    "start_time": "2021-10-30T14:13:13.644Z"
   },
   {
    "duration": 22,
    "start_time": "2021-10-30T14:13:13.690Z"
   },
   {
    "duration": 119,
    "start_time": "2021-10-30T14:13:13.714Z"
   },
   {
    "duration": -600,
    "start_time": "2021-10-30T14:13:14.436Z"
   },
   {
    "duration": -601,
    "start_time": "2021-10-30T14:13:14.438Z"
   },
   {
    "duration": -603,
    "start_time": "2021-10-30T14:13:14.442Z"
   },
   {
    "duration": -605,
    "start_time": "2021-10-30T14:13:14.445Z"
   },
   {
    "duration": -607,
    "start_time": "2021-10-30T14:13:14.448Z"
   },
   {
    "duration": -608,
    "start_time": "2021-10-30T14:13:14.450Z"
   },
   {
    "duration": -610,
    "start_time": "2021-10-30T14:13:14.453Z"
   },
   {
    "duration": -613,
    "start_time": "2021-10-30T14:13:14.457Z"
   },
   {
    "duration": -614,
    "start_time": "2021-10-30T14:13:14.459Z"
   },
   {
    "duration": -615,
    "start_time": "2021-10-30T14:13:14.461Z"
   },
   {
    "duration": -622,
    "start_time": "2021-10-30T14:13:14.469Z"
   },
   {
    "duration": -626,
    "start_time": "2021-10-30T14:13:14.473Z"
   },
   {
    "duration": -627,
    "start_time": "2021-10-30T14:13:14.476Z"
   },
   {
    "duration": -629,
    "start_time": "2021-10-30T14:13:14.479Z"
   },
   {
    "duration": -630,
    "start_time": "2021-10-30T14:13:14.481Z"
   },
   {
    "duration": -607,
    "start_time": "2021-10-30T14:13:14.484Z"
   },
   {
    "duration": -608,
    "start_time": "2021-10-30T14:13:14.487Z"
   },
   {
    "duration": -610,
    "start_time": "2021-10-30T14:13:14.490Z"
   },
   {
    "duration": -612,
    "start_time": "2021-10-30T14:13:14.494Z"
   },
   {
    "duration": -613,
    "start_time": "2021-10-30T14:13:14.497Z"
   },
   {
    "duration": -613,
    "start_time": "2021-10-30T14:13:14.499Z"
   },
   {
    "duration": 11,
    "start_time": "2021-10-30T14:13:30.264Z"
   },
   {
    "duration": 1208,
    "start_time": "2021-10-30T14:13:45.828Z"
   },
   {
    "duration": 177,
    "start_time": "2021-10-30T14:13:47.038Z"
   },
   {
    "duration": 27,
    "start_time": "2021-10-30T14:13:47.217Z"
   },
   {
    "duration": 4,
    "start_time": "2021-10-30T14:13:47.246Z"
   },
   {
    "duration": 7,
    "start_time": "2021-10-30T14:13:47.251Z"
   },
   {
    "duration": 19,
    "start_time": "2021-10-30T14:13:47.260Z"
   },
   {
    "duration": 26,
    "start_time": "2021-10-30T14:13:47.283Z"
   },
   {
    "duration": 3,
    "start_time": "2021-10-30T14:13:47.310Z"
   },
   {
    "duration": 11,
    "start_time": "2021-10-30T14:13:47.316Z"
   },
   {
    "duration": 67,
    "start_time": "2021-10-30T14:13:47.329Z"
   },
   {
    "duration": 10,
    "start_time": "2021-10-30T14:13:47.398Z"
   },
   {
    "duration": 12,
    "start_time": "2021-10-30T14:13:47.410Z"
   },
   {
    "duration": 8,
    "start_time": "2021-10-30T14:13:47.424Z"
   },
   {
    "duration": 44,
    "start_time": "2021-10-30T14:13:47.433Z"
   },
   {
    "duration": 11,
    "start_time": "2021-10-30T14:13:47.479Z"
   },
   {
    "duration": 20,
    "start_time": "2021-10-30T14:13:47.493Z"
   },
   {
    "duration": 117,
    "start_time": "2021-10-30T14:13:47.515Z"
   },
   {
    "duration": -792,
    "start_time": "2021-10-30T14:13:48.426Z"
   },
   {
    "duration": -794,
    "start_time": "2021-10-30T14:13:48.429Z"
   },
   {
    "duration": -796,
    "start_time": "2021-10-30T14:13:48.432Z"
   },
   {
    "duration": -867,
    "start_time": "2021-10-30T14:13:48.504Z"
   },
   {
    "duration": -868,
    "start_time": "2021-10-30T14:13:48.506Z"
   },
   {
    "duration": -870,
    "start_time": "2021-10-30T14:13:48.509Z"
   },
   {
    "duration": -872,
    "start_time": "2021-10-30T14:13:48.512Z"
   },
   {
    "duration": -874,
    "start_time": "2021-10-30T14:13:48.515Z"
   },
   {
    "duration": -876,
    "start_time": "2021-10-30T14:13:48.518Z"
   },
   {
    "duration": -878,
    "start_time": "2021-10-30T14:13:48.521Z"
   },
   {
    "duration": -879,
    "start_time": "2021-10-30T14:13:48.523Z"
   },
   {
    "duration": -881,
    "start_time": "2021-10-30T14:13:48.526Z"
   },
   {
    "duration": -885,
    "start_time": "2021-10-30T14:13:48.531Z"
   },
   {
    "duration": -890,
    "start_time": "2021-10-30T14:13:48.537Z"
   },
   {
    "duration": -892,
    "start_time": "2021-10-30T14:13:48.540Z"
   },
   {
    "duration": -894,
    "start_time": "2021-10-30T14:13:48.543Z"
   },
   {
    "duration": -897,
    "start_time": "2021-10-30T14:13:48.547Z"
   },
   {
    "duration": -899,
    "start_time": "2021-10-30T14:13:48.550Z"
   },
   {
    "duration": -902,
    "start_time": "2021-10-30T14:13:48.553Z"
   },
   {
    "duration": -904,
    "start_time": "2021-10-30T14:13:48.556Z"
   },
   {
    "duration": -905,
    "start_time": "2021-10-30T14:13:48.558Z"
   },
   {
    "duration": 10,
    "start_time": "2021-10-30T14:14:29.899Z"
   },
   {
    "duration": 1200,
    "start_time": "2021-10-30T14:14:40.171Z"
   },
   {
    "duration": 143,
    "start_time": "2021-10-30T14:14:41.374Z"
   },
   {
    "duration": 27,
    "start_time": "2021-10-30T14:14:41.520Z"
   },
   {
    "duration": 4,
    "start_time": "2021-10-30T14:14:41.549Z"
   },
   {
    "duration": 16,
    "start_time": "2021-10-30T14:14:41.555Z"
   },
   {
    "duration": 16,
    "start_time": "2021-10-30T14:14:41.578Z"
   },
   {
    "duration": 29,
    "start_time": "2021-10-30T14:14:41.596Z"
   },
   {
    "duration": 2,
    "start_time": "2021-10-30T14:14:41.628Z"
   },
   {
    "duration": 23,
    "start_time": "2021-10-30T14:14:41.632Z"
   },
   {
    "duration": 39,
    "start_time": "2021-10-30T14:14:41.657Z"
   },
   {
    "duration": 10,
    "start_time": "2021-10-30T14:14:41.698Z"
   },
   {
    "duration": 17,
    "start_time": "2021-10-30T14:14:41.710Z"
   },
   {
    "duration": 9,
    "start_time": "2021-10-30T14:14:41.728Z"
   },
   {
    "duration": 9,
    "start_time": "2021-10-30T14:14:41.738Z"
   },
   {
    "duration": 36,
    "start_time": "2021-10-30T14:14:41.749Z"
   },
   {
    "duration": 26,
    "start_time": "2021-10-30T14:14:41.787Z"
   },
   {
    "duration": 124,
    "start_time": "2021-10-30T14:14:41.814Z"
   },
   {
    "duration": -334,
    "start_time": "2021-10-30T14:14:42.274Z"
   },
   {
    "duration": -338,
    "start_time": "2021-10-30T14:14:42.279Z"
   },
   {
    "duration": -340,
    "start_time": "2021-10-30T14:14:42.282Z"
   },
   {
    "duration": -342,
    "start_time": "2021-10-30T14:14:42.285Z"
   },
   {
    "duration": -344,
    "start_time": "2021-10-30T14:14:42.289Z"
   },
   {
    "duration": -382,
    "start_time": "2021-10-30T14:14:42.328Z"
   },
   {
    "duration": -385,
    "start_time": "2021-10-30T14:14:42.332Z"
   },
   {
    "duration": -579,
    "start_time": "2021-10-30T14:14:42.527Z"
   },
   {
    "duration": -581,
    "start_time": "2021-10-30T14:14:42.530Z"
   },
   {
    "duration": -583,
    "start_time": "2021-10-30T14:14:42.533Z"
   },
   {
    "duration": -585,
    "start_time": "2021-10-30T14:14:42.536Z"
   },
   {
    "duration": -587,
    "start_time": "2021-10-30T14:14:42.539Z"
   },
   {
    "duration": -588,
    "start_time": "2021-10-30T14:14:42.541Z"
   },
   {
    "duration": -596,
    "start_time": "2021-10-30T14:14:42.550Z"
   },
   {
    "duration": -597,
    "start_time": "2021-10-30T14:14:42.553Z"
   },
   {
    "duration": -599,
    "start_time": "2021-10-30T14:14:42.556Z"
   },
   {
    "duration": -602,
    "start_time": "2021-10-30T14:14:42.560Z"
   },
   {
    "duration": -603,
    "start_time": "2021-10-30T14:14:42.562Z"
   },
   {
    "duration": -605,
    "start_time": "2021-10-30T14:14:42.565Z"
   },
   {
    "duration": -607,
    "start_time": "2021-10-30T14:14:42.567Z"
   },
   {
    "duration": -609,
    "start_time": "2021-10-30T14:14:42.570Z"
   },
   {
    "duration": 1228,
    "start_time": "2021-10-30T14:15:07.923Z"
   },
   {
    "duration": 151,
    "start_time": "2021-10-30T14:15:09.153Z"
   },
   {
    "duration": 28,
    "start_time": "2021-10-30T14:15:09.307Z"
   },
   {
    "duration": 4,
    "start_time": "2021-10-30T14:15:09.337Z"
   },
   {
    "duration": 6,
    "start_time": "2021-10-30T14:15:09.342Z"
   },
   {
    "duration": 33,
    "start_time": "2021-10-30T14:15:09.350Z"
   },
   {
    "duration": 26,
    "start_time": "2021-10-30T14:15:09.389Z"
   },
   {
    "duration": 2,
    "start_time": "2021-10-30T14:15:09.417Z"
   },
   {
    "duration": 15,
    "start_time": "2021-10-30T14:15:09.421Z"
   },
   {
    "duration": 57,
    "start_time": "2021-10-30T14:15:09.438Z"
   },
   {
    "duration": 10,
    "start_time": "2021-10-30T14:15:09.497Z"
   },
   {
    "duration": 11,
    "start_time": "2021-10-30T14:15:09.509Z"
   },
   {
    "duration": 8,
    "start_time": "2021-10-30T14:15:09.522Z"
   },
   {
    "duration": 8,
    "start_time": "2021-10-30T14:15:09.532Z"
   },
   {
    "duration": 46,
    "start_time": "2021-10-30T14:15:09.542Z"
   },
   {
    "duration": 22,
    "start_time": "2021-10-30T14:15:09.591Z"
   },
   {
    "duration": 123,
    "start_time": "2021-10-30T14:15:09.616Z"
   },
   {
    "duration": -324,
    "start_time": "2021-10-30T14:15:10.066Z"
   },
   {
    "duration": -330,
    "start_time": "2021-10-30T14:15:10.073Z"
   },
   {
    "duration": -330,
    "start_time": "2021-10-30T14:15:10.075Z"
   },
   {
    "duration": -330,
    "start_time": "2021-10-30T14:15:10.077Z"
   },
   {
    "duration": -331,
    "start_time": "2021-10-30T14:15:10.079Z"
   },
   {
    "duration": -331,
    "start_time": "2021-10-30T14:15:10.081Z"
   },
   {
    "duration": -333,
    "start_time": "2021-10-30T14:15:10.084Z"
   },
   {
    "duration": -334,
    "start_time": "2021-10-30T14:15:10.087Z"
   },
   {
    "duration": -336,
    "start_time": "2021-10-30T14:15:10.090Z"
   },
   {
    "duration": -336,
    "start_time": "2021-10-30T14:15:10.092Z"
   },
   {
    "duration": -338,
    "start_time": "2021-10-30T14:15:10.095Z"
   },
   {
    "duration": -338,
    "start_time": "2021-10-30T14:15:10.097Z"
   },
   {
    "duration": -342,
    "start_time": "2021-10-30T14:15:10.102Z"
   },
   {
    "duration": -342,
    "start_time": "2021-10-30T14:15:10.104Z"
   },
   {
    "duration": -349,
    "start_time": "2021-10-30T14:15:10.112Z"
   },
   {
    "duration": -351,
    "start_time": "2021-10-30T14:15:10.116Z"
   },
   {
    "duration": -354,
    "start_time": "2021-10-30T14:15:10.120Z"
   },
   {
    "duration": -354,
    "start_time": "2021-10-30T14:15:10.122Z"
   },
   {
    "duration": -355,
    "start_time": "2021-10-30T14:15:10.124Z"
   },
   {
    "duration": -355,
    "start_time": "2021-10-30T14:15:10.126Z"
   },
   {
    "duration": -357,
    "start_time": "2021-10-30T14:15:10.129Z"
   },
   {
    "duration": 10,
    "start_time": "2021-10-30T14:15:40.246Z"
   },
   {
    "duration": 16,
    "start_time": "2021-10-30T14:15:50.076Z"
   },
   {
    "duration": 11,
    "start_time": "2021-10-30T14:15:53.712Z"
   },
   {
    "duration": 1249,
    "start_time": "2021-10-30T14:16:42.397Z"
   },
   {
    "duration": 148,
    "start_time": "2021-10-30T14:16:43.649Z"
   },
   {
    "duration": 28,
    "start_time": "2021-10-30T14:16:43.800Z"
   },
   {
    "duration": 5,
    "start_time": "2021-10-30T14:16:43.831Z"
   },
   {
    "duration": 6,
    "start_time": "2021-10-30T14:16:43.838Z"
   },
   {
    "duration": 36,
    "start_time": "2021-10-30T14:16:43.846Z"
   },
   {
    "duration": 26,
    "start_time": "2021-10-30T14:16:43.885Z"
   },
   {
    "duration": 3,
    "start_time": "2021-10-30T14:16:43.914Z"
   },
   {
    "duration": 15,
    "start_time": "2021-10-30T14:16:43.920Z"
   },
   {
    "duration": 66,
    "start_time": "2021-10-30T14:16:43.937Z"
   },
   {
    "duration": 12,
    "start_time": "2021-10-30T14:16:44.005Z"
   },
   {
    "duration": 13,
    "start_time": "2021-10-30T14:16:44.019Z"
   },
   {
    "duration": 9,
    "start_time": "2021-10-30T14:16:44.033Z"
   },
   {
    "duration": 44,
    "start_time": "2021-10-30T14:16:44.044Z"
   },
   {
    "duration": 11,
    "start_time": "2021-10-30T14:16:44.090Z"
   },
   {
    "duration": 23,
    "start_time": "2021-10-30T14:16:44.103Z"
   },
   {
    "duration": 115,
    "start_time": "2021-10-30T14:16:44.177Z"
   },
   {
    "duration": -481,
    "start_time": "2021-10-30T14:16:44.776Z"
   },
   {
    "duration": -483,
    "start_time": "2021-10-30T14:16:44.779Z"
   },
   {
    "duration": -484,
    "start_time": "2021-10-30T14:16:44.781Z"
   },
   {
    "duration": -487,
    "start_time": "2021-10-30T14:16:44.785Z"
   },
   {
    "duration": -503,
    "start_time": "2021-10-30T14:16:44.802Z"
   },
   {
    "duration": -513,
    "start_time": "2021-10-30T14:16:44.813Z"
   },
   {
    "duration": -514,
    "start_time": "2021-10-30T14:16:44.815Z"
   },
   {
    "duration": -517,
    "start_time": "2021-10-30T14:16:44.819Z"
   },
   {
    "duration": -524,
    "start_time": "2021-10-30T14:16:44.827Z"
   },
   {
    "duration": -538,
    "start_time": "2021-10-30T14:16:44.842Z"
   },
   {
    "duration": -540,
    "start_time": "2021-10-30T14:16:44.844Z"
   },
   {
    "duration": -541,
    "start_time": "2021-10-30T14:16:44.846Z"
   },
   {
    "duration": -542,
    "start_time": "2021-10-30T14:16:44.848Z"
   },
   {
    "duration": -547,
    "start_time": "2021-10-30T14:16:44.853Z"
   },
   {
    "duration": -554,
    "start_time": "2021-10-30T14:16:44.861Z"
   },
   {
    "duration": -558,
    "start_time": "2021-10-30T14:16:44.866Z"
   },
   {
    "duration": -566,
    "start_time": "2021-10-30T14:16:44.875Z"
   },
   {
    "duration": -568,
    "start_time": "2021-10-30T14:16:44.878Z"
   },
   {
    "duration": -569,
    "start_time": "2021-10-30T14:16:44.880Z"
   },
   {
    "duration": -570,
    "start_time": "2021-10-30T14:16:44.882Z"
   },
   {
    "duration": -577,
    "start_time": "2021-10-30T14:16:44.890Z"
   },
   {
    "duration": 1531,
    "start_time": "2021-10-30T14:19:18.394Z"
   },
   {
    "duration": 190,
    "start_time": "2021-10-30T14:19:19.927Z"
   },
   {
    "duration": 31,
    "start_time": "2021-10-30T14:19:20.119Z"
   },
   {
    "duration": 4,
    "start_time": "2021-10-30T14:19:20.153Z"
   },
   {
    "duration": 22,
    "start_time": "2021-10-30T14:19:20.159Z"
   },
   {
    "duration": 12,
    "start_time": "2021-10-30T14:19:20.184Z"
   },
   {
    "duration": 43,
    "start_time": "2021-10-30T14:19:20.198Z"
   },
   {
    "duration": 2,
    "start_time": "2021-10-30T14:19:20.244Z"
   },
   {
    "duration": 29,
    "start_time": "2021-10-30T14:19:20.248Z"
   },
   {
    "duration": 46,
    "start_time": "2021-10-30T14:19:20.279Z"
   },
   {
    "duration": 10,
    "start_time": "2021-10-30T14:19:20.326Z"
   },
   {
    "duration": 34,
    "start_time": "2021-10-30T14:19:20.338Z"
   },
   {
    "duration": 52,
    "start_time": "2021-10-30T14:19:20.374Z"
   },
   {
    "duration": 28,
    "start_time": "2021-10-30T14:19:20.427Z"
   },
   {
    "duration": 25,
    "start_time": "2021-10-30T14:19:20.457Z"
   },
   {
    "duration": 43,
    "start_time": "2021-10-30T14:19:20.485Z"
   },
   {
    "duration": 131,
    "start_time": "2021-10-30T14:19:20.530Z"
   },
   {
    "duration": -335,
    "start_time": "2021-10-30T14:19:20.998Z"
   },
   {
    "duration": -337,
    "start_time": "2021-10-30T14:19:21.001Z"
   },
   {
    "duration": -337,
    "start_time": "2021-10-30T14:19:21.002Z"
   },
   {
    "duration": -338,
    "start_time": "2021-10-30T14:19:21.004Z"
   },
   {
    "duration": -339,
    "start_time": "2021-10-30T14:19:21.006Z"
   },
   {
    "duration": -341,
    "start_time": "2021-10-30T14:19:21.010Z"
   },
   {
    "duration": -342,
    "start_time": "2021-10-30T14:19:21.012Z"
   },
   {
    "duration": -343,
    "start_time": "2021-10-30T14:19:21.014Z"
   },
   {
    "duration": -344,
    "start_time": "2021-10-30T14:19:21.016Z"
   },
   {
    "duration": -346,
    "start_time": "2021-10-30T14:19:21.019Z"
   },
   {
    "duration": -347,
    "start_time": "2021-10-30T14:19:21.021Z"
   },
   {
    "duration": -347,
    "start_time": "2021-10-30T14:19:21.023Z"
   },
   {
    "duration": -349,
    "start_time": "2021-10-30T14:19:21.026Z"
   },
   {
    "duration": -350,
    "start_time": "2021-10-30T14:19:21.029Z"
   },
   {
    "duration": -351,
    "start_time": "2021-10-30T14:19:21.031Z"
   },
   {
    "duration": -352,
    "start_time": "2021-10-30T14:19:21.033Z"
   },
   {
    "duration": -352,
    "start_time": "2021-10-30T14:19:21.035Z"
   },
   {
    "duration": -352,
    "start_time": "2021-10-30T14:19:21.037Z"
   },
   {
    "duration": -353,
    "start_time": "2021-10-30T14:19:21.039Z"
   },
   {
    "duration": -358,
    "start_time": "2021-10-30T14:19:21.046Z"
   },
   {
    "duration": -359,
    "start_time": "2021-10-30T14:19:21.048Z"
   },
   {
    "duration": 4,
    "start_time": "2021-10-30T14:20:05.217Z"
   },
   {
    "duration": 5,
    "start_time": "2021-10-30T14:21:22.254Z"
   },
   {
    "duration": 7,
    "start_time": "2021-10-30T14:23:32.110Z"
   },
   {
    "duration": 8,
    "start_time": "2021-10-30T14:24:01.937Z"
   },
   {
    "duration": 7,
    "start_time": "2021-10-30T14:24:10.829Z"
   },
   {
    "duration": 1740,
    "start_time": "2021-10-30T14:25:18.087Z"
   },
   {
    "duration": 193,
    "start_time": "2021-10-30T14:25:19.829Z"
   },
   {
    "duration": 29,
    "start_time": "2021-10-30T14:25:20.025Z"
   },
   {
    "duration": 4,
    "start_time": "2021-10-30T14:25:20.056Z"
   },
   {
    "duration": 8,
    "start_time": "2021-10-30T14:25:20.062Z"
   },
   {
    "duration": 17,
    "start_time": "2021-10-30T14:25:20.071Z"
   },
   {
    "duration": 27,
    "start_time": "2021-10-30T14:25:20.090Z"
   },
   {
    "duration": 2,
    "start_time": "2021-10-30T14:25:20.120Z"
   },
   {
    "duration": 13,
    "start_time": "2021-10-30T14:25:20.124Z"
   },
   {
    "duration": 16,
    "start_time": "2021-10-30T14:25:20.139Z"
   },
   {
    "duration": 48,
    "start_time": "2021-10-30T14:25:20.157Z"
   },
   {
    "duration": 14,
    "start_time": "2021-10-30T14:25:20.207Z"
   },
   {
    "duration": 12,
    "start_time": "2021-10-30T14:25:20.223Z"
   },
   {
    "duration": 8,
    "start_time": "2021-10-30T14:25:20.237Z"
   },
   {
    "duration": 35,
    "start_time": "2021-10-30T14:25:20.247Z"
   },
   {
    "duration": 11,
    "start_time": "2021-10-30T14:25:20.284Z"
   },
   {
    "duration": 23,
    "start_time": "2021-10-30T14:25:20.296Z"
   },
   {
    "duration": 5,
    "start_time": "2021-10-30T14:25:20.320Z"
   },
   {
    "duration": 15,
    "start_time": "2021-10-30T14:25:20.327Z"
   },
   {
    "duration": 119,
    "start_time": "2021-10-30T14:25:20.344Z"
   },
   {
    "duration": -982,
    "start_time": "2021-10-30T14:25:21.448Z"
   },
   {
    "duration": -984,
    "start_time": "2021-10-30T14:25:21.451Z"
   },
   {
    "duration": -1054,
    "start_time": "2021-10-30T14:25:21.522Z"
   },
   {
    "duration": -1059,
    "start_time": "2021-10-30T14:25:21.528Z"
   },
   {
    "duration": -1060,
    "start_time": "2021-10-30T14:25:21.530Z"
   },
   {
    "duration": -1063,
    "start_time": "2021-10-30T14:25:21.534Z"
   },
   {
    "duration": -1064,
    "start_time": "2021-10-30T14:25:21.536Z"
   },
   {
    "duration": -1080,
    "start_time": "2021-10-30T14:25:21.553Z"
   },
   {
    "duration": -1081,
    "start_time": "2021-10-30T14:25:21.556Z"
   },
   {
    "duration": -1082,
    "start_time": "2021-10-30T14:25:21.558Z"
   },
   {
    "duration": -1083,
    "start_time": "2021-10-30T14:25:21.560Z"
   },
   {
    "duration": -1084,
    "start_time": "2021-10-30T14:25:21.562Z"
   },
   {
    "duration": -1085,
    "start_time": "2021-10-30T14:25:21.564Z"
   },
   {
    "duration": -1088,
    "start_time": "2021-10-30T14:25:21.568Z"
   },
   {
    "duration": -1090,
    "start_time": "2021-10-30T14:25:21.571Z"
   },
   {
    "duration": -1092,
    "start_time": "2021-10-30T14:25:21.574Z"
   },
   {
    "duration": -1093,
    "start_time": "2021-10-30T14:25:21.576Z"
   },
   {
    "duration": -1095,
    "start_time": "2021-10-30T14:25:21.579Z"
   },
   {
    "duration": -1094,
    "start_time": "2021-10-30T14:25:21.581Z"
   },
   {
    "duration": -1096,
    "start_time": "2021-10-30T14:25:21.584Z"
   },
   {
    "duration": -1096,
    "start_time": "2021-10-30T14:25:21.586Z"
   },
   {
    "duration": 6,
    "start_time": "2021-10-30T14:26:14.173Z"
   },
   {
    "duration": 6,
    "start_time": "2021-10-30T14:26:19.832Z"
   },
   {
    "duration": 124,
    "start_time": "2021-10-30T14:27:31.550Z"
   },
   {
    "duration": 4,
    "start_time": "2021-10-30T14:27:40.371Z"
   },
   {
    "duration": 5,
    "start_time": "2021-10-30T14:27:42.370Z"
   },
   {
    "duration": 5,
    "start_time": "2021-10-30T14:27:44.613Z"
   },
   {
    "duration": 9,
    "start_time": "2021-10-30T14:27:54.857Z"
   },
   {
    "duration": 6,
    "start_time": "2021-10-30T14:28:00.312Z"
   },
   {
    "duration": 9,
    "start_time": "2021-10-30T14:28:02.856Z"
   },
   {
    "duration": 28,
    "start_time": "2021-10-30T14:28:19.800Z"
   },
   {
    "duration": 6,
    "start_time": "2021-10-30T14:28:22.315Z"
   },
   {
    "duration": 6,
    "start_time": "2021-10-30T14:28:24.218Z"
   },
   {
    "duration": 28,
    "start_time": "2021-10-30T14:28:27.318Z"
   },
   {
    "duration": 18,
    "start_time": "2021-10-30T14:29:05.189Z"
   },
   {
    "duration": 5,
    "start_time": "2021-10-30T14:29:51.449Z"
   },
   {
    "duration": 124,
    "start_time": "2021-10-30T14:30:31.109Z"
   },
   {
    "duration": 7,
    "start_time": "2021-10-30T14:30:44.498Z"
   },
   {
    "duration": 6,
    "start_time": "2021-10-30T14:31:33.713Z"
   },
   {
    "duration": 11,
    "start_time": "2021-10-30T14:33:48.557Z"
   },
   {
    "duration": 7,
    "start_time": "2021-10-30T14:34:04.067Z"
   },
   {
    "duration": 25,
    "start_time": "2021-10-30T14:34:09.233Z"
   },
   {
    "duration": 1219,
    "start_time": "2021-10-30T14:38:23.182Z"
   },
   {
    "duration": 188,
    "start_time": "2021-10-30T14:38:24.403Z"
   },
   {
    "duration": 27,
    "start_time": "2021-10-30T14:38:24.593Z"
   },
   {
    "duration": 4,
    "start_time": "2021-10-30T14:38:24.622Z"
   },
   {
    "duration": 8,
    "start_time": "2021-10-30T14:38:24.628Z"
   },
   {
    "duration": 7,
    "start_time": "2021-10-30T14:38:24.637Z"
   },
   {
    "duration": 48,
    "start_time": "2021-10-30T14:38:24.646Z"
   },
   {
    "duration": 3,
    "start_time": "2021-10-30T14:38:24.697Z"
   },
   {
    "duration": 15,
    "start_time": "2021-10-30T14:38:24.702Z"
   },
   {
    "duration": 4,
    "start_time": "2021-10-30T14:38:24.719Z"
   },
   {
    "duration": 26,
    "start_time": "2021-10-30T14:38:24.724Z"
   },
   {
    "duration": 33,
    "start_time": "2021-10-30T14:38:24.752Z"
   },
   {
    "duration": 12,
    "start_time": "2021-10-30T14:38:24.787Z"
   },
   {
    "duration": 10,
    "start_time": "2021-10-30T14:38:24.801Z"
   },
   {
    "duration": 9,
    "start_time": "2021-10-30T14:38:24.813Z"
   },
   {
    "duration": 7,
    "start_time": "2021-10-30T14:38:24.824Z"
   },
   {
    "duration": 57,
    "start_time": "2021-10-30T14:38:24.833Z"
   },
   {
    "duration": 4,
    "start_time": "2021-10-30T14:38:24.892Z"
   },
   {
    "duration": 8,
    "start_time": "2021-10-30T14:38:24.898Z"
   },
   {
    "duration": 4,
    "start_time": "2021-10-30T14:38:24.908Z"
   },
   {
    "duration": 4,
    "start_time": "2021-10-30T14:38:24.914Z"
   },
   {
    "duration": 9,
    "start_time": "2021-10-30T14:38:24.920Z"
   },
   {
    "duration": 6,
    "start_time": "2021-10-30T14:38:24.933Z"
   },
   {
    "duration": 11,
    "start_time": "2021-10-30T14:38:24.976Z"
   },
   {
    "duration": 28,
    "start_time": "2021-10-30T14:38:24.989Z"
   },
   {
    "duration": 5,
    "start_time": "2021-10-30T14:38:25.018Z"
   },
   {
    "duration": 8,
    "start_time": "2021-10-30T14:38:25.024Z"
   },
   {
    "duration": 60,
    "start_time": "2021-10-30T14:38:25.034Z"
   },
   {
    "duration": 24,
    "start_time": "2021-10-30T14:38:25.096Z"
   },
   {
    "duration": 19,
    "start_time": "2021-10-30T14:38:25.122Z"
   },
   {
    "duration": 9496,
    "start_time": "2021-10-30T14:38:25.143Z"
   },
   {
    "duration": -432,
    "start_time": "2021-10-30T14:38:35.073Z"
   },
   {
    "duration": -450,
    "start_time": "2021-10-30T14:38:35.092Z"
   },
   {
    "duration": -453,
    "start_time": "2021-10-30T14:38:35.096Z"
   },
   {
    "duration": -456,
    "start_time": "2021-10-30T14:38:35.100Z"
   },
   {
    "duration": -457,
    "start_time": "2021-10-30T14:38:35.103Z"
   },
   {
    "duration": -460,
    "start_time": "2021-10-30T14:38:35.107Z"
   },
   {
    "duration": -462,
    "start_time": "2021-10-30T14:38:35.110Z"
   },
   {
    "duration": -464,
    "start_time": "2021-10-30T14:38:35.113Z"
   },
   {
    "duration": -470,
    "start_time": "2021-10-30T14:38:35.120Z"
   },
   {
    "duration": -472,
    "start_time": "2021-10-30T14:38:35.123Z"
   },
   {
    "duration": 71,
    "start_time": "2021-10-30T14:38:59.272Z"
   },
   {
    "duration": 349,
    "start_time": "2021-10-30T15:04:37.248Z"
   },
   {
    "duration": 43,
    "start_time": "2021-10-30T15:04:48.972Z"
   },
   {
    "duration": 26,
    "start_time": "2021-10-30T15:05:01.850Z"
   },
   {
    "duration": 43,
    "start_time": "2021-10-30T15:05:33.918Z"
   },
   {
    "duration": 36,
    "start_time": "2021-10-30T15:05:49.873Z"
   },
   {
    "duration": 24,
    "start_time": "2021-10-30T15:06:52.059Z"
   },
   {
    "duration": 16,
    "start_time": "2021-10-30T15:06:54.829Z"
   },
   {
    "duration": 19,
    "start_time": "2021-10-30T15:08:19.952Z"
   },
   {
    "duration": 15,
    "start_time": "2021-10-30T15:08:35.190Z"
   },
   {
    "duration": 21,
    "start_time": "2021-10-30T15:08:44.691Z"
   },
   {
    "duration": 7,
    "start_time": "2021-10-30T15:11:23.799Z"
   },
   {
    "duration": 5,
    "start_time": "2021-10-30T15:12:13.047Z"
   },
   {
    "duration": 9,
    "start_time": "2021-10-30T15:12:17.569Z"
   },
   {
    "duration": 9224,
    "start_time": "2021-10-30T15:12:27.127Z"
   },
   {
    "duration": 5429,
    "start_time": "2021-10-30T15:13:31.165Z"
   },
   {
    "duration": 5084,
    "start_time": "2021-10-30T15:18:16.358Z"
   },
   {
    "duration": 14,
    "start_time": "2021-10-30T15:18:27.116Z"
   },
   {
    "duration": 16,
    "start_time": "2021-10-30T15:18:38.739Z"
   },
   {
    "duration": 4965,
    "start_time": "2021-10-30T15:21:53.182Z"
   },
   {
    "duration": 4375,
    "start_time": "2021-10-30T15:22:10.116Z"
   },
   {
    "duration": 113,
    "start_time": "2021-10-30T15:22:16.861Z"
   },
   {
    "duration": 331,
    "start_time": "2021-10-30T15:22:20.073Z"
   },
   {
    "duration": 4,
    "start_time": "2021-10-30T15:27:11.235Z"
   },
   {
    "duration": 5,
    "start_time": "2021-10-30T15:27:40.951Z"
   },
   {
    "duration": 23,
    "start_time": "2021-10-30T15:28:23.188Z"
   },
   {
    "duration": 8,
    "start_time": "2021-10-30T15:28:45.757Z"
   },
   {
    "duration": 10,
    "start_time": "2021-10-30T15:31:11.141Z"
   },
   {
    "duration": 11,
    "start_time": "2021-10-30T15:31:36.668Z"
   },
   {
    "duration": 327,
    "start_time": "2021-10-30T15:32:04.052Z"
   },
   {
    "duration": 6,
    "start_time": "2021-10-30T15:32:10.347Z"
   },
   {
    "duration": 6,
    "start_time": "2021-10-30T15:32:14.896Z"
   },
   {
    "duration": 11,
    "start_time": "2021-10-30T15:32:30.407Z"
   },
   {
    "duration": 13,
    "start_time": "2021-10-30T15:35:06.724Z"
   },
   {
    "duration": 195,
    "start_time": "2021-10-30T15:35:25.274Z"
   },
   {
    "duration": 257,
    "start_time": "2021-10-30T15:37:03.526Z"
   },
   {
    "duration": 213,
    "start_time": "2021-10-30T15:38:13.801Z"
   },
   {
    "duration": 31,
    "start_time": "2021-10-30T15:38:56.216Z"
   },
   {
    "duration": 33,
    "start_time": "2021-10-30T15:39:32.262Z"
   },
   {
    "duration": 95,
    "start_time": "2021-10-30T15:41:12.541Z"
   },
   {
    "duration": 41,
    "start_time": "2021-10-30T15:41:15.424Z"
   },
   {
    "duration": 213,
    "start_time": "2021-10-30T15:41:48.999Z"
   },
   {
    "duration": 461,
    "start_time": "2021-10-30T15:42:55.816Z"
   },
   {
    "duration": 58,
    "start_time": "2021-10-30T15:43:03.564Z"
   },
   {
    "duration": 284,
    "start_time": "2021-10-30T15:43:21.831Z"
   },
   {
    "duration": 185,
    "start_time": "2021-10-30T15:47:35.456Z"
   },
   {
    "duration": 8502,
    "start_time": "2021-10-30T15:47:52.157Z"
   },
   {
    "duration": 8730,
    "start_time": "2021-10-30T15:50:33.651Z"
   },
   {
    "duration": 189,
    "start_time": "2021-10-30T15:50:50.952Z"
   },
   {
    "duration": 233,
    "start_time": "2021-10-30T15:50:57.396Z"
   },
   {
    "duration": 8827,
    "start_time": "2021-10-30T15:51:21.964Z"
   },
   {
    "duration": 175,
    "start_time": "2021-10-30T15:51:40.440Z"
   },
   {
    "duration": 8622,
    "start_time": "2021-10-30T15:52:19.632Z"
   },
   {
    "duration": 118,
    "start_time": "2021-10-30T15:56:41.148Z"
   },
   {
    "duration": 178,
    "start_time": "2021-10-30T15:56:54.017Z"
   },
   {
    "duration": 176,
    "start_time": "2021-10-30T15:57:40.640Z"
   },
   {
    "duration": 658,
    "start_time": "2021-10-30T15:57:56.412Z"
   },
   {
    "duration": 262,
    "start_time": "2021-10-30T15:58:10.960Z"
   },
   {
    "duration": 116,
    "start_time": "2021-10-30T16:00:20.136Z"
   },
   {
    "duration": 119,
    "start_time": "2021-10-30T16:00:31.600Z"
   },
   {
    "duration": 113,
    "start_time": "2021-10-30T16:00:37.424Z"
   },
   {
    "duration": 111,
    "start_time": "2021-10-30T16:00:43.073Z"
   },
   {
    "duration": 187,
    "start_time": "2021-10-30T16:01:24.091Z"
   },
   {
    "duration": 357,
    "start_time": "2021-10-30T16:01:34.142Z"
   },
   {
    "duration": 216,
    "start_time": "2021-10-30T16:02:57.870Z"
   },
   {
    "duration": 8686,
    "start_time": "2021-10-30T16:03:22.016Z"
   },
   {
    "duration": 10795,
    "start_time": "2021-10-30T16:07:41.005Z"
   },
   {
    "duration": 34,
    "start_time": "2021-10-30T16:09:22.893Z"
   },
   {
    "duration": 13,
    "start_time": "2021-10-30T16:09:37.943Z"
   },
   {
    "duration": 110,
    "start_time": "2021-10-30T16:10:35.054Z"
   },
   {
    "duration": 1157,
    "start_time": "2021-10-30T16:10:50.402Z"
   },
   {
    "duration": 187,
    "start_time": "2021-10-30T16:10:51.561Z"
   },
   {
    "duration": 27,
    "start_time": "2021-10-30T16:10:51.750Z"
   },
   {
    "duration": 5,
    "start_time": "2021-10-30T16:10:51.778Z"
   },
   {
    "duration": 9,
    "start_time": "2021-10-30T16:10:51.784Z"
   },
   {
    "duration": 11,
    "start_time": "2021-10-30T16:10:51.795Z"
   },
   {
    "duration": 25,
    "start_time": "2021-10-30T16:10:51.808Z"
   },
   {
    "duration": 2,
    "start_time": "2021-10-30T16:10:51.836Z"
   },
   {
    "duration": 26,
    "start_time": "2021-10-30T16:10:51.840Z"
   },
   {
    "duration": 10,
    "start_time": "2021-10-30T16:10:51.868Z"
   },
   {
    "duration": 28,
    "start_time": "2021-10-30T16:10:51.880Z"
   },
   {
    "duration": 11,
    "start_time": "2021-10-30T16:10:51.910Z"
   },
   {
    "duration": 13,
    "start_time": "2021-10-30T16:10:51.922Z"
   },
   {
    "duration": 9,
    "start_time": "2021-10-30T16:10:51.936Z"
   },
   {
    "duration": 9,
    "start_time": "2021-10-30T16:10:51.976Z"
   },
   {
    "duration": 7,
    "start_time": "2021-10-30T16:10:51.987Z"
   },
   {
    "duration": 28,
    "start_time": "2021-10-30T16:10:51.996Z"
   },
   {
    "duration": 4,
    "start_time": "2021-10-30T16:10:52.026Z"
   },
   {
    "duration": 7,
    "start_time": "2021-10-30T16:10:52.032Z"
   },
   {
    "duration": 5,
    "start_time": "2021-10-30T16:10:52.041Z"
   },
   {
    "duration": 33,
    "start_time": "2021-10-30T16:10:52.047Z"
   },
   {
    "duration": 15,
    "start_time": "2021-10-30T16:10:52.082Z"
   },
   {
    "duration": 11,
    "start_time": "2021-10-30T16:10:52.101Z"
   },
   {
    "duration": 10,
    "start_time": "2021-10-30T16:10:52.114Z"
   },
   {
    "duration": 52,
    "start_time": "2021-10-30T16:10:52.126Z"
   },
   {
    "duration": 5,
    "start_time": "2021-10-30T16:10:52.179Z"
   },
   {
    "duration": 6,
    "start_time": "2021-10-30T16:10:52.185Z"
   },
   {
    "duration": 28,
    "start_time": "2021-10-30T16:10:52.192Z"
   },
   {
    "duration": 55,
    "start_time": "2021-10-30T16:10:52.222Z"
   },
   {
    "duration": 19,
    "start_time": "2021-10-30T16:10:52.279Z"
   },
   {
    "duration": 90,
    "start_time": "2021-10-30T16:10:52.300Z"
   },
   {
    "duration": 40,
    "start_time": "2021-10-30T16:10:52.392Z"
   },
   {
    "duration": 2,
    "start_time": "2021-10-30T16:10:52.434Z"
   },
   {
    "duration": 46,
    "start_time": "2021-10-30T16:10:52.438Z"
   },
   {
    "duration": 19,
    "start_time": "2021-10-30T16:10:52.486Z"
   },
   {
    "duration": 197,
    "start_time": "2021-10-30T16:10:52.507Z"
   },
   {
    "duration": 222,
    "start_time": "2021-10-30T16:10:52.705Z"
   },
   {
    "duration": 31,
    "start_time": "2021-10-30T16:10:52.929Z"
   },
   {
    "duration": 42,
    "start_time": "2021-10-30T16:10:52.962Z"
   },
   {
    "duration": 40,
    "start_time": "2021-10-30T16:10:53.006Z"
   },
   {
    "duration": 10532,
    "start_time": "2021-10-30T16:10:53.047Z"
   },
   {
    "duration": -399,
    "start_time": "2021-10-30T16:11:03.980Z"
   },
   {
    "duration": -406,
    "start_time": "2021-10-30T16:11:03.988Z"
   },
   {
    "duration": 193,
    "start_time": "2021-10-30T16:11:15.296Z"
   },
   {
    "duration": 174,
    "start_time": "2021-10-30T16:11:40.487Z"
   },
   {
    "duration": 244,
    "start_time": "2021-10-30T16:13:41.950Z"
   },
   {
    "duration": 312,
    "start_time": "2021-10-30T16:14:07.664Z"
   },
   {
    "duration": 35,
    "start_time": "2021-10-30T16:15:00.742Z"
   },
   {
    "duration": 14,
    "start_time": "2021-10-30T16:16:19.115Z"
   },
   {
    "duration": 13,
    "start_time": "2021-10-30T16:16:31.648Z"
   },
   {
    "duration": 14,
    "start_time": "2021-10-30T16:18:04.636Z"
   },
   {
    "duration": 24,
    "start_time": "2021-10-30T16:25:15.718Z"
   },
   {
    "duration": 52,
    "start_time": "2021-10-30T16:29:34.683Z"
   },
   {
    "duration": 27,
    "start_time": "2021-10-30T16:29:44.568Z"
   },
   {
    "duration": 19,
    "start_time": "2021-10-30T16:31:10.753Z"
   },
   {
    "duration": 35,
    "start_time": "2021-10-30T16:31:20.261Z"
   },
   {
    "duration": 11,
    "start_time": "2021-10-30T16:31:37.212Z"
   },
   {
    "duration": 11,
    "start_time": "2021-10-30T16:32:06.037Z"
   },
   {
    "duration": 11,
    "start_time": "2021-10-30T16:33:09.924Z"
   },
   {
    "duration": 11,
    "start_time": "2021-10-30T16:33:21.488Z"
   },
   {
    "duration": 396,
    "start_time": "2021-10-30T16:33:26.075Z"
   },
   {
    "duration": 11,
    "start_time": "2021-10-30T16:33:28.329Z"
   },
   {
    "duration": 11,
    "start_time": "2021-10-30T16:34:45.910Z"
   },
   {
    "duration": 12,
    "start_time": "2021-10-30T16:35:23.938Z"
   },
   {
    "duration": 10,
    "start_time": "2021-10-30T16:35:37.218Z"
   },
   {
    "duration": 9,
    "start_time": "2021-10-30T16:37:48.191Z"
   },
   {
    "duration": 162,
    "start_time": "2021-10-30T16:43:14.193Z"
   },
   {
    "duration": 172,
    "start_time": "2021-10-30T16:43:46.630Z"
   },
   {
    "duration": 173,
    "start_time": "2021-10-30T16:44:17.017Z"
   },
   {
    "duration": 178,
    "start_time": "2021-10-30T16:44:33.541Z"
   },
   {
    "duration": 157,
    "start_time": "2021-10-30T16:45:06.001Z"
   },
   {
    "duration": 119,
    "start_time": "2021-10-30T16:49:47.764Z"
   },
   {
    "duration": 1229,
    "start_time": "2021-10-30T16:50:03.618Z"
   },
   {
    "duration": 185,
    "start_time": "2021-10-30T16:50:04.849Z"
   },
   {
    "duration": 355,
    "start_time": "2021-10-30T16:50:05.036Z"
   },
   {
    "duration": 5,
    "start_time": "2021-10-30T16:50:05.394Z"
   },
   {
    "duration": 6,
    "start_time": "2021-10-30T16:50:05.401Z"
   },
   {
    "duration": 7,
    "start_time": "2021-10-30T16:50:05.409Z"
   },
   {
    "duration": 25,
    "start_time": "2021-10-30T16:50:05.418Z"
   },
   {
    "duration": 30,
    "start_time": "2021-10-30T16:50:05.446Z"
   },
   {
    "duration": 12,
    "start_time": "2021-10-30T16:50:05.479Z"
   },
   {
    "duration": 5,
    "start_time": "2021-10-30T16:50:05.494Z"
   },
   {
    "duration": 49,
    "start_time": "2021-10-30T16:50:05.501Z"
   },
   {
    "duration": 40,
    "start_time": "2021-10-30T16:50:05.552Z"
   },
   {
    "duration": 16,
    "start_time": "2021-10-30T16:50:05.594Z"
   },
   {
    "duration": 9,
    "start_time": "2021-10-30T16:50:05.612Z"
   },
   {
    "duration": 8,
    "start_time": "2021-10-30T16:50:05.623Z"
   },
   {
    "duration": 7,
    "start_time": "2021-10-30T16:50:05.633Z"
   },
   {
    "duration": 21,
    "start_time": "2021-10-30T16:50:05.677Z"
   },
   {
    "duration": 4,
    "start_time": "2021-10-30T16:50:05.699Z"
   },
   {
    "duration": 10,
    "start_time": "2021-10-30T16:50:05.705Z"
   },
   {
    "duration": 5,
    "start_time": "2021-10-30T16:50:05.717Z"
   },
   {
    "duration": 11,
    "start_time": "2021-10-30T16:50:05.724Z"
   },
   {
    "duration": 31,
    "start_time": "2021-10-30T16:50:05.737Z"
   },
   {
    "duration": 26,
    "start_time": "2021-10-30T16:50:05.771Z"
   },
   {
    "duration": 13,
    "start_time": "2021-10-30T16:50:05.799Z"
   },
   {
    "duration": 42,
    "start_time": "2021-10-30T16:50:05.814Z"
   },
   {
    "duration": 5,
    "start_time": "2021-10-30T16:50:05.857Z"
   },
   {
    "duration": 12,
    "start_time": "2021-10-30T16:50:05.864Z"
   },
   {
    "duration": 29,
    "start_time": "2021-10-30T16:50:05.878Z"
   },
   {
    "duration": 26,
    "start_time": "2021-10-30T16:50:05.909Z"
   },
   {
    "duration": 42,
    "start_time": "2021-10-30T16:50:05.937Z"
   },
   {
    "duration": 68,
    "start_time": "2021-10-30T16:50:05.982Z"
   },
   {
    "duration": 59,
    "start_time": "2021-10-30T16:50:06.052Z"
   },
   {
    "duration": 2,
    "start_time": "2021-10-30T16:50:06.114Z"
   },
   {
    "duration": 25,
    "start_time": "2021-10-30T16:50:06.117Z"
   },
   {
    "duration": 36,
    "start_time": "2021-10-30T16:50:06.144Z"
   },
   {
    "duration": 184,
    "start_time": "2021-10-30T16:50:06.182Z"
   },
   {
    "duration": 199,
    "start_time": "2021-10-30T16:50:06.368Z"
   },
   {
    "duration": 31,
    "start_time": "2021-10-30T16:50:06.576Z"
   },
   {
    "duration": 30,
    "start_time": "2021-10-30T16:50:06.609Z"
   },
   {
    "duration": 60,
    "start_time": "2021-10-30T16:50:06.641Z"
   },
   {
    "duration": 254,
    "start_time": "2021-10-30T16:50:06.703Z"
   },
   {
    "duration": 46,
    "start_time": "2021-10-30T16:50:06.959Z"
   },
   {
    "duration": 13,
    "start_time": "2021-10-30T16:50:07.006Z"
   },
   {
    "duration": 15,
    "start_time": "2021-10-30T16:50:07.021Z"
   },
   {
    "duration": 9,
    "start_time": "2021-10-30T16:50:07.038Z"
   },
   {
    "duration": 196,
    "start_time": "2021-10-30T16:50:07.049Z"
   },
   {
    "duration": 197,
    "start_time": "2021-10-30T16:50:07.247Z"
   },
   {
    "duration": 234,
    "start_time": "2021-10-30T16:50:07.445Z"
   },
   {
    "duration": 508,
    "start_time": "2021-10-31T14:10:48.358Z"
   },
   {
    "duration": 1560,
    "start_time": "2021-10-31T14:10:53.804Z"
   },
   {
    "duration": 181,
    "start_time": "2021-10-31T14:10:55.367Z"
   },
   {
    "duration": 50,
    "start_time": "2021-10-31T14:10:55.551Z"
   },
   {
    "duration": 10,
    "start_time": "2021-10-31T14:10:55.604Z"
   },
   {
    "duration": 7,
    "start_time": "2021-10-31T14:10:55.617Z"
   },
   {
    "duration": 7,
    "start_time": "2021-10-31T14:10:55.626Z"
   },
   {
    "duration": 86,
    "start_time": "2021-10-31T14:10:55.635Z"
   },
   {
    "duration": 2,
    "start_time": "2021-10-31T14:10:55.724Z"
   },
   {
    "duration": 16,
    "start_time": "2021-10-31T14:10:55.730Z"
   },
   {
    "duration": 5,
    "start_time": "2021-10-31T14:10:55.749Z"
   },
   {
    "duration": 49,
    "start_time": "2021-10-31T14:10:55.798Z"
   },
   {
    "duration": 18,
    "start_time": "2021-10-31T14:10:55.850Z"
   },
   {
    "duration": 26,
    "start_time": "2021-10-31T14:10:55.882Z"
   },
   {
    "duration": 18,
    "start_time": "2021-10-31T14:10:55.914Z"
   },
   {
    "duration": 11,
    "start_time": "2021-10-31T14:10:55.935Z"
   },
   {
    "duration": 23,
    "start_time": "2021-10-31T14:10:55.989Z"
   },
   {
    "duration": 26,
    "start_time": "2021-10-31T14:10:56.015Z"
   },
   {
    "duration": 6,
    "start_time": "2021-10-31T14:10:56.044Z"
   },
   {
    "duration": 42,
    "start_time": "2021-10-31T14:10:56.052Z"
   },
   {
    "duration": 13,
    "start_time": "2021-10-31T14:10:56.096Z"
   },
   {
    "duration": 9,
    "start_time": "2021-10-31T14:10:56.113Z"
   },
   {
    "duration": 6,
    "start_time": "2021-10-31T14:10:56.124Z"
   },
   {
    "duration": 58,
    "start_time": "2021-10-31T14:10:56.133Z"
   },
   {
    "duration": 11,
    "start_time": "2021-10-31T14:10:56.198Z"
   },
   {
    "duration": 17,
    "start_time": "2021-10-31T14:10:56.211Z"
   },
   {
    "duration": 84,
    "start_time": "2021-10-31T14:10:56.231Z"
   },
   {
    "duration": 6,
    "start_time": "2021-10-31T14:10:56.321Z"
   },
   {
    "duration": 9,
    "start_time": "2021-10-31T14:10:56.330Z"
   },
   {
    "duration": 72,
    "start_time": "2021-10-31T14:10:56.342Z"
   },
   {
    "duration": 38,
    "start_time": "2021-10-31T14:10:56.417Z"
   },
   {
    "duration": 61,
    "start_time": "2021-10-31T14:10:56.457Z"
   },
   {
    "duration": 118,
    "start_time": "2021-10-31T14:10:56.520Z"
   },
   {
    "duration": 70,
    "start_time": "2021-10-31T14:10:56.642Z"
   },
   {
    "duration": 3,
    "start_time": "2021-10-31T14:10:56.715Z"
   },
   {
    "duration": 40,
    "start_time": "2021-10-31T14:10:56.720Z"
   },
   {
    "duration": 64,
    "start_time": "2021-10-31T14:10:56.762Z"
   },
   {
    "duration": 412,
    "start_time": "2021-10-31T14:10:56.828Z"
   },
   {
    "duration": 414,
    "start_time": "2021-10-31T14:10:57.242Z"
   },
   {
    "duration": 83,
    "start_time": "2021-10-31T14:10:57.659Z"
   },
   {
    "duration": 70,
    "start_time": "2021-10-31T14:10:57.745Z"
   },
   {
    "duration": 80,
    "start_time": "2021-10-31T14:10:57.818Z"
   },
   {
    "duration": 439,
    "start_time": "2021-10-31T14:10:57.901Z"
   },
   {
    "duration": 81,
    "start_time": "2021-10-31T14:10:58.342Z"
   },
   {
    "duration": 19,
    "start_time": "2021-10-31T14:10:58.426Z"
   },
   {
    "duration": 49,
    "start_time": "2021-10-31T14:10:58.447Z"
   },
   {
    "duration": 18,
    "start_time": "2021-10-31T14:10:58.499Z"
   },
   {
    "duration": 317,
    "start_time": "2021-10-31T14:10:58.520Z"
   },
   {
    "duration": 317,
    "start_time": "2021-10-31T14:10:58.840Z"
   },
   {
    "duration": 373,
    "start_time": "2021-10-31T14:10:59.160Z"
   },
   {
    "duration": 34,
    "start_time": "2021-10-31T14:11:41.644Z"
   },
   {
    "duration": 139,
    "start_time": "2021-10-31T14:12:00.557Z"
   },
   {
    "duration": -15822,
    "start_time": "2021-10-31T14:12:27.142Z"
   },
   {
    "duration": 8173,
    "start_time": "2021-10-31T14:12:13.398Z"
   },
   {
    "duration": 10607,
    "start_time": "2021-10-31T14:12:30.261Z"
   },
   {
    "duration": 32,
    "start_time": "2021-10-31T14:14:29.141Z"
   },
   {
    "duration": 1460,
    "start_time": "2021-10-31T14:14:41.211Z"
   },
   {
    "duration": 175,
    "start_time": "2021-10-31T14:14:42.674Z"
   },
   {
    "duration": 45,
    "start_time": "2021-10-31T14:14:42.852Z"
   },
   {
    "duration": 6,
    "start_time": "2021-10-31T14:14:42.899Z"
   },
   {
    "duration": 9,
    "start_time": "2021-10-31T14:14:42.907Z"
   },
   {
    "duration": 7,
    "start_time": "2021-10-31T14:14:42.918Z"
   },
   {
    "duration": 72,
    "start_time": "2021-10-31T14:14:42.927Z"
   },
   {
    "duration": 2,
    "start_time": "2021-10-31T14:14:43.004Z"
   },
   {
    "duration": 17,
    "start_time": "2021-10-31T14:14:43.010Z"
   },
   {
    "duration": 5,
    "start_time": "2021-10-31T14:14:43.030Z"
   },
   {
    "duration": 73,
    "start_time": "2021-10-31T14:14:43.037Z"
   },
   {
    "duration": 18,
    "start_time": "2021-10-31T14:14:43.113Z"
   },
   {
    "duration": 17,
    "start_time": "2021-10-31T14:14:43.133Z"
   },
   {
    "duration": 37,
    "start_time": "2021-10-31T14:14:43.152Z"
   },
   {
    "duration": 13,
    "start_time": "2021-10-31T14:14:43.192Z"
   },
   {
    "duration": 13,
    "start_time": "2021-10-31T14:14:43.208Z"
   },
   {
    "duration": 70,
    "start_time": "2021-10-31T14:14:43.224Z"
   },
   {
    "duration": 6,
    "start_time": "2021-10-31T14:14:43.297Z"
   },
   {
    "duration": 26,
    "start_time": "2021-10-31T14:14:43.306Z"
   },
   {
    "duration": 8,
    "start_time": "2021-10-31T14:14:43.335Z"
   },
   {
    "duration": 43,
    "start_time": "2021-10-31T14:14:43.346Z"
   },
   {
    "duration": 6,
    "start_time": "2021-10-31T14:14:43.393Z"
   },
   {
    "duration": 12,
    "start_time": "2021-10-31T14:14:43.404Z"
   },
   {
    "duration": 19,
    "start_time": "2021-10-31T14:14:43.419Z"
   },
   {
    "duration": 46,
    "start_time": "2021-10-31T14:14:43.440Z"
   },
   {
    "duration": 45,
    "start_time": "2021-10-31T14:14:43.490Z"
   },
   {
    "duration": 6,
    "start_time": "2021-10-31T14:14:43.538Z"
   },
   {
    "duration": 42,
    "start_time": "2021-10-31T14:14:43.546Z"
   },
   {
    "duration": 40,
    "start_time": "2021-10-31T14:14:43.592Z"
   },
   {
    "duration": 52,
    "start_time": "2021-10-31T14:14:43.635Z"
   },
   {
    "duration": 31,
    "start_time": "2021-10-31T14:14:43.698Z"
   },
   {
    "duration": 130,
    "start_time": "2021-10-31T14:14:43.731Z"
   },
   {
    "duration": 67,
    "start_time": "2021-10-31T14:14:43.863Z"
   },
   {
    "duration": 3,
    "start_time": "2021-10-31T14:14:43.933Z"
   },
   {
    "duration": 66,
    "start_time": "2021-10-31T14:14:43.938Z"
   },
   {
    "duration": 26,
    "start_time": "2021-10-31T14:14:44.006Z"
   },
   {
    "duration": 328,
    "start_time": "2021-10-31T14:14:44.034Z"
   },
   {
    "duration": 356,
    "start_time": "2021-10-31T14:14:44.365Z"
   },
   {
    "duration": 45,
    "start_time": "2021-10-31T14:14:44.723Z"
   },
   {
    "duration": 63,
    "start_time": "2021-10-31T14:14:44.770Z"
   },
   {
    "duration": 91,
    "start_time": "2021-10-31T14:14:44.835Z"
   },
   {
    "duration": 439,
    "start_time": "2021-10-31T14:14:44.928Z"
   },
   {
    "duration": 72,
    "start_time": "2021-10-31T14:14:45.370Z"
   },
   {
    "duration": 18,
    "start_time": "2021-10-31T14:14:45.445Z"
   },
   {
    "duration": 32,
    "start_time": "2021-10-31T14:14:45.466Z"
   },
   {
    "duration": 12,
    "start_time": "2021-10-31T14:14:45.500Z"
   },
   {
    "duration": 313,
    "start_time": "2021-10-31T14:14:45.514Z"
   },
   {
    "duration": 318,
    "start_time": "2021-10-31T14:14:45.830Z"
   },
   {
    "duration": 349,
    "start_time": "2021-10-31T14:14:46.150Z"
   },
   {
    "duration": 7987,
    "start_time": "2021-10-31T14:18:33.449Z"
   },
   {
    "duration": 6986,
    "start_time": "2021-10-31T14:18:54.545Z"
   },
   {
    "duration": 107,
    "start_time": "2021-10-31T14:20:17.865Z"
   },
   {
    "duration": 327,
    "start_time": "2021-10-31T14:20:21.794Z"
   },
   {
    "duration": 58,
    "start_time": "2021-10-31T14:20:38.457Z"
   },
   {
    "duration": 34,
    "start_time": "2021-10-31T14:26:40.608Z"
   },
   {
    "duration": 278,
    "start_time": "2021-11-01T16:11:06.484Z"
   },
   {
    "duration": 1174,
    "start_time": "2021-11-01T16:11:15.975Z"
   },
   {
    "duration": 130,
    "start_time": "2021-11-01T16:11:17.151Z"
   },
   {
    "duration": 28,
    "start_time": "2021-11-01T16:11:17.282Z"
   },
   {
    "duration": 4,
    "start_time": "2021-11-01T16:11:17.312Z"
   },
   {
    "duration": 11,
    "start_time": "2021-11-01T16:11:17.318Z"
   },
   {
    "duration": 37,
    "start_time": "2021-11-01T16:11:17.331Z"
   },
   {
    "duration": 23,
    "start_time": "2021-11-01T16:11:17.370Z"
   },
   {
    "duration": 2,
    "start_time": "2021-11-01T16:11:17.396Z"
   },
   {
    "duration": 66,
    "start_time": "2021-11-01T16:11:17.400Z"
   },
   {
    "duration": 4,
    "start_time": "2021-11-01T16:11:17.468Z"
   },
   {
    "duration": 27,
    "start_time": "2021-11-01T16:11:17.474Z"
   },
   {
    "duration": 60,
    "start_time": "2021-11-01T16:11:17.503Z"
   },
   {
    "duration": 11,
    "start_time": "2021-11-01T16:11:17.565Z"
   },
   {
    "duration": 10,
    "start_time": "2021-11-01T16:11:17.578Z"
   },
   {
    "duration": 8,
    "start_time": "2021-11-01T16:11:17.590Z"
   },
   {
    "duration": 7,
    "start_time": "2021-11-01T16:11:17.600Z"
   },
   {
    "duration": 20,
    "start_time": "2021-11-01T16:11:17.664Z"
   },
   {
    "duration": 4,
    "start_time": "2021-11-01T16:11:17.686Z"
   },
   {
    "duration": 9,
    "start_time": "2021-11-01T16:11:17.691Z"
   },
   {
    "duration": 5,
    "start_time": "2021-11-01T16:11:17.701Z"
   },
   {
    "duration": 5,
    "start_time": "2021-11-01T16:11:17.763Z"
   },
   {
    "duration": 12,
    "start_time": "2021-11-01T16:11:17.770Z"
   },
   {
    "duration": 6,
    "start_time": "2021-11-01T16:11:17.785Z"
   },
   {
    "duration": 12,
    "start_time": "2021-11-01T16:11:17.793Z"
   },
   {
    "duration": 77,
    "start_time": "2021-11-01T16:11:17.807Z"
   },
   {
    "duration": 5,
    "start_time": "2021-11-01T16:11:17.886Z"
   },
   {
    "duration": 7,
    "start_time": "2021-11-01T16:11:17.892Z"
   },
   {
    "duration": 78,
    "start_time": "2021-11-01T16:11:17.900Z"
   },
   {
    "duration": 25,
    "start_time": "2021-11-01T16:11:17.980Z"
   },
   {
    "duration": 58,
    "start_time": "2021-11-01T16:11:18.007Z"
   },
   {
    "duration": 63,
    "start_time": "2021-11-01T16:11:18.066Z"
   },
   {
    "duration": 55,
    "start_time": "2021-11-01T16:11:18.131Z"
   },
   {
    "duration": 2,
    "start_time": "2021-11-01T16:11:18.188Z"
   },
   {
    "duration": 25,
    "start_time": "2021-11-01T16:11:18.192Z"
   },
   {
    "duration": 21,
    "start_time": "2021-11-01T16:11:18.219Z"
   },
   {
    "duration": 204,
    "start_time": "2021-11-01T16:11:18.242Z"
   },
   {
    "duration": 200,
    "start_time": "2021-11-01T16:11:18.447Z"
   },
   {
    "duration": 35,
    "start_time": "2021-11-01T16:11:18.649Z"
   },
   {
    "duration": 29,
    "start_time": "2021-11-01T16:11:18.685Z"
   },
   {
    "duration": 59,
    "start_time": "2021-11-01T16:11:18.716Z"
   },
   {
    "duration": 247,
    "start_time": "2021-11-01T16:11:18.776Z"
   },
   {
    "duration": 49,
    "start_time": "2021-11-01T16:11:19.025Z"
   },
   {
    "duration": 13,
    "start_time": "2021-11-01T16:11:19.076Z"
   },
   {
    "duration": 14,
    "start_time": "2021-11-01T16:11:19.090Z"
   },
   {
    "duration": 11,
    "start_time": "2021-11-01T16:11:19.107Z"
   },
   {
    "duration": 203,
    "start_time": "2021-11-01T16:11:19.120Z"
   },
   {
    "duration": 194,
    "start_time": "2021-11-01T16:11:19.325Z"
   },
   {
    "duration": 248,
    "start_time": "2021-11-01T16:11:19.522Z"
   },
   {
    "duration": 3,
    "start_time": "2021-11-01T16:13:37.549Z"
   },
   {
    "duration": 14,
    "start_time": "2021-11-01T16:15:55.723Z"
   },
   {
    "duration": 1590,
    "start_time": "2021-11-01T16:16:03.836Z"
   },
   {
    "duration": 180,
    "start_time": "2021-11-01T16:16:05.429Z"
   },
   {
    "duration": 53,
    "start_time": "2021-11-01T16:16:05.612Z"
   },
   {
    "duration": 5,
    "start_time": "2021-11-01T16:16:05.667Z"
   },
   {
    "duration": 15,
    "start_time": "2021-11-01T16:16:05.674Z"
   },
   {
    "duration": 8,
    "start_time": "2021-11-01T16:16:05.691Z"
   },
   {
    "duration": 52,
    "start_time": "2021-11-01T16:16:05.701Z"
   },
   {
    "duration": 9,
    "start_time": "2021-11-01T16:16:05.755Z"
   },
   {
    "duration": 42,
    "start_time": "2021-11-01T16:16:05.768Z"
   },
   {
    "duration": 11,
    "start_time": "2021-11-01T16:16:05.812Z"
   },
   {
    "duration": 35,
    "start_time": "2021-11-01T16:16:05.825Z"
   },
   {
    "duration": 12,
    "start_time": "2021-11-01T16:16:05.861Z"
   },
   {
    "duration": 14,
    "start_time": "2021-11-01T16:16:05.875Z"
   },
   {
    "duration": 15,
    "start_time": "2021-11-01T16:16:05.891Z"
   },
   {
    "duration": 11,
    "start_time": "2021-11-01T16:16:05.908Z"
   },
   {
    "duration": 13,
    "start_time": "2021-11-01T16:16:05.921Z"
   },
   {
    "duration": 39,
    "start_time": "2021-11-01T16:16:05.936Z"
   },
   {
    "duration": 4,
    "start_time": "2021-11-01T16:16:05.977Z"
   },
   {
    "duration": 11,
    "start_time": "2021-11-01T16:16:05.983Z"
   },
   {
    "duration": 15,
    "start_time": "2021-11-01T16:16:05.995Z"
   },
   {
    "duration": 14,
    "start_time": "2021-11-01T16:16:06.012Z"
   },
   {
    "duration": 27,
    "start_time": "2021-11-01T16:16:06.028Z"
   },
   {
    "duration": 14,
    "start_time": "2021-11-01T16:16:06.057Z"
   },
   {
    "duration": 14,
    "start_time": "2021-11-01T16:16:06.073Z"
   },
   {
    "duration": 14,
    "start_time": "2021-11-01T16:16:06.089Z"
   },
   {
    "duration": 38,
    "start_time": "2021-11-01T16:16:06.105Z"
   },
   {
    "duration": 17,
    "start_time": "2021-11-01T16:16:06.146Z"
   },
   {
    "duration": 5,
    "start_time": "2021-11-01T16:16:06.166Z"
   },
   {
    "duration": 33,
    "start_time": "2021-11-01T16:16:06.173Z"
   },
   {
    "duration": 25,
    "start_time": "2021-11-01T16:16:06.208Z"
   },
   {
    "duration": 45,
    "start_time": "2021-11-01T16:16:06.234Z"
   },
   {
    "duration": 84,
    "start_time": "2021-11-01T16:16:06.281Z"
   },
   {
    "duration": 39,
    "start_time": "2021-11-01T16:16:06.367Z"
   },
   {
    "duration": 3,
    "start_time": "2021-11-01T16:16:06.408Z"
   },
   {
    "duration": 34,
    "start_time": "2021-11-01T16:16:06.413Z"
   },
   {
    "duration": 32,
    "start_time": "2021-11-01T16:16:06.449Z"
   },
   {
    "duration": 196,
    "start_time": "2021-11-01T16:16:06.483Z"
   },
   {
    "duration": 210,
    "start_time": "2021-11-01T16:16:06.681Z"
   },
   {
    "duration": 30,
    "start_time": "2021-11-01T16:16:06.893Z"
   },
   {
    "duration": 51,
    "start_time": "2021-11-01T16:16:06.925Z"
   },
   {
    "duration": 42,
    "start_time": "2021-11-01T16:16:06.977Z"
   },
   {
    "duration": 250,
    "start_time": "2021-11-01T16:16:07.021Z"
   },
   {
    "duration": 38,
    "start_time": "2021-11-01T16:16:07.273Z"
   },
   {
    "duration": 13,
    "start_time": "2021-11-01T16:16:07.313Z"
   },
   {
    "duration": 36,
    "start_time": "2021-11-01T16:16:07.328Z"
   },
   {
    "duration": 9,
    "start_time": "2021-11-01T16:16:07.367Z"
   },
   {
    "duration": 184,
    "start_time": "2021-11-01T16:16:07.379Z"
   },
   {
    "duration": 190,
    "start_time": "2021-11-01T16:16:07.565Z"
   },
   {
    "duration": 249,
    "start_time": "2021-11-01T16:16:07.758Z"
   },
   {
    "duration": 69,
    "start_time": "2021-11-01T16:22:57.141Z"
   },
   {
    "duration": 1157,
    "start_time": "2021-11-01T16:23:11.385Z"
   },
   {
    "duration": 128,
    "start_time": "2021-11-01T16:23:12.544Z"
   },
   {
    "duration": 29,
    "start_time": "2021-11-01T16:23:12.674Z"
   },
   {
    "duration": 4,
    "start_time": "2021-11-01T16:23:12.705Z"
   },
   {
    "duration": 10,
    "start_time": "2021-11-01T16:23:12.711Z"
   },
   {
    "duration": 13,
    "start_time": "2021-11-01T16:23:12.723Z"
   },
   {
    "duration": 48,
    "start_time": "2021-11-01T16:23:12.737Z"
   },
   {
    "duration": 2,
    "start_time": "2021-11-01T16:23:12.788Z"
   },
   {
    "duration": 14,
    "start_time": "2021-11-01T16:23:12.792Z"
   },
   {
    "duration": 4,
    "start_time": "2021-11-01T16:23:12.807Z"
   },
   {
    "duration": 28,
    "start_time": "2021-11-01T16:23:12.813Z"
   },
   {
    "duration": 13,
    "start_time": "2021-11-01T16:23:12.864Z"
   },
   {
    "duration": 10,
    "start_time": "2021-11-01T16:23:12.879Z"
   },
   {
    "duration": 10,
    "start_time": "2021-11-01T16:23:12.891Z"
   },
   {
    "duration": 11,
    "start_time": "2021-11-01T16:23:12.903Z"
   },
   {
    "duration": 9,
    "start_time": "2021-11-01T16:23:12.915Z"
   },
   {
    "duration": 52,
    "start_time": "2021-11-01T16:23:12.925Z"
   },
   {
    "duration": 4,
    "start_time": "2021-11-01T16:23:12.979Z"
   },
   {
    "duration": 13,
    "start_time": "2021-11-01T16:23:12.984Z"
   },
   {
    "duration": 11,
    "start_time": "2021-11-01T16:23:12.999Z"
   },
   {
    "duration": 7,
    "start_time": "2021-11-01T16:23:13.012Z"
   },
   {
    "duration": 11,
    "start_time": "2021-11-01T16:23:13.021Z"
   },
   {
    "duration": 28,
    "start_time": "2021-11-01T16:23:13.036Z"
   },
   {
    "duration": 7,
    "start_time": "2021-11-01T16:23:13.067Z"
   },
   {
    "duration": 11,
    "start_time": "2021-11-01T16:23:13.076Z"
   },
   {
    "duration": 36,
    "start_time": "2021-11-01T16:23:13.089Z"
   },
   {
    "duration": 5,
    "start_time": "2021-11-01T16:23:13.128Z"
   },
   {
    "duration": 6,
    "start_time": "2021-11-01T16:23:13.163Z"
   },
   {
    "duration": 29,
    "start_time": "2021-11-01T16:23:13.171Z"
   },
   {
    "duration": 25,
    "start_time": "2021-11-01T16:23:13.202Z"
   },
   {
    "duration": 47,
    "start_time": "2021-11-01T16:23:13.229Z"
   },
   {
    "duration": 50,
    "start_time": "2021-11-01T16:23:13.279Z"
   },
   {
    "duration": 64,
    "start_time": "2021-11-01T16:23:13.331Z"
   },
   {
    "duration": 3,
    "start_time": "2021-11-01T16:23:13.396Z"
   },
   {
    "duration": 22,
    "start_time": "2021-11-01T16:23:13.400Z"
   },
   {
    "duration": 21,
    "start_time": "2021-11-01T16:23:13.424Z"
   },
   {
    "duration": 200,
    "start_time": "2021-11-01T16:23:13.447Z"
   },
   {
    "duration": 243,
    "start_time": "2021-11-01T16:23:13.649Z"
   },
   {
    "duration": 83,
    "start_time": "2021-11-01T16:23:13.894Z"
   },
   {
    "duration": 85,
    "start_time": "2021-11-01T16:23:13.979Z"
   },
   {
    "duration": 39,
    "start_time": "2021-11-01T16:23:14.066Z"
   },
   {
    "duration": 362,
    "start_time": "2021-11-01T16:23:14.107Z"
   },
   {
    "duration": 32,
    "start_time": "2021-11-01T16:23:14.470Z"
   },
   {
    "duration": 13,
    "start_time": "2021-11-01T16:23:14.504Z"
   },
   {
    "duration": 9,
    "start_time": "2021-11-01T16:23:14.519Z"
   },
   {
    "duration": 38,
    "start_time": "2021-11-01T16:23:14.530Z"
   },
   {
    "duration": 183,
    "start_time": "2021-11-01T16:23:14.569Z"
   },
   {
    "duration": 187,
    "start_time": "2021-11-01T16:23:14.754Z"
   },
   {
    "duration": 244,
    "start_time": "2021-11-01T16:23:14.943Z"
   },
   {
    "duration": 33,
    "start_time": "2021-11-01T16:24:29.187Z"
   },
   {
    "duration": 34,
    "start_time": "2021-11-01T16:25:04.172Z"
   },
   {
    "duration": 12,
    "start_time": "2021-11-01T16:27:19.124Z"
   },
   {
    "duration": 13,
    "start_time": "2021-11-01T16:27:31.828Z"
   },
   {
    "duration": 1143,
    "start_time": "2021-11-01T16:28:01.097Z"
   },
   {
    "duration": 132,
    "start_time": "2021-11-01T16:28:02.242Z"
   },
   {
    "duration": 27,
    "start_time": "2021-11-01T16:28:02.376Z"
   },
   {
    "duration": 7,
    "start_time": "2021-11-01T16:28:02.405Z"
   },
   {
    "duration": 20,
    "start_time": "2021-11-01T16:28:02.413Z"
   },
   {
    "duration": 14,
    "start_time": "2021-11-01T16:28:02.435Z"
   },
   {
    "duration": 33,
    "start_time": "2021-11-01T16:28:02.451Z"
   },
   {
    "duration": 4,
    "start_time": "2021-11-01T16:28:02.487Z"
   },
   {
    "duration": 23,
    "start_time": "2021-11-01T16:28:02.493Z"
   },
   {
    "duration": 5,
    "start_time": "2021-11-01T16:28:02.517Z"
   },
   {
    "duration": 36,
    "start_time": "2021-11-01T16:28:02.523Z"
   },
   {
    "duration": 10,
    "start_time": "2021-11-01T16:28:02.560Z"
   },
   {
    "duration": 10,
    "start_time": "2021-11-01T16:28:02.571Z"
   },
   {
    "duration": 12,
    "start_time": "2021-11-01T16:28:02.582Z"
   },
   {
    "duration": 9,
    "start_time": "2021-11-01T16:28:02.596Z"
   },
   {
    "duration": 9,
    "start_time": "2021-11-01T16:28:02.607Z"
   },
   {
    "duration": 47,
    "start_time": "2021-11-01T16:28:02.618Z"
   },
   {
    "duration": 4,
    "start_time": "2021-11-01T16:28:02.667Z"
   },
   {
    "duration": 14,
    "start_time": "2021-11-01T16:28:02.673Z"
   },
   {
    "duration": 13,
    "start_time": "2021-11-01T16:28:02.688Z"
   },
   {
    "duration": 4,
    "start_time": "2021-11-01T16:28:02.703Z"
   },
   {
    "duration": 19,
    "start_time": "2021-11-01T16:28:02.709Z"
   },
   {
    "duration": 16,
    "start_time": "2021-11-01T16:28:02.731Z"
   },
   {
    "duration": 16,
    "start_time": "2021-11-01T16:28:02.749Z"
   },
   {
    "duration": 7,
    "start_time": "2021-11-01T16:28:02.767Z"
   },
   {
    "duration": 38,
    "start_time": "2021-11-01T16:28:02.775Z"
   },
   {
    "duration": 5,
    "start_time": "2021-11-01T16:28:02.815Z"
   },
   {
    "duration": 13,
    "start_time": "2021-11-01T16:28:02.822Z"
   },
   {
    "duration": 42,
    "start_time": "2021-11-01T16:28:02.837Z"
   },
   {
    "duration": 24,
    "start_time": "2021-11-01T16:28:02.880Z"
   },
   {
    "duration": 34,
    "start_time": "2021-11-01T16:28:02.906Z"
   },
   {
    "duration": 49,
    "start_time": "2021-11-01T16:28:02.942Z"
   },
   {
    "duration": 33,
    "start_time": "2021-11-01T16:28:02.993Z"
   },
   {
    "duration": 2,
    "start_time": "2021-11-01T16:28:03.029Z"
   },
   {
    "duration": 35,
    "start_time": "2021-11-01T16:28:03.033Z"
   },
   {
    "duration": 20,
    "start_time": "2021-11-01T16:28:03.070Z"
   },
   {
    "duration": 190,
    "start_time": "2021-11-01T16:28:03.091Z"
   },
   {
    "duration": 200,
    "start_time": "2021-11-01T16:28:03.283Z"
   },
   {
    "duration": 30,
    "start_time": "2021-11-01T16:28:03.485Z"
   },
   {
    "duration": 47,
    "start_time": "2021-11-01T16:28:03.517Z"
   },
   {
    "duration": 36,
    "start_time": "2021-11-01T16:28:03.566Z"
   },
   {
    "duration": 269,
    "start_time": "2021-11-01T16:28:03.604Z"
   },
   {
    "duration": 88,
    "start_time": "2021-11-01T16:28:03.875Z"
   },
   {
    "duration": 14,
    "start_time": "2021-11-01T16:28:03.965Z"
   },
   {
    "duration": 14,
    "start_time": "2021-11-01T16:28:03.980Z"
   },
   {
    "duration": 9,
    "start_time": "2021-11-01T16:28:03.996Z"
   },
   {
    "duration": 327,
    "start_time": "2021-11-01T16:28:04.007Z"
   },
   {
    "duration": 202,
    "start_time": "2021-11-01T16:28:04.335Z"
   },
   {
    "duration": 168,
    "start_time": "2021-11-01T16:28:04.539Z"
   },
   {
    "duration": 31,
    "start_time": "2021-11-01T16:29:21.015Z"
   },
   {
    "duration": 1131,
    "start_time": "2021-11-01T16:29:43.396Z"
   },
   {
    "duration": 125,
    "start_time": "2021-11-01T16:29:44.529Z"
   },
   {
    "duration": 28,
    "start_time": "2021-11-01T16:29:44.656Z"
   },
   {
    "duration": 4,
    "start_time": "2021-11-01T16:29:44.687Z"
   },
   {
    "duration": 9,
    "start_time": "2021-11-01T16:29:44.693Z"
   },
   {
    "duration": 6,
    "start_time": "2021-11-01T16:29:44.703Z"
   },
   {
    "duration": 23,
    "start_time": "2021-11-01T16:29:44.711Z"
   },
   {
    "duration": 27,
    "start_time": "2021-11-01T16:29:44.736Z"
   },
   {
    "duration": 13,
    "start_time": "2021-11-01T16:29:44.766Z"
   },
   {
    "duration": 4,
    "start_time": "2021-11-01T16:29:44.780Z"
   },
   {
    "duration": 25,
    "start_time": "2021-11-01T16:29:44.785Z"
   },
   {
    "duration": 10,
    "start_time": "2021-11-01T16:29:44.812Z"
   },
   {
    "duration": 45,
    "start_time": "2021-11-01T16:29:44.824Z"
   },
   {
    "duration": 10,
    "start_time": "2021-11-01T16:29:44.872Z"
   },
   {
    "duration": 9,
    "start_time": "2021-11-01T16:29:44.885Z"
   },
   {
    "duration": 8,
    "start_time": "2021-11-01T16:29:44.896Z"
   },
   {
    "duration": 23,
    "start_time": "2021-11-01T16:29:44.906Z"
   },
   {
    "duration": 34,
    "start_time": "2021-11-01T16:29:44.931Z"
   },
   {
    "duration": 8,
    "start_time": "2021-11-01T16:29:44.967Z"
   },
   {
    "duration": 9,
    "start_time": "2021-11-01T16:29:44.976Z"
   },
   {
    "duration": 4,
    "start_time": "2021-11-01T16:29:44.986Z"
   },
   {
    "duration": 12,
    "start_time": "2021-11-01T16:29:44.992Z"
   },
   {
    "duration": 10,
    "start_time": "2021-11-01T16:29:45.009Z"
   },
   {
    "duration": 17,
    "start_time": "2021-11-01T16:29:45.021Z"
   },
   {
    "duration": 26,
    "start_time": "2021-11-01T16:29:45.039Z"
   },
   {
    "duration": 32,
    "start_time": "2021-11-01T16:29:45.067Z"
   },
   {
    "duration": 4,
    "start_time": "2021-11-01T16:29:45.100Z"
   },
   {
    "duration": 11,
    "start_time": "2021-11-01T16:29:45.106Z"
   },
   {
    "duration": 47,
    "start_time": "2021-11-01T16:29:45.118Z"
   },
   {
    "duration": 23,
    "start_time": "2021-11-01T16:29:45.167Z"
   },
   {
    "duration": 21,
    "start_time": "2021-11-01T16:29:45.192Z"
   },
   {
    "duration": 61,
    "start_time": "2021-11-01T16:29:45.216Z"
   },
   {
    "duration": 38,
    "start_time": "2021-11-01T16:29:45.279Z"
   },
   {
    "duration": 2,
    "start_time": "2021-11-01T16:29:45.319Z"
   },
   {
    "duration": 41,
    "start_time": "2021-11-01T16:29:45.323Z"
   },
   {
    "duration": 17,
    "start_time": "2021-11-01T16:29:45.366Z"
   },
   {
    "duration": 192,
    "start_time": "2021-11-01T16:29:45.384Z"
   },
   {
    "duration": 191,
    "start_time": "2021-11-01T16:29:45.577Z"
   },
   {
    "duration": 27,
    "start_time": "2021-11-01T16:29:45.770Z"
   },
   {
    "duration": 27,
    "start_time": "2021-11-01T16:29:45.799Z"
   },
   {
    "duration": 65,
    "start_time": "2021-11-01T16:29:45.828Z"
   },
   {
    "duration": 238,
    "start_time": "2021-11-01T16:29:45.895Z"
   },
   {
    "duration": 47,
    "start_time": "2021-11-01T16:29:46.135Z"
   },
   {
    "duration": 13,
    "start_time": "2021-11-01T16:29:46.184Z"
   },
   {
    "duration": 11,
    "start_time": "2021-11-01T16:29:46.199Z"
   },
   {
    "duration": 9,
    "start_time": "2021-11-01T16:29:46.212Z"
   },
   {
    "duration": 191,
    "start_time": "2021-11-01T16:29:46.223Z"
   },
   {
    "duration": 182,
    "start_time": "2021-11-01T16:29:46.416Z"
   },
   {
    "duration": 173,
    "start_time": "2021-11-01T16:29:46.600Z"
   },
   {
    "duration": 16,
    "start_time": "2021-11-01T16:31:10.068Z"
   },
   {
    "duration": 28,
    "start_time": "2021-11-01T16:31:40.532Z"
   },
   {
    "duration": 31,
    "start_time": "2021-11-01T16:32:41.483Z"
   },
   {
    "duration": 113,
    "start_time": "2021-11-01T16:32:54.756Z"
   },
   {
    "duration": 33,
    "start_time": "2021-11-01T16:33:28.372Z"
   },
   {
    "duration": 18,
    "start_time": "2021-11-01T16:34:38.213Z"
   },
   {
    "duration": 10,
    "start_time": "2021-11-01T16:34:52.954Z"
   },
   {
    "duration": 10,
    "start_time": "2021-11-01T16:35:16.231Z"
   },
   {
    "duration": 158,
    "start_time": "2021-11-01T16:35:28.659Z"
   },
   {
    "duration": 160,
    "start_time": "2021-11-01T16:35:36.143Z"
   },
   {
    "duration": 146,
    "start_time": "2021-11-01T16:35:42.401Z"
   },
   {
    "duration": 1166,
    "start_time": "2021-11-01T16:38:07.876Z"
   },
   {
    "duration": 136,
    "start_time": "2021-11-01T16:38:09.044Z"
   },
   {
    "duration": 35,
    "start_time": "2021-11-01T16:38:09.183Z"
   },
   {
    "duration": 4,
    "start_time": "2021-11-01T16:38:09.221Z"
   },
   {
    "duration": 7,
    "start_time": "2021-11-01T16:38:09.227Z"
   },
   {
    "duration": 30,
    "start_time": "2021-11-01T16:38:09.235Z"
   },
   {
    "duration": 24,
    "start_time": "2021-11-01T16:38:09.267Z"
   },
   {
    "duration": 5,
    "start_time": "2021-11-01T16:38:09.293Z"
   },
   {
    "duration": 18,
    "start_time": "2021-11-01T16:38:09.300Z"
   },
   {
    "duration": 3,
    "start_time": "2021-11-01T16:38:09.320Z"
   },
   {
    "duration": 49,
    "start_time": "2021-11-01T16:38:09.325Z"
   },
   {
    "duration": 15,
    "start_time": "2021-11-01T16:38:09.376Z"
   },
   {
    "duration": 12,
    "start_time": "2021-11-01T16:38:09.393Z"
   },
   {
    "duration": 13,
    "start_time": "2021-11-01T16:38:09.406Z"
   },
   {
    "duration": 44,
    "start_time": "2021-11-01T16:38:09.421Z"
   },
   {
    "duration": 8,
    "start_time": "2021-11-01T16:38:09.467Z"
   },
   {
    "duration": 32,
    "start_time": "2021-11-01T16:38:09.477Z"
   },
   {
    "duration": 5,
    "start_time": "2021-11-01T16:38:09.511Z"
   },
   {
    "duration": 10,
    "start_time": "2021-11-01T16:38:09.517Z"
   },
   {
    "duration": 41,
    "start_time": "2021-11-01T16:38:09.529Z"
   },
   {
    "duration": 5,
    "start_time": "2021-11-01T16:38:09.572Z"
   },
   {
    "duration": 8,
    "start_time": "2021-11-01T16:38:09.579Z"
   },
   {
    "duration": 10,
    "start_time": "2021-11-01T16:38:09.590Z"
   },
   {
    "duration": 10,
    "start_time": "2021-11-01T16:38:09.603Z"
   },
   {
    "duration": 11,
    "start_time": "2021-11-01T16:38:09.615Z"
   },
   {
    "duration": 60,
    "start_time": "2021-11-01T16:38:09.628Z"
   },
   {
    "duration": 5,
    "start_time": "2021-11-01T16:38:09.690Z"
   },
   {
    "duration": 11,
    "start_time": "2021-11-01T16:38:09.696Z"
   },
   {
    "duration": 28,
    "start_time": "2021-11-01T16:38:09.709Z"
   },
   {
    "duration": 51,
    "start_time": "2021-11-01T16:38:09.738Z"
   },
   {
    "duration": 20,
    "start_time": "2021-11-01T16:38:09.791Z"
   },
   {
    "duration": 70,
    "start_time": "2021-11-01T16:38:09.812Z"
   },
   {
    "duration": 41,
    "start_time": "2021-11-01T16:38:09.884Z"
   },
   {
    "duration": 2,
    "start_time": "2021-11-01T16:38:09.927Z"
   },
   {
    "duration": 44,
    "start_time": "2021-11-01T16:38:09.931Z"
   },
   {
    "duration": 16,
    "start_time": "2021-11-01T16:38:09.977Z"
   },
   {
    "duration": 212,
    "start_time": "2021-11-01T16:38:09.995Z"
   },
   {
    "duration": 211,
    "start_time": "2021-11-01T16:38:10.209Z"
   },
   {
    "duration": 42,
    "start_time": "2021-11-01T16:38:10.422Z"
   },
   {
    "duration": 30,
    "start_time": "2021-11-01T16:38:10.466Z"
   },
   {
    "duration": 43,
    "start_time": "2021-11-01T16:38:10.498Z"
   },
   {
    "duration": 282,
    "start_time": "2021-11-01T16:38:10.543Z"
   },
   {
    "duration": 49,
    "start_time": "2021-11-01T16:38:10.827Z"
   },
   {
    "duration": 13,
    "start_time": "2021-11-01T16:38:10.878Z"
   },
   {
    "duration": 15,
    "start_time": "2021-11-01T16:38:10.893Z"
   },
   {
    "duration": 10,
    "start_time": "2021-11-01T16:38:10.909Z"
   },
   {
    "duration": 204,
    "start_time": "2021-11-01T16:38:10.921Z"
   },
   {
    "duration": 191,
    "start_time": "2021-11-01T16:38:11.127Z"
   },
   {
    "duration": 185,
    "start_time": "2021-11-01T16:38:11.320Z"
   },
   {
    "duration": 1480,
    "start_time": "2021-11-02T15:33:04.204Z"
   },
   {
    "duration": 161,
    "start_time": "2021-11-02T15:33:05.687Z"
   },
   {
    "duration": 41,
    "start_time": "2021-11-02T15:33:05.851Z"
   },
   {
    "duration": 6,
    "start_time": "2021-11-02T15:33:05.895Z"
   },
   {
    "duration": 9,
    "start_time": "2021-11-02T15:33:05.903Z"
   },
   {
    "duration": 6,
    "start_time": "2021-11-02T15:33:05.915Z"
   },
   {
    "duration": 74,
    "start_time": "2021-11-02T15:33:05.923Z"
   },
   {
    "duration": 3,
    "start_time": "2021-11-02T15:33:06.001Z"
   },
   {
    "duration": 27,
    "start_time": "2021-11-02T15:33:06.007Z"
   },
   {
    "duration": 32,
    "start_time": "2021-11-02T15:33:06.036Z"
   },
   {
    "duration": 37,
    "start_time": "2021-11-02T15:33:06.071Z"
   },
   {
    "duration": 18,
    "start_time": "2021-11-02T15:33:06.110Z"
   },
   {
    "duration": 43,
    "start_time": "2021-11-02T15:33:06.131Z"
   },
   {
    "duration": 13,
    "start_time": "2021-11-02T15:33:06.176Z"
   },
   {
    "duration": 10,
    "start_time": "2021-11-02T15:33:06.191Z"
   },
   {
    "duration": 13,
    "start_time": "2021-11-02T15:33:06.204Z"
   },
   {
    "duration": 71,
    "start_time": "2021-11-02T15:33:06.220Z"
   },
   {
    "duration": 5,
    "start_time": "2021-11-02T15:33:06.293Z"
   },
   {
    "duration": 13,
    "start_time": "2021-11-02T15:33:06.301Z"
   },
   {
    "duration": 16,
    "start_time": "2021-11-02T15:33:06.317Z"
   },
   {
    "duration": 7,
    "start_time": "2021-11-02T15:33:06.368Z"
   },
   {
    "duration": 12,
    "start_time": "2021-11-02T15:33:06.378Z"
   },
   {
    "duration": 15,
    "start_time": "2021-11-02T15:33:06.399Z"
   },
   {
    "duration": 9,
    "start_time": "2021-11-02T15:33:06.418Z"
   },
   {
    "duration": 14,
    "start_time": "2021-11-02T15:33:06.469Z"
   },
   {
    "duration": 91,
    "start_time": "2021-11-02T15:33:06.486Z"
   },
   {
    "duration": 9,
    "start_time": "2021-11-02T15:33:06.580Z"
   },
   {
    "duration": 8,
    "start_time": "2021-11-02T15:33:06.592Z"
   },
   {
    "duration": 96,
    "start_time": "2021-11-02T15:33:06.603Z"
   },
   {
    "duration": 42,
    "start_time": "2021-11-02T15:33:06.702Z"
   },
   {
    "duration": 29,
    "start_time": "2021-11-02T15:33:06.768Z"
   },
   {
    "duration": 85,
    "start_time": "2021-11-02T15:33:06.800Z"
   },
   {
    "duration": 81,
    "start_time": "2021-11-02T15:33:06.888Z"
   },
   {
    "duration": 4,
    "start_time": "2021-11-02T15:33:06.972Z"
   },
   {
    "duration": 43,
    "start_time": "2021-11-02T15:33:06.979Z"
   },
   {
    "duration": 46,
    "start_time": "2021-11-02T15:33:07.024Z"
   },
   {
    "duration": 389,
    "start_time": "2021-11-02T15:33:07.073Z"
   },
   {
    "duration": 825,
    "start_time": "2021-11-02T15:33:07.468Z"
   },
   {
    "duration": 48,
    "start_time": "2021-11-02T15:33:08.296Z"
   },
   {
    "duration": 67,
    "start_time": "2021-11-02T15:33:08.347Z"
   },
   {
    "duration": 1350,
    "start_time": "2021-11-02T15:33:08.417Z"
   },
   {
    "duration": 168,
    "start_time": "2021-11-02T15:33:09.601Z"
   },
   {
    "duration": 154,
    "start_time": "2021-11-02T15:33:09.617Z"
   },
   {
    "duration": 143,
    "start_time": "2021-11-02T15:33:09.629Z"
   },
   {
    "duration": 141,
    "start_time": "2021-11-02T15:33:09.633Z"
   },
   {
    "duration": 139,
    "start_time": "2021-11-02T15:33:09.636Z"
   },
   {
    "duration": 138,
    "start_time": "2021-11-02T15:33:09.639Z"
   },
   {
    "duration": 136,
    "start_time": "2021-11-02T15:33:09.642Z"
   },
   {
    "duration": 135,
    "start_time": "2021-11-02T15:33:09.645Z"
   },
   {
    "duration": 72,
    "start_time": "2021-11-02T15:33:46.825Z"
   },
   {
    "duration": 409,
    "start_time": "2021-11-02T15:33:56.166Z"
   },
   {
    "duration": 1441,
    "start_time": "2021-11-02T16:32:08.706Z"
   },
   {
    "duration": 153,
    "start_time": "2021-11-02T16:32:10.150Z"
   },
   {
    "duration": 60,
    "start_time": "2021-11-02T16:32:10.307Z"
   },
   {
    "duration": 5,
    "start_time": "2021-11-02T16:32:10.370Z"
   },
   {
    "duration": 9,
    "start_time": "2021-11-02T16:32:10.377Z"
   },
   {
    "duration": 7,
    "start_time": "2021-11-02T16:32:10.389Z"
   },
   {
    "duration": 71,
    "start_time": "2021-11-02T16:32:10.398Z"
   },
   {
    "duration": 3,
    "start_time": "2021-11-02T16:32:10.471Z"
   },
   {
    "duration": 17,
    "start_time": "2021-11-02T16:32:10.478Z"
   },
   {
    "duration": 5,
    "start_time": "2021-11-02T16:32:10.499Z"
   },
   {
    "duration": 75,
    "start_time": "2021-11-02T16:32:10.507Z"
   },
   {
    "duration": 18,
    "start_time": "2021-11-02T16:32:10.584Z"
   },
   {
    "duration": 15,
    "start_time": "2021-11-02T16:32:10.605Z"
   },
   {
    "duration": 47,
    "start_time": "2021-11-02T16:32:10.623Z"
   },
   {
    "duration": 14,
    "start_time": "2021-11-02T16:32:10.673Z"
   },
   {
    "duration": 13,
    "start_time": "2021-11-02T16:32:10.690Z"
   },
   {
    "duration": 71,
    "start_time": "2021-11-02T16:32:10.706Z"
   },
   {
    "duration": 7,
    "start_time": "2021-11-02T16:32:10.780Z"
   },
   {
    "duration": 11,
    "start_time": "2021-11-02T16:32:10.790Z"
   },
   {
    "duration": 15,
    "start_time": "2021-11-02T16:32:10.804Z"
   },
   {
    "duration": 8,
    "start_time": "2021-11-02T16:32:10.868Z"
   },
   {
    "duration": 11,
    "start_time": "2021-11-02T16:32:10.879Z"
   },
   {
    "duration": 13,
    "start_time": "2021-11-02T16:32:10.893Z"
   },
   {
    "duration": 10,
    "start_time": "2021-11-02T16:32:10.909Z"
   },
   {
    "duration": 53,
    "start_time": "2021-11-02T16:32:10.922Z"
   },
   {
    "duration": 46,
    "start_time": "2021-11-02T16:32:10.977Z"
   },
   {
    "duration": 39,
    "start_time": "2021-11-02T16:32:11.033Z"
   },
   {
    "duration": 9,
    "start_time": "2021-11-02T16:32:11.076Z"
   },
   {
    "duration": 96,
    "start_time": "2021-11-02T16:32:11.088Z"
   },
   {
    "duration": 90,
    "start_time": "2021-11-02T16:32:11.189Z"
   },
   {
    "duration": 46,
    "start_time": "2021-11-02T16:32:11.283Z"
   },
   {
    "duration": 143,
    "start_time": "2021-11-02T16:32:11.332Z"
   },
   {
    "duration": 107,
    "start_time": "2021-11-02T16:32:11.479Z"
   },
   {
    "duration": 4,
    "start_time": "2021-11-02T16:32:11.589Z"
   },
   {
    "duration": 42,
    "start_time": "2021-11-02T16:32:11.596Z"
   },
   {
    "duration": 39,
    "start_time": "2021-11-02T16:32:11.641Z"
   },
   {
    "duration": 334,
    "start_time": "2021-11-02T16:32:11.683Z"
   },
   {
    "duration": 339,
    "start_time": "2021-11-02T16:32:12.019Z"
   },
   {
    "duration": 47,
    "start_time": "2021-11-02T16:32:12.361Z"
   },
   {
    "duration": 70,
    "start_time": "2021-11-02T16:32:12.410Z"
   },
   {
    "duration": 71,
    "start_time": "2021-11-02T16:32:12.482Z"
   },
   {
    "duration": 411,
    "start_time": "2021-11-02T16:32:12.567Z"
   },
   {
    "duration": 53,
    "start_time": "2021-11-02T16:32:12.980Z"
   },
   {
    "duration": 43,
    "start_time": "2021-11-02T16:32:13.035Z"
   },
   {
    "duration": 17,
    "start_time": "2021-11-02T16:32:13.080Z"
   },
   {
    "duration": 12,
    "start_time": "2021-11-02T16:32:13.099Z"
   },
   {
    "duration": 315,
    "start_time": "2021-11-02T16:32:13.113Z"
   },
   {
    "duration": 320,
    "start_time": "2021-11-02T16:32:13.431Z"
   },
   {
    "duration": 285,
    "start_time": "2021-11-02T16:32:13.754Z"
   },
   {
    "duration": 1668,
    "start_time": "2021-11-03T14:52:09.674Z"
   },
   {
    "duration": 356,
    "start_time": "2021-11-03T14:52:11.345Z"
   },
   {
    "duration": 95,
    "start_time": "2021-11-03T14:52:11.704Z"
   },
   {
    "duration": 5,
    "start_time": "2021-11-03T14:52:11.802Z"
   },
   {
    "duration": 8,
    "start_time": "2021-11-03T14:52:11.809Z"
   },
   {
    "duration": 7,
    "start_time": "2021-11-03T14:52:11.819Z"
   },
   {
    "duration": 92,
    "start_time": "2021-11-03T14:52:11.828Z"
   },
   {
    "duration": 3,
    "start_time": "2021-11-03T14:52:11.923Z"
   },
   {
    "duration": 17,
    "start_time": "2021-11-03T14:52:11.930Z"
   },
   {
    "duration": 52,
    "start_time": "2021-11-03T14:52:11.950Z"
   },
   {
    "duration": 39,
    "start_time": "2021-11-03T14:52:12.005Z"
   },
   {
    "duration": 20,
    "start_time": "2021-11-03T14:52:12.047Z"
   },
   {
    "duration": 43,
    "start_time": "2021-11-03T14:52:12.070Z"
   },
   {
    "duration": 13,
    "start_time": "2021-11-03T14:52:12.116Z"
   },
   {
    "duration": 13,
    "start_time": "2021-11-03T14:52:12.131Z"
   },
   {
    "duration": 55,
    "start_time": "2021-11-03T14:52:12.147Z"
   },
   {
    "duration": 31,
    "start_time": "2021-11-03T14:52:12.205Z"
   },
   {
    "duration": 7,
    "start_time": "2021-11-03T14:52:12.239Z"
   },
   {
    "duration": 12,
    "start_time": "2021-11-03T14:52:12.249Z"
   },
   {
    "duration": 14,
    "start_time": "2021-11-03T14:52:12.302Z"
   },
   {
    "duration": 7,
    "start_time": "2021-11-03T14:52:12.318Z"
   },
   {
    "duration": 8,
    "start_time": "2021-11-03T14:52:12.327Z"
   },
   {
    "duration": 9,
    "start_time": "2021-11-03T14:52:12.340Z"
   },
   {
    "duration": 53,
    "start_time": "2021-11-03T14:52:12.352Z"
   },
   {
    "duration": 11,
    "start_time": "2021-11-03T14:52:12.407Z"
   },
   {
    "duration": 44,
    "start_time": "2021-11-03T14:52:12.420Z"
   },
   {
    "duration": 34,
    "start_time": "2021-11-03T14:52:12.466Z"
   },
   {
    "duration": 7,
    "start_time": "2021-11-03T14:52:12.503Z"
   },
   {
    "duration": 41,
    "start_time": "2021-11-03T14:52:12.512Z"
   },
   {
    "duration": 8,
    "start_time": "2021-11-03T14:52:12.555Z"
   },
   {
    "duration": 42,
    "start_time": "2021-11-03T14:52:12.601Z"
   },
   {
    "duration": 32,
    "start_time": "2021-11-03T14:52:12.646Z"
   },
   {
    "duration": 53,
    "start_time": "2021-11-03T14:52:12.700Z"
   },
   {
    "duration": 83,
    "start_time": "2021-11-03T14:52:12.755Z"
   },
   {
    "duration": 3,
    "start_time": "2021-11-03T14:52:12.840Z"
   },
   {
    "duration": 29,
    "start_time": "2021-11-03T14:52:12.845Z"
   },
   {
    "duration": 43,
    "start_time": "2021-11-03T14:52:12.877Z"
   },
   {
    "duration": 291,
    "start_time": "2021-11-03T14:52:12.922Z"
   },
   {
    "duration": 322,
    "start_time": "2021-11-03T14:52:13.216Z"
   },
   {
    "duration": 43,
    "start_time": "2021-11-03T14:52:13.541Z"
   },
   {
    "duration": 45,
    "start_time": "2021-11-03T14:52:13.601Z"
   },
   {
    "duration": 91,
    "start_time": "2021-11-03T14:52:13.648Z"
   },
   {
    "duration": 407,
    "start_time": "2021-11-03T14:52:13.741Z"
   },
   {
    "duration": 69,
    "start_time": "2021-11-03T14:52:14.150Z"
   },
   {
    "duration": 18,
    "start_time": "2021-11-03T14:52:14.221Z"
   },
   {
    "duration": 14,
    "start_time": "2021-11-03T14:52:14.241Z"
   },
   {
    "duration": 11,
    "start_time": "2021-11-03T14:52:14.258Z"
   },
   {
    "duration": 300,
    "start_time": "2021-11-03T14:52:14.301Z"
   },
   {
    "duration": 300,
    "start_time": "2021-11-03T14:52:14.603Z"
   },
   {
    "duration": 307,
    "start_time": "2021-11-03T14:52:14.905Z"
   },
   {
    "duration": 6,
    "start_time": "2021-11-03T14:57:10.172Z"
   },
   {
    "duration": 51,
    "start_time": "2021-11-03T14:57:12.372Z"
   },
   {
    "duration": 1645,
    "start_time": "2021-11-03T14:57:43.356Z"
   },
   {
    "duration": 197,
    "start_time": "2021-11-03T14:57:45.004Z"
   },
   {
    "duration": 41,
    "start_time": "2021-11-03T14:57:45.204Z"
   },
   {
    "duration": 5,
    "start_time": "2021-11-03T14:57:45.248Z"
   },
   {
    "duration": 8,
    "start_time": "2021-11-03T14:57:45.256Z"
   },
   {
    "duration": 7,
    "start_time": "2021-11-03T14:57:45.301Z"
   },
   {
    "duration": 47,
    "start_time": "2021-11-03T14:57:45.310Z"
   },
   {
    "duration": 3,
    "start_time": "2021-11-03T14:57:45.361Z"
   },
   {
    "duration": 46,
    "start_time": "2021-11-03T14:57:45.367Z"
   },
   {
    "duration": 5,
    "start_time": "2021-11-03T14:57:45.416Z"
   },
   {
    "duration": 82,
    "start_time": "2021-11-03T14:57:45.424Z"
   },
   {
    "duration": 31,
    "start_time": "2021-11-03T14:57:45.509Z"
   },
   {
    "duration": 15,
    "start_time": "2021-11-03T14:57:45.543Z"
   },
   {
    "duration": 46,
    "start_time": "2021-11-03T14:57:45.561Z"
   },
   {
    "duration": 12,
    "start_time": "2021-11-03T14:57:45.609Z"
   },
   {
    "duration": 10,
    "start_time": "2021-11-03T14:57:45.623Z"
   },
   {
    "duration": 88,
    "start_time": "2021-11-03T14:57:45.636Z"
   },
   {
    "duration": 7,
    "start_time": "2021-11-03T14:57:45.727Z"
   },
   {
    "duration": 14,
    "start_time": "2021-11-03T14:57:45.737Z"
   },
   {
    "duration": 18,
    "start_time": "2021-11-03T14:57:45.802Z"
   },
   {
    "duration": 6,
    "start_time": "2021-11-03T14:57:45.822Z"
   },
   {
    "duration": 17,
    "start_time": "2021-11-03T14:57:45.831Z"
   },
   {
    "duration": 11,
    "start_time": "2021-11-03T14:57:45.903Z"
   },
   {
    "duration": 9,
    "start_time": "2021-11-03T14:57:45.917Z"
   },
   {
    "duration": 10,
    "start_time": "2021-11-03T14:57:45.929Z"
   },
   {
    "duration": 97,
    "start_time": "2021-11-03T14:57:45.941Z"
   },
   {
    "duration": 62,
    "start_time": "2021-11-03T14:57:46.040Z"
   },
   {
    "duration": 7,
    "start_time": "2021-11-03T14:57:46.105Z"
   },
   {
    "duration": 93,
    "start_time": "2021-11-03T14:57:46.115Z"
   },
   {
    "duration": 6,
    "start_time": "2021-11-03T14:57:46.210Z"
   },
   {
    "duration": 107,
    "start_time": "2021-11-03T14:57:46.219Z"
   },
   {
    "duration": 93,
    "start_time": "2021-11-03T14:57:46.328Z"
   },
   {
    "duration": 1519,
    "start_time": "2021-11-03T14:58:52.650Z"
   },
   {
    "duration": 171,
    "start_time": "2021-11-03T14:58:54.172Z"
   },
   {
    "duration": 39,
    "start_time": "2021-11-03T14:58:54.346Z"
   },
   {
    "duration": 5,
    "start_time": "2021-11-03T14:58:54.400Z"
   },
   {
    "duration": 8,
    "start_time": "2021-11-03T14:58:54.407Z"
   },
   {
    "duration": 18,
    "start_time": "2021-11-03T14:58:54.417Z"
   },
   {
    "duration": 63,
    "start_time": "2021-11-03T14:58:54.437Z"
   },
   {
    "duration": 3,
    "start_time": "2021-11-03T14:58:54.505Z"
   },
   {
    "duration": 31,
    "start_time": "2021-11-03T14:58:54.511Z"
   },
   {
    "duration": 5,
    "start_time": "2021-11-03T14:58:54.545Z"
   },
   {
    "duration": 60,
    "start_time": "2021-11-03T14:58:54.552Z"
   },
   {
    "duration": 19,
    "start_time": "2021-11-03T14:58:54.614Z"
   },
   {
    "duration": 14,
    "start_time": "2021-11-03T14:58:54.636Z"
   },
   {
    "duration": 38,
    "start_time": "2021-11-03T14:58:54.652Z"
   },
   {
    "duration": 19,
    "start_time": "2021-11-03T14:58:54.693Z"
   },
   {
    "duration": 11,
    "start_time": "2021-11-03T14:58:54.715Z"
   },
   {
    "duration": 31,
    "start_time": "2021-11-03T14:58:54.728Z"
   },
   {
    "duration": 4,
    "start_time": "2021-11-03T14:58:54.762Z"
   },
   {
    "duration": 10,
    "start_time": "2021-11-03T14:58:54.800Z"
   },
   {
    "duration": 12,
    "start_time": "2021-11-03T14:58:54.812Z"
   },
   {
    "duration": 6,
    "start_time": "2021-11-03T14:58:54.826Z"
   },
   {
    "duration": 10,
    "start_time": "2021-11-03T14:58:54.835Z"
   },
   {
    "duration": 50,
    "start_time": "2021-11-03T14:58:54.850Z"
   },
   {
    "duration": 9,
    "start_time": "2021-11-03T14:58:54.904Z"
   },
   {
    "duration": 12,
    "start_time": "2021-11-03T14:58:54.916Z"
   },
   {
    "duration": 83,
    "start_time": "2021-11-03T14:58:54.931Z"
   },
   {
    "duration": 7,
    "start_time": "2021-11-03T14:58:55.016Z"
   },
   {
    "duration": 8,
    "start_time": "2021-11-03T14:58:55.026Z"
   },
   {
    "duration": 71,
    "start_time": "2021-11-03T14:58:55.036Z"
   },
   {
    "duration": 5,
    "start_time": "2021-11-03T14:58:55.110Z"
   },
   {
    "duration": 41,
    "start_time": "2021-11-03T14:58:55.117Z"
   },
   {
    "duration": 51,
    "start_time": "2021-11-03T14:58:55.160Z"
   },
   {
    "duration": 60,
    "start_time": "2021-11-03T14:58:55.213Z"
   },
   {
    "duration": 76,
    "start_time": "2021-11-03T14:58:55.276Z"
   },
   {
    "duration": 3,
    "start_time": "2021-11-03T14:58:55.355Z"
   },
   {
    "duration": 53,
    "start_time": "2021-11-03T14:58:55.361Z"
   },
   {
    "duration": 22,
    "start_time": "2021-11-03T14:58:55.417Z"
   },
   {
    "duration": 328,
    "start_time": "2021-11-03T14:58:55.441Z"
   },
   {
    "duration": 321,
    "start_time": "2021-11-03T14:58:55.772Z"
   },
   {
    "duration": 43,
    "start_time": "2021-11-03T14:58:56.100Z"
   },
   {
    "duration": 77,
    "start_time": "2021-11-03T14:58:56.145Z"
   },
   {
    "duration": 121,
    "start_time": "2021-11-03T14:58:56.225Z"
   },
   {
    "duration": 716,
    "start_time": "2021-11-03T14:58:56.401Z"
   },
   {
    "duration": 57,
    "start_time": "2021-11-03T14:58:57.120Z"
   },
   {
    "duration": 37,
    "start_time": "2021-11-03T14:58:57.180Z"
   },
   {
    "duration": 13,
    "start_time": "2021-11-03T14:58:57.219Z"
   },
   {
    "duration": 13,
    "start_time": "2021-11-03T14:58:57.235Z"
   },
   {
    "duration": 332,
    "start_time": "2021-11-03T14:58:57.251Z"
   },
   {
    "duration": 315,
    "start_time": "2021-11-03T14:58:57.585Z"
   },
   {
    "duration": 277,
    "start_time": "2021-11-03T14:58:57.902Z"
   },
   {
    "duration": 11,
    "start_time": "2021-11-03T14:59:57.381Z"
   },
   {
    "duration": 49,
    "start_time": "2021-11-03T14:59:59.880Z"
   },
   {
    "duration": 1557,
    "start_time": "2021-11-03T15:01:28.116Z"
   },
   {
    "duration": 167,
    "start_time": "2021-11-03T15:01:29.676Z"
   },
   {
    "duration": 53,
    "start_time": "2021-11-03T15:01:29.847Z"
   },
   {
    "duration": 6,
    "start_time": "2021-11-03T15:01:29.902Z"
   },
   {
    "duration": 10,
    "start_time": "2021-11-03T15:01:29.911Z"
   },
   {
    "duration": 9,
    "start_time": "2021-11-03T15:01:29.923Z"
   },
   {
    "duration": 75,
    "start_time": "2021-11-03T15:01:29.934Z"
   },
   {
    "duration": 3,
    "start_time": "2021-11-03T15:01:30.013Z"
   },
   {
    "duration": 26,
    "start_time": "2021-11-03T15:01:30.019Z"
   },
   {
    "duration": 8,
    "start_time": "2021-11-03T15:01:30.047Z"
   },
   {
    "duration": 72,
    "start_time": "2021-11-03T15:01:30.057Z"
   },
   {
    "duration": 19,
    "start_time": "2021-11-03T15:01:30.132Z"
   },
   {
    "duration": 18,
    "start_time": "2021-11-03T15:01:30.154Z"
   },
   {
    "duration": 37,
    "start_time": "2021-11-03T15:01:30.175Z"
   },
   {
    "duration": 25,
    "start_time": "2021-11-03T15:01:30.215Z"
   },
   {
    "duration": 22,
    "start_time": "2021-11-03T15:01:30.244Z"
   },
   {
    "duration": 57,
    "start_time": "2021-11-03T15:01:30.269Z"
   },
   {
    "duration": 5,
    "start_time": "2021-11-03T15:01:30.329Z"
   },
   {
    "duration": 30,
    "start_time": "2021-11-03T15:01:30.337Z"
   },
   {
    "duration": 25,
    "start_time": "2021-11-03T15:01:30.370Z"
   },
   {
    "duration": 22,
    "start_time": "2021-11-03T15:01:30.398Z"
   },
   {
    "duration": 29,
    "start_time": "2021-11-03T15:01:30.423Z"
   },
   {
    "duration": 38,
    "start_time": "2021-11-03T15:01:30.458Z"
   },
   {
    "duration": 63,
    "start_time": "2021-11-03T15:01:30.500Z"
   },
   {
    "duration": 25,
    "start_time": "2021-11-03T15:01:30.566Z"
   },
   {
    "duration": 70,
    "start_time": "2021-11-03T15:01:30.593Z"
   },
   {
    "duration": 8,
    "start_time": "2021-11-03T15:01:30.666Z"
   },
   {
    "duration": 18,
    "start_time": "2021-11-03T15:01:30.677Z"
   },
   {
    "duration": 48,
    "start_time": "2021-11-03T15:01:30.698Z"
   },
   {
    "duration": 603,
    "start_time": "2021-11-03T15:01:30.749Z"
   },
   {
    "duration": -459,
    "start_time": "2021-11-03T15:01:31.813Z"
   },
   {
    "duration": -460,
    "start_time": "2021-11-03T15:01:31.816Z"
   },
   {
    "duration": -463,
    "start_time": "2021-11-03T15:01:31.820Z"
   },
   {
    "duration": -464,
    "start_time": "2021-11-03T15:01:31.823Z"
   },
   {
    "duration": -466,
    "start_time": "2021-11-03T15:01:31.827Z"
   },
   {
    "duration": -468,
    "start_time": "2021-11-03T15:01:31.830Z"
   },
   {
    "duration": -469,
    "start_time": "2021-11-03T15:01:31.833Z"
   },
   {
    "duration": -471,
    "start_time": "2021-11-03T15:01:31.836Z"
   },
   {
    "duration": -473,
    "start_time": "2021-11-03T15:01:31.840Z"
   },
   {
    "duration": -475,
    "start_time": "2021-11-03T15:01:31.843Z"
   },
   {
    "duration": -488,
    "start_time": "2021-11-03T15:01:31.858Z"
   },
   {
    "duration": -490,
    "start_time": "2021-11-03T15:01:31.861Z"
   },
   {
    "duration": -492,
    "start_time": "2021-11-03T15:01:31.865Z"
   },
   {
    "duration": -494,
    "start_time": "2021-11-03T15:01:31.868Z"
   },
   {
    "duration": -495,
    "start_time": "2021-11-03T15:01:31.871Z"
   },
   {
    "duration": -497,
    "start_time": "2021-11-03T15:01:31.874Z"
   },
   {
    "duration": -498,
    "start_time": "2021-11-03T15:01:31.877Z"
   },
   {
    "duration": -500,
    "start_time": "2021-11-03T15:01:31.880Z"
   },
   {
    "duration": -501,
    "start_time": "2021-11-03T15:01:31.883Z"
   },
   {
    "duration": -504,
    "start_time": "2021-11-03T15:01:31.887Z"
   },
   {
    "duration": 446,
    "start_time": "2021-11-03T15:01:57.009Z"
   },
   {
    "duration": 865,
    "start_time": "2021-11-03T15:02:45.765Z"
   },
   {
    "duration": 384,
    "start_time": "2021-11-03T15:02:54.835Z"
   },
   {
    "duration": 383,
    "start_time": "2021-11-03T15:03:36.832Z"
   },
   {
    "duration": 1544,
    "start_time": "2021-11-03T15:03:44.240Z"
   },
   {
    "duration": 192,
    "start_time": "2021-11-03T15:03:45.786Z"
   },
   {
    "duration": 42,
    "start_time": "2021-11-03T15:03:45.981Z"
   },
   {
    "duration": 6,
    "start_time": "2021-11-03T15:03:46.025Z"
   },
   {
    "duration": 13,
    "start_time": "2021-11-03T15:03:46.033Z"
   },
   {
    "duration": 8,
    "start_time": "2021-11-03T15:03:46.048Z"
   },
   {
    "duration": 61,
    "start_time": "2021-11-03T15:03:46.058Z"
   },
   {
    "duration": 3,
    "start_time": "2021-11-03T15:03:46.124Z"
   },
   {
    "duration": 21,
    "start_time": "2021-11-03T15:03:46.132Z"
   },
   {
    "duration": 4,
    "start_time": "2021-11-03T15:03:46.156Z"
   },
   {
    "duration": 65,
    "start_time": "2021-11-03T15:03:46.163Z"
   },
   {
    "duration": 18,
    "start_time": "2021-11-03T15:03:46.230Z"
   },
   {
    "duration": 13,
    "start_time": "2021-11-03T15:03:46.250Z"
   },
   {
    "duration": 46,
    "start_time": "2021-11-03T15:03:46.266Z"
   },
   {
    "duration": 13,
    "start_time": "2021-11-03T15:03:46.315Z"
   },
   {
    "duration": 10,
    "start_time": "2021-11-03T15:03:46.330Z"
   },
   {
    "duration": 65,
    "start_time": "2021-11-03T15:03:46.342Z"
   },
   {
    "duration": 5,
    "start_time": "2021-11-03T15:03:46.410Z"
   },
   {
    "duration": 13,
    "start_time": "2021-11-03T15:03:46.417Z"
   },
   {
    "duration": 13,
    "start_time": "2021-11-03T15:03:46.432Z"
   },
   {
    "duration": 7,
    "start_time": "2021-11-03T15:03:46.447Z"
   },
   {
    "duration": 45,
    "start_time": "2021-11-03T15:03:46.457Z"
   },
   {
    "duration": 10,
    "start_time": "2021-11-03T15:03:46.508Z"
   },
   {
    "duration": 7,
    "start_time": "2021-11-03T15:03:46.521Z"
   },
   {
    "duration": 12,
    "start_time": "2021-11-03T15:03:46.530Z"
   },
   {
    "duration": 86,
    "start_time": "2021-11-03T15:03:46.544Z"
   },
   {
    "duration": 7,
    "start_time": "2021-11-03T15:03:46.632Z"
   },
   {
    "duration": 8,
    "start_time": "2021-11-03T15:03:46.642Z"
   },
   {
    "duration": 71,
    "start_time": "2021-11-03T15:03:46.653Z"
   },
   {
    "duration": 50,
    "start_time": "2021-11-03T15:03:46.726Z"
   },
   {
    "duration": 63,
    "start_time": "2021-11-03T15:03:46.778Z"
   },
   {
    "duration": 57,
    "start_time": "2021-11-03T15:03:46.844Z"
   },
   {
    "duration": 53,
    "start_time": "2021-11-03T15:03:46.903Z"
   },
   {
    "duration": 84,
    "start_time": "2021-11-03T15:03:46.958Z"
   },
   {
    "duration": 4,
    "start_time": "2021-11-03T15:03:47.045Z"
   },
   {
    "duration": 54,
    "start_time": "2021-11-03T15:03:47.051Z"
   },
   {
    "duration": 22,
    "start_time": "2021-11-03T15:03:47.108Z"
   },
   {
    "duration": 298,
    "start_time": "2021-11-03T15:03:47.133Z"
   },
   {
    "duration": 343,
    "start_time": "2021-11-03T15:03:47.433Z"
   },
   {
    "duration": 56,
    "start_time": "2021-11-03T15:03:47.779Z"
   },
   {
    "duration": 73,
    "start_time": "2021-11-03T15:03:47.838Z"
   },
   {
    "duration": 88,
    "start_time": "2021-11-03T15:03:47.914Z"
   },
   {
    "duration": 416,
    "start_time": "2021-11-03T15:03:48.005Z"
   },
   {
    "duration": 55,
    "start_time": "2021-11-03T15:03:48.423Z"
   },
   {
    "duration": 19,
    "start_time": "2021-11-03T15:03:48.500Z"
   },
   {
    "duration": 13,
    "start_time": "2021-11-03T15:03:48.522Z"
   },
   {
    "duration": 20,
    "start_time": "2021-11-03T15:03:48.537Z"
   },
   {
    "duration": 326,
    "start_time": "2021-11-03T15:03:48.560Z"
   },
   {
    "duration": 315,
    "start_time": "2021-11-03T15:03:48.888Z"
   },
   {
    "duration": 285,
    "start_time": "2021-11-03T15:03:49.206Z"
   },
   {
    "duration": 3,
    "start_time": "2021-11-03T15:04:30.804Z"
   },
   {
    "duration": 1543,
    "start_time": "2021-11-03T15:06:42.594Z"
   },
   {
    "duration": 177,
    "start_time": "2021-11-03T15:06:44.140Z"
   },
   {
    "duration": 43,
    "start_time": "2021-11-03T15:06:44.321Z"
   },
   {
    "duration": 33,
    "start_time": "2021-11-03T15:06:44.368Z"
   },
   {
    "duration": 8,
    "start_time": "2021-11-03T15:06:44.404Z"
   },
   {
    "duration": 7,
    "start_time": "2021-11-03T15:06:44.415Z"
   },
   {
    "duration": 46,
    "start_time": "2021-11-03T15:06:44.424Z"
   },
   {
    "duration": 28,
    "start_time": "2021-11-03T15:06:44.473Z"
   },
   {
    "duration": 22,
    "start_time": "2021-11-03T15:06:44.504Z"
   },
   {
    "duration": 5,
    "start_time": "2021-11-03T15:06:44.528Z"
   },
   {
    "duration": 69,
    "start_time": "2021-11-03T15:06:44.535Z"
   },
   {
    "duration": 21,
    "start_time": "2021-11-03T15:06:44.606Z"
   },
   {
    "duration": 16,
    "start_time": "2021-11-03T15:06:44.630Z"
   },
   {
    "duration": 19,
    "start_time": "2021-11-03T15:06:44.649Z"
   },
   {
    "duration": 16,
    "start_time": "2021-11-03T15:06:44.699Z"
   },
   {
    "duration": 11,
    "start_time": "2021-11-03T15:06:44.718Z"
   },
   {
    "duration": 71,
    "start_time": "2021-11-03T15:06:44.732Z"
   },
   {
    "duration": 6,
    "start_time": "2021-11-03T15:06:44.807Z"
   },
   {
    "duration": 15,
    "start_time": "2021-11-03T15:06:44.816Z"
   },
   {
    "duration": 15,
    "start_time": "2021-11-03T15:06:44.834Z"
   },
   {
    "duration": 50,
    "start_time": "2021-11-03T15:06:44.851Z"
   },
   {
    "duration": 6,
    "start_time": "2021-11-03T15:06:44.903Z"
   },
   {
    "duration": 10,
    "start_time": "2021-11-03T15:06:44.915Z"
   },
   {
    "duration": 14,
    "start_time": "2021-11-03T15:06:44.928Z"
   },
   {
    "duration": 23,
    "start_time": "2021-11-03T15:06:44.944Z"
   },
   {
    "duration": 71,
    "start_time": "2021-11-03T15:06:44.970Z"
   },
   {
    "duration": 7,
    "start_time": "2021-11-03T15:06:45.044Z"
   },
   {
    "duration": 9,
    "start_time": "2021-11-03T15:06:45.054Z"
   },
   {
    "duration": 75,
    "start_time": "2021-11-03T15:06:45.066Z"
   },
   {
    "duration": 10,
    "start_time": "2021-11-03T15:06:45.144Z"
   },
   {
    "duration": 42,
    "start_time": "2021-11-03T15:06:45.158Z"
   },
   {
    "duration": 29,
    "start_time": "2021-11-03T15:06:45.203Z"
   },
   {
    "duration": 79,
    "start_time": "2021-11-03T15:06:45.235Z"
   },
   {
    "duration": 58,
    "start_time": "2021-11-03T15:06:45.316Z"
   },
   {
    "duration": 24,
    "start_time": "2021-11-03T15:06:45.376Z"
   },
   {
    "duration": 28,
    "start_time": "2021-11-03T15:06:45.403Z"
   },
   {
    "duration": 22,
    "start_time": "2021-11-03T15:06:45.433Z"
   },
   {
    "duration": 308,
    "start_time": "2021-11-03T15:06:45.457Z"
   },
   {
    "duration": 332,
    "start_time": "2021-11-03T15:06:45.768Z"
   },
   {
    "duration": 45,
    "start_time": "2021-11-03T15:06:46.102Z"
   },
   {
    "duration": 70,
    "start_time": "2021-11-03T15:06:46.150Z"
   },
   {
    "duration": 88,
    "start_time": "2021-11-03T15:06:46.222Z"
   },
   {
    "duration": 392,
    "start_time": "2021-11-03T15:06:46.312Z"
   },
   {
    "duration": 56,
    "start_time": "2021-11-03T15:06:46.706Z"
   },
   {
    "duration": 44,
    "start_time": "2021-11-03T15:06:46.764Z"
   },
   {
    "duration": 14,
    "start_time": "2021-11-03T15:06:46.811Z"
   },
   {
    "duration": 16,
    "start_time": "2021-11-03T15:06:46.827Z"
   },
   {
    "duration": 376,
    "start_time": "2021-11-03T15:06:46.845Z"
   },
   {
    "duration": 291,
    "start_time": "2021-11-03T15:06:47.224Z"
   },
   {
    "duration": 288,
    "start_time": "2021-11-03T15:06:47.517Z"
   },
   {
    "duration": 523,
    "start_time": "2021-11-03T15:16:58.221Z"
   },
   {
    "duration": 7,
    "start_time": "2021-11-03T15:41:49.099Z"
   },
   {
    "duration": 55,
    "start_time": "2021-11-03T15:41:54.795Z"
   },
   {
    "duration": 1618,
    "start_time": "2021-11-03T15:42:06.267Z"
   },
   {
    "duration": 201,
    "start_time": "2021-11-03T15:42:07.888Z"
   },
   {
    "duration": 42,
    "start_time": "2021-11-03T15:42:08.092Z"
   },
   {
    "duration": 5,
    "start_time": "2021-11-03T15:42:08.137Z"
   },
   {
    "duration": 9,
    "start_time": "2021-11-03T15:42:08.144Z"
   },
   {
    "duration": 9,
    "start_time": "2021-11-03T15:42:08.155Z"
   },
   {
    "duration": 62,
    "start_time": "2021-11-03T15:42:08.166Z"
   },
   {
    "duration": 3,
    "start_time": "2021-11-03T15:42:08.232Z"
   },
   {
    "duration": 19,
    "start_time": "2021-11-03T15:42:08.238Z"
   },
   {
    "duration": 5,
    "start_time": "2021-11-03T15:42:08.259Z"
   },
   {
    "duration": 49,
    "start_time": "2021-11-03T15:42:08.301Z"
   },
   {
    "duration": 18,
    "start_time": "2021-11-03T15:42:08.353Z"
   },
   {
    "duration": 35,
    "start_time": "2021-11-03T15:42:08.373Z"
   },
   {
    "duration": 13,
    "start_time": "2021-11-03T15:42:08.410Z"
   },
   {
    "duration": 11,
    "start_time": "2021-11-03T15:42:08.425Z"
   },
   {
    "duration": 10,
    "start_time": "2021-11-03T15:42:08.438Z"
   },
   {
    "duration": 68,
    "start_time": "2021-11-03T15:42:08.451Z"
   },
   {
    "duration": 6,
    "start_time": "2021-11-03T15:42:08.522Z"
   },
   {
    "duration": 14,
    "start_time": "2021-11-03T15:42:08.531Z"
   },
   {
    "duration": 60,
    "start_time": "2021-11-03T15:42:08.548Z"
   },
   {
    "duration": 8,
    "start_time": "2021-11-03T15:42:08.611Z"
   },
   {
    "duration": 9,
    "start_time": "2021-11-03T15:42:08.622Z"
   },
   {
    "duration": 9,
    "start_time": "2021-11-03T15:42:08.637Z"
   },
   {
    "duration": 7,
    "start_time": "2021-11-03T15:42:08.649Z"
   },
   {
    "duration": 53,
    "start_time": "2021-11-03T15:42:08.658Z"
   },
   {
    "duration": 44,
    "start_time": "2021-11-03T15:42:08.714Z"
   },
   {
    "duration": 44,
    "start_time": "2021-11-03T15:42:08.761Z"
   },
   {
    "duration": 7,
    "start_time": "2021-11-03T15:42:08.808Z"
   },
   {
    "duration": 43,
    "start_time": "2021-11-03T15:42:08.818Z"
   },
   {
    "duration": 82,
    "start_time": "2021-11-03T15:42:08.864Z"
   },
   {
    "duration": 5,
    "start_time": "2021-11-03T15:42:08.949Z"
   },
   {
    "duration": 59,
    "start_time": "2021-11-03T15:42:08.956Z"
   },
   {
    "duration": 52,
    "start_time": "2021-11-03T15:42:09.018Z"
   },
   {
    "duration": 82,
    "start_time": "2021-11-03T15:42:09.072Z"
   },
   {
    "duration": 3,
    "start_time": "2021-11-03T15:42:09.156Z"
   },
   {
    "duration": 50,
    "start_time": "2021-11-03T15:42:09.161Z"
   },
   {
    "duration": 23,
    "start_time": "2021-11-03T15:42:09.214Z"
   },
   {
    "duration": 296,
    "start_time": "2021-11-03T15:42:09.240Z"
   },
   {
    "duration": 298,
    "start_time": "2021-11-03T15:42:09.539Z"
   },
   {
    "duration": 40,
    "start_time": "2021-11-03T15:42:09.839Z"
   },
   {
    "duration": 61,
    "start_time": "2021-11-03T15:42:09.881Z"
   },
   {
    "duration": 100,
    "start_time": "2021-11-03T15:42:09.945Z"
   },
   {
    "duration": 475,
    "start_time": "2021-11-03T15:42:10.048Z"
   },
   {
    "duration": 110,
    "start_time": "2021-11-03T15:42:10.525Z"
   },
   {
    "duration": 79,
    "start_time": "2021-11-03T15:42:10.638Z"
   },
   {
    "duration": 19,
    "start_time": "2021-11-03T15:42:10.720Z"
   },
   {
    "duration": 67,
    "start_time": "2021-11-03T15:42:10.741Z"
   },
   {
    "duration": 465,
    "start_time": "2021-11-03T15:42:10.811Z"
   },
   {
    "duration": 302,
    "start_time": "2021-11-03T15:42:11.278Z"
   },
   {
    "duration": 294,
    "start_time": "2021-11-03T15:42:11.582Z"
   },
   {
    "duration": 10,
    "start_time": "2021-11-03T15:43:23.825Z"
   },
   {
    "duration": 57,
    "start_time": "2021-11-03T15:43:30.994Z"
   },
   {
    "duration": 1615,
    "start_time": "2021-11-03T15:43:57.366Z"
   },
   {
    "duration": 176,
    "start_time": "2021-11-03T15:43:58.984Z"
   },
   {
    "duration": 41,
    "start_time": "2021-11-03T15:43:59.164Z"
   },
   {
    "duration": 6,
    "start_time": "2021-11-03T15:43:59.208Z"
   },
   {
    "duration": 9,
    "start_time": "2021-11-03T15:43:59.216Z"
   },
   {
    "duration": 6,
    "start_time": "2021-11-03T15:43:59.228Z"
   },
   {
    "duration": 68,
    "start_time": "2021-11-03T15:43:59.237Z"
   },
   {
    "duration": 3,
    "start_time": "2021-11-03T15:43:59.309Z"
   },
   {
    "duration": 18,
    "start_time": "2021-11-03T15:43:59.315Z"
   },
   {
    "duration": 5,
    "start_time": "2021-11-03T15:43:59.335Z"
   },
   {
    "duration": 72,
    "start_time": "2021-11-03T15:43:59.343Z"
   },
   {
    "duration": 19,
    "start_time": "2021-11-03T15:43:59.418Z"
   },
   {
    "duration": 14,
    "start_time": "2021-11-03T15:43:59.439Z"
   },
   {
    "duration": 48,
    "start_time": "2021-11-03T15:43:59.455Z"
   },
   {
    "duration": 11,
    "start_time": "2021-11-03T15:43:59.506Z"
   },
   {
    "duration": 10,
    "start_time": "2021-11-03T15:43:59.520Z"
   },
   {
    "duration": 28,
    "start_time": "2021-11-03T15:43:59.532Z"
   },
   {
    "duration": 7,
    "start_time": "2021-11-03T15:43:59.599Z"
   },
   {
    "duration": 9,
    "start_time": "2021-11-03T15:43:59.608Z"
   },
   {
    "duration": 14,
    "start_time": "2021-11-03T15:43:59.620Z"
   },
   {
    "duration": 7,
    "start_time": "2021-11-03T15:43:59.636Z"
   },
   {
    "duration": 9,
    "start_time": "2021-11-03T15:43:59.645Z"
   },
   {
    "duration": 11,
    "start_time": "2021-11-03T15:43:59.700Z"
   },
   {
    "duration": 10,
    "start_time": "2021-11-03T15:43:59.714Z"
   },
   {
    "duration": 12,
    "start_time": "2021-11-03T15:43:59.726Z"
   },
   {
    "duration": 82,
    "start_time": "2021-11-03T15:43:59.740Z"
   },
   {
    "duration": 7,
    "start_time": "2021-11-03T15:43:59.825Z"
   },
   {
    "duration": 15,
    "start_time": "2021-11-03T15:43:59.834Z"
   },
   {
    "duration": 60,
    "start_time": "2021-11-03T15:43:59.852Z"
   },
   {
    "duration": 48,
    "start_time": "2021-11-03T15:43:59.915Z"
   },
   {
    "duration": 34,
    "start_time": "2021-11-03T15:43:59.966Z"
   },
   {
    "duration": 29,
    "start_time": "2021-11-03T15:44:00.002Z"
   },
   {
    "duration": 78,
    "start_time": "2021-11-03T15:44:00.033Z"
   },
   {
    "duration": 59,
    "start_time": "2021-11-03T15:44:00.113Z"
   },
   {
    "duration": 3,
    "start_time": "2021-11-03T15:44:00.175Z"
   },
   {
    "duration": 28,
    "start_time": "2021-11-03T15:44:00.202Z"
   },
   {
    "duration": 30,
    "start_time": "2021-11-03T15:44:00.232Z"
   },
   {
    "duration": 305,
    "start_time": "2021-11-03T15:44:00.264Z"
   },
   {
    "duration": 331,
    "start_time": "2021-11-03T15:44:00.572Z"
   },
   {
    "duration": 45,
    "start_time": "2021-11-03T15:44:00.906Z"
   },
   {
    "duration": 73,
    "start_time": "2021-11-03T15:44:00.953Z"
   },
   {
    "duration": 95,
    "start_time": "2021-11-03T15:44:01.028Z"
   },
   {
    "duration": 380,
    "start_time": "2021-11-03T15:44:01.125Z"
   },
   {
    "duration": 59,
    "start_time": "2021-11-03T15:44:01.508Z"
   },
   {
    "duration": 44,
    "start_time": "2021-11-03T15:44:01.570Z"
   },
   {
    "duration": 45,
    "start_time": "2021-11-03T15:44:01.617Z"
   },
   {
    "duration": 19,
    "start_time": "2021-11-03T15:44:01.664Z"
   },
   {
    "duration": 431,
    "start_time": "2021-11-03T15:44:01.686Z"
   },
   {
    "duration": 563,
    "start_time": "2021-11-03T15:44:02.120Z"
   },
   {
    "duration": 306,
    "start_time": "2021-11-03T15:44:02.685Z"
   },
   {
    "duration": 16,
    "start_time": "2021-11-03T15:50:32.438Z"
   },
   {
    "duration": 2988,
    "start_time": "2021-11-03T15:54:05.893Z"
   },
   {
    "duration": 442,
    "start_time": "2021-11-03T15:54:08.885Z"
   },
   {
    "duration": 42,
    "start_time": "2021-11-03T15:54:09.331Z"
   },
   {
    "duration": 24,
    "start_time": "2021-11-03T15:54:09.377Z"
   },
   {
    "duration": 19,
    "start_time": "2021-11-03T15:54:09.404Z"
   },
   {
    "duration": 9,
    "start_time": "2021-11-03T15:54:09.426Z"
   },
   {
    "duration": 66,
    "start_time": "2021-11-03T15:54:09.438Z"
   },
   {
    "duration": 4,
    "start_time": "2021-11-03T15:54:09.510Z"
   },
   {
    "duration": 19,
    "start_time": "2021-11-03T15:54:09.518Z"
   },
   {
    "duration": 7,
    "start_time": "2021-11-03T15:54:09.540Z"
   },
   {
    "duration": 87,
    "start_time": "2021-11-03T15:54:09.550Z"
   },
   {
    "duration": 21,
    "start_time": "2021-11-03T15:54:09.640Z"
   },
   {
    "duration": 37,
    "start_time": "2021-11-03T15:54:09.663Z"
   },
   {
    "duration": 14,
    "start_time": "2021-11-03T15:54:09.703Z"
   },
   {
    "duration": 11,
    "start_time": "2021-11-03T15:54:09.721Z"
   },
   {
    "duration": 14,
    "start_time": "2021-11-03T15:54:09.735Z"
   },
   {
    "duration": 74,
    "start_time": "2021-11-03T15:54:09.752Z"
   },
   {
    "duration": 6,
    "start_time": "2021-11-03T15:54:09.830Z"
   },
   {
    "duration": 12,
    "start_time": "2021-11-03T15:54:09.839Z"
   },
   {
    "duration": 54,
    "start_time": "2021-11-03T15:54:09.854Z"
   },
   {
    "duration": 8,
    "start_time": "2021-11-03T15:54:09.911Z"
   },
   {
    "duration": 15,
    "start_time": "2021-11-03T15:54:09.922Z"
   },
   {
    "duration": 14,
    "start_time": "2021-11-03T15:54:09.946Z"
   },
   {
    "duration": 37,
    "start_time": "2021-11-03T15:54:09.963Z"
   },
   {
    "duration": 16,
    "start_time": "2021-11-03T15:54:10.003Z"
   },
   {
    "duration": 49,
    "start_time": "2021-11-03T15:54:10.021Z"
   },
   {
    "duration": 9,
    "start_time": "2021-11-03T15:54:10.101Z"
   },
   {
    "duration": 8,
    "start_time": "2021-11-03T15:54:10.112Z"
   },
   {
    "duration": 56,
    "start_time": "2021-11-03T15:54:10.122Z"
   },
   {
    "duration": 48,
    "start_time": "2021-11-03T15:54:10.201Z"
   },
   {
    "duration": 6,
    "start_time": "2021-11-03T15:54:10.252Z"
   },
   {
    "duration": 64,
    "start_time": "2021-11-03T15:54:10.260Z"
   },
   {
    "duration": 96,
    "start_time": "2021-11-03T15:54:10.328Z"
   },
   {
    "duration": 56,
    "start_time": "2021-11-03T15:54:10.427Z"
   },
   {
    "duration": 4,
    "start_time": "2021-11-03T15:54:10.501Z"
   },
   {
    "duration": 37,
    "start_time": "2021-11-03T15:54:10.508Z"
   },
   {
    "duration": 23,
    "start_time": "2021-11-03T15:54:10.548Z"
   },
   {
    "duration": 288,
    "start_time": "2021-11-03T15:54:10.602Z"
   },
   {
    "duration": 16,
    "start_time": "2021-11-03T15:54:10.900Z"
   },
   {
    "duration": 315,
    "start_time": "2021-11-03T15:54:10.919Z"
   },
   {
    "duration": 45,
    "start_time": "2021-11-03T15:54:11.237Z"
   },
   {
    "duration": 44,
    "start_time": "2021-11-03T15:54:11.301Z"
   },
   {
    "duration": 130,
    "start_time": "2021-11-03T15:54:11.348Z"
   },
   {
    "duration": 403,
    "start_time": "2021-11-03T15:54:11.481Z"
   },
   {
    "duration": 62,
    "start_time": "2021-11-03T15:54:11.887Z"
   },
   {
    "duration": 18,
    "start_time": "2021-11-03T15:54:11.952Z"
   },
   {
    "duration": 46,
    "start_time": "2021-11-03T15:54:11.972Z"
   },
   {
    "duration": 15,
    "start_time": "2021-11-03T15:54:12.021Z"
   },
   {
    "duration": 307,
    "start_time": "2021-11-03T15:54:12.039Z"
   },
   {
    "duration": 496,
    "start_time": "2021-11-03T15:54:12.349Z"
   },
   {
    "duration": 738,
    "start_time": "2021-11-03T15:54:12.900Z"
   },
   {
    "duration": 55,
    "start_time": "2021-11-03T15:54:57.771Z"
   },
   {
    "duration": 22,
    "start_time": "2021-11-03T15:55:59.897Z"
   },
   {
    "duration": 1659,
    "start_time": "2021-11-03T15:56:11.852Z"
   },
   {
    "duration": 242,
    "start_time": "2021-11-03T15:56:13.515Z"
   },
   {
    "duration": 42,
    "start_time": "2021-11-03T15:56:13.760Z"
   },
   {
    "duration": 36,
    "start_time": "2021-11-03T15:56:13.806Z"
   },
   {
    "duration": 8,
    "start_time": "2021-11-03T15:56:13.845Z"
   },
   {
    "duration": 10,
    "start_time": "2021-11-03T15:56:13.856Z"
   },
   {
    "duration": 49,
    "start_time": "2021-11-03T15:56:13.869Z"
   },
   {
    "duration": 3,
    "start_time": "2021-11-03T15:56:13.922Z"
   },
   {
    "duration": 18,
    "start_time": "2021-11-03T15:56:13.929Z"
   },
   {
    "duration": 5,
    "start_time": "2021-11-03T15:56:13.950Z"
   },
   {
    "duration": 77,
    "start_time": "2021-11-03T15:56:13.957Z"
   },
   {
    "duration": 20,
    "start_time": "2021-11-03T15:56:14.036Z"
   },
   {
    "duration": 14,
    "start_time": "2021-11-03T15:56:14.058Z"
   },
   {
    "duration": 37,
    "start_time": "2021-11-03T15:56:14.075Z"
   },
   {
    "duration": 15,
    "start_time": "2021-11-03T15:56:14.115Z"
   },
   {
    "duration": 13,
    "start_time": "2021-11-03T15:56:14.133Z"
   },
   {
    "duration": 78,
    "start_time": "2021-11-03T15:56:14.148Z"
   },
   {
    "duration": 5,
    "start_time": "2021-11-03T15:56:14.229Z"
   },
   {
    "duration": 16,
    "start_time": "2021-11-03T15:56:14.237Z"
   },
   {
    "duration": 17,
    "start_time": "2021-11-03T15:56:14.256Z"
   },
   {
    "duration": 29,
    "start_time": "2021-11-03T15:56:14.275Z"
   },
   {
    "duration": 21,
    "start_time": "2021-11-03T15:56:14.306Z"
   },
   {
    "duration": 25,
    "start_time": "2021-11-03T15:56:14.331Z"
   },
   {
    "duration": 13,
    "start_time": "2021-11-03T15:56:14.358Z"
   },
   {
    "duration": 27,
    "start_time": "2021-11-03T15:56:14.373Z"
   },
   {
    "duration": 48,
    "start_time": "2021-11-03T15:56:14.403Z"
   },
   {
    "duration": 7,
    "start_time": "2021-11-03T15:56:14.458Z"
   },
   {
    "duration": 54,
    "start_time": "2021-11-03T15:56:14.468Z"
   },
   {
    "duration": 48,
    "start_time": "2021-11-03T15:56:14.525Z"
   },
   {
    "duration": 81,
    "start_time": "2021-11-03T15:56:14.576Z"
   },
   {
    "duration": 17,
    "start_time": "2021-11-03T15:56:14.660Z"
   },
   {
    "duration": 40,
    "start_time": "2021-11-03T15:56:14.679Z"
   },
   {
    "duration": 54,
    "start_time": "2021-11-03T15:56:14.722Z"
   },
   {
    "duration": 99,
    "start_time": "2021-11-03T15:56:14.779Z"
   },
   {
    "duration": 3,
    "start_time": "2021-11-03T15:56:14.901Z"
   },
   {
    "duration": 43,
    "start_time": "2021-11-03T15:56:14.908Z"
   },
   {
    "duration": 48,
    "start_time": "2021-11-03T15:56:14.954Z"
   },
   {
    "duration": 285,
    "start_time": "2021-11-03T15:56:15.006Z"
   },
   {
    "duration": 20,
    "start_time": "2021-11-03T15:56:15.294Z"
   },
   {
    "duration": 327,
    "start_time": "2021-11-03T15:56:15.317Z"
   },
   {
    "duration": 64,
    "start_time": "2021-11-03T15:56:15.647Z"
   },
   {
    "duration": 44,
    "start_time": "2021-11-03T15:56:15.714Z"
   },
   {
    "duration": 92,
    "start_time": "2021-11-03T15:56:15.761Z"
   },
   {
    "duration": 399,
    "start_time": "2021-11-03T15:56:15.856Z"
   },
   {
    "duration": 74,
    "start_time": "2021-11-03T15:56:16.257Z"
   },
   {
    "duration": 18,
    "start_time": "2021-11-03T15:56:16.333Z"
   },
   {
    "duration": 15,
    "start_time": "2021-11-03T15:56:16.354Z"
   },
   {
    "duration": 41,
    "start_time": "2021-11-03T15:56:16.371Z"
   },
   {
    "duration": 314,
    "start_time": "2021-11-03T15:56:16.415Z"
   },
   {
    "duration": 309,
    "start_time": "2021-11-03T15:56:16.732Z"
   },
   {
    "duration": 292,
    "start_time": "2021-11-03T15:56:17.044Z"
   },
   {
    "duration": 54,
    "start_time": "2021-11-03T16:02:00.969Z"
   },
   {
    "duration": 72,
    "start_time": "2021-11-03T16:03:55.076Z"
   },
   {
    "duration": 44,
    "start_time": "2021-11-03T16:04:05.035Z"
   },
   {
    "duration": 1628,
    "start_time": "2021-11-03T16:04:45.143Z"
   },
   {
    "duration": 253,
    "start_time": "2021-11-03T16:04:46.775Z"
   },
   {
    "duration": 75,
    "start_time": "2021-11-03T16:04:47.035Z"
   },
   {
    "duration": 10,
    "start_time": "2021-11-03T16:04:47.113Z"
   },
   {
    "duration": 15,
    "start_time": "2021-11-03T16:04:47.127Z"
   },
   {
    "duration": 15,
    "start_time": "2021-11-03T16:04:47.146Z"
   },
   {
    "duration": 40,
    "start_time": "2021-11-03T16:04:47.165Z"
   },
   {
    "duration": 5,
    "start_time": "2021-11-03T16:04:47.211Z"
   },
   {
    "duration": 27,
    "start_time": "2021-11-03T16:04:47.224Z"
   },
   {
    "duration": 5,
    "start_time": "2021-11-03T16:04:47.254Z"
   },
   {
    "duration": 54,
    "start_time": "2021-11-03T16:04:47.261Z"
   },
   {
    "duration": 31,
    "start_time": "2021-11-03T16:04:47.319Z"
   },
   {
    "duration": 14,
    "start_time": "2021-11-03T16:04:47.352Z"
   },
   {
    "duration": 21,
    "start_time": "2021-11-03T16:04:47.369Z"
   },
   {
    "duration": 22,
    "start_time": "2021-11-03T16:04:47.393Z"
   },
   {
    "duration": 23,
    "start_time": "2021-11-03T16:04:47.418Z"
   },
   {
    "duration": 34,
    "start_time": "2021-11-03T16:04:47.444Z"
   },
   {
    "duration": 6,
    "start_time": "2021-11-03T16:04:47.481Z"
   },
   {
    "duration": 28,
    "start_time": "2021-11-03T16:04:47.489Z"
   },
   {
    "duration": 20,
    "start_time": "2021-11-03T16:04:47.521Z"
   },
   {
    "duration": 6,
    "start_time": "2021-11-03T16:04:47.544Z"
   },
   {
    "duration": 9,
    "start_time": "2021-11-03T16:04:47.552Z"
   },
   {
    "duration": 12,
    "start_time": "2021-11-03T16:04:47.563Z"
   },
   {
    "duration": 9,
    "start_time": "2021-11-03T16:04:47.578Z"
   },
   {
    "duration": 18,
    "start_time": "2021-11-03T16:04:47.589Z"
   },
   {
    "duration": 47,
    "start_time": "2021-11-03T16:04:47.613Z"
   },
   {
    "duration": 7,
    "start_time": "2021-11-03T16:04:47.665Z"
   },
   {
    "duration": 7,
    "start_time": "2021-11-03T16:04:47.675Z"
   },
   {
    "duration": 54,
    "start_time": "2021-11-03T16:04:47.685Z"
   },
   {
    "duration": 50,
    "start_time": "2021-11-03T16:04:47.742Z"
   },
   {
    "duration": 70,
    "start_time": "2021-11-03T16:04:47.803Z"
   },
   {
    "duration": 3,
    "start_time": "2021-11-03T16:04:47.876Z"
   },
   {
    "duration": 69,
    "start_time": "2021-11-03T16:04:47.881Z"
   },
   {
    "duration": 85,
    "start_time": "2021-11-03T16:04:47.954Z"
   },
   {
    "duration": 57,
    "start_time": "2021-11-03T16:04:48.042Z"
   },
   {
    "duration": 4,
    "start_time": "2021-11-03T16:04:48.105Z"
   },
   {
    "duration": 37,
    "start_time": "2021-11-03T16:04:48.112Z"
   },
   {
    "duration": 25,
    "start_time": "2021-11-03T16:04:48.152Z"
   },
   {
    "duration": 300,
    "start_time": "2021-11-03T16:04:48.179Z"
   },
   {
    "duration": 44,
    "start_time": "2021-11-03T16:04:48.482Z"
   },
   {
    "duration": 640,
    "start_time": "2021-11-03T16:04:48.529Z"
   },
   {
    "duration": 58,
    "start_time": "2021-11-03T16:04:49.171Z"
   },
   {
    "duration": 93,
    "start_time": "2021-11-03T16:04:49.232Z"
   },
   {
    "duration": 110,
    "start_time": "2021-11-03T16:04:49.328Z"
   },
   {
    "duration": 928,
    "start_time": "2021-11-03T16:04:49.441Z"
   },
   {
    "duration": 77,
    "start_time": "2021-11-03T16:04:50.373Z"
   },
   {
    "duration": 599,
    "start_time": "2021-11-03T16:04:50.452Z"
   },
   {
    "duration": -277,
    "start_time": "2021-11-03T16:04:51.331Z"
   },
   {
    "duration": -352,
    "start_time": "2021-11-03T16:04:51.408Z"
   },
   {
    "duration": -363,
    "start_time": "2021-11-03T16:04:51.420Z"
   },
   {
    "duration": -367,
    "start_time": "2021-11-03T16:04:51.426Z"
   },
   {
    "duration": -371,
    "start_time": "2021-11-03T16:04:51.432Z"
   },
   {
    "duration": 62,
    "start_time": "2021-11-03T16:05:45.405Z"
   },
   {
    "duration": 45,
    "start_time": "2021-11-03T16:05:52.320Z"
   },
   {
    "duration": 50,
    "start_time": "2021-11-03T16:12:22.077Z"
   },
   {
    "duration": 1726,
    "start_time": "2021-11-03T16:12:33.853Z"
   },
   {
    "duration": 179,
    "start_time": "2021-11-03T16:12:35.582Z"
   },
   {
    "duration": 42,
    "start_time": "2021-11-03T16:12:35.765Z"
   },
   {
    "duration": 5,
    "start_time": "2021-11-03T16:12:35.810Z"
   },
   {
    "duration": 25,
    "start_time": "2021-11-03T16:12:35.817Z"
   },
   {
    "duration": 15,
    "start_time": "2021-11-03T16:12:35.844Z"
   },
   {
    "duration": 62,
    "start_time": "2021-11-03T16:12:35.861Z"
   },
   {
    "duration": 3,
    "start_time": "2021-11-03T16:12:35.926Z"
   },
   {
    "duration": 20,
    "start_time": "2021-11-03T16:12:35.932Z"
   },
   {
    "duration": 4,
    "start_time": "2021-11-03T16:12:35.955Z"
   },
   {
    "duration": 69,
    "start_time": "2021-11-03T16:12:35.961Z"
   },
   {
    "duration": 17,
    "start_time": "2021-11-03T16:12:36.032Z"
   },
   {
    "duration": 14,
    "start_time": "2021-11-03T16:12:36.051Z"
   },
   {
    "duration": 46,
    "start_time": "2021-11-03T16:12:36.067Z"
   },
   {
    "duration": 14,
    "start_time": "2021-11-03T16:12:36.116Z"
   },
   {
    "duration": 11,
    "start_time": "2021-11-03T16:12:36.133Z"
   },
   {
    "duration": 74,
    "start_time": "2021-11-03T16:12:36.147Z"
   },
   {
    "duration": 6,
    "start_time": "2021-11-03T16:12:36.224Z"
   },
   {
    "duration": 16,
    "start_time": "2021-11-03T16:12:36.233Z"
   },
   {
    "duration": 54,
    "start_time": "2021-11-03T16:12:36.252Z"
   },
   {
    "duration": 5,
    "start_time": "2021-11-03T16:12:36.309Z"
   },
   {
    "duration": 26,
    "start_time": "2021-11-03T16:12:36.317Z"
   },
   {
    "duration": 10,
    "start_time": "2021-11-03T16:12:36.349Z"
   },
   {
    "duration": 16,
    "start_time": "2021-11-03T16:12:36.363Z"
   },
   {
    "duration": 29,
    "start_time": "2021-11-03T16:12:36.383Z"
   },
   {
    "duration": 42,
    "start_time": "2021-11-03T16:12:36.415Z"
   },
   {
    "duration": 9,
    "start_time": "2021-11-03T16:12:36.459Z"
   },
   {
    "duration": 6,
    "start_time": "2021-11-03T16:12:36.501Z"
   },
   {
    "duration": 40,
    "start_time": "2021-11-03T16:12:36.510Z"
   },
   {
    "duration": 74,
    "start_time": "2021-11-03T16:12:36.554Z"
   },
   {
    "duration": 49,
    "start_time": "2021-11-03T16:12:36.630Z"
   },
   {
    "duration": 3,
    "start_time": "2021-11-03T16:12:36.700Z"
   },
   {
    "duration": 34,
    "start_time": "2021-11-03T16:12:36.705Z"
   },
   {
    "duration": 118,
    "start_time": "2021-11-03T16:12:36.742Z"
   },
   {
    "duration": 62,
    "start_time": "2021-11-03T16:12:36.862Z"
   },
   {
    "duration": 3,
    "start_time": "2021-11-03T16:12:36.926Z"
   },
   {
    "duration": 30,
    "start_time": "2021-11-03T16:12:36.932Z"
   },
   {
    "duration": 46,
    "start_time": "2021-11-03T16:12:36.964Z"
   },
   {
    "duration": 283,
    "start_time": "2021-11-03T16:12:37.013Z"
   },
   {
    "duration": 20,
    "start_time": "2021-11-03T16:12:37.301Z"
   },
   {
    "duration": 312,
    "start_time": "2021-11-03T16:12:37.324Z"
   },
   {
    "duration": 41,
    "start_time": "2021-11-03T16:12:37.638Z"
   },
   {
    "duration": 46,
    "start_time": "2021-11-03T16:12:37.701Z"
   },
   {
    "duration": 96,
    "start_time": "2021-11-03T16:12:37.750Z"
   },
   {
    "duration": 490,
    "start_time": "2021-11-03T16:12:37.848Z"
   },
   {
    "duration": 68,
    "start_time": "2021-11-03T16:12:38.340Z"
   },
   {
    "duration": 538,
    "start_time": "2021-11-03T16:12:38.410Z"
   },
   {
    "duration": -188,
    "start_time": "2021-11-03T16:12:39.139Z"
   },
   {
    "duration": -193,
    "start_time": "2021-11-03T16:12:39.145Z"
   },
   {
    "duration": -199,
    "start_time": "2021-11-03T16:12:39.152Z"
   },
   {
    "duration": -201,
    "start_time": "2021-11-03T16:12:39.155Z"
   },
   {
    "duration": -203,
    "start_time": "2021-11-03T16:12:39.159Z"
   },
   {
    "duration": 8,
    "start_time": "2021-11-03T16:14:00.507Z"
   },
   {
    "duration": 15,
    "start_time": "2021-11-03T16:14:19.731Z"
   },
   {
    "duration": 263,
    "start_time": "2021-11-03T16:14:24.952Z"
   },
   {
    "duration": 423,
    "start_time": "2021-11-03T18:11:22.121Z"
   },
   {
    "duration": 363,
    "start_time": "2021-11-03T18:11:26.698Z"
   },
   {
    "duration": 405,
    "start_time": "2021-11-03T18:11:30.815Z"
   },
   {
    "duration": 1591,
    "start_time": "2021-11-03T18:11:41.082Z"
   },
   {
    "duration": 221,
    "start_time": "2021-11-03T18:11:42.676Z"
   },
   {
    "duration": 48,
    "start_time": "2021-11-03T18:11:42.900Z"
   },
   {
    "duration": 5,
    "start_time": "2021-11-03T18:11:42.951Z"
   },
   {
    "duration": 8,
    "start_time": "2021-11-03T18:11:42.959Z"
   },
   {
    "duration": 47,
    "start_time": "2021-11-03T18:11:42.969Z"
   },
   {
    "duration": 37,
    "start_time": "2021-11-03T18:11:43.019Z"
   },
   {
    "duration": 4,
    "start_time": "2021-11-03T18:11:43.058Z"
   },
   {
    "duration": 17,
    "start_time": "2021-11-03T18:11:43.065Z"
   },
   {
    "duration": 13,
    "start_time": "2021-11-03T18:11:43.102Z"
   },
   {
    "duration": 38,
    "start_time": "2021-11-03T18:11:43.119Z"
   },
   {
    "duration": 44,
    "start_time": "2021-11-03T18:11:43.159Z"
   },
   {
    "duration": 19,
    "start_time": "2021-11-03T18:11:43.205Z"
   },
   {
    "duration": 12,
    "start_time": "2021-11-03T18:11:43.227Z"
   },
   {
    "duration": 10,
    "start_time": "2021-11-03T18:11:43.242Z"
   },
   {
    "duration": 55,
    "start_time": "2021-11-03T18:11:43.255Z"
   },
   {
    "duration": 31,
    "start_time": "2021-11-03T18:11:43.313Z"
   },
   {
    "duration": 7,
    "start_time": "2021-11-03T18:11:43.347Z"
   },
   {
    "duration": 15,
    "start_time": "2021-11-03T18:11:43.356Z"
   },
   {
    "duration": 17,
    "start_time": "2021-11-03T18:11:43.406Z"
   },
   {
    "duration": 6,
    "start_time": "2021-11-03T18:11:43.425Z"
   },
   {
    "duration": 6,
    "start_time": "2021-11-03T18:11:43.434Z"
   },
   {
    "duration": 10,
    "start_time": "2021-11-03T18:11:43.442Z"
   },
   {
    "duration": 52,
    "start_time": "2021-11-03T18:11:43.454Z"
   },
   {
    "duration": 11,
    "start_time": "2021-11-03T18:11:43.518Z"
   },
   {
    "duration": 41,
    "start_time": "2021-11-03T18:11:43.531Z"
   },
   {
    "duration": 31,
    "start_time": "2021-11-03T18:11:43.578Z"
   },
   {
    "duration": 8,
    "start_time": "2021-11-03T18:11:43.613Z"
   },
   {
    "duration": 42,
    "start_time": "2021-11-03T18:11:43.623Z"
   },
   {
    "duration": 72,
    "start_time": "2021-11-03T18:11:43.667Z"
   },
   {
    "duration": 66,
    "start_time": "2021-11-03T18:11:43.741Z"
   },
   {
    "duration": 4,
    "start_time": "2021-11-03T18:11:43.813Z"
   },
   {
    "duration": 31,
    "start_time": "2021-11-03T18:11:43.821Z"
   },
   {
    "duration": 90,
    "start_time": "2021-11-03T18:11:43.855Z"
   },
   {
    "duration": 522,
    "start_time": "2021-11-03T18:11:43.947Z"
   },
   {
    "duration": -120,
    "start_time": "2021-11-03T18:11:44.592Z"
   },
   {
    "duration": -124,
    "start_time": "2021-11-03T18:11:44.597Z"
   },
   {
    "duration": -145,
    "start_time": "2021-11-03T18:11:44.619Z"
   },
   {
    "duration": -150,
    "start_time": "2021-11-03T18:11:44.627Z"
   },
   {
    "duration": -154,
    "start_time": "2021-11-03T18:11:44.632Z"
   },
   {
    "duration": -158,
    "start_time": "2021-11-03T18:11:44.638Z"
   },
   {
    "duration": -169,
    "start_time": "2021-11-03T18:11:44.651Z"
   },
   {
    "duration": -172,
    "start_time": "2021-11-03T18:11:44.655Z"
   },
   {
    "duration": -176,
    "start_time": "2021-11-03T18:11:44.660Z"
   },
   {
    "duration": -178,
    "start_time": "2021-11-03T18:11:44.664Z"
   },
   {
    "duration": -181,
    "start_time": "2021-11-03T18:11:44.668Z"
   },
   {
    "duration": -183,
    "start_time": "2021-11-03T18:11:44.671Z"
   },
   {
    "duration": -185,
    "start_time": "2021-11-03T18:11:44.675Z"
   },
   {
    "duration": -187,
    "start_time": "2021-11-03T18:11:44.678Z"
   },
   {
    "duration": -189,
    "start_time": "2021-11-03T18:11:44.681Z"
   },
   {
    "duration": -192,
    "start_time": "2021-11-03T18:11:44.685Z"
   },
   {
    "duration": -193,
    "start_time": "2021-11-03T18:11:44.688Z"
   },
   {
    "duration": 57,
    "start_time": "2021-11-03T18:13:26.185Z"
   },
   {
    "duration": 53,
    "start_time": "2021-11-03T18:15:12.938Z"
   },
   {
    "duration": 1468,
    "start_time": "2021-11-03T18:15:20.317Z"
   },
   {
    "duration": 184,
    "start_time": "2021-11-03T18:15:21.788Z"
   },
   {
    "duration": 43,
    "start_time": "2021-11-03T18:15:21.975Z"
   },
   {
    "duration": 6,
    "start_time": "2021-11-03T18:15:22.020Z"
   },
   {
    "duration": 10,
    "start_time": "2021-11-03T18:15:22.028Z"
   },
   {
    "duration": 9,
    "start_time": "2021-11-03T18:15:22.040Z"
   },
   {
    "duration": 66,
    "start_time": "2021-11-03T18:15:22.051Z"
   },
   {
    "duration": 3,
    "start_time": "2021-11-03T18:15:22.121Z"
   },
   {
    "duration": 26,
    "start_time": "2021-11-03T18:15:22.128Z"
   },
   {
    "duration": 6,
    "start_time": "2021-11-03T18:15:22.156Z"
   },
   {
    "duration": 67,
    "start_time": "2021-11-03T18:15:22.165Z"
   },
   {
    "duration": 18,
    "start_time": "2021-11-03T18:15:22.234Z"
   },
   {
    "duration": 14,
    "start_time": "2021-11-03T18:15:22.255Z"
   },
   {
    "duration": 38,
    "start_time": "2021-11-03T18:15:22.272Z"
   },
   {
    "duration": 11,
    "start_time": "2021-11-03T18:15:22.312Z"
   },
   {
    "duration": 13,
    "start_time": "2021-11-03T18:15:22.326Z"
   },
   {
    "duration": 61,
    "start_time": "2021-11-03T18:15:22.341Z"
   },
   {
    "duration": 6,
    "start_time": "2021-11-03T18:15:22.405Z"
   },
   {
    "duration": 13,
    "start_time": "2021-11-03T18:15:22.413Z"
   },
   {
    "duration": 14,
    "start_time": "2021-11-03T18:15:22.429Z"
   },
   {
    "duration": 7,
    "start_time": "2021-11-03T18:15:22.445Z"
   },
   {
    "duration": 49,
    "start_time": "2021-11-03T18:15:22.454Z"
   },
   {
    "duration": 13,
    "start_time": "2021-11-03T18:15:22.511Z"
   },
   {
    "duration": 7,
    "start_time": "2021-11-03T18:15:22.528Z"
   },
   {
    "duration": 13,
    "start_time": "2021-11-03T18:15:22.537Z"
   },
   {
    "duration": 83,
    "start_time": "2021-11-03T18:15:22.553Z"
   },
   {
    "duration": 6,
    "start_time": "2021-11-03T18:15:22.639Z"
   },
   {
    "duration": 7,
    "start_time": "2021-11-03T18:15:22.648Z"
   },
   {
    "duration": 67,
    "start_time": "2021-11-03T18:15:22.657Z"
   },
   {
    "duration": 44,
    "start_time": "2021-11-03T18:15:22.727Z"
   },
   {
    "duration": 69,
    "start_time": "2021-11-03T18:15:22.774Z"
   },
   {
    "duration": 29,
    "start_time": "2021-11-03T18:15:22.847Z"
   },
   {
    "duration": 54,
    "start_time": "2021-11-03T18:15:22.902Z"
   },
   {
    "duration": 86,
    "start_time": "2021-11-03T18:15:22.959Z"
   },
   {
    "duration": 4,
    "start_time": "2021-11-03T18:15:23.048Z"
   },
   {
    "duration": 50,
    "start_time": "2021-11-03T18:15:23.054Z"
   },
   {
    "duration": 24,
    "start_time": "2021-11-03T18:15:23.107Z"
   },
   {
    "duration": 17,
    "start_time": "2021-11-03T18:15:23.134Z"
   },
   {
    "duration": 301,
    "start_time": "2021-11-03T18:15:23.153Z"
   },
   {
    "duration": 328,
    "start_time": "2021-11-03T18:15:23.457Z"
   },
   {
    "duration": 51,
    "start_time": "2021-11-03T18:15:23.788Z"
   },
   {
    "duration": 68,
    "start_time": "2021-11-03T18:15:23.842Z"
   },
   {
    "duration": 87,
    "start_time": "2021-11-03T18:15:23.913Z"
   },
   {
    "duration": 413,
    "start_time": "2021-11-03T18:15:24.003Z"
   },
   {
    "duration": 55,
    "start_time": "2021-11-03T18:15:24.419Z"
   },
   {
    "duration": 38,
    "start_time": "2021-11-03T18:15:24.476Z"
   },
   {
    "duration": 16,
    "start_time": "2021-11-03T18:15:24.516Z"
   },
   {
    "duration": 12,
    "start_time": "2021-11-03T18:15:24.535Z"
   },
   {
    "duration": 303,
    "start_time": "2021-11-03T18:15:24.549Z"
   },
   {
    "duration": 303,
    "start_time": "2021-11-03T18:15:24.854Z"
   },
   {
    "duration": 278,
    "start_time": "2021-11-03T18:15:25.160Z"
   },
   {
    "duration": 9,
    "start_time": "2021-11-03T18:21:34.563Z"
   },
   {
    "duration": 11,
    "start_time": "2021-11-03T18:24:04.481Z"
   },
   {
    "duration": 360,
    "start_time": "2021-11-03T18:24:42.495Z"
   },
   {
    "duration": 7,
    "start_time": "2021-11-03T18:25:13.286Z"
   },
   {
    "duration": 1607,
    "start_time": "2021-11-03T18:25:56.888Z"
   },
   {
    "duration": 181,
    "start_time": "2021-11-03T18:25:58.497Z"
   },
   {
    "duration": 42,
    "start_time": "2021-11-03T18:25:58.681Z"
   },
   {
    "duration": 5,
    "start_time": "2021-11-03T18:25:58.726Z"
   },
   {
    "duration": 9,
    "start_time": "2021-11-03T18:25:58.733Z"
   },
   {
    "duration": 8,
    "start_time": "2021-11-03T18:25:58.744Z"
   },
   {
    "duration": 69,
    "start_time": "2021-11-03T18:25:58.754Z"
   },
   {
    "duration": 3,
    "start_time": "2021-11-03T18:25:58.827Z"
   },
   {
    "duration": 18,
    "start_time": "2021-11-03T18:25:58.832Z"
   },
   {
    "duration": 5,
    "start_time": "2021-11-03T18:25:58.853Z"
   },
   {
    "duration": 70,
    "start_time": "2021-11-03T18:25:58.860Z"
   },
   {
    "duration": 18,
    "start_time": "2021-11-03T18:25:58.933Z"
   },
   {
    "duration": 15,
    "start_time": "2021-11-03T18:25:58.954Z"
   },
   {
    "duration": 33,
    "start_time": "2021-11-03T18:25:58.972Z"
   },
   {
    "duration": 11,
    "start_time": "2021-11-03T18:25:59.008Z"
   },
   {
    "duration": 10,
    "start_time": "2021-11-03T18:25:59.021Z"
   },
   {
    "duration": 70,
    "start_time": "2021-11-03T18:25:59.033Z"
   },
   {
    "duration": 6,
    "start_time": "2021-11-03T18:25:59.105Z"
   },
   {
    "duration": 11,
    "start_time": "2021-11-03T18:25:59.113Z"
   },
   {
    "duration": 15,
    "start_time": "2021-11-03T18:25:59.127Z"
   },
   {
    "duration": 7,
    "start_time": "2021-11-03T18:25:59.144Z"
   },
   {
    "duration": 49,
    "start_time": "2021-11-03T18:25:59.153Z"
   },
   {
    "duration": 12,
    "start_time": "2021-11-03T18:25:59.208Z"
   },
   {
    "duration": 7,
    "start_time": "2021-11-03T18:25:59.223Z"
   },
   {
    "duration": 14,
    "start_time": "2021-11-03T18:25:59.233Z"
   },
   {
    "duration": 86,
    "start_time": "2021-11-03T18:25:59.249Z"
   },
   {
    "duration": 7,
    "start_time": "2021-11-03T18:25:59.337Z"
   },
   {
    "duration": 7,
    "start_time": "2021-11-03T18:25:59.347Z"
   },
   {
    "duration": 71,
    "start_time": "2021-11-03T18:25:59.356Z"
   },
   {
    "duration": 39,
    "start_time": "2021-11-03T18:25:59.430Z"
   },
   {
    "duration": 70,
    "start_time": "2021-11-03T18:25:59.472Z"
   },
   {
    "duration": 33,
    "start_time": "2021-11-03T18:25:59.545Z"
   },
   {
    "duration": 57,
    "start_time": "2021-11-03T18:25:59.601Z"
   },
   {
    "duration": 75,
    "start_time": "2021-11-03T18:25:59.660Z"
   },
   {
    "duration": 2,
    "start_time": "2021-11-03T18:25:59.738Z"
   },
   {
    "duration": 26,
    "start_time": "2021-11-03T18:25:59.743Z"
   },
   {
    "duration": 30,
    "start_time": "2021-11-03T18:25:59.772Z"
   },
   {
    "duration": 12,
    "start_time": "2021-11-03T18:25:59.804Z"
   },
   {
    "duration": 7,
    "start_time": "2021-11-03T18:25:59.819Z"
   },
   {
    "duration": 324,
    "start_time": "2021-11-03T18:25:59.828Z"
   },
   {
    "duration": 341,
    "start_time": "2021-11-03T18:26:00.156Z"
   },
   {
    "duration": 42,
    "start_time": "2021-11-03T18:26:00.501Z"
   },
   {
    "duration": 71,
    "start_time": "2021-11-03T18:26:00.545Z"
   },
   {
    "duration": 103,
    "start_time": "2021-11-03T18:26:00.619Z"
   },
   {
    "duration": 399,
    "start_time": "2021-11-03T18:26:00.725Z"
   },
   {
    "duration": 75,
    "start_time": "2021-11-03T18:26:01.127Z"
   },
   {
    "duration": 19,
    "start_time": "2021-11-03T18:26:01.204Z"
   },
   {
    "duration": 25,
    "start_time": "2021-11-03T18:26:01.226Z"
   },
   {
    "duration": 13,
    "start_time": "2021-11-03T18:26:01.254Z"
   },
   {
    "duration": 310,
    "start_time": "2021-11-03T18:26:01.269Z"
   },
   {
    "duration": 315,
    "start_time": "2021-11-03T18:26:01.581Z"
   },
   {
    "duration": 288,
    "start_time": "2021-11-03T18:26:01.898Z"
   },
   {
    "duration": 1501,
    "start_time": "2021-11-03T18:26:52.095Z"
   },
   {
    "duration": 167,
    "start_time": "2021-11-03T18:26:53.601Z"
   },
   {
    "duration": 42,
    "start_time": "2021-11-03T18:26:53.771Z"
   },
   {
    "duration": 5,
    "start_time": "2021-11-03T18:26:53.816Z"
   },
   {
    "duration": 7,
    "start_time": "2021-11-03T18:26:53.824Z"
   },
   {
    "duration": 6,
    "start_time": "2021-11-03T18:26:53.834Z"
   },
   {
    "duration": 74,
    "start_time": "2021-11-03T18:26:53.843Z"
   },
   {
    "duration": 3,
    "start_time": "2021-11-03T18:26:53.921Z"
   },
   {
    "duration": 17,
    "start_time": "2021-11-03T18:26:53.927Z"
   },
   {
    "duration": 5,
    "start_time": "2021-11-03T18:26:53.947Z"
   },
   {
    "duration": 78,
    "start_time": "2021-11-03T18:26:53.955Z"
   },
   {
    "duration": 18,
    "start_time": "2021-11-03T18:26:54.035Z"
   },
   {
    "duration": 14,
    "start_time": "2021-11-03T18:26:54.056Z"
   },
   {
    "duration": 34,
    "start_time": "2021-11-03T18:26:54.072Z"
   },
   {
    "duration": 11,
    "start_time": "2021-11-03T18:26:54.109Z"
   },
   {
    "duration": 10,
    "start_time": "2021-11-03T18:26:54.123Z"
   },
   {
    "duration": 66,
    "start_time": "2021-11-03T18:26:54.135Z"
   },
   {
    "duration": 5,
    "start_time": "2021-11-03T18:26:54.204Z"
   },
   {
    "duration": 9,
    "start_time": "2021-11-03T18:26:54.211Z"
   },
   {
    "duration": 14,
    "start_time": "2021-11-03T18:26:54.223Z"
   },
   {
    "duration": 6,
    "start_time": "2021-11-03T18:26:54.239Z"
   },
   {
    "duration": 54,
    "start_time": "2021-11-03T18:26:54.248Z"
   },
   {
    "duration": 12,
    "start_time": "2021-11-03T18:26:54.309Z"
   },
   {
    "duration": 8,
    "start_time": "2021-11-03T18:26:54.324Z"
   },
   {
    "duration": 13,
    "start_time": "2021-11-03T18:26:54.335Z"
   },
   {
    "duration": 88,
    "start_time": "2021-11-03T18:26:54.350Z"
   },
   {
    "duration": 6,
    "start_time": "2021-11-03T18:26:54.440Z"
   },
   {
    "duration": 6,
    "start_time": "2021-11-03T18:26:54.448Z"
   },
   {
    "duration": 70,
    "start_time": "2021-11-03T18:26:54.456Z"
   },
   {
    "duration": 41,
    "start_time": "2021-11-03T18:26:54.528Z"
   },
   {
    "duration": 68,
    "start_time": "2021-11-03T18:26:54.573Z"
   },
   {
    "duration": 28,
    "start_time": "2021-11-03T18:26:54.643Z"
   },
   {
    "duration": 83,
    "start_time": "2021-11-03T18:26:54.673Z"
   },
   {
    "duration": 79,
    "start_time": "2021-11-03T18:26:54.758Z"
   },
   {
    "duration": 4,
    "start_time": "2021-11-03T18:26:54.840Z"
   },
   {
    "duration": 55,
    "start_time": "2021-11-03T18:26:54.847Z"
   },
   {
    "duration": 10,
    "start_time": "2021-11-03T18:26:54.905Z"
   },
   {
    "duration": 17,
    "start_time": "2021-11-03T18:26:54.918Z"
   },
   {
    "duration": 10,
    "start_time": "2021-11-03T18:26:54.937Z"
   },
   {
    "duration": 324,
    "start_time": "2021-11-03T18:26:54.950Z"
   },
   {
    "duration": 302,
    "start_time": "2021-11-03T18:26:55.277Z"
   },
   {
    "duration": 54,
    "start_time": "2021-11-03T18:26:55.581Z"
   },
   {
    "duration": 69,
    "start_time": "2021-11-03T18:26:55.637Z"
   },
   {
    "duration": 69,
    "start_time": "2021-11-03T18:26:55.709Z"
   },
   {
    "duration": 631,
    "start_time": "2021-11-03T18:26:55.780Z"
   },
   {
    "duration": 111,
    "start_time": "2021-11-03T18:26:56.413Z"
   },
   {
    "duration": 17,
    "start_time": "2021-11-03T18:26:56.526Z"
   },
   {
    "duration": 67,
    "start_time": "2021-11-03T18:26:56.545Z"
   },
   {
    "duration": 12,
    "start_time": "2021-11-03T18:26:56.615Z"
   },
   {
    "duration": 398,
    "start_time": "2021-11-03T18:26:56.630Z"
   },
   {
    "duration": 317,
    "start_time": "2021-11-03T18:26:57.031Z"
   },
   {
    "duration": 287,
    "start_time": "2021-11-03T18:26:57.351Z"
   },
   {
    "duration": 59,
    "start_time": "2021-11-03T18:28:00.590Z"
   },
   {
    "duration": 1598,
    "start_time": "2021-11-03T18:33:03.271Z"
   },
   {
    "duration": 168,
    "start_time": "2021-11-03T18:33:04.872Z"
   },
   {
    "duration": 41,
    "start_time": "2021-11-03T18:33:05.043Z"
   },
   {
    "duration": 18,
    "start_time": "2021-11-03T18:33:05.087Z"
   },
   {
    "duration": 13,
    "start_time": "2021-11-03T18:33:05.107Z"
   },
   {
    "duration": 15,
    "start_time": "2021-11-03T18:33:05.122Z"
   },
   {
    "duration": 52,
    "start_time": "2021-11-03T18:33:05.140Z"
   },
   {
    "duration": 3,
    "start_time": "2021-11-03T18:33:05.201Z"
   },
   {
    "duration": 36,
    "start_time": "2021-11-03T18:33:05.207Z"
   },
   {
    "duration": 13,
    "start_time": "2021-11-03T18:33:05.245Z"
   },
   {
    "duration": 59,
    "start_time": "2021-11-03T18:33:05.261Z"
   },
   {
    "duration": 20,
    "start_time": "2021-11-03T18:33:05.323Z"
   },
   {
    "duration": 30,
    "start_time": "2021-11-03T18:33:05.346Z"
   },
   {
    "duration": 33,
    "start_time": "2021-11-03T18:33:05.379Z"
   },
   {
    "duration": 12,
    "start_time": "2021-11-03T18:33:05.415Z"
   },
   {
    "duration": 19,
    "start_time": "2021-11-03T18:33:05.430Z"
   },
   {
    "duration": 49,
    "start_time": "2021-11-03T18:33:05.451Z"
   },
   {
    "duration": 4,
    "start_time": "2021-11-03T18:33:05.503Z"
   },
   {
    "duration": 15,
    "start_time": "2021-11-03T18:33:05.509Z"
   },
   {
    "duration": 19,
    "start_time": "2021-11-03T18:33:05.527Z"
   },
   {
    "duration": 6,
    "start_time": "2021-11-03T18:33:05.549Z"
   },
   {
    "duration": 45,
    "start_time": "2021-11-03T18:33:05.557Z"
   },
   {
    "duration": 17,
    "start_time": "2021-11-03T18:33:05.608Z"
   },
   {
    "duration": 12,
    "start_time": "2021-11-03T18:33:05.628Z"
   },
   {
    "duration": 19,
    "start_time": "2021-11-03T18:33:05.642Z"
   },
   {
    "duration": 73,
    "start_time": "2021-11-03T18:33:05.663Z"
   },
   {
    "duration": 7,
    "start_time": "2021-11-03T18:33:05.739Z"
   },
   {
    "duration": 13,
    "start_time": "2021-11-03T18:33:05.748Z"
   },
   {
    "duration": 70,
    "start_time": "2021-11-03T18:33:05.763Z"
   },
   {
    "duration": 40,
    "start_time": "2021-11-03T18:33:05.836Z"
   },
   {
    "duration": 533,
    "start_time": "2021-11-03T18:33:05.879Z"
   },
   {
    "duration": -359,
    "start_time": "2021-11-03T18:33:06.773Z"
   },
   {
    "duration": -360,
    "start_time": "2021-11-03T18:33:06.776Z"
   },
   {
    "duration": -362,
    "start_time": "2021-11-03T18:33:06.779Z"
   },
   {
    "duration": -365,
    "start_time": "2021-11-03T18:33:06.783Z"
   },
   {
    "duration": -366,
    "start_time": "2021-11-03T18:33:06.786Z"
   },
   {
    "duration": -367,
    "start_time": "2021-11-03T18:33:06.789Z"
   },
   {
    "duration": -369,
    "start_time": "2021-11-03T18:33:06.792Z"
   },
   {
    "duration": -371,
    "start_time": "2021-11-03T18:33:06.795Z"
   },
   {
    "duration": -374,
    "start_time": "2021-11-03T18:33:06.799Z"
   },
   {
    "duration": -375,
    "start_time": "2021-11-03T18:33:06.802Z"
   },
   {
    "duration": -378,
    "start_time": "2021-11-03T18:33:06.806Z"
   },
   {
    "duration": -379,
    "start_time": "2021-11-03T18:33:06.809Z"
   },
   {
    "duration": -381,
    "start_time": "2021-11-03T18:33:06.812Z"
   },
   {
    "duration": -383,
    "start_time": "2021-11-03T18:33:06.815Z"
   },
   {
    "duration": -385,
    "start_time": "2021-11-03T18:33:06.818Z"
   },
   {
    "duration": -387,
    "start_time": "2021-11-03T18:33:06.822Z"
   },
   {
    "duration": -389,
    "start_time": "2021-11-03T18:33:06.825Z"
   },
   {
    "duration": -390,
    "start_time": "2021-11-03T18:33:06.828Z"
   },
   {
    "duration": -392,
    "start_time": "2021-11-03T18:33:06.831Z"
   },
   {
    "duration": -394,
    "start_time": "2021-11-03T18:33:06.834Z"
   },
   {
    "duration": -397,
    "start_time": "2021-11-03T18:33:06.838Z"
   },
   {
    "duration": -398,
    "start_time": "2021-11-03T18:33:06.841Z"
   },
   {
    "duration": 1454,
    "start_time": "2021-11-03T18:35:56.247Z"
   },
   {
    "duration": 188,
    "start_time": "2021-11-03T18:35:57.704Z"
   },
   {
    "duration": 44,
    "start_time": "2021-11-03T18:35:57.895Z"
   },
   {
    "duration": 6,
    "start_time": "2021-11-03T18:35:57.941Z"
   },
   {
    "duration": 14,
    "start_time": "2021-11-03T18:35:57.950Z"
   },
   {
    "duration": 32,
    "start_time": "2021-11-03T18:35:57.967Z"
   },
   {
    "duration": 39,
    "start_time": "2021-11-03T18:35:58.002Z"
   },
   {
    "duration": 3,
    "start_time": "2021-11-03T18:35:58.045Z"
   },
   {
    "duration": 50,
    "start_time": "2021-11-03T18:35:58.050Z"
   },
   {
    "duration": 5,
    "start_time": "2021-11-03T18:35:58.103Z"
   },
   {
    "duration": 39,
    "start_time": "2021-11-03T18:35:58.111Z"
   },
   {
    "duration": 19,
    "start_time": "2021-11-03T18:35:58.153Z"
   },
   {
    "duration": 39,
    "start_time": "2021-11-03T18:35:58.174Z"
   },
   {
    "duration": 13,
    "start_time": "2021-11-03T18:35:58.215Z"
   },
   {
    "duration": 11,
    "start_time": "2021-11-03T18:35:58.230Z"
   },
   {
    "duration": 18,
    "start_time": "2021-11-03T18:35:58.243Z"
   },
   {
    "duration": 31,
    "start_time": "2021-11-03T18:35:58.300Z"
   },
   {
    "duration": 5,
    "start_time": "2021-11-03T18:35:58.333Z"
   },
   {
    "duration": 11,
    "start_time": "2021-11-03T18:35:58.340Z"
   },
   {
    "duration": 54,
    "start_time": "2021-11-03T18:35:58.354Z"
   },
   {
    "duration": 6,
    "start_time": "2021-11-03T18:35:58.410Z"
   },
   {
    "duration": 7,
    "start_time": "2021-11-03T18:35:58.418Z"
   },
   {
    "duration": 12,
    "start_time": "2021-11-03T18:35:58.431Z"
   },
   {
    "duration": 6,
    "start_time": "2021-11-03T18:35:58.446Z"
   },
   {
    "duration": 59,
    "start_time": "2021-11-03T18:35:58.454Z"
   },
   {
    "duration": 43,
    "start_time": "2021-11-03T18:35:58.516Z"
   },
   {
    "duration": 7,
    "start_time": "2021-11-03T18:35:58.561Z"
   },
   {
    "duration": 32,
    "start_time": "2021-11-03T18:35:58.570Z"
   },
   {
    "duration": 46,
    "start_time": "2021-11-03T18:35:58.605Z"
   },
   {
    "duration": 52,
    "start_time": "2021-11-03T18:35:58.653Z"
   },
   {
    "duration": 100,
    "start_time": "2021-11-03T18:35:58.707Z"
   },
   {
    "duration": 60,
    "start_time": "2021-11-03T18:35:58.809Z"
   },
   {
    "duration": 3,
    "start_time": "2021-11-03T18:35:58.872Z"
   },
   {
    "duration": 30,
    "start_time": "2021-11-03T18:35:58.877Z"
   },
   {
    "duration": 53,
    "start_time": "2021-11-03T18:35:58.910Z"
   },
   {
    "duration": 52,
    "start_time": "2021-11-03T18:35:58.966Z"
   },
   {
    "duration": 7,
    "start_time": "2021-11-03T18:35:59.020Z"
   },
   {
    "duration": 14,
    "start_time": "2021-11-03T18:35:59.029Z"
   },
   {
    "duration": 10,
    "start_time": "2021-11-03T18:35:59.045Z"
   },
   {
    "duration": 324,
    "start_time": "2021-11-03T18:35:59.057Z"
   },
   {
    "duration": 299,
    "start_time": "2021-11-03T18:35:59.383Z"
   },
   {
    "duration": 52,
    "start_time": "2021-11-03T18:35:59.685Z"
   },
   {
    "duration": 73,
    "start_time": "2021-11-03T18:35:59.740Z"
   },
   {
    "duration": 89,
    "start_time": "2021-11-03T18:35:59.815Z"
   },
   {
    "duration": 386,
    "start_time": "2021-11-03T18:35:59.906Z"
   },
   {
    "duration": 53,
    "start_time": "2021-11-03T18:36:00.295Z"
   },
   {
    "duration": 49,
    "start_time": "2021-11-03T18:36:00.351Z"
   },
   {
    "duration": 14,
    "start_time": "2021-11-03T18:36:00.403Z"
   },
   {
    "duration": 37,
    "start_time": "2021-11-03T18:36:00.420Z"
   },
   {
    "duration": 284,
    "start_time": "2021-11-03T18:36:00.460Z"
   },
   {
    "duration": 313,
    "start_time": "2021-11-03T18:36:00.747Z"
   },
   {
    "duration": 366,
    "start_time": "2021-11-03T18:36:01.063Z"
   },
   {
    "duration": 1584,
    "start_time": "2021-11-03T18:38:27.692Z"
   },
   {
    "duration": 173,
    "start_time": "2021-11-03T18:38:29.279Z"
   },
   {
    "duration": 47,
    "start_time": "2021-11-03T18:38:29.455Z"
   },
   {
    "duration": 5,
    "start_time": "2021-11-03T18:38:29.504Z"
   },
   {
    "duration": 11,
    "start_time": "2021-11-03T18:38:29.512Z"
   },
   {
    "duration": 8,
    "start_time": "2021-11-03T18:38:29.525Z"
   },
   {
    "duration": 72,
    "start_time": "2021-11-03T18:38:29.535Z"
   },
   {
    "duration": 3,
    "start_time": "2021-11-03T18:38:29.611Z"
   },
   {
    "duration": 23,
    "start_time": "2021-11-03T18:38:29.617Z"
   },
   {
    "duration": 12,
    "start_time": "2021-11-03T18:38:29.642Z"
   },
   {
    "duration": 59,
    "start_time": "2021-11-03T18:38:29.656Z"
   },
   {
    "duration": 17,
    "start_time": "2021-11-03T18:38:29.718Z"
   },
   {
    "duration": 14,
    "start_time": "2021-11-03T18:38:29.738Z"
   },
   {
    "duration": 12,
    "start_time": "2021-11-03T18:38:29.755Z"
   },
   {
    "duration": 40,
    "start_time": "2021-11-03T18:38:29.769Z"
   },
   {
    "duration": 10,
    "start_time": "2021-11-03T18:38:29.812Z"
   },
   {
    "duration": 31,
    "start_time": "2021-11-03T18:38:29.825Z"
   },
   {
    "duration": 43,
    "start_time": "2021-11-03T18:38:29.859Z"
   },
   {
    "duration": 28,
    "start_time": "2021-11-03T18:38:29.904Z"
   },
   {
    "duration": 14,
    "start_time": "2021-11-03T18:38:29.935Z"
   },
   {
    "duration": 16,
    "start_time": "2021-11-03T18:38:29.952Z"
   },
   {
    "duration": 9,
    "start_time": "2021-11-03T18:38:29.971Z"
   },
   {
    "duration": 11,
    "start_time": "2021-11-03T18:38:30.002Z"
   },
   {
    "duration": 30,
    "start_time": "2021-11-03T18:38:30.018Z"
   },
   {
    "duration": 34,
    "start_time": "2021-11-03T18:38:30.050Z"
   },
   {
    "duration": 66,
    "start_time": "2021-11-03T18:38:30.086Z"
   },
   {
    "duration": 7,
    "start_time": "2021-11-03T18:38:30.154Z"
   },
   {
    "duration": 18,
    "start_time": "2021-11-03T18:38:30.163Z"
   },
   {
    "duration": 64,
    "start_time": "2021-11-03T18:38:30.183Z"
   },
   {
    "duration": 35,
    "start_time": "2021-11-03T18:38:30.249Z"
   },
   {
    "duration": 104,
    "start_time": "2021-11-03T18:38:30.300Z"
   },
   {
    "duration": 64,
    "start_time": "2021-11-03T18:38:30.407Z"
   },
   {
    "duration": 3,
    "start_time": "2021-11-03T18:38:30.473Z"
   },
   {
    "duration": 14,
    "start_time": "2021-11-03T18:38:30.501Z"
   },
   {
    "duration": 60,
    "start_time": "2021-11-03T18:38:30.518Z"
   },
   {
    "duration": 40,
    "start_time": "2021-11-03T18:38:30.581Z"
   },
   {
    "duration": 23,
    "start_time": "2021-11-03T18:38:30.623Z"
   },
   {
    "duration": 37,
    "start_time": "2021-11-03T18:38:30.649Z"
   },
   {
    "duration": 25,
    "start_time": "2021-11-03T18:38:30.689Z"
   },
   {
    "duration": 317,
    "start_time": "2021-11-03T18:38:30.717Z"
   },
   {
    "duration": 314,
    "start_time": "2021-11-03T18:38:31.038Z"
   },
   {
    "duration": 53,
    "start_time": "2021-11-03T18:38:31.354Z"
   },
   {
    "duration": 57,
    "start_time": "2021-11-03T18:38:31.410Z"
   },
   {
    "duration": 86,
    "start_time": "2021-11-03T18:38:31.470Z"
   },
   {
    "duration": 384,
    "start_time": "2021-11-03T18:38:31.559Z"
   },
   {
    "duration": 76,
    "start_time": "2021-11-03T18:38:31.945Z"
   },
   {
    "duration": 19,
    "start_time": "2021-11-03T18:38:32.024Z"
   },
   {
    "duration": 27,
    "start_time": "2021-11-03T18:38:32.045Z"
   },
   {
    "duration": 28,
    "start_time": "2021-11-03T18:38:32.074Z"
   },
   {
    "duration": 284,
    "start_time": "2021-11-03T18:38:32.105Z"
   },
   {
    "duration": 448,
    "start_time": "2021-11-03T18:38:32.392Z"
   },
   {
    "duration": 599,
    "start_time": "2021-11-03T18:38:32.842Z"
   },
   {
    "duration": 1607,
    "start_time": "2021-11-03T18:44:29.878Z"
   },
   {
    "duration": 174,
    "start_time": "2021-11-03T18:44:31.488Z"
   },
   {
    "duration": 43,
    "start_time": "2021-11-03T18:44:31.665Z"
   },
   {
    "duration": 5,
    "start_time": "2021-11-03T18:44:31.711Z"
   },
   {
    "duration": 11,
    "start_time": "2021-11-03T18:44:31.719Z"
   },
   {
    "duration": 10,
    "start_time": "2021-11-03T18:44:31.733Z"
   },
   {
    "duration": 63,
    "start_time": "2021-11-03T18:44:31.747Z"
   },
   {
    "duration": 3,
    "start_time": "2021-11-03T18:44:31.816Z"
   },
   {
    "duration": 27,
    "start_time": "2021-11-03T18:44:31.823Z"
   },
   {
    "duration": 9,
    "start_time": "2021-11-03T18:44:31.854Z"
   },
   {
    "duration": 67,
    "start_time": "2021-11-03T18:44:31.866Z"
   },
   {
    "duration": 20,
    "start_time": "2021-11-03T18:44:31.936Z"
   },
   {
    "duration": 50,
    "start_time": "2021-11-03T18:44:31.959Z"
   },
   {
    "duration": 15,
    "start_time": "2021-11-03T18:44:32.012Z"
   },
   {
    "duration": 13,
    "start_time": "2021-11-03T18:44:32.030Z"
   },
   {
    "duration": 57,
    "start_time": "2021-11-03T18:44:32.045Z"
   },
   {
    "duration": 29,
    "start_time": "2021-11-03T18:44:32.105Z"
   },
   {
    "duration": 5,
    "start_time": "2021-11-03T18:44:32.137Z"
   },
   {
    "duration": 12,
    "start_time": "2021-11-03T18:44:32.145Z"
   },
   {
    "duration": 49,
    "start_time": "2021-11-03T18:44:32.160Z"
   },
   {
    "duration": 6,
    "start_time": "2021-11-03T18:44:32.213Z"
   },
   {
    "duration": 11,
    "start_time": "2021-11-03T18:44:32.222Z"
   },
   {
    "duration": 13,
    "start_time": "2021-11-03T18:44:32.238Z"
   },
   {
    "duration": 48,
    "start_time": "2021-11-03T18:44:32.254Z"
   },
   {
    "duration": 13,
    "start_time": "2021-11-03T18:44:32.305Z"
   },
   {
    "duration": 46,
    "start_time": "2021-11-03T18:44:32.322Z"
   },
   {
    "duration": 8,
    "start_time": "2021-11-03T18:44:32.400Z"
   },
   {
    "duration": 8,
    "start_time": "2021-11-03T18:44:32.410Z"
   },
   {
    "duration": 43,
    "start_time": "2021-11-03T18:44:32.421Z"
   },
   {
    "duration": 56,
    "start_time": "2021-11-03T18:44:32.466Z"
   },
   {
    "duration": 100,
    "start_time": "2021-11-03T18:44:32.525Z"
   },
   {
    "duration": 75,
    "start_time": "2021-11-03T18:44:32.628Z"
   },
   {
    "duration": 3,
    "start_time": "2021-11-03T18:44:32.706Z"
   },
   {
    "duration": 11,
    "start_time": "2021-11-03T18:44:32.711Z"
   },
   {
    "duration": 14,
    "start_time": "2021-11-03T18:44:32.724Z"
   },
   {
    "duration": 95,
    "start_time": "2021-11-03T18:44:32.740Z"
   },
   {
    "duration": 28,
    "start_time": "2021-11-03T18:44:32.838Z"
   },
   {
    "duration": 10,
    "start_time": "2021-11-03T18:44:32.870Z"
   },
   {
    "duration": 7,
    "start_time": "2021-11-03T18:44:32.902Z"
   },
   {
    "duration": 317,
    "start_time": "2021-11-03T18:44:32.912Z"
   },
   {
    "duration": 325,
    "start_time": "2021-11-03T18:44:33.232Z"
   },
   {
    "duration": 54,
    "start_time": "2021-11-03T18:44:33.560Z"
   },
   {
    "duration": 44,
    "start_time": "2021-11-03T18:44:33.617Z"
   },
   {
    "duration": 104,
    "start_time": "2021-11-03T18:44:33.663Z"
   },
   {
    "duration": 420,
    "start_time": "2021-11-03T18:44:33.770Z"
   },
   {
    "duration": 56,
    "start_time": "2021-11-03T18:44:34.193Z"
   },
   {
    "duration": 17,
    "start_time": "2021-11-03T18:44:34.252Z"
   },
   {
    "duration": 36,
    "start_time": "2021-11-03T18:44:34.272Z"
   },
   {
    "duration": 15,
    "start_time": "2021-11-03T18:44:34.311Z"
   },
   {
    "duration": 312,
    "start_time": "2021-11-03T18:44:34.328Z"
   },
   {
    "duration": 309,
    "start_time": "2021-11-03T18:44:34.642Z"
   },
   {
    "duration": 546,
    "start_time": "2021-11-03T18:44:34.954Z"
   },
   {
    "duration": 8,
    "start_time": "2021-11-03T18:57:14.880Z"
   },
   {
    "duration": 1688,
    "start_time": "2021-11-03T18:57:26.105Z"
   },
   {
    "duration": 166,
    "start_time": "2021-11-03T18:57:27.796Z"
   },
   {
    "duration": 75,
    "start_time": "2021-11-03T18:57:27.967Z"
   },
   {
    "duration": 8,
    "start_time": "2021-11-03T18:57:28.046Z"
   },
   {
    "duration": 13,
    "start_time": "2021-11-03T18:57:28.058Z"
   },
   {
    "duration": 40,
    "start_time": "2021-11-03T18:57:28.074Z"
   },
   {
    "duration": 37,
    "start_time": "2021-11-03T18:57:28.116Z"
   },
   {
    "duration": 3,
    "start_time": "2021-11-03T18:57:28.156Z"
   },
   {
    "duration": 56,
    "start_time": "2021-11-03T18:57:28.162Z"
   },
   {
    "duration": 8,
    "start_time": "2021-11-03T18:57:28.221Z"
   },
   {
    "duration": 42,
    "start_time": "2021-11-03T18:57:28.231Z"
   },
   {
    "duration": 45,
    "start_time": "2021-11-03T18:57:28.276Z"
   },
   {
    "duration": 18,
    "start_time": "2021-11-03T18:57:28.324Z"
   },
   {
    "duration": 15,
    "start_time": "2021-11-03T18:57:28.345Z"
   },
   {
    "duration": 45,
    "start_time": "2021-11-03T18:57:28.362Z"
   },
   {
    "duration": 11,
    "start_time": "2021-11-03T18:57:28.409Z"
   },
   {
    "duration": 80,
    "start_time": "2021-11-03T18:57:28.422Z"
   },
   {
    "duration": 10,
    "start_time": "2021-11-03T18:57:28.505Z"
   },
   {
    "duration": 17,
    "start_time": "2021-11-03T18:57:28.519Z"
   },
   {
    "duration": 25,
    "start_time": "2021-11-03T18:57:28.538Z"
   },
   {
    "duration": 11,
    "start_time": "2021-11-03T18:57:28.566Z"
   },
   {
    "duration": 26,
    "start_time": "2021-11-03T18:57:28.580Z"
   },
   {
    "duration": 17,
    "start_time": "2021-11-03T18:57:28.609Z"
   },
   {
    "duration": 19,
    "start_time": "2021-11-03T18:57:28.629Z"
   },
   {
    "duration": 27,
    "start_time": "2021-11-03T18:57:28.652Z"
   },
   {
    "duration": 51,
    "start_time": "2021-11-03T18:57:28.701Z"
   },
   {
    "duration": 7,
    "start_time": "2021-11-03T18:57:28.758Z"
   },
   {
    "duration": 44,
    "start_time": "2021-11-03T18:57:28.768Z"
   },
   {
    "duration": 41,
    "start_time": "2021-11-03T18:57:28.815Z"
   },
   {
    "duration": 51,
    "start_time": "2021-11-03T18:57:28.858Z"
   },
   {
    "duration": 101,
    "start_time": "2021-11-03T18:57:28.912Z"
   },
   {
    "duration": 67,
    "start_time": "2021-11-03T18:57:29.015Z"
   },
   {
    "duration": 6,
    "start_time": "2021-11-03T18:57:29.102Z"
   },
   {
    "duration": 12,
    "start_time": "2021-11-03T18:57:29.112Z"
   },
   {
    "duration": 20,
    "start_time": "2021-11-03T18:57:29.127Z"
   },
   {
    "duration": 14,
    "start_time": "2021-11-03T18:57:29.149Z"
   },
   {
    "duration": 36,
    "start_time": "2021-11-03T18:57:29.166Z"
   },
   {
    "duration": 328,
    "start_time": "2021-11-03T18:57:29.205Z"
   },
   {
    "duration": 22,
    "start_time": "2021-11-03T18:57:29.535Z"
   },
   {
    "duration": 7,
    "start_time": "2021-11-03T18:57:29.559Z"
   },
   {
    "duration": 338,
    "start_time": "2021-11-03T18:57:29.569Z"
   },
   {
    "duration": 47,
    "start_time": "2021-11-03T18:57:29.910Z"
   },
   {
    "duration": 82,
    "start_time": "2021-11-03T18:57:29.959Z"
   },
   {
    "duration": 103,
    "start_time": "2021-11-03T18:57:30.046Z"
   },
   {
    "duration": 436,
    "start_time": "2021-11-03T18:57:30.151Z"
   },
   {
    "duration": 57,
    "start_time": "2021-11-03T18:57:30.589Z"
   },
   {
    "duration": 20,
    "start_time": "2021-11-03T18:57:30.648Z"
   },
   {
    "duration": 40,
    "start_time": "2021-11-03T18:57:30.671Z"
   },
   {
    "duration": 37,
    "start_time": "2021-11-03T18:57:30.714Z"
   },
   {
    "duration": 453,
    "start_time": "2021-11-03T18:57:30.755Z"
   },
   {
    "duration": 753,
    "start_time": "2021-11-03T18:57:31.211Z"
   },
   {
    "duration": 396,
    "start_time": "2021-11-03T18:57:31.967Z"
   },
   {
    "duration": 59,
    "start_time": "2021-11-03T18:59:51.383Z"
   },
   {
    "duration": 1667,
    "start_time": "2021-11-03T19:00:13.027Z"
   },
   {
    "duration": 171,
    "start_time": "2021-11-03T19:00:14.697Z"
   },
   {
    "duration": 48,
    "start_time": "2021-11-03T19:00:14.871Z"
   },
   {
    "duration": 5,
    "start_time": "2021-11-03T19:00:14.921Z"
   },
   {
    "duration": 12,
    "start_time": "2021-11-03T19:00:14.928Z"
   },
   {
    "duration": 9,
    "start_time": "2021-11-03T19:00:14.942Z"
   },
   {
    "duration": 60,
    "start_time": "2021-11-03T19:00:14.953Z"
   },
   {
    "duration": 4,
    "start_time": "2021-11-03T19:00:15.019Z"
   },
   {
    "duration": 27,
    "start_time": "2021-11-03T19:00:15.026Z"
   },
   {
    "duration": 6,
    "start_time": "2021-11-03T19:00:15.057Z"
   },
   {
    "duration": 89,
    "start_time": "2021-11-03T19:00:15.065Z"
   },
   {
    "duration": 19,
    "start_time": "2021-11-03T19:00:15.157Z"
   },
   {
    "duration": 24,
    "start_time": "2021-11-03T19:00:15.179Z"
   },
   {
    "duration": 17,
    "start_time": "2021-11-03T19:00:15.205Z"
   },
   {
    "duration": 12,
    "start_time": "2021-11-03T19:00:15.225Z"
   },
   {
    "duration": 18,
    "start_time": "2021-11-03T19:00:15.240Z"
   },
   {
    "duration": 67,
    "start_time": "2021-11-03T19:00:15.260Z"
   },
   {
    "duration": 7,
    "start_time": "2021-11-03T19:00:15.329Z"
   },
   {
    "duration": 22,
    "start_time": "2021-11-03T19:00:15.338Z"
   },
   {
    "duration": 42,
    "start_time": "2021-11-03T19:00:15.363Z"
   },
   {
    "duration": 5,
    "start_time": "2021-11-03T19:00:15.408Z"
   },
   {
    "duration": 11,
    "start_time": "2021-11-03T19:00:15.416Z"
   },
   {
    "duration": 13,
    "start_time": "2021-11-03T19:00:15.438Z"
   },
   {
    "duration": 48,
    "start_time": "2021-11-03T19:00:15.455Z"
   },
   {
    "duration": 15,
    "start_time": "2021-11-03T19:00:15.508Z"
   },
   {
    "duration": 75,
    "start_time": "2021-11-03T19:00:15.526Z"
   },
   {
    "duration": 7,
    "start_time": "2021-11-03T19:00:15.604Z"
   },
   {
    "duration": 8,
    "start_time": "2021-11-03T19:00:15.614Z"
   },
   {
    "duration": 80,
    "start_time": "2021-11-03T19:00:15.625Z"
   },
   {
    "duration": 31,
    "start_time": "2021-11-03T19:00:15.708Z"
   },
   {
    "duration": 117,
    "start_time": "2021-11-03T19:00:15.743Z"
   },
   {
    "duration": 89,
    "start_time": "2021-11-03T19:00:15.863Z"
   },
   {
    "duration": 3,
    "start_time": "2021-11-03T19:00:15.954Z"
   },
   {
    "duration": 14,
    "start_time": "2021-11-03T19:00:15.959Z"
   },
   {
    "duration": 35,
    "start_time": "2021-11-03T19:00:15.976Z"
   },
   {
    "duration": 50,
    "start_time": "2021-11-03T19:00:16.015Z"
   },
   {
    "duration": 34,
    "start_time": "2021-11-03T19:00:16.068Z"
   },
   {
    "duration": 332,
    "start_time": "2021-11-03T19:00:16.105Z"
   },
   {
    "duration": 26,
    "start_time": "2021-11-03T19:00:16.439Z"
   },
   {
    "duration": 3,
    "start_time": "2021-11-03T19:00:16.468Z"
   },
   {
    "duration": 358,
    "start_time": "2021-11-03T19:00:16.500Z"
   },
   {
    "duration": 58,
    "start_time": "2021-11-03T19:00:16.861Z"
   },
   {
    "duration": 55,
    "start_time": "2021-11-03T19:00:16.921Z"
   },
   {
    "duration": 104,
    "start_time": "2021-11-03T19:00:16.978Z"
   },
   {
    "duration": 434,
    "start_time": "2021-11-03T19:00:17.101Z"
   },
   {
    "duration": 92,
    "start_time": "2021-11-03T19:00:17.538Z"
   },
   {
    "duration": 32,
    "start_time": "2021-11-03T19:00:17.634Z"
   },
   {
    "duration": 35,
    "start_time": "2021-11-03T19:00:17.668Z"
   },
   {
    "duration": 19,
    "start_time": "2021-11-03T19:00:17.708Z"
   },
   {
    "duration": 403,
    "start_time": "2021-11-03T19:00:17.730Z"
   },
   {
    "duration": 396,
    "start_time": "2021-11-03T19:00:18.136Z"
   },
   {
    "duration": 453,
    "start_time": "2021-11-03T19:00:18.534Z"
   },
   {
    "duration": 1549,
    "start_time": "2021-11-03T19:01:26.554Z"
   },
   {
    "duration": 168,
    "start_time": "2021-11-03T19:01:28.112Z"
   },
   {
    "duration": 43,
    "start_time": "2021-11-03T19:01:28.283Z"
   },
   {
    "duration": 8,
    "start_time": "2021-11-03T19:01:28.331Z"
   },
   {
    "duration": 12,
    "start_time": "2021-11-03T19:01:28.342Z"
   },
   {
    "duration": 8,
    "start_time": "2021-11-03T19:01:28.356Z"
   },
   {
    "duration": 73,
    "start_time": "2021-11-03T19:01:28.367Z"
   },
   {
    "duration": 3,
    "start_time": "2021-11-03T19:01:28.444Z"
   },
   {
    "duration": 27,
    "start_time": "2021-11-03T19:01:28.450Z"
   },
   {
    "duration": 20,
    "start_time": "2021-11-03T19:01:28.480Z"
   },
   {
    "duration": 43,
    "start_time": "2021-11-03T19:01:28.503Z"
   },
   {
    "duration": 18,
    "start_time": "2021-11-03T19:01:28.548Z"
   },
   {
    "duration": 39,
    "start_time": "2021-11-03T19:01:28.569Z"
   },
   {
    "duration": 17,
    "start_time": "2021-11-03T19:01:28.611Z"
   },
   {
    "duration": 22,
    "start_time": "2021-11-03T19:01:28.631Z"
   },
   {
    "duration": 10,
    "start_time": "2021-11-03T19:01:28.655Z"
   },
   {
    "duration": 33,
    "start_time": "2021-11-03T19:01:28.704Z"
   },
   {
    "duration": 5,
    "start_time": "2021-11-03T19:01:28.740Z"
   },
   {
    "duration": 17,
    "start_time": "2021-11-03T19:01:28.747Z"
   },
   {
    "duration": 48,
    "start_time": "2021-11-03T19:01:28.767Z"
   },
   {
    "duration": 9,
    "start_time": "2021-11-03T19:01:28.818Z"
   },
   {
    "duration": 5,
    "start_time": "2021-11-03T19:01:28.830Z"
   },
   {
    "duration": 12,
    "start_time": "2021-11-03T19:01:28.841Z"
   },
   {
    "duration": 54,
    "start_time": "2021-11-03T19:01:28.856Z"
   },
   {
    "duration": 16,
    "start_time": "2021-11-03T19:01:28.914Z"
   },
   {
    "duration": 80,
    "start_time": "2021-11-03T19:01:28.933Z"
   },
   {
    "duration": 12,
    "start_time": "2021-11-03T19:01:29.015Z"
   },
   {
    "duration": 8,
    "start_time": "2021-11-03T19:01:29.031Z"
   },
   {
    "duration": 86,
    "start_time": "2021-11-03T19:01:29.041Z"
   },
   {
    "duration": 26,
    "start_time": "2021-11-03T19:01:29.130Z"
   },
   {
    "duration": 109,
    "start_time": "2021-11-03T19:01:29.159Z"
   },
   {
    "duration": 73,
    "start_time": "2021-11-03T19:01:29.271Z"
   },
   {
    "duration": 4,
    "start_time": "2021-11-03T19:01:29.347Z"
   },
   {
    "duration": 17,
    "start_time": "2021-11-03T19:01:29.353Z"
   },
   {
    "duration": 35,
    "start_time": "2021-11-03T19:01:29.373Z"
   },
   {
    "duration": 51,
    "start_time": "2021-11-03T19:01:29.411Z"
   },
   {
    "duration": 44,
    "start_time": "2021-11-03T19:01:29.464Z"
   },
   {
    "duration": 8,
    "start_time": "2021-11-03T19:01:29.512Z"
   },
   {
    "duration": 309,
    "start_time": "2021-11-03T19:01:29.522Z"
   },
   {
    "duration": 22,
    "start_time": "2021-11-03T19:01:29.833Z"
   },
   {
    "duration": 13,
    "start_time": "2021-11-03T19:01:29.858Z"
   },
   {
    "duration": 346,
    "start_time": "2021-11-03T19:01:29.873Z"
   },
   {
    "duration": 42,
    "start_time": "2021-11-03T19:01:30.222Z"
   },
   {
    "duration": 74,
    "start_time": "2021-11-03T19:01:30.267Z"
   },
   {
    "duration": 104,
    "start_time": "2021-11-03T19:01:30.345Z"
   },
   {
    "duration": 433,
    "start_time": "2021-11-03T19:01:30.451Z"
   },
   {
    "duration": 65,
    "start_time": "2021-11-03T19:01:30.887Z"
   },
   {
    "duration": 19,
    "start_time": "2021-11-03T19:01:30.955Z"
   },
   {
    "duration": 31,
    "start_time": "2021-11-03T19:01:31.003Z"
   },
   {
    "duration": 30,
    "start_time": "2021-11-03T19:01:31.038Z"
   },
   {
    "duration": 300,
    "start_time": "2021-11-03T19:01:31.070Z"
   },
   {
    "duration": 317,
    "start_time": "2021-11-03T19:01:31.374Z"
   },
   {
    "duration": 364,
    "start_time": "2021-11-03T19:01:31.700Z"
   },
   {
    "duration": 53,
    "start_time": "2021-11-03T19:01:55.521Z"
   },
   {
    "duration": 64,
    "start_time": "2021-11-03T19:05:11.650Z"
   },
   {
    "duration": 58,
    "start_time": "2021-11-03T19:08:00.956Z"
   },
   {
    "duration": 57,
    "start_time": "2021-11-03T19:08:20.153Z"
   },
   {
    "duration": 74,
    "start_time": "2021-11-03T19:08:39.232Z"
   },
   {
    "duration": 88,
    "start_time": "2021-11-03T19:10:34.143Z"
   },
   {
    "duration": 20,
    "start_time": "2021-11-03T19:11:01.422Z"
   },
   {
    "duration": 15,
    "start_time": "2021-11-03T19:11:09.176Z"
   },
   {
    "duration": 15,
    "start_time": "2021-11-03T19:11:14.009Z"
   },
   {
    "duration": 294,
    "start_time": "2021-11-03T19:11:21.280Z"
   },
   {
    "duration": 292,
    "start_time": "2021-11-03T19:11:27.435Z"
   },
   {
    "duration": 261,
    "start_time": "2021-11-03T19:11:32.353Z"
   },
   {
    "duration": 1509,
    "start_time": "2021-11-03T19:13:50.280Z"
   },
   {
    "duration": 174,
    "start_time": "2021-11-03T19:13:51.792Z"
   },
   {
    "duration": 42,
    "start_time": "2021-11-03T19:13:51.969Z"
   },
   {
    "duration": 6,
    "start_time": "2021-11-03T19:13:52.014Z"
   },
   {
    "duration": 18,
    "start_time": "2021-11-03T19:13:52.023Z"
   },
   {
    "duration": 10,
    "start_time": "2021-11-03T19:13:52.043Z"
   },
   {
    "duration": 61,
    "start_time": "2021-11-03T19:13:52.055Z"
   },
   {
    "duration": 3,
    "start_time": "2021-11-03T19:13:52.120Z"
   },
   {
    "duration": 18,
    "start_time": "2021-11-03T19:13:52.126Z"
   },
   {
    "duration": 5,
    "start_time": "2021-11-03T19:13:52.147Z"
   },
   {
    "duration": 75,
    "start_time": "2021-11-03T19:13:52.154Z"
   },
   {
    "duration": 17,
    "start_time": "2021-11-03T19:13:52.232Z"
   },
   {
    "duration": 17,
    "start_time": "2021-11-03T19:13:52.252Z"
   },
   {
    "duration": 38,
    "start_time": "2021-11-03T19:13:52.273Z"
   },
   {
    "duration": 11,
    "start_time": "2021-11-03T19:13:52.313Z"
   },
   {
    "duration": 10,
    "start_time": "2021-11-03T19:13:52.327Z"
   },
   {
    "duration": 73,
    "start_time": "2021-11-03T19:13:52.339Z"
   },
   {
    "duration": 6,
    "start_time": "2021-11-03T19:13:52.415Z"
   },
   {
    "duration": 12,
    "start_time": "2021-11-03T19:13:52.424Z"
   },
   {
    "duration": 24,
    "start_time": "2021-11-03T19:13:52.439Z"
   },
   {
    "duration": 38,
    "start_time": "2021-11-03T19:13:52.466Z"
   },
   {
    "duration": 9,
    "start_time": "2021-11-03T19:13:52.507Z"
   },
   {
    "duration": 15,
    "start_time": "2021-11-03T19:13:52.524Z"
   },
   {
    "duration": 13,
    "start_time": "2021-11-03T19:13:52.542Z"
   },
   {
    "duration": 15,
    "start_time": "2021-11-03T19:13:52.601Z"
   },
   {
    "duration": 51,
    "start_time": "2021-11-03T19:13:52.618Z"
   },
   {
    "duration": 33,
    "start_time": "2021-11-03T19:13:52.671Z"
   },
   {
    "duration": 10,
    "start_time": "2021-11-03T19:13:52.707Z"
   },
   {
    "duration": 55,
    "start_time": "2021-11-03T19:13:52.719Z"
   },
   {
    "duration": 59,
    "start_time": "2021-11-03T19:13:52.776Z"
   },
   {
    "duration": 108,
    "start_time": "2021-11-03T19:13:52.838Z"
   },
   {
    "duration": 78,
    "start_time": "2021-11-03T19:13:52.949Z"
   },
   {
    "duration": 2,
    "start_time": "2021-11-03T19:13:53.030Z"
   },
   {
    "duration": 13,
    "start_time": "2021-11-03T19:13:53.035Z"
   },
   {
    "duration": 26,
    "start_time": "2021-11-03T19:13:53.051Z"
   },
   {
    "duration": 62,
    "start_time": "2021-11-03T19:13:53.080Z"
   },
   {
    "duration": 75,
    "start_time": "2021-11-03T19:13:53.144Z"
   },
   {
    "duration": 7,
    "start_time": "2021-11-03T19:13:53.222Z"
   },
   {
    "duration": 413,
    "start_time": "2021-11-03T19:13:53.231Z"
   },
   {
    "duration": 22,
    "start_time": "2021-11-03T19:13:53.646Z"
   },
   {
    "duration": 3,
    "start_time": "2021-11-03T19:13:53.670Z"
   },
   {
    "duration": 370,
    "start_time": "2021-11-03T19:13:53.675Z"
   },
   {
    "duration": 58,
    "start_time": "2021-11-03T19:13:54.048Z"
   },
   {
    "duration": 45,
    "start_time": "2021-11-03T19:13:54.108Z"
   },
   {
    "duration": 99,
    "start_time": "2021-11-03T19:13:54.155Z"
   },
   {
    "duration": 509,
    "start_time": "2021-11-03T19:13:54.256Z"
   },
   {
    "duration": 66,
    "start_time": "2021-11-03T19:13:54.767Z"
   },
   {
    "duration": 19,
    "start_time": "2021-11-03T19:13:54.836Z"
   },
   {
    "duration": 17,
    "start_time": "2021-11-03T19:13:54.858Z"
   },
   {
    "duration": 15,
    "start_time": "2021-11-03T19:13:54.901Z"
   },
   {
    "duration": 287,
    "start_time": "2021-11-03T19:13:54.918Z"
   },
   {
    "duration": 443,
    "start_time": "2021-11-03T19:13:55.208Z"
   },
   {
    "duration": 350,
    "start_time": "2021-11-03T19:13:55.653Z"
   },
   {
    "duration": 307,
    "start_time": "2021-11-04T07:43:45.877Z"
   },
   {
    "duration": 1152,
    "start_time": "2021-11-04T07:43:57.826Z"
   },
   {
    "duration": 170,
    "start_time": "2021-11-04T07:43:58.980Z"
   },
   {
    "duration": 29,
    "start_time": "2021-11-04T07:43:59.153Z"
   },
   {
    "duration": 4,
    "start_time": "2021-11-04T07:43:59.185Z"
   },
   {
    "duration": 16,
    "start_time": "2021-11-04T07:43:59.191Z"
   },
   {
    "duration": 7,
    "start_time": "2021-11-04T07:43:59.209Z"
   },
   {
    "duration": 32,
    "start_time": "2021-11-04T07:43:59.218Z"
   },
   {
    "duration": 7,
    "start_time": "2021-11-04T07:43:59.252Z"
   },
   {
    "duration": 29,
    "start_time": "2021-11-04T07:43:59.263Z"
   },
   {
    "duration": 20,
    "start_time": "2021-11-04T07:43:59.295Z"
   },
   {
    "duration": 40,
    "start_time": "2021-11-04T07:43:59.317Z"
   },
   {
    "duration": 12,
    "start_time": "2021-11-04T07:43:59.359Z"
   },
   {
    "duration": 24,
    "start_time": "2021-11-04T07:43:59.373Z"
   },
   {
    "duration": 15,
    "start_time": "2021-11-04T07:43:59.399Z"
   },
   {
    "duration": 17,
    "start_time": "2021-11-04T07:43:59.416Z"
   },
   {
    "duration": 21,
    "start_time": "2021-11-04T07:43:59.435Z"
   },
   {
    "duration": 34,
    "start_time": "2021-11-04T07:43:59.458Z"
   },
   {
    "duration": 5,
    "start_time": "2021-11-04T07:43:59.494Z"
   },
   {
    "duration": 24,
    "start_time": "2021-11-04T07:43:59.501Z"
   },
   {
    "duration": 18,
    "start_time": "2021-11-04T07:43:59.527Z"
   },
   {
    "duration": 6,
    "start_time": "2021-11-04T07:43:59.547Z"
   },
   {
    "duration": 20,
    "start_time": "2021-11-04T07:43:59.554Z"
   },
   {
    "duration": 12,
    "start_time": "2021-11-04T07:43:59.576Z"
   },
   {
    "duration": 19,
    "start_time": "2021-11-04T07:43:59.590Z"
   },
   {
    "duration": 31,
    "start_time": "2021-11-04T07:43:59.610Z"
   },
   {
    "duration": 37,
    "start_time": "2021-11-04T07:43:59.642Z"
   },
   {
    "duration": 5,
    "start_time": "2021-11-04T07:43:59.683Z"
   },
   {
    "duration": 13,
    "start_time": "2021-11-04T07:43:59.690Z"
   },
   {
    "duration": 31,
    "start_time": "2021-11-04T07:43:59.705Z"
   },
   {
    "duration": 23,
    "start_time": "2021-11-04T07:43:59.738Z"
   },
   {
    "duration": 23,
    "start_time": "2021-11-04T07:43:59.763Z"
   },
   {
    "duration": 65,
    "start_time": "2021-11-04T07:43:59.788Z"
   },
   {
    "duration": 36,
    "start_time": "2021-11-04T07:43:59.855Z"
   },
   {
    "duration": 14,
    "start_time": "2021-11-04T07:43:59.893Z"
   },
   {
    "duration": 8,
    "start_time": "2021-11-04T07:43:59.909Z"
   },
   {
    "duration": 12,
    "start_time": "2021-11-04T07:43:59.919Z"
   },
   {
    "duration": 27,
    "start_time": "2021-11-04T07:43:59.933Z"
   },
   {
    "duration": 62,
    "start_time": "2021-11-04T07:43:59.962Z"
   },
   {
    "duration": 6,
    "start_time": "2021-11-04T07:44:00.026Z"
   },
   {
    "duration": 193,
    "start_time": "2021-11-04T07:44:00.035Z"
   },
   {
    "duration": 17,
    "start_time": "2021-11-04T07:44:00.230Z"
   },
   {
    "duration": 5,
    "start_time": "2021-11-04T07:44:00.249Z"
   },
   {
    "duration": 219,
    "start_time": "2021-11-04T07:44:00.255Z"
   },
   {
    "duration": 41,
    "start_time": "2021-11-04T07:44:00.476Z"
   },
   {
    "duration": 29,
    "start_time": "2021-11-04T07:44:00.519Z"
   },
   {
    "duration": 67,
    "start_time": "2021-11-04T07:44:00.550Z"
   },
   {
    "duration": 264,
    "start_time": "2021-11-04T07:44:00.619Z"
   },
   {
    "duration": 45,
    "start_time": "2021-11-04T07:44:00.884Z"
   },
   {
    "duration": 15,
    "start_time": "2021-11-04T07:44:00.930Z"
   },
   {
    "duration": 20,
    "start_time": "2021-11-04T07:44:00.947Z"
   },
   {
    "duration": 10,
    "start_time": "2021-11-04T07:44:00.969Z"
   },
   {
    "duration": 199,
    "start_time": "2021-11-04T07:44:00.981Z"
   },
   {
    "duration": 194,
    "start_time": "2021-11-04T07:44:01.183Z"
   },
   {
    "duration": 238,
    "start_time": "2021-11-04T07:44:01.379Z"
   },
   {
    "duration": 9,
    "start_time": "2021-11-04T07:46:59.847Z"
   },
   {
    "duration": 239,
    "start_time": "2021-11-04T12:47:07.617Z"
   },
   {
    "duration": 1092,
    "start_time": "2021-11-04T12:47:18.802Z"
   },
   {
    "duration": 143,
    "start_time": "2021-11-04T12:47:19.896Z"
   },
   {
    "duration": 33,
    "start_time": "2021-11-04T12:47:20.041Z"
   },
   {
    "duration": 5,
    "start_time": "2021-11-04T12:47:20.076Z"
   },
   {
    "duration": 7,
    "start_time": "2021-11-04T12:47:20.082Z"
   },
   {
    "duration": 6,
    "start_time": "2021-11-04T12:47:20.091Z"
   },
   {
    "duration": 26,
    "start_time": "2021-11-04T12:47:20.098Z"
   },
   {
    "duration": 2,
    "start_time": "2021-11-04T12:47:20.127Z"
   },
   {
    "duration": 14,
    "start_time": "2021-11-04T12:47:20.131Z"
   },
   {
    "duration": 11,
    "start_time": "2021-11-04T12:47:20.146Z"
   },
   {
    "duration": 41,
    "start_time": "2021-11-04T12:47:20.158Z"
   },
   {
    "duration": 10,
    "start_time": "2021-11-04T12:47:20.200Z"
   },
   {
    "duration": 9,
    "start_time": "2021-11-04T12:47:20.212Z"
   },
   {
    "duration": 7,
    "start_time": "2021-11-04T12:47:20.223Z"
   },
   {
    "duration": 15,
    "start_time": "2021-11-04T12:47:20.232Z"
   },
   {
    "duration": 12,
    "start_time": "2021-11-04T12:47:20.248Z"
   },
   {
    "duration": 41,
    "start_time": "2021-11-04T12:47:20.262Z"
   },
   {
    "duration": 4,
    "start_time": "2021-11-04T12:47:20.304Z"
   },
   {
    "duration": 13,
    "start_time": "2021-11-04T12:47:20.310Z"
   },
   {
    "duration": 9,
    "start_time": "2021-11-04T12:47:20.324Z"
   },
   {
    "duration": 4,
    "start_time": "2021-11-04T12:47:20.335Z"
   },
   {
    "duration": 7,
    "start_time": "2021-11-04T12:47:20.340Z"
   },
   {
    "duration": 10,
    "start_time": "2021-11-04T12:47:20.350Z"
   },
   {
    "duration": 31,
    "start_time": "2021-11-04T12:47:20.362Z"
   },
   {
    "duration": 11,
    "start_time": "2021-11-04T12:47:20.395Z"
   },
   {
    "duration": 33,
    "start_time": "2021-11-04T12:47:20.407Z"
   },
   {
    "duration": 4,
    "start_time": "2021-11-04T12:47:20.442Z"
   },
   {
    "duration": 12,
    "start_time": "2021-11-04T12:47:20.448Z"
   },
   {
    "duration": 42,
    "start_time": "2021-11-04T12:47:20.461Z"
   },
   {
    "duration": 24,
    "start_time": "2021-11-04T12:47:20.504Z"
   },
   {
    "duration": 17,
    "start_time": "2021-11-04T12:47:20.529Z"
   },
   {
    "duration": 71,
    "start_time": "2021-11-04T12:47:20.547Z"
   },
   {
    "duration": 35,
    "start_time": "2021-11-04T12:47:20.620Z"
   },
   {
    "duration": 2,
    "start_time": "2021-11-04T12:47:20.656Z"
   },
   {
    "duration": 11,
    "start_time": "2021-11-04T12:47:20.660Z"
   },
   {
    "duration": 24,
    "start_time": "2021-11-04T12:47:20.672Z"
   },
   {
    "duration": 25,
    "start_time": "2021-11-04T12:47:20.697Z"
   },
   {
    "duration": 30,
    "start_time": "2021-11-04T12:47:20.724Z"
   },
   {
    "duration": 14,
    "start_time": "2021-11-04T12:47:20.756Z"
   },
   {
    "duration": 187,
    "start_time": "2021-11-04T12:47:20.771Z"
   },
   {
    "duration": 15,
    "start_time": "2021-11-04T12:47:20.959Z"
   },
   {
    "duration": 6,
    "start_time": "2021-11-04T12:47:20.975Z"
   },
   {
    "duration": 187,
    "start_time": "2021-11-04T12:47:20.991Z"
   },
   {
    "duration": 32,
    "start_time": "2021-11-04T12:47:21.179Z"
   },
   {
    "duration": 26,
    "start_time": "2021-11-04T12:47:21.213Z"
   },
   {
    "duration": 62,
    "start_time": "2021-11-04T12:47:21.241Z"
   },
   {
    "duration": 249,
    "start_time": "2021-11-04T12:47:21.305Z"
   },
   {
    "duration": 40,
    "start_time": "2021-11-04T12:47:21.556Z"
   },
   {
    "duration": 12,
    "start_time": "2021-11-04T12:47:21.598Z"
   },
   {
    "duration": 12,
    "start_time": "2021-11-04T12:47:21.612Z"
   },
   {
    "duration": 8,
    "start_time": "2021-11-04T12:47:21.626Z"
   },
   {
    "duration": 183,
    "start_time": "2021-11-04T12:47:21.636Z"
   },
   {
    "duration": 181,
    "start_time": "2021-11-04T12:47:21.820Z"
   },
   {
    "duration": 222,
    "start_time": "2021-11-04T12:47:22.003Z"
   },
   {
    "duration": 280,
    "start_time": "2021-11-04T12:57:45.962Z"
   },
   {
    "duration": 196,
    "start_time": "2021-11-04T12:57:54.904Z"
   },
   {
    "duration": 991,
    "start_time": "2021-11-04T12:58:07.033Z"
   },
   {
    "duration": 128,
    "start_time": "2021-11-04T12:58:08.025Z"
   },
   {
    "duration": 24,
    "start_time": "2021-11-04T12:58:08.155Z"
   },
   {
    "duration": 4,
    "start_time": "2021-11-04T12:58:08.180Z"
   },
   {
    "duration": 7,
    "start_time": "2021-11-04T12:58:08.185Z"
   },
   {
    "duration": 14,
    "start_time": "2021-11-04T12:58:08.193Z"
   },
   {
    "duration": 29,
    "start_time": "2021-11-04T12:58:08.208Z"
   },
   {
    "duration": 2,
    "start_time": "2021-11-04T12:58:08.239Z"
   },
   {
    "duration": 14,
    "start_time": "2021-11-04T12:58:08.242Z"
   },
   {
    "duration": 2,
    "start_time": "2021-11-04T12:58:08.258Z"
   },
   {
    "duration": 30,
    "start_time": "2021-11-04T12:58:08.262Z"
   },
   {
    "duration": 9,
    "start_time": "2021-11-04T12:58:08.293Z"
   },
   {
    "duration": 9,
    "start_time": "2021-11-04T12:58:08.303Z"
   },
   {
    "duration": 9,
    "start_time": "2021-11-04T12:58:08.313Z"
   },
   {
    "duration": 6,
    "start_time": "2021-11-04T12:58:08.324Z"
   },
   {
    "duration": 8,
    "start_time": "2021-11-04T12:58:08.331Z"
   },
   {
    "duration": 19,
    "start_time": "2021-11-04T12:58:08.340Z"
   },
   {
    "duration": 33,
    "start_time": "2021-11-04T12:58:08.360Z"
   },
   {
    "duration": 8,
    "start_time": "2021-11-04T12:58:08.395Z"
   },
   {
    "duration": 9,
    "start_time": "2021-11-04T12:58:08.405Z"
   },
   {
    "duration": 4,
    "start_time": "2021-11-04T12:58:08.415Z"
   },
   {
    "duration": 7,
    "start_time": "2021-11-04T12:58:08.421Z"
   },
   {
    "duration": 12,
    "start_time": "2021-11-04T12:58:08.432Z"
   },
   {
    "duration": 6,
    "start_time": "2021-11-04T12:58:08.445Z"
   },
   {
    "duration": 40,
    "start_time": "2021-11-04T12:58:08.452Z"
   },
   {
    "duration": 26,
    "start_time": "2021-11-04T12:58:08.494Z"
   },
   {
    "duration": 4,
    "start_time": "2021-11-04T12:58:08.521Z"
   },
   {
    "duration": 6,
    "start_time": "2021-11-04T12:58:08.527Z"
   },
   {
    "duration": 30,
    "start_time": "2021-11-04T12:58:08.534Z"
   },
   {
    "duration": 300,
    "start_time": "2021-11-04T12:58:08.565Z"
   },
   {
    "duration": -448,
    "start_time": "2021-11-04T12:58:09.315Z"
   },
   {
    "duration": -452,
    "start_time": "2021-11-04T12:58:09.320Z"
   },
   {
    "duration": -454,
    "start_time": "2021-11-04T12:58:09.323Z"
   },
   {
    "duration": -458,
    "start_time": "2021-11-04T12:58:09.327Z"
   },
   {
    "duration": -461,
    "start_time": "2021-11-04T12:58:09.331Z"
   },
   {
    "duration": -463,
    "start_time": "2021-11-04T12:58:09.334Z"
   },
   {
    "duration": -466,
    "start_time": "2021-11-04T12:58:09.338Z"
   },
   {
    "duration": -469,
    "start_time": "2021-11-04T12:58:09.342Z"
   },
   {
    "duration": -472,
    "start_time": "2021-11-04T12:58:09.346Z"
   },
   {
    "duration": -476,
    "start_time": "2021-11-04T12:58:09.350Z"
   },
   {
    "duration": -479,
    "start_time": "2021-11-04T12:58:09.354Z"
   },
   {
    "duration": -481,
    "start_time": "2021-11-04T12:58:09.357Z"
   },
   {
    "duration": -484,
    "start_time": "2021-11-04T12:58:09.361Z"
   },
   {
    "duration": -487,
    "start_time": "2021-11-04T12:58:09.365Z"
   },
   {
    "duration": -491,
    "start_time": "2021-11-04T12:58:09.369Z"
   },
   {
    "duration": -493,
    "start_time": "2021-11-04T12:58:09.372Z"
   },
   {
    "duration": -496,
    "start_time": "2021-11-04T12:58:09.376Z"
   },
   {
    "duration": -499,
    "start_time": "2021-11-04T12:58:09.380Z"
   },
   {
    "duration": -502,
    "start_time": "2021-11-04T12:58:09.384Z"
   },
   {
    "duration": -505,
    "start_time": "2021-11-04T12:58:09.388Z"
   },
   {
    "duration": -509,
    "start_time": "2021-11-04T12:58:09.393Z"
   },
   {
    "duration": -531,
    "start_time": "2021-11-04T12:58:09.416Z"
   },
   {
    "duration": -536,
    "start_time": "2021-11-04T12:58:09.422Z"
   },
   {
    "duration": -539,
    "start_time": "2021-11-04T12:58:09.426Z"
   },
   {
    "duration": 10,
    "start_time": "2021-11-04T12:58:24.119Z"
   },
   {
    "duration": 1050,
    "start_time": "2021-11-04T12:58:43.774Z"
   },
   {
    "duration": 130,
    "start_time": "2021-11-04T12:58:44.826Z"
   },
   {
    "duration": 26,
    "start_time": "2021-11-04T12:58:44.958Z"
   },
   {
    "duration": 4,
    "start_time": "2021-11-04T12:58:44.985Z"
   },
   {
    "duration": 11,
    "start_time": "2021-11-04T12:58:44.991Z"
   },
   {
    "duration": 27,
    "start_time": "2021-11-04T12:58:45.004Z"
   },
   {
    "duration": 40,
    "start_time": "2021-11-04T12:58:45.033Z"
   },
   {
    "duration": 2,
    "start_time": "2021-11-04T12:58:45.076Z"
   },
   {
    "duration": 30,
    "start_time": "2021-11-04T12:58:45.079Z"
   },
   {
    "duration": 19,
    "start_time": "2021-11-04T12:58:45.111Z"
   },
   {
    "duration": 43,
    "start_time": "2021-11-04T12:58:45.131Z"
   },
   {
    "duration": 9,
    "start_time": "2021-11-04T12:58:45.176Z"
   },
   {
    "duration": 11,
    "start_time": "2021-11-04T12:58:45.187Z"
   },
   {
    "duration": 33,
    "start_time": "2021-11-04T12:58:45.200Z"
   },
   {
    "duration": 15,
    "start_time": "2021-11-04T12:58:45.234Z"
   },
   {
    "duration": 22,
    "start_time": "2021-11-04T12:58:45.250Z"
   },
   {
    "duration": 33,
    "start_time": "2021-11-04T12:58:45.273Z"
   },
   {
    "duration": 18,
    "start_time": "2021-11-04T12:58:45.307Z"
   },
   {
    "duration": 19,
    "start_time": "2021-11-04T12:58:45.327Z"
   },
   {
    "duration": 19,
    "start_time": "2021-11-04T12:58:45.348Z"
   },
   {
    "duration": 15,
    "start_time": "2021-11-04T12:58:45.368Z"
   },
   {
    "duration": 15,
    "start_time": "2021-11-04T12:58:45.385Z"
   },
   {
    "duration": 8,
    "start_time": "2021-11-04T12:58:45.404Z"
   },
   {
    "duration": 12,
    "start_time": "2021-11-04T12:58:45.413Z"
   },
   {
    "duration": 14,
    "start_time": "2021-11-04T12:58:45.426Z"
   },
   {
    "duration": 37,
    "start_time": "2021-11-04T12:58:45.441Z"
   },
   {
    "duration": 4,
    "start_time": "2021-11-04T12:58:45.479Z"
   },
   {
    "duration": 18,
    "start_time": "2021-11-04T12:58:45.485Z"
   },
   {
    "duration": 33,
    "start_time": "2021-11-04T12:58:45.504Z"
   },
   {
    "duration": 8,
    "start_time": "2021-11-04T12:58:45.539Z"
   },
   {
    "duration": 21,
    "start_time": "2021-11-04T12:58:45.548Z"
   },
   {
    "duration": 45,
    "start_time": "2021-11-04T12:58:45.571Z"
   },
   {
    "duration": 36,
    "start_time": "2021-11-04T12:58:45.617Z"
   },
   {
    "duration": 2,
    "start_time": "2021-11-04T12:58:45.655Z"
   },
   {
    "duration": 13,
    "start_time": "2021-11-04T12:58:45.659Z"
   },
   {
    "duration": 25,
    "start_time": "2021-11-04T12:58:45.674Z"
   },
   {
    "duration": 27,
    "start_time": "2021-11-04T12:58:45.700Z"
   },
   {
    "duration": 30,
    "start_time": "2021-11-04T12:58:45.729Z"
   },
   {
    "duration": 4,
    "start_time": "2021-11-04T12:58:45.761Z"
   },
   {
    "duration": 194,
    "start_time": "2021-11-04T12:58:45.767Z"
   },
   {
    "duration": 15,
    "start_time": "2021-11-04T12:58:45.962Z"
   },
   {
    "duration": 15,
    "start_time": "2021-11-04T12:58:45.978Z"
   },
   {
    "duration": 201,
    "start_time": "2021-11-04T12:58:45.995Z"
   },
   {
    "duration": 25,
    "start_time": "2021-11-04T12:58:46.198Z"
   },
   {
    "duration": 31,
    "start_time": "2021-11-04T12:58:46.225Z"
   },
   {
    "duration": 60,
    "start_time": "2021-11-04T12:58:46.258Z"
   },
   {
    "duration": 261,
    "start_time": "2021-11-04T12:58:46.319Z"
   },
   {
    "duration": 39,
    "start_time": "2021-11-04T12:58:46.582Z"
   },
   {
    "duration": 13,
    "start_time": "2021-11-04T12:58:46.622Z"
   },
   {
    "duration": 13,
    "start_time": "2021-11-04T12:58:46.636Z"
   },
   {
    "duration": 10,
    "start_time": "2021-11-04T12:58:46.651Z"
   },
   {
    "duration": 187,
    "start_time": "2021-11-04T12:58:46.662Z"
   },
   {
    "duration": 183,
    "start_time": "2021-11-04T12:58:46.850Z"
   },
   {
    "duration": 226,
    "start_time": "2021-11-04T12:58:47.034Z"
   },
   {
    "duration": 31,
    "start_time": "2021-11-04T13:01:00.623Z"
   },
   {
    "duration": 10,
    "start_time": "2021-11-04T13:01:24.624Z"
   },
   {
    "duration": 14,
    "start_time": "2021-11-04T13:02:38.777Z"
   },
   {
    "duration": 179,
    "start_time": "2021-11-04T13:03:10.683Z"
   },
   {
    "duration": 279,
    "start_time": "2021-11-04T13:03:52.474Z"
   },
   {
    "duration": 25,
    "start_time": "2021-11-04T13:04:08.149Z"
   },
   {
    "duration": 29,
    "start_time": "2021-11-04T13:04:23.415Z"
   },
   {
    "duration": 40,
    "start_time": "2021-11-04T13:04:43.396Z"
   },
   {
    "duration": 1104,
    "start_time": "2021-11-04T13:05:05.110Z"
   },
   {
    "duration": 131,
    "start_time": "2021-11-04T13:05:06.216Z"
   },
   {
    "duration": 24,
    "start_time": "2021-11-04T13:05:06.349Z"
   },
   {
    "duration": 4,
    "start_time": "2021-11-04T13:05:06.375Z"
   },
   {
    "duration": 9,
    "start_time": "2021-11-04T13:05:06.380Z"
   },
   {
    "duration": 7,
    "start_time": "2021-11-04T13:05:06.390Z"
   },
   {
    "duration": 22,
    "start_time": "2021-11-04T13:05:06.399Z"
   },
   {
    "duration": 2,
    "start_time": "2021-11-04T13:05:06.422Z"
   },
   {
    "duration": 10,
    "start_time": "2021-11-04T13:05:06.427Z"
   },
   {
    "duration": 4,
    "start_time": "2021-11-04T13:05:06.438Z"
   },
   {
    "duration": 24,
    "start_time": "2021-11-04T13:05:06.444Z"
   },
   {
    "duration": 9,
    "start_time": "2021-11-04T13:05:06.492Z"
   },
   {
    "duration": 9,
    "start_time": "2021-11-04T13:05:06.503Z"
   },
   {
    "duration": 14,
    "start_time": "2021-11-04T13:05:06.513Z"
   },
   {
    "duration": 9,
    "start_time": "2021-11-04T13:05:06.529Z"
   },
   {
    "duration": 8,
    "start_time": "2021-11-04T13:05:06.539Z"
   },
   {
    "duration": 51,
    "start_time": "2021-11-04T13:05:06.549Z"
   },
   {
    "duration": 4,
    "start_time": "2021-11-04T13:05:06.602Z"
   },
   {
    "duration": 15,
    "start_time": "2021-11-04T13:05:06.608Z"
   },
   {
    "duration": 11,
    "start_time": "2021-11-04T13:05:06.625Z"
   },
   {
    "duration": 5,
    "start_time": "2021-11-04T13:05:06.638Z"
   },
   {
    "duration": 6,
    "start_time": "2021-11-04T13:05:06.644Z"
   },
   {
    "duration": 8,
    "start_time": "2021-11-04T13:05:06.652Z"
   },
   {
    "duration": 6,
    "start_time": "2021-11-04T13:05:06.692Z"
   },
   {
    "duration": 12,
    "start_time": "2021-11-04T13:05:06.699Z"
   },
   {
    "duration": 29,
    "start_time": "2021-11-04T13:05:06.713Z"
   },
   {
    "duration": 4,
    "start_time": "2021-11-04T13:05:06.746Z"
   },
   {
    "duration": 7,
    "start_time": "2021-11-04T13:05:06.752Z"
   },
   {
    "duration": 45,
    "start_time": "2021-11-04T13:05:06.761Z"
   },
   {
    "duration": 8,
    "start_time": "2021-11-04T13:05:06.807Z"
   },
   {
    "duration": 16,
    "start_time": "2021-11-04T13:05:06.817Z"
   },
   {
    "duration": 69,
    "start_time": "2021-11-04T13:05:06.834Z"
   },
   {
    "duration": 36,
    "start_time": "2021-11-04T13:05:06.905Z"
   },
   {
    "duration": 2,
    "start_time": "2021-11-04T13:05:06.943Z"
   },
   {
    "duration": 8,
    "start_time": "2021-11-04T13:05:06.946Z"
   },
   {
    "duration": 17,
    "start_time": "2021-11-04T13:05:06.956Z"
   },
   {
    "duration": 39,
    "start_time": "2021-11-04T13:05:06.974Z"
   },
   {
    "duration": 8,
    "start_time": "2021-11-04T13:05:07.015Z"
   },
   {
    "duration": 6,
    "start_time": "2021-11-04T13:05:07.025Z"
   },
   {
    "duration": 191,
    "start_time": "2021-11-04T13:05:07.032Z"
   },
   {
    "duration": 15,
    "start_time": "2021-11-04T13:05:07.225Z"
   },
   {
    "duration": 8,
    "start_time": "2021-11-04T13:05:07.242Z"
   },
   {
    "duration": 198,
    "start_time": "2021-11-04T13:05:07.251Z"
   },
   {
    "duration": 24,
    "start_time": "2021-11-04T13:05:07.451Z"
   },
   {
    "duration": 38,
    "start_time": "2021-11-04T13:05:07.476Z"
   },
   {
    "duration": 40,
    "start_time": "2021-11-04T13:05:07.516Z"
   },
   {
    "duration": 262,
    "start_time": "2021-11-04T13:05:07.557Z"
   },
   {
    "duration": 33,
    "start_time": "2021-11-04T13:05:07.820Z"
   },
   {
    "duration": 12,
    "start_time": "2021-11-04T13:05:07.855Z"
   },
   {
    "duration": 30,
    "start_time": "2021-11-04T13:05:07.868Z"
   },
   {
    "duration": 9,
    "start_time": "2021-11-04T13:05:07.899Z"
   },
   {
    "duration": 172,
    "start_time": "2021-11-04T13:05:07.909Z"
   },
   {
    "duration": 180,
    "start_time": "2021-11-04T13:05:08.083Z"
   },
   {
    "duration": 222,
    "start_time": "2021-11-04T13:05:08.264Z"
   },
   {
    "duration": 35,
    "start_time": "2021-11-04T13:07:56.868Z"
   },
   {
    "duration": 11,
    "start_time": "2021-11-04T13:08:11.740Z"
   },
   {
    "duration": 8,
    "start_time": "2021-11-04T13:08:19.655Z"
   },
   {
    "duration": 6,
    "start_time": "2021-11-04T13:08:24.796Z"
   },
   {
    "duration": 155,
    "start_time": "2021-11-04T13:08:31.227Z"
   },
   {
    "duration": 173,
    "start_time": "2021-11-04T13:08:39.781Z"
   },
   {
    "duration": 163,
    "start_time": "2021-11-04T13:08:45.386Z"
   },
   {
    "duration": 987,
    "start_time": "2021-11-04T13:12:15.039Z"
   },
   {
    "duration": 129,
    "start_time": "2021-11-04T13:12:16.028Z"
   },
   {
    "duration": 24,
    "start_time": "2021-11-04T13:12:16.159Z"
   },
   {
    "duration": 5,
    "start_time": "2021-11-04T13:12:16.185Z"
   },
   {
    "duration": 7,
    "start_time": "2021-11-04T13:12:16.191Z"
   },
   {
    "duration": 7,
    "start_time": "2021-11-04T13:12:16.200Z"
   },
   {
    "duration": 22,
    "start_time": "2021-11-04T13:12:16.209Z"
   },
   {
    "duration": 2,
    "start_time": "2021-11-04T13:12:16.233Z"
   },
   {
    "duration": 13,
    "start_time": "2021-11-04T13:12:16.237Z"
   },
   {
    "duration": 3,
    "start_time": "2021-11-04T13:12:16.252Z"
   },
   {
    "duration": 52,
    "start_time": "2021-11-04T13:12:16.256Z"
   },
   {
    "duration": 9,
    "start_time": "2021-11-04T13:12:16.309Z"
   },
   {
    "duration": 9,
    "start_time": "2021-11-04T13:12:16.320Z"
   },
   {
    "duration": 8,
    "start_time": "2021-11-04T13:12:16.330Z"
   },
   {
    "duration": 7,
    "start_time": "2021-11-04T13:12:16.339Z"
   },
   {
    "duration": 6,
    "start_time": "2021-11-04T13:12:16.348Z"
   },
   {
    "duration": 50,
    "start_time": "2021-11-04T13:12:16.355Z"
   },
   {
    "duration": 3,
    "start_time": "2021-11-04T13:12:16.407Z"
   },
   {
    "duration": 8,
    "start_time": "2021-11-04T13:12:16.412Z"
   },
   {
    "duration": 9,
    "start_time": "2021-11-04T13:12:16.422Z"
   },
   {
    "duration": 4,
    "start_time": "2021-11-04T13:12:16.432Z"
   },
   {
    "duration": 7,
    "start_time": "2021-11-04T13:12:16.437Z"
   },
   {
    "duration": 7,
    "start_time": "2021-11-04T13:12:16.447Z"
   },
   {
    "duration": 38,
    "start_time": "2021-11-04T13:12:16.456Z"
   },
   {
    "duration": 10,
    "start_time": "2021-11-04T13:12:16.496Z"
   },
   {
    "duration": 26,
    "start_time": "2021-11-04T13:12:16.508Z"
   },
   {
    "duration": 4,
    "start_time": "2021-11-04T13:12:16.535Z"
   },
   {
    "duration": 5,
    "start_time": "2021-11-04T13:12:16.540Z"
   },
   {
    "duration": 53,
    "start_time": "2021-11-04T13:12:16.546Z"
   },
   {
    "duration": 9,
    "start_time": "2021-11-04T13:12:16.600Z"
   },
   {
    "duration": 16,
    "start_time": "2021-11-04T13:12:16.610Z"
   },
   {
    "duration": 68,
    "start_time": "2021-11-04T13:12:16.627Z"
   },
   {
    "duration": 35,
    "start_time": "2021-11-04T13:12:16.697Z"
   },
   {
    "duration": 2,
    "start_time": "2021-11-04T13:12:16.734Z"
   },
   {
    "duration": 14,
    "start_time": "2021-11-04T13:12:16.737Z"
   },
   {
    "duration": 10,
    "start_time": "2021-11-04T13:12:16.753Z"
   },
   {
    "duration": 39,
    "start_time": "2021-11-04T13:12:16.765Z"
   },
   {
    "duration": 7,
    "start_time": "2021-11-04T13:12:16.805Z"
   },
   {
    "duration": 8,
    "start_time": "2021-11-04T13:12:16.814Z"
   },
   {
    "duration": 186,
    "start_time": "2021-11-04T13:12:16.824Z"
   },
   {
    "duration": 13,
    "start_time": "2021-11-04T13:12:17.011Z"
   },
   {
    "duration": 5,
    "start_time": "2021-11-04T13:12:17.026Z"
   },
   {
    "duration": 198,
    "start_time": "2021-11-04T13:12:17.032Z"
   },
   {
    "duration": 24,
    "start_time": "2021-11-04T13:12:17.231Z"
   },
   {
    "duration": 41,
    "start_time": "2021-11-04T13:12:17.257Z"
   },
   {
    "duration": 40,
    "start_time": "2021-11-04T13:12:17.299Z"
   },
   {
    "duration": 255,
    "start_time": "2021-11-04T13:12:17.340Z"
   },
   {
    "duration": 32,
    "start_time": "2021-11-04T13:12:17.596Z"
   },
   {
    "duration": 9,
    "start_time": "2021-11-04T13:12:17.630Z"
   },
   {
    "duration": 9,
    "start_time": "2021-11-04T13:12:17.640Z"
   },
   {
    "duration": 7,
    "start_time": "2021-11-04T13:12:17.651Z"
   },
   {
    "duration": 193,
    "start_time": "2021-11-04T13:12:17.660Z"
   },
   {
    "duration": 166,
    "start_time": "2021-11-04T13:12:17.855Z"
   },
   {
    "duration": 218,
    "start_time": "2021-11-04T13:12:18.023Z"
   }
  ],
  "colab": {
   "name": "DA+. Сборный проект 1. Шаблон (1).ipynb",
   "provenance": []
  },
  "kernelspec": {
   "display_name": "Python 3 (ipykernel)",
   "language": "python",
   "name": "python3"
  },
  "language_info": {
   "codemirror_mode": {
    "name": "ipython",
    "version": 3
   },
   "file_extension": ".py",
   "mimetype": "text/x-python",
   "name": "python",
   "nbconvert_exporter": "python",
   "pygments_lexer": "ipython3",
   "version": "3.9.7"
  },
  "toc": {
   "base_numbering": 1,
   "nav_menu": {},
   "number_sections": true,
   "sideBar": true,
   "skip_h1_title": true,
   "title_cell": "Table of Contents",
   "title_sidebar": "Contents",
   "toc_cell": false,
   "toc_position": {
    "height": "calc(100% - 180px)",
    "left": "10px",
    "top": "150px",
    "width": "240px"
   },
   "toc_section_display": true,
   "toc_window_display": true
  }
 },
 "nbformat": 4,
 "nbformat_minor": 1
}
