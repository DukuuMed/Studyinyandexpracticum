{
 "cells": [
  {
   "cell_type": "markdown",
   "id": "61537acd",
   "metadata": {},
   "source": [
    "<img src=https://kto-ozvuchival.ru/wp-content/uploads/2017/12/kto-ozvuchivaet-toni-starka-na-russkom-800x500.jpg><br>\n",
    "<hr style=\"border: 10px solid green;\" />\n",
    "\n",
    "## <span style=\"color:green\">Финальный комментарий<span>\n",
    "Спасибо за проделанную работу🤝\n",
    "\n",
    "Руслан, спасибо за доработки, всё принято👌\n",
    "    \n",
    "По размеру всё верно: <a href=\"https://monosnap.com/direct/24wd7dE6sufFrGy1DNyiQ2MWIKzLd6\">указываешь</a> размер по высоте и всё работает. По замене источника не сталкивался с проблемами, обычно добавлял новый источник, связывал его с дашбордом и удалял старый.\n",
    "    \n",
    "Желаю дальнейших успехов и отличного настроения🖐\n",
    "\n",
    "Поздравляю, проект принят👍"
   ]
  },
  {
   "cell_type": "markdown",
   "id": "18cb725e",
   "metadata": {},
   "source": [
    "<hr style=\"border: 2px solid green;\" />\n",
    "\n",
    "## Комментарий ревьювера\n",
    "\n",
    "Руслан, привет! \n",
    "\n",
    "🤚Меня зовут, Олег Юрьев, я буду проверять твой проект. Если не против, я буду обращаться к тебе на _ТЫ_ . Если это неприемлемо, обязательно напиши мне в комментариях - мы перейдем на _ВЫ_ .\n",
    "\n",
    "🤝Спасибо, что сдал проект вовремя. Тобой проделана большая работа, молодец! \n",
    "\n",
    "✏️В этой тетрадке ты найдешь мои комментарии.\n",
    "\n",
    "Комментарии будут выделены:\n",
    "\n",
    "<div style=\"border-radius: 15px; box-shadow: 4px 4px 4px; border: solid green 2px; padding: 20px\"> <b>Отличная работа ✅</b><br>\n",
    "    Безупречная работа</div>       \n",
    "<br>\n",
    "<div style=\"border-radius: 15px; box-shadow: 4px 4px 4px; border: solid orange 2px; padding: 20px\"> <b>Что можно улучшить ⚠️</b><br>\n",
    "    Ничего дорабатывать не надо, данные пункты работают нормально, но есть способы улучшить. Несколько таких комментариев допустимы, но более - придется некоторые доработать. Большое кол-во мелких замечаний и помарок сказываются на общем впечатлении от работы.</div>   \n",
    "<br>\n",
    "<div style=\"border-radius: 15px; box-shadow: 4px 4px 4px; border: solid red 2px; padding: 20px\"> <b>Что необходимо доработать ⛔️</b><br>\n",
    "    Такие пункты необходимо исправить в первую очередь, чтобы я смог принять проект.</div>\n",
    " \n",
    "Не удаляй комментарии, так будем следить за динамикой 📈\n",
    "   \n",
    "Давай будем в диалоге - основные цели в диалоге:\n",
    "- обмен опытом (да я тоже учусь у студентов👨‍🎓)\n",
    "- выполнить проект еще лучше\n",
    "- помочь тебе стать аналитиком\n",
    "\n",
    "Поэтому чтобы мне проще было проверять повторно, а тебе контролировать процесс ревью, оставляй свои комментарии и выделяй их. \n",
    "    \n",
    "<div class=\"alert alert-info\" style=\"border:solid blue 2px; padding: 20px\"> <b>Комментарий студента:</b> Например, вот так.</div>\n",
    "   \n",
    "Поехали! :)\n",
    "\n",
    "<hr style=\"border: 2px solid green;\" />"
   ]
  },
  {
   "cell_type": "markdown",
   "id": "bf17074a",
   "metadata": {},
   "source": [
    "## Описание данных"
   ]
  },
  {
   "cell_type": "markdown",
   "id": "cb51ebfc",
   "metadata": {},
   "source": [
    "Таблица **user**:\n",
    "Содержит основную информацию о клиентах.\n",
    "\n",
    " - user_id\tИдентификатор клиента, первичный ключ таблицы\n",
    " - lt_day\tКоличество дней «жизни» клиента\n",
    " - age\tВозраст клиента в годах\n",
    " - gender_segment\tПол клиента (1 – женщина, 0 – мужчина)\n",
    " - os_name\tТип операционной системы\n",
    " - cpe_type_name\tТип устройства\n",
    " - location_id\tИдентификатор домашнего региона клиента, внешний ключ, отсылающий к таблице location\n",
    " - age_gr_id\tИдентификатор возрастного сегмента клиента, внешний ключ, отсылающий к таблице age_segment\n",
    " - tr_gr_id\tИдентификатор сегмента клиента по объёму потребляемого трафика в месяц, внешний ключ, отсылающий к таблице traffic_segment\n",
    " - lt_gr_id\tИдентификатор сегмента клиента по количеству месяцев «жизни», внешний ключ, отсылающий к таблице lifetime_segment\n",
    " - nps_score\tОценка клиента в NPS-опросе (от 1 до 10)\n",
    "\n",
    "Таблица **location**:\n",
    "Справочник территорий, в которых телеком-компания оказывает услуги.\n",
    "\n",
    "- location_id\tИдентификатор записи, первичный ключ\n",
    "- country\tСтрана\n",
    "- city\tГород\n",
    "\n",
    "Таблица **age_segment**:\n",
    "Данные о возрастных сегментах клиентов.\n",
    "\n",
    "- age_gr_id\tИдентификатор сегмента, первичный ключ\n",
    "- bucket_min\tМинимальная граница сегмента\n",
    "- bucket_max\tМаксимальная граница сегмента\n",
    "- title\tНазвание сегмента\n",
    "\n",
    "Таблица **traffic_segment**:\n",
    "Данные о выделяемых сегментах по объёму потребляемого трафика.\n",
    "\n",
    "- tr_gr_id\tИдентификатор сегмента, первичный ключ\n",
    "- bucket_min\tМинимальная граница сегмента\n",
    "- bucket_max\tМаксимальная граница сегмента\n",
    "- title\tНазвание сегмента\n",
    "\n",
    "Таблица **lifetime_segment**:\n",
    "Данные о выделяемых сегментах по количеству месяцев «жизни» клиента — лайфтайму.\n",
    "\n",
    "- lt_gr_id\tИдентификатор сегмента, первичный ключ\n",
    "- bucket_min\tМинимальная граница сегмента\n",
    "- bucket_max\tМаксимальная граница сегмента\n",
    "- title\tНазвание сегмента\n",
    "\n",
    " Чтобы оценить результаты опроса, оценки обычно делят на три группы:\n",
    "- 9-10 баллов — «cторонники» (англ. promoters);\n",
    "- 7-8 баллов — «нейтралы» (англ. passives);\n",
    "- 0-6 баллов — «критики» (англ. detractors).\n",
    "\n",
    "Итоговое значение NPS рассчитывается по формуле: % «сторонников» - % «критиков»."
   ]
  },
  {
   "cell_type": "markdown",
   "id": "d022b9a3",
   "metadata": {},
   "source": [
    "### Соберем данные в датасеты, проверим корректность\n"
   ]
  },
  {
   "cell_type": "code",
   "execution_count": 1,
   "id": "f380eaed",
   "metadata": {
    "scrolled": true,
    "tags": [
     "aa81075c-062f-4de0-b5fe-14c73dc7468e"
    ]
   },
   "outputs": [
    {
     "data": {
      "text/html": [
       "<div>\n",
       "<style scoped>\n",
       "    .dataframe tbody tr th:only-of-type {\n",
       "        vertical-align: middle;\n",
       "    }\n",
       "\n",
       "    .dataframe tbody tr th {\n",
       "        vertical-align: top;\n",
       "    }\n",
       "\n",
       "    .dataframe thead th {\n",
       "        text-align: right;\n",
       "    }\n",
       "</style>\n",
       "<table border=\"1\" class=\"dataframe\">\n",
       "  <thead>\n",
       "    <tr style=\"text-align: right;\">\n",
       "      <th></th>\n",
       "      <th>user_id</th>\n",
       "      <th>lt_day</th>\n",
       "      <th>age</th>\n",
       "      <th>gender_segment</th>\n",
       "      <th>os_name</th>\n",
       "      <th>cpe_type_name</th>\n",
       "      <th>location_id</th>\n",
       "      <th>age_gr_id</th>\n",
       "      <th>tr_gr_id</th>\n",
       "      <th>lt_gr_id</th>\n",
       "      <th>nps_score</th>\n",
       "    </tr>\n",
       "  </thead>\n",
       "  <tbody>\n",
       "    <tr>\n",
       "      <th>0</th>\n",
       "      <td>A001A2</td>\n",
       "      <td>2320</td>\n",
       "      <td>45.0</td>\n",
       "      <td>1.0</td>\n",
       "      <td>ANDROID</td>\n",
       "      <td>SMARTPHONE</td>\n",
       "      <td>55</td>\n",
       "      <td>5</td>\n",
       "      <td>5</td>\n",
       "      <td>8</td>\n",
       "      <td>10</td>\n",
       "    </tr>\n",
       "    <tr>\n",
       "      <th>1</th>\n",
       "      <td>A001WF</td>\n",
       "      <td>2344</td>\n",
       "      <td>53.0</td>\n",
       "      <td>0.0</td>\n",
       "      <td>ANDROID</td>\n",
       "      <td>SMARTPHONE</td>\n",
       "      <td>21</td>\n",
       "      <td>5</td>\n",
       "      <td>5</td>\n",
       "      <td>8</td>\n",
       "      <td>10</td>\n",
       "    </tr>\n",
       "    <tr>\n",
       "      <th>2</th>\n",
       "      <td>A003Q7</td>\n",
       "      <td>467</td>\n",
       "      <td>57.0</td>\n",
       "      <td>0.0</td>\n",
       "      <td>ANDROID</td>\n",
       "      <td>SMARTPHONE</td>\n",
       "      <td>28</td>\n",
       "      <td>6</td>\n",
       "      <td>9</td>\n",
       "      <td>6</td>\n",
       "      <td>10</td>\n",
       "    </tr>\n",
       "  </tbody>\n",
       "</table>\n",
       "</div>"
      ],
      "text/plain": [
       "  user_id  lt_day   age  gender_segment  os_name cpe_type_name  location_id  \\\n",
       "0  A001A2    2320  45.0             1.0  ANDROID    SMARTPHONE           55   \n",
       "1  A001WF    2344  53.0             0.0  ANDROID    SMARTPHONE           21   \n",
       "2  A003Q7     467  57.0             0.0  ANDROID    SMARTPHONE           28   \n",
       "\n",
       "   age_gr_id  tr_gr_id  lt_gr_id  nps_score  \n",
       "0          5         5         8         10  \n",
       "1          5         5         8         10  \n",
       "2          6         9         6         10  "
      ]
     },
     "execution_count": 1,
     "metadata": {},
     "output_type": "execute_result"
    }
   ],
   "source": [
    "import pandas as pd\n",
    "from sqlalchemy import create_engine\n",
    "\n",
    "path_to_db = '/datasets/telecomm_csi.db' # путь к файлу\n",
    "engine = create_engine(f'sqlite:///{path_to_db}', echo = False)\n",
    "\n",
    "query = \"\"\"\n",
    "SELECT * FROM user \n",
    "\"\"\"\n",
    "\n",
    "user = pd.read_sql(query, engine)\n",
    "user.head(3)"
   ]
  },
  {
   "cell_type": "code",
   "execution_count": 2,
   "id": "b7c8e9e6",
   "metadata": {
    "scrolled": true
   },
   "outputs": [
    {
     "data": {
      "text/html": [
       "<div>\n",
       "<style scoped>\n",
       "    .dataframe tbody tr th:only-of-type {\n",
       "        vertical-align: middle;\n",
       "    }\n",
       "\n",
       "    .dataframe tbody tr th {\n",
       "        vertical-align: top;\n",
       "    }\n",
       "\n",
       "    .dataframe thead th {\n",
       "        text-align: right;\n",
       "    }\n",
       "</style>\n",
       "<table border=\"1\" class=\"dataframe\">\n",
       "  <thead>\n",
       "    <tr style=\"text-align: right;\">\n",
       "      <th></th>\n",
       "      <th>location_id</th>\n",
       "      <th>city</th>\n",
       "      <th>country</th>\n",
       "    </tr>\n",
       "  </thead>\n",
       "  <tbody>\n",
       "    <tr>\n",
       "      <th>0</th>\n",
       "      <td>1</td>\n",
       "      <td>Архангельск</td>\n",
       "      <td>Россия</td>\n",
       "    </tr>\n",
       "    <tr>\n",
       "      <th>1</th>\n",
       "      <td>2</td>\n",
       "      <td>Астрахань</td>\n",
       "      <td>Россия</td>\n",
       "    </tr>\n",
       "    <tr>\n",
       "      <th>2</th>\n",
       "      <td>3</td>\n",
       "      <td>Балашиха</td>\n",
       "      <td>Россия</td>\n",
       "    </tr>\n",
       "  </tbody>\n",
       "</table>\n",
       "</div>"
      ],
      "text/plain": [
       "   location_id         city country\n",
       "0            1  Архангельск  Россия\n",
       "1            2    Астрахань  Россия\n",
       "2            3     Балашиха  Россия"
      ]
     },
     "execution_count": 2,
     "metadata": {},
     "output_type": "execute_result"
    }
   ],
   "source": [
    "query = \"\"\"\n",
    "SELECT * FROM location \n",
    "\"\"\"\n",
    "\n",
    "location = pd.read_sql(query, engine)\n",
    "location.head(3)"
   ]
  },
  {
   "cell_type": "code",
   "execution_count": 3,
   "id": "a501d06a",
   "metadata": {},
   "outputs": [
    {
     "data": {
      "text/html": [
       "<div>\n",
       "<style scoped>\n",
       "    .dataframe tbody tr th:only-of-type {\n",
       "        vertical-align: middle;\n",
       "    }\n",
       "\n",
       "    .dataframe tbody tr th {\n",
       "        vertical-align: top;\n",
       "    }\n",
       "\n",
       "    .dataframe thead th {\n",
       "        text-align: right;\n",
       "    }\n",
       "</style>\n",
       "<table border=\"1\" class=\"dataframe\">\n",
       "  <thead>\n",
       "    <tr style=\"text-align: right;\">\n",
       "      <th></th>\n",
       "      <th>age_gr_id</th>\n",
       "      <th>bucket_min</th>\n",
       "      <th>bucket_max</th>\n",
       "      <th>title</th>\n",
       "    </tr>\n",
       "  </thead>\n",
       "  <tbody>\n",
       "    <tr>\n",
       "      <th>0</th>\n",
       "      <td>1</td>\n",
       "      <td>NaN</td>\n",
       "      <td>15.0</td>\n",
       "      <td>01 до 16</td>\n",
       "    </tr>\n",
       "    <tr>\n",
       "      <th>1</th>\n",
       "      <td>2</td>\n",
       "      <td>16.0</td>\n",
       "      <td>24.0</td>\n",
       "      <td>02 16-24</td>\n",
       "    </tr>\n",
       "    <tr>\n",
       "      <th>2</th>\n",
       "      <td>3</td>\n",
       "      <td>25.0</td>\n",
       "      <td>34.0</td>\n",
       "      <td>03 25-34</td>\n",
       "    </tr>\n",
       "  </tbody>\n",
       "</table>\n",
       "</div>"
      ],
      "text/plain": [
       "   age_gr_id  bucket_min  bucket_max     title\n",
       "0          1         NaN        15.0  01 до 16\n",
       "1          2        16.0        24.0  02 16-24\n",
       "2          3        25.0        34.0  03 25-34"
      ]
     },
     "execution_count": 3,
     "metadata": {},
     "output_type": "execute_result"
    }
   ],
   "source": [
    "query = \"\"\"\n",
    "SELECT * FROM age_segment \n",
    "\"\"\"\n",
    "\n",
    "age_segment = pd.read_sql(query, engine)\n",
    "age_segment.head(3)"
   ]
  },
  {
   "cell_type": "code",
   "execution_count": 4,
   "id": "8f4acbb9",
   "metadata": {},
   "outputs": [
    {
     "data": {
      "text/html": [
       "<div>\n",
       "<style scoped>\n",
       "    .dataframe tbody tr th:only-of-type {\n",
       "        vertical-align: middle;\n",
       "    }\n",
       "\n",
       "    .dataframe tbody tr th {\n",
       "        vertical-align: top;\n",
       "    }\n",
       "\n",
       "    .dataframe thead th {\n",
       "        text-align: right;\n",
       "    }\n",
       "</style>\n",
       "<table border=\"1\" class=\"dataframe\">\n",
       "  <thead>\n",
       "    <tr style=\"text-align: right;\">\n",
       "      <th></th>\n",
       "      <th>tr_gr_id</th>\n",
       "      <th>bucket_min</th>\n",
       "      <th>bucket_max</th>\n",
       "      <th>title</th>\n",
       "    </tr>\n",
       "  </thead>\n",
       "  <tbody>\n",
       "    <tr>\n",
       "      <th>0</th>\n",
       "      <td>1</td>\n",
       "      <td>0.00</td>\n",
       "      <td>0.00</td>\n",
       "      <td>01 0</td>\n",
       "    </tr>\n",
       "    <tr>\n",
       "      <th>1</th>\n",
       "      <td>2</td>\n",
       "      <td>0.00</td>\n",
       "      <td>0.01</td>\n",
       "      <td>01 0-0.01</td>\n",
       "    </tr>\n",
       "    <tr>\n",
       "      <th>2</th>\n",
       "      <td>3</td>\n",
       "      <td>0.01</td>\n",
       "      <td>0.10</td>\n",
       "      <td>02 0.01-0.1</td>\n",
       "    </tr>\n",
       "  </tbody>\n",
       "</table>\n",
       "</div>"
      ],
      "text/plain": [
       "   tr_gr_id  bucket_min  bucket_max        title\n",
       "0         1        0.00        0.00         01 0\n",
       "1         2        0.00        0.01    01 0-0.01\n",
       "2         3        0.01        0.10  02 0.01-0.1"
      ]
     },
     "execution_count": 4,
     "metadata": {},
     "output_type": "execute_result"
    }
   ],
   "source": [
    "query = \"\"\"\n",
    "SELECT * FROM traffic_segment \n",
    "\"\"\"\n",
    "\n",
    "traffic_segment = pd.read_sql(query, engine)\n",
    "traffic_segment.head(3)"
   ]
  },
  {
   "cell_type": "code",
   "execution_count": 5,
   "id": "ab1faddb",
   "metadata": {
    "scrolled": true
   },
   "outputs": [
    {
     "data": {
      "text/html": [
       "<div>\n",
       "<style scoped>\n",
       "    .dataframe tbody tr th:only-of-type {\n",
       "        vertical-align: middle;\n",
       "    }\n",
       "\n",
       "    .dataframe tbody tr th {\n",
       "        vertical-align: top;\n",
       "    }\n",
       "\n",
       "    .dataframe thead th {\n",
       "        text-align: right;\n",
       "    }\n",
       "</style>\n",
       "<table border=\"1\" class=\"dataframe\">\n",
       "  <thead>\n",
       "    <tr style=\"text-align: right;\">\n",
       "      <th></th>\n",
       "      <th>lt_gr_id</th>\n",
       "      <th>bucket_min</th>\n",
       "      <th>bucket_max</th>\n",
       "      <th>title</th>\n",
       "    </tr>\n",
       "  </thead>\n",
       "  <tbody>\n",
       "    <tr>\n",
       "      <th>0</th>\n",
       "      <td>1</td>\n",
       "      <td>1.0</td>\n",
       "      <td>1.0</td>\n",
       "      <td>01 1</td>\n",
       "    </tr>\n",
       "    <tr>\n",
       "      <th>1</th>\n",
       "      <td>2</td>\n",
       "      <td>2.0</td>\n",
       "      <td>2.0</td>\n",
       "      <td>02 2</td>\n",
       "    </tr>\n",
       "    <tr>\n",
       "      <th>2</th>\n",
       "      <td>3</td>\n",
       "      <td>3.0</td>\n",
       "      <td>3.0</td>\n",
       "      <td>03 3</td>\n",
       "    </tr>\n",
       "  </tbody>\n",
       "</table>\n",
       "</div>"
      ],
      "text/plain": [
       "   lt_gr_id  bucket_min  bucket_max title\n",
       "0         1         1.0         1.0  01 1\n",
       "1         2         2.0         2.0  02 2\n",
       "2         3         3.0         3.0  03 3"
      ]
     },
     "execution_count": 5,
     "metadata": {},
     "output_type": "execute_result"
    }
   ],
   "source": [
    "query = \"\"\"\n",
    "SELECT * FROM lifetime_segment \n",
    "\"\"\"\n",
    "\n",
    "lifetime_segment = pd.read_sql(query, engine)\n",
    "lifetime_segment.head(3)"
   ]
  },
  {
   "cell_type": "markdown",
   "id": "1c793463",
   "metadata": {},
   "source": [
    "### Подготовим сводную таблицу для дальнейшей работы в дашборде"
   ]
  },
  {
   "cell_type": "code",
   "execution_count": 6,
   "id": "f93ce50d",
   "metadata": {},
   "outputs": [
    {
     "data": {
      "text/html": [
       "<div>\n",
       "<style scoped>\n",
       "    .dataframe tbody tr th:only-of-type {\n",
       "        vertical-align: middle;\n",
       "    }\n",
       "\n",
       "    .dataframe tbody tr th {\n",
       "        vertical-align: top;\n",
       "    }\n",
       "\n",
       "    .dataframe thead th {\n",
       "        text-align: right;\n",
       "    }\n",
       "</style>\n",
       "<table border=\"1\" class=\"dataframe\">\n",
       "  <thead>\n",
       "    <tr style=\"text-align: right;\">\n",
       "      <th></th>\n",
       "      <th>user_id</th>\n",
       "      <th>lt_day</th>\n",
       "      <th>is_new</th>\n",
       "      <th>age</th>\n",
       "      <th>gender_segment</th>\n",
       "      <th>os_name</th>\n",
       "      <th>cpe_type_name</th>\n",
       "      <th>country</th>\n",
       "      <th>city</th>\n",
       "      <th>age_segment</th>\n",
       "      <th>traffic_segment</th>\n",
       "      <th>lifetime_segment</th>\n",
       "      <th>nps_score</th>\n",
       "      <th>nps_group</th>\n",
       "    </tr>\n",
       "  </thead>\n",
       "  <tbody>\n",
       "    <tr>\n",
       "      <th>0</th>\n",
       "      <td>A001A2</td>\n",
       "      <td>2320</td>\n",
       "      <td>не новый</td>\n",
       "      <td>45.0</td>\n",
       "      <td>женщина</td>\n",
       "      <td>ANDROID</td>\n",
       "      <td>SMARTPHONE</td>\n",
       "      <td>Россия</td>\n",
       "      <td>Уфа</td>\n",
       "      <td>45-54</td>\n",
       "      <td>1-5</td>\n",
       "      <td>36+</td>\n",
       "      <td>10</td>\n",
       "      <td>сторонники</td>\n",
       "    </tr>\n",
       "    <tr>\n",
       "      <th>1</th>\n",
       "      <td>A001WF</td>\n",
       "      <td>2344</td>\n",
       "      <td>не новый</td>\n",
       "      <td>53.0</td>\n",
       "      <td>мужчина</td>\n",
       "      <td>ANDROID</td>\n",
       "      <td>SMARTPHONE</td>\n",
       "      <td>Россия</td>\n",
       "      <td>Киров</td>\n",
       "      <td>45-54</td>\n",
       "      <td>1-5</td>\n",
       "      <td>36+</td>\n",
       "      <td>10</td>\n",
       "      <td>сторонники</td>\n",
       "    </tr>\n",
       "    <tr>\n",
       "      <th>2</th>\n",
       "      <td>A003Q7</td>\n",
       "      <td>467</td>\n",
       "      <td>не новый</td>\n",
       "      <td>57.0</td>\n",
       "      <td>мужчина</td>\n",
       "      <td>ANDROID</td>\n",
       "      <td>SMARTPHONE</td>\n",
       "      <td>Россия</td>\n",
       "      <td>Москва</td>\n",
       "      <td>55-64</td>\n",
       "      <td>20-25</td>\n",
       "      <td>13-24</td>\n",
       "      <td>10</td>\n",
       "      <td>сторонники</td>\n",
       "    </tr>\n",
       "    <tr>\n",
       "      <th>3</th>\n",
       "      <td>A004TB</td>\n",
       "      <td>4190</td>\n",
       "      <td>не новый</td>\n",
       "      <td>44.0</td>\n",
       "      <td>женщина</td>\n",
       "      <td>IOS</td>\n",
       "      <td>SMARTPHONE</td>\n",
       "      <td>Россия</td>\n",
       "      <td>РостовнаДону</td>\n",
       "      <td>35-44</td>\n",
       "      <td>0.1-1</td>\n",
       "      <td>36+</td>\n",
       "      <td>10</td>\n",
       "      <td>сторонники</td>\n",
       "    </tr>\n",
       "    <tr>\n",
       "      <th>4</th>\n",
       "      <td>A004XT</td>\n",
       "      <td>1163</td>\n",
       "      <td>не новый</td>\n",
       "      <td>24.0</td>\n",
       "      <td>мужчина</td>\n",
       "      <td>ANDROID</td>\n",
       "      <td>SMARTPHONE</td>\n",
       "      <td>Россия</td>\n",
       "      <td>Рязань</td>\n",
       "      <td>16-24</td>\n",
       "      <td>5-10</td>\n",
       "      <td>36+</td>\n",
       "      <td>10</td>\n",
       "      <td>сторонники</td>\n",
       "    </tr>\n",
       "  </tbody>\n",
       "</table>\n",
       "</div>"
      ],
      "text/plain": [
       "  user_id  lt_day    is_new   age gender_segment  os_name cpe_type_name  \\\n",
       "0  A001A2    2320  не новый  45.0        женщина  ANDROID    SMARTPHONE   \n",
       "1  A001WF    2344  не новый  53.0        мужчина  ANDROID    SMARTPHONE   \n",
       "2  A003Q7     467  не новый  57.0        мужчина  ANDROID    SMARTPHONE   \n",
       "3  A004TB    4190  не новый  44.0        женщина      IOS    SMARTPHONE   \n",
       "4  A004XT    1163  не новый  24.0        мужчина  ANDROID    SMARTPHONE   \n",
       "\n",
       "  country          city age_segment traffic_segment lifetime_segment  \\\n",
       "0  Россия           Уфа       45-54             1-5              36+   \n",
       "1  Россия         Киров       45-54             1-5              36+   \n",
       "2  Россия        Москва       55-64           20-25            13-24   \n",
       "3  Россия  РостовнаДону       35-44           0.1-1              36+   \n",
       "4  Россия        Рязань       16-24            5-10              36+   \n",
       "\n",
       "   nps_score   nps_group  \n",
       "0         10  сторонники  \n",
       "1         10  сторонники  \n",
       "2         10  сторонники  \n",
       "3         10  сторонники  \n",
       "4         10  сторонники  "
      ]
     },
     "execution_count": 6,
     "metadata": {},
     "output_type": "execute_result"
    }
   ],
   "source": [
    "query = \"\"\"SELECT USER.user_id,\n",
    "       USER.lt_day,\n",
    "       CASE\n",
    "           WHEN USER.lt_day <= 365 THEN 'новый'\n",
    "           WHEN USER.lt_day > 365 THEN 'не новый'\n",
    "       END AS is_new,\n",
    "       USER.age,\n",
    "       CASE \n",
    "           WHEN USER.gender_segment = 1 THEN 'женщина'\n",
    "           WHEN USER.gender_segment = 0 THEN 'мужчина'\n",
    "       END AS gender_segment,\n",
    "       USER.os_name,\n",
    "       USER.cpe_type_name,\n",
    "       location.country,\n",
    "       location.city,\n",
    "       substr(age_segment.title, 3) AS age_segment,\n",
    "       substr(traffic_segment.title,3) AS traffic_segment,\n",
    "       substr(lifetime_segment.title, 3) AS lifetime_segment,\n",
    "       USER.nps_score,\n",
    "       CASE \n",
    "           WHEN USER.nps_score < 7 THEN 'критики'\n",
    "           WHEN USER.nps_score > 6 AND USER.nps_score < 9 THEN 'нейтралы'\n",
    "           WHEN USER.nps_score > 8 THEN 'сторонники'\n",
    "       END AS nps_group\n",
    "FROM USER AS USER\n",
    "JOIN location AS location ON USER.location_id = location.location_id\n",
    "JOIN age_segment AS age_segment ON USER.age_gr_id = age_segment.age_gr_id\n",
    "JOIN traffic_segment AS traffic_segment ON USER.tr_gr_id = traffic_segment.tr_gr_id\n",
    "JOIN lifetime_segment AS lifetime_segment ON USER.lt_gr_id = lifetime_segment.lt_gr_id ;\"\"\"\n",
    "df= pd.read_sql(query,engine)\n",
    "df.head(5)"
   ]
  },
  {
   "cell_type": "code",
   "execution_count": 7,
   "id": "422d5cc9",
   "metadata": {},
   "outputs": [],
   "source": [
    "df.to_csv('telecomm_csi_tableau.csv', index=False)"
   ]
  },
  {
   "cell_type": "markdown",
   "id": "d7e693a9",
   "metadata": {},
   "source": [
    "### Укажите ссылку на дашборд на сайте Tableau Public:"
   ]
  },
  {
   "cell_type": "markdown",
   "id": "6aa38543",
   "metadata": {},
   "source": [
    "https://public.tableau.com/app/profile/ruslan.kozhushko/viz/_16522020502930/Dashboard?publish=yes"
   ]
  },
  {
   "cell_type": "markdown",
   "id": "6b8a86c4",
   "metadata": {},
   "source": [
    "### Укажите ссылку на pdf-файл с презентацией:"
   ]
  },
  {
   "cell_type": "markdown",
   "id": "72e7ef94",
   "metadata": {},
   "source": [
    "https://disk.yandex.ru/i/-9ybhNuiu0Et0w\n"
   ]
  },
  {
   "cell_type": "markdown",
   "id": "03cf145f",
   "metadata": {},
   "source": [
    "<hr style=\"border: 2px solid green;\" />\n",
    "\n",
    "## Общий комментарий\n",
    "Спасибо за проделанную работу🤝\n",
    "\n",
    "Руслан, ниже комментарии по разделам проекта:\n",
    "\n",
    "**Pipeline**\n",
    "\n",
    "SQL запрос сформирован отлично!\n",
    "\n",
    "\n",
    "💡Улучшения: можно заметить, что наименования сегментов составные - номер группы + диапазон значений, это не очень удобно для восприятия и анализа. Чтобы поправить этот момент, можно выделить только диапазон, в этом поможет функция <a href=\"https://www.sqlitetutorial.net/sqlite-functions/sqlite-substr/\">substr</a>\n",
    "\n",
    "\n",
    "**Dash**\n",
    "\n",
    "Дашборд в целом выполнен хорошо, но уровень NPS представлен слабо, только общим индикатором - то есть сложно анализировать отдельные сегменты пользователей, постоянно переключая фильтры и запоминая. Предлагаю решение:\n",
    "- сформировать сводную таблицу с тепловой картой в ячейках которой будет уровень NPS для определенной группы. [Пример](https://datastudio.google.com/reporting/159580d9-84f8-4fe4-a8e9-cf42b127c367)\n",
    "\n",
    "ps: не обязательно стараться упаковать дашборд на один экран. Дашборд вплоне может иметь скролл вниз или несколько вкладок\n",
    "\n",
    "\n",
    "**Slides**\n",
    "\n",
    "Презентация выполнена хорошо. Есть ряд вопросов:\n",
    "- слайд 5, тут или путаница или непонимание: 52% и 17% - это доли отдельно сторонников и критиков во всей выборке, но эти цифры не имеют отношения к NPS. Это категории на которые делятся пользователи, но основе пропорций которых вычисляется NPS\n",
    "\n",
    "Также следует добавить в презентацию:\n",
    "- источники данных \n",
    "\n",
    "Александр Богачев в книге _Графики, которые убеждают всех_ так описывает указание источников:\n",
    "```\n",
    "Всегда указывайте источники ваших данных. Без них ценность и доверие к вашему графику резко снижается. Когда читатель не может проверить данные, ему сложно вам поверить.\n",
    "Если вы сами провели часть расчетов, то вполне можете написать: «Данные Росстата + собственные расчеты автора».\n",
    "После того, как вы указали источник, отвечайте за данные. Кто-то действительно может пойти и проверить.\n",
    "```\n",
    "\n",
    "[Пример в нижем правом углу](https://docs.google.com/presentation/d/1Y_zrOZQp6O-1Jzx0cWZFdYOGxKzpkFDQkXD6r8WBYQ8/edit?usp=sharing)\n",
    "\n",
    "- слайд с общими выводами. Его можно построить следующим образом:\n",
    "    - краткий обзор выполненных работ (выполнили, сделали, рассчитали)\n",
    "    - основные выводы (ответы на вопросы поставленные перед проектом)\n",
    "    - рекомендации (если они (рекомендации) возможны)\n",
    "\n",
    "Исправляй и отправляй на проверку🛠"
   ]
  },
  {
   "cell_type": "markdown",
   "id": "c23d35f4",
   "metadata": {},
   "source": [
    "<div class=\"alert alert-info\" style=\"border:solid blue 2px; padding: 20px\"> <b>Комментарий студента:</b> Привет! Спасибо за проверку и подсказки! запрос поправил. Попытался заменить файл для таблею, просто положив в папку новый с тем же названием, таблею  подтягивает данные только в раздел Data source, но не подтягивает их на листы. Попытался добавить новый дата сурс, в итоге весь таблею слетел( подскажи как делать в будущем замену источника правильно? Потому что у меня слетел вообще весь дашборд((( Пришлось заново собирать, я собрал часть по которой есть вопросы, с твоего позволения. \n",
    "    С размером дашборда попробовал поиграться но ничего особо толкового не вышло. Как я понл - надо минмимульный и максимальный размер задавать одинаковый?\n",
    "    Презентацию тоже переделал, добавил выводы и подпись про источник.\n",
    "</div>"
   ]
  },
  {
   "cell_type": "markdown",
   "id": "45d35406",
   "metadata": {},
   "source": [
    "Ссылка на новую презентацию https://disk.yandex.ru/d/7v5yBhyJVZVGRQ\n",
    "Ссылка на новый дашборд https://public.tableau.com/app/profile/ruslan.kozhushko/viz/_16522020502930/Dashboard?publish=yes"
   ]
  },
  {
   "cell_type": "code",
   "execution_count": null,
   "id": "26398f22",
   "metadata": {},
   "outputs": [],
   "source": []
  }
 ],
 "metadata": {
  "ExecuteTimeLog": [
   {
    "duration": 752,
    "start_time": "2021-10-03T17:40:52.731Z"
   },
   {
    "duration": 20,
    "start_time": "2021-10-03T17:40:53.486Z"
   },
   {
    "duration": 4,
    "start_time": "2021-10-03T17:41:04.638Z"
   },
   {
    "duration": 461,
    "start_time": "2021-10-03T17:41:04.912Z"
   },
   {
    "duration": 284,
    "start_time": "2021-10-03T17:41:05.376Z"
   },
   {
    "duration": 574,
    "start_time": "2021-10-06T07:55:05.029Z"
   },
   {
    "duration": 6,
    "start_time": "2021-10-06T07:55:05.605Z"
   },
   {
    "duration": 3,
    "start_time": "2021-10-06T07:55:14.685Z"
   },
   {
    "duration": 406,
    "start_time": "2021-10-06T07:55:15.522Z"
   },
   {
    "duration": 67,
    "start_time": "2021-10-06T07:55:15.929Z"
   },
   {
    "duration": 840,
    "start_time": "2021-10-07T07:54:04.647Z"
   },
   {
    "duration": 10,
    "start_time": "2021-10-07T07:54:05.490Z"
   },
   {
    "duration": 4,
    "start_time": "2021-10-07T07:54:05.544Z"
   },
   {
    "duration": 391,
    "start_time": "2021-10-07T07:54:06.237Z"
   },
   {
    "duration": 293,
    "start_time": "2021-10-07T07:54:06.654Z"
   },
   {
    "duration": 741,
    "start_time": "2022-05-09T15:21:24.804Z"
   },
   {
    "duration": 19,
    "start_time": "2022-05-09T15:21:25.548Z"
   },
   {
    "duration": 26,
    "start_time": "2022-05-09T15:21:25.570Z"
   },
   {
    "duration": 312,
    "start_time": "2022-05-09T15:21:25.599Z"
   },
   {
    "duration": 208,
    "start_time": "2022-05-09T15:21:25.914Z"
   },
   {
    "duration": 1266,
    "start_time": "2022-05-10T10:00:59.815Z"
   },
   {
    "duration": 596,
    "start_time": "2022-05-10T10:02:50.572Z"
   },
   {
    "duration": 638,
    "start_time": "2022-05-10T10:03:06.442Z"
   },
   {
    "duration": 1235,
    "start_time": "2022-05-10T10:05:48.142Z"
   },
   {
    "duration": 103,
    "start_time": "2022-05-10T10:05:49.380Z"
   },
   {
    "duration": 0,
    "start_time": "2022-05-10T10:05:49.486Z"
   },
   {
    "duration": 0,
    "start_time": "2022-05-10T10:05:49.493Z"
   },
   {
    "duration": 0,
    "start_time": "2022-05-10T10:05:49.495Z"
   },
   {
    "duration": 4544,
    "start_time": "2022-05-10T10:07:17.335Z"
   },
   {
    "duration": 577,
    "start_time": "2022-05-10T10:07:59.892Z"
   },
   {
    "duration": 568,
    "start_time": "2022-05-10T10:08:46.023Z"
   },
   {
    "duration": 580,
    "start_time": "2022-05-10T10:08:58.708Z"
   },
   {
    "duration": 574,
    "start_time": "2022-05-10T10:10:44.090Z"
   },
   {
    "duration": 220,
    "start_time": "2022-05-10T10:24:58.250Z"
   },
   {
    "duration": 218,
    "start_time": "2022-05-10T10:33:22.391Z"
   },
   {
    "duration": 1591,
    "start_time": "2022-05-10T10:41:21.672Z"
   },
   {
    "duration": 0,
    "start_time": "2022-05-10T10:41:23.267Z"
   },
   {
    "duration": 0,
    "start_time": "2022-05-10T10:41:23.269Z"
   },
   {
    "duration": 0,
    "start_time": "2022-05-10T10:41:23.271Z"
   },
   {
    "duration": 0,
    "start_time": "2022-05-10T10:41:23.273Z"
   },
   {
    "duration": 0,
    "start_time": "2022-05-10T10:41:23.275Z"
   },
   {
    "duration": 0,
    "start_time": "2022-05-10T10:41:23.277Z"
   },
   {
    "duration": 0,
    "start_time": "2022-05-10T10:41:23.278Z"
   },
   {
    "duration": 1249,
    "start_time": "2022-05-10T10:44:12.745Z"
   },
   {
    "duration": 4560,
    "start_time": "2022-05-10T10:44:13.997Z"
   },
   {
    "duration": 570,
    "start_time": "2022-05-10T10:44:18.559Z"
   },
   {
    "duration": 590,
    "start_time": "2022-05-10T10:44:19.132Z"
   },
   {
    "duration": 562,
    "start_time": "2022-05-10T10:44:19.725Z"
   },
   {
    "duration": 223,
    "start_time": "2022-05-10T10:44:20.289Z"
   },
   {
    "duration": 0,
    "start_time": "2022-05-10T10:44:20.514Z"
   },
   {
    "duration": 271,
    "start_time": "2022-05-10T10:48:30.087Z"
   },
   {
    "duration": 373,
    "start_time": "2022-05-10T10:49:02.584Z"
   },
   {
    "duration": 193,
    "start_time": "2022-05-10T10:55:59.045Z"
   },
   {
    "duration": 196,
    "start_time": "2022-05-10T10:56:04.525Z"
   },
   {
    "duration": 329,
    "start_time": "2022-05-10T10:56:07.975Z"
   },
   {
    "duration": 199,
    "start_time": "2022-05-10T10:56:17.539Z"
   },
   {
    "duration": 216,
    "start_time": "2022-05-10T10:56:41.820Z"
   },
   {
    "duration": 215,
    "start_time": "2022-05-10T10:56:49.035Z"
   },
   {
    "duration": 4514,
    "start_time": "2022-05-10T11:04:46.389Z"
   },
   {
    "duration": 4493,
    "start_time": "2022-05-10T11:04:52.327Z"
   },
   {
    "duration": 7324,
    "start_time": "2022-05-10T11:05:53.778Z"
   },
   {
    "duration": 5207,
    "start_time": "2022-05-10T11:06:10.666Z"
   },
   {
    "duration": 576,
    "start_time": "2022-05-10T11:07:04.725Z"
   },
   {
    "duration": 573,
    "start_time": "2022-05-10T11:08:28.309Z"
   },
   {
    "duration": 579,
    "start_time": "2022-05-10T11:08:31.308Z"
   },
   {
    "duration": 571,
    "start_time": "2022-05-10T11:08:34.137Z"
   },
   {
    "duration": 199,
    "start_time": "2022-05-10T11:08:55.648Z"
   },
   {
    "duration": 214,
    "start_time": "2022-05-10T11:09:21.273Z"
   },
   {
    "duration": 213,
    "start_time": "2022-05-10T11:09:42.973Z"
   },
   {
    "duration": 8,
    "start_time": "2022-05-10T11:10:10.215Z"
   },
   {
    "duration": 10685,
    "start_time": "2022-05-10T11:21:52.317Z"
   },
   {
    "duration": 7033,
    "start_time": "2022-05-10T11:24:15.704Z"
   },
   {
    "duration": 7087,
    "start_time": "2022-05-10T11:24:28.965Z"
   },
   {
    "duration": 6405,
    "start_time": "2022-05-10T11:24:45.198Z"
   },
   {
    "duration": 8679,
    "start_time": "2022-05-11T16:44:39.464Z"
   },
   {
    "duration": 519,
    "start_time": "2022-05-11T16:44:48.146Z"
   },
   {
    "duration": 510,
    "start_time": "2022-05-11T16:44:48.667Z"
   },
   {
    "duration": 526,
    "start_time": "2022-05-11T16:44:49.181Z"
   },
   {
    "duration": 521,
    "start_time": "2022-05-11T16:44:49.710Z"
   },
   {
    "duration": 6955,
    "start_time": "2022-05-11T16:44:50.233Z"
   },
   {
    "duration": 6292,
    "start_time": "2022-05-11T16:44:57.190Z"
   },
   {
    "duration": 46,
    "start_time": "2022-05-12T08:54:08.312Z"
   },
   {
    "duration": 10216,
    "start_time": "2022-05-12T08:54:16.691Z"
   },
   {
    "duration": 540,
    "start_time": "2022-05-12T08:54:26.909Z"
   },
   {
    "duration": 562,
    "start_time": "2022-05-12T08:54:27.450Z"
   },
   {
    "duration": 529,
    "start_time": "2022-05-12T08:54:28.014Z"
   },
   {
    "duration": 564,
    "start_time": "2022-05-12T08:54:28.545Z"
   },
   {
    "duration": 5008,
    "start_time": "2022-05-12T08:54:29.111Z"
   },
   {
    "duration": 4869,
    "start_time": "2022-05-12T08:54:34.121Z"
   },
   {
    "duration": 5140,
    "start_time": "2022-05-12T08:55:06.849Z"
   },
   {
    "duration": 5288,
    "start_time": "2022-05-12T08:55:55.730Z"
   },
   {
    "duration": 4534,
    "start_time": "2022-05-12T08:56:21.822Z"
   },
   {
    "duration": 3340,
    "start_time": "2022-05-13T04:28:16.201Z"
   },
   {
    "duration": 169,
    "start_time": "2022-05-13T04:28:19.543Z"
   },
   {
    "duration": 164,
    "start_time": "2022-05-13T04:28:19.714Z"
   },
   {
    "duration": 158,
    "start_time": "2022-05-13T04:28:19.879Z"
   },
   {
    "duration": 164,
    "start_time": "2022-05-13T04:28:20.039Z"
   },
   {
    "duration": 4772,
    "start_time": "2022-05-13T04:28:20.205Z"
   },
   {
    "duration": 3294,
    "start_time": "2022-05-13T04:28:24.978Z"
   }
  ],
  "kernelspec": {
   "display_name": "Python 3 (ipykernel)",
   "language": "python",
   "name": "python3"
  },
  "language_info": {
   "codemirror_mode": {
    "name": "ipython",
    "version": 3
   },
   "file_extension": ".py",
   "mimetype": "text/x-python",
   "name": "python",
   "nbconvert_exporter": "python",
   "pygments_lexer": "ipython3",
   "version": "3.9.7"
  },
  "toc": {
   "base_numbering": 1,
   "nav_menu": {},
   "number_sections": true,
   "sideBar": true,
   "skip_h1_title": true,
   "title_cell": "Table of Contents",
   "title_sidebar": "Contents",
   "toc_cell": false,
   "toc_position": {},
   "toc_section_display": true,
   "toc_window_display": false
  }
 },
 "nbformat": 4,
 "nbformat_minor": 5
}
