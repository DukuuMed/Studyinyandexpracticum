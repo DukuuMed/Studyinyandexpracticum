{
 "cells": [
  {
   "cell_type": "code",
   "execution_count": 4,
   "metadata": {},
   "outputs": [
    {
     "ename": "SyntaxError",
     "evalue": "invalid syntax (81582420.py, line 1)",
     "output_type": "error",
     "traceback": [
      "\u001b[0;36m  File \u001b[0;32m\"/tmp/ipykernel_54/81582420.py\"\u001b[0;36m, line \u001b[0;32m1\u001b[0m\n\u001b[0;31m    <div class=\"alert alert-success\"; style=\"border-left: 7px solid green\">\u001b[0m\n\u001b[0m    ^\u001b[0m\n\u001b[0;31mSyntaxError\u001b[0m\u001b[0;31m:\u001b[0m invalid syntax\n"
     ]
    }
   ],
   "source": [
    "<div class=\"alert alert-success\"; style=\"border-left: 7px solid green\">\n",
    "<h3>✔ Комментарий ревьюера V.2 </h3>\n",
    "\n",
    "Спасибо, что поправил и прокомментировал, удачи в следующих спринтах :)\n",
    "</div>"
   ]
  },
  {
   "cell_type": "code",
   "execution_count": null,
   "metadata": {},
   "outputs": [],
   "source": [
    "<div class=\"alert alert-success\"; style=\"border-left: 7px solid green\">\n",
    "<h3>✔ Комментарий ревьюера</h3>\n",
    "    \n",
    "Тут текст    \n",
    "</div>    "
   ]
  },
  {
   "cell_type": "markdown",
   "metadata": {},
   "source": [
    "# <div class=\"alert alert-success\">\n",
    "<h2> Комментарий ревьюера</h2>\n",
    "    \n",
    "Привет! Меня зовут Алексей Тюрин, я буду делать ревью твоей работы. Давай будем общаться на «ты».\n",
    "\n",
    "У тебя хорошая, аккуратная работа 👍. В ней всё здорово, я её вернул, чтобы у тебя была возможность посмотреть комментарии и задать вопросы, если есть. Можно разве что попробовать доработать желтые, но это по желанию. Если желания нет и вопросов тоже, можешь заслать работу обратно и я приму :)\n",
    "\n",
    "---\n",
    "Комментарии делятся на 3 группы:\n",
    "    \n",
    "Зелёным цветом отмечены комментарии, либо подчёркивающие удачные решения, либо содержащие какую-то дополнительную информацию или советы, они формально не требуют правки, но правки приветствуются. Выделены они так:\n",
    "\n",
    "<div class=\"alert alert-success\"; style=\"border-left: 7px solid green\">\n",
    "<h3>✔ Комментарий ревьюера</h3>\n",
    "    \n",
    "Тут текст    \n",
    "</div>    \n",
    "\n",
    "Жёлтым цветом выделены правки, которые желательны:\n",
    "\n",
    "<div class=\"alert alert-warning\"; style=\"border-left: 7px solid yellow\" >\n",
    "<h3>!! Комментарий ревьюера</h3>\n",
    "    \n",
    "Тут текст    \n",
    "</div>    \n",
    "\n",
    "Красным выделены правки, которые обязательны\n",
    "    \n",
    "<div class=\"alert alert-danger\"; style=\"border-left: 7px solid red\">\n",
    "<h3>👀 Комментарий ревьюера</h3>\n",
    "    \n",
    "Тут текст    \n",
    "</div>    \n",
    "    \n",
    "Давай работать над проектом в диалоге: если ты **что-то меняешь** в проекте по моим рекомендациям — **пиши об этом**. Выбери для своих комментариев какой-то заметный цвет, так мне будет легче отследить изменения. Пожалуйста, **не перемещай, не изменяй и не удаляй мои комментарии**. Всё это поможет выполнить повторную проверку твоего проекта оперативнее. Если оставляешь комментарии на какой-то итерации ревью, пиши что-то вроде `комментарий студента V.{номер итерации}`\n",
    "</div>\n",
    "\n",
    "Цвет можно сделать, например, так\n",
    "\n",
    "<div class = \"alert alert-info\" style=\"border-left: 7px solid blue\">\n",
    "<h3>Комментарий студента</h3>\n",
    "Ревьюер душнила :)\n",
    "</div>\n",
    "\n",
    "Или так:\n",
    "    \n",
    "<div class=\"alert alert-info\" style=\"background:#ffdbf1;color:#2e00ab;border-left:7px solid #2e00ab\">\n",
    "<h3>Комментарий студента </h3>\n",
    "    ...\n",
    "</div>"
   ]
  },
  {
   "cell_type": "markdown",
   "metadata": {},
   "source": [
    "# Исследование \"Рынок заведений общественного питания Москвы\"\n",
    "\n",
    "Задача: Сделать общий вывод и дать рекомендации о виде заведения, количестве посадочных мест, а также районе расположения, чтобы инвесторы могли оценить эффективность и принять решение. Прокомментировать возможность развития сети и дать свои рекомендации. Подготовить презентацию в pdf.\n"
   ]
  },
  {
   "cell_type": "markdown",
   "metadata": {},
   "source": [
    "## Загрузим библиотеки"
   ]
  },
  {
   "cell_type": "code",
   "execution_count": null,
   "metadata": {},
   "outputs": [],
   "source": [
    "import pandas as pd\n",
    "import numpy as np\n",
    "import seaborn as sns\n",
    "import matplotlib.pyplot as plt\n",
    "import plotly.express as px\n",
    "from plotly import graph_objects as go"
   ]
  },
  {
   "cell_type": "markdown",
   "metadata": {},
   "source": [
    "## Изучим файл -  проверим его на наличие дубликатов, пропусков, соответствие типам данных а также правильность выгрузки. Изучим имеющиеся данные и подготовим их к последующему анализу"
   ]
  },
  {
   "cell_type": "code",
   "execution_count": null,
   "metadata": {},
   "outputs": [],
   "source": [
    "data = pd.read_csv('/datasets/rest_data.csv')\n",
    "data.info()"
   ]
  },
  {
   "cell_type": "raw",
   "metadata": {},
   "source": [
    "Таблица rest_data:\n",
    "id — идентификатор объекта;\n",
    "object_name — название объекта общественного питания;\n",
    "chain — сетевой ресторан;\n",
    "object_type — тип объекта общественного питания;\n",
    "address — адрес;\n",
    "number — количество посадочных мест."
   ]
  },
  {
   "cell_type": "code",
   "execution_count": null,
   "metadata": {},
   "outputs": [],
   "source": [
    "data.head()"
   ]
  },
  {
   "cell_type": "markdown",
   "metadata": {},
   "source": [
    "Пропусков не обнаружено, данные выгружены корректно. Проверим на дубликаты и корректность типов объектов:"
   ]
  },
  {
   "cell_type": "code",
   "execution_count": null,
   "metadata": {
    "scrolled": true
   },
   "outputs": [],
   "source": [
    "print('Дубликатов в исходной таблице:')\n",
    "print(format(data.duplicated().sum()))\n",
    "print()\n",
    "\n",
    "print('Типы объектов:')\n",
    "print()\n",
    "print(format(data['object_type'].value_counts()))"
   ]
  },
  {
   "cell_type": "markdown",
   "metadata": {},
   "source": [
    "Типы объектов указаны корректно, дубликатов не обнаружено. Возможно, будут вопросы к названиям самих заведений, поскольку они могут повторяться или быть записаны неверно. Учитывая, что полных дубликатов в таблице нет, в рамках данного исследования не будем уделять этому внимание и приступим к анализу."
   ]
  },
  {
   "cell_type": "markdown",
   "metadata": {},
   "source": [
    "<div class=\"alert alert-success\"; style=\"border-left: 7px solid green\">\n",
    "<h3>✔ Комментарий ревьюера</h3>\n",
    "\n",
    "Перед тем как смотреть на дубликаты, можно заметить, что как минимум названия написаны разным регистром, т.е. лучше привести к одному, а как максимум написаны в разнобой, тут уже необязательно, но можно попробовать привести всё к одному виду (это также будет полезно, т.к. далее надо группировать заведения по сетям), типа макдональс, макдоналдс, mcdonalds $\\to$ макдоналдс . Тут можно либо руками, либо поиграться с метриками похожести слов https://ru.wikipedia.org/wiki/%D0%A0%D0%B0%D1%81%D1%81%D1%82%D0%BE%D1%8F%D0%BD%D0%B8%D0%B5_%D0%9B%D0%B5%D0%B2%D0%B5%D0%BD%D1%88%D1%82%D0%B5%D0%B9%D0%BD%D0%B0 \n",
    "    \n",
    "Для способа с вики кажется достаточным положить цену замены русской буквы на аналогичную английскую в 0 и убрать стоп-слова вроде названия типа заведения в названии. Также нужно составить список всех названий сетей, с которым будем матчить название из датафрейма, его можно либо где-то извне собрать, либо заполнить итеративно, пользуясь также редакторским расстоянием, т.е. добавлять название из столбца `object_name` в множество уникальных названия, только если оно не похоже ни на одно из уже присутствующих и не добавлять, если есть похожие\n",
    "    \n",
    "    \n",
    "    \n",
    "Ещё тут есть уникальный столбец `id`, поэтому с ним бессмысленно искать дубликаты, зато можно поискать без него. Такой столбец часто автоинкрементируется в реляционных базах данных, даже если вставляется уже формально существующая запись\n",
    "</div>"
   ]
  },
  {
   "cell_type": "markdown",
   "metadata": {},
   "source": [
    "## Анализ данных"
   ]
  },
  {
   "cell_type": "markdown",
   "metadata": {},
   "source": [
    "### Соотношение видов объектов общественного питания по количеству\n"
   ]
  },
  {
   "cell_type": "code",
   "execution_count": null,
   "metadata": {},
   "outputs": [],
   "source": [
    "#Для удобства построим гистограмму\n",
    "object_types = data.groupby('object_type', as_index=False).agg({'object_name':'count'}).sort_values(by='object_name', ascending=False)\n",
    "object_types['percent'] = (object_types['object_name']/object_types['object_name'].sum()*100).round(1).astype('str') + '%'\n",
    "\n",
    "fig = px.bar(object_types, y='object_name', x='object_type', text='percent', color='object_type', width=900, height=550)\n",
    "fig.update_xaxes(tickangle=45)\n",
    "fig.update_layout(\n",
    "    title='Соотношение видов объектов общественного питания по количеству',\n",
    "    xaxis_title=\"Тип объекта\",\n",
    "    yaxis_title=\"Количество\")\n",
    "fig.update_traces(textposition='outside')\n",
    "fig.show()"
   ]
  },
  {
   "cell_type": "markdown",
   "metadata": {},
   "source": [
    "Практически 40% типов объектов это кафе, 17% - столовые и 15% рестораны."
   ]
  },
  {
   "cell_type": "markdown",
   "metadata": {},
   "source": [
    "<div class=\"alert alert-success\"; style=\"border-left: 7px solid green\">\n",
    "<h3>✔ Комментарий ревьюера</h3>\n",
    "\n",
    "Хороший график, только легенда в таком виде выглядит лишней и можно в подписях перенести слова через `'<br>'`, подписи меняются так: https://plotly.com/python/tick-formatting/\n",
    "    \n",
    "    \n",
    "Ниже тоже всё здорово, итерироваться по `trace'ам` можно через `foreach` https://plotly.com/python/creating-and-updating-figures/#:~:text=Figure%20With%20for_each_trace()%22)-,fig.for_each_trace(,-lambda%20trace%3A%20trace\n",
    "    \n",
    "Ещё график с легендой довольно много места занимает, поэтому можно легненду подвинуть, либо убрать, подписав дольки. Чтобы подписи иметь внутри, а проценты снаружи или наоборот, есть такой трюк:https://community.plotly.com/t/text-position-inside-for-label-and-outside-for-value-pie-chart/8952\n",
    "    \n",
    "   \n",
    "</div>"
   ]
  },
  {
   "cell_type": "markdown",
   "metadata": {},
   "source": [
    "### Соотношение сетевых и несетевых заведений по количеству"
   ]
  },
  {
   "cell_type": "code",
   "execution_count": null,
   "metadata": {},
   "outputs": [],
   "source": [
    "# Построим круговую диаграмму, чтобы панять соотношение\n",
    "fig = go.Figure(data=go.Pie(labels=data['chain'].value_counts().reset_index()['index'], values=data['chain'].value_counts()))\n",
    "fig.update_layout(\n",
    "    title={\n",
    "        'text':'Соотношение сетевых и несетевых заведений по количеству',\n",
    "        'y':0.9,\n",
    "        'x':0.48})\n",
    "for trace in fig.data:\n",
    "    trace['labels']=['Несетевые', 'Сетевые']\n",
    "fig.show()"
   ]
  },
  {
   "cell_type": "markdown",
   "metadata": {},
   "source": [
    "Сетевых заведений от общего только 20% (2968), несетевые составляют 80% (12398)."
   ]
  },
  {
   "cell_type": "code",
   "execution_count": null,
   "metadata": {
    "scrolled": true
   },
   "outputs": [],
   "source": [
    "# Сгруппируем данные по типу объектов.\n",
    "type_data = (data\n",
    "             .groupby('object_type')\n",
    "             .agg({'id': 'count'})\n",
    "             .sort_values(by='id', ascending = False)\n",
    "             .reset_index()\n",
    "            )\n",
    "# Добавим идентификатор, общим данным по сетевым и не сетевым заведениям.\n",
    "type_data['chain'] = 'все'\n",
    "# Сгруппируем данные по виду сетевой-не сетевой и типу объектов.\n",
    "group_type_chain_data = data.groupby(['chain', 'object_type']).agg({'id':'count'}).reset_index()\n",
    "# Добавим понятные идентификаторы\n",
    "group_type_chain_data['chain'] = group_type_chain_data['chain'].replace('да', 'сетевые')\n",
    "group_type_chain_data['chain'] = group_type_chain_data['chain'].replace('нет', 'не сетевые')\n",
    "# Объединим полученные таблицы\n",
    "type_data = type_data.append(group_type_chain_data, sort=True)\n",
    "type_data.head()"
   ]
  },
  {
   "cell_type": "code",
   "execution_count": null,
   "metadata": {},
   "outputs": [],
   "source": [
    "# Посмотрим на гистограмме соотношение сетевых и несетевых по типам обектов\n",
    "fig = px.bar(type_data, y='id', x='object_type', color='chain', barmode='group', \n",
    "             labels={'id': 'Количество бъектов', 'object_type': ''}, \n",
    "             title='Cоотношение типов объектов общественного питания по количеству')\n",
    "fig.update_xaxes(tickangle=45)\n",
    "fig.show()"
   ]
  },
  {
   "cell_type": "markdown",
   "metadata": {},
   "source": [
    "<div class=\"alert alert-success\"; style=\"border-left: 7px solid green\">\n",
    "<h3>✔ Комментарий ревьюера</h3>\n",
    "\n",
    "Тоже можно перенести слова в подписях\n",
    "</div>"
   ]
  },
  {
   "cell_type": "markdown",
   "metadata": {},
   "source": [
    "### Определим для какого вида объекта общественного питания характерно сетевое распространение"
   ]
  },
  {
   "cell_type": "code",
   "execution_count": null,
   "metadata": {},
   "outputs": [],
   "source": [
    "# Заменим значения в столбце chain  на логические\n",
    "def to_logical_values(x):\n",
    "    if x=='да':\n",
    "        return True\n",
    "    elif x=='нет':\n",
    "        return False\n",
    "data['chain'] = data['chain'].apply(to_logical_values)"
   ]
  },
  {
   "cell_type": "code",
   "execution_count": null,
   "metadata": {},
   "outputs": [],
   "source": [
    "chain_object_types = data[data['chain']==True].groupby('object_type', as_index=False).agg({'object_name':'count'}).sort_values(by='object_name', ascending=False)\n",
    "chain_object_types = chain_object_types.merge(object_types[['object_type', 'object_name']], \n",
    "                                              left_on='object_type', right_on='object_type')\n",
    "\n",
    "chain_object_types.columns=['object_type', 'chain_objects', 'all_objects']\n",
    "chain_object_types['percent'] = (chain_object_types['chain_objects'] / chain_object_types['chain_objects'].sum()*100).round(1).astype('str')+'%'\n",
    "chain_object_types['percent_of_type'] = (chain_object_types['chain_objects'] / chain_object_types['all_objects']*100).round(2)\n",
    "chain_object_types['percent_of_type_text'] = chain_object_types['percent_of_type'].astype('str')+'%'"
   ]
  },
  {
   "cell_type": "code",
   "execution_count": 2,
   "metadata": {
    "scrolled": true
   },
   "outputs": [
    {
     "ename": "NameError",
     "evalue": "name 'px' is not defined",
     "output_type": "error",
     "traceback": [
      "\u001b[0;31m---------------------------------------------------------------------------\u001b[0m",
      "\u001b[0;31mNameError\u001b[0m                                 Traceback (most recent call last)",
      "\u001b[0;32m/tmp/ipykernel_54/2632487328.py\u001b[0m in \u001b[0;36m<module>\u001b[0;34m\u001b[0m\n\u001b[0;32m----> 1\u001b[0;31m fig = px.bar(chain_object_types, x='object_type', y='chain_objects', \n\u001b[0m\u001b[1;32m      2\u001b[0m              width = 900, height = 550, color='object_type', text='percent')\n\u001b[1;32m      3\u001b[0m \u001b[0mfig\u001b[0m\u001b[0;34m.\u001b[0m\u001b[0mupdate_xaxes\u001b[0m\u001b[0;34m(\u001b[0m\u001b[0mtickangle\u001b[0m\u001b[0;34m=\u001b[0m\u001b[0;36m45\u001b[0m\u001b[0;34m)\u001b[0m\u001b[0;34m\u001b[0m\u001b[0;34m\u001b[0m\u001b[0m\n\u001b[1;32m      4\u001b[0m fig.update_layout(\n\u001b[1;32m      5\u001b[0m     \u001b[0mtitle\u001b[0m\u001b[0;34m=\u001b[0m\u001b[0;34m'Соотношение видов СЕТЕВЫХ объектов общественного питания по количеству'\u001b[0m\u001b[0;34m,\u001b[0m\u001b[0;34m\u001b[0m\u001b[0;34m\u001b[0m\u001b[0m\n",
      "\u001b[0;31mNameError\u001b[0m: name 'px' is not defined"
     ]
    }
   ],
   "source": [
    "fig = px.bar(chain_object_types, x='object_type', y='chain_objects', \n",
    "             width = 900, height = 550, color='object_type', text='percent')\n",
    "fig.update_xaxes(tickangle=45)\n",
    "fig.update_layout(\n",
    "    title='Соотношение видов СЕТЕВЫХ объектов общественного питания по количеству',\n",
    "    xaxis_title=\"Тип объекта\",\n",
    "    yaxis_title=\"Количество\")\n",
    "fig.update_traces(textposition='outside')\n",
    "fig.show()"
   ]
  },
  {
   "cell_type": "markdown",
   "metadata": {},
   "source": [
    "Больше всего сетевых объектов среди кафе (47%, предприятий быстрого обслуживания (27%) и ресторанов (18.3%). Доля остальных типов объектов остается очень маленькой."
   ]
  },
  {
   "cell_type": "markdown",
   "metadata": {},
   "source": [
    "<div class=\"alert alert-success\"; style=\"border-left: 7px solid green\">\n",
    "<h3>✔ Комментарий ревьюера</h3>\n",
    "\n",
    "Всё верно, нас интересовали именно доли, которые ниже\n",
    "   \n",
    "</div>"
   ]
  },
  {
   "cell_type": "markdown",
   "metadata": {},
   "source": [
    "Изучим, какую долю от всех объектов составляют сетевые объекты по типам."
   ]
  },
  {
   "cell_type": "code",
   "execution_count": null,
   "metadata": {},
   "outputs": [],
   "source": [
    "fig = px.bar(chain_object_types.sort_values(by='percent_of_type', ascending = False), \n",
    "             x='object_type', y='percent_of_type', width = 900, height = 550, color='object_type', \n",
    "             text='percent_of_type_text')\n",
    "fig.update_xaxes(tickangle=45)\n",
    "fig.update_layout(\n",
    "    title='Доля СЕТЕВЫХ объектов от всех объектов общественного питания (по типам)',\n",
    "    xaxis_title=\"Тип объекта\",\n",
    "    yaxis_title=\"% заведений\")\n",
    "fig.update_traces(textposition='outside')\n",
    "fig.show()"
   ]
  },
  {
   "cell_type": "markdown",
   "metadata": {},
   "source": [
    "Вывод - сетевое распространение характерно для предприятий быстрого обслуживания (41%), для магазинов (29%), для ресторанов (24%) и кафе (23%)."
   ]
  },
  {
   "cell_type": "markdown",
   "metadata": {},
   "source": [
    "### Изучим, что характерно для сетевых заведений: много заведений с небольшим числом посадочных мест в каждом или мало заведений с большим количеством посадочных мест."
   ]
  },
  {
   "cell_type": "code",
   "execution_count": null,
   "metadata": {},
   "outputs": [],
   "source": [
    "#Загрузим дополнительные библиотеки для проведения исследования\n",
    "from scipy import stats\n",
    "from numpy import median\n",
    "\n",
    "chain_objects = data[data['chain']==True].groupby('object_name').agg({'object_name':'count', 'number':'median'})\n",
    "chain_objects.columns = ['objects', 'median_number']\n",
    "plt.figure(figsize=(6,6))\n",
    "plt.scatter(chain_objects['median_number'], chain_objects['objects'])\n",
    "plt.xlabel('Медианное кол-во посадочных мест')\n",
    "plt.ylabel('Кол-во объектов в сети')\n",
    "plt.title('Совместное распределение количества сетевых заведений \\nи их медианного количества посадочных мест', fontsize=12)\n",
    "#Добавим для наглядности линии среза\n",
    "plt.axhline(np.percentile(chain_objects['objects'], 90), linestyle='--', color='black')\n",
    "plt.axvline(np.percentile(chain_objects['median_number'], 90), linestyle='--', color='black')\n",
    "plt.text(170,10, '90% заведений ниже этой линии')\n",
    "plt.text(135,100, '90% заведений левее этой линии')\n",
    "plt.show()\n"
   ]
  },
  {
   "cell_type": "code",
   "execution_count": null,
   "metadata": {},
   "outputs": [],
   "source": [
    "#выясним среднее значение количества посадочных мест и среднее количество заведений(адресов) для 90% сетевых заведений\n",
    "print('Среднее количество посадочных мест:',format(int(np.percentile(chain_objects['median_number'], 90))))\n",
    "print('Среднее количество объектов:',format(int(np.percentile(chain_objects['objects'], 90))))\n"
   ]
  },
  {
   "cell_type": "markdown",
   "metadata": {},
   "source": [
    "С помощью графика мы увидели, что среди сетевых заведений мало заведений с большим количеством посадочных мест. В 90% сетей не больше 130 посадочных мест и 6 объектов в среднем. Соответственно, много заведений с небольшим числом посадочных мест - более верный вариант изначальной гипотезы.\n"
   ]
  },
  {
   "cell_type": "markdown",
   "metadata": {},
   "source": [
    "<div class=\"alert alert-warning\"; style=\"border-left: 7px solid yellow\" >\n",
    "<h3>!! Комментарий ревьюера</h3>\n",
    "    \n",
    "В левом нижнем углу не 90% заведений, а чуть меньше, т.к. это пересечение. Также выше ты вообще говоря не анализируешь число заведений в сетях. Чтобы чуть точнее ответить на вопрос, можно его переформулировать\n",
    "\n",
    "\n",
    "Если взять случайное сетевое заведение, то вероятность какого события выше?\n",
    "<li>Наткнуться на сеть с <b>большим</b> числом посадочных мест и <b>небольшим</b> числом заведений в сети</li>\n",
    "<li>Наткнуться на сеть с <b>небольшим</b> числом посадочных мест и <b>большим</b> числом заведений в сети</li>\n",
    "<li>Наткнуться на сеть с <b>небольшим</b> числом посадочных мест и <b>небольшим</b> числом заведений в сети</li>\n",
    "<li>Наткнуться на сеть с <b>большим</b> числом посадочных мест и <b>большим</b> числом заведений в сети</li>\n",
    "\n",
    "Чтобы в таком виде на него ответить, нужно формально определить, какое число заведений в сети и число посадочным мест считать большим, а какое небольшим и разбить сети на 4 группы выше. Далее останется просто посмотреть в какой группе больше заведений\n",
    "</div>  "
   ]
  },
  {
   "cell_type": "markdown",
   "metadata": {},
   "source": [
    "<div class = \"alert alert-info\" style=\"border-left: 7px solid blue\">\n",
    "<h3>Комментарий студента</h3>\n",
    "Согласен. Выше определили уже средние значения посадочных и заведений в сети, поэтому ниже попробовал разбить на категории :)\n",
    "</div>"
   ]
  },
  {
   "cell_type": "code",
   "execution_count": null,
   "metadata": {},
   "outputs": [],
   "source": [
    "# Отсортируем значения в таблице по убыванию\n",
    "chain_objects.sort_values(by = 'objects', ascending = False).reset_index()"
   ]
  },
  {
   "cell_type": "code",
   "execution_count": null,
   "metadata": {},
   "outputs": [],
   "source": [
    "# Разделим сетевые заведения на 4 группы и посмотрим, в какой группе больше всего объектов.\n",
    "def chain_category(row):\n",
    "    objects_count = row['objects']\n",
    "    objects_median = row['median_number']\n",
    "    try:\n",
    "        if objects_count < 6 and objects_median < 130:\n",
    "            return 'Сеть с небольшим числом посадочных мест и небольшим числом заведений в сети'\n",
    "        elif objects_count < 6 and objects_median > 130 :\n",
    "            return 'Сеть с небольшим числом посадочных мест и большим числом заведений в сети'\n",
    "        elif objects_count > 6 and objects_median < 130 :\n",
    "            return 'сеть с большим числом посадочных мест и небольшим числом заведений в сети'\n",
    "        elif objects_count > 6 and objects_median > 130 :\n",
    "            return 'сеть с большим числом посадочных мест и большим числом заведений в сети'\n",
    "    except:\n",
    "        'Что-то пошло не так'\n",
    "\n",
    "# Посмотрим на количество и распределение\n",
    "chain_objects['chain_category'] = chain_objects.apply(chain_category, axis = 1) #категоризуем сетевые обекты с помощью функции  \n",
    "print(chain_objects['chain_category'].value_counts())\n",
    "print()\n",
    "print('В процентном соотношении это:')\n",
    "print((chain_objects['chain_category'].value_counts()/chain_objects['chain_category'].value_counts().sum()*100).round())\n"
   ]
  },
  {
   "cell_type": "markdown",
   "metadata": {},
   "source": [
    "<div class=\"alert alert-success\"; style=\"border-left: 7px solid green\">\n",
    "<h3>✔ Комментарий ревьюера V.2</h3>\n",
    "\n",
    "👍 Разбивать можно через `pd.cut`: https://pandas.pydata.org/docs/reference/api/pandas.cut.html\n",
    "    \n",
    "А какое исключение хочется поймать? Твоя строка с ` 'что-то пошло не так'` ничего не делает, ниже пример\n",
    "</div>"
   ]
  },
  {
   "cell_type": "code",
   "execution_count": null,
   "metadata": {},
   "outputs": [],
   "source": [
    "# Код ревьюера\n",
    "\n",
    "try:\n",
    "    raise Exception('Mur')\n",
    "except Exception as e:\n",
    "    print(repr(e))\n",
    "    'что-то пошло не так'"
   ]
  },
  {
   "cell_type": "markdown",
   "metadata": {},
   "source": [
    "Соответственно, среди сетевых заведений больше всего формата с небольшим числом посадочных мест и небольшим числом заведений в сети (81%)."
   ]
  },
  {
   "cell_type": "markdown",
   "metadata": {},
   "source": [
    "### Для каждого вида объекта общественного питания опишите среднее количество посадочных мест. Какой вид предоставляет в среднем самое большое количество посадочных мест? Постройте графики."
   ]
  },
  {
   "cell_type": "code",
   "execution_count": null,
   "metadata": {},
   "outputs": [],
   "source": [
    "# Сначала рассчитаем какому виду оъекта сколько посадочных мест соответствует методом сводной таблицы и выведения медианного значения\n",
    "number_of_seats_by_object = data.pivot_table(index='object_type', values='number', aggfunc='median').sort_values(by='number', ascending=False).reset_index()\n",
    "number_of_seats_by_object.columns=['Тип объекта', 'Кол-во посадочных мест']\n",
    "print('Топ-5 типов объектов по количеству посадочных мест:\\n\\n', number_of_seats_by_object.head(5))\n"
   ]
  },
  {
   "cell_type": "code",
   "execution_count": 3,
   "metadata": {},
   "outputs": [
    {
     "ename": "NameError",
     "evalue": "name 'px' is not defined",
     "output_type": "error",
     "traceback": [
      "\u001b[0;31m---------------------------------------------------------------------------\u001b[0m",
      "\u001b[0;31mNameError\u001b[0m                                 Traceback (most recent call last)",
      "\u001b[0;32m/tmp/ipykernel_54/4059714431.py\u001b[0m in \u001b[0;36m<module>\u001b[0;34m\u001b[0m\n\u001b[1;32m      1\u001b[0m \u001b[0;31m#Построим график отношения типов объектов и медианного значения количества посадочных мест\u001b[0m\u001b[0;34m\u001b[0m\u001b[0;34m\u001b[0m\u001b[0;34m\u001b[0m\u001b[0m\n\u001b[0;32m----> 2\u001b[0;31m fig = px.bar(number_of_seats_by_object, x='Тип объекта', y='Кол-во посадочных мест', \n\u001b[0m\u001b[1;32m      3\u001b[0m              text = 'Кол-во посадочных мест', color='Тип объекта', width = 900, height = 550)\n\u001b[1;32m      4\u001b[0m fig.update_layout(title={'text':'Среднее кол-во посадочных мест по видам объектов',\n\u001b[1;32m      5\u001b[0m                         'x':0.125})\n",
      "\u001b[0;31mNameError\u001b[0m: name 'px' is not defined"
     ]
    }
   ],
   "source": [
    "#Построим график отношения типов объектов и медианного значения количества посадочных мест\n",
    "fig = px.bar(number_of_seats_by_object, x='Тип объекта', y='Кол-во посадочных мест', \n",
    "             text = 'Кол-во посадочных мест', color='Тип объекта', width = 900, height = 550)\n",
    "fig.update_layout(title={'text':'Среднее кол-во посадочных мест по видам объектов',\n",
    "                        'x':0.125})\n",
    "fig.show()\n"
   ]
  },
  {
   "cell_type": "markdown",
   "metadata": {},
   "source": [
    "У столовых и ресторанов больше всего посадочных мест - 103 и 80 соответственно. Бары, буфеты и кафе находятся примерно на одном уровне, около 30-35 посадочных мест (согласно медианным значениям)."
   ]
  },
  {
   "cell_type": "code",
   "execution_count": null,
   "metadata": {},
   "outputs": [],
   "source": [
    "fig = px.box(data, x=\"number\", y=\"object_type\", orientation='h', \n",
    "             labels={'number': 'число посадочных мест', 'object_type': ''})\n",
    "fig.show()"
   ]
  },
  {
   "cell_type": "markdown",
   "metadata": {},
   "source": [
    "Если рассмотреть на боксплот то мы видим вного аномальных значений у ресторанов и столовых, например ресторан на 1500 мест.\n",
    "Боксплоты по кафе и барам тоже похожи, но у кафе более длинный хвост, до 533 мест.\n",
    "Среди баров есть бар на 1700мест и столовая на 1400 посадочных мест."
   ]
  },
  {
   "cell_type": "markdown",
   "metadata": {},
   "source": [
    "<div class=\"alert alert-success\"; style=\"border-left: 7px solid green\">\n",
    "<h3>✔ Комментарий ревьюера</h3>\n",
    "    \n",
    "Тут всё верно 👍</div>    \n"
   ]
  },
  {
   "cell_type": "markdown",
   "metadata": {},
   "source": [
    "### Выделим в отдельный столбец информацию об улице из столбца address."
   ]
  },
  {
   "cell_type": "code",
   "execution_count": null,
   "metadata": {
    "scrolled": true
   },
   "outputs": [],
   "source": [
    "#Сначала посмотрим на содержание колонки адрес, изучим количество заполненной информации (страна, город, улица, дом, квартира или другой набор) - так мы сможем разделить по индексу нужную нам часть\n",
    "\n",
    "data['split_numbers'] = data['address'].apply(lambda x: len(x.split(', ')))\n",
    "print(data.split_numbers.value_counts())\n",
    "data.head(5)\n"
   ]
  },
  {
   "cell_type": "code",
   "execution_count": null,
   "metadata": {},
   "outputs": [],
   "source": [
    "percent_of_split_numbers = (8187+6695)/15366 * 100\n",
    "print(percent_of_split_numbers)"
   ]
  },
  {
   "cell_type": "markdown",
   "metadata": {},
   "source": [
    "Видим, что большинство объектов в базе имеют до 4 значений, записанных через запятую предположительно в порядке город, улица, дом, корпус(квартира). "
   ]
  },
  {
   "cell_type": "code",
   "execution_count": null,
   "metadata": {},
   "outputs": [],
   "source": [
    "# Разделим столбец adress и создадим новые столбцы (для проверки уникальности адресов разделим город и улицу по индексу)\n",
    "data['city'] = data['address'].apply(lambda x: x.split(', ')[0])\n",
    "data['street'] = data['address'].apply(lambda x: x.split(', ')[1])\n",
    "\n",
    "data.head()"
   ]
  },
  {
   "cell_type": "code",
   "execution_count": null,
   "metadata": {
    "scrolled": true
   },
   "outputs": [],
   "source": [
    "#Проверим, какие значения попали в столбец с городом и сколько их.\n",
    "unique_city = data['city'].unique()\n",
    "print(unique_city)\n",
    "print('Количество уникальных названий:', len(unique_city))"
   ]
  },
  {
   "cell_type": "markdown",
   "metadata": {},
   "source": [
    "В столбец с городом попали 55 разных названий. При этом, видно наличие разных городов - например, город Троицк или поселение Марушкинское, Мосрентген. А также много названий улиц, что не соответствует логике столбца. Значит, разделить просто по индексу у нас не получится - нужно составить функцию, которая найдет для нас все улицы."
   ]
  },
  {
   "cell_type": "markdown",
   "metadata": {},
   "source": [
    "<div class=\"alert alert-success\"; style=\"border-left: 7px solid green\">\n",
    "<h3>✔ Комментарий ревьюера</h3>\n",
    "    \n",
    "В целом очень редко данные так унифицированы, что хватает разбить по запятым, разве что это `csv` табличка. Поэтому способ ниже в самый раз, стоило только посмотреть на число пропусков и почему они возникают.\n",
    "    \n",
    "    \n",
    "Вместо `find != -1` можно использовать просто `in`, т.е. `if street_type in address_part.lower()`\n",
    "</div>    \n"
   ]
  },
  {
   "cell_type": "code",
   "execution_count": null,
   "metadata": {
    "scrolled": true
   },
   "outputs": [],
   "source": [
    "street_types = ['улица', 'бульвар', 'проспект', 'переулок', 'шоссе', \n",
    "'проезд', 'набережная', 'площадь', 'аллея', 'линия', 'квартал', 'мост', 'тупик', 'просека']\n",
    "def street_finder(address):\n",
    "    for address_part in address.split(', '):\n",
    "        for street_type in street_types:\n",
    "            if address_part.lower().find(street_type)!= -1:\n",
    "                return address_part\n",
    "\n",
    "data['street'] = data['address'].apply(street_finder)\n",
    "data_with_streets = data[~(data['street'].isnull())]\n",
    "\n",
    "data_with_streets.head(5)"
   ]
  },
  {
   "cell_type": "code",
   "execution_count": null,
   "metadata": {},
   "outputs": [],
   "source": [
    "# Проверим количество оставшихся строчек \n",
    "data_with_streets.info()"
   ]
  },
  {
   "cell_type": "markdown",
   "metadata": {},
   "source": [
    "После выделения улиц из адреса, у нас осталось 382 адреса, в которых не указана улица, в последующей работе для удобства мы их не будем использовать."
   ]
  },
  {
   "cell_type": "markdown",
   "metadata": {},
   "source": [
    "### Постройте график топ-10 улиц по количеству объектов общественного питания. Воспользуйтесь внешней информацией и ответьте на вопрос — в каких районах Москвы находятся эти улицы?"
   ]
  },
  {
   "cell_type": "code",
   "execution_count": null,
   "metadata": {},
   "outputs": [],
   "source": [
    "# Определим ТОП10 улиц по количеству объектов\n",
    "street_data = (data.groupby('street')\n",
    "             .agg({'id': 'count', 'number': 'median'})\n",
    "             .sort_values(by='id', ascending=False)\n",
    "             .reset_index()\n",
    "            )\n",
    "top10_street_data = street_data.head(10)\n",
    "top10_street_data"
   ]
  },
  {
   "cell_type": "code",
   "execution_count": null,
   "metadata": {
    "scrolled": true
   },
   "outputs": [],
   "source": [
    "# Построим график для наглядности\n",
    "fig = px.bar(top10_street_data, x='street', y='id', \n",
    "             color='street', width = 900, height = 550, text='id')\n",
    "fig.update_xaxes(tickangle=45)\n",
    "fig.update_layout(\n",
    "    title='Топ-10 улиц с наибольшим количеством заведений',\n",
    "    xaxis_title=\"Улица\",\n",
    "    yaxis_title=\"Количество заведений\")\n",
    "\n",
    "fig.show()"
   ]
  },
  {
   "cell_type": "code",
   "execution_count": null,
   "metadata": {
    "scrolled": true
   },
   "outputs": [],
   "source": [
    "# Импортируем в проект данные мосгаза\n",
    "import requests\n",
    "from io import BytesIO\n",
    "spreadsheet_id = '1SGsPtXKrEsdoeZcw0VZ8DtR8i8bZCIYxuBSk7ErL7Zs'\n",
    "file_name = 'https://docs.google.com/spreadsheets/d/{}/export?format=csv'.format(spreadsheet_id)\n",
    "r = requests.get(file_name)\n",
    "streets = pd.read_csv(BytesIO(r.content))\n",
    "streets.head()"
   ]
  },
  {
   "cell_type": "markdown",
   "metadata": {},
   "source": [
    "<div class=\"alert alert-success\"; style=\"border-left: 7px solid green\">\n",
    "<h3>✔ Комментарий ревьюера</h3>\n",
    "    \n",
    "Все импорты лучше собирать в самом начале работы, чтобы сразу было понятно, какие у проекта зависимости. Если ссылка ведёт на скачивание `csv` файла, то её можно сразу передавать в `read_csv`\n",
    "</div>   \n",
    "\n"
   ]
  },
  {
   "cell_type": "code",
   "execution_count": null,
   "metadata": {},
   "outputs": [],
   "source": [
    "top10_street_data = top10_street_data.merge(streets, left_on='street', right_on='streetname', how='left')\n",
    "top10_street_data.head()"
   ]
  },
  {
   "cell_type": "code",
   "execution_count": null,
   "metadata": {},
   "outputs": [],
   "source": [
    "# Мы не можем определить район улиц, поскольку не указан номер дома. Длинные улицы находятся в нескольких районах сразу. Посмотрим на общую ситцацию по округам.\n",
    "okrug_top10 = top10_street_data.groupby('okrug').agg({'street':'count'}).sort_values(by='street',ascending=False).reset_index()\n",
    "okrug_top10['col_%'] = round(okrug_top10['street'] / okrug_top10['street'].sum() *100,2)\n",
    "okrug_top10\n"
   ]
  },
  {
   "cell_type": "code",
   "execution_count": null,
   "metadata": {},
   "outputs": [],
   "source": [
    "fig = px.bar(okrug_top10, x='okrug', y='street', \n",
    "             color='street', width = 900, height = 550, text='street')\n",
    "fig.update_xaxes(tickangle=45)\n",
    "fig.update_layout(\n",
    "    title='Соотношение округов и количества улиц в них из списка ТОП-10',\n",
    "    xaxis_title=\"Улица\",\n",
    "    yaxis_title=\"Количество заведений\")"
   ]
  },
  {
   "cell_type": "markdown",
   "metadata": {},
   "source": [
    "Практически по 30% улиц из списка ТОП-10 находятся в ЮАО и ЮЗАО. 14,5% улиц в ЗАО и 12,5% улиц в СВАО."
   ]
  },
  {
   "cell_type": "markdown",
   "metadata": {},
   "source": [
    "<div class=\"alert alert-warning\"; style=\"border-left: 7px solid yellow\" >\n",
    "<h3>!! Комментарий ревьюера</h3>\n",
    "    \n",
    "Информация об округах нам на самом деле мало информации даёт. Выше стоило сгруппировать по улицам и сделать `unique` по районам, чтобы понимать, через сколько районов проходит улица. Было бы видно, что почти все улицы в топ-10 длинные, поэтому можно подумать о том, как построить топ-10 из плотных улиц.\n",
    "\n",
    "\n",
    "Если захочется вернуться к проекту, то можно попробовать вытащить район, привязанный к адресу с помощью геокодера или поискать подходящий датасет\n",
    "</div>   "
   ]
  },
  {
   "cell_type": "markdown",
   "metadata": {},
   "source": [
    "### Найдите число улиц с одним объектом общественного питания. Воспользуйтесь внешней информацией и ответьте на вопрос — в каких районах Москвы находятся эти улицы?"
   ]
  },
  {
   "cell_type": "code",
   "execution_count": null,
   "metadata": {},
   "outputs": [],
   "source": [
    "streets_with_1_object = street_data.query('id == 1')\n",
    "print('Всего улиц с 1 объектом общественного питания: {}, что составляет {:.1%} от всего кол-ва улиц с объектами общественного питания'\\\n",
    "      .format(len(streets_with_1_object), (len(streets_with_1_object)/len(street_data))))\n"
   ]
  },
  {
   "cell_type": "code",
   "execution_count": null,
   "metadata": {},
   "outputs": [],
   "source": [
    "# Найдем количество улиц с одним заведением\n",
    "streets_with_1_object = streets_with_1_object.merge(streets, left_on='street', right_on='streetname', how='left')\n",
    "streets_with_1_object.head()"
   ]
  },
  {
   "cell_type": "code",
   "execution_count": null,
   "metadata": {},
   "outputs": [],
   "source": [
    "# Проверим, по скольким улицам не определился район\n",
    "print('Не получилось определить район по {} улицам.'.format(len(streets_with_1_object[streets_with_1_object['area'].isnull()])))"
   ]
  },
  {
   "cell_type": "markdown",
   "metadata": {},
   "source": [
    "Всего 35 строк не смогли определить. Вероятно, они никак не повлияют на итоговый результат исследования, поэтому удалим эти значения."
   ]
  },
  {
   "cell_type": "code",
   "execution_count": null,
   "metadata": {},
   "outputs": [],
   "source": [
    "# Удаляем строки с пропущенными значениями в районе города\n",
    "streets_with_1_object = streets_with_1_object.dropna(subset=['area'])"
   ]
  },
  {
   "cell_type": "code",
   "execution_count": null,
   "metadata": {},
   "outputs": [],
   "source": [
    "#Проверим, в каких районах находятся улицы с одним заведением общественного питания\n",
    "unique_area = streets_with_1_object['area'].unique()\n",
    "print('Количество уникальных названий районов:', len(unique_area))\n",
    "unique_area.tolist()"
   ]
  },
  {
   "cell_type": "markdown",
   "metadata": {},
   "source": [
    "<div class=\"alert alert-warning\"; style=\"border-left: 7px solid yellow\" >\n",
    "<h3>!! Комментарий ревьюера</h3>\n",
    "    \n",
    "Здесь можно сгруппировать по районам и посмотреть в каких из них больше улиц с 1 заведением. Тут также можно на округа посмотреть, они бы показали, в каких округах сконцентрированы такие улицы</div>   "
   ]
  },
  {
   "cell_type": "markdown",
   "metadata": {},
   "source": [
    "### Посмотрите на распределение количества посадочных мест для улиц с большим количеством объектов общественного питания. Какие закономерности можно выявить?"
   ]
  },
  {
   "cell_type": "code",
   "execution_count": null,
   "metadata": {},
   "outputs": [],
   "source": [
    "# Сохраним названия заведений из ТОП10 в список\n",
    "top10_street_names = top10_street_data['street'].unique()\n",
    "\n",
    "# Отфильтруем таблицу с заведениями по названиям из списка ТОП10\n",
    "filt_df = data['street'].isin(top10_street_names)\n",
    "filt_street_data_top10 = data[filt_df]\n",
    "\n",
    "# Отдельно добавим столбик с общим количеством заведений на этой улице и отсортируем в порядке убывания количества точек \n",
    "quantity_of_street = top10_street_data[['street','id']]\n",
    "quantity_of_street.columns = ['street', 'quantity_of_street']\n",
    "filt_street_data_top10 = filt_street_data_top10.merge(quantity_of_street, on='street').sort_values(by='quantity_of_street')\n"
   ]
  },
  {
   "cell_type": "code",
   "execution_count": null,
   "metadata": {
    "scrolled": true
   },
   "outputs": [],
   "source": [
    "# Построим диаграмму распределения\n",
    "fig = px.box(filt_street_data_top10, x=\"number\", y=\"street\", orientation='h', \n",
    "             labels={'number': 'число посадочных мест', 'street': ''})\n",
    "fig.show()"
   ]
  },
  {
   "cell_type": "markdown",
   "metadata": {},
   "source": [
    "Медианные значения на каждой улице стремятся к нижней границе квартилей, при этом есть существенные выбросы в количестве посадочных мест. Верхняя граница находится в диапазоне от 100 до 200 посадочных мест.\n",
    "Улицы очень похожи графиками, плотным рампределением примерно в одном диапозоне (Профсоюзная и Кировоградская).\n",
    "На проспектах и шоссе есть большие выбросы, то есть в этих местах располагаются заведения с очень разными по количеству ( с ростом в большую сторону) посадочных мест."
   ]
  },
  {
   "cell_type": "markdown",
   "metadata": {},
   "source": [
    "<div class=\"alert alert-success\"; style=\"border-left: 7px solid green\">\n",
    "<h3>✔ Комментарий ревьюера</h3>\n",
    "    \n",
    "Всё верно, возможно меньший размах на каких-то боксплотах связан с тем, что дорого содержать большое заведение. Не очень понятно, что означает фраза `Медианные значения на каждой улице стремятся к нижней границе квартилей`, потому что медиана это 2-й квартиль. Имелось в виду, что медиана близка к 1-ому квартилю?\n",
    "</div>    \n"
   ]
  },
  {
   "cell_type": "markdown",
   "metadata": {},
   "source": [
    "<div class = \"alert alert-info\" style=\"border-left: 7px solid blue\">\n",
    "<h3>Комментарий студента</h3>\n",
    "Да, к первому квартилю. Это я под конец уже все, поломался :)\n",
    "</div>"
   ]
  },
  {
   "cell_type": "markdown",
   "metadata": {},
   "source": [
    "### Сделайте общий вывод и дайте рекомендации о виде заведения, количестве посадочных мест, а также районе расположения. Прокомментируйте возможность развития сети."
   ]
  },
  {
   "cell_type": "markdown",
   "metadata": {},
   "source": [
    "Открытие нового заведения с предложенным форматом может привлечь посетителей, особенно в высоко проходимых районах и улицах. На таки улицах есть спрос и естесственный объем целевой аудитории, которая может как целенаправленно, так и случайно посетить будущее кафе с роботами. Такая логика может помочь исключить фактор того, что кафе будет популярно долгое время, а не только привлечет посетителей единожды, ради интереса (если бы мы предложили поставить такое кафе на менее проходимых улицах, то получили бы, скорее всего, поток зевак первое время, но потом, из-за отдаленности, получили бы снижение спроса, скорости окупаемости и доходности проекта).\n",
    "\n",
    "Для выбора конкретного района стоит провести дополнительное исследование. Исходя из имеющихся данных, можно порекомендовать ориентироваться на ЮАО и ЮЗАО, там достаточно большое количетво заведений, а знаачит есть регулярный спрос.\n",
    "\n",
    "С точки зрения формата заведения - кафе является самым популярным (40%), а значит именно этот формат стоит выбрать для развития проекта с точки зрения логики. Однако, в рамках исследования у нас нет понимания портрета целевой аудитории, чтобы сделать предположения о формате заведения на основе этого ( мы не знаем даже какой средний чек планируется для выхода на окупаемость, какой вообще срок окупаемости предполагают инвесторы).\n",
    "Относительно количества посадочных мест стоит ограничиться 30-35 местами, по аналогии с другими кафе. Возможно, с развитием кафе до сетевого масштаба будет иметь смысл увеличить количество посадочных мест ( зависит от политики ценообразования и целевой аудитории будущей сети).\n",
    "\n",
    "Топ-10 улиц с наибольшим количеством заведений:\n",
    "\n",
    "- проспект Мира 204\n",
    "- Профсоюзная улица 183\n",
    "- Ленинградский проспект 173\n",
    "- Пресненская набережная 167\n",
    "- Варшавское шоссе 165\n",
    "- Ленинский проспект 148\n",
    "- проспект Вернадского 132\n",
    "- Кутузовский проспект 114\n",
    "- Каширское шоссе 112\n",
    "- Кировоградская улица 110"
   ]
  },
  {
   "cell_type": "markdown",
   "metadata": {},
   "source": [
    "<div class=\"alert alert-success\"; style=\"border-left: 7px solid green\">\n",
    "<h3>✔ Комментарий ревьюера</h3>\n",
    "    \n",
    "Разумные рекомендации. С точки зрения местоположения округ слишком большая административная единица. Поэтому рекомендовать лучше улицу или хотя бы район. В этом смысле можно подумать в сторону плотных улиц, т.е. тех, где много заведений на единицу длины, возможно там достаточная проходимость. Если интересно, то используя геокодер (или датасет с координитами для адресов) и геовизуализацию можно построить распределение кафе на территории Москвы и выделить интересующие нас районы, затем в этих районах можно отобразить доступные площащи для аренды, спарсив какой-нибудь сайт объявлений и таким образом выбрать нужное местоположение. https://geocoder.readthedocs.io/ + https://python-visualization.github.io/folium/quickstart.html. Этим можно заняться, если захочется вернуться к проекту\n",
    "    \n",
    "    \n",
    "Неплохая преза, круто что к каждому графику есть вывод и ты выделяешь важное жирным шрифтом. Можно также добавить слайд с постановкой задач, чтобы к концу презентации было понятно, что все цели и задачи были достигнуты и выполнены и в целом слайд с введением всегда полезен. Больше одного графика на слайде иметь не стоит, если они на нём не сравниваются. Т.е. слайд должен быть про что-то одно. Превратить датафрейм в картинку можно через https://plotly.com/python/table/ Текста на слайдах желательно иметь поменьше и тезисно, т.к. это дополнение к докладчику, а не его замена.\n",
    "    \n",
    "Для през могу порекомендовать сервис https://readymag.com/. Там много всяких визуальных элементов и можно включать кучу сеток, чтобы выравнивать контент по слайдам или вот ещё классный есть: https://www.canva.com/ru_ru/\n",
    "</div>    \n"
   ]
  },
  {
   "cell_type": "markdown",
   "metadata": {},
   "source": [
    "<div class = \"alert alert-info\" style=\"border-left: 7px solid blue\">\n",
    "<h3>Комментарий студента</h3>\n",
    "Ревьювер не душнила! ) Спасибо большое за проверку! Я поправил здесь момент один, с категорями. Остальные моменты выделенные цветом тоже поправлю но уже для себя. Сейчас хочу закрыть гештальт по python и двинуться дальше в тему визуализации скорее.\n",
    "    Себе проект сохранил в текущем виде для дальнейшей работы с комментариями - хочу с геометками разобраться, научиться их притягивать в проекты. Крутая штука. \n",
    "    Отправляю проект как есть. Спасибо за проверку!\n",
    "</div>"
   ]
  },
  {
   "cell_type": "markdown",
   "metadata": {},
   "source": [
    "## Ссылка на презентацию\n"
   ]
  },
  {
   "cell_type": "markdown",
   "metadata": {},
   "source": [
    "Презентация: https://disk.yandex.ru/d/tIauPTPh7Und0Q"
   ]
  }
 ],
 "metadata": {
  "ExecuteTimeLog": [
   {
    "duration": 1493,
    "start_time": "2022-03-21T11:16:03.512Z"
   },
   {
    "duration": 84,
    "start_time": "2022-03-21T11:17:00.153Z"
   },
   {
    "duration": 69,
    "start_time": "2022-03-21T11:17:08.116Z"
   },
   {
    "duration": 2,
    "start_time": "2022-03-21T11:26:25.639Z"
   },
   {
    "duration": 122,
    "start_time": "2022-03-21T11:28:59.284Z"
   },
   {
    "duration": 69,
    "start_time": "2022-03-21T11:31:46.604Z"
   },
   {
    "duration": 7,
    "start_time": "2022-03-21T11:32:06.736Z"
   },
   {
    "duration": 10,
    "start_time": "2022-03-21T11:32:46.521Z"
   },
   {
    "duration": 19,
    "start_time": "2022-03-21T11:36:59.353Z"
   },
   {
    "duration": 15,
    "start_time": "2022-03-21T11:37:27.780Z"
   },
   {
    "duration": 18,
    "start_time": "2022-03-21T11:38:49.646Z"
   },
   {
    "duration": 21,
    "start_time": "2022-03-21T11:38:53.431Z"
   },
   {
    "duration": 208,
    "start_time": "2022-03-21T11:40:38.138Z"
   },
   {
    "duration": 20,
    "start_time": "2022-03-21T11:40:42.871Z"
   },
   {
    "duration": 20,
    "start_time": "2022-03-21T11:40:55.174Z"
   },
   {
    "duration": 22,
    "start_time": "2022-03-21T11:41:05.548Z"
   },
   {
    "duration": 21,
    "start_time": "2022-03-21T11:41:13.506Z"
   },
   {
    "duration": 2,
    "start_time": "2022-03-21T11:48:19.504Z"
   },
   {
    "duration": 123,
    "start_time": "2022-03-21T11:53:45.329Z"
   },
   {
    "duration": 19,
    "start_time": "2022-03-21T11:54:33.460Z"
   },
   {
    "duration": 876,
    "start_time": "2022-03-21T11:55:01.604Z"
   },
   {
    "duration": 260,
    "start_time": "2022-03-21T11:55:44.895Z"
   },
   {
    "duration": 71,
    "start_time": "2022-03-21T12:00:56.173Z"
   },
   {
    "duration": 252,
    "start_time": "2022-03-21T12:01:14.103Z"
   },
   {
    "duration": 331,
    "start_time": "2022-03-21T12:01:41.420Z"
   },
   {
    "duration": 246,
    "start_time": "2022-03-21T12:02:03.244Z"
   },
   {
    "duration": 237,
    "start_time": "2022-03-21T12:03:11.373Z"
   },
   {
    "duration": 237,
    "start_time": "2022-03-21T12:06:17.861Z"
   },
   {
    "duration": 1281,
    "start_time": "2022-03-21T12:07:09.260Z"
   },
   {
    "duration": 83,
    "start_time": "2022-03-21T12:07:10.543Z"
   },
   {
    "duration": 11,
    "start_time": "2022-03-21T12:07:10.628Z"
   },
   {
    "duration": 22,
    "start_time": "2022-03-21T12:07:10.642Z"
   },
   {
    "duration": 703,
    "start_time": "2022-03-21T12:07:10.666Z"
   },
   {
    "duration": 163,
    "start_time": "2022-03-21T12:10:29.503Z"
   },
   {
    "duration": 86,
    "start_time": "2022-03-21T12:11:17.794Z"
   },
   {
    "duration": 87,
    "start_time": "2022-03-21T12:12:09.321Z"
   },
   {
    "duration": 39,
    "start_time": "2022-03-21T12:12:47.407Z"
   },
   {
    "duration": 27,
    "start_time": "2022-03-21T12:13:00.120Z"
   },
   {
    "duration": 87,
    "start_time": "2022-03-21T12:13:08.957Z"
   },
   {
    "duration": 94,
    "start_time": "2022-03-21T12:13:32.387Z"
   },
   {
    "duration": 86,
    "start_time": "2022-03-21T12:13:45.735Z"
   },
   {
    "duration": 83,
    "start_time": "2022-03-21T12:14:53.856Z"
   },
   {
    "duration": 93,
    "start_time": "2022-03-21T12:15:09.258Z"
   },
   {
    "duration": 19,
    "start_time": "2022-03-21T12:17:26.175Z"
   },
   {
    "duration": 19,
    "start_time": "2022-03-21T12:17:55.874Z"
   },
   {
    "duration": 21,
    "start_time": "2022-03-21T12:18:16.508Z"
   },
   {
    "duration": 172,
    "start_time": "2022-03-21T12:19:18.861Z"
   },
   {
    "duration": 86,
    "start_time": "2022-03-21T12:19:25.814Z"
   },
   {
    "duration": 178,
    "start_time": "2022-03-21T12:23:41.245Z"
   },
   {
    "duration": 84,
    "start_time": "2022-03-21T12:23:47.815Z"
   },
   {
    "duration": 85,
    "start_time": "2022-03-21T12:24:00.613Z"
   },
   {
    "duration": 96,
    "start_time": "2022-03-21T12:24:16.483Z"
   },
   {
    "duration": 79,
    "start_time": "2022-03-21T12:24:26.807Z"
   },
   {
    "duration": 84,
    "start_time": "2022-03-21T12:24:41.170Z"
   },
   {
    "duration": 86,
    "start_time": "2022-03-21T12:26:05.426Z"
   },
   {
    "duration": 82,
    "start_time": "2022-03-21T12:26:29.158Z"
   },
   {
    "duration": 81,
    "start_time": "2022-03-21T12:26:54.599Z"
   },
   {
    "duration": 92,
    "start_time": "2022-03-21T12:27:31.847Z"
   },
   {
    "duration": 23,
    "start_time": "2022-03-21T12:30:10.837Z"
   },
   {
    "duration": 17,
    "start_time": "2022-03-21T12:30:56.329Z"
   },
   {
    "duration": 17,
    "start_time": "2022-03-21T12:33:54.844Z"
   },
   {
    "duration": 18,
    "start_time": "2022-03-21T12:34:11.291Z"
   },
   {
    "duration": 85,
    "start_time": "2022-03-21T12:49:03.633Z"
   },
   {
    "duration": 85,
    "start_time": "2022-03-21T12:49:26.196Z"
   },
   {
    "duration": 18,
    "start_time": "2022-03-21T13:15:35.065Z"
   },
   {
    "duration": 118,
    "start_time": "2022-03-21T13:15:49.059Z"
   },
   {
    "duration": 49,
    "start_time": "2022-03-21T13:16:14.183Z"
   },
   {
    "duration": 52,
    "start_time": "2022-03-21T13:16:21.807Z"
   },
   {
    "duration": 18,
    "start_time": "2022-03-21T13:16:45.224Z"
   },
   {
    "duration": 86,
    "start_time": "2022-03-21T13:16:50.040Z"
   },
   {
    "duration": 7,
    "start_time": "2022-03-21T13:18:51.287Z"
   },
   {
    "duration": 18,
    "start_time": "2022-03-21T13:18:53.373Z"
   },
   {
    "duration": 91,
    "start_time": "2022-03-21T13:19:02.178Z"
   },
   {
    "duration": 173,
    "start_time": "2022-03-21T13:19:10.320Z"
   },
   {
    "duration": 83,
    "start_time": "2022-03-21T13:21:37.659Z"
   },
   {
    "duration": 89,
    "start_time": "2022-03-21T13:22:30.803Z"
   },
   {
    "duration": 84,
    "start_time": "2022-03-21T13:22:55.932Z"
   },
   {
    "duration": 81,
    "start_time": "2022-03-21T13:23:19.925Z"
   },
   {
    "duration": 82,
    "start_time": "2022-03-21T13:24:51.256Z"
   },
   {
    "duration": 81,
    "start_time": "2022-03-21T13:25:03.656Z"
   },
   {
    "duration": 85,
    "start_time": "2022-03-21T13:27:04.206Z"
   },
   {
    "duration": 78,
    "start_time": "2022-03-21T13:27:57.625Z"
   },
   {
    "duration": 310,
    "start_time": "2022-03-21T13:31:34.773Z"
   },
   {
    "duration": 356,
    "start_time": "2022-03-21T13:44:33.892Z"
   },
   {
    "duration": 326,
    "start_time": "2022-03-21T13:50:24.843Z"
   },
   {
    "duration": 309,
    "start_time": "2022-03-21T13:50:47.867Z"
   },
   {
    "duration": 307,
    "start_time": "2022-03-21T13:51:01.368Z"
   },
   {
    "duration": 305,
    "start_time": "2022-03-21T13:51:24.768Z"
   },
   {
    "duration": 291,
    "start_time": "2022-03-21T13:53:37.570Z"
   },
   {
    "duration": 340,
    "start_time": "2022-03-21T13:54:21.917Z"
   },
   {
    "duration": 401,
    "start_time": "2022-03-21T13:54:37.190Z"
   },
   {
    "duration": 335,
    "start_time": "2022-03-21T13:55:00.028Z"
   },
   {
    "duration": 329,
    "start_time": "2022-03-21T14:03:25.508Z"
   },
   {
    "duration": 13,
    "start_time": "2022-03-21T14:05:21.477Z"
   },
   {
    "duration": 6,
    "start_time": "2022-03-21T14:07:28.118Z"
   },
   {
    "duration": 5,
    "start_time": "2022-03-21T14:07:55.914Z"
   },
   {
    "duration": 5,
    "start_time": "2022-03-21T14:09:17.243Z"
   },
   {
    "duration": 287,
    "start_time": "2022-03-21T14:10:39.529Z"
   },
   {
    "duration": 160,
    "start_time": "2022-03-21T14:10:43.840Z"
   },
   {
    "duration": 180,
    "start_time": "2022-03-21T14:10:54.700Z"
   },
   {
    "duration": 173,
    "start_time": "2022-03-21T14:10:58.832Z"
   },
   {
    "duration": 190,
    "start_time": "2022-03-21T14:11:07.522Z"
   },
   {
    "duration": 15,
    "start_time": "2022-03-21T14:11:22.826Z"
   },
   {
    "duration": 171,
    "start_time": "2022-03-21T14:11:33.796Z"
   },
   {
    "duration": 4,
    "start_time": "2022-03-21T14:11:39.629Z"
   },
   {
    "duration": 12,
    "start_time": "2022-03-21T14:11:46.019Z"
   },
   {
    "duration": 4,
    "start_time": "2022-03-21T14:11:51.205Z"
   },
   {
    "duration": 174,
    "start_time": "2022-03-21T14:12:33.037Z"
   },
   {
    "duration": 4,
    "start_time": "2022-03-21T14:12:37.975Z"
   },
   {
    "duration": 4,
    "start_time": "2022-03-21T14:13:18.996Z"
   },
   {
    "duration": 6,
    "start_time": "2022-03-21T14:13:34.931Z"
   },
   {
    "duration": 6,
    "start_time": "2022-03-21T14:14:27.100Z"
   },
   {
    "duration": 5,
    "start_time": "2022-03-21T14:14:39.269Z"
   },
   {
    "duration": 13,
    "start_time": "2022-03-21T14:15:23.478Z"
   },
   {
    "duration": 5,
    "start_time": "2022-03-21T14:20:59.806Z"
   },
   {
    "duration": 15,
    "start_time": "2022-03-21T14:25:03.975Z"
   },
   {
    "duration": 87,
    "start_time": "2022-03-21T14:26:12.374Z"
   },
   {
    "duration": 83,
    "start_time": "2022-03-21T14:26:55.060Z"
   },
   {
    "duration": 22,
    "start_time": "2022-03-21T14:32:22.540Z"
   },
   {
    "duration": 765,
    "start_time": "2022-03-21T14:33:02.939Z"
   },
   {
    "duration": 31,
    "start_time": "2022-03-21T14:33:07.486Z"
   },
   {
    "duration": 32,
    "start_time": "2022-03-21T14:33:54.832Z"
   },
   {
    "duration": 31,
    "start_time": "2022-03-21T14:34:46.318Z"
   },
   {
    "duration": 44,
    "start_time": "2022-03-21T14:36:11.427Z"
   },
   {
    "duration": 32,
    "start_time": "2022-03-21T14:36:47.101Z"
   },
   {
    "duration": 29,
    "start_time": "2022-03-21T14:37:32.344Z"
   },
   {
    "duration": 32,
    "start_time": "2022-03-21T14:39:34.725Z"
   },
   {
    "duration": 29,
    "start_time": "2022-03-21T14:41:09.704Z"
   },
   {
    "duration": 6,
    "start_time": "2022-03-21T14:44:11.302Z"
   },
   {
    "duration": 13,
    "start_time": "2022-03-21T14:44:27.364Z"
   },
   {
    "duration": 12,
    "start_time": "2022-03-21T14:44:45.209Z"
   },
   {
    "duration": 6,
    "start_time": "2022-03-21T14:44:53.154Z"
   },
   {
    "duration": 5,
    "start_time": "2022-03-21T14:46:05.176Z"
   },
   {
    "duration": 12,
    "start_time": "2022-03-21T14:46:42.064Z"
   },
   {
    "duration": 5,
    "start_time": "2022-03-21T14:46:56.253Z"
   },
   {
    "duration": 6,
    "start_time": "2022-03-21T14:47:47.382Z"
   },
   {
    "duration": 13,
    "start_time": "2022-03-21T14:47:53.839Z"
   },
   {
    "duration": 11,
    "start_time": "2022-03-21T14:48:08.630Z"
   },
   {
    "duration": 5,
    "start_time": "2022-03-21T15:11:50.432Z"
   },
   {
    "duration": 6,
    "start_time": "2022-03-21T15:12:22.504Z"
   },
   {
    "duration": 17,
    "start_time": "2022-03-21T15:14:09.210Z"
   },
   {
    "duration": 15,
    "start_time": "2022-03-21T15:14:51.321Z"
   },
   {
    "duration": 5,
    "start_time": "2022-03-21T15:15:03.510Z"
   },
   {
    "duration": 39,
    "start_time": "2022-03-21T15:32:36.282Z"
   },
   {
    "duration": 25,
    "start_time": "2022-03-21T15:33:24.368Z"
   },
   {
    "duration": 27,
    "start_time": "2022-03-21T15:35:07.664Z"
   },
   {
    "duration": 1601,
    "start_time": "2022-03-21T15:35:37.457Z"
   },
   {
    "duration": 76,
    "start_time": "2022-03-21T15:35:39.061Z"
   },
   {
    "duration": 14,
    "start_time": "2022-03-21T15:35:39.139Z"
   },
   {
    "duration": 33,
    "start_time": "2022-03-21T15:35:39.155Z"
   },
   {
    "duration": 55,
    "start_time": "2022-03-21T15:35:39.190Z"
   },
   {
    "duration": 700,
    "start_time": "2022-03-21T15:35:39.247Z"
   },
   {
    "duration": 26,
    "start_time": "2022-03-21T15:35:39.950Z"
   },
   {
    "duration": 60,
    "start_time": "2022-03-21T15:35:39.978Z"
   },
   {
    "duration": 25,
    "start_time": "2022-03-21T15:35:40.041Z"
   },
   {
    "duration": 285,
    "start_time": "2022-03-21T15:35:40.070Z"
   },
   {
    "duration": 164,
    "start_time": "2022-03-21T15:35:40.358Z"
   },
   {
    "duration": 467,
    "start_time": "2022-03-21T15:35:40.532Z"
   },
   {
    "duration": 7,
    "start_time": "2022-03-21T15:35:41.001Z"
   },
   {
    "duration": 34,
    "start_time": "2022-03-21T15:35:41.011Z"
   },
   {
    "duration": 100,
    "start_time": "2022-03-21T15:35:41.047Z"
   },
   {
    "duration": 34,
    "start_time": "2022-03-21T15:35:41.149Z"
   },
   {
    "duration": 68,
    "start_time": "2022-03-21T15:35:41.186Z"
   },
   {
    "duration": 42,
    "start_time": "2022-03-21T15:35:41.256Z"
   },
   {
    "duration": 25,
    "start_time": "2022-03-21T15:35:41.300Z"
   },
   {
    "duration": 40,
    "start_time": "2022-03-21T15:41:23.831Z"
   },
   {
    "duration": 27,
    "start_time": "2022-03-21T15:41:31.326Z"
   },
   {
    "duration": 27,
    "start_time": "2022-03-21T15:41:35.508Z"
   },
   {
    "duration": 30,
    "start_time": "2022-03-21T15:41:39.005Z"
   },
   {
    "duration": 3,
    "start_time": "2022-03-21T15:42:28.388Z"
   },
   {
    "duration": 1309,
    "start_time": "2022-03-21T15:46:51.830Z"
   },
   {
    "duration": 72,
    "start_time": "2022-03-21T15:46:53.141Z"
   },
   {
    "duration": 18,
    "start_time": "2022-03-21T15:46:53.215Z"
   },
   {
    "duration": 22,
    "start_time": "2022-03-21T15:46:53.235Z"
   },
   {
    "duration": 482,
    "start_time": "2022-03-21T15:46:53.259Z"
   },
   {
    "duration": 18,
    "start_time": "2022-03-21T15:46:53.743Z"
   },
   {
    "duration": 10,
    "start_time": "2022-03-21T15:46:53.763Z"
   },
   {
    "duration": 76,
    "start_time": "2022-03-21T15:46:53.775Z"
   },
   {
    "duration": 191,
    "start_time": "2022-03-21T15:46:53.853Z"
   },
   {
    "duration": 111,
    "start_time": "2022-03-21T15:46:54.047Z"
   },
   {
    "duration": 394,
    "start_time": "2022-03-21T15:46:54.160Z"
   },
   {
    "duration": 7,
    "start_time": "2022-03-21T15:46:54.556Z"
   },
   {
    "duration": 20,
    "start_time": "2022-03-21T15:46:54.565Z"
   },
   {
    "duration": 112,
    "start_time": "2022-03-21T15:46:54.587Z"
   },
   {
    "duration": 42,
    "start_time": "2022-03-21T15:46:54.701Z"
   },
   {
    "duration": 3,
    "start_time": "2022-03-21T15:46:54.745Z"
   },
   {
    "duration": 33,
    "start_time": "2022-03-21T15:46:54.750Z"
   },
   {
    "duration": 6,
    "start_time": "2022-03-21T15:46:54.785Z"
   },
   {
    "duration": 41,
    "start_time": "2022-03-21T15:46:54.792Z"
   },
   {
    "duration": 7,
    "start_time": "2022-03-21T15:48:17.659Z"
   },
   {
    "duration": 5,
    "start_time": "2022-03-21T15:48:24.294Z"
   },
   {
    "duration": 4,
    "start_time": "2022-03-21T15:54:55.854Z"
   },
   {
    "duration": 169,
    "start_time": "2022-03-21T15:55:28.837Z"
   },
   {
    "duration": 167,
    "start_time": "2022-03-21T15:56:43.501Z"
   },
   {
    "duration": 175,
    "start_time": "2022-03-21T15:58:21.991Z"
   },
   {
    "duration": 12,
    "start_time": "2022-03-21T15:58:37.509Z"
   },
   {
    "duration": 11,
    "start_time": "2022-03-21T15:58:56.084Z"
   },
   {
    "duration": 12,
    "start_time": "2022-03-21T15:59:02.574Z"
   },
   {
    "duration": 11,
    "start_time": "2022-03-21T15:59:16.142Z"
   },
   {
    "duration": 15,
    "start_time": "2022-03-21T15:59:45.126Z"
   },
   {
    "duration": 171,
    "start_time": "2022-03-21T16:00:14.402Z"
   },
   {
    "duration": 19,
    "start_time": "2022-03-21T16:02:00.544Z"
   },
   {
    "duration": 6,
    "start_time": "2022-03-21T16:04:18.339Z"
   },
   {
    "duration": 11,
    "start_time": "2022-03-21T16:29:00.875Z"
   },
   {
    "duration": 10,
    "start_time": "2022-03-21T16:29:10.410Z"
   },
   {
    "duration": 10,
    "start_time": "2022-03-21T16:29:18.751Z"
   },
   {
    "duration": 1953,
    "start_time": "2022-03-22T08:15:29.661Z"
   },
   {
    "duration": 92,
    "start_time": "2022-03-22T08:15:31.618Z"
   },
   {
    "duration": 18,
    "start_time": "2022-03-22T08:15:31.712Z"
   },
   {
    "duration": 51,
    "start_time": "2022-03-22T08:15:31.732Z"
   },
   {
    "duration": 715,
    "start_time": "2022-03-22T08:15:31.787Z"
   },
   {
    "duration": 26,
    "start_time": "2022-03-22T08:15:32.504Z"
   },
   {
    "duration": 43,
    "start_time": "2022-03-22T08:15:32.533Z"
   },
   {
    "duration": 26,
    "start_time": "2022-03-22T08:15:32.579Z"
   },
   {
    "duration": 280,
    "start_time": "2022-03-22T08:15:32.607Z"
   },
   {
    "duration": 152,
    "start_time": "2022-03-22T08:15:32.890Z"
   },
   {
    "duration": 569,
    "start_time": "2022-03-22T08:15:33.045Z"
   },
   {
    "duration": 8,
    "start_time": "2022-03-22T08:15:33.617Z"
   },
   {
    "duration": 23,
    "start_time": "2022-03-22T08:15:33.627Z"
   },
   {
    "duration": 136,
    "start_time": "2022-03-22T08:15:33.675Z"
   },
   {
    "duration": 34,
    "start_time": "2022-03-22T08:15:33.813Z"
   },
   {
    "duration": 4,
    "start_time": "2022-03-22T08:15:33.874Z"
   },
   {
    "duration": 48,
    "start_time": "2022-03-22T08:15:33.880Z"
   },
   {
    "duration": 8,
    "start_time": "2022-03-22T08:15:33.930Z"
   },
   {
    "duration": 263,
    "start_time": "2022-03-22T08:15:33.940Z"
   },
   {
    "duration": 0,
    "start_time": "2022-03-22T08:15:34.206Z"
   },
   {
    "duration": 1495,
    "start_time": "2022-03-22T11:54:11.166Z"
   },
   {
    "duration": 68,
    "start_time": "2022-03-22T11:54:12.664Z"
   },
   {
    "duration": 14,
    "start_time": "2022-03-22T11:54:12.734Z"
   },
   {
    "duration": 21,
    "start_time": "2022-03-22T11:54:12.750Z"
   },
   {
    "duration": 485,
    "start_time": "2022-03-22T11:54:12.773Z"
   },
   {
    "duration": 16,
    "start_time": "2022-03-22T11:54:13.260Z"
   },
   {
    "duration": 24,
    "start_time": "2022-03-22T11:54:13.278Z"
   },
   {
    "duration": 22,
    "start_time": "2022-03-22T11:54:13.304Z"
   },
   {
    "duration": 128,
    "start_time": "2022-03-22T11:54:13.328Z"
   },
   {
    "duration": 89,
    "start_time": "2022-03-22T11:54:13.457Z"
   },
   {
    "duration": 438,
    "start_time": "2022-03-22T11:54:13.548Z"
   },
   {
    "duration": 13,
    "start_time": "2022-03-22T11:54:13.988Z"
   },
   {
    "duration": 31,
    "start_time": "2022-03-22T11:54:14.003Z"
   },
   {
    "duration": 82,
    "start_time": "2022-03-22T11:54:14.037Z"
   },
   {
    "duration": 21,
    "start_time": "2022-03-22T11:54:14.121Z"
   },
   {
    "duration": 11,
    "start_time": "2022-03-22T11:54:14.145Z"
   },
   {
    "duration": 44,
    "start_time": "2022-03-22T11:54:14.158Z"
   },
   {
    "duration": 6,
    "start_time": "2022-03-22T11:54:14.204Z"
   },
   {
    "duration": 155,
    "start_time": "2022-03-22T11:54:14.212Z"
   },
   {
    "duration": 0,
    "start_time": "2022-03-22T11:54:14.369Z"
   },
   {
    "duration": 13,
    "start_time": "2022-03-22T12:08:43.557Z"
   },
   {
    "duration": 11,
    "start_time": "2022-03-22T12:08:45.641Z"
   },
   {
    "duration": 16,
    "start_time": "2022-03-22T12:09:19.760Z"
   },
   {
    "duration": 21,
    "start_time": "2022-03-22T12:09:56.655Z"
   },
   {
    "duration": 26,
    "start_time": "2022-03-22T12:10:11.771Z"
   },
   {
    "duration": 59,
    "start_time": "2022-03-22T12:11:48.601Z"
   },
   {
    "duration": 1376,
    "start_time": "2022-03-22T12:13:13.969Z"
   },
   {
    "duration": 1574,
    "start_time": "2022-03-22T12:13:15.347Z"
   },
   {
    "duration": 15,
    "start_time": "2022-03-22T12:13:16.923Z"
   },
   {
    "duration": 25,
    "start_time": "2022-03-22T12:13:16.940Z"
   },
   {
    "duration": 511,
    "start_time": "2022-03-22T12:13:16.967Z"
   },
   {
    "duration": 31,
    "start_time": "2022-03-22T12:13:17.480Z"
   },
   {
    "duration": 28,
    "start_time": "2022-03-22T12:13:17.512Z"
   },
   {
    "duration": 139,
    "start_time": "2022-03-22T12:13:17.542Z"
   },
   {
    "duration": 27,
    "start_time": "2022-03-22T12:13:17.683Z"
   },
   {
    "duration": 21,
    "start_time": "2022-03-22T12:13:17.714Z"
   },
   {
    "duration": 101,
    "start_time": "2022-03-22T12:13:17.736Z"
   },
   {
    "duration": 92,
    "start_time": "2022-03-22T12:13:17.839Z"
   },
   {
    "duration": 397,
    "start_time": "2022-03-22T12:13:17.933Z"
   },
   {
    "duration": 6,
    "start_time": "2022-03-22T12:13:18.332Z"
   },
   {
    "duration": 19,
    "start_time": "2022-03-22T12:13:18.340Z"
   },
   {
    "duration": 128,
    "start_time": "2022-03-22T12:13:18.361Z"
   },
   {
    "duration": 39,
    "start_time": "2022-03-22T12:13:18.491Z"
   },
   {
    "duration": 3,
    "start_time": "2022-03-22T12:13:18.532Z"
   },
   {
    "duration": 29,
    "start_time": "2022-03-22T12:13:18.537Z"
   },
   {
    "duration": 6,
    "start_time": "2022-03-22T12:13:18.568Z"
   },
   {
    "duration": 251,
    "start_time": "2022-03-22T12:13:18.576Z"
   },
   {
    "duration": 0,
    "start_time": "2022-03-22T12:13:18.829Z"
   },
   {
    "duration": 212,
    "start_time": "2022-03-22T12:21:06.086Z"
   },
   {
    "duration": 57,
    "start_time": "2022-03-22T12:21:26.658Z"
   },
   {
    "duration": 51,
    "start_time": "2022-03-22T12:22:25.913Z"
   },
   {
    "duration": 17,
    "start_time": "2022-03-22T12:25:16.341Z"
   },
   {
    "duration": 18,
    "start_time": "2022-03-22T12:25:22.296Z"
   },
   {
    "duration": 17,
    "start_time": "2022-03-22T12:33:33.317Z"
   },
   {
    "duration": 179,
    "start_time": "2022-03-22T12:33:39.110Z"
   },
   {
    "duration": 188,
    "start_time": "2022-03-22T12:34:06.985Z"
   },
   {
    "duration": 166,
    "start_time": "2022-03-22T12:34:36.863Z"
   },
   {
    "duration": 155,
    "start_time": "2022-03-22T12:34:47.488Z"
   },
   {
    "duration": 178,
    "start_time": "2022-03-22T12:35:02.338Z"
   },
   {
    "duration": 111,
    "start_time": "2022-03-22T13:08:17.455Z"
   },
   {
    "duration": 111,
    "start_time": "2022-03-22T13:08:58.260Z"
   },
   {
    "duration": 119,
    "start_time": "2022-03-22T13:09:21.162Z"
   },
   {
    "duration": 5,
    "start_time": "2022-03-22T13:09:59.708Z"
   },
   {
    "duration": 16,
    "start_time": "2022-03-22T13:10:02.996Z"
   },
   {
    "duration": 11,
    "start_time": "2022-03-22T14:30:30.967Z"
   },
   {
    "duration": 23,
    "start_time": "2022-03-22T14:32:14.747Z"
   },
   {
    "duration": 19,
    "start_time": "2022-03-22T14:35:12.725Z"
   },
   {
    "duration": 79,
    "start_time": "2022-03-22T14:36:05.689Z"
   },
   {
    "duration": 84,
    "start_time": "2022-03-22T14:36:17.105Z"
   },
   {
    "duration": 82,
    "start_time": "2022-03-22T14:39:02.785Z"
   },
   {
    "duration": 79,
    "start_time": "2022-03-22T14:42:11.954Z"
   },
   {
    "duration": 10,
    "start_time": "2022-03-22T14:48:35.156Z"
   },
   {
    "duration": 4613,
    "start_time": "2022-03-22T14:49:02.505Z"
   },
   {
    "duration": 12,
    "start_time": "2022-03-22T14:49:23.468Z"
   },
   {
    "duration": 6,
    "start_time": "2022-03-22T14:49:41.138Z"
   },
   {
    "duration": 5,
    "start_time": "2022-03-22T14:51:39.380Z"
   },
   {
    "duration": 13,
    "start_time": "2022-03-22T14:54:33.023Z"
   },
   {
    "duration": 1322,
    "start_time": "2022-03-22T14:55:55.069Z"
   },
   {
    "duration": 749,
    "start_time": "2022-03-22T14:56:43.207Z"
   },
   {
    "duration": 812,
    "start_time": "2022-03-22T14:56:57.526Z"
   },
   {
    "duration": 774,
    "start_time": "2022-03-22T14:57:50.900Z"
   },
   {
    "duration": 7,
    "start_time": "2022-03-22T15:00:16.749Z"
   },
   {
    "duration": 21,
    "start_time": "2022-03-22T15:02:04.313Z"
   },
   {
    "duration": 18,
    "start_time": "2022-03-22T15:02:14.535Z"
   },
   {
    "duration": 26,
    "start_time": "2022-03-22T15:02:42.158Z"
   },
   {
    "duration": 52,
    "start_time": "2022-03-22T15:02:51.575Z"
   },
   {
    "duration": 17,
    "start_time": "2022-03-22T15:04:11.792Z"
   },
   {
    "duration": 5,
    "start_time": "2022-03-22T15:05:52.577Z"
   },
   {
    "duration": 4,
    "start_time": "2022-03-22T15:08:08.088Z"
   },
   {
    "duration": 5,
    "start_time": "2022-03-22T15:12:28.522Z"
   },
   {
    "duration": 4,
    "start_time": "2022-03-22T16:28:26.219Z"
   },
   {
    "duration": 4,
    "start_time": "2022-03-22T16:28:46.264Z"
   },
   {
    "duration": 12,
    "start_time": "2022-03-22T16:28:55.130Z"
   },
   {
    "duration": 18,
    "start_time": "2022-03-22T16:29:30.984Z"
   },
   {
    "duration": 5,
    "start_time": "2022-03-22T16:29:53.837Z"
   },
   {
    "duration": 6,
    "start_time": "2022-03-22T16:31:16.917Z"
   },
   {
    "duration": 6,
    "start_time": "2022-03-22T16:31:37.985Z"
   },
   {
    "duration": 268,
    "start_time": "2022-03-22T16:34:50.654Z"
   },
   {
    "duration": 350,
    "start_time": "2022-03-22T16:48:14.509Z"
   },
   {
    "duration": 9,
    "start_time": "2022-03-22T16:49:58.758Z"
   },
   {
    "duration": 15,
    "start_time": "2022-03-22T16:53:14.761Z"
   },
   {
    "duration": 17,
    "start_time": "2022-03-22T17:01:03.491Z"
   },
   {
    "duration": 973,
    "start_time": "2022-03-22T17:05:07.847Z"
   },
   {
    "duration": 21,
    "start_time": "2022-03-22T17:05:22.502Z"
   },
   {
    "duration": 1360,
    "start_time": "2022-03-22T17:05:31.476Z"
   },
   {
    "duration": 73,
    "start_time": "2022-03-22T17:05:32.837Z"
   },
   {
    "duration": 11,
    "start_time": "2022-03-22T17:05:32.911Z"
   },
   {
    "duration": 18,
    "start_time": "2022-03-22T17:05:32.923Z"
   },
   {
    "duration": 1566,
    "start_time": "2022-03-22T17:05:32.943Z"
   },
   {
    "duration": 26,
    "start_time": "2022-03-22T17:05:34.510Z"
   },
   {
    "duration": 65,
    "start_time": "2022-03-22T17:05:34.537Z"
   },
   {
    "duration": 104,
    "start_time": "2022-03-22T17:05:34.604Z"
   },
   {
    "duration": 6,
    "start_time": "2022-03-22T17:05:34.710Z"
   },
   {
    "duration": 17,
    "start_time": "2022-03-22T17:05:34.718Z"
   },
   {
    "duration": 97,
    "start_time": "2022-03-22T17:05:34.737Z"
   },
   {
    "duration": 93,
    "start_time": "2022-03-22T17:05:34.835Z"
   },
   {
    "duration": 391,
    "start_time": "2022-03-22T17:05:34.930Z"
   },
   {
    "duration": 4,
    "start_time": "2022-03-22T17:05:35.325Z"
   },
   {
    "duration": 18,
    "start_time": "2022-03-22T17:05:35.331Z"
   },
   {
    "duration": 92,
    "start_time": "2022-03-22T17:05:35.351Z"
   },
   {
    "duration": 166,
    "start_time": "2022-03-22T17:05:35.444Z"
   },
   {
    "duration": 23,
    "start_time": "2022-03-22T17:05:35.612Z"
   },
   {
    "duration": 4,
    "start_time": "2022-03-22T17:05:35.637Z"
   },
   {
    "duration": 73,
    "start_time": "2022-03-22T17:05:35.643Z"
   },
   {
    "duration": 7,
    "start_time": "2022-03-22T17:05:35.718Z"
   },
   {
    "duration": 136,
    "start_time": "2022-03-22T17:05:35.726Z"
   },
   {
    "duration": 13,
    "start_time": "2022-03-22T17:05:35.863Z"
   },
   {
    "duration": 30,
    "start_time": "2022-03-22T17:05:35.877Z"
   },
   {
    "duration": 71,
    "start_time": "2022-03-22T17:05:35.909Z"
   },
   {
    "duration": 748,
    "start_time": "2022-03-22T17:05:35.982Z"
   },
   {
    "duration": 19,
    "start_time": "2022-03-22T17:05:36.731Z"
   },
   {
    "duration": 6,
    "start_time": "2022-03-22T17:05:36.751Z"
   },
   {
    "duration": 13,
    "start_time": "2022-03-22T17:05:36.758Z"
   },
   {
    "duration": 29,
    "start_time": "2022-03-22T17:05:36.773Z"
   },
   {
    "duration": 10,
    "start_time": "2022-03-22T17:05:36.804Z"
   },
   {
    "duration": 7,
    "start_time": "2022-03-22T17:05:36.816Z"
   },
   {
    "duration": 8,
    "start_time": "2022-03-22T17:05:36.824Z"
   },
   {
    "duration": 10,
    "start_time": "2022-03-22T17:05:36.833Z"
   },
   {
    "duration": 303,
    "start_time": "2022-03-22T17:05:36.844Z"
   },
   {
    "duration": 16,
    "start_time": "2022-03-22T17:07:12.823Z"
   },
   {
    "duration": 21,
    "start_time": "2022-03-22T17:07:21.631Z"
   },
   {
    "duration": 26,
    "start_time": "2022-03-22T17:07:29.483Z"
   },
   {
    "duration": 1302,
    "start_time": "2022-03-22T17:07:39.167Z"
   },
   {
    "duration": 72,
    "start_time": "2022-03-22T17:07:40.471Z"
   },
   {
    "duration": 11,
    "start_time": "2022-03-22T17:07:40.545Z"
   },
   {
    "duration": 18,
    "start_time": "2022-03-22T17:07:40.558Z"
   },
   {
    "duration": 453,
    "start_time": "2022-03-22T17:07:40.577Z"
   },
   {
    "duration": 16,
    "start_time": "2022-03-22T17:07:41.031Z"
   },
   {
    "duration": 53,
    "start_time": "2022-03-22T17:07:41.049Z"
   },
   {
    "duration": 58,
    "start_time": "2022-03-22T17:07:41.103Z"
   },
   {
    "duration": 44,
    "start_time": "2022-03-22T17:07:41.163Z"
   },
   {
    "duration": 15,
    "start_time": "2022-03-22T17:07:41.210Z"
   },
   {
    "duration": 96,
    "start_time": "2022-03-22T17:07:41.226Z"
   },
   {
    "duration": 87,
    "start_time": "2022-03-22T17:07:41.324Z"
   },
   {
    "duration": 374,
    "start_time": "2022-03-22T17:07:41.412Z"
   },
   {
    "duration": 5,
    "start_time": "2022-03-22T17:07:41.787Z"
   },
   {
    "duration": 13,
    "start_time": "2022-03-22T17:07:41.802Z"
   },
   {
    "duration": 87,
    "start_time": "2022-03-22T17:07:41.817Z"
   },
   {
    "duration": 159,
    "start_time": "2022-03-22T17:07:41.906Z"
   },
   {
    "duration": 40,
    "start_time": "2022-03-22T17:07:42.067Z"
   },
   {
    "duration": 3,
    "start_time": "2022-03-22T17:07:42.108Z"
   },
   {
    "duration": 30,
    "start_time": "2022-03-22T17:07:42.112Z"
   },
   {
    "duration": 5,
    "start_time": "2022-03-22T17:07:42.144Z"
   },
   {
    "duration": 103,
    "start_time": "2022-03-22T17:07:42.202Z"
   },
   {
    "duration": 14,
    "start_time": "2022-03-22T17:07:42.306Z"
   },
   {
    "duration": 17,
    "start_time": "2022-03-22T17:07:42.321Z"
   },
   {
    "duration": 97,
    "start_time": "2022-03-22T17:07:42.340Z"
   },
   {
    "duration": 766,
    "start_time": "2022-03-22T17:07:42.439Z"
   },
   {
    "duration": 15,
    "start_time": "2022-03-22T17:07:43.207Z"
   },
   {
    "duration": 11,
    "start_time": "2022-03-22T17:07:43.225Z"
   },
   {
    "duration": 9,
    "start_time": "2022-03-22T17:07:43.238Z"
   },
   {
    "duration": 15,
    "start_time": "2022-03-22T17:07:43.249Z"
   },
   {
    "duration": 5,
    "start_time": "2022-03-22T17:07:43.265Z"
   },
   {
    "duration": 33,
    "start_time": "2022-03-22T17:07:43.271Z"
   },
   {
    "duration": 12,
    "start_time": "2022-03-22T17:07:43.306Z"
   },
   {
    "duration": 13,
    "start_time": "2022-03-22T17:07:43.320Z"
   },
   {
    "duration": 267,
    "start_time": "2022-03-22T17:07:43.334Z"
   },
   {
    "duration": 15,
    "start_time": "2022-03-22T17:13:40.523Z"
   },
   {
    "duration": 16,
    "start_time": "2022-03-22T17:14:36.875Z"
   },
   {
    "duration": 14,
    "start_time": "2022-03-22T17:14:54.149Z"
   },
   {
    "duration": 12,
    "start_time": "2022-03-22T17:20:33.974Z"
   },
   {
    "duration": 11,
    "start_time": "2022-03-22T17:20:50.189Z"
   },
   {
    "duration": 11,
    "start_time": "2022-03-22T17:21:10.118Z"
   },
   {
    "duration": 425,
    "start_time": "2022-03-22T17:21:18.526Z"
   },
   {
    "duration": 263,
    "start_time": "2022-03-22T17:21:26.831Z"
   },
   {
    "duration": 232,
    "start_time": "2022-03-22T17:21:36.208Z"
   },
   {
    "duration": 13,
    "start_time": "2022-03-22T17:21:53.483Z"
   },
   {
    "duration": 9,
    "start_time": "2022-03-22T17:22:28.193Z"
   },
   {
    "duration": 140,
    "start_time": "2022-03-22T17:22:58.328Z"
   },
   {
    "duration": 11,
    "start_time": "2022-03-22T17:23:04.555Z"
   },
   {
    "duration": 101,
    "start_time": "2022-03-22T17:23:13.988Z"
   },
   {
    "duration": 12,
    "start_time": "2022-03-22T17:23:27.328Z"
   },
   {
    "duration": 13,
    "start_time": "2022-03-22T17:28:02.280Z"
   },
   {
    "duration": 14,
    "start_time": "2022-03-22T17:28:08.835Z"
   },
   {
    "duration": 1510,
    "start_time": "2022-03-23T09:14:19.201Z"
   },
   {
    "duration": 70,
    "start_time": "2022-03-23T09:14:20.713Z"
   },
   {
    "duration": 16,
    "start_time": "2022-03-23T09:14:20.785Z"
   },
   {
    "duration": 23,
    "start_time": "2022-03-23T09:14:20.803Z"
   },
   {
    "duration": 472,
    "start_time": "2022-03-23T09:14:20.827Z"
   },
   {
    "duration": 19,
    "start_time": "2022-03-23T09:14:21.301Z"
   },
   {
    "duration": 79,
    "start_time": "2022-03-23T09:14:21.322Z"
   },
   {
    "duration": 102,
    "start_time": "2022-03-23T09:14:21.403Z"
   },
   {
    "duration": 9,
    "start_time": "2022-03-23T09:14:21.507Z"
   },
   {
    "duration": 20,
    "start_time": "2022-03-23T09:14:21.519Z"
   },
   {
    "duration": 100,
    "start_time": "2022-03-23T09:14:21.541Z"
   },
   {
    "duration": 102,
    "start_time": "2022-03-23T09:14:21.643Z"
   },
   {
    "duration": 418,
    "start_time": "2022-03-23T09:14:21.746Z"
   },
   {
    "duration": 6,
    "start_time": "2022-03-23T09:14:22.165Z"
   },
   {
    "duration": 30,
    "start_time": "2022-03-23T09:14:22.172Z"
   },
   {
    "duration": 82,
    "start_time": "2022-03-23T09:14:22.203Z"
   },
   {
    "duration": 182,
    "start_time": "2022-03-23T09:14:22.301Z"
   },
   {
    "duration": 32,
    "start_time": "2022-03-23T09:14:22.485Z"
   },
   {
    "duration": 3,
    "start_time": "2022-03-23T09:14:22.519Z"
   },
   {
    "duration": 88,
    "start_time": "2022-03-23T09:14:22.524Z"
   },
   {
    "duration": 7,
    "start_time": "2022-03-23T09:14:22.614Z"
   },
   {
    "duration": 138,
    "start_time": "2022-03-23T09:14:22.622Z"
   },
   {
    "duration": 15,
    "start_time": "2022-03-23T09:14:22.762Z"
   },
   {
    "duration": 35,
    "start_time": "2022-03-23T09:14:22.779Z"
   },
   {
    "duration": 97,
    "start_time": "2022-03-23T09:14:22.816Z"
   },
   {
    "duration": 1015,
    "start_time": "2022-03-23T09:14:22.915Z"
   },
   {
    "duration": 14,
    "start_time": "2022-03-23T09:14:23.932Z"
   },
   {
    "duration": 15,
    "start_time": "2022-03-23T09:14:23.949Z"
   },
   {
    "duration": 189,
    "start_time": "2022-03-23T09:14:23.966Z"
   },
   {
    "duration": 0,
    "start_time": "2022-03-23T09:14:24.157Z"
   },
   {
    "duration": 0,
    "start_time": "2022-03-23T09:14:24.158Z"
   },
   {
    "duration": 0,
    "start_time": "2022-03-23T09:14:24.159Z"
   },
   {
    "duration": 0,
    "start_time": "2022-03-23T09:14:24.160Z"
   },
   {
    "duration": 0,
    "start_time": "2022-03-23T09:14:24.161Z"
   },
   {
    "duration": 0,
    "start_time": "2022-03-23T09:14:24.162Z"
   },
   {
    "duration": 0,
    "start_time": "2022-03-23T09:14:24.163Z"
   },
   {
    "duration": 19,
    "start_time": "2022-03-23T09:15:14.533Z"
   },
   {
    "duration": 18,
    "start_time": "2022-03-23T09:15:38.393Z"
   },
   {
    "duration": 60,
    "start_time": "2022-03-23T09:16:00.822Z"
   },
   {
    "duration": 1310,
    "start_time": "2022-03-23T09:16:30.533Z"
   },
   {
    "duration": 65,
    "start_time": "2022-03-23T09:16:31.845Z"
   },
   {
    "duration": 13,
    "start_time": "2022-03-23T09:16:31.912Z"
   },
   {
    "duration": 23,
    "start_time": "2022-03-23T09:16:31.927Z"
   },
   {
    "duration": 469,
    "start_time": "2022-03-23T09:16:31.953Z"
   },
   {
    "duration": 19,
    "start_time": "2022-03-23T09:16:32.423Z"
   },
   {
    "duration": 58,
    "start_time": "2022-03-23T09:16:32.444Z"
   },
   {
    "duration": 113,
    "start_time": "2022-03-23T09:16:32.504Z"
   },
   {
    "duration": 9,
    "start_time": "2022-03-23T09:16:32.619Z"
   },
   {
    "duration": 46,
    "start_time": "2022-03-23T09:16:32.629Z"
   },
   {
    "duration": 88,
    "start_time": "2022-03-23T09:16:32.677Z"
   },
   {
    "duration": 101,
    "start_time": "2022-03-23T09:16:32.766Z"
   },
   {
    "duration": 414,
    "start_time": "2022-03-23T09:16:32.868Z"
   },
   {
    "duration": 6,
    "start_time": "2022-03-23T09:16:33.285Z"
   },
   {
    "duration": 16,
    "start_time": "2022-03-23T09:16:33.300Z"
   },
   {
    "duration": 93,
    "start_time": "2022-03-23T09:16:33.318Z"
   },
   {
    "duration": 188,
    "start_time": "2022-03-23T09:16:33.413Z"
   },
   {
    "duration": 24,
    "start_time": "2022-03-23T09:16:33.603Z"
   },
   {
    "duration": 4,
    "start_time": "2022-03-23T09:16:33.629Z"
   },
   {
    "duration": 87,
    "start_time": "2022-03-23T09:16:33.634Z"
   },
   {
    "duration": 6,
    "start_time": "2022-03-23T09:16:33.723Z"
   },
   {
    "duration": 142,
    "start_time": "2022-03-23T09:16:33.731Z"
   },
   {
    "duration": 27,
    "start_time": "2022-03-23T09:16:33.875Z"
   },
   {
    "duration": 19,
    "start_time": "2022-03-23T09:16:33.903Z"
   },
   {
    "duration": 101,
    "start_time": "2022-03-23T09:16:33.924Z"
   },
   {
    "duration": 885,
    "start_time": "2022-03-23T09:16:34.026Z"
   },
   {
    "duration": 16,
    "start_time": "2022-03-23T09:16:34.913Z"
   },
   {
    "duration": 15,
    "start_time": "2022-03-23T09:16:34.932Z"
   },
   {
    "duration": 84,
    "start_time": "2022-03-23T09:16:34.949Z"
   },
   {
    "duration": 6,
    "start_time": "2022-03-23T09:16:35.035Z"
   },
   {
    "duration": 27,
    "start_time": "2022-03-23T09:16:35.043Z"
   },
   {
    "duration": 5,
    "start_time": "2022-03-23T09:16:35.072Z"
   },
   {
    "duration": 26,
    "start_time": "2022-03-23T09:16:35.079Z"
   },
   {
    "duration": 16,
    "start_time": "2022-03-23T09:16:35.107Z"
   },
   {
    "duration": 15,
    "start_time": "2022-03-23T09:16:35.124Z"
   },
   {
    "duration": 341,
    "start_time": "2022-03-23T09:16:35.141Z"
   },
   {
    "duration": 175,
    "start_time": "2022-03-23T09:24:49.241Z"
   },
   {
    "duration": 16,
    "start_time": "2022-03-23T09:39:25.594Z"
   },
   {
    "duration": 24,
    "start_time": "2022-03-23T09:40:00.955Z"
   },
   {
    "duration": 20,
    "start_time": "2022-03-23T09:43:32.317Z"
   },
   {
    "duration": 24,
    "start_time": "2022-03-23T09:45:57.755Z"
   },
   {
    "duration": 23,
    "start_time": "2022-03-23T09:46:23.327Z"
   },
   {
    "duration": 117,
    "start_time": "2022-03-23T09:46:40.139Z"
   },
   {
    "duration": 90,
    "start_time": "2022-03-23T12:15:00.724Z"
   },
   {
    "duration": 86,
    "start_time": "2022-03-23T12:15:09.761Z"
   },
   {
    "duration": 1668,
    "start_time": "2022-03-23T12:15:22.348Z"
   },
   {
    "duration": 95,
    "start_time": "2022-03-23T12:15:24.019Z"
   },
   {
    "duration": 18,
    "start_time": "2022-03-23T12:15:24.116Z"
   },
   {
    "duration": 33,
    "start_time": "2022-03-23T12:15:24.137Z"
   },
   {
    "duration": 672,
    "start_time": "2022-03-23T12:15:24.173Z"
   },
   {
    "duration": 21,
    "start_time": "2022-03-23T12:15:24.847Z"
   },
   {
    "duration": 46,
    "start_time": "2022-03-23T12:15:24.870Z"
   },
   {
    "duration": 103,
    "start_time": "2022-03-23T12:15:24.918Z"
   },
   {
    "duration": 8,
    "start_time": "2022-03-23T12:15:25.023Z"
   },
   {
    "duration": 23,
    "start_time": "2022-03-23T12:15:25.034Z"
   },
   {
    "duration": 113,
    "start_time": "2022-03-23T12:15:25.059Z"
   },
   {
    "duration": 145,
    "start_time": "2022-03-23T12:15:25.174Z"
   },
   {
    "duration": 503,
    "start_time": "2022-03-23T12:15:25.321Z"
   },
   {
    "duration": 7,
    "start_time": "2022-03-23T12:15:25.827Z"
   },
   {
    "duration": 23,
    "start_time": "2022-03-23T12:15:25.836Z"
   },
   {
    "duration": 140,
    "start_time": "2022-03-23T12:15:25.862Z"
   },
   {
    "duration": 189,
    "start_time": "2022-03-23T12:15:26.005Z"
   },
   {
    "duration": 24,
    "start_time": "2022-03-23T12:15:26.196Z"
   },
   {
    "duration": 3,
    "start_time": "2022-03-23T12:15:26.222Z"
   },
   {
    "duration": 82,
    "start_time": "2022-03-23T12:15:26.227Z"
   },
   {
    "duration": 15,
    "start_time": "2022-03-23T12:15:26.311Z"
   },
   {
    "duration": 162,
    "start_time": "2022-03-23T12:15:26.329Z"
   },
   {
    "duration": 15,
    "start_time": "2022-03-23T12:15:26.502Z"
   },
   {
    "duration": 19,
    "start_time": "2022-03-23T12:15:26.519Z"
   },
   {
    "duration": 111,
    "start_time": "2022-03-23T12:15:26.540Z"
   },
   {
    "duration": 1208,
    "start_time": "2022-03-23T12:15:26.653Z"
   },
   {
    "duration": 16,
    "start_time": "2022-03-23T12:15:27.862Z"
   },
   {
    "duration": 15,
    "start_time": "2022-03-23T12:15:27.881Z"
   },
   {
    "duration": 60,
    "start_time": "2022-03-23T12:15:27.898Z"
   },
   {
    "duration": 8,
    "start_time": "2022-03-23T12:15:27.960Z"
   },
   {
    "duration": 35,
    "start_time": "2022-03-23T12:15:27.970Z"
   },
   {
    "duration": 7,
    "start_time": "2022-03-23T12:15:28.007Z"
   },
   {
    "duration": 10,
    "start_time": "2022-03-23T12:15:28.016Z"
   },
   {
    "duration": 10,
    "start_time": "2022-03-23T12:15:28.028Z"
   },
   {
    "duration": 18,
    "start_time": "2022-03-23T12:15:28.040Z"
   },
   {
    "duration": 146,
    "start_time": "2022-03-23T12:15:28.060Z"
   },
   {
    "duration": 2020,
    "start_time": "2022-03-23T21:13:12.909Z"
   },
   {
    "duration": 85,
    "start_time": "2022-03-23T21:13:14.931Z"
   },
   {
    "duration": 19,
    "start_time": "2022-03-23T21:13:15.018Z"
   },
   {
    "duration": 55,
    "start_time": "2022-03-23T21:13:15.040Z"
   },
   {
    "duration": 5708,
    "start_time": "2022-03-23T21:13:15.098Z"
   },
   {
    "duration": 33,
    "start_time": "2022-03-23T21:13:20.808Z"
   },
   {
    "duration": 37,
    "start_time": "2022-03-23T21:13:20.843Z"
   },
   {
    "duration": 117,
    "start_time": "2022-03-23T21:13:20.883Z"
   },
   {
    "duration": 12,
    "start_time": "2022-03-23T21:13:21.002Z"
   },
   {
    "duration": 38,
    "start_time": "2022-03-23T21:13:21.016Z"
   },
   {
    "duration": 141,
    "start_time": "2022-03-23T21:13:21.075Z"
   },
   {
    "duration": 136,
    "start_time": "2022-03-23T21:13:21.219Z"
   },
   {
    "duration": 735,
    "start_time": "2022-03-23T21:13:21.357Z"
   },
   {
    "duration": 6,
    "start_time": "2022-03-23T21:13:22.097Z"
   },
   {
    "duration": 41,
    "start_time": "2022-03-23T21:13:22.105Z"
   },
   {
    "duration": 171,
    "start_time": "2022-03-23T21:13:22.148Z"
   },
   {
    "duration": 456,
    "start_time": "2022-03-23T21:13:22.321Z"
   },
   {
    "duration": 31,
    "start_time": "2022-03-23T21:13:22.780Z"
   },
   {
    "duration": 7,
    "start_time": "2022-03-23T21:13:22.814Z"
   },
   {
    "duration": 44,
    "start_time": "2022-03-23T21:13:22.874Z"
   },
   {
    "duration": 58,
    "start_time": "2022-03-23T21:13:22.920Z"
   },
   {
    "duration": 179,
    "start_time": "2022-03-23T21:13:22.980Z"
   },
   {
    "duration": 25,
    "start_time": "2022-03-23T21:13:23.161Z"
   },
   {
    "duration": 30,
    "start_time": "2022-03-23T21:13:23.188Z"
   },
   {
    "duration": 142,
    "start_time": "2022-03-23T21:13:23.221Z"
   },
   {
    "duration": 1247,
    "start_time": "2022-03-23T21:13:23.373Z"
   },
   {
    "duration": 20,
    "start_time": "2022-03-23T21:13:24.622Z"
   },
   {
    "duration": 19,
    "start_time": "2022-03-23T21:13:24.644Z"
   },
   {
    "duration": 110,
    "start_time": "2022-03-23T21:13:24.672Z"
   },
   {
    "duration": 10,
    "start_time": "2022-03-23T21:13:24.784Z"
   },
   {
    "duration": 28,
    "start_time": "2022-03-23T21:13:24.796Z"
   },
   {
    "duration": 7,
    "start_time": "2022-03-23T21:13:24.827Z"
   },
   {
    "duration": 39,
    "start_time": "2022-03-23T21:13:24.837Z"
   },
   {
    "duration": 13,
    "start_time": "2022-03-23T21:13:24.878Z"
   },
   {
    "duration": 22,
    "start_time": "2022-03-23T21:13:24.893Z"
   },
   {
    "duration": 197,
    "start_time": "2022-03-23T21:13:24.918Z"
   },
   {
    "duration": 81,
    "start_time": "2022-03-24T07:03:16.144Z"
   },
   {
    "duration": 15,
    "start_time": "2022-03-24T07:04:07.719Z"
   },
   {
    "duration": 2750,
    "start_time": "2022-03-24T07:04:42.109Z"
   },
   {
    "duration": 86,
    "start_time": "2022-03-24T07:04:44.861Z"
   },
   {
    "duration": 19,
    "start_time": "2022-03-24T07:04:44.949Z"
   },
   {
    "duration": 30,
    "start_time": "2022-03-24T07:04:44.984Z"
   },
   {
    "duration": 635,
    "start_time": "2022-03-24T07:04:45.017Z"
   },
   {
    "duration": 44,
    "start_time": "2022-03-24T07:04:45.654Z"
   },
   {
    "duration": 101,
    "start_time": "2022-03-24T07:04:45.700Z"
   },
   {
    "duration": 209,
    "start_time": "2022-03-24T07:04:45.803Z"
   },
   {
    "duration": 11,
    "start_time": "2022-03-24T07:04:46.014Z"
   },
   {
    "duration": 33,
    "start_time": "2022-03-24T07:04:46.029Z"
   },
   {
    "duration": 149,
    "start_time": "2022-03-24T07:04:46.064Z"
   },
   {
    "duration": 139,
    "start_time": "2022-03-24T07:04:46.215Z"
   },
   {
    "duration": 578,
    "start_time": "2022-03-24T07:04:46.356Z"
   },
   {
    "duration": 7,
    "start_time": "2022-03-24T07:04:46.937Z"
   },
   {
    "duration": 38,
    "start_time": "2022-03-24T07:04:46.946Z"
   },
   {
    "duration": 179,
    "start_time": "2022-03-24T07:04:46.986Z"
   },
   {
    "duration": 427,
    "start_time": "2022-03-24T07:04:47.169Z"
   },
   {
    "duration": 32,
    "start_time": "2022-03-24T07:04:47.598Z"
   },
   {
    "duration": 52,
    "start_time": "2022-03-24T07:04:47.633Z"
   },
   {
    "duration": 97,
    "start_time": "2022-03-24T07:04:47.688Z"
   },
   {
    "duration": 10,
    "start_time": "2022-03-24T07:04:47.788Z"
   },
   {
    "duration": 203,
    "start_time": "2022-03-24T07:04:47.801Z"
   },
   {
    "duration": 22,
    "start_time": "2022-03-24T07:04:48.006Z"
   },
   {
    "duration": 54,
    "start_time": "2022-03-24T07:04:48.031Z"
   },
   {
    "duration": 138,
    "start_time": "2022-03-24T07:04:48.087Z"
   },
   {
    "duration": 1141,
    "start_time": "2022-03-24T07:04:48.227Z"
   },
   {
    "duration": 23,
    "start_time": "2022-03-24T07:04:49.371Z"
   },
   {
    "duration": 19,
    "start_time": "2022-03-24T07:04:49.400Z"
   },
   {
    "duration": 108,
    "start_time": "2022-03-24T07:04:49.421Z"
   },
   {
    "duration": 9,
    "start_time": "2022-03-24T07:04:49.532Z"
   },
   {
    "duration": 44,
    "start_time": "2022-03-24T07:04:49.543Z"
   },
   {
    "duration": 7,
    "start_time": "2022-03-24T07:04:49.590Z"
   },
   {
    "duration": 10,
    "start_time": "2022-03-24T07:04:49.599Z"
   },
   {
    "duration": 11,
    "start_time": "2022-03-24T07:04:49.611Z"
   },
   {
    "duration": 21,
    "start_time": "2022-03-24T07:04:49.625Z"
   },
   {
    "duration": 210,
    "start_time": "2022-03-24T07:04:49.648Z"
   },
   {
    "duration": 239,
    "start_time": "2022-03-24T07:05:59.242Z"
   },
   {
    "duration": 148,
    "start_time": "2022-03-24T07:12:53.829Z"
   },
   {
    "duration": 28,
    "start_time": "2022-03-24T07:13:20.654Z"
   },
   {
    "duration": 52,
    "start_time": "2022-03-24T07:14:09.995Z"
   },
   {
    "duration": 37,
    "start_time": "2022-03-24T07:15:31.479Z"
   },
   {
    "duration": 50,
    "start_time": "2022-03-24T07:15:38.033Z"
   },
   {
    "duration": 34,
    "start_time": "2022-03-24T08:36:57.000Z"
   },
   {
    "duration": 11,
    "start_time": "2022-03-24T08:50:10.357Z"
   },
   {
    "duration": 11,
    "start_time": "2022-03-24T08:51:56.893Z"
   },
   {
    "duration": 6,
    "start_time": "2022-03-24T08:52:42.368Z"
   },
   {
    "duration": 10,
    "start_time": "2022-03-24T08:54:31.623Z"
   },
   {
    "duration": 9,
    "start_time": "2022-03-24T08:54:39.706Z"
   },
   {
    "duration": 9,
    "start_time": "2022-03-24T08:54:52.104Z"
   },
   {
    "duration": 9,
    "start_time": "2022-03-24T08:55:02.306Z"
   },
   {
    "duration": 10,
    "start_time": "2022-03-24T08:55:29.054Z"
   },
   {
    "duration": 11,
    "start_time": "2022-03-24T08:56:59.188Z"
   },
   {
    "duration": 15,
    "start_time": "2022-03-24T08:57:06.154Z"
   },
   {
    "duration": 9,
    "start_time": "2022-03-24T08:57:15.610Z"
   },
   {
    "duration": 18,
    "start_time": "2022-03-24T08:57:32.275Z"
   },
   {
    "duration": 27,
    "start_time": "2022-03-24T08:57:51.225Z"
   },
   {
    "duration": 20,
    "start_time": "2022-03-24T08:58:09.962Z"
   },
   {
    "duration": 28,
    "start_time": "2022-03-24T08:58:38.171Z"
   },
   {
    "duration": 16,
    "start_time": "2022-03-24T09:00:08.577Z"
   },
   {
    "duration": 103,
    "start_time": "2022-03-24T09:04:24.517Z"
   },
   {
    "duration": 19,
    "start_time": "2022-03-24T09:04:58.799Z"
   },
   {
    "duration": 21,
    "start_time": "2022-03-24T09:05:05.963Z"
   },
   {
    "duration": 134,
    "start_time": "2022-03-24T09:39:12.079Z"
   },
   {
    "duration": 2138,
    "start_time": "2022-03-24T09:50:33.251Z"
   },
   {
    "duration": 1963,
    "start_time": "2022-03-24T09:55:14.018Z"
   },
   {
    "duration": 1929,
    "start_time": "2022-03-24T09:55:25.638Z"
   },
   {
    "duration": 1797,
    "start_time": "2022-03-24T09:55:54.558Z"
   },
   {
    "duration": 18,
    "start_time": "2022-03-24T09:56:47.396Z"
   },
   {
    "duration": 21,
    "start_time": "2022-03-24T09:57:04.528Z"
   },
   {
    "duration": 4,
    "start_time": "2022-03-24T09:57:11.563Z"
   },
   {
    "duration": 5,
    "start_time": "2022-03-24T09:57:53.247Z"
   },
   {
    "duration": 5,
    "start_time": "2022-03-24T09:58:35.548Z"
   },
   {
    "duration": 5,
    "start_time": "2022-03-24T09:58:53.122Z"
   },
   {
    "duration": 6,
    "start_time": "2022-03-24T09:59:12.813Z"
   },
   {
    "duration": 1838,
    "start_time": "2022-03-24T09:59:20.875Z"
   },
   {
    "duration": 1988,
    "start_time": "2022-03-24T09:59:32.364Z"
   },
   {
    "duration": 24,
    "start_time": "2022-03-24T10:00:22.822Z"
   },
   {
    "duration": 27,
    "start_time": "2022-03-24T10:00:58.328Z"
   },
   {
    "duration": 39,
    "start_time": "2022-03-24T10:02:51.504Z"
   },
   {
    "duration": 38,
    "start_time": "2022-03-24T10:02:56.732Z"
   },
   {
    "duration": 19,
    "start_time": "2022-03-24T10:04:23.693Z"
   },
   {
    "duration": 27,
    "start_time": "2022-03-24T10:04:32.859Z"
   },
   {
    "duration": 28,
    "start_time": "2022-03-24T10:05:01.765Z"
   },
   {
    "duration": 28,
    "start_time": "2022-03-24T10:07:58.844Z"
   },
   {
    "duration": 18,
    "start_time": "2022-03-24T10:08:31.964Z"
   },
   {
    "duration": 33,
    "start_time": "2022-03-24T10:09:10.665Z"
   },
   {
    "duration": 61,
    "start_time": "2022-03-24T10:10:35.131Z"
   },
   {
    "duration": 107,
    "start_time": "2022-03-24T10:10:45.363Z"
   },
   {
    "duration": 36,
    "start_time": "2022-03-24T10:10:49.522Z"
   },
   {
    "duration": 37,
    "start_time": "2022-03-24T10:11:44.900Z"
   },
   {
    "duration": 476,
    "start_time": "2022-03-24T10:11:52.973Z"
   },
   {
    "duration": 440,
    "start_time": "2022-03-24T10:13:25.772Z"
   },
   {
    "duration": 28,
    "start_time": "2022-03-24T10:14:19.206Z"
   },
   {
    "duration": 2748,
    "start_time": "2022-03-24T10:14:27.914Z"
   },
   {
    "duration": 2189,
    "start_time": "2022-03-24T10:14:56.504Z"
   },
   {
    "duration": 2031,
    "start_time": "2022-03-24T10:15:40.556Z"
   },
   {
    "duration": 2219,
    "start_time": "2022-03-24T10:15:53.370Z"
   },
   {
    "duration": 2327,
    "start_time": "2022-03-24T10:16:46.817Z"
   },
   {
    "duration": 1846,
    "start_time": "2022-03-24T10:18:11.623Z"
   },
   {
    "duration": 2090,
    "start_time": "2022-03-24T10:18:25.349Z"
   },
   {
    "duration": 22,
    "start_time": "2022-03-24T10:18:42.663Z"
   },
   {
    "duration": 1727,
    "start_time": "2022-03-24T10:19:11.960Z"
   },
   {
    "duration": 106,
    "start_time": "2022-03-24T10:19:13.690Z"
   },
   {
    "duration": 18,
    "start_time": "2022-03-24T10:19:13.799Z"
   },
   {
    "duration": 31,
    "start_time": "2022-03-24T10:19:13.819Z"
   },
   {
    "duration": 909,
    "start_time": "2022-03-24T10:19:13.853Z"
   },
   {
    "duration": 32,
    "start_time": "2022-03-24T10:19:14.765Z"
   },
   {
    "duration": 88,
    "start_time": "2022-03-24T10:19:14.800Z"
   },
   {
    "duration": 203,
    "start_time": "2022-03-24T10:19:14.891Z"
   },
   {
    "duration": 13,
    "start_time": "2022-03-24T10:19:15.097Z"
   },
   {
    "duration": 50,
    "start_time": "2022-03-24T10:19:15.112Z"
   },
   {
    "duration": 139,
    "start_time": "2022-03-24T10:19:15.164Z"
   },
   {
    "duration": 149,
    "start_time": "2022-03-24T10:19:15.306Z"
   },
   {
    "duration": 721,
    "start_time": "2022-03-24T10:19:15.457Z"
   },
   {
    "duration": 10,
    "start_time": "2022-03-24T10:19:16.189Z"
   },
   {
    "duration": 28,
    "start_time": "2022-03-24T10:19:16.203Z"
   },
   {
    "duration": 432,
    "start_time": "2022-03-24T10:19:16.234Z"
   },
   {
    "duration": 0,
    "start_time": "2022-03-24T10:19:16.669Z"
   },
   {
    "duration": 0,
    "start_time": "2022-03-24T10:19:16.671Z"
   },
   {
    "duration": 0,
    "start_time": "2022-03-24T10:19:16.672Z"
   },
   {
    "duration": 0,
    "start_time": "2022-03-24T10:19:16.685Z"
   },
   {
    "duration": 0,
    "start_time": "2022-03-24T10:19:16.686Z"
   },
   {
    "duration": 0,
    "start_time": "2022-03-24T10:19:16.687Z"
   },
   {
    "duration": 0,
    "start_time": "2022-03-24T10:19:16.689Z"
   },
   {
    "duration": 0,
    "start_time": "2022-03-24T10:19:16.690Z"
   },
   {
    "duration": 0,
    "start_time": "2022-03-24T10:19:16.692Z"
   },
   {
    "duration": 0,
    "start_time": "2022-03-24T10:19:16.694Z"
   },
   {
    "duration": 0,
    "start_time": "2022-03-24T10:19:16.696Z"
   },
   {
    "duration": 0,
    "start_time": "2022-03-24T10:19:16.698Z"
   },
   {
    "duration": 0,
    "start_time": "2022-03-24T10:19:16.700Z"
   },
   {
    "duration": 0,
    "start_time": "2022-03-24T10:19:16.701Z"
   },
   {
    "duration": 0,
    "start_time": "2022-03-24T10:19:16.703Z"
   },
   {
    "duration": 0,
    "start_time": "2022-03-24T10:19:16.704Z"
   },
   {
    "duration": 0,
    "start_time": "2022-03-24T10:19:16.706Z"
   },
   {
    "duration": 0,
    "start_time": "2022-03-24T10:19:16.708Z"
   },
   {
    "duration": 0,
    "start_time": "2022-03-24T10:19:16.709Z"
   },
   {
    "duration": 0,
    "start_time": "2022-03-24T10:19:16.710Z"
   },
   {
    "duration": 0,
    "start_time": "2022-03-24T10:19:16.711Z"
   },
   {
    "duration": 0,
    "start_time": "2022-03-24T10:19:16.712Z"
   },
   {
    "duration": 30,
    "start_time": "2022-03-24T10:22:16.311Z"
   },
   {
    "duration": 1703,
    "start_time": "2022-03-24T10:23:28.032Z"
   },
   {
    "duration": 4037,
    "start_time": "2022-03-24T10:23:58.780Z"
   },
   {
    "duration": 1816,
    "start_time": "2022-03-24T10:24:11.430Z"
   },
   {
    "duration": 23,
    "start_time": "2022-03-24T10:24:25.726Z"
   },
   {
    "duration": 20,
    "start_time": "2022-03-24T10:24:32.880Z"
   },
   {
    "duration": 2232,
    "start_time": "2022-03-24T10:24:37.022Z"
   },
   {
    "duration": 2093,
    "start_time": "2022-03-24T10:24:46.420Z"
   },
   {
    "duration": 1724,
    "start_time": "2022-03-24T10:25:08.860Z"
   },
   {
    "duration": 87,
    "start_time": "2022-03-24T10:25:10.586Z"
   },
   {
    "duration": 24,
    "start_time": "2022-03-24T10:25:10.676Z"
   },
   {
    "duration": 30,
    "start_time": "2022-03-24T10:25:10.703Z"
   },
   {
    "duration": 635,
    "start_time": "2022-03-24T10:25:10.736Z"
   },
   {
    "duration": 27,
    "start_time": "2022-03-24T10:25:11.373Z"
   },
   {
    "duration": 84,
    "start_time": "2022-03-24T10:25:11.402Z"
   },
   {
    "duration": 154,
    "start_time": "2022-03-24T10:25:11.488Z"
   },
   {
    "duration": 47,
    "start_time": "2022-03-24T10:25:11.645Z"
   },
   {
    "duration": 36,
    "start_time": "2022-03-24T10:25:11.699Z"
   },
   {
    "duration": 171,
    "start_time": "2022-03-24T10:25:11.738Z"
   },
   {
    "duration": 154,
    "start_time": "2022-03-24T10:25:11.911Z"
   },
   {
    "duration": 576,
    "start_time": "2022-03-24T10:25:12.067Z"
   },
   {
    "duration": 9,
    "start_time": "2022-03-24T10:25:12.646Z"
   },
   {
    "duration": 44,
    "start_time": "2022-03-24T10:25:12.658Z"
   },
   {
    "duration": 2721,
    "start_time": "2022-03-24T10:25:12.704Z"
   },
   {
    "duration": 0,
    "start_time": "2022-03-24T10:25:15.430Z"
   },
   {
    "duration": 0,
    "start_time": "2022-03-24T10:25:15.432Z"
   },
   {
    "duration": 0,
    "start_time": "2022-03-24T10:25:15.435Z"
   },
   {
    "duration": 0,
    "start_time": "2022-03-24T10:25:15.437Z"
   },
   {
    "duration": 0,
    "start_time": "2022-03-24T10:25:15.439Z"
   },
   {
    "duration": 0,
    "start_time": "2022-03-24T10:25:15.442Z"
   },
   {
    "duration": 0,
    "start_time": "2022-03-24T10:25:15.444Z"
   },
   {
    "duration": 0,
    "start_time": "2022-03-24T10:25:15.446Z"
   },
   {
    "duration": 0,
    "start_time": "2022-03-24T10:25:15.448Z"
   },
   {
    "duration": 0,
    "start_time": "2022-03-24T10:25:15.450Z"
   },
   {
    "duration": 0,
    "start_time": "2022-03-24T10:25:15.453Z"
   },
   {
    "duration": 0,
    "start_time": "2022-03-24T10:25:15.455Z"
   },
   {
    "duration": 0,
    "start_time": "2022-03-24T10:25:15.456Z"
   },
   {
    "duration": 0,
    "start_time": "2022-03-24T10:25:15.459Z"
   },
   {
    "duration": 0,
    "start_time": "2022-03-24T10:25:15.461Z"
   },
   {
    "duration": 0,
    "start_time": "2022-03-24T10:25:15.463Z"
   },
   {
    "duration": 0,
    "start_time": "2022-03-24T10:25:15.465Z"
   },
   {
    "duration": 0,
    "start_time": "2022-03-24T10:25:15.486Z"
   },
   {
    "duration": 0,
    "start_time": "2022-03-24T10:25:15.488Z"
   },
   {
    "duration": 0,
    "start_time": "2022-03-24T10:25:15.490Z"
   },
   {
    "duration": 0,
    "start_time": "2022-03-24T10:25:15.492Z"
   },
   {
    "duration": 0,
    "start_time": "2022-03-24T10:25:15.493Z"
   },
   {
    "duration": 31,
    "start_time": "2022-03-24T10:25:49.402Z"
   },
   {
    "duration": 1771,
    "start_time": "2022-03-24T10:26:05.578Z"
   },
   {
    "duration": 2906,
    "start_time": "2022-03-24T10:27:22.702Z"
   },
   {
    "duration": 3496,
    "start_time": "2022-03-24T10:27:36.564Z"
   },
   {
    "duration": 2442,
    "start_time": "2022-03-24T10:31:01.538Z"
   },
   {
    "duration": 1933,
    "start_time": "2022-03-24T10:32:18.067Z"
   },
   {
    "duration": 2057,
    "start_time": "2022-03-24T10:33:08.616Z"
   },
   {
    "duration": 126,
    "start_time": "2022-03-24T10:33:10.677Z"
   },
   {
    "duration": 27,
    "start_time": "2022-03-24T10:33:10.807Z"
   },
   {
    "duration": 61,
    "start_time": "2022-03-24T10:33:10.839Z"
   },
   {
    "duration": 645,
    "start_time": "2022-03-24T10:33:10.903Z"
   },
   {
    "duration": 36,
    "start_time": "2022-03-24T10:33:11.550Z"
   },
   {
    "duration": 107,
    "start_time": "2022-03-24T10:33:11.589Z"
   },
   {
    "duration": 142,
    "start_time": "2022-03-24T10:33:11.700Z"
   },
   {
    "duration": 11,
    "start_time": "2022-03-24T10:33:11.849Z"
   },
   {
    "duration": 28,
    "start_time": "2022-03-24T10:33:11.887Z"
   },
   {
    "duration": 158,
    "start_time": "2022-03-24T10:33:11.918Z"
   },
   {
    "duration": 150,
    "start_time": "2022-03-24T10:33:12.084Z"
   },
   {
    "duration": 557,
    "start_time": "2022-03-24T10:33:12.237Z"
   },
   {
    "duration": 9,
    "start_time": "2022-03-24T10:33:12.796Z"
   },
   {
    "duration": 53,
    "start_time": "2022-03-24T10:33:12.808Z"
   },
   {
    "duration": 40,
    "start_time": "2022-03-24T10:33:12.864Z"
   },
   {
    "duration": 29,
    "start_time": "2022-03-24T10:33:12.907Z"
   },
   {
    "duration": 188,
    "start_time": "2022-03-24T10:33:12.938Z"
   },
   {
    "duration": 300,
    "start_time": "2022-03-24T10:33:13.129Z"
   },
   {
    "duration": 62,
    "start_time": "2022-03-24T10:33:13.431Z"
   },
   {
    "duration": 4,
    "start_time": "2022-03-24T10:33:13.496Z"
   },
   {
    "duration": 112,
    "start_time": "2022-03-24T10:33:13.503Z"
   },
   {
    "duration": 9,
    "start_time": "2022-03-24T10:33:13.617Z"
   },
   {
    "duration": 227,
    "start_time": "2022-03-24T10:33:13.629Z"
   },
   {
    "duration": 30,
    "start_time": "2022-03-24T10:33:13.859Z"
   },
   {
    "duration": 32,
    "start_time": "2022-03-24T10:33:13.891Z"
   },
   {
    "duration": 159,
    "start_time": "2022-03-24T10:33:13.926Z"
   },
   {
    "duration": 1209,
    "start_time": "2022-03-24T10:33:14.093Z"
   },
   {
    "duration": 20,
    "start_time": "2022-03-24T10:33:15.304Z"
   },
   {
    "duration": 19,
    "start_time": "2022-03-24T10:33:15.328Z"
   },
   {
    "duration": 117,
    "start_time": "2022-03-24T10:33:15.350Z"
   },
   {
    "duration": 9,
    "start_time": "2022-03-24T10:33:15.485Z"
   },
   {
    "duration": 24,
    "start_time": "2022-03-24T10:33:15.497Z"
   },
   {
    "duration": 6,
    "start_time": "2022-03-24T10:33:15.524Z"
   },
   {
    "duration": 9,
    "start_time": "2022-03-24T10:33:15.533Z"
   },
   {
    "duration": 11,
    "start_time": "2022-03-24T10:33:15.583Z"
   },
   {
    "duration": 35,
    "start_time": "2022-03-24T10:33:15.596Z"
   },
   {
    "duration": 204,
    "start_time": "2022-03-24T10:33:15.634Z"
   },
   {
    "duration": 20,
    "start_time": "2022-03-24T10:34:48.877Z"
   },
   {
    "duration": 21,
    "start_time": "2022-03-24T10:35:05.070Z"
   },
   {
    "duration": 1144,
    "start_time": "2022-03-24T10:38:27.994Z"
   },
   {
    "duration": 35,
    "start_time": "2022-03-24T10:38:43.597Z"
   },
   {
    "duration": 8,
    "start_time": "2022-03-24T10:50:47.982Z"
   },
   {
    "duration": 267,
    "start_time": "2022-03-24T10:50:52.842Z"
   },
   {
    "duration": 45,
    "start_time": "2022-03-24T10:51:07.828Z"
   },
   {
    "duration": 45,
    "start_time": "2022-03-24T10:51:16.373Z"
   },
   {
    "duration": 46,
    "start_time": "2022-03-24T10:51:24.889Z"
   },
   {
    "duration": 38,
    "start_time": "2022-03-24T10:51:57.275Z"
   },
   {
    "duration": 40,
    "start_time": "2022-03-24T10:52:04.759Z"
   },
   {
    "duration": 44,
    "start_time": "2022-03-24T10:52:21.344Z"
   },
   {
    "duration": 45,
    "start_time": "2022-03-24T10:52:46.533Z"
   },
   {
    "duration": 39,
    "start_time": "2022-03-24T10:53:20.646Z"
   },
   {
    "duration": 39,
    "start_time": "2022-03-24T10:56:13.277Z"
   },
   {
    "duration": 38,
    "start_time": "2022-03-24T10:56:23.656Z"
   },
   {
    "duration": 27,
    "start_time": "2022-03-24T10:56:33.138Z"
   },
   {
    "duration": 27,
    "start_time": "2022-03-24T10:56:42.072Z"
   },
   {
    "duration": 1815,
    "start_time": "2022-03-24T11:01:25.498Z"
   },
   {
    "duration": 93,
    "start_time": "2022-03-24T11:01:27.316Z"
   },
   {
    "duration": 28,
    "start_time": "2022-03-24T11:01:27.411Z"
   },
   {
    "duration": 58,
    "start_time": "2022-03-24T11:01:27.441Z"
   },
   {
    "duration": 870,
    "start_time": "2022-03-24T11:01:27.504Z"
   },
   {
    "duration": 28,
    "start_time": "2022-03-24T11:01:28.377Z"
   },
   {
    "duration": 88,
    "start_time": "2022-03-24T11:01:28.407Z"
   },
   {
    "duration": 151,
    "start_time": "2022-03-24T11:01:28.497Z"
   },
   {
    "duration": 36,
    "start_time": "2022-03-24T11:01:28.651Z"
   },
   {
    "duration": 27,
    "start_time": "2022-03-24T11:01:28.689Z"
   },
   {
    "duration": 174,
    "start_time": "2022-03-24T11:01:28.719Z"
   },
   {
    "duration": 208,
    "start_time": "2022-03-24T11:01:28.896Z"
   },
   {
    "duration": 538,
    "start_time": "2022-03-24T11:01:29.106Z"
   },
   {
    "duration": 8,
    "start_time": "2022-03-24T11:01:29.648Z"
   },
   {
    "duration": 34,
    "start_time": "2022-03-24T11:01:29.658Z"
   },
   {
    "duration": 32,
    "start_time": "2022-03-24T11:01:29.695Z"
   },
   {
    "duration": 21,
    "start_time": "2022-03-24T11:01:29.730Z"
   },
   {
    "duration": 170,
    "start_time": "2022-03-24T11:01:29.753Z"
   },
   {
    "duration": 311,
    "start_time": "2022-03-24T11:01:29.926Z"
   },
   {
    "duration": 76,
    "start_time": "2022-03-24T11:01:30.240Z"
   },
   {
    "duration": 7,
    "start_time": "2022-03-24T11:01:30.318Z"
   },
   {
    "duration": 96,
    "start_time": "2022-03-24T11:01:30.328Z"
   },
   {
    "duration": 25,
    "start_time": "2022-03-24T11:01:30.426Z"
   },
   {
    "duration": 207,
    "start_time": "2022-03-24T11:01:30.453Z"
   },
   {
    "duration": 30,
    "start_time": "2022-03-24T11:01:30.662Z"
   },
   {
    "duration": 26,
    "start_time": "2022-03-24T11:01:30.694Z"
   },
   {
    "duration": 173,
    "start_time": "2022-03-24T11:01:30.723Z"
   },
   {
    "duration": 1139,
    "start_time": "2022-03-24T11:01:30.899Z"
   },
   {
    "duration": 21,
    "start_time": "2022-03-24T11:01:32.040Z"
   },
   {
    "duration": 22,
    "start_time": "2022-03-24T11:01:32.063Z"
   },
   {
    "duration": 100,
    "start_time": "2022-03-24T11:01:32.088Z"
   },
   {
    "duration": 10,
    "start_time": "2022-03-24T11:01:32.190Z"
   },
   {
    "duration": 36,
    "start_time": "2022-03-24T11:01:32.202Z"
   },
   {
    "duration": 8,
    "start_time": "2022-03-24T11:01:32.240Z"
   },
   {
    "duration": 51,
    "start_time": "2022-03-24T11:01:32.251Z"
   },
   {
    "duration": 17,
    "start_time": "2022-03-24T11:01:32.304Z"
   },
   {
    "duration": 23,
    "start_time": "2022-03-24T11:01:32.324Z"
   },
   {
    "duration": 180,
    "start_time": "2022-03-24T11:01:32.349Z"
   },
   {
    "duration": 7,
    "start_time": "2022-03-24T14:38:53.626Z"
   },
   {
    "duration": 44,
    "start_time": "2022-03-24T14:39:11.391Z"
   },
   {
    "duration": 3,
    "start_time": "2022-03-24T14:39:21.596Z"
   },
   {
    "duration": 104,
    "start_time": "2022-03-24T14:40:44.562Z"
   },
   {
    "duration": 120,
    "start_time": "2022-03-25T10:24:18.307Z"
   },
   {
    "duration": 0,
    "start_time": "2022-03-25T10:24:18.428Z"
   },
   {
    "duration": 0,
    "start_time": "2022-03-25T10:24:18.430Z"
   },
   {
    "duration": 0,
    "start_time": "2022-03-25T10:24:18.431Z"
   },
   {
    "duration": 0,
    "start_time": "2022-03-25T10:24:18.432Z"
   },
   {
    "duration": 0,
    "start_time": "2022-03-25T10:24:18.433Z"
   },
   {
    "duration": 0,
    "start_time": "2022-03-25T10:24:18.434Z"
   },
   {
    "duration": 0,
    "start_time": "2022-03-25T10:24:18.435Z"
   },
   {
    "duration": 0,
    "start_time": "2022-03-25T10:24:18.436Z"
   },
   {
    "duration": 0,
    "start_time": "2022-03-25T10:24:18.437Z"
   },
   {
    "duration": 0,
    "start_time": "2022-03-25T10:24:18.438Z"
   },
   {
    "duration": 46,
    "start_time": "2022-03-25T10:24:18.441Z"
   },
   {
    "duration": 0,
    "start_time": "2022-03-25T10:24:18.489Z"
   },
   {
    "duration": 0,
    "start_time": "2022-03-25T10:24:18.490Z"
   },
   {
    "duration": 0,
    "start_time": "2022-03-25T10:24:18.491Z"
   },
   {
    "duration": 0,
    "start_time": "2022-03-25T10:24:18.493Z"
   },
   {
    "duration": 0,
    "start_time": "2022-03-25T10:24:18.494Z"
   },
   {
    "duration": 0,
    "start_time": "2022-03-25T10:24:18.495Z"
   },
   {
    "duration": 0,
    "start_time": "2022-03-25T10:24:18.496Z"
   },
   {
    "duration": 8,
    "start_time": "2022-03-25T10:24:18.544Z"
   },
   {
    "duration": 0,
    "start_time": "2022-03-25T10:24:18.554Z"
   },
   {
    "duration": 0,
    "start_time": "2022-03-25T10:24:18.556Z"
   },
   {
    "duration": 0,
    "start_time": "2022-03-25T10:24:18.557Z"
   },
   {
    "duration": 0,
    "start_time": "2022-03-25T10:24:18.559Z"
   },
   {
    "duration": 0,
    "start_time": "2022-03-25T10:24:18.560Z"
   },
   {
    "duration": 0,
    "start_time": "2022-03-25T10:24:18.562Z"
   },
   {
    "duration": 0,
    "start_time": "2022-03-25T10:24:18.564Z"
   },
   {
    "duration": 0,
    "start_time": "2022-03-25T10:24:18.565Z"
   },
   {
    "duration": 0,
    "start_time": "2022-03-25T10:24:18.567Z"
   },
   {
    "duration": 0,
    "start_time": "2022-03-25T10:24:18.569Z"
   },
   {
    "duration": 0,
    "start_time": "2022-03-25T10:24:18.570Z"
   },
   {
    "duration": 0,
    "start_time": "2022-03-25T10:24:18.571Z"
   },
   {
    "duration": 0,
    "start_time": "2022-03-25T10:24:18.573Z"
   },
   {
    "duration": 0,
    "start_time": "2022-03-25T10:24:18.574Z"
   },
   {
    "duration": 1,
    "start_time": "2022-03-25T10:24:18.575Z"
   },
   {
    "duration": 0,
    "start_time": "2022-03-25T10:24:18.577Z"
   },
   {
    "duration": 0,
    "start_time": "2022-03-25T10:24:18.579Z"
   },
   {
    "duration": 0,
    "start_time": "2022-03-25T10:24:18.580Z"
   },
   {
    "duration": 0,
    "start_time": "2022-03-25T10:24:18.638Z"
   },
   {
    "duration": 0,
    "start_time": "2022-03-25T10:24:18.640Z"
   },
   {
    "duration": 102,
    "start_time": "2022-03-25T10:25:11.946Z"
   }
  ],
  "kernelspec": {
   "display_name": "Python 3 (ipykernel)",
   "language": "python",
   "name": "python3"
  },
  "language_info": {
   "codemirror_mode": {
    "name": "ipython",
    "version": 3
   },
   "file_extension": ".py",
   "mimetype": "text/x-python",
   "name": "python",
   "nbconvert_exporter": "python",
   "pygments_lexer": "ipython3",
   "version": "3.9.7"
  },
  "toc": {
   "base_numbering": 1,
   "nav_menu": {},
   "number_sections": true,
   "sideBar": true,
   "skip_h1_title": true,
   "title_cell": "Table of Contents",
   "title_sidebar": "Contents",
   "toc_cell": false,
   "toc_position": {
    "height": "calc(100% - 180px)",
    "left": "10px",
    "top": "150px",
    "width": "279.391px"
   },
   "toc_section_display": true,
   "toc_window_display": true
  }
 },
 "nbformat": 4,
 "nbformat_minor": 2
}
