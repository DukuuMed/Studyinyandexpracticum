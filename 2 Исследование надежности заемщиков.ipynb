{
 "cells": [
  {
   "cell_type": "markdown",
   "metadata": {},
   "source": [
    "<div class=\"alert alert-success\">\n",
    "<font size=\"5\"><b>Комментарий ревьюера 2</b></font>\n",
    "\n",
    "Привет еще раз. Спасибо, что доделал работу. Оформление комментариев по работе сохраняется. Только обозначим, что это вторая итерация. \n",
    "\n",
    "</div>"
   ]
  },
  {
   "cell_type": "markdown",
   "metadata": {},
   "source": [
    "<div class=\"alert alert-success\">\n",
    "<font size=\"5\"><b>Комментарий ревьюера</b></font>\n",
    "\n",
    "Привет еще раз! Спасибо, что исправил задание:) Ты проделал большую работу над проектом. Он выполнен уже на достойном уровне. Однако есть моменты, которые еще можно улучшить. Будет здорово, если ты, надеюсь, не против, если я буду на ты, будешь отвечать на комментарии и участвовать в диалоге. Если обращение на ты неприемлемо, то прошу сообщить. \n",
    "\n",
    "Мои комментарии обозначены пометкой **Комментарий ревьюера**. Далее в файле ты сможешь найти их в похожих ячейках:\n",
    "    \n",
    "<div class=\"alert alert-success\">Если фон комментария зелёный - всё сделано правильно. Рекомендации укажу таким же цветом;</div>\n",
    "        \n",
    "<div class=\"alert alert-warning\">Оранжевый - некритичные замечания. Если таких замечаний меньше трех - проект может быть принят без их отработки;</div>\n",
    "        \n",
    "<div class=\"alert alert-danger\">Красный - нужно переделать. </div>\n",
    "        \n",
    "Не удаляй эти комментарии и постарайся учесть их в ходе выполнения данного проекта. Свои же комментарии ты можешь обозначать любым заметным способом. \n",
    "\n",
    "</div>"
   ]
  },
  {
   "cell_type": "markdown",
   "metadata": {},
   "source": [
    "<div class=\"alert alert-success\">\n",
    "<font size=\"5\"><b>Комментарий ревьюера 0</b></font>\n",
    "\n",
    "Привет, Руслан! Спасибо, что прислал задание:) Поздравляю с первым сданным проектом. Меня зовут Слепцов Артем и я буду проверять твой проект) К сожалению, я не могу запустить твой проект полностью из-за ошибки в коде. Посмотри, что пошло не так. По окончании работы перезапускай проект с целью проверки работоспособности кода. Как исправишь неточность, присылай проект снова. Буду ждать :)\n",
    "\n",
    "</div>"
   ]
  },
  {
   "cell_type": "markdown",
   "metadata": {},
   "source": [
    "**Привет, Артем! Да, на ты конечно просто и удобно)Рад знакомству! при первых правках затупил, не поздоровался в коде, пардон!**"
   ]
  },
  {
   "cell_type": "markdown",
   "metadata": {},
   "source": [
    "<div class=\"alert alert-success\">\n",
    "<font size=\"5\"><b>Комментарий ревьюера 2</b></font>\n",
    "\n",
    "Бывает)\n",
    "\n",
    "</div>"
   ]
  },
  {
   "cell_type": "markdown",
   "metadata": {},
   "source": [
    "# Исследование надёжности заёмщиков\n",
    "\n",
    "Заказчик — кредитный отдел банка. Нужно разобраться, влияет ли семейное положение и количество детей клиента на факт погашения кредита в срок. Входные данные от банка — статистика о платёжеспособности клиентов.\n",
    "\n",
    "Результаты исследования будут учтены при построении модели **кредитного скоринга** — специальной системы, которая оценивает способность потенциального заёмщика вернуть кредит банку."
   ]
  },
  {
   "cell_type": "markdown",
   "metadata": {},
   "source": [
    "<div class=\"alert alert-warning\">\n",
    "<font size=\"5\"><b>Комментарий ревьюера</b></font>\n",
    "\n",
    "Правильно, что есть краткое вступление в работу, описание того, что надо делать. В работе следует приводить информацию о входных данных: какие столбцы есть в таблице, их названия и какую информацию они несут. Так работа выглядит презентабельно. Подробнее смотри [методичку](https://www.notion.so/35d9c2f32ffa42f3b17010737aedca4b) по оформлению проектов. Она располагается в Notion в разделе \"Как оформлять проект\".\n",
    "\n",
    "</div>"
   ]
  },
  {
   "cell_type": "markdown",
   "metadata": {},
   "source": [
    "## Шаг 1. Откройте файл с данными и изучите общую информацию"
   ]
  },
  {
   "cell_type": "code",
   "execution_count": 1,
   "metadata": {},
   "outputs": [],
   "source": [
    "import pandas as pd"
   ]
  },
  {
   "cell_type": "markdown",
   "metadata": {},
   "source": [
    "Прочитаем файл data.csv и сохраним его в переменной df."
   ]
  },
  {
   "cell_type": "code",
   "execution_count": 2,
   "metadata": {},
   "outputs": [],
   "source": [
    "df = pd.read_csv('/datasets/data.csv')"
   ]
  },
  {
   "cell_type": "markdown",
   "metadata": {},
   "source": [
    "Посмотрим данные в файле методом info"
   ]
  },
  {
   "cell_type": "code",
   "execution_count": 3,
   "metadata": {
    "scrolled": true
   },
   "outputs": [
    {
     "name": "stdout",
     "output_type": "stream",
     "text": [
      "<class 'pandas.core.frame.DataFrame'>\n",
      "RangeIndex: 21525 entries, 0 to 21524\n",
      "Data columns (total 12 columns):\n",
      "children            21525 non-null int64\n",
      "days_employed       19351 non-null float64\n",
      "dob_years           21525 non-null int64\n",
      "education           21525 non-null object\n",
      "education_id        21525 non-null int64\n",
      "family_status       21525 non-null object\n",
      "family_status_id    21525 non-null int64\n",
      "gender              21525 non-null object\n",
      "income_type         21525 non-null object\n",
      "debt                21525 non-null int64\n",
      "total_income        19351 non-null float64\n",
      "purpose             21525 non-null object\n",
      "dtypes: float64(2), int64(5), object(5)\n",
      "memory usage: 2.0+ MB\n"
     ]
    }
   ],
   "source": [
    "df.info()"
   ]
  },
  {
   "cell_type": "code",
   "execution_count": 4,
   "metadata": {
    "scrolled": true
   },
   "outputs": [
    {
     "data": {
      "text/html": [
       "<div>\n",
       "<style scoped>\n",
       "    .dataframe tbody tr th:only-of-type {\n",
       "        vertical-align: middle;\n",
       "    }\n",
       "\n",
       "    .dataframe tbody tr th {\n",
       "        vertical-align: top;\n",
       "    }\n",
       "\n",
       "    .dataframe thead th {\n",
       "        text-align: right;\n",
       "    }\n",
       "</style>\n",
       "<table border=\"1\" class=\"dataframe\">\n",
       "  <thead>\n",
       "    <tr style=\"text-align: right;\">\n",
       "      <th></th>\n",
       "      <th>children</th>\n",
       "      <th>days_employed</th>\n",
       "      <th>dob_years</th>\n",
       "      <th>education</th>\n",
       "      <th>education_id</th>\n",
       "      <th>family_status</th>\n",
       "      <th>family_status_id</th>\n",
       "      <th>gender</th>\n",
       "      <th>income_type</th>\n",
       "      <th>debt</th>\n",
       "      <th>total_income</th>\n",
       "      <th>purpose</th>\n",
       "    </tr>\n",
       "  </thead>\n",
       "  <tbody>\n",
       "    <tr>\n",
       "      <td>0</td>\n",
       "      <td>1</td>\n",
       "      <td>-8437.673028</td>\n",
       "      <td>42</td>\n",
       "      <td>высшее</td>\n",
       "      <td>0</td>\n",
       "      <td>женат / замужем</td>\n",
       "      <td>0</td>\n",
       "      <td>F</td>\n",
       "      <td>сотрудник</td>\n",
       "      <td>0</td>\n",
       "      <td>253875.639453</td>\n",
       "      <td>покупка жилья</td>\n",
       "    </tr>\n",
       "    <tr>\n",
       "      <td>1</td>\n",
       "      <td>1</td>\n",
       "      <td>-4024.803754</td>\n",
       "      <td>36</td>\n",
       "      <td>среднее</td>\n",
       "      <td>1</td>\n",
       "      <td>женат / замужем</td>\n",
       "      <td>0</td>\n",
       "      <td>F</td>\n",
       "      <td>сотрудник</td>\n",
       "      <td>0</td>\n",
       "      <td>112080.014102</td>\n",
       "      <td>приобретение автомобиля</td>\n",
       "    </tr>\n",
       "    <tr>\n",
       "      <td>2</td>\n",
       "      <td>0</td>\n",
       "      <td>-5623.422610</td>\n",
       "      <td>33</td>\n",
       "      <td>Среднее</td>\n",
       "      <td>1</td>\n",
       "      <td>женат / замужем</td>\n",
       "      <td>0</td>\n",
       "      <td>M</td>\n",
       "      <td>сотрудник</td>\n",
       "      <td>0</td>\n",
       "      <td>145885.952297</td>\n",
       "      <td>покупка жилья</td>\n",
       "    </tr>\n",
       "    <tr>\n",
       "      <td>3</td>\n",
       "      <td>3</td>\n",
       "      <td>-4124.747207</td>\n",
       "      <td>32</td>\n",
       "      <td>среднее</td>\n",
       "      <td>1</td>\n",
       "      <td>женат / замужем</td>\n",
       "      <td>0</td>\n",
       "      <td>M</td>\n",
       "      <td>сотрудник</td>\n",
       "      <td>0</td>\n",
       "      <td>267628.550329</td>\n",
       "      <td>дополнительное образование</td>\n",
       "    </tr>\n",
       "    <tr>\n",
       "      <td>4</td>\n",
       "      <td>0</td>\n",
       "      <td>340266.072047</td>\n",
       "      <td>53</td>\n",
       "      <td>среднее</td>\n",
       "      <td>1</td>\n",
       "      <td>гражданский брак</td>\n",
       "      <td>1</td>\n",
       "      <td>F</td>\n",
       "      <td>пенсионер</td>\n",
       "      <td>0</td>\n",
       "      <td>158616.077870</td>\n",
       "      <td>сыграть свадьбу</td>\n",
       "    </tr>\n",
       "    <tr>\n",
       "      <td>5</td>\n",
       "      <td>0</td>\n",
       "      <td>-926.185831</td>\n",
       "      <td>27</td>\n",
       "      <td>высшее</td>\n",
       "      <td>0</td>\n",
       "      <td>гражданский брак</td>\n",
       "      <td>1</td>\n",
       "      <td>M</td>\n",
       "      <td>компаньон</td>\n",
       "      <td>0</td>\n",
       "      <td>255763.565419</td>\n",
       "      <td>покупка жилья</td>\n",
       "    </tr>\n",
       "    <tr>\n",
       "      <td>6</td>\n",
       "      <td>0</td>\n",
       "      <td>-2879.202052</td>\n",
       "      <td>43</td>\n",
       "      <td>высшее</td>\n",
       "      <td>0</td>\n",
       "      <td>женат / замужем</td>\n",
       "      <td>0</td>\n",
       "      <td>F</td>\n",
       "      <td>компаньон</td>\n",
       "      <td>0</td>\n",
       "      <td>240525.971920</td>\n",
       "      <td>операции с жильем</td>\n",
       "    </tr>\n",
       "    <tr>\n",
       "      <td>7</td>\n",
       "      <td>0</td>\n",
       "      <td>-152.779569</td>\n",
       "      <td>50</td>\n",
       "      <td>СРЕДНЕЕ</td>\n",
       "      <td>1</td>\n",
       "      <td>женат / замужем</td>\n",
       "      <td>0</td>\n",
       "      <td>M</td>\n",
       "      <td>сотрудник</td>\n",
       "      <td>0</td>\n",
       "      <td>135823.934197</td>\n",
       "      <td>образование</td>\n",
       "    </tr>\n",
       "    <tr>\n",
       "      <td>8</td>\n",
       "      <td>2</td>\n",
       "      <td>-6929.865299</td>\n",
       "      <td>35</td>\n",
       "      <td>ВЫСШЕЕ</td>\n",
       "      <td>0</td>\n",
       "      <td>гражданский брак</td>\n",
       "      <td>1</td>\n",
       "      <td>F</td>\n",
       "      <td>сотрудник</td>\n",
       "      <td>0</td>\n",
       "      <td>95856.832424</td>\n",
       "      <td>на проведение свадьбы</td>\n",
       "    </tr>\n",
       "    <tr>\n",
       "      <td>9</td>\n",
       "      <td>0</td>\n",
       "      <td>-2188.756445</td>\n",
       "      <td>41</td>\n",
       "      <td>среднее</td>\n",
       "      <td>1</td>\n",
       "      <td>женат / замужем</td>\n",
       "      <td>0</td>\n",
       "      <td>M</td>\n",
       "      <td>сотрудник</td>\n",
       "      <td>0</td>\n",
       "      <td>144425.938277</td>\n",
       "      <td>покупка жилья для семьи</td>\n",
       "    </tr>\n",
       "  </tbody>\n",
       "</table>\n",
       "</div>"
      ],
      "text/plain": [
       "   children  days_employed  dob_years education  education_id  \\\n",
       "0         1   -8437.673028         42    высшее             0   \n",
       "1         1   -4024.803754         36   среднее             1   \n",
       "2         0   -5623.422610         33   Среднее             1   \n",
       "3         3   -4124.747207         32   среднее             1   \n",
       "4         0  340266.072047         53   среднее             1   \n",
       "5         0    -926.185831         27    высшее             0   \n",
       "6         0   -2879.202052         43    высшее             0   \n",
       "7         0    -152.779569         50   СРЕДНЕЕ             1   \n",
       "8         2   -6929.865299         35    ВЫСШЕЕ             0   \n",
       "9         0   -2188.756445         41   среднее             1   \n",
       "\n",
       "      family_status  family_status_id gender income_type  debt   total_income  \\\n",
       "0   женат / замужем                 0      F   сотрудник     0  253875.639453   \n",
       "1   женат / замужем                 0      F   сотрудник     0  112080.014102   \n",
       "2   женат / замужем                 0      M   сотрудник     0  145885.952297   \n",
       "3   женат / замужем                 0      M   сотрудник     0  267628.550329   \n",
       "4  гражданский брак                 1      F   пенсионер     0  158616.077870   \n",
       "5  гражданский брак                 1      M   компаньон     0  255763.565419   \n",
       "6   женат / замужем                 0      F   компаньон     0  240525.971920   \n",
       "7   женат / замужем                 0      M   сотрудник     0  135823.934197   \n",
       "8  гражданский брак                 1      F   сотрудник     0   95856.832424   \n",
       "9   женат / замужем                 0      M   сотрудник     0  144425.938277   \n",
       "\n",
       "                      purpose  \n",
       "0               покупка жилья  \n",
       "1     приобретение автомобиля  \n",
       "2               покупка жилья  \n",
       "3  дополнительное образование  \n",
       "4             сыграть свадьбу  \n",
       "5               покупка жилья  \n",
       "6           операции с жильем  \n",
       "7                 образование  \n",
       "8       на проведение свадьбы  \n",
       "9     покупка жилья для семьи  "
      ]
     },
     "execution_count": 4,
     "metadata": {},
     "output_type": "execute_result"
    }
   ],
   "source": [
    "df.head(10)"
   ]
  },
  {
   "cell_type": "code",
   "execution_count": 5,
   "metadata": {},
   "outputs": [
    {
     "data": {
      "text/plain": [
       "54"
      ]
     },
     "execution_count": 5,
     "metadata": {},
     "output_type": "execute_result"
    }
   ],
   "source": [
    "df.duplicated().sum()"
   ]
  },
  {
   "cell_type": "code",
   "execution_count": 6,
   "metadata": {
    "scrolled": true
   },
   "outputs": [
    {
     "data": {
      "text/plain": [
       "children               0\n",
       "days_employed       2174\n",
       "dob_years              0\n",
       "education              0\n",
       "education_id           0\n",
       "family_status          0\n",
       "family_status_id       0\n",
       "gender                 0\n",
       "income_type            0\n",
       "debt                   0\n",
       "total_income        2174\n",
       "purpose                0\n",
       "dtype: int64"
      ]
     },
     "execution_count": 6,
     "metadata": {},
     "output_type": "execute_result"
    }
   ],
   "source": [
    "df.isnull().sum()"
   ]
  },
  {
   "cell_type": "markdown",
   "metadata": {},
   "source": [
    "**Вывод**"
   ]
  },
  {
   "cell_type": "raw",
   "metadata": {},
   "source": [
    "Всего 12 столбцов, 3 типа данных (float64(2), int64(5), object(5)), 21525 записей о клиентах. В исходных данных содержатся 54 строки с полными дубликатами.\n",
    "\n",
    "Согласно выданной документации столбцы сопровождаются описанием данных:\n",
    "\n",
    "children — количество детей в семье\n",
    "days_employed — общий трудовой стаж в днях\n",
    "dob_years — возраст клиента в годах\n",
    "education — уровень образования клиента\n",
    "education_id — идентификатор уровня образования\n",
    "family_status — семейное положение\n",
    "family_status_id — идентификатор семейного положения\n",
    "gender — пол клиента\n",
    "income_type — тип занятости\n",
    "debt — имел ли задолженность по возврату кредитов\n",
    "total_income — ежемесячный доход\n",
    "purpose — цель получения кредита\n",
    "\n",
    "В столбце education разное написание уровня образования\n",
    "В столбцах days_employed и total_income по 2174 пропуска\n",
    "В столбце days_employed есть отрицательные значения"
   ]
  },
  {
   "cell_type": "markdown",
   "metadata": {},
   "source": [
    "<div class=\"alert alert-success\">\n",
    "<font size=\"5\"><b>Комментарий ревьюера</b></font>\n",
    "\n",
    "Подумай также о возможных причинах появления пропусков, а также о том, являются ли они случайными или нет. Можно высказать предварительные варианты их обработки. \n",
    "\n",
    "Первый взгляд на таблицу выполнен.\n",
    "\n",
    "</div>"
   ]
  },
  {
   "cell_type": "markdown",
   "metadata": {},
   "source": [
    "**Да, я с таким в текущей работе тоже сталкиваюсь постоянно. Пока еще я просто в гугл таблицах с такими вещами работаю, как провило там пропуски возниают когда изначально данных не получено. Например люди просто не хотят оставлять свой номер телефона, а поскольку шаг в лидформе не обязательный, то ячейка остается пустой. Возможно в этом случае такая же ситуация и была.**"
   ]
  },
  {
   "cell_type": "markdown",
   "metadata": {},
   "source": [
    "<div class=\"alert alert-success\">\n",
    "<font size=\"5\"><b>Комментарий ревьюера 2</b></font>\n",
    "\n",
    "Да, вполне возможное предположение. \n",
    "</div>"
   ]
  },
  {
   "cell_type": "markdown",
   "metadata": {},
   "source": [
    "## Шаг 2. Предобработка данных"
   ]
  },
  {
   "cell_type": "markdown",
   "metadata": {},
   "source": [
    "### Обработка пропусков"
   ]
  },
  {
   "cell_type": "markdown",
   "metadata": {},
   "source": [
    "Нам нужно проверить данные - правильность наименования столбцов, пропуски, дубликаты."
   ]
  },
  {
   "cell_type": "code",
   "execution_count": 7,
   "metadata": {
    "scrolled": false
   },
   "outputs": [
    {
     "data": {
      "text/plain": [
       "Index(['children', 'days_employed', 'dob_years', 'education', 'education_id',\n",
       "       'family_status', 'family_status_id', 'gender', 'income_type', 'debt',\n",
       "       'total_income', 'purpose'],\n",
       "      dtype='object')"
      ]
     },
     "execution_count": 7,
     "metadata": {},
     "output_type": "execute_result"
    }
   ],
   "source": [
    "df.columns"
   ]
  },
  {
   "cell_type": "markdown",
   "metadata": {},
   "source": [
    "В названиях столбцов ошибок стилистики нет, все написано в змеином регистре."
   ]
  },
  {
   "cell_type": "markdown",
   "metadata": {},
   "source": [
    "Посмотрим на данные отдельно в стобцах 'days_employed' и 'total_income'"
   ]
  },
  {
   "cell_type": "code",
   "execution_count": 8,
   "metadata": {
    "scrolled": true
   },
   "outputs": [
    {
     "data": {
      "text/plain": [
       "0      -8437.673028\n",
       "1      -4024.803754\n",
       "2      -5623.422610\n",
       "3      -4124.747207\n",
       "4     340266.072047\n",
       "5       -926.185831\n",
       "6      -2879.202052\n",
       "7       -152.779569\n",
       "8      -6929.865299\n",
       "9      -2188.756445\n",
       "10     -4171.483647\n",
       "11      -792.701887\n",
       "12              NaN\n",
       "13     -1846.641941\n",
       "14     -1844.956182\n",
       "15      -972.364419\n",
       "16     -1719.934226\n",
       "17     -2369.999720\n",
       "18    400281.136913\n",
       "19    -10038.818549\n",
       "20     -1311.604166\n",
       "21      -253.685166\n",
       "22     -1766.644138\n",
       "23      -272.981385\n",
       "24    338551.952911\n",
       "25    363548.489348\n",
       "26              NaN\n",
       "27      -529.191635\n",
       "28      -717.274324\n",
       "29              NaN\n",
       "30    335581.668515\n",
       "31     -1682.083438\n",
       "32     -4649.910832\n",
       "33     -1548.637544\n",
       "34     -4488.067031\n",
       "35    394021.072184\n",
       "36      -176.216688\n",
       "37     -6448.810860\n",
       "38      -597.881827\n",
       "39      -650.587796\n",
       "40     -1030.362606\n",
       "41              NaN\n",
       "42     -1257.496190\n",
       "43     -4375.681384\n",
       "44     -1362.041728\n",
       "45     -1039.451741\n",
       "46     -2262.712304\n",
       "47     -2689.137274\n",
       "48     -3341.067886\n",
       "49     -1181.443228\n",
       "Name: days_employed, dtype: float64"
      ]
     },
     "execution_count": 8,
     "metadata": {},
     "output_type": "execute_result"
    }
   ],
   "source": [
    "df['days_employed'].head(50)"
   ]
  },
  {
   "cell_type": "markdown",
   "metadata": {},
   "source": [
    "В столбце общего трудового стажа в днях есть пропуски, при этом значения записаны и в отрицательном выражении и с дробной частью. Пропуски могут возникнуть в данном случае либо из-за отсутствия информации, либо из-за неверного формата записи."
   ]
  },
  {
   "cell_type": "code",
   "execution_count": 9,
   "metadata": {
    "scrolled": true
   },
   "outputs": [
    {
     "data": {
      "text/plain": [
       "0     253875.639453\n",
       "1     112080.014102\n",
       "2     145885.952297\n",
       "3     267628.550329\n",
       "4     158616.077870\n",
       "5     255763.565419\n",
       "6     240525.971920\n",
       "7     135823.934197\n",
       "8      95856.832424\n",
       "9     144425.938277\n",
       "10    113943.491460\n",
       "11     77069.234271\n",
       "12              NaN\n",
       "13    130458.228857\n",
       "14    165127.911772\n",
       "15    116820.904450\n",
       "16    289202.704229\n",
       "17     90410.586745\n",
       "18     56823.777243\n",
       "19    242831.107982\n",
       "20    209552.644578\n",
       "21    131812.203909\n",
       "22    149681.140731\n",
       "23    128265.720871\n",
       "24    290547.235997\n",
       "25     55112.757732\n",
       "26              NaN\n",
       "27    308848.983691\n",
       "28    187863.237306\n",
       "29              NaN\n",
       "30    171456.067993\n",
       "31    275485.684538\n",
       "32    139057.464207\n",
       "33    157245.786233\n",
       "34    104660.449203\n",
       "35     77805.677436\n",
       "36    138830.650734\n",
       "37    154128.878672\n",
       "38    192247.298639\n",
       "39    754240.797248\n",
       "40    142865.579146\n",
       "41              NaN\n",
       "42     82065.089021\n",
       "43    272957.133509\n",
       "44    100780.496749\n",
       "45    106385.919724\n",
       "46    182682.459898\n",
       "47    356277.909345\n",
       "48    162065.516450\n",
       "49     44591.806888\n",
       "Name: total_income, dtype: float64"
      ]
     },
     "execution_count": 9,
     "metadata": {},
     "output_type": "execute_result"
    }
   ],
   "source": [
    "df['total_income'].head(50)"
   ]
  },
  {
   "cell_type": "markdown",
   "metadata": {},
   "source": [
    "Аналогично, в столбце ежемесячного дохода присутствуют пропуски, вероятно, по тем же причинам. Нужно понять какими значениями мы можем заменить пропуски - напрмиер нулями или средними/медианными значениями по столбцу или вообще их удалить.  \n",
    "Поэтому проверим есть ли взаимосвязь между пропусками в этих двух столбцах (в одинаковых ли строках пропуски)\n"
   ]
  },
  {
   "cell_type": "code",
   "execution_count": 10,
   "metadata": {
    "scrolled": true
   },
   "outputs": [
    {
     "data": {
      "text/html": [
       "<div>\n",
       "<style scoped>\n",
       "    .dataframe tbody tr th:only-of-type {\n",
       "        vertical-align: middle;\n",
       "    }\n",
       "\n",
       "    .dataframe tbody tr th {\n",
       "        vertical-align: top;\n",
       "    }\n",
       "\n",
       "    .dataframe thead th {\n",
       "        text-align: right;\n",
       "    }\n",
       "</style>\n",
       "<table border=\"1\" class=\"dataframe\">\n",
       "  <thead>\n",
       "    <tr style=\"text-align: right;\">\n",
       "      <th></th>\n",
       "      <th>children</th>\n",
       "      <th>days_employed</th>\n",
       "      <th>dob_years</th>\n",
       "      <th>education</th>\n",
       "      <th>education_id</th>\n",
       "      <th>family_status</th>\n",
       "      <th>family_status_id</th>\n",
       "      <th>gender</th>\n",
       "      <th>income_type</th>\n",
       "      <th>debt</th>\n",
       "      <th>total_income</th>\n",
       "      <th>purpose</th>\n",
       "    </tr>\n",
       "  </thead>\n",
       "  <tbody>\n",
       "    <tr>\n",
       "      <td>12</td>\n",
       "      <td>0</td>\n",
       "      <td>NaN</td>\n",
       "      <td>65</td>\n",
       "      <td>среднее</td>\n",
       "      <td>1</td>\n",
       "      <td>гражданский брак</td>\n",
       "      <td>1</td>\n",
       "      <td>M</td>\n",
       "      <td>пенсионер</td>\n",
       "      <td>0</td>\n",
       "      <td>NaN</td>\n",
       "      <td>сыграть свадьбу</td>\n",
       "    </tr>\n",
       "    <tr>\n",
       "      <td>26</td>\n",
       "      <td>0</td>\n",
       "      <td>NaN</td>\n",
       "      <td>41</td>\n",
       "      <td>среднее</td>\n",
       "      <td>1</td>\n",
       "      <td>женат / замужем</td>\n",
       "      <td>0</td>\n",
       "      <td>M</td>\n",
       "      <td>госслужащий</td>\n",
       "      <td>0</td>\n",
       "      <td>NaN</td>\n",
       "      <td>образование</td>\n",
       "    </tr>\n",
       "    <tr>\n",
       "      <td>29</td>\n",
       "      <td>0</td>\n",
       "      <td>NaN</td>\n",
       "      <td>63</td>\n",
       "      <td>среднее</td>\n",
       "      <td>1</td>\n",
       "      <td>Не женат / не замужем</td>\n",
       "      <td>4</td>\n",
       "      <td>F</td>\n",
       "      <td>пенсионер</td>\n",
       "      <td>0</td>\n",
       "      <td>NaN</td>\n",
       "      <td>строительство жилой недвижимости</td>\n",
       "    </tr>\n",
       "    <tr>\n",
       "      <td>41</td>\n",
       "      <td>0</td>\n",
       "      <td>NaN</td>\n",
       "      <td>50</td>\n",
       "      <td>среднее</td>\n",
       "      <td>1</td>\n",
       "      <td>женат / замужем</td>\n",
       "      <td>0</td>\n",
       "      <td>F</td>\n",
       "      <td>госслужащий</td>\n",
       "      <td>0</td>\n",
       "      <td>NaN</td>\n",
       "      <td>сделка с подержанным автомобилем</td>\n",
       "    </tr>\n",
       "    <tr>\n",
       "      <td>55</td>\n",
       "      <td>0</td>\n",
       "      <td>NaN</td>\n",
       "      <td>54</td>\n",
       "      <td>среднее</td>\n",
       "      <td>1</td>\n",
       "      <td>гражданский брак</td>\n",
       "      <td>1</td>\n",
       "      <td>F</td>\n",
       "      <td>пенсионер</td>\n",
       "      <td>1</td>\n",
       "      <td>NaN</td>\n",
       "      <td>сыграть свадьбу</td>\n",
       "    </tr>\n",
       "    <tr>\n",
       "      <td>65</td>\n",
       "      <td>0</td>\n",
       "      <td>NaN</td>\n",
       "      <td>21</td>\n",
       "      <td>среднее</td>\n",
       "      <td>1</td>\n",
       "      <td>Не женат / не замужем</td>\n",
       "      <td>4</td>\n",
       "      <td>M</td>\n",
       "      <td>компаньон</td>\n",
       "      <td>0</td>\n",
       "      <td>NaN</td>\n",
       "      <td>операции с коммерческой недвижимостью</td>\n",
       "    </tr>\n",
       "    <tr>\n",
       "      <td>67</td>\n",
       "      <td>0</td>\n",
       "      <td>NaN</td>\n",
       "      <td>52</td>\n",
       "      <td>высшее</td>\n",
       "      <td>0</td>\n",
       "      <td>женат / замужем</td>\n",
       "      <td>0</td>\n",
       "      <td>F</td>\n",
       "      <td>пенсионер</td>\n",
       "      <td>0</td>\n",
       "      <td>NaN</td>\n",
       "      <td>покупка жилья для семьи</td>\n",
       "    </tr>\n",
       "    <tr>\n",
       "      <td>72</td>\n",
       "      <td>1</td>\n",
       "      <td>NaN</td>\n",
       "      <td>32</td>\n",
       "      <td>высшее</td>\n",
       "      <td>0</td>\n",
       "      <td>женат / замужем</td>\n",
       "      <td>0</td>\n",
       "      <td>M</td>\n",
       "      <td>госслужащий</td>\n",
       "      <td>0</td>\n",
       "      <td>NaN</td>\n",
       "      <td>операции с коммерческой недвижимостью</td>\n",
       "    </tr>\n",
       "    <tr>\n",
       "      <td>82</td>\n",
       "      <td>2</td>\n",
       "      <td>NaN</td>\n",
       "      <td>50</td>\n",
       "      <td>высшее</td>\n",
       "      <td>0</td>\n",
       "      <td>женат / замужем</td>\n",
       "      <td>0</td>\n",
       "      <td>F</td>\n",
       "      <td>сотрудник</td>\n",
       "      <td>0</td>\n",
       "      <td>NaN</td>\n",
       "      <td>жилье</td>\n",
       "    </tr>\n",
       "    <tr>\n",
       "      <td>83</td>\n",
       "      <td>0</td>\n",
       "      <td>NaN</td>\n",
       "      <td>52</td>\n",
       "      <td>среднее</td>\n",
       "      <td>1</td>\n",
       "      <td>женат / замужем</td>\n",
       "      <td>0</td>\n",
       "      <td>M</td>\n",
       "      <td>сотрудник</td>\n",
       "      <td>0</td>\n",
       "      <td>NaN</td>\n",
       "      <td>жилье</td>\n",
       "    </tr>\n",
       "  </tbody>\n",
       "</table>\n",
       "</div>"
      ],
      "text/plain": [
       "    children  days_employed  dob_years education  education_id  \\\n",
       "12         0            NaN         65   среднее             1   \n",
       "26         0            NaN         41   среднее             1   \n",
       "29         0            NaN         63   среднее             1   \n",
       "41         0            NaN         50   среднее             1   \n",
       "55         0            NaN         54   среднее             1   \n",
       "65         0            NaN         21   среднее             1   \n",
       "67         0            NaN         52    высшее             0   \n",
       "72         1            NaN         32    высшее             0   \n",
       "82         2            NaN         50    высшее             0   \n",
       "83         0            NaN         52   среднее             1   \n",
       "\n",
       "            family_status  family_status_id gender  income_type  debt  \\\n",
       "12       гражданский брак                 1      M    пенсионер     0   \n",
       "26        женат / замужем                 0      M  госслужащий     0   \n",
       "29  Не женат / не замужем                 4      F    пенсионер     0   \n",
       "41        женат / замужем                 0      F  госслужащий     0   \n",
       "55       гражданский брак                 1      F    пенсионер     1   \n",
       "65  Не женат / не замужем                 4      M    компаньон     0   \n",
       "67        женат / замужем                 0      F    пенсионер     0   \n",
       "72        женат / замужем                 0      M  госслужащий     0   \n",
       "82        женат / замужем                 0      F    сотрудник     0   \n",
       "83        женат / замужем                 0      M    сотрудник     0   \n",
       "\n",
       "    total_income                                purpose  \n",
       "12           NaN                        сыграть свадьбу  \n",
       "26           NaN                            образование  \n",
       "29           NaN       строительство жилой недвижимости  \n",
       "41           NaN       сделка с подержанным автомобилем  \n",
       "55           NaN                        сыграть свадьбу  \n",
       "65           NaN  операции с коммерческой недвижимостью  \n",
       "67           NaN                покупка жилья для семьи  \n",
       "72           NaN  операции с коммерческой недвижимостью  \n",
       "82           NaN                                  жилье  \n",
       "83           NaN                                  жилье  "
      ]
     },
     "execution_count": 10,
     "metadata": {},
     "output_type": "execute_result"
    }
   ],
   "source": [
    "df[df['total_income'].isna()].head(10)"
   ]
  },
  {
   "cell_type": "markdown",
   "metadata": {},
   "source": [
    "Пропуски совпадают по строкам. При этом на примере первых 10 строк мы видим, что данные о стаже и доходе пропущены у людей в возрасте, при этом отмечен типа занятости (напрмиер госслужащий точно имеет стаж и доход). Скорее всего значения days_employed и total_income были пропущены или потеряны. Заменить их нулями будет некорректно, поскольку это может повлиять на результат. Строк с пропусками 10,1% поэтому удалять их тоже нельзя."
   ]
  },
  {
   "cell_type": "markdown",
   "metadata": {},
   "source": [
    "Для замены пропусков в этих столбцах нужно использовать методы средних чисел и медианы. Средние числа подойдут для столбца df['days_employed'], а медиана для df['total_income'], потому что при расчете зарплат медиана исключает аномалии и отображает более реальные цифры, чем среднее арифмитическое. "
   ]
  },
  {
   "cell_type": "markdown",
   "metadata": {},
   "source": [
    "Для того, чтобы без повреждения данных заполнить пропуски, воспользуемся изучением данных по группам и впишем значения в рамках группы. Проводить группировку будем по колонк income_type (тип занятости), поскольку профессия кореллирует с зарплатой и стажем."
   ]
  },
  {
   "cell_type": "code",
   "execution_count": 11,
   "metadata": {},
   "outputs": [
    {
     "data": {
      "text/html": [
       "<div>\n",
       "<style scoped>\n",
       "    .dataframe tbody tr th:only-of-type {\n",
       "        vertical-align: middle;\n",
       "    }\n",
       "\n",
       "    .dataframe tbody tr th {\n",
       "        vertical-align: top;\n",
       "    }\n",
       "\n",
       "    .dataframe thead th {\n",
       "        text-align: right;\n",
       "    }\n",
       "</style>\n",
       "<table border=\"1\" class=\"dataframe\">\n",
       "  <thead>\n",
       "    <tr style=\"text-align: right;\">\n",
       "      <th></th>\n",
       "      <th>days_employed</th>\n",
       "    </tr>\n",
       "    <tr>\n",
       "      <th>income_type</th>\n",
       "      <th></th>\n",
       "    </tr>\n",
       "  </thead>\n",
       "  <tbody>\n",
       "    <tr>\n",
       "      <td>безработный</td>\n",
       "      <td>366413.652744</td>\n",
       "    </tr>\n",
       "    <tr>\n",
       "      <td>в декрете</td>\n",
       "      <td>-3296.759962</td>\n",
       "    </tr>\n",
       "    <tr>\n",
       "      <td>госслужащий</td>\n",
       "      <td>-3399.896902</td>\n",
       "    </tr>\n",
       "    <tr>\n",
       "      <td>компаньон</td>\n",
       "      <td>-2111.524398</td>\n",
       "    </tr>\n",
       "    <tr>\n",
       "      <td>пенсионер</td>\n",
       "      <td>365003.491245</td>\n",
       "    </tr>\n",
       "    <tr>\n",
       "      <td>предприниматель</td>\n",
       "      <td>-520.848083</td>\n",
       "    </tr>\n",
       "    <tr>\n",
       "      <td>сотрудник</td>\n",
       "      <td>-2326.499216</td>\n",
       "    </tr>\n",
       "    <tr>\n",
       "      <td>студент</td>\n",
       "      <td>-578.751554</td>\n",
       "    </tr>\n",
       "  </tbody>\n",
       "</table>\n",
       "</div>"
      ],
      "text/plain": [
       "                 days_employed\n",
       "income_type                   \n",
       "безработный      366413.652744\n",
       "в декрете         -3296.759962\n",
       "госслужащий       -3399.896902\n",
       "компаньон         -2111.524398\n",
       "пенсионер        365003.491245\n",
       "предприниматель    -520.848083\n",
       "сотрудник         -2326.499216\n",
       "студент            -578.751554"
      ]
     },
     "execution_count": 11,
     "metadata": {},
     "output_type": "execute_result"
    }
   ],
   "source": [
    "pd.pivot_table(df,\n",
    "               index=['income_type'],\n",
    "              values=['days_employed'])"
   ]
  },
  {
   "cell_type": "code",
   "execution_count": 12,
   "metadata": {},
   "outputs": [
    {
     "data": {
      "text/plain": [
       "пенсионер      3443\n",
       "безработный       2\n",
       "Name: income_type, dtype: int64"
      ]
     },
     "execution_count": 12,
     "metadata": {},
     "output_type": "execute_result"
    }
   ],
   "source": [
    "df['income_type'][df['days_employed'] >= 0].unique()\n",
    "df['income_type'][df['days_employed'] >= 0].value_counts()"
   ]
  },
  {
   "cell_type": "code",
   "execution_count": 13,
   "metadata": {},
   "outputs": [
    {
     "data": {
      "text/plain": [
       "сотрудник          10014\n",
       "компаньон           4577\n",
       "госслужащий         1312\n",
       "предприниматель        1\n",
       "в декрете              1\n",
       "студент                1\n",
       "Name: income_type, dtype: int64"
      ]
     },
     "execution_count": 13,
     "metadata": {},
     "output_type": "execute_result"
    }
   ],
   "source": [
    "df['income_type'][df['days_employed'] < 0].unique()\n",
    "df['income_type'][df['days_employed'] < 0].value_counts()"
   ]
  },
  {
   "cell_type": "markdown",
   "metadata": {},
   "source": [
    "То есть 3443 пенсионера и 2 безработных с положительными значениями - это первая группа. Остальные данные по типу занятости с отрицательными значениями попадают во вторую группу. Теперь в группах нам нужно заменить пропуски на средние или медианные для группы значения. Для этого создадим переменную, хранящую среднее значение по группировке и воспользуемся методами isin и isna - для поиска пропущенных значений в группах и замены на новую переменную. "
   ]
  },
  {
   "cell_type": "code",
   "execution_count": 14,
   "metadata": {
    "scrolled": false
   },
   "outputs": [
    {
     "name": "stderr",
     "output_type": "stream",
     "text": [
      "/opt/conda/lib/python3.7/site-packages/ipykernel_launcher.py:2: SettingWithCopyWarning: \n",
      "A value is trying to be set on a copy of a slice from a DataFrame\n",
      "\n",
      "See the caveats in the documentation: http://pandas.pydata.org/pandas-docs/stable/user_guide/indexing.html#returning-a-view-versus-a-copy\n",
      "  \n",
      "/opt/conda/lib/python3.7/site-packages/ipykernel_launcher.py:5: SettingWithCopyWarning: \n",
      "A value is trying to be set on a copy of a slice from a DataFrame\n",
      "\n",
      "See the caveats in the documentation: http://pandas.pydata.org/pandas-docs/stable/user_guide/indexing.html#returning-a-view-versus-a-copy\n",
      "  \"\"\"\n"
     ]
    }
   ],
   "source": [
    "first_group_days_employed_mean = df['days_employed'][df['days_employed'] > 0].mean()\n",
    "df['days_employed'][(df['income_type'].isin(['пенсионер', 'безработный'])) & (df['days_employed'].isna())] = first_group_days_employed_mean\n",
    "\n",
    "secong_group_days_employed_mean = df['days_employed'][df['days_employed'] <= 0].mean()\n",
    "df['days_employed'][(df['income_type'].isin(['сотрудник', 'компаньон', 'госслужащий', 'в декрете', 'студент', 'предприниматель'])) & (df['days_employed'].isna())] = secong_group_days_employed_mean\n",
    "pd.set_option('chained_assignment', None)"
   ]
  },
  {
   "cell_type": "markdown",
   "metadata": {},
   "source": [
    "<div class=\"alert alert-success\">\n",
    "<font size=\"5\"><b>Комментарий ревьюера 2</b></font>\n",
    "\n",
    "Попробуй использовать команду pd.set_option('chained_assignment', None) для скрытия данного предупреждения.\n",
    "\n",
    "</div>"
   ]
  },
  {
   "cell_type": "markdown",
   "metadata": {},
   "source": [
    "Сделаем то же самое для total_income, но используем метод медианы"
   ]
  },
  {
   "cell_type": "code",
   "execution_count": 15,
   "metadata": {
    "scrolled": false
   },
   "outputs": [],
   "source": [
    "first_group_income_median = df['total_income'][df['days_employed'] > 0].median()\n",
    "df['total_income'][(df['income_type'].isin(['пенсионер', 'безработный'])) & (df['total_income'].isna())] = first_group_income_median\n",
    "\n",
    "second_group_income_median = df['total_income'][df['days_employed'] <= 0].median()\n",
    "df['total_income'][(df['income_type'].isin(['сотрудник', 'компаньон', 'госслужащий', 'в декрете', 'студент', 'предприниматель'])) & (df['total_income'].isna())] = second_group_income_median\n",
    "pd.set_option('chained_assignment', None)"
   ]
  },
  {
   "cell_type": "markdown",
   "metadata": {},
   "source": [
    "Далее нужно проверить, что пропущенных значений больше нет. Снова подсчитаем сумму пропусков"
   ]
  },
  {
   "cell_type": "code",
   "execution_count": 16,
   "metadata": {
    "scrolled": false
   },
   "outputs": [
    {
     "data": {
      "text/plain": [
       "children            0\n",
       "days_employed       0\n",
       "dob_years           0\n",
       "education           0\n",
       "education_id        0\n",
       "family_status       0\n",
       "family_status_id    0\n",
       "gender              0\n",
       "income_type         0\n",
       "debt                0\n",
       "total_income        0\n",
       "purpose             0\n",
       "dtype: int64"
      ]
     },
     "execution_count": 16,
     "metadata": {},
     "output_type": "execute_result"
    }
   ],
   "source": [
    "df.isnull().sum()"
   ]
  },
  {
   "cell_type": "markdown",
   "metadata": {},
   "source": [
    "**Вывод**"
   ]
  },
  {
   "cell_type": "markdown",
   "metadata": {},
   "source": [
    "Были пропущены значения в столбцах days_employed и total_income. Для замены пропущенных значений использовали методы средней арифметической и медианы, чтобы не потерять часть данных и приблизить их к корректным. После замены значений пропуски отсутствуют. Теперь можем приступить к рассмотрению типов данных."
   ]
  },
  {
   "cell_type": "markdown",
   "metadata": {},
   "source": [
    "<div class=\"alert alert-danger\">\n",
    "<font size=\"5\"><b>Комментарий ревьюера</b></font>\n",
    "\n",
    "Обработать пропуски просто медианой или средним недостаточно. Лучше использовать заполнение пропусков на основе группировки данных по одному из параметров в нашей таблице. Подумай, какой параметр будет больше всего влиять на доход. От чего больше всего зависит доход? Проведи группировку по нему и на его основании заполни пропуски. \n",
    "\n",
    "</div>"
   ]
  },
  {
   "cell_type": "markdown",
   "metadata": {},
   "source": [
    "**Вероятно, доход зависит от типа занятости (колонка income_type). Я попробовал сначала сделать две переменные, в первую сохранить среднее значение по группе, во вторую сохранить список индесов пропущенных значений и затем заменить вторые на первые. Но что-то пошло не так, не получалось. Использовал isin, все получилось. Блокнот ругается на меня, выдавая сообщение, что \"Значение пытается быть установлено для копии среза из фрейма данных\" - я не совсем понял почему, помоги понять? Может надо было использовать loc?**"
   ]
  },
  {
   "cell_type": "markdown",
   "metadata": {},
   "source": [
    "<div class=\"alert alert-success\">\n",
    "<font size=\"5\"><b>Комментарий ревьюера 2</b></font>\n",
    "\n",
    "Да, лучше работать через loc. Но предупреждение - этоо не так страшно. Выше привел способ его скртыия. \n",
    "\n",
    "</div>"
   ]
  },
  {
   "cell_type": "markdown",
   "metadata": {},
   "source": [
    "<div class=\"alert alert-warning\">\n",
    "<font size=\"5\"><b>Комментарий ревьюера 2</b></font>\n",
    "\n",
    "Но вообще способ не самый лучший, поскольку пропуски ты заполняешь одним значением для нескольких групп. Согласись, доходы студентов и госслужащих все же будут отличаться. Поэтому стоило взять цикл по уникальным типам занятости, в нем рассчитывать медианной доход для каждой группы и затем заполнять пропуски в данном типе занятости рассчитанным значением при помощи метода fillna(). \n",
    "\n",
    "</div>"
   ]
  },
  {
   "cell_type": "markdown",
   "metadata": {},
   "source": [
    "### Замена типа данных"
   ]
  },
  {
   "cell_type": "markdown",
   "metadata": {},
   "source": [
    "Ранее мы провели предобработку пропущенных значений в столбцах days_employed и total_income. Эти же 2 столбца являются типом float64. Для нашег оисследования нам не нужна дробная часть или отрицательные значеняи в этих величинах, поэтому для удобного сравнения проведем замену типа данных с вещественного на целочисленные значения. Применим метод try/except , чтобы увидеть возможные ошибки в ходе выполнения операции."
   ]
  },
  {
   "cell_type": "code",
   "execution_count": 17,
   "metadata": {
    "scrolled": true
   },
   "outputs": [],
   "source": [
    "try:\n",
    "    df['days_employed'] = df['days_employed'].round().astype('int64')\n",
    "    df['total_income'] = df['total_income'].round().astype('int64')\n",
    "except:\n",
    "    'Ошибка'"
   ]
  },
  {
   "cell_type": "code",
   "execution_count": 18,
   "metadata": {},
   "outputs": [
    {
     "data": {
      "text/html": [
       "<div>\n",
       "<style scoped>\n",
       "    .dataframe tbody tr th:only-of-type {\n",
       "        vertical-align: middle;\n",
       "    }\n",
       "\n",
       "    .dataframe tbody tr th {\n",
       "        vertical-align: top;\n",
       "    }\n",
       "\n",
       "    .dataframe thead th {\n",
       "        text-align: right;\n",
       "    }\n",
       "</style>\n",
       "<table border=\"1\" class=\"dataframe\">\n",
       "  <thead>\n",
       "    <tr style=\"text-align: right;\">\n",
       "      <th></th>\n",
       "      <th>children</th>\n",
       "      <th>days_employed</th>\n",
       "      <th>dob_years</th>\n",
       "      <th>education</th>\n",
       "      <th>education_id</th>\n",
       "      <th>family_status</th>\n",
       "      <th>family_status_id</th>\n",
       "      <th>gender</th>\n",
       "      <th>income_type</th>\n",
       "      <th>debt</th>\n",
       "      <th>total_income</th>\n",
       "      <th>purpose</th>\n",
       "    </tr>\n",
       "  </thead>\n",
       "  <tbody>\n",
       "    <tr>\n",
       "      <td>0</td>\n",
       "      <td>1</td>\n",
       "      <td>-8438</td>\n",
       "      <td>42</td>\n",
       "      <td>высшее</td>\n",
       "      <td>0</td>\n",
       "      <td>женат / замужем</td>\n",
       "      <td>0</td>\n",
       "      <td>F</td>\n",
       "      <td>сотрудник</td>\n",
       "      <td>0</td>\n",
       "      <td>253876</td>\n",
       "      <td>покупка жилья</td>\n",
       "    </tr>\n",
       "    <tr>\n",
       "      <td>1</td>\n",
       "      <td>1</td>\n",
       "      <td>-4025</td>\n",
       "      <td>36</td>\n",
       "      <td>среднее</td>\n",
       "      <td>1</td>\n",
       "      <td>женат / замужем</td>\n",
       "      <td>0</td>\n",
       "      <td>F</td>\n",
       "      <td>сотрудник</td>\n",
       "      <td>0</td>\n",
       "      <td>112080</td>\n",
       "      <td>приобретение автомобиля</td>\n",
       "    </tr>\n",
       "    <tr>\n",
       "      <td>2</td>\n",
       "      <td>0</td>\n",
       "      <td>-5623</td>\n",
       "      <td>33</td>\n",
       "      <td>Среднее</td>\n",
       "      <td>1</td>\n",
       "      <td>женат / замужем</td>\n",
       "      <td>0</td>\n",
       "      <td>M</td>\n",
       "      <td>сотрудник</td>\n",
       "      <td>0</td>\n",
       "      <td>145886</td>\n",
       "      <td>покупка жилья</td>\n",
       "    </tr>\n",
       "    <tr>\n",
       "      <td>3</td>\n",
       "      <td>3</td>\n",
       "      <td>-4125</td>\n",
       "      <td>32</td>\n",
       "      <td>среднее</td>\n",
       "      <td>1</td>\n",
       "      <td>женат / замужем</td>\n",
       "      <td>0</td>\n",
       "      <td>M</td>\n",
       "      <td>сотрудник</td>\n",
       "      <td>0</td>\n",
       "      <td>267629</td>\n",
       "      <td>дополнительное образование</td>\n",
       "    </tr>\n",
       "    <tr>\n",
       "      <td>4</td>\n",
       "      <td>0</td>\n",
       "      <td>340266</td>\n",
       "      <td>53</td>\n",
       "      <td>среднее</td>\n",
       "      <td>1</td>\n",
       "      <td>гражданский брак</td>\n",
       "      <td>1</td>\n",
       "      <td>F</td>\n",
       "      <td>пенсионер</td>\n",
       "      <td>0</td>\n",
       "      <td>158616</td>\n",
       "      <td>сыграть свадьбу</td>\n",
       "    </tr>\n",
       "  </tbody>\n",
       "</table>\n",
       "</div>"
      ],
      "text/plain": [
       "   children  days_employed  dob_years education  education_id  \\\n",
       "0         1          -8438         42    высшее             0   \n",
       "1         1          -4025         36   среднее             1   \n",
       "2         0          -5623         33   Среднее             1   \n",
       "3         3          -4125         32   среднее             1   \n",
       "4         0         340266         53   среднее             1   \n",
       "\n",
       "      family_status  family_status_id gender income_type  debt  total_income  \\\n",
       "0   женат / замужем                 0      F   сотрудник     0        253876   \n",
       "1   женат / замужем                 0      F   сотрудник     0        112080   \n",
       "2   женат / замужем                 0      M   сотрудник     0        145886   \n",
       "3   женат / замужем                 0      M   сотрудник     0        267629   \n",
       "4  гражданский брак                 1      F   пенсионер     0        158616   \n",
       "\n",
       "                      purpose  \n",
       "0               покупка жилья  \n",
       "1     приобретение автомобиля  \n",
       "2               покупка жилья  \n",
       "3  дополнительное образование  \n",
       "4             сыграть свадьбу  "
      ]
     },
     "execution_count": 18,
     "metadata": {},
     "output_type": "execute_result"
    }
   ],
   "source": [
    "df.head()"
   ]
  },
  {
   "cell_type": "markdown",
   "metadata": {},
   "source": [
    "В таблице остались только верные значения. Теперь можно применить функцию abs для замены отрицательных значений на положительные в столбце days_employed."
   ]
  },
  {
   "cell_type": "code",
   "execution_count": 19,
   "metadata": {},
   "outputs": [],
   "source": [
    "df['days_employed'] = df['days_employed'].abs()"
   ]
  },
  {
   "cell_type": "markdown",
   "metadata": {},
   "source": [
    "Проверим вывод"
   ]
  },
  {
   "cell_type": "code",
   "execution_count": 20,
   "metadata": {
    "scrolled": true
   },
   "outputs": [
    {
     "data": {
      "text/html": [
       "<div>\n",
       "<style scoped>\n",
       "    .dataframe tbody tr th:only-of-type {\n",
       "        vertical-align: middle;\n",
       "    }\n",
       "\n",
       "    .dataframe tbody tr th {\n",
       "        vertical-align: top;\n",
       "    }\n",
       "\n",
       "    .dataframe thead th {\n",
       "        text-align: right;\n",
       "    }\n",
       "</style>\n",
       "<table border=\"1\" class=\"dataframe\">\n",
       "  <thead>\n",
       "    <tr style=\"text-align: right;\">\n",
       "      <th></th>\n",
       "      <th>children</th>\n",
       "      <th>days_employed</th>\n",
       "      <th>dob_years</th>\n",
       "      <th>education</th>\n",
       "      <th>education_id</th>\n",
       "      <th>family_status</th>\n",
       "      <th>family_status_id</th>\n",
       "      <th>gender</th>\n",
       "      <th>income_type</th>\n",
       "      <th>debt</th>\n",
       "      <th>total_income</th>\n",
       "      <th>purpose</th>\n",
       "    </tr>\n",
       "  </thead>\n",
       "  <tbody>\n",
       "    <tr>\n",
       "      <td>0</td>\n",
       "      <td>1</td>\n",
       "      <td>8438</td>\n",
       "      <td>42</td>\n",
       "      <td>высшее</td>\n",
       "      <td>0</td>\n",
       "      <td>женат / замужем</td>\n",
       "      <td>0</td>\n",
       "      <td>F</td>\n",
       "      <td>сотрудник</td>\n",
       "      <td>0</td>\n",
       "      <td>253876</td>\n",
       "      <td>покупка жилья</td>\n",
       "    </tr>\n",
       "    <tr>\n",
       "      <td>1</td>\n",
       "      <td>1</td>\n",
       "      <td>4025</td>\n",
       "      <td>36</td>\n",
       "      <td>среднее</td>\n",
       "      <td>1</td>\n",
       "      <td>женат / замужем</td>\n",
       "      <td>0</td>\n",
       "      <td>F</td>\n",
       "      <td>сотрудник</td>\n",
       "      <td>0</td>\n",
       "      <td>112080</td>\n",
       "      <td>приобретение автомобиля</td>\n",
       "    </tr>\n",
       "    <tr>\n",
       "      <td>2</td>\n",
       "      <td>0</td>\n",
       "      <td>5623</td>\n",
       "      <td>33</td>\n",
       "      <td>Среднее</td>\n",
       "      <td>1</td>\n",
       "      <td>женат / замужем</td>\n",
       "      <td>0</td>\n",
       "      <td>M</td>\n",
       "      <td>сотрудник</td>\n",
       "      <td>0</td>\n",
       "      <td>145886</td>\n",
       "      <td>покупка жилья</td>\n",
       "    </tr>\n",
       "    <tr>\n",
       "      <td>3</td>\n",
       "      <td>3</td>\n",
       "      <td>4125</td>\n",
       "      <td>32</td>\n",
       "      <td>среднее</td>\n",
       "      <td>1</td>\n",
       "      <td>женат / замужем</td>\n",
       "      <td>0</td>\n",
       "      <td>M</td>\n",
       "      <td>сотрудник</td>\n",
       "      <td>0</td>\n",
       "      <td>267629</td>\n",
       "      <td>дополнительное образование</td>\n",
       "    </tr>\n",
       "    <tr>\n",
       "      <td>4</td>\n",
       "      <td>0</td>\n",
       "      <td>340266</td>\n",
       "      <td>53</td>\n",
       "      <td>среднее</td>\n",
       "      <td>1</td>\n",
       "      <td>гражданский брак</td>\n",
       "      <td>1</td>\n",
       "      <td>F</td>\n",
       "      <td>пенсионер</td>\n",
       "      <td>0</td>\n",
       "      <td>158616</td>\n",
       "      <td>сыграть свадьбу</td>\n",
       "    </tr>\n",
       "  </tbody>\n",
       "</table>\n",
       "</div>"
      ],
      "text/plain": [
       "   children  days_employed  dob_years education  education_id  \\\n",
       "0         1           8438         42    высшее             0   \n",
       "1         1           4025         36   среднее             1   \n",
       "2         0           5623         33   Среднее             1   \n",
       "3         3           4125         32   среднее             1   \n",
       "4         0         340266         53   среднее             1   \n",
       "\n",
       "      family_status  family_status_id gender income_type  debt  total_income  \\\n",
       "0   женат / замужем                 0      F   сотрудник     0        253876   \n",
       "1   женат / замужем                 0      F   сотрудник     0        112080   \n",
       "2   женат / замужем                 0      M   сотрудник     0        145886   \n",
       "3   женат / замужем                 0      M   сотрудник     0        267629   \n",
       "4  гражданский брак                 1      F   пенсионер     0        158616   \n",
       "\n",
       "                      purpose  \n",
       "0               покупка жилья  \n",
       "1     приобретение автомобиля  \n",
       "2               покупка жилья  \n",
       "3  дополнительное образование  \n",
       "4             сыграть свадьбу  "
      ]
     },
     "execution_count": 20,
     "metadata": {},
     "output_type": "execute_result"
    }
   ],
   "source": [
    "df.head()"
   ]
  },
  {
   "cell_type": "markdown",
   "metadata": {},
   "source": [
    "Проверим тип данных после всех операций"
   ]
  },
  {
   "cell_type": "code",
   "execution_count": 21,
   "metadata": {},
   "outputs": [
    {
     "name": "stdout",
     "output_type": "stream",
     "text": [
      "<class 'pandas.core.frame.DataFrame'>\n",
      "RangeIndex: 21525 entries, 0 to 21524\n",
      "Data columns (total 12 columns):\n",
      "children            21525 non-null int64\n",
      "days_employed       21525 non-null int64\n",
      "dob_years           21525 non-null int64\n",
      "education           21525 non-null object\n",
      "education_id        21525 non-null int64\n",
      "family_status       21525 non-null object\n",
      "family_status_id    21525 non-null int64\n",
      "gender              21525 non-null object\n",
      "income_type         21525 non-null object\n",
      "debt                21525 non-null int64\n",
      "total_income        21525 non-null int64\n",
      "purpose             21525 non-null object\n",
      "dtypes: int64(7), object(5)\n",
      "memory usage: 2.0+ MB\n"
     ]
    }
   ],
   "source": [
    "df.info()"
   ]
  },
  {
   "cell_type": "markdown",
   "metadata": {},
   "source": [
    "В исходных данных остались только целочисленные и строчные значения."
   ]
  },
  {
   "cell_type": "markdown",
   "metadata": {},
   "source": [
    "**Вывод**\n",
    "\n",
    "Для удобной работы с данными в рамках этого исследования мы провели операции замены типа данных на целочисленные значения и избавились от отрицательных значений. Теперь в таблице остались только строковые и целочисленные значения и мы можем приступит ьк обработке дубликатов."
   ]
  },
  {
   "cell_type": "markdown",
   "metadata": {},
   "source": [
    "<div class=\"alert alert-success\">\n",
    "<font size=\"5\"><b>Комментарий ревьюера</b></font>\n",
    "\n",
    "Исходя из общей информации о таблице мы видим, что два столбца имеют вещественный тип данных, который и надо заменить на целочисленный. Эта замена произведена верно. Также хорошо бы освоить метод to_numeric() для будущих работ. \n",
    "\n",
    "</div>"
   ]
  },
  {
   "cell_type": "markdown",
   "metadata": {},
   "source": [
    "**Спасибо! Я не знаю почему, но какие то медотды прям хорошо в глову ложатся, а какие то вот убей не могу без подсказки выполнить. Дальеш будет жетсче, поэтому шпаргалки наше все))**"
   ]
  },
  {
   "cell_type": "markdown",
   "metadata": {},
   "source": [
    "### Обработка дубликатов"
   ]
  },
  {
   "cell_type": "markdown",
   "metadata": {},
   "source": [
    "В начале исследования мы нашли 54 дубликата. Удалим полные дубликаты методом drop_duplicates() и перезапишем "
   ]
  },
  {
   "cell_type": "code",
   "execution_count": 22,
   "metadata": {},
   "outputs": [],
   "source": [
    "df = df.drop_duplicates().reset_index(drop = True)"
   ]
  },
  {
   "cell_type": "markdown",
   "metadata": {},
   "source": [
    "Проверим сколько осталось строк в датасете"
   ]
  },
  {
   "cell_type": "code",
   "execution_count": 23,
   "metadata": {},
   "outputs": [
    {
     "name": "stdout",
     "output_type": "stream",
     "text": [
      "<class 'pandas.core.frame.DataFrame'>\n",
      "RangeIndex: 21471 entries, 0 to 21470\n",
      "Data columns (total 12 columns):\n",
      "children            21471 non-null int64\n",
      "days_employed       21471 non-null int64\n",
      "dob_years           21471 non-null int64\n",
      "education           21471 non-null object\n",
      "education_id        21471 non-null int64\n",
      "family_status       21471 non-null object\n",
      "family_status_id    21471 non-null int64\n",
      "gender              21471 non-null object\n",
      "income_type         21471 non-null object\n",
      "debt                21471 non-null int64\n",
      "total_income        21471 non-null int64\n",
      "purpose             21471 non-null object\n",
      "dtypes: int64(7), object(5)\n",
      "memory usage: 2.0+ MB\n"
     ]
    }
   ],
   "source": [
    "df.info()"
   ]
  },
  {
   "cell_type": "markdown",
   "metadata": {},
   "source": [
    "В датасете осталось 21471 значение, а было 21525, то есть удаление 54 дубликатов прошло успешно. Однако на первом шаге при изучении информации мы обнаружили, что в столбце education разное написание уровня образования. Проверим сколько враиантов написания и каких методом value_counts в столбце"
   ]
  },
  {
   "cell_type": "code",
   "execution_count": 24,
   "metadata": {},
   "outputs": [
    {
     "data": {
      "text/plain": [
       "среднее                13705\n",
       "высшее                  4710\n",
       "СРЕДНЕЕ                  772\n",
       "Среднее                  711\n",
       "неоконченное высшее      668\n",
       "ВЫСШЕЕ                   273\n",
       "Высшее                   268\n",
       "начальное                250\n",
       "Неоконченное высшее       47\n",
       "НЕОКОНЧЕННОЕ ВЫСШЕЕ       29\n",
       "НАЧАЛЬНОЕ                 17\n",
       "Начальное                 15\n",
       "ученая степень             4\n",
       "Ученая степень             1\n",
       "УЧЕНАЯ СТЕПЕНЬ             1\n",
       "Name: education, dtype: int64"
      ]
     },
     "execution_count": 24,
     "metadata": {},
     "output_type": "execute_result"
    }
   ],
   "source": [
    "df['education'].value_counts()"
   ]
  },
  {
   "cell_type": "markdown",
   "metadata": {},
   "source": [
    "<div class=\"alert alert-success\">\n",
    "<font size=\"5\"><b>Комментарий ревьюера</b></font>\n",
    "\n",
    "Здорово, что ты заметил данную неточность в данных.\n",
    "\n",
    "</div>"
   ]
  },
  {
   "cell_type": "markdown",
   "metadata": {},
   "source": [
    "Видим, что орфографическое написание одинаковое, а регистры разные. Это может усложнить работу с документом и повлиять на результаты, поэтому приведем все значения к нижнему регистру"
   ]
  },
  {
   "cell_type": "code",
   "execution_count": 25,
   "metadata": {},
   "outputs": [
    {
     "data": {
      "text/plain": [
       "среднее                15188\n",
       "высшее                  5251\n",
       "неоконченное высшее      744\n",
       "начальное                282\n",
       "ученая степень             6\n",
       "Name: education, dtype: int64"
      ]
     },
     "execution_count": 25,
     "metadata": {},
     "output_type": "execute_result"
    }
   ],
   "source": [
    "df['education'] = df['education'].str.lower()\n",
    "df['education'].value_counts()"
   ]
  },
  {
   "cell_type": "markdown",
   "metadata": {},
   "source": [
    "После того, как мы изменили данные, нужно провести повторную проверку дубликатов, возможно появятся еще строки, полностью идентичные."
   ]
  },
  {
   "cell_type": "code",
   "execution_count": 26,
   "metadata": {},
   "outputs": [
    {
     "data": {
      "text/plain": [
       "17"
      ]
     },
     "execution_count": 26,
     "metadata": {},
     "output_type": "execute_result"
    }
   ],
   "source": [
    "df.duplicated().sum()"
   ]
  },
  {
   "cell_type": "markdown",
   "metadata": {},
   "source": [
    "Действительно, мы нашли таким образом еще 17 полных дубликатов. Удалим их из таблицы."
   ]
  },
  {
   "cell_type": "code",
   "execution_count": 27,
   "metadata": {},
   "outputs": [],
   "source": [
    "df = df.drop_duplicates().reset_index(drop = True)"
   ]
  },
  {
   "cell_type": "code",
   "execution_count": 28,
   "metadata": {
    "scrolled": true
   },
   "outputs": [
    {
     "name": "stdout",
     "output_type": "stream",
     "text": [
      "<class 'pandas.core.frame.DataFrame'>\n",
      "RangeIndex: 21454 entries, 0 to 21453\n",
      "Data columns (total 12 columns):\n",
      "children            21454 non-null int64\n",
      "days_employed       21454 non-null int64\n",
      "dob_years           21454 non-null int64\n",
      "education           21454 non-null object\n",
      "education_id        21454 non-null int64\n",
      "family_status       21454 non-null object\n",
      "family_status_id    21454 non-null int64\n",
      "gender              21454 non-null object\n",
      "income_type         21454 non-null object\n",
      "debt                21454 non-null int64\n",
      "total_income        21454 non-null int64\n",
      "purpose             21454 non-null object\n",
      "dtypes: int64(7), object(5)\n",
      "memory usage: 2.0+ MB\n"
     ]
    }
   ],
   "source": [
    "df.info()"
   ]
  },
  {
   "cell_type": "markdown",
   "metadata": {},
   "source": [
    "Вероятно ,если проверить другие столбцы на уникальные значения, мы также сможем удалить некоторые дубликаты."
   ]
  },
  {
   "cell_type": "code",
   "execution_count": 29,
   "metadata": {},
   "outputs": [
    {
     "data": {
      "text/plain": [
       "array(['женат / замужем', 'гражданский брак', 'вдовец / вдова',\n",
       "       'в разводе', 'Не женат / не замужем'], dtype=object)"
      ]
     },
     "execution_count": 29,
     "metadata": {},
     "output_type": "execute_result"
    }
   ],
   "source": [
    "df['family_status'].unique()"
   ]
  },
  {
   "cell_type": "code",
   "execution_count": 30,
   "metadata": {},
   "outputs": [
    {
     "data": {
      "text/plain": [
       "array(['F', 'M', 'XNA'], dtype=object)"
      ]
     },
     "execution_count": 30,
     "metadata": {},
     "output_type": "execute_result"
    }
   ],
   "source": [
    "df['gender'].unique()"
   ]
  },
  {
   "cell_type": "code",
   "execution_count": 31,
   "metadata": {
    "scrolled": false
   },
   "outputs": [
    {
     "data": {
      "text/plain": [
       "array(['сотрудник', 'пенсионер', 'компаньон', 'госслужащий',\n",
       "       'безработный', 'предприниматель', 'студент', 'в декрете'],\n",
       "      dtype=object)"
      ]
     },
     "execution_count": 31,
     "metadata": {},
     "output_type": "execute_result"
    }
   ],
   "source": [
    "df['income_type'].unique()"
   ]
  },
  {
   "cell_type": "code",
   "execution_count": 32,
   "metadata": {
    "scrolled": false
   },
   "outputs": [
    {
     "data": {
      "text/plain": [
       "array(['покупка жилья', 'приобретение автомобиля',\n",
       "       'дополнительное образование', 'сыграть свадьбу',\n",
       "       'операции с жильем', 'образование', 'на проведение свадьбы',\n",
       "       'покупка жилья для семьи', 'покупка недвижимости',\n",
       "       'покупка коммерческой недвижимости', 'покупка жилой недвижимости',\n",
       "       'строительство собственной недвижимости', 'недвижимость',\n",
       "       'строительство недвижимости', 'на покупку подержанного автомобиля',\n",
       "       'на покупку своего автомобиля',\n",
       "       'операции с коммерческой недвижимостью',\n",
       "       'строительство жилой недвижимости', 'жилье',\n",
       "       'операции со своей недвижимостью', 'автомобили',\n",
       "       'заняться образованием', 'сделка с подержанным автомобилем',\n",
       "       'получение образования', 'автомобиль', 'свадьба',\n",
       "       'получение дополнительного образования', 'покупка своего жилья',\n",
       "       'операции с недвижимостью', 'получение высшего образования',\n",
       "       'свой автомобиль', 'сделка с автомобилем',\n",
       "       'профильное образование', 'высшее образование',\n",
       "       'покупка жилья для сдачи', 'на покупку автомобиля', 'ремонт жилью',\n",
       "       'заняться высшим образованием'], dtype=object)"
      ]
     },
     "execution_count": 32,
     "metadata": {},
     "output_type": "execute_result"
    }
   ],
   "source": [
    "df['purpose'].unique()"
   ]
  },
  {
   "cell_type": "markdown",
   "metadata": {},
   "source": [
    "В колонке family_status есть значение 'Не женат / не замужем' - приведем к нижнему регистру."
   ]
  },
  {
   "cell_type": "code",
   "execution_count": 33,
   "metadata": {},
   "outputs": [],
   "source": [
    "df['family_status'] = df['family_status'].str.lower()"
   ]
  },
  {
   "cell_type": "markdown",
   "metadata": {},
   "source": [
    "В колонке purpose встречается много похожих значений, например 'сыграть свадьбу' и 'на проведение свадьбы'. Это одна и та же цель получения средств, но записана разным способом. Для того, чтобы нам объединить одинаковые цели необходимо провести лемматизацию значений "
   ]
  },
  {
   "cell_type": "markdown",
   "metadata": {},
   "source": [
    "**Вывод**\n",
    "\n",
    "Мы нашли и удалили из таблицы 71 строку дубликатов в столбце 'education'. Мы обнаружили, что в столбце purpose есть схожие цели, н оразнео написание, поэтому нужно провести лемматизацию значений."
   ]
  },
  {
   "cell_type": "markdown",
   "metadata": {},
   "source": [
    "<div class=\"alert alert-success\">\n",
    "<font size=\"5\"><b>Комментарий ревьюера</b></font>\n",
    "\n",
    "Дубликаты вызывают смещение финальных результатов, поэтому их и надо удалять. Конечно, в данных нет уникального идентификатора, однако надо уметь удалять дубликаты. Метод drop_duplicates() использован верно.\n",
    "\n",
    "</div>"
   ]
  },
  {
   "cell_type": "markdown",
   "metadata": {},
   "source": [
    "### Лемматизация"
   ]
  },
  {
   "cell_type": "markdown",
   "metadata": {},
   "source": [
    "Сначала нам надо вызвать метод pymystem3 и провреить все уникальные значения из столбца purpose"
   ]
  },
  {
   "cell_type": "code",
   "execution_count": 34,
   "metadata": {
    "scrolled": false
   },
   "outputs": [
    {
     "name": "stdout",
     "output_type": "stream",
     "text": [
      "Counter({' ': 59, '\\n': 38, 'покупка': 10, 'недвижимость': 10, 'автомобиль': 9, 'образование': 9, 'жилье': 7, 'с': 5, 'операция': 4, 'на': 4, 'свой': 4, 'свадьба': 3, 'строительство': 3, 'получение': 3, 'высокий': 3, 'дополнительный': 2, 'для': 2, 'коммерческий': 2, 'жилой': 2, 'заниматься': 2, 'сделка': 2, 'приобретение': 1, 'сыграть': 1, 'проведение': 1, 'семья': 1, 'собственный': 1, 'подержать': 1, 'со': 1, 'подержанный': 1, 'профильный': 1, 'сдача': 1, 'ремонт': 1})\n"
     ]
    }
   ],
   "source": [
    "from pymystem3 import Mystem\n",
    "from collections import Counter\n",
    "m = Mystem()\n",
    "word_list = []\n",
    "for value in df['purpose'].unique():\n",
    "    lemmas = m.lemmatize(value)\n",
    "    word_list += lemmas\n",
    "\n",
    "print(Counter(word_list))"
   ]
  },
  {
   "cell_type": "markdown",
   "metadata": {},
   "source": [
    "Создадим список из слов по целям кредитования, по которым проведем лемматизацию."
   ]
  },
  {
   "cell_type": "code",
   "execution_count": 35,
   "metadata": {},
   "outputs": [],
   "source": [
    "purpose_list = ['свадьба','автомобиль','недвижимость','образование','жилье']"
   ]
  },
  {
   "cell_type": "code",
   "execution_count": 36,
   "metadata": {
    "scrolled": false
   },
   "outputs": [
    {
     "data": {
      "text/plain": [
       "недвижимость    6351\n",
       "жилье           4460\n",
       "автомобиль      4306\n",
       "образование     4013\n",
       "свадьба         2324\n",
       "Name: purpose_type, dtype: int64"
      ]
     },
     "execution_count": 36,
     "metadata": {},
     "output_type": "execute_result"
    }
   ],
   "source": [
    "def purpose_choose(row):\n",
    "    purpose = row['purpose']\n",
    "    lemmas = m.lemmatize(purpose)\n",
    "    for purpose_type in purpose_list:\n",
    "        if (purpose_type in lemmas):\n",
    "            return purpose_type\n",
    "\n",
    "\n",
    "\n",
    "df['purpose_type'] = df.apply(purpose_choose, axis=1) \n",
    "df['purpose_type'].value_counts()"
   ]
  },
  {
   "cell_type": "markdown",
   "metadata": {},
   "source": [
    "Теперь надо проверить наличие дубликатов в датасете, но исключив изначальный столбец purpose, удалить их и проверить количество строк методом info\n"
   ]
  },
  {
   "cell_type": "code",
   "execution_count": 37,
   "metadata": {},
   "outputs": [
    {
     "data": {
      "text/plain": [
       "244"
      ]
     },
     "execution_count": 37,
     "metadata": {},
     "output_type": "execute_result"
    }
   ],
   "source": [
    "df = df.drop(['purpose'], axis = 1)\n",
    "df.duplicated().sum()"
   ]
  },
  {
   "cell_type": "code",
   "execution_count": 38,
   "metadata": {},
   "outputs": [
    {
     "name": "stdout",
     "output_type": "stream",
     "text": [
      "<class 'pandas.core.frame.DataFrame'>\n",
      "RangeIndex: 21210 entries, 0 to 21209\n",
      "Data columns (total 12 columns):\n",
      "children            21210 non-null int64\n",
      "days_employed       21210 non-null int64\n",
      "dob_years           21210 non-null int64\n",
      "education           21210 non-null object\n",
      "education_id        21210 non-null int64\n",
      "family_status       21210 non-null object\n",
      "family_status_id    21210 non-null int64\n",
      "gender              21210 non-null object\n",
      "income_type         21210 non-null object\n",
      "debt                21210 non-null int64\n",
      "total_income        21210 non-null int64\n",
      "purpose_type        21210 non-null object\n",
      "dtypes: int64(7), object(5)\n",
      "memory usage: 1.9+ MB\n"
     ]
    }
   ],
   "source": [
    "df = df.drop_duplicates().reset_index(drop = True)\n",
    "df.info()"
   ]
  },
  {
   "cell_type": "markdown",
   "metadata": {},
   "source": [
    "У нас получилось 21210 строк, размер файла уменьшился на 0,1 МВ"
   ]
  },
  {
   "cell_type": "markdown",
   "metadata": {},
   "source": [
    "**Вывод**"
   ]
  },
  {
   "cell_type": "markdown",
   "metadata": {},
   "source": [
    "Лемматизация помогла нам собрать все значения столбца purpose из исходных данных в 5 сегментов. Мы удалили еще 244 строки дубликатов.\n",
    "Природа возникновения дубликатов неизвестно, но разный формат записей значений говорит либо об отсутствии единого стандарта заполнения данных в анкете, либо о свободной форме заполнения. В любом случае теперь мы можем категоризировать данные и провести нужный анализ в рамках исследования."
   ]
  },
  {
   "cell_type": "markdown",
   "metadata": {},
   "source": [
    "<div class=\"alert alert-success\">\n",
    "<font size=\"5\"><b>Комментарий ревьюера</b></font>\n",
    "\n",
    "Круто, ты сделал самую сложную часть проекта. Использовал нужные методы, и даже провел группировку с помощью собственной функции. Выбор основных целей кредитов обоснован. \n",
    "\n",
    "</div>"
   ]
  },
  {
   "cell_type": "markdown",
   "metadata": {},
   "source": [
    "**С собвственными функциями это самая большая моя проблема, поэтому т тя откровенно просил помощи в объяснении у товарищей. Писал сам но попыток было столько, что мама не горюй. Надеюсь дальше мне будет проще работать со своими функциями, ибо удобно очень.**"
   ]
  },
  {
   "cell_type": "markdown",
   "metadata": {},
   "source": [
    "<div class=\"alert alert-success\">\n",
    "<font size=\"5\"><b>Комментарий ревьюера 2</b></font>\n",
    "\n",
    "Но стоит сказать, что функция получилась классной!\n",
    "\n",
    "</div>"
   ]
  },
  {
   "cell_type": "markdown",
   "metadata": {},
   "source": [
    "### Категоризация данных"
   ]
  },
  {
   "cell_type": "markdown",
   "metadata": {},
   "source": [
    "Проведем категоризацию данных для првоедения исследования. Изучим количество детей и записей, а также данные по группировке."
   ]
  },
  {
   "cell_type": "code",
   "execution_count": 39,
   "metadata": {},
   "outputs": [
    {
     "data": {
      "text/plain": [
       " 0     13892\n",
       " 1      4773\n",
       " 2      2043\n",
       " 3       329\n",
       " 20       76\n",
       "-1        47\n",
       " 4        41\n",
       " 5         9\n",
       "Name: children, dtype: int64"
      ]
     },
     "execution_count": 39,
     "metadata": {},
     "output_type": "execute_result"
    }
   ],
   "source": [
    "df['children'].value_counts()"
   ]
  },
  {
   "cell_type": "markdown",
   "metadata": {},
   "source": [
    "В данных присутствует сегмент с показателем -1. Скорее всего это ошибка данных или ввода. Количество записей всего 47, для проведения исследования можо присвоить эти данные к самой большой категории - 0 детей. (Хотя на самом деле лучше обратиться к менеджерам и уточнить про этот параметр, почему он оказался в файле как -1, возможно здесь должен быть просто 1 ребенок)."
   ]
  },
  {
   "cell_type": "code",
   "execution_count": 40,
   "metadata": {},
   "outputs": [
    {
     "data": {
      "text/html": [
       "<div>\n",
       "<style scoped>\n",
       "    .dataframe tbody tr th:only-of-type {\n",
       "        vertical-align: middle;\n",
       "    }\n",
       "\n",
       "    .dataframe tbody tr th {\n",
       "        vertical-align: top;\n",
       "    }\n",
       "\n",
       "    .dataframe thead th {\n",
       "        text-align: right;\n",
       "    }\n",
       "</style>\n",
       "<table border=\"1\" class=\"dataframe\">\n",
       "  <thead>\n",
       "    <tr style=\"text-align: right;\">\n",
       "      <th></th>\n",
       "      <th>days_employed</th>\n",
       "      <th>dob_years</th>\n",
       "      <th>education_id</th>\n",
       "      <th>family_status_id</th>\n",
       "      <th>debt</th>\n",
       "      <th>total_income</th>\n",
       "    </tr>\n",
       "    <tr>\n",
       "      <th>children</th>\n",
       "      <th></th>\n",
       "      <th></th>\n",
       "      <th></th>\n",
       "      <th></th>\n",
       "      <th></th>\n",
       "      <th></th>\n",
       "    </tr>\n",
       "  </thead>\n",
       "  <tbody>\n",
       "    <tr>\n",
       "      <td>-1</td>\n",
       "      <td>63171.510638</td>\n",
       "      <td>42.574468</td>\n",
       "      <td>0.829787</td>\n",
       "      <td>0.957447</td>\n",
       "      <td>0.021277</td>\n",
       "      <td>152995.000000</td>\n",
       "    </tr>\n",
       "    <tr>\n",
       "      <td>0</td>\n",
       "      <td>92261.126836</td>\n",
       "      <td>46.174201</td>\n",
       "      <td>0.829758</td>\n",
       "      <td>1.130507</td>\n",
       "      <td>0.076447</td>\n",
       "      <td>163281.528002</td>\n",
       "    </tr>\n",
       "    <tr>\n",
       "      <td>1</td>\n",
       "      <td>22896.923109</td>\n",
       "      <td>38.375864</td>\n",
       "      <td>0.786298</td>\n",
       "      <td>0.812696</td>\n",
       "      <td>0.093023</td>\n",
       "      <td>169267.536769</td>\n",
       "    </tr>\n",
       "    <tr>\n",
       "      <td>2</td>\n",
       "      <td>5731.701419</td>\n",
       "      <td>35.764562</td>\n",
       "      <td>0.790015</td>\n",
       "      <td>0.452766</td>\n",
       "      <td>0.094958</td>\n",
       "      <td>169857.335781</td>\n",
       "    </tr>\n",
       "    <tr>\n",
       "      <td>3</td>\n",
       "      <td>8595.267477</td>\n",
       "      <td>36.264438</td>\n",
       "      <td>0.823708</td>\n",
       "      <td>0.404255</td>\n",
       "      <td>0.082067</td>\n",
       "      <td>179848.167173</td>\n",
       "    </tr>\n",
       "    <tr>\n",
       "      <td>4</td>\n",
       "      <td>11897.829268</td>\n",
       "      <td>36.048780</td>\n",
       "      <td>0.780488</td>\n",
       "      <td>0.512195</td>\n",
       "      <td>0.097561</td>\n",
       "      <td>167244.731707</td>\n",
       "    </tr>\n",
       "    <tr>\n",
       "      <td>5</td>\n",
       "      <td>1534.555556</td>\n",
       "      <td>38.777778</td>\n",
       "      <td>1.222222</td>\n",
       "      <td>0.222222</td>\n",
       "      <td>0.000000</td>\n",
       "      <td>168286.222222</td>\n",
       "    </tr>\n",
       "    <tr>\n",
       "      <td>20</td>\n",
       "      <td>44753.421053</td>\n",
       "      <td>41.815789</td>\n",
       "      <td>0.842105</td>\n",
       "      <td>0.815789</td>\n",
       "      <td>0.105263</td>\n",
       "      <td>165779.657895</td>\n",
       "    </tr>\n",
       "  </tbody>\n",
       "</table>\n",
       "</div>"
      ],
      "text/plain": [
       "          days_employed  dob_years  education_id  family_status_id      debt  \\\n",
       "children                                                                       \n",
       "-1         63171.510638  42.574468      0.829787          0.957447  0.021277   \n",
       " 0         92261.126836  46.174201      0.829758          1.130507  0.076447   \n",
       " 1         22896.923109  38.375864      0.786298          0.812696  0.093023   \n",
       " 2          5731.701419  35.764562      0.790015          0.452766  0.094958   \n",
       " 3          8595.267477  36.264438      0.823708          0.404255  0.082067   \n",
       " 4         11897.829268  36.048780      0.780488          0.512195  0.097561   \n",
       " 5          1534.555556  38.777778      1.222222          0.222222  0.000000   \n",
       " 20        44753.421053  41.815789      0.842105          0.815789  0.105263   \n",
       "\n",
       "           total_income  \n",
       "children                 \n",
       "-1        152995.000000  \n",
       " 0        163281.528002  \n",
       " 1        169267.536769  \n",
       " 2        169857.335781  \n",
       " 3        179848.167173  \n",
       " 4        167244.731707  \n",
       " 5        168286.222222  \n",
       " 20       165779.657895  "
      ]
     },
     "execution_count": 40,
     "metadata": {},
     "output_type": "execute_result"
    }
   ],
   "source": [
    "df.groupby('children').mean()"
   ]
  },
  {
   "cell_type": "markdown",
   "metadata": {},
   "source": [
    "Если сравнить данные по количеству детей, то в целом они примерно одинаковые, однако в колонке debt у сегмента с -1 ребенком самый низкий показатель. "
   ]
  },
  {
   "cell_type": "code",
   "execution_count": 41,
   "metadata": {},
   "outputs": [],
   "source": [
    "df['children'] = df['children'].replace(-1, 0)"
   ]
  },
  {
   "cell_type": "markdown",
   "metadata": {},
   "source": [
    "Для удобства анализа разделим данные на 4 категории -  0, 1, 2 и более детей. Создадим новый столбец 'children_category'"
   ]
  },
  {
   "cell_type": "code",
   "execution_count": 42,
   "metadata": {},
   "outputs": [
    {
     "data": {
      "text/plain": [
       "children_category\n",
       "0    13939\n",
       "1     4773\n",
       "2     2043\n",
       "3      455\n",
       "Name: children, dtype: int64"
      ]
     },
     "execution_count": 42,
     "metadata": {},
     "output_type": "execute_result"
    }
   ],
   "source": [
    "def children_category(children):\n",
    "        if children == 0:\n",
    "                return 0\n",
    "        if children == 1:\n",
    "                return 1\n",
    "        if children == 2:\n",
    "                return 2\n",
    "        return 3\n",
    "    \n",
    "df['children_category'] = df['children'].apply(children_category)\n",
    "df.groupby('children_category')['children'].count()"
   ]
  },
  {
   "cell_type": "markdown",
   "metadata": {},
   "source": [
    "<div class=\"alert alert-success\">\n",
    "<font size=\"5\"><b>Комментарий ревьюера</b></font>\n",
    "\n",
    "Лучше тогда назвать группу 3+.\n",
    "\n",
    "</div>"
   ]
  },
  {
   "cell_type": "markdown",
   "metadata": {},
   "source": [
    "Нам нужно выяснить влияние количества детей и уровня дохода на возврат кредита в срок, поэтому проведем категоризацию и по доходу и создадим новый столбец income_level."
   ]
  },
  {
   "cell_type": "code",
   "execution_count": 43,
   "metadata": {},
   "outputs": [
    {
     "data": {
      "text/plain": [
       "income_level\n",
       "высокий доход     5066\n",
       "низкий доход      4463\n",
       "средний доход    11681\n",
       "Name: children, dtype: int64"
      ]
     },
     "execution_count": 43,
     "metadata": {},
     "output_type": "execute_result"
    }
   ],
   "source": [
    "def income_category(income):\n",
    "\n",
    "        if income < 100000:\n",
    "                return 'низкий доход'\n",
    "        if income <= 200000:\n",
    "                return 'средний доход'\n",
    "        return 'высокий доход'\n",
    "    \n",
    "df['income_level'] = df['total_income'].apply(income_category)\n",
    "df.groupby('income_level')['children'].count()"
   ]
  },
  {
   "cell_type": "markdown",
   "metadata": {},
   "source": [
    "<div class=\"alert alert-warning\">\n",
    "<font size=\"5\"><b>Комментарий ревьюера</b></font>\n",
    "\n",
    "Исходя из чего выбран именно такой способ категоризации столбца с доходами? Такое разбиение мы можем использовать, но важно его обосновать. \n",
    "    \n",
    "</div>\n",
    "<div class=\"alert alert-success\">\n",
    "    \n",
    "Лучше использовать разбиение по квантилям данных (метод qcut). Тогда группы получатся одинакового размера. Или же можно узнать в интернете процентный состав общества по доходам и затем уже категоризовать столбец с доходами по найденному соотношению с помощью персентилей. \n",
    "\n",
    "</div>"
   ]
  },
  {
   "cell_type": "markdown",
   "metadata": {},
   "source": [
    "**Здесь логика у меня была такая - самая наиболее часто встречающаяся во всех отчетах категоризация дохода это три уровня - высокий, средний и низкий. Цифры с ноликами взяты для четкого деления дохода, как рубежи. В рамках исследовани яне стояло цели создать свою систему ранжирования уровня дохода, поэтому категоризировал \"как везде\".**"
   ]
  },
  {
   "cell_type": "markdown",
   "metadata": {},
   "source": [
    "<div class=\"alert alert-success\">\n",
    "<font size=\"5\"><b>Комментарий ревьюера 2</b></font>\n",
    "\n",
    "Ок. Но лучше все же привести источник информации с указанием подобного способа категоризации. Ссылки - всегда хорошо)\n",
    "\n",
    "</div>"
   ]
  },
  {
   "cell_type": "code",
   "execution_count": 44,
   "metadata": {},
   "outputs": [
    {
     "data": {
      "text/html": [
       "<div>\n",
       "<style scoped>\n",
       "    .dataframe tbody tr th:only-of-type {\n",
       "        vertical-align: middle;\n",
       "    }\n",
       "\n",
       "    .dataframe tbody tr th {\n",
       "        vertical-align: top;\n",
       "    }\n",
       "\n",
       "    .dataframe thead th {\n",
       "        text-align: right;\n",
       "    }\n",
       "</style>\n",
       "<table border=\"1\" class=\"dataframe\">\n",
       "  <thead>\n",
       "    <tr style=\"text-align: right;\">\n",
       "      <th></th>\n",
       "      <th>children</th>\n",
       "      <th>days_employed</th>\n",
       "      <th>dob_years</th>\n",
       "      <th>education</th>\n",
       "      <th>education_id</th>\n",
       "      <th>family_status</th>\n",
       "      <th>family_status_id</th>\n",
       "      <th>gender</th>\n",
       "      <th>income_type</th>\n",
       "      <th>debt</th>\n",
       "      <th>total_income</th>\n",
       "      <th>purpose_type</th>\n",
       "      <th>children_category</th>\n",
       "      <th>income_level</th>\n",
       "    </tr>\n",
       "  </thead>\n",
       "  <tbody>\n",
       "    <tr>\n",
       "      <td>0</td>\n",
       "      <td>1</td>\n",
       "      <td>8438</td>\n",
       "      <td>42</td>\n",
       "      <td>высшее</td>\n",
       "      <td>0</td>\n",
       "      <td>женат / замужем</td>\n",
       "      <td>0</td>\n",
       "      <td>F</td>\n",
       "      <td>сотрудник</td>\n",
       "      <td>0</td>\n",
       "      <td>253876</td>\n",
       "      <td>жилье</td>\n",
       "      <td>1</td>\n",
       "      <td>высокий доход</td>\n",
       "    </tr>\n",
       "    <tr>\n",
       "      <td>1</td>\n",
       "      <td>1</td>\n",
       "      <td>4025</td>\n",
       "      <td>36</td>\n",
       "      <td>среднее</td>\n",
       "      <td>1</td>\n",
       "      <td>женат / замужем</td>\n",
       "      <td>0</td>\n",
       "      <td>F</td>\n",
       "      <td>сотрудник</td>\n",
       "      <td>0</td>\n",
       "      <td>112080</td>\n",
       "      <td>автомобиль</td>\n",
       "      <td>1</td>\n",
       "      <td>средний доход</td>\n",
       "    </tr>\n",
       "    <tr>\n",
       "      <td>2</td>\n",
       "      <td>0</td>\n",
       "      <td>5623</td>\n",
       "      <td>33</td>\n",
       "      <td>среднее</td>\n",
       "      <td>1</td>\n",
       "      <td>женат / замужем</td>\n",
       "      <td>0</td>\n",
       "      <td>M</td>\n",
       "      <td>сотрудник</td>\n",
       "      <td>0</td>\n",
       "      <td>145886</td>\n",
       "      <td>жилье</td>\n",
       "      <td>0</td>\n",
       "      <td>средний доход</td>\n",
       "    </tr>\n",
       "    <tr>\n",
       "      <td>3</td>\n",
       "      <td>3</td>\n",
       "      <td>4125</td>\n",
       "      <td>32</td>\n",
       "      <td>среднее</td>\n",
       "      <td>1</td>\n",
       "      <td>женат / замужем</td>\n",
       "      <td>0</td>\n",
       "      <td>M</td>\n",
       "      <td>сотрудник</td>\n",
       "      <td>0</td>\n",
       "      <td>267629</td>\n",
       "      <td>образование</td>\n",
       "      <td>3</td>\n",
       "      <td>высокий доход</td>\n",
       "    </tr>\n",
       "    <tr>\n",
       "      <td>4</td>\n",
       "      <td>0</td>\n",
       "      <td>340266</td>\n",
       "      <td>53</td>\n",
       "      <td>среднее</td>\n",
       "      <td>1</td>\n",
       "      <td>гражданский брак</td>\n",
       "      <td>1</td>\n",
       "      <td>F</td>\n",
       "      <td>пенсионер</td>\n",
       "      <td>0</td>\n",
       "      <td>158616</td>\n",
       "      <td>свадьба</td>\n",
       "      <td>0</td>\n",
       "      <td>средний доход</td>\n",
       "    </tr>\n",
       "  </tbody>\n",
       "</table>\n",
       "</div>"
      ],
      "text/plain": [
       "   children  days_employed  dob_years education  education_id  \\\n",
       "0         1           8438         42    высшее             0   \n",
       "1         1           4025         36   среднее             1   \n",
       "2         0           5623         33   среднее             1   \n",
       "3         3           4125         32   среднее             1   \n",
       "4         0         340266         53   среднее             1   \n",
       "\n",
       "      family_status  family_status_id gender income_type  debt  total_income  \\\n",
       "0   женат / замужем                 0      F   сотрудник     0        253876   \n",
       "1   женат / замужем                 0      F   сотрудник     0        112080   \n",
       "2   женат / замужем                 0      M   сотрудник     0        145886   \n",
       "3   женат / замужем                 0      M   сотрудник     0        267629   \n",
       "4  гражданский брак                 1      F   пенсионер     0        158616   \n",
       "\n",
       "  purpose_type  children_category   income_level  \n",
       "0        жилье                  1  высокий доход  \n",
       "1   автомобиль                  1  средний доход  \n",
       "2        жилье                  0  средний доход  \n",
       "3  образование                  3  высокий доход  \n",
       "4      свадьба                  0  средний доход  "
      ]
     },
     "execution_count": 44,
     "metadata": {},
     "output_type": "execute_result"
    }
   ],
   "source": [
    "df.head()"
   ]
  },
  {
   "cell_type": "markdown",
   "metadata": {},
   "source": [
    "Для оптимизации датасета выделим словари с категориями образования и семейного положения"
   ]
  },
  {
   "cell_type": "code",
   "execution_count": 45,
   "metadata": {},
   "outputs": [],
   "source": [
    "df_log = df[['days_employed', 'dob_years', 'education_id',\n",
    "       'family_status_id', 'gender', 'income_type', 'debt',\n",
    "       'purpose_type', 'children_category', 'income_level']]\n",
    "\n",
    "df_family_dict = df[['family_status', 'family_status_id']]\n",
    "df_family_dict = df_family_dict.drop_duplicates().reset_index(drop = True)\n",
    "\n",
    "df_education_dict = df[['education', 'education_id']]\n",
    "df_education_dict = df_education_dict.drop_duplicates().reset_index(drop = True)"
   ]
  },
  {
   "cell_type": "markdown",
   "metadata": {},
   "source": [
    "**Вывод**"
   ]
  },
  {
   "cell_type": "markdown",
   "metadata": {},
   "source": [
    "Для классификации датасета по параметрам с числовыми значениями мы разделили значения столбца children на четыре категории и столбца total_income на три категории.\n",
    "Проведя категоризацию данных по количеству детей и доходу мы видим что по количеству детей самая большая категория - 0 детей, а по уровню дохода самая большая категория - средний."
   ]
  },
  {
   "cell_type": "markdown",
   "metadata": {},
   "source": [
    "<div class=\"alert alert-success\">\n",
    "<font size=\"5\"><b>Комментарий ревьюера</b></font>\n",
    "\n",
    "Словари в данных выделены. Правильно, что ты убрал текстовые параметры из основной таблицы. Это позволит нам увеличить эффективность работы с данными. \n",
    "\n",
    "</div>"
   ]
  },
  {
   "cell_type": "markdown",
   "metadata": {},
   "source": [
    "## Шаг 3. Ответьте на вопросы"
   ]
  },
  {
   "cell_type": "markdown",
   "metadata": {},
   "source": [
    "- Есть ли зависимость между наличием детей и возвратом кредита в срок?"
   ]
  },
  {
   "cell_type": "code",
   "execution_count": 46,
   "metadata": {},
   "outputs": [
    {
     "data": {
      "text/html": [
       "<div>\n",
       "<style scoped>\n",
       "    .dataframe tbody tr th:only-of-type {\n",
       "        vertical-align: middle;\n",
       "    }\n",
       "\n",
       "    .dataframe tbody tr th {\n",
       "        vertical-align: top;\n",
       "    }\n",
       "\n",
       "    .dataframe thead th {\n",
       "        text-align: right;\n",
       "    }\n",
       "</style>\n",
       "<table border=\"1\" class=\"dataframe\">\n",
       "  <thead>\n",
       "    <tr style=\"text-align: right;\">\n",
       "      <th></th>\n",
       "      <th>debt</th>\n",
       "    </tr>\n",
       "    <tr>\n",
       "      <th>children_category</th>\n",
       "      <th></th>\n",
       "    </tr>\n",
       "  </thead>\n",
       "  <tbody>\n",
       "    <tr>\n",
       "      <td>0</td>\n",
       "      <td>0.076261</td>\n",
       "    </tr>\n",
       "    <tr>\n",
       "      <td>1</td>\n",
       "      <td>0.093023</td>\n",
       "    </tr>\n",
       "    <tr>\n",
       "      <td>2</td>\n",
       "      <td>0.094958</td>\n",
       "    </tr>\n",
       "    <tr>\n",
       "      <td>3</td>\n",
       "      <td>0.085714</td>\n",
       "    </tr>\n",
       "  </tbody>\n",
       "</table>\n",
       "</div>"
      ],
      "text/plain": [
       "                       debt\n",
       "children_category          \n",
       "0                  0.076261\n",
       "1                  0.093023\n",
       "2                  0.094958\n",
       "3                  0.085714"
      ]
     },
     "execution_count": 46,
     "metadata": {},
     "output_type": "execute_result"
    }
   ],
   "source": [
    "pd.pivot_table(df,\n",
    "               index=['children_category'],\n",
    "              values=['debt'])"
   ]
  },
  {
   "cell_type": "markdown",
   "metadata": {},
   "source": [
    "Процент клиентов с детьми, имеющих задолженности : 9.31%, 9.49%, 8.57%, а у тех, кого нет детей 7.62%"
   ]
  },
  {
   "cell_type": "markdown",
   "metadata": {},
   "source": [
    "**Вывод**"
   ]
  },
  {
   "cell_type": "markdown",
   "metadata": {},
   "source": [
    "Самый низкий процент должников среди категории без детей - у 7,62% людей. А у тех кого есть дети показатели выше  -  9,31%. Интересно что показатель процента задолжности у группы с 1 или 2 ребенком примерно одинаковый. Вероятно дети влияют на выплату в срок."
   ]
  },
  {
   "cell_type": "markdown",
   "metadata": {},
   "source": [
    "<div class=\"alert alert-success\">\n",
    "<font size=\"5\"><b>Комментарий ревьюера</b></font>\n",
    "\n",
    "Вывод не противоречит полученному результату. \n",
    "\n",
    "</div>"
   ]
  },
  {
   "cell_type": "markdown",
   "metadata": {},
   "source": [
    "- Есть ли зависимость между семейным положением и возвратом кредита в срок?"
   ]
  },
  {
   "cell_type": "code",
   "execution_count": 47,
   "metadata": {},
   "outputs": [
    {
     "data": {
      "text/html": [
       "<div>\n",
       "<style scoped>\n",
       "    .dataframe tbody tr th:only-of-type {\n",
       "        vertical-align: middle;\n",
       "    }\n",
       "\n",
       "    .dataframe tbody tr th {\n",
       "        vertical-align: top;\n",
       "    }\n",
       "\n",
       "    .dataframe thead th {\n",
       "        text-align: right;\n",
       "    }\n",
       "</style>\n",
       "<table border=\"1\" class=\"dataframe\">\n",
       "  <thead>\n",
       "    <tr style=\"text-align: right;\">\n",
       "      <th></th>\n",
       "      <th>debt</th>\n",
       "    </tr>\n",
       "    <tr>\n",
       "      <th>family_status</th>\n",
       "      <th></th>\n",
       "    </tr>\n",
       "  </thead>\n",
       "  <tbody>\n",
       "    <tr>\n",
       "      <td>в разводе</td>\n",
       "      <td>0.071249</td>\n",
       "    </tr>\n",
       "    <tr>\n",
       "      <td>вдовец / вдова</td>\n",
       "      <td>0.066456</td>\n",
       "    </tr>\n",
       "    <tr>\n",
       "      <td>гражданский брак</td>\n",
       "      <td>0.093969</td>\n",
       "    </tr>\n",
       "    <tr>\n",
       "      <td>женат / замужем</td>\n",
       "      <td>0.076556</td>\n",
       "    </tr>\n",
       "    <tr>\n",
       "      <td>не женат / не замужем</td>\n",
       "      <td>0.098138</td>\n",
       "    </tr>\n",
       "  </tbody>\n",
       "</table>\n",
       "</div>"
      ],
      "text/plain": [
       "                           debt\n",
       "family_status                  \n",
       "в разводе              0.071249\n",
       "вдовец / вдова         0.066456\n",
       "гражданский брак       0.093969\n",
       "женат / замужем        0.076556\n",
       "не женат / не замужем  0.098138"
      ]
     },
     "execution_count": 47,
     "metadata": {},
     "output_type": "execute_result"
    }
   ],
   "source": [
    "pd.pivot_table(df,\n",
    "               index=['family_status'],\n",
    "              values=['debt'])"
   ]
  },
  {
   "cell_type": "markdown",
   "metadata": {},
   "source": [
    "Посмотрим средний возраст по категориям, чтобы выстроить гипотезу и дать ответ на вопрос."
   ]
  },
  {
   "cell_type": "code",
   "execution_count": 48,
   "metadata": {},
   "outputs": [
    {
     "name": "stdout",
     "output_type": "stream",
     "text": [
      "Средний возраст по категориям  family_status\n",
      "не женат / не замужем    38.380014\n",
      "гражданский брак         42.024946\n",
      "женат / замужем          43.476457\n",
      "в разводе                45.503772\n",
      "вдовец / вдова           56.443038\n",
      "Name: dob_years, dtype: float64\n"
     ]
    }
   ],
   "source": [
    "df_family_age_grouped = df.groupby('family_status')['dob_years'].mean().sort_values(ascending = True)\n",
    "print('Средний возраст по категориям ', df_family_age_grouped)"
   ]
  },
  {
   "cell_type": "markdown",
   "metadata": {},
   "source": [
    "**Вывод**"
   ]
  },
  {
   "cell_type": "markdown",
   "metadata": {},
   "source": [
    "Больше всего должников среди не женатых, гед средний возраст составляет 38 лет. Более возрастные категории я вляются более стабильными плательщиками, особенно категория вдовцы - всего 6.6% должников, средний возраст 56 лет. Зависимост ьмежду семейным положением и возвратом кредита в срок есть."
   ]
  },
  {
   "cell_type": "markdown",
   "metadata": {},
   "source": [
    "<div class=\"alert alert-success\">\n",
    "<font size=\"5\"><b>Комментарий ревьюера</b></font>\n",
    "\n",
    "Скоррее всего мы имеем скрытую зависимость от возраста клиентов. \n",
    "\n",
    "</div>"
   ]
  },
  {
   "cell_type": "markdown",
   "metadata": {},
   "source": [
    "**Что такое скрытая зависимость? Я так понимю, это когда все переменные уравнения неизвестны, но по известной части мы делаем правильный вывод? Например, была бы у нас информация о том, снимает человек жилье или живет в собственном, мы могли бы провести параллель и выяснить что молодые чаще снимают жилье, поэтому чаще остаются без денег на момент выплаты кредита, как то так?**"
   ]
  },
  {
   "cell_type": "markdown",
   "metadata": {},
   "source": [
    "<div class=\"alert alert-success\">\n",
    "<font size=\"5\"><b>Комментарий ревьюера 2</b></font>\n",
    "\n",
    "В данном случае просто фактор отсутствия штампа сам по себе не несет информации о том, что клиент с большей вероятностью окажется должником. Выше мы смотрели на число детей, там фактор детей подразумевает дополнительные траты, а тут нет. Соответственно, есть еще какая-то зависимость, которая и формирует такой результат, который мы видим мы. Ты ее обнаружил правильно, на мой взгляд. Возраст клиентов оказывает большее влияние, чем семейное положение.  \n",
    "\n",
    "</div>"
   ]
  },
  {
   "cell_type": "markdown",
   "metadata": {},
   "source": [
    "- Есть ли зависимость между уровнем дохода и возвратом кредита в срок?"
   ]
  },
  {
   "cell_type": "code",
   "execution_count": 49,
   "metadata": {},
   "outputs": [
    {
     "data": {
      "text/html": [
       "<div>\n",
       "<style scoped>\n",
       "    .dataframe tbody tr th:only-of-type {\n",
       "        vertical-align: middle;\n",
       "    }\n",
       "\n",
       "    .dataframe tbody tr th {\n",
       "        vertical-align: top;\n",
       "    }\n",
       "\n",
       "    .dataframe thead th {\n",
       "        text-align: right;\n",
       "    }\n",
       "</style>\n",
       "<table border=\"1\" class=\"dataframe\">\n",
       "  <thead>\n",
       "    <tr style=\"text-align: right;\">\n",
       "      <th></th>\n",
       "      <th>debt</th>\n",
       "    </tr>\n",
       "    <tr>\n",
       "      <th>income_level</th>\n",
       "      <th></th>\n",
       "    </tr>\n",
       "  </thead>\n",
       "  <tbody>\n",
       "    <tr>\n",
       "      <td>высокий доход</td>\n",
       "      <td>0.070667</td>\n",
       "    </tr>\n",
       "    <tr>\n",
       "      <td>низкий доход</td>\n",
       "      <td>0.079319</td>\n",
       "    </tr>\n",
       "    <tr>\n",
       "      <td>средний доход</td>\n",
       "      <td>0.088006</td>\n",
       "    </tr>\n",
       "  </tbody>\n",
       "</table>\n",
       "</div>"
      ],
      "text/plain": [
       "                   debt\n",
       "income_level           \n",
       "высокий доход  0.070667\n",
       "низкий доход   0.079319\n",
       "средний доход  0.088006"
      ]
     },
     "execution_count": 49,
     "metadata": {},
     "output_type": "execute_result"
    }
   ],
   "source": [
    "pd.pivot_table(df,\n",
    "               index=['income_level'],\n",
    "              values=['debt'])"
   ]
  },
  {
   "cell_type": "markdown",
   "metadata": {},
   "source": [
    "**Вывод**"
   ]
  },
  {
   "cell_type": "markdown",
   "metadata": {},
   "source": [
    "Никакой ярко выраженной прямой зависимости между уровнем дохода и невыплатами кредита нет.Чуть выше процент должников со средним доходом, но это не выглядит сильными разрывом."
   ]
  },
  {
   "cell_type": "markdown",
   "metadata": {},
   "source": [
    "- Как разные цели кредита влияют на его возврат в срок?"
   ]
  },
  {
   "cell_type": "code",
   "execution_count": 50,
   "metadata": {},
   "outputs": [
    {
     "data": {
      "text/html": [
       "<div>\n",
       "<style scoped>\n",
       "    .dataframe tbody tr th:only-of-type {\n",
       "        vertical-align: middle;\n",
       "    }\n",
       "\n",
       "    .dataframe tbody tr th {\n",
       "        vertical-align: top;\n",
       "    }\n",
       "\n",
       "    .dataframe thead th {\n",
       "        text-align: right;\n",
       "    }\n",
       "</style>\n",
       "<table border=\"1\" class=\"dataframe\">\n",
       "  <thead>\n",
       "    <tr style=\"text-align: right;\">\n",
       "      <th></th>\n",
       "      <th>debt</th>\n",
       "    </tr>\n",
       "    <tr>\n",
       "      <th>purpose_type</th>\n",
       "      <th></th>\n",
       "    </tr>\n",
       "  </thead>\n",
       "  <tbody>\n",
       "    <tr>\n",
       "      <td>автомобиль</td>\n",
       "      <td>0.094101</td>\n",
       "    </tr>\n",
       "    <tr>\n",
       "      <td>жилье</td>\n",
       "      <td>0.069873</td>\n",
       "    </tr>\n",
       "    <tr>\n",
       "      <td>недвижимость</td>\n",
       "      <td>0.075719</td>\n",
       "    </tr>\n",
       "    <tr>\n",
       "      <td>образование</td>\n",
       "      <td>0.093340</td>\n",
       "    </tr>\n",
       "    <tr>\n",
       "      <td>свадьба</td>\n",
       "      <td>0.080659</td>\n",
       "    </tr>\n",
       "  </tbody>\n",
       "</table>\n",
       "</div>"
      ],
      "text/plain": [
       "                  debt\n",
       "purpose_type          \n",
       "автомобиль    0.094101\n",
       "жилье         0.069873\n",
       "недвижимость  0.075719\n",
       "образование   0.093340\n",
       "свадьба       0.080659"
      ]
     },
     "execution_count": 50,
     "metadata": {},
     "output_type": "execute_result"
    }
   ],
   "source": [
    "pd.pivot_table(df,\n",
    "               index=['purpose_type'],\n",
    "              values=['debt'])"
   ]
  },
  {
   "cell_type": "markdown",
   "metadata": {},
   "source": [
    "**Вывод**"
   ]
  },
  {
   "cell_type": "markdown",
   "metadata": {},
   "source": [
    "Лидирующие категории по количеству должников - те кто занимают на автомобиль или образование. Вероятно эти кредиты проще получить, чем кредит на недвижимость или жилье. Также достаточно высокий процент должников в категории свадеб."
   ]
  },
  {
   "cell_type": "markdown",
   "metadata": {},
   "source": [
    "<div class=\"alert alert-success\">\n",
    "<font size=\"5\"><b>Комментарий ревьюера</b></font>\n",
    "\n",
    "Здорово, что при анализе использован метод сводных таблиц. Он пригодится в дальнейших проектах.\n",
    "\n",
    "Выводы сделаны по всем пунктам. \n",
    "\n",
    "</div>"
   ]
  },
  {
   "cell_type": "markdown",
   "metadata": {},
   "source": [
    "## Шаг 4. Общий вывод"
   ]
  },
  {
   "cell_type": "markdown",
   "metadata": {},
   "source": [
    "Мы провели классификацию данных о клиентах банков и определили ряд закономерностей в поведении разных групп людей.\n",
    "\n",
    "Клиенты без детей реже задерживают платежи.\n",
    "\n",
    "Семейный статус клиента влияет на вероятность возврата им кредита в срок.\n",
    "\n",
    "По указанной цели кредита можно определить риск невозврата.\n",
    "\n",
    "Уровень дохода клиента не определяет его пунктуальность в платежах."
   ]
  },
  {
   "cell_type": "markdown",
   "metadata": {},
   "source": [
    "<div class=\"alert alert-success\">\n",
    "<font size=\"5\"><b>Комментарий ревьюера</b></font>\n",
    "\n",
    "Выводы сделаны. Приведены ответы на главные вопросы проекта. В выводах можно приводить полученные ранее значения, верно. Также можно расписать все, что было сделано в ходе проведения работы. \n",
    "\n",
    "</div>"
   ]
  },
  {
   "cell_type": "markdown",
   "metadata": {},
   "source": [
    "<div class=\"alert alert-success\">\n",
    "<font size=\"5\"><b>Комментарий ревьюера</b></font>\n",
    "\n",
    "Ты проделал большую работу, молодец! У тебя получился классный проект) Критических замечаний почти нет. Попробуй улучшить обработку пропусков. Думаю, сделать это тебе не составит труда. Жду твою работу :)\n",
    "\n",
    "</div>"
   ]
  },
  {
   "cell_type": "markdown",
   "metadata": {},
   "source": [
    "**Спасибо большое! Я дико отстаю от плана спринтов, уже надо за сборный проект браться, но мне еще одну работу предстоит выполнить перед этим. Надеюсь снова попасть к тебе на првоерку!**"
   ]
  },
  {
   "cell_type": "markdown",
   "metadata": {},
   "source": [
    "<div class=\"alert alert-success\">\n",
    "<font size=\"5\"><b>Комментарий ревьюера 2</b></font>\n",
    "\n",
    "Помарки исправлены, и теперь работа выполнена хорошо. У тебя получился классный проект, молодец. Продолжай в том же духе! Надеюсь, ты успеешь в сроки) Успехов в дальнейших проектах :)\n",
    "\n",
    "</div>\n",
    "   "
   ]
  },
  {
   "cell_type": "markdown",
   "metadata": {},
   "source": [
    "## Чек-лист готовности проекта\n",
    "\n",
    "Поставьте 'x' в выполненных пунктах. Далее нажмите Shift+Enter."
   ]
  },
  {
   "cell_type": "markdown",
   "metadata": {},
   "source": [
    "- [x]  открыт файл;\n",
    "- [х]  файл изучен;\n",
    "- [х]  определены пропущенные значения;\n",
    "- [х]  заполнены пропущенные значения;\n",
    "- [х]  есть пояснение, какие пропущенные значения обнаружены;\n",
    "- [х]  описаны возможные причины появления пропусков в данных;\n",
    "- [х]  объяснено, по какому принципу заполнены пропуски;\n",
    "- [х ]  заменен вещественный тип данных на целочисленный;\n",
    "- [ х]  есть пояснение, какой метод используется для изменения типа данных и почему;\n",
    "- [ х]  удалены дубликаты;\n",
    "- [ х]  есть пояснение, какой метод используется для поиска и удаления дубликатов;\n",
    "- [ х]  описаны возможные причины появления дубликатов в данных;\n",
    "- [х ]  выделены леммы в значениях столбца с целями получения кредита;\n",
    "- [х ]  описан процесс лемматизации;\n",
    "- [х ]  данные категоризированы;\n",
    "- [х ]  есть объяснение принципа категоризации данных;\n",
    "- [ х]  есть ответ на вопрос: \"Есть ли зависимость между наличием детей и возвратом кредита в срок?\";\n",
    "- [х ]  есть ответ на вопрос: \"Есть ли зависимость между семейным положением и возвратом кредита в срок?\";\n",
    "- [ х]  есть ответ на вопрос: \"Есть ли зависимость между уровнем дохода и возвратом кредита в срок?\";\n",
    "- [х]  есть ответ на вопрос: \"Как разные цели кредита влияют на его возврат в срок?\";\n",
    "- [ х]  в каждом этапе есть выводы;\n",
    "- [х ]  есть общий вывод."
   ]
  }
 ],
 "metadata": {
  "ExecuteTimeLog": [
   {
    "duration": 790,
    "start_time": "2021-10-07T16:10:38.160Z"
   },
   {
    "duration": 86,
    "start_time": "2021-10-07T16:13:28.560Z"
   },
   {
    "duration": 60,
    "start_time": "2021-10-07T16:14:08.107Z"
   },
   {
    "duration": 15,
    "start_time": "2021-10-07T16:16:06.246Z"
   },
   {
    "duration": 108,
    "start_time": "2021-10-07T18:49:25.117Z"
   },
   {
    "duration": 358,
    "start_time": "2021-10-07T18:54:32.696Z"
   },
   {
    "duration": 300,
    "start_time": "2021-10-07T18:54:41.967Z"
   },
   {
    "duration": 13,
    "start_time": "2021-10-07T18:54:55.156Z"
   },
   {
    "duration": 94,
    "start_time": "2021-10-07T18:55:52.476Z"
   },
   {
    "duration": 91,
    "start_time": "2021-10-07T18:55:56.787Z"
   },
   {
    "duration": 14,
    "start_time": "2021-10-07T18:57:21.005Z"
   },
   {
    "duration": 112,
    "start_time": "2021-10-07T18:59:56.838Z"
   },
   {
    "duration": 7,
    "start_time": "2021-10-07T19:00:43.891Z"
   },
   {
    "duration": 8,
    "start_time": "2021-10-07T19:03:18.494Z"
   },
   {
    "duration": 8,
    "start_time": "2021-10-07T19:07:40.082Z"
   },
   {
    "duration": 6,
    "start_time": "2021-10-07T19:20:06.915Z"
   },
   {
    "duration": 7,
    "start_time": "2021-10-07T19:20:27.904Z"
   },
   {
    "duration": 13,
    "start_time": "2021-10-07T19:21:29.846Z"
   },
   {
    "duration": 146,
    "start_time": "2021-10-07T19:23:53.284Z"
   },
   {
    "duration": 100,
    "start_time": "2021-10-07T19:23:55.758Z"
   },
   {
    "duration": 22,
    "start_time": "2021-10-07T19:33:50.318Z"
   },
   {
    "duration": 33,
    "start_time": "2021-10-07T19:36:07.746Z"
   },
   {
    "duration": 13,
    "start_time": "2021-10-07T19:36:51.268Z"
   },
   {
    "duration": 13,
    "start_time": "2021-10-07T20:26:52.717Z"
   },
   {
    "duration": 12,
    "start_time": "2021-10-07T20:32:34.953Z"
   },
   {
    "duration": 12,
    "start_time": "2021-10-07T20:32:39.600Z"
   },
   {
    "duration": 14,
    "start_time": "2021-10-07T20:32:44.779Z"
   },
   {
    "duration": 7,
    "start_time": "2021-10-07T20:36:20.065Z"
   },
   {
    "duration": 13,
    "start_time": "2021-10-07T20:36:27.301Z"
   },
   {
    "duration": 6,
    "start_time": "2021-10-07T20:36:32.679Z"
   },
   {
    "duration": 15,
    "start_time": "2021-10-07T20:36:36.812Z"
   },
   {
    "duration": 8,
    "start_time": "2021-10-07T20:36:48.339Z"
   },
   {
    "duration": 13,
    "start_time": "2021-10-07T20:40:19.880Z"
   },
   {
    "duration": 33,
    "start_time": "2021-10-07T20:41:02.120Z"
   },
   {
    "duration": 683,
    "start_time": "2021-10-07T20:46:47.012Z"
   },
   {
    "duration": 66,
    "start_time": "2021-10-07T20:46:47.698Z"
   },
   {
    "duration": 19,
    "start_time": "2021-10-07T20:46:47.768Z"
   },
   {
    "duration": 32,
    "start_time": "2021-10-07T20:46:47.790Z"
   },
   {
    "duration": 22,
    "start_time": "2021-10-07T20:46:47.824Z"
   },
   {
    "duration": 45,
    "start_time": "2021-10-07T20:46:47.848Z"
   },
   {
    "duration": 8,
    "start_time": "2021-10-07T20:46:47.895Z"
   },
   {
    "duration": 9,
    "start_time": "2021-10-07T20:46:47.906Z"
   },
   {
    "duration": 8,
    "start_time": "2021-10-07T20:46:47.918Z"
   },
   {
    "duration": 6,
    "start_time": "2021-10-07T20:46:47.928Z"
   },
   {
    "duration": 48,
    "start_time": "2021-10-07T20:46:47.937Z"
   },
   {
    "duration": 14,
    "start_time": "2021-10-07T20:46:47.988Z"
   },
   {
    "duration": 21,
    "start_time": "2021-10-07T20:46:48.005Z"
   },
   {
    "duration": 689,
    "start_time": "2021-10-07T20:50:35.135Z"
   },
   {
    "duration": 62,
    "start_time": "2021-10-07T20:50:35.827Z"
   },
   {
    "duration": 14,
    "start_time": "2021-10-07T20:50:35.892Z"
   },
   {
    "duration": 28,
    "start_time": "2021-10-07T20:50:35.909Z"
   },
   {
    "duration": 52,
    "start_time": "2021-10-07T20:50:35.940Z"
   },
   {
    "duration": 12,
    "start_time": "2021-10-07T20:50:35.994Z"
   },
   {
    "duration": 9,
    "start_time": "2021-10-07T20:50:36.009Z"
   },
   {
    "duration": 10,
    "start_time": "2021-10-07T20:50:36.021Z"
   },
   {
    "duration": 16,
    "start_time": "2021-10-07T20:50:36.034Z"
   },
   {
    "duration": 51,
    "start_time": "2021-10-07T20:50:36.053Z"
   },
   {
    "duration": 6,
    "start_time": "2021-10-07T20:50:36.106Z"
   },
   {
    "duration": 10,
    "start_time": "2021-10-07T20:50:36.114Z"
   },
   {
    "duration": 14,
    "start_time": "2021-10-07T20:50:36.127Z"
   },
   {
    "duration": 58,
    "start_time": "2021-10-07T20:50:36.144Z"
   },
   {
    "duration": 5,
    "start_time": "2021-10-08T14:05:31.134Z"
   },
   {
    "duration": 3,
    "start_time": "2021-10-08T14:05:35.637Z"
   },
   {
    "duration": 285,
    "start_time": "2021-10-08T14:05:48.002Z"
   },
   {
    "duration": 2059,
    "start_time": "2021-10-08T14:06:05.643Z"
   },
   {
    "duration": 391,
    "start_time": "2021-10-08T14:06:07.704Z"
   },
   {
    "duration": 15,
    "start_time": "2021-10-08T14:06:08.098Z"
   },
   {
    "duration": 37,
    "start_time": "2021-10-08T14:06:08.116Z"
   },
   {
    "duration": 28,
    "start_time": "2021-10-08T14:06:08.155Z"
   },
   {
    "duration": 13,
    "start_time": "2021-10-08T14:06:08.186Z"
   },
   {
    "duration": 9,
    "start_time": "2021-10-08T14:06:08.222Z"
   },
   {
    "duration": 13,
    "start_time": "2021-10-08T14:06:08.236Z"
   },
   {
    "duration": 14,
    "start_time": "2021-10-08T14:06:08.251Z"
   },
   {
    "duration": 25,
    "start_time": "2021-10-08T14:06:08.267Z"
   },
   {
    "duration": 9,
    "start_time": "2021-10-08T14:06:08.324Z"
   },
   {
    "duration": 7,
    "start_time": "2021-10-08T14:06:08.337Z"
   },
   {
    "duration": 15,
    "start_time": "2021-10-08T14:06:08.346Z"
   },
   {
    "duration": 5,
    "start_time": "2021-10-08T14:06:08.364Z"
   },
   {
    "duration": 52,
    "start_time": "2021-10-08T14:06:08.371Z"
   },
   {
    "duration": 20,
    "start_time": "2021-10-08T14:06:47.164Z"
   },
   {
    "duration": 6,
    "start_time": "2021-10-08T14:07:41.181Z"
   },
   {
    "duration": 19,
    "start_time": "2021-10-08T14:07:43.367Z"
   },
   {
    "duration": 10,
    "start_time": "2021-10-08T14:09:13.226Z"
   },
   {
    "duration": 17,
    "start_time": "2021-10-08T14:09:14.941Z"
   },
   {
    "duration": 6,
    "start_time": "2021-10-08T14:21:31.420Z"
   },
   {
    "duration": 5,
    "start_time": "2021-10-08T14:22:24.724Z"
   },
   {
    "duration": 16,
    "start_time": "2021-10-08T14:22:52.646Z"
   },
   {
    "duration": 16,
    "start_time": "2021-10-08T14:23:59.069Z"
   },
   {
    "duration": 30,
    "start_time": "2021-10-08T14:32:14.901Z"
   },
   {
    "duration": 97,
    "start_time": "2021-10-08T14:32:39.702Z"
   },
   {
    "duration": 74,
    "start_time": "2021-10-08T14:32:43.221Z"
   },
   {
    "duration": 15,
    "start_time": "2021-10-08T14:33:44.970Z"
   },
   {
    "duration": 10,
    "start_time": "2021-10-08T14:36:24.688Z"
   },
   {
    "duration": 43,
    "start_time": "2021-10-08T14:38:56.012Z"
   },
   {
    "duration": 36,
    "start_time": "2021-10-08T14:40:12.582Z"
   },
   {
    "duration": 25,
    "start_time": "2021-10-08T14:41:05.889Z"
   },
   {
    "duration": 14,
    "start_time": "2021-10-08T14:41:22.298Z"
   },
   {
    "duration": 7,
    "start_time": "2021-10-08T14:46:15.064Z"
   },
   {
    "duration": 8,
    "start_time": "2021-10-08T14:46:56.005Z"
   },
   {
    "duration": 11,
    "start_time": "2021-10-08T14:47:15.120Z"
   },
   {
    "duration": 7,
    "start_time": "2021-10-08T14:47:58.940Z"
   },
   {
    "duration": 28,
    "start_time": "2021-10-08T14:52:06.137Z"
   },
   {
    "duration": 899,
    "start_time": "2021-10-08T14:57:14.108Z"
   },
   {
    "duration": 937,
    "start_time": "2021-10-08T14:57:16.235Z"
   },
   {
    "duration": 4,
    "start_time": "2021-10-08T20:07:45.993Z"
   },
   {
    "duration": 4580,
    "start_time": "2021-10-08T20:07:58.619Z"
   },
   {
    "duration": 29,
    "start_time": "2021-10-08T20:09:12.043Z"
   },
   {
    "duration": 31,
    "start_time": "2021-10-08T20:10:17.391Z"
   },
   {
    "duration": 37,
    "start_time": "2021-10-08T20:17:16.215Z"
   },
   {
    "duration": 721,
    "start_time": "2021-10-08T20:29:11.770Z"
   },
   {
    "duration": 66,
    "start_time": "2021-10-08T20:29:12.494Z"
   },
   {
    "duration": 14,
    "start_time": "2021-10-08T20:29:12.564Z"
   },
   {
    "duration": 49,
    "start_time": "2021-10-08T20:29:12.581Z"
   },
   {
    "duration": 22,
    "start_time": "2021-10-08T20:29:12.632Z"
   },
   {
    "duration": 14,
    "start_time": "2021-10-08T20:29:12.656Z"
   },
   {
    "duration": 6,
    "start_time": "2021-10-08T20:29:12.672Z"
   },
   {
    "duration": 45,
    "start_time": "2021-10-08T20:29:12.682Z"
   },
   {
    "duration": 10,
    "start_time": "2021-10-08T20:29:12.730Z"
   },
   {
    "duration": 24,
    "start_time": "2021-10-08T20:29:12.742Z"
   },
   {
    "duration": 6,
    "start_time": "2021-10-08T20:29:12.768Z"
   },
   {
    "duration": 48,
    "start_time": "2021-10-08T20:29:12.776Z"
   },
   {
    "duration": 12,
    "start_time": "2021-10-08T20:29:12.827Z"
   },
   {
    "duration": 7,
    "start_time": "2021-10-08T20:29:12.841Z"
   },
   {
    "duration": 16,
    "start_time": "2021-10-08T20:29:12.851Z"
   },
   {
    "duration": 5,
    "start_time": "2021-10-08T20:29:12.870Z"
   },
   {
    "duration": 16,
    "start_time": "2021-10-08T20:29:12.923Z"
   },
   {
    "duration": 16,
    "start_time": "2021-10-08T20:29:12.942Z"
   },
   {
    "duration": 24,
    "start_time": "2021-10-08T20:29:12.960Z"
   },
   {
    "duration": 42,
    "start_time": "2021-10-08T20:29:12.987Z"
   },
   {
    "duration": 12,
    "start_time": "2021-10-08T20:29:13.031Z"
   },
   {
    "duration": 25,
    "start_time": "2021-10-08T20:29:13.045Z"
   },
   {
    "duration": 56,
    "start_time": "2021-10-08T20:29:13.076Z"
   },
   {
    "duration": 24,
    "start_time": "2021-10-08T20:29:13.136Z"
   },
   {
    "duration": 15,
    "start_time": "2021-10-08T20:29:13.163Z"
   },
   {
    "duration": 32,
    "start_time": "2021-10-08T20:29:13.180Z"
   },
   {
    "duration": 19,
    "start_time": "2021-10-08T20:29:13.214Z"
   },
   {
    "duration": 15,
    "start_time": "2021-10-08T20:29:13.235Z"
   },
   {
    "duration": 21,
    "start_time": "2021-10-08T20:29:13.253Z"
   },
   {
    "duration": 32,
    "start_time": "2021-10-08T20:29:13.277Z"
   },
   {
    "duration": 933,
    "start_time": "2021-10-08T20:29:13.312Z"
   },
   {
    "duration": 4,
    "start_time": "2021-10-08T20:29:14.248Z"
   },
   {
    "duration": 4575,
    "start_time": "2021-10-08T20:29:14.254Z"
   },
   {
    "duration": 30,
    "start_time": "2021-10-08T20:29:18.832Z"
   },
   {
    "duration": 33,
    "start_time": "2021-10-08T20:29:18.865Z"
   },
   {
    "duration": 7,
    "start_time": "2021-10-08T20:29:18.923Z"
   },
   {
    "duration": 24,
    "start_time": "2021-10-08T20:29:18.932Z"
   },
   {
    "duration": 5,
    "start_time": "2021-10-08T20:29:18.958Z"
   },
   {
    "duration": 29,
    "start_time": "2021-10-08T20:29:18.965Z"
   },
   {
    "duration": 49,
    "start_time": "2021-10-08T20:29:18.996Z"
   },
   {
    "duration": 20,
    "start_time": "2021-10-08T20:29:19.047Z"
   },
   {
    "duration": 4,
    "start_time": "2021-10-08T20:29:19.069Z"
   },
   {
    "duration": 52,
    "start_time": "2021-10-08T20:29:19.076Z"
   },
   {
    "duration": 9,
    "start_time": "2021-10-08T20:29:19.131Z"
   },
   {
    "duration": 28,
    "start_time": "2021-10-08T20:29:19.142Z"
   },
   {
    "duration": 13,
    "start_time": "2021-10-08T20:29:19.172Z"
   },
   {
    "duration": 59,
    "start_time": "2021-10-08T20:29:19.188Z"
   },
   {
    "duration": 28,
    "start_time": "2021-10-08T20:29:19.250Z"
   },
   {
    "duration": 344,
    "start_time": "2021-10-09T15:25:07.252Z"
   },
   {
    "duration": 1714,
    "start_time": "2021-10-09T15:25:17.946Z"
   },
   {
    "duration": 688,
    "start_time": "2021-10-09T15:25:19.663Z"
   },
   {
    "duration": 19,
    "start_time": "2021-10-09T15:25:20.354Z"
   },
   {
    "duration": 33,
    "start_time": "2021-10-09T15:25:20.377Z"
   },
   {
    "duration": 57,
    "start_time": "2021-10-09T15:25:20.414Z"
   },
   {
    "duration": 15,
    "start_time": "2021-10-09T15:25:20.473Z"
   },
   {
    "duration": 6,
    "start_time": "2021-10-09T15:25:20.490Z"
   },
   {
    "duration": 11,
    "start_time": "2021-10-09T15:25:20.500Z"
   },
   {
    "duration": 50,
    "start_time": "2021-10-09T15:25:20.514Z"
   },
   {
    "duration": 32,
    "start_time": "2021-10-09T15:25:20.566Z"
   },
   {
    "duration": 5,
    "start_time": "2021-10-09T15:25:20.600Z"
   },
   {
    "duration": 7,
    "start_time": "2021-10-09T15:25:20.608Z"
   },
   {
    "duration": 28,
    "start_time": "2021-10-09T15:25:20.618Z"
   },
   {
    "duration": 7,
    "start_time": "2021-10-09T15:25:20.663Z"
   },
   {
    "duration": 18,
    "start_time": "2021-10-09T15:25:20.672Z"
   },
   {
    "duration": 10,
    "start_time": "2021-10-09T15:25:20.692Z"
   },
   {
    "duration": 20,
    "start_time": "2021-10-09T15:25:20.704Z"
   },
   {
    "duration": 49,
    "start_time": "2021-10-09T15:25:20.727Z"
   },
   {
    "duration": 25,
    "start_time": "2021-10-09T15:25:20.779Z"
   },
   {
    "duration": 14,
    "start_time": "2021-10-09T15:25:20.806Z"
   },
   {
    "duration": 42,
    "start_time": "2021-10-09T15:25:20.822Z"
   },
   {
    "duration": 29,
    "start_time": "2021-10-09T15:25:20.867Z"
   },
   {
    "duration": 24,
    "start_time": "2021-10-09T15:25:20.901Z"
   },
   {
    "duration": 45,
    "start_time": "2021-10-09T15:25:20.928Z"
   },
   {
    "duration": 14,
    "start_time": "2021-10-09T15:25:20.976Z"
   },
   {
    "duration": 11,
    "start_time": "2021-10-09T15:25:20.992Z"
   },
   {
    "duration": 7,
    "start_time": "2021-10-09T15:25:21.005Z"
   },
   {
    "duration": 50,
    "start_time": "2021-10-09T15:25:21.014Z"
   },
   {
    "duration": 15,
    "start_time": "2021-10-09T15:25:21.066Z"
   },
   {
    "duration": 18,
    "start_time": "2021-10-09T15:25:21.084Z"
   },
   {
    "duration": 950,
    "start_time": "2021-10-09T15:25:21.105Z"
   },
   {
    "duration": 5,
    "start_time": "2021-10-09T15:25:22.058Z"
   },
   {
    "duration": 5085,
    "start_time": "2021-10-09T15:25:22.065Z"
   },
   {
    "duration": 34,
    "start_time": "2021-10-09T15:25:27.161Z"
   },
   {
    "duration": 35,
    "start_time": "2021-10-09T15:25:27.197Z"
   },
   {
    "duration": 31,
    "start_time": "2021-10-09T15:25:27.234Z"
   },
   {
    "duration": 22,
    "start_time": "2021-10-09T15:25:27.268Z"
   },
   {
    "duration": 5,
    "start_time": "2021-10-09T15:25:27.292Z"
   },
   {
    "duration": 17,
    "start_time": "2021-10-09T15:25:27.299Z"
   },
   {
    "duration": 58,
    "start_time": "2021-10-09T15:25:27.318Z"
   },
   {
    "duration": 21,
    "start_time": "2021-10-09T15:25:27.378Z"
   },
   {
    "duration": 4,
    "start_time": "2021-10-09T15:25:27.401Z"
   },
   {
    "duration": 56,
    "start_time": "2021-10-09T15:25:27.407Z"
   },
   {
    "duration": 10,
    "start_time": "2021-10-09T15:25:27.465Z"
   },
   {
    "duration": 27,
    "start_time": "2021-10-09T15:25:27.477Z"
   },
   {
    "duration": 10,
    "start_time": "2021-10-09T15:25:27.506Z"
   },
   {
    "duration": 57,
    "start_time": "2021-10-09T15:25:27.519Z"
   },
   {
    "duration": 25,
    "start_time": "2021-10-09T15:25:27.578Z"
   },
   {
    "duration": 815,
    "start_time": "2021-10-09T15:28:45.136Z"
   },
   {
    "duration": 61,
    "start_time": "2021-10-09T15:28:45.954Z"
   },
   {
    "duration": 16,
    "start_time": "2021-10-09T15:28:46.018Z"
   },
   {
    "duration": 41,
    "start_time": "2021-10-09T15:28:46.036Z"
   },
   {
    "duration": 22,
    "start_time": "2021-10-09T15:28:46.080Z"
   },
   {
    "duration": 13,
    "start_time": "2021-10-09T15:28:46.105Z"
   },
   {
    "duration": 42,
    "start_time": "2021-10-09T15:28:46.121Z"
   },
   {
    "duration": 10,
    "start_time": "2021-10-09T15:28:46.168Z"
   },
   {
    "duration": 8,
    "start_time": "2021-10-09T15:28:46.181Z"
   },
   {
    "duration": 36,
    "start_time": "2021-10-09T15:28:46.192Z"
   },
   {
    "duration": 33,
    "start_time": "2021-10-09T15:28:46.232Z"
   },
   {
    "duration": 9,
    "start_time": "2021-10-09T15:28:46.268Z"
   },
   {
    "duration": 16,
    "start_time": "2021-10-09T15:28:46.279Z"
   },
   {
    "duration": 8,
    "start_time": "2021-10-09T15:28:46.297Z"
   },
   {
    "duration": 18,
    "start_time": "2021-10-09T15:28:46.307Z"
   },
   {
    "duration": 5,
    "start_time": "2021-10-09T15:28:46.362Z"
   },
   {
    "duration": 21,
    "start_time": "2021-10-09T15:28:46.369Z"
   },
   {
    "duration": 17,
    "start_time": "2021-10-09T15:28:46.392Z"
   },
   {
    "duration": 54,
    "start_time": "2021-10-09T15:28:46.411Z"
   },
   {
    "duration": 14,
    "start_time": "2021-10-09T15:28:46.467Z"
   },
   {
    "duration": 10,
    "start_time": "2021-10-09T15:28:46.483Z"
   },
   {
    "duration": 26,
    "start_time": "2021-10-09T15:28:46.495Z"
   },
   {
    "duration": 55,
    "start_time": "2021-10-09T15:28:46.526Z"
   },
   {
    "duration": 25,
    "start_time": "2021-10-09T15:28:46.584Z"
   },
   {
    "duration": 15,
    "start_time": "2021-10-09T15:28:46.611Z"
   },
   {
    "duration": 34,
    "start_time": "2021-10-09T15:28:46.629Z"
   },
   {
    "duration": 6,
    "start_time": "2021-10-09T15:28:46.666Z"
   },
   {
    "duration": 8,
    "start_time": "2021-10-09T15:28:46.674Z"
   },
   {
    "duration": 7,
    "start_time": "2021-10-09T15:28:46.685Z"
   },
   {
    "duration": 19,
    "start_time": "2021-10-09T15:28:46.694Z"
   },
   {
    "duration": 978,
    "start_time": "2021-10-09T15:28:46.716Z"
   },
   {
    "duration": 4,
    "start_time": "2021-10-09T15:28:47.696Z"
   },
   {
    "duration": 5037,
    "start_time": "2021-10-09T15:28:47.702Z"
   },
   {
    "duration": 48,
    "start_time": "2021-10-09T15:28:52.742Z"
   },
   {
    "duration": 36,
    "start_time": "2021-10-09T15:28:52.793Z"
   },
   {
    "duration": 33,
    "start_time": "2021-10-09T15:28:52.831Z"
   },
   {
    "duration": 23,
    "start_time": "2021-10-09T15:28:52.866Z"
   },
   {
    "duration": 6,
    "start_time": "2021-10-09T15:28:52.892Z"
   },
   {
    "duration": 27,
    "start_time": "2021-10-09T15:28:52.901Z"
   },
   {
    "duration": 51,
    "start_time": "2021-10-09T15:28:52.931Z"
   },
   {
    "duration": 21,
    "start_time": "2021-10-09T15:28:52.984Z"
   },
   {
    "duration": 4,
    "start_time": "2021-10-09T15:28:53.007Z"
   },
   {
    "duration": 54,
    "start_time": "2021-10-09T15:28:53.014Z"
   },
   {
    "duration": 10,
    "start_time": "2021-10-09T15:28:53.071Z"
   },
   {
    "duration": 27,
    "start_time": "2021-10-09T15:28:53.084Z"
   },
   {
    "duration": 12,
    "start_time": "2021-10-09T15:28:53.113Z"
   },
   {
    "duration": 58,
    "start_time": "2021-10-09T15:28:53.127Z"
   },
   {
    "duration": 24,
    "start_time": "2021-10-09T15:28:53.188Z"
   },
   {
    "duration": 714,
    "start_time": "2021-10-09T15:31:54.419Z"
   },
   {
    "duration": 63,
    "start_time": "2021-10-09T15:31:55.136Z"
   },
   {
    "duration": 16,
    "start_time": "2021-10-09T15:31:55.202Z"
   },
   {
    "duration": 46,
    "start_time": "2021-10-09T15:31:55.220Z"
   },
   {
    "duration": 23,
    "start_time": "2021-10-09T15:31:55.268Z"
   },
   {
    "duration": 13,
    "start_time": "2021-10-09T15:31:55.293Z"
   },
   {
    "duration": 6,
    "start_time": "2021-10-09T15:31:55.308Z"
   },
   {
    "duration": 48,
    "start_time": "2021-10-09T15:31:55.318Z"
   },
   {
    "duration": 8,
    "start_time": "2021-10-09T15:31:55.370Z"
   },
   {
    "duration": 22,
    "start_time": "2021-10-09T15:31:55.380Z"
   },
   {
    "duration": 6,
    "start_time": "2021-10-09T15:31:55.404Z"
   },
   {
    "duration": 8,
    "start_time": "2021-10-09T15:31:55.412Z"
   },
   {
    "duration": 50,
    "start_time": "2021-10-09T15:31:55.422Z"
   },
   {
    "duration": 6,
    "start_time": "2021-10-09T15:31:55.475Z"
   },
   {
    "duration": 17,
    "start_time": "2021-10-09T15:31:55.484Z"
   },
   {
    "duration": 5,
    "start_time": "2021-10-09T15:31:55.504Z"
   },
   {
    "duration": 62,
    "start_time": "2021-10-09T15:31:55.512Z"
   },
   {
    "duration": 18,
    "start_time": "2021-10-09T15:31:55.577Z"
   },
   {
    "duration": 28,
    "start_time": "2021-10-09T15:31:55.598Z"
   },
   {
    "duration": 47,
    "start_time": "2021-10-09T15:31:55.629Z"
   },
   {
    "duration": 12,
    "start_time": "2021-10-09T15:31:55.678Z"
   },
   {
    "duration": 26,
    "start_time": "2021-10-09T15:31:55.693Z"
   },
   {
    "duration": 25,
    "start_time": "2021-10-09T15:31:55.763Z"
   },
   {
    "duration": 25,
    "start_time": "2021-10-09T15:31:55.792Z"
   },
   {
    "duration": 45,
    "start_time": "2021-10-09T15:31:55.820Z"
   },
   {
    "duration": 8,
    "start_time": "2021-10-09T15:31:55.868Z"
   },
   {
    "duration": 6,
    "start_time": "2021-10-09T15:31:55.878Z"
   },
   {
    "duration": 5,
    "start_time": "2021-10-09T15:31:55.887Z"
   },
   {
    "duration": 7,
    "start_time": "2021-10-09T15:31:55.895Z"
   },
   {
    "duration": 70,
    "start_time": "2021-10-09T15:31:55.904Z"
   },
   {
    "duration": 926,
    "start_time": "2021-10-09T15:31:55.977Z"
   },
   {
    "duration": 4,
    "start_time": "2021-10-09T15:31:56.906Z"
   },
   {
    "duration": 4861,
    "start_time": "2021-10-09T15:31:56.912Z"
   },
   {
    "duration": 31,
    "start_time": "2021-10-09T15:32:01.776Z"
   },
   {
    "duration": 55,
    "start_time": "2021-10-09T15:32:01.810Z"
   },
   {
    "duration": 8,
    "start_time": "2021-10-09T15:32:01.868Z"
   },
   {
    "duration": 28,
    "start_time": "2021-10-09T15:32:01.878Z"
   },
   {
    "duration": 5,
    "start_time": "2021-10-09T15:32:01.909Z"
   },
   {
    "duration": 50,
    "start_time": "2021-10-09T15:32:01.916Z"
   },
   {
    "duration": 28,
    "start_time": "2021-10-09T15:32:01.969Z"
   },
   {
    "duration": 21,
    "start_time": "2021-10-09T15:32:01.999Z"
   },
   {
    "duration": 6,
    "start_time": "2021-10-09T15:32:02.023Z"
   },
   {
    "duration": 52,
    "start_time": "2021-10-09T15:32:02.031Z"
   },
   {
    "duration": 9,
    "start_time": "2021-10-09T15:32:02.086Z"
   },
   {
    "duration": 34,
    "start_time": "2021-10-09T15:32:02.098Z"
   },
   {
    "duration": 27,
    "start_time": "2021-10-09T15:32:02.135Z"
   },
   {
    "duration": 27,
    "start_time": "2021-10-09T15:32:02.164Z"
   },
   {
    "duration": 24,
    "start_time": "2021-10-09T15:32:02.193Z"
   },
   {
    "duration": 19,
    "start_time": "2021-10-09T15:38:03.041Z"
   },
   {
    "duration": 26,
    "start_time": "2021-10-09T15:39:24.381Z"
   },
   {
    "duration": 42,
    "start_time": "2021-10-09T15:52:40.386Z"
   },
   {
    "duration": 55,
    "start_time": "2021-10-09T15:54:36.693Z"
   },
   {
    "duration": 49,
    "start_time": "2021-10-09T15:54:53.124Z"
   },
   {
    "duration": 46,
    "start_time": "2021-10-09T15:55:36.040Z"
   },
   {
    "duration": 117,
    "start_time": "2021-10-09T16:02:10.517Z"
   },
   {
    "duration": 112,
    "start_time": "2021-10-09T16:02:15.367Z"
   },
   {
    "duration": 108,
    "start_time": "2021-10-09T16:02:47.218Z"
   },
   {
    "duration": 32,
    "start_time": "2021-10-09T16:03:29.836Z"
   },
   {
    "duration": 19,
    "start_time": "2021-10-09T16:08:29.135Z"
   },
   {
    "duration": 104,
    "start_time": "2021-10-09T16:08:44.592Z"
   },
   {
    "duration": 26,
    "start_time": "2021-10-09T16:08:53.508Z"
   },
   {
    "duration": 854,
    "start_time": "2021-10-09T16:09:42.668Z"
   },
   {
    "duration": 22,
    "start_time": "2021-10-09T16:09:58.432Z"
   },
   {
    "duration": 46,
    "start_time": "2021-10-09T16:20:33.181Z"
   },
   {
    "duration": 25,
    "start_time": "2021-10-09T16:24:46.311Z"
   },
   {
    "duration": 27,
    "start_time": "2021-10-09T16:24:49.883Z"
   },
   {
    "duration": 19,
    "start_time": "2021-10-09T16:25:46.726Z"
   },
   {
    "duration": 21,
    "start_time": "2021-10-09T16:26:17.183Z"
   },
   {
    "duration": 10,
    "start_time": "2021-10-09T16:27:18.966Z"
   },
   {
    "duration": 20,
    "start_time": "2021-10-09T16:29:10.952Z"
   },
   {
    "duration": 587,
    "start_time": "2021-10-09T17:03:14.805Z"
   },
   {
    "duration": 54,
    "start_time": "2021-10-09T17:03:15.394Z"
   },
   {
    "duration": 10,
    "start_time": "2021-10-09T17:03:15.449Z"
   },
   {
    "duration": 19,
    "start_time": "2021-10-09T17:03:15.461Z"
   },
   {
    "duration": 38,
    "start_time": "2021-10-09T17:03:15.481Z"
   },
   {
    "duration": 9,
    "start_time": "2021-10-09T17:03:15.521Z"
   },
   {
    "duration": 4,
    "start_time": "2021-10-09T17:03:15.532Z"
   },
   {
    "duration": 6,
    "start_time": "2021-10-09T17:03:15.538Z"
   },
   {
    "duration": 5,
    "start_time": "2021-10-09T17:03:15.546Z"
   },
   {
    "duration": 16,
    "start_time": "2021-10-09T17:03:15.552Z"
   },
   {
    "duration": 39,
    "start_time": "2021-10-09T17:03:15.569Z"
   },
   {
    "duration": 5,
    "start_time": "2021-10-09T17:03:15.612Z"
   },
   {
    "duration": 9,
    "start_time": "2021-10-09T17:03:15.619Z"
   },
   {
    "duration": 5,
    "start_time": "2021-10-09T17:03:15.629Z"
   },
   {
    "duration": 11,
    "start_time": "2021-10-09T17:03:15.635Z"
   },
   {
    "duration": 3,
    "start_time": "2021-10-09T17:03:15.647Z"
   },
   {
    "duration": 12,
    "start_time": "2021-10-09T17:03:15.651Z"
   },
   {
    "duration": 46,
    "start_time": "2021-10-09T17:03:15.664Z"
   },
   {
    "duration": 18,
    "start_time": "2021-10-09T17:03:15.712Z"
   },
   {
    "duration": 9,
    "start_time": "2021-10-09T17:03:15.732Z"
   },
   {
    "duration": 7,
    "start_time": "2021-10-09T17:03:15.742Z"
   },
   {
    "duration": 17,
    "start_time": "2021-10-09T17:03:15.750Z"
   },
   {
    "duration": 52,
    "start_time": "2021-10-09T17:03:15.770Z"
   },
   {
    "duration": 18,
    "start_time": "2021-10-09T17:03:15.824Z"
   },
   {
    "duration": 11,
    "start_time": "2021-10-09T17:03:15.844Z"
   },
   {
    "duration": 6,
    "start_time": "2021-10-09T17:03:15.857Z"
   },
   {
    "duration": 38,
    "start_time": "2021-10-09T17:03:15.864Z"
   },
   {
    "duration": 8,
    "start_time": "2021-10-09T17:03:15.906Z"
   },
   {
    "duration": 7,
    "start_time": "2021-10-09T17:03:15.916Z"
   },
   {
    "duration": 13,
    "start_time": "2021-10-09T17:03:15.925Z"
   },
   {
    "duration": 747,
    "start_time": "2021-10-09T17:03:15.939Z"
   },
   {
    "duration": 12,
    "start_time": "2021-10-09T17:03:16.689Z"
   },
   {
    "duration": 3630,
    "start_time": "2021-10-09T17:03:16.705Z"
   },
   {
    "duration": 20,
    "start_time": "2021-10-09T17:03:20.337Z"
   },
   {
    "duration": 23,
    "start_time": "2021-10-09T17:03:20.359Z"
   },
   {
    "duration": 10,
    "start_time": "2021-10-09T17:03:20.403Z"
   },
   {
    "duration": 15,
    "start_time": "2021-10-09T17:03:20.415Z"
   },
   {
    "duration": 3,
    "start_time": "2021-10-09T17:03:20.432Z"
   },
   {
    "duration": 14,
    "start_time": "2021-10-09T17:03:20.437Z"
   },
   {
    "duration": 14,
    "start_time": "2021-10-09T17:03:20.453Z"
   },
   {
    "duration": 18,
    "start_time": "2021-10-09T17:03:20.501Z"
   },
   {
    "duration": 18,
    "start_time": "2021-10-09T17:03:20.520Z"
   },
   {
    "duration": 11,
    "start_time": "2021-10-09T17:03:20.540Z"
   },
   {
    "duration": 201,
    "start_time": "2021-10-09T17:03:20.552Z"
   },
   {
    "duration": -5,
    "start_time": "2021-10-09T17:03:20.760Z"
   },
   {
    "duration": -7,
    "start_time": "2021-10-09T17:03:20.763Z"
   },
   {
    "duration": -10,
    "start_time": "2021-10-09T17:03:20.767Z"
   },
   {
    "duration": 852,
    "start_time": "2021-10-09T18:25:51.569Z"
   },
   {
    "duration": 69,
    "start_time": "2021-10-09T18:25:52.424Z"
   },
   {
    "duration": 17,
    "start_time": "2021-10-09T18:25:52.496Z"
   },
   {
    "duration": 29,
    "start_time": "2021-10-09T18:25:52.515Z"
   },
   {
    "duration": 52,
    "start_time": "2021-10-09T18:25:52.546Z"
   },
   {
    "duration": 12,
    "start_time": "2021-10-09T18:25:52.600Z"
   },
   {
    "duration": 13,
    "start_time": "2021-10-09T18:25:52.615Z"
   },
   {
    "duration": 10,
    "start_time": "2021-10-09T18:25:52.633Z"
   },
   {
    "duration": 39,
    "start_time": "2021-10-09T18:25:52.647Z"
   },
   {
    "duration": 27,
    "start_time": "2021-10-09T18:25:52.690Z"
   },
   {
    "duration": 6,
    "start_time": "2021-10-09T18:25:52.719Z"
   },
   {
    "duration": 8,
    "start_time": "2021-10-09T18:25:52.727Z"
   },
   {
    "duration": 55,
    "start_time": "2021-10-09T18:25:52.737Z"
   },
   {
    "duration": 9,
    "start_time": "2021-10-09T18:25:52.795Z"
   },
   {
    "duration": 21,
    "start_time": "2021-10-09T18:25:52.807Z"
   },
   {
    "duration": 6,
    "start_time": "2021-10-09T18:25:52.831Z"
   },
   {
    "duration": 49,
    "start_time": "2021-10-09T18:25:52.840Z"
   },
   {
    "duration": 18,
    "start_time": "2021-10-09T18:25:52.891Z"
   },
   {
    "duration": 26,
    "start_time": "2021-10-09T18:25:52.912Z"
   },
   {
    "duration": 49,
    "start_time": "2021-10-09T18:25:52.940Z"
   },
   {
    "duration": 10,
    "start_time": "2021-10-09T18:25:52.992Z"
   },
   {
    "duration": 39,
    "start_time": "2021-10-09T18:25:53.005Z"
   },
   {
    "duration": 61,
    "start_time": "2021-10-09T18:25:53.046Z"
   },
   {
    "duration": 24,
    "start_time": "2021-10-09T18:25:53.109Z"
   },
   {
    "duration": 16,
    "start_time": "2021-10-09T18:25:53.136Z"
   },
   {
    "duration": 11,
    "start_time": "2021-10-09T18:25:53.186Z"
   },
   {
    "duration": 9,
    "start_time": "2021-10-09T18:25:53.199Z"
   },
   {
    "duration": 15,
    "start_time": "2021-10-09T18:25:53.210Z"
   },
   {
    "duration": 13,
    "start_time": "2021-10-09T18:25:53.228Z"
   },
   {
    "duration": 56,
    "start_time": "2021-10-09T18:25:53.243Z"
   },
   {
    "duration": 955,
    "start_time": "2021-10-09T18:25:53.302Z"
   },
   {
    "duration": 5,
    "start_time": "2021-10-09T18:25:54.260Z"
   },
   {
    "duration": 5064,
    "start_time": "2021-10-09T18:25:54.283Z"
   },
   {
    "duration": 49,
    "start_time": "2021-10-09T18:25:59.349Z"
   },
   {
    "duration": 33,
    "start_time": "2021-10-09T18:25:59.401Z"
   },
   {
    "duration": 7,
    "start_time": "2021-10-09T18:25:59.437Z"
   },
   {
    "duration": 51,
    "start_time": "2021-10-09T18:25:59.446Z"
   },
   {
    "duration": 5,
    "start_time": "2021-10-09T18:25:59.500Z"
   },
   {
    "duration": 29,
    "start_time": "2021-10-09T18:25:59.507Z"
   },
   {
    "duration": 53,
    "start_time": "2021-10-09T18:25:59.539Z"
   },
   {
    "duration": 19,
    "start_time": "2021-10-09T18:25:59.594Z"
   },
   {
    "duration": 21,
    "start_time": "2021-10-09T18:25:59.615Z"
   },
   {
    "duration": 58,
    "start_time": "2021-10-09T18:25:59.639Z"
   },
   {
    "duration": 419,
    "start_time": "2021-10-09T18:25:59.700Z"
   },
   {
    "duration": -986,
    "start_time": "2021-10-09T18:26:01.109Z"
   },
   {
    "duration": -989,
    "start_time": "2021-10-09T18:26:01.114Z"
   },
   {
    "duration": -1037,
    "start_time": "2021-10-09T18:26:01.165Z"
   },
   {
    "duration": 22,
    "start_time": "2021-10-09T19:23:42.602Z"
   },
   {
    "duration": 93,
    "start_time": "2021-10-09T19:23:54.387Z"
   },
   {
    "duration": 12,
    "start_time": "2021-10-09T19:24:30.547Z"
   },
   {
    "duration": 28,
    "start_time": "2021-10-09T19:24:42.438Z"
   },
   {
    "duration": 29,
    "start_time": "2021-10-09T19:24:45.545Z"
   },
   {
    "duration": 728,
    "start_time": "2021-10-10T07:44:17.492Z"
   },
   {
    "duration": 65,
    "start_time": "2021-10-10T07:44:18.222Z"
   },
   {
    "duration": 14,
    "start_time": "2021-10-10T07:44:18.289Z"
   },
   {
    "duration": 28,
    "start_time": "2021-10-10T07:44:18.306Z"
   },
   {
    "duration": 42,
    "start_time": "2021-10-10T07:44:18.337Z"
   },
   {
    "duration": 14,
    "start_time": "2021-10-10T07:44:18.384Z"
   },
   {
    "duration": 5,
    "start_time": "2021-10-10T07:44:18.402Z"
   },
   {
    "duration": 50,
    "start_time": "2021-10-10T07:44:18.410Z"
   },
   {
    "duration": 13,
    "start_time": "2021-10-10T07:44:18.464Z"
   },
   {
    "duration": 30,
    "start_time": "2021-10-10T07:44:18.479Z"
   },
   {
    "duration": 7,
    "start_time": "2021-10-10T07:44:18.512Z"
   },
   {
    "duration": 41,
    "start_time": "2021-10-10T07:44:18.522Z"
   },
   {
    "duration": 23,
    "start_time": "2021-10-10T07:44:18.566Z"
   },
   {
    "duration": 13,
    "start_time": "2021-10-10T07:44:18.591Z"
   },
   {
    "duration": 29,
    "start_time": "2021-10-10T07:44:18.607Z"
   },
   {
    "duration": 19,
    "start_time": "2021-10-10T07:44:18.639Z"
   },
   {
    "duration": 25,
    "start_time": "2021-10-10T07:44:18.661Z"
   },
   {
    "duration": 17,
    "start_time": "2021-10-10T07:44:18.691Z"
   },
   {
    "duration": 48,
    "start_time": "2021-10-10T07:44:18.711Z"
   },
   {
    "duration": 14,
    "start_time": "2021-10-10T07:44:18.761Z"
   },
   {
    "duration": 9,
    "start_time": "2021-10-10T07:44:18.778Z"
   },
   {
    "duration": 28,
    "start_time": "2021-10-10T07:44:18.789Z"
   },
   {
    "duration": 57,
    "start_time": "2021-10-10T07:44:18.819Z"
   },
   {
    "duration": 25,
    "start_time": "2021-10-10T07:44:18.878Z"
   },
   {
    "duration": 14,
    "start_time": "2021-10-10T07:44:18.906Z"
   },
   {
    "duration": 35,
    "start_time": "2021-10-10T07:44:18.922Z"
   },
   {
    "duration": 7,
    "start_time": "2021-10-10T07:44:18.960Z"
   },
   {
    "duration": 15,
    "start_time": "2021-10-10T07:44:18.970Z"
   },
   {
    "duration": 16,
    "start_time": "2021-10-10T07:44:18.987Z"
   },
   {
    "duration": 27,
    "start_time": "2021-10-10T07:44:19.005Z"
   },
   {
    "duration": 934,
    "start_time": "2021-10-10T07:44:19.034Z"
   },
   {
    "duration": 3,
    "start_time": "2021-10-10T07:44:19.971Z"
   },
   {
    "duration": 4497,
    "start_time": "2021-10-10T07:44:19.977Z"
   },
   {
    "duration": 31,
    "start_time": "2021-10-10T07:44:24.477Z"
   },
   {
    "duration": 60,
    "start_time": "2021-10-10T07:44:24.511Z"
   },
   {
    "duration": 8,
    "start_time": "2021-10-10T07:44:24.574Z"
   },
   {
    "duration": 22,
    "start_time": "2021-10-10T07:44:24.585Z"
   },
   {
    "duration": 5,
    "start_time": "2021-10-10T07:44:24.610Z"
   },
   {
    "duration": 59,
    "start_time": "2021-10-10T07:44:24.618Z"
   },
   {
    "duration": 23,
    "start_time": "2021-10-10T07:44:24.680Z"
   },
   {
    "duration": 18,
    "start_time": "2021-10-10T07:44:24.706Z"
   },
   {
    "duration": 44,
    "start_time": "2021-10-10T07:44:24.726Z"
   },
   {
    "duration": 44,
    "start_time": "2021-10-10T07:44:24.773Z"
   },
   {
    "duration": 24,
    "start_time": "2021-10-10T07:44:24.819Z"
   },
   {
    "duration": 17,
    "start_time": "2021-10-10T07:44:24.845Z"
   },
   {
    "duration": 22,
    "start_time": "2021-10-10T07:44:24.864Z"
   },
   {
    "duration": 20,
    "start_time": "2021-10-10T07:44:24.888Z"
   },
   {
    "duration": 251,
    "start_time": "2021-10-11T17:40:59.203Z"
   },
   {
    "duration": 557,
    "start_time": "2021-10-11T17:41:17.274Z"
   },
   {
    "duration": 49,
    "start_time": "2021-10-11T17:41:17.833Z"
   },
   {
    "duration": 9,
    "start_time": "2021-10-11T17:41:17.884Z"
   },
   {
    "duration": 17,
    "start_time": "2021-10-11T17:41:17.899Z"
   },
   {
    "duration": 13,
    "start_time": "2021-10-11T17:41:17.918Z"
   },
   {
    "duration": 9,
    "start_time": "2021-10-11T17:41:17.932Z"
   },
   {
    "duration": 4,
    "start_time": "2021-10-11T17:41:17.942Z"
   },
   {
    "duration": 5,
    "start_time": "2021-10-11T17:41:17.948Z"
   },
   {
    "duration": 5,
    "start_time": "2021-10-11T17:41:17.955Z"
   },
   {
    "duration": 44,
    "start_time": "2021-10-11T17:41:17.962Z"
   },
   {
    "duration": 14,
    "start_time": "2021-10-11T17:41:18.008Z"
   },
   {
    "duration": 4,
    "start_time": "2021-10-11T17:41:18.023Z"
   },
   {
    "duration": 5,
    "start_time": "2021-10-11T17:41:18.028Z"
   },
   {
    "duration": 9,
    "start_time": "2021-10-11T17:41:18.034Z"
   },
   {
    "duration": 5,
    "start_time": "2021-10-11T17:41:18.044Z"
   },
   {
    "duration": 11,
    "start_time": "2021-10-11T17:41:18.050Z"
   },
   {
    "duration": 39,
    "start_time": "2021-10-11T17:41:18.063Z"
   },
   {
    "duration": 11,
    "start_time": "2021-10-11T17:41:18.103Z"
   },
   {
    "duration": 11,
    "start_time": "2021-10-11T17:41:18.116Z"
   },
   {
    "duration": 17,
    "start_time": "2021-10-11T17:41:18.128Z"
   },
   {
    "duration": 10,
    "start_time": "2021-10-11T17:41:18.146Z"
   },
   {
    "duration": 7,
    "start_time": "2021-10-11T17:41:18.158Z"
   },
   {
    "duration": 16,
    "start_time": "2021-10-11T17:41:18.203Z"
   },
   {
    "duration": 21,
    "start_time": "2021-10-11T17:41:18.221Z"
   },
   {
    "duration": 16,
    "start_time": "2021-10-11T17:41:18.244Z"
   },
   {
    "duration": 11,
    "start_time": "2021-10-11T17:41:18.261Z"
   },
   {
    "duration": 5,
    "start_time": "2021-10-11T17:41:18.299Z"
   },
   {
    "duration": 5,
    "start_time": "2021-10-11T17:41:18.306Z"
   },
   {
    "duration": 5,
    "start_time": "2021-10-11T17:41:18.313Z"
   },
   {
    "duration": 6,
    "start_time": "2021-10-11T17:41:18.320Z"
   },
   {
    "duration": 12,
    "start_time": "2021-10-11T17:41:18.328Z"
   },
   {
    "duration": 669,
    "start_time": "2021-10-11T17:41:18.342Z"
   },
   {
    "duration": 3,
    "start_time": "2021-10-11T17:41:19.014Z"
   },
   {
    "duration": 3252,
    "start_time": "2021-10-11T17:41:19.019Z"
   },
   {
    "duration": 33,
    "start_time": "2021-10-11T17:41:22.273Z"
   },
   {
    "duration": 24,
    "start_time": "2021-10-11T17:41:22.307Z"
   },
   {
    "duration": 6,
    "start_time": "2021-10-11T17:41:22.332Z"
   },
   {
    "duration": 16,
    "start_time": "2021-10-11T17:41:22.339Z"
   },
   {
    "duration": 3,
    "start_time": "2021-10-11T17:41:22.357Z"
   },
   {
    "duration": 47,
    "start_time": "2021-10-11T17:41:22.361Z"
   },
   {
    "duration": 15,
    "start_time": "2021-10-11T17:41:22.409Z"
   },
   {
    "duration": 10,
    "start_time": "2021-10-11T17:41:22.425Z"
   },
   {
    "duration": 13,
    "start_time": "2021-10-11T17:41:22.437Z"
   },
   {
    "duration": 11,
    "start_time": "2021-10-11T17:41:22.452Z"
   },
   {
    "duration": 41,
    "start_time": "2021-10-11T17:41:22.464Z"
   },
   {
    "duration": 6,
    "start_time": "2021-10-11T17:41:22.507Z"
   },
   {
    "duration": 14,
    "start_time": "2021-10-11T17:41:22.515Z"
   },
   {
    "duration": 12,
    "start_time": "2021-10-11T17:41:22.530Z"
   },
   {
    "duration": 46,
    "start_time": "2021-10-11T17:43:18.162Z"
   },
   {
    "duration": 7,
    "start_time": "2021-10-11T17:58:15.250Z"
   },
   {
    "duration": 557,
    "start_time": "2021-10-11T18:00:08.200Z"
   },
   {
    "duration": 50,
    "start_time": "2021-10-11T18:00:08.759Z"
   },
   {
    "duration": 11,
    "start_time": "2021-10-11T18:00:08.811Z"
   },
   {
    "duration": 18,
    "start_time": "2021-10-11T18:00:08.825Z"
   },
   {
    "duration": 16,
    "start_time": "2021-10-11T18:00:08.845Z"
   },
   {
    "duration": 41,
    "start_time": "2021-10-11T18:00:08.862Z"
   },
   {
    "duration": 3,
    "start_time": "2021-10-11T18:00:08.905Z"
   },
   {
    "duration": 6,
    "start_time": "2021-10-11T18:00:08.910Z"
   },
   {
    "duration": 6,
    "start_time": "2021-10-11T18:00:08.919Z"
   },
   {
    "duration": 15,
    "start_time": "2021-10-11T18:00:08.927Z"
   },
   {
    "duration": 14,
    "start_time": "2021-10-11T18:00:08.944Z"
   },
   {
    "duration": 43,
    "start_time": "2021-10-11T18:00:08.960Z"
   },
   {
    "duration": 10,
    "start_time": "2021-10-11T18:00:09.005Z"
   },
   {
    "duration": 20,
    "start_time": "2021-10-11T18:00:09.016Z"
   },
   {
    "duration": 11,
    "start_time": "2021-10-11T18:00:09.038Z"
   },
   {
    "duration": 13,
    "start_time": "2021-10-11T18:00:09.051Z"
   },
   {
    "duration": 19,
    "start_time": "2021-10-11T18:00:09.065Z"
   },
   {
    "duration": 13,
    "start_time": "2021-10-11T18:00:09.086Z"
   },
   {
    "duration": 19,
    "start_time": "2021-10-11T18:00:09.101Z"
   },
   {
    "duration": 25,
    "start_time": "2021-10-11T18:00:09.121Z"
   },
   {
    "duration": 18,
    "start_time": "2021-10-11T18:00:09.148Z"
   },
   {
    "duration": 11,
    "start_time": "2021-10-11T18:00:09.167Z"
   },
   {
    "duration": 17,
    "start_time": "2021-10-11T18:00:09.183Z"
   },
   {
    "duration": 22,
    "start_time": "2021-10-11T18:00:09.202Z"
   },
   {
    "duration": 24,
    "start_time": "2021-10-11T18:00:09.225Z"
   },
   {
    "duration": 17,
    "start_time": "2021-10-11T18:00:09.251Z"
   },
   {
    "duration": 10,
    "start_time": "2021-10-11T18:00:09.270Z"
   },
   {
    "duration": 22,
    "start_time": "2021-10-11T18:00:09.282Z"
   },
   {
    "duration": 9,
    "start_time": "2021-10-11T18:00:09.305Z"
   },
   {
    "duration": 5,
    "start_time": "2021-10-11T18:00:09.316Z"
   },
   {
    "duration": 5,
    "start_time": "2021-10-11T18:00:09.323Z"
   },
   {
    "duration": 15,
    "start_time": "2021-10-11T18:00:09.330Z"
   },
   {
    "duration": 675,
    "start_time": "2021-10-11T18:00:09.347Z"
   },
   {
    "duration": 3,
    "start_time": "2021-10-11T18:00:10.024Z"
   },
   {
    "duration": 3297,
    "start_time": "2021-10-11T18:00:10.029Z"
   },
   {
    "duration": 22,
    "start_time": "2021-10-11T18:00:13.328Z"
   },
   {
    "duration": 24,
    "start_time": "2021-10-11T18:00:13.351Z"
   },
   {
    "duration": 26,
    "start_time": "2021-10-11T18:00:13.377Z"
   },
   {
    "duration": 16,
    "start_time": "2021-10-11T18:00:13.405Z"
   },
   {
    "duration": 3,
    "start_time": "2021-10-11T18:00:13.422Z"
   },
   {
    "duration": 14,
    "start_time": "2021-10-11T18:00:13.427Z"
   },
   {
    "duration": 15,
    "start_time": "2021-10-11T18:00:13.443Z"
   },
   {
    "duration": 41,
    "start_time": "2021-10-11T18:00:13.459Z"
   },
   {
    "duration": 14,
    "start_time": "2021-10-11T18:00:13.501Z"
   },
   {
    "duration": 11,
    "start_time": "2021-10-11T18:00:13.517Z"
   },
   {
    "duration": 14,
    "start_time": "2021-10-11T18:00:13.529Z"
   },
   {
    "duration": 7,
    "start_time": "2021-10-11T18:00:13.544Z"
   },
   {
    "duration": 12,
    "start_time": "2021-10-11T18:00:13.552Z"
   },
   {
    "duration": 13,
    "start_time": "2021-10-11T18:00:13.600Z"
   },
   {
    "duration": 7,
    "start_time": "2021-10-11T18:02:47.362Z"
   },
   {
    "duration": 10,
    "start_time": "2021-10-11T18:02:59.506Z"
   },
   {
    "duration": 520,
    "start_time": "2021-10-11T18:03:19.326Z"
   },
   {
    "duration": 49,
    "start_time": "2021-10-11T18:03:19.848Z"
   },
   {
    "duration": 12,
    "start_time": "2021-10-11T18:03:19.899Z"
   },
   {
    "duration": 17,
    "start_time": "2021-10-11T18:03:19.913Z"
   },
   {
    "duration": 14,
    "start_time": "2021-10-11T18:03:19.932Z"
   },
   {
    "duration": 10,
    "start_time": "2021-10-11T18:03:19.948Z"
   },
   {
    "duration": 4,
    "start_time": "2021-10-11T18:03:19.960Z"
   },
   {
    "duration": 38,
    "start_time": "2021-10-11T18:03:19.966Z"
   },
   {
    "duration": 10,
    "start_time": "2021-10-11T18:03:20.007Z"
   },
   {
    "duration": 16,
    "start_time": "2021-10-11T18:03:20.018Z"
   },
   {
    "duration": 17,
    "start_time": "2021-10-11T18:03:20.037Z"
   },
   {
    "duration": 48,
    "start_time": "2021-10-11T18:03:20.056Z"
   },
   {
    "duration": 6,
    "start_time": "2021-10-11T18:03:20.106Z"
   },
   {
    "duration": 5,
    "start_time": "2021-10-11T18:03:20.114Z"
   },
   {
    "duration": 12,
    "start_time": "2021-10-11T18:03:20.121Z"
   },
   {
    "duration": 6,
    "start_time": "2021-10-11T18:03:20.135Z"
   },
   {
    "duration": 12,
    "start_time": "2021-10-11T18:03:20.143Z"
   },
   {
    "duration": 5,
    "start_time": "2021-10-11T18:03:20.156Z"
   },
   {
    "duration": 40,
    "start_time": "2021-10-11T18:03:20.163Z"
   },
   {
    "duration": 10,
    "start_time": "2021-10-11T18:03:20.205Z"
   },
   {
    "duration": 15,
    "start_time": "2021-10-11T18:03:20.217Z"
   },
   {
    "duration": 9,
    "start_time": "2021-10-11T18:03:20.234Z"
   },
   {
    "duration": 7,
    "start_time": "2021-10-11T18:03:20.246Z"
   },
   {
    "duration": 46,
    "start_time": "2021-10-11T18:03:20.255Z"
   },
   {
    "duration": 22,
    "start_time": "2021-10-11T18:03:20.303Z"
   },
   {
    "duration": 17,
    "start_time": "2021-10-11T18:03:20.326Z"
   },
   {
    "duration": 9,
    "start_time": "2021-10-11T18:03:20.345Z"
   },
   {
    "duration": 4,
    "start_time": "2021-10-11T18:03:20.356Z"
   },
   {
    "duration": 7,
    "start_time": "2021-10-11T18:03:20.362Z"
   },
   {
    "duration": 5,
    "start_time": "2021-10-11T18:03:20.400Z"
   },
   {
    "duration": 7,
    "start_time": "2021-10-11T18:03:20.406Z"
   },
   {
    "duration": 12,
    "start_time": "2021-10-11T18:03:20.414Z"
   },
   {
    "duration": 676,
    "start_time": "2021-10-11T18:03:20.428Z"
   },
   {
    "duration": 3,
    "start_time": "2021-10-11T18:03:21.106Z"
   },
   {
    "duration": 3229,
    "start_time": "2021-10-11T18:03:21.111Z"
   },
   {
    "duration": 21,
    "start_time": "2021-10-11T18:03:24.342Z"
   },
   {
    "duration": 40,
    "start_time": "2021-10-11T18:03:24.364Z"
   },
   {
    "duration": 6,
    "start_time": "2021-10-11T18:03:24.405Z"
   },
   {
    "duration": 15,
    "start_time": "2021-10-11T18:03:24.412Z"
   },
   {
    "duration": 4,
    "start_time": "2021-10-11T18:03:24.428Z"
   },
   {
    "duration": 15,
    "start_time": "2021-10-11T18:03:24.433Z"
   },
   {
    "duration": 15,
    "start_time": "2021-10-11T18:03:24.450Z"
   },
   {
    "duration": 11,
    "start_time": "2021-10-11T18:03:24.499Z"
   },
   {
    "duration": 16,
    "start_time": "2021-10-11T18:03:24.512Z"
   },
   {
    "duration": 12,
    "start_time": "2021-10-11T18:03:24.529Z"
   },
   {
    "duration": 13,
    "start_time": "2021-10-11T18:03:24.543Z"
   },
   {
    "duration": 7,
    "start_time": "2021-10-11T18:03:24.557Z"
   },
   {
    "duration": 45,
    "start_time": "2021-10-11T18:03:24.565Z"
   },
   {
    "duration": 12,
    "start_time": "2021-10-11T18:03:24.611Z"
   },
   {
    "duration": 598,
    "start_time": "2021-10-11T18:27:16.177Z"
   },
   {
    "duration": 50,
    "start_time": "2021-10-11T18:27:16.777Z"
   },
   {
    "duration": 11,
    "start_time": "2021-10-11T18:27:16.829Z"
   },
   {
    "duration": 18,
    "start_time": "2021-10-11T18:27:16.842Z"
   },
   {
    "duration": 40,
    "start_time": "2021-10-11T18:27:16.861Z"
   },
   {
    "duration": 9,
    "start_time": "2021-10-11T18:27:16.902Z"
   },
   {
    "duration": 5,
    "start_time": "2021-10-11T18:27:16.912Z"
   },
   {
    "duration": 7,
    "start_time": "2021-10-11T18:27:16.919Z"
   },
   {
    "duration": 5,
    "start_time": "2021-10-11T18:27:16.928Z"
   },
   {
    "duration": 13,
    "start_time": "2021-10-11T18:27:16.935Z"
   },
   {
    "duration": 50,
    "start_time": "2021-10-11T18:27:16.949Z"
   },
   {
    "duration": 8,
    "start_time": "2021-10-11T18:27:17.001Z"
   },
   {
    "duration": 17,
    "start_time": "2021-10-11T18:27:17.010Z"
   },
   {
    "duration": 227,
    "start_time": "2021-10-11T18:27:17.029Z"
   },
   {
    "duration": -1115,
    "start_time": "2021-10-11T18:27:18.376Z"
   },
   {
    "duration": -1121,
    "start_time": "2021-10-11T18:27:18.383Z"
   },
   {
    "duration": -1123,
    "start_time": "2021-10-11T18:27:18.386Z"
   },
   {
    "duration": -1125,
    "start_time": "2021-10-11T18:27:18.389Z"
   },
   {
    "duration": -1129,
    "start_time": "2021-10-11T18:27:18.394Z"
   },
   {
    "duration": -1131,
    "start_time": "2021-10-11T18:27:18.397Z"
   },
   {
    "duration": -1133,
    "start_time": "2021-10-11T18:27:18.401Z"
   },
   {
    "duration": -1136,
    "start_time": "2021-10-11T18:27:18.405Z"
   },
   {
    "duration": -1141,
    "start_time": "2021-10-11T18:27:18.411Z"
   },
   {
    "duration": -1144,
    "start_time": "2021-10-11T18:27:18.416Z"
   },
   {
    "duration": -1146,
    "start_time": "2021-10-11T18:27:18.419Z"
   },
   {
    "duration": -1147,
    "start_time": "2021-10-11T18:27:18.422Z"
   },
   {
    "duration": -1151,
    "start_time": "2021-10-11T18:27:18.427Z"
   },
   {
    "duration": -1152,
    "start_time": "2021-10-11T18:27:18.430Z"
   },
   {
    "duration": -1154,
    "start_time": "2021-10-11T18:27:18.433Z"
   },
   {
    "duration": -1157,
    "start_time": "2021-10-11T18:27:18.437Z"
   },
   {
    "duration": -1158,
    "start_time": "2021-10-11T18:27:18.440Z"
   },
   {
    "duration": -1162,
    "start_time": "2021-10-11T18:27:18.445Z"
   },
   {
    "duration": -1163,
    "start_time": "2021-10-11T18:27:18.448Z"
   },
   {
    "duration": -1165,
    "start_time": "2021-10-11T18:27:18.451Z"
   },
   {
    "duration": -1156,
    "start_time": "2021-10-11T18:27:18.455Z"
   },
   {
    "duration": -1159,
    "start_time": "2021-10-11T18:27:18.460Z"
   },
   {
    "duration": -1161,
    "start_time": "2021-10-11T18:27:18.463Z"
   },
   {
    "duration": -1164,
    "start_time": "2021-10-11T18:27:18.467Z"
   },
   {
    "duration": -1167,
    "start_time": "2021-10-11T18:27:18.471Z"
   },
   {
    "duration": -1176,
    "start_time": "2021-10-11T18:27:18.481Z"
   },
   {
    "duration": -1178,
    "start_time": "2021-10-11T18:27:18.484Z"
   },
   {
    "duration": -1180,
    "start_time": "2021-10-11T18:27:18.487Z"
   },
   {
    "duration": -1182,
    "start_time": "2021-10-11T18:27:18.490Z"
   },
   {
    "duration": -1186,
    "start_time": "2021-10-11T18:27:18.495Z"
   },
   {
    "duration": -1188,
    "start_time": "2021-10-11T18:27:18.498Z"
   },
   {
    "duration": -1189,
    "start_time": "2021-10-11T18:27:18.500Z"
   },
   {
    "duration": -1191,
    "start_time": "2021-10-11T18:27:18.503Z"
   },
   {
    "duration": -1193,
    "start_time": "2021-10-11T18:27:18.506Z"
   },
   {
    "duration": -1195,
    "start_time": "2021-10-11T18:27:18.510Z"
   },
   {
    "duration": 524,
    "start_time": "2021-10-11T18:29:59.748Z"
   },
   {
    "duration": 52,
    "start_time": "2021-10-11T18:30:00.274Z"
   },
   {
    "duration": 15,
    "start_time": "2021-10-11T18:30:00.329Z"
   },
   {
    "duration": 18,
    "start_time": "2021-10-11T18:30:00.346Z"
   },
   {
    "duration": 38,
    "start_time": "2021-10-11T18:30:00.366Z"
   },
   {
    "duration": 9,
    "start_time": "2021-10-11T18:30:00.405Z"
   },
   {
    "duration": 19,
    "start_time": "2021-10-11T18:30:00.415Z"
   },
   {
    "duration": 38,
    "start_time": "2021-10-11T18:30:00.436Z"
   },
   {
    "duration": 9,
    "start_time": "2021-10-11T18:30:00.477Z"
   },
   {
    "duration": 21,
    "start_time": "2021-10-11T18:30:00.488Z"
   },
   {
    "duration": 15,
    "start_time": "2021-10-11T18:30:00.511Z"
   },
   {
    "duration": 17,
    "start_time": "2021-10-11T18:30:00.528Z"
   },
   {
    "duration": 15,
    "start_time": "2021-10-11T18:30:00.547Z"
   },
   {
    "duration": 19,
    "start_time": "2021-10-11T18:30:00.563Z"
   },
   {
    "duration": 16,
    "start_time": "2021-10-11T18:30:00.584Z"
   },
   {
    "duration": 3,
    "start_time": "2021-10-11T18:30:00.602Z"
   },
   {
    "duration": 24,
    "start_time": "2021-10-11T18:30:00.607Z"
   },
   {
    "duration": 15,
    "start_time": "2021-10-11T18:30:00.633Z"
   },
   {
    "duration": 16,
    "start_time": "2021-10-11T18:30:00.650Z"
   },
   {
    "duration": 14,
    "start_time": "2021-10-11T18:30:00.668Z"
   },
   {
    "duration": 18,
    "start_time": "2021-10-11T18:30:00.683Z"
   },
   {
    "duration": 10,
    "start_time": "2021-10-11T18:30:00.703Z"
   },
   {
    "duration": 10,
    "start_time": "2021-10-11T18:30:00.715Z"
   },
   {
    "duration": 20,
    "start_time": "2021-10-11T18:30:00.727Z"
   },
   {
    "duration": 17,
    "start_time": "2021-10-11T18:30:00.749Z"
   },
   {
    "duration": 37,
    "start_time": "2021-10-11T18:30:00.768Z"
   },
   {
    "duration": 10,
    "start_time": "2021-10-11T18:30:00.809Z"
   },
   {
    "duration": 6,
    "start_time": "2021-10-11T18:30:00.821Z"
   },
   {
    "duration": 6,
    "start_time": "2021-10-11T18:30:00.828Z"
   },
   {
    "duration": 9,
    "start_time": "2021-10-11T18:30:00.835Z"
   },
   {
    "duration": 7,
    "start_time": "2021-10-11T18:30:00.845Z"
   },
   {
    "duration": 23,
    "start_time": "2021-10-11T18:30:00.853Z"
   },
   {
    "duration": 692,
    "start_time": "2021-10-11T18:30:00.878Z"
   },
   {
    "duration": 3,
    "start_time": "2021-10-11T18:30:01.572Z"
   },
   {
    "duration": 3367,
    "start_time": "2021-10-11T18:30:01.577Z"
   },
   {
    "duration": 22,
    "start_time": "2021-10-11T18:30:04.946Z"
   },
   {
    "duration": 41,
    "start_time": "2021-10-11T18:30:04.970Z"
   },
   {
    "duration": 6,
    "start_time": "2021-10-11T18:30:05.013Z"
   },
   {
    "duration": 26,
    "start_time": "2021-10-11T18:30:05.020Z"
   },
   {
    "duration": 14,
    "start_time": "2021-10-11T18:30:05.048Z"
   },
   {
    "duration": 31,
    "start_time": "2021-10-11T18:30:05.064Z"
   },
   {
    "duration": 19,
    "start_time": "2021-10-11T18:30:05.096Z"
   },
   {
    "duration": 18,
    "start_time": "2021-10-11T18:30:05.117Z"
   },
   {
    "duration": 17,
    "start_time": "2021-10-11T18:30:05.137Z"
   },
   {
    "duration": 43,
    "start_time": "2021-10-11T18:30:05.156Z"
   },
   {
    "duration": 17,
    "start_time": "2021-10-11T18:30:05.201Z"
   },
   {
    "duration": 8,
    "start_time": "2021-10-11T18:30:05.220Z"
   },
   {
    "duration": 15,
    "start_time": "2021-10-11T18:30:05.230Z"
   },
   {
    "duration": 13,
    "start_time": "2021-10-11T18:30:05.247Z"
   },
   {
    "duration": 538,
    "start_time": "2021-10-11T18:32:33.307Z"
   },
   {
    "duration": 48,
    "start_time": "2021-10-11T18:32:33.847Z"
   },
   {
    "duration": 10,
    "start_time": "2021-10-11T18:32:33.897Z"
   },
   {
    "duration": 18,
    "start_time": "2021-10-11T18:32:33.909Z"
   },
   {
    "duration": 14,
    "start_time": "2021-10-11T18:32:33.928Z"
   },
   {
    "duration": 8,
    "start_time": "2021-10-11T18:32:33.944Z"
   },
   {
    "duration": 4,
    "start_time": "2021-10-11T18:32:33.954Z"
   },
   {
    "duration": 6,
    "start_time": "2021-10-11T18:32:33.960Z"
   },
   {
    "duration": 6,
    "start_time": "2021-10-11T18:32:34.000Z"
   },
   {
    "duration": 17,
    "start_time": "2021-10-11T18:32:34.007Z"
   },
   {
    "duration": 13,
    "start_time": "2021-10-11T18:32:34.025Z"
   },
   {
    "duration": 8,
    "start_time": "2021-10-11T18:32:34.040Z"
   },
   {
    "duration": 9,
    "start_time": "2021-10-11T18:32:34.049Z"
   },
   {
    "duration": 40,
    "start_time": "2021-10-11T18:32:34.060Z"
   },
   {
    "duration": 10,
    "start_time": "2021-10-11T18:32:34.101Z"
   },
   {
    "duration": 3,
    "start_time": "2021-10-11T18:32:34.113Z"
   },
   {
    "duration": 16,
    "start_time": "2021-10-11T18:32:34.117Z"
   },
   {
    "duration": 4,
    "start_time": "2021-10-11T18:32:34.134Z"
   },
   {
    "duration": 13,
    "start_time": "2021-10-11T18:32:34.139Z"
   },
   {
    "duration": 10,
    "start_time": "2021-10-11T18:32:34.154Z"
   },
   {
    "duration": 45,
    "start_time": "2021-10-11T18:32:34.165Z"
   },
   {
    "duration": 9,
    "start_time": "2021-10-11T18:32:34.212Z"
   },
   {
    "duration": 6,
    "start_time": "2021-10-11T18:32:34.224Z"
   },
   {
    "duration": 19,
    "start_time": "2021-10-11T18:32:34.232Z"
   },
   {
    "duration": 16,
    "start_time": "2021-10-11T18:32:34.252Z"
   },
   {
    "duration": 41,
    "start_time": "2021-10-11T18:32:34.269Z"
   },
   {
    "duration": 10,
    "start_time": "2021-10-11T18:32:34.311Z"
   },
   {
    "duration": 5,
    "start_time": "2021-10-11T18:32:34.322Z"
   },
   {
    "duration": 3,
    "start_time": "2021-10-11T18:32:34.329Z"
   },
   {
    "duration": 5,
    "start_time": "2021-10-11T18:32:34.334Z"
   },
   {
    "duration": 6,
    "start_time": "2021-10-11T18:32:34.340Z"
   },
   {
    "duration": 12,
    "start_time": "2021-10-11T18:32:34.347Z"
   },
   {
    "duration": 685,
    "start_time": "2021-10-11T18:32:34.361Z"
   },
   {
    "duration": 3,
    "start_time": "2021-10-11T18:32:35.049Z"
   },
   {
    "duration": 3226,
    "start_time": "2021-10-11T18:32:35.053Z"
   },
   {
    "duration": 36,
    "start_time": "2021-10-11T18:32:38.280Z"
   },
   {
    "duration": 27,
    "start_time": "2021-10-11T18:32:38.318Z"
   },
   {
    "duration": 6,
    "start_time": "2021-10-11T18:32:38.346Z"
   },
   {
    "duration": 20,
    "start_time": "2021-10-11T18:32:38.354Z"
   },
   {
    "duration": 4,
    "start_time": "2021-10-11T18:32:38.399Z"
   },
   {
    "duration": 15,
    "start_time": "2021-10-11T18:32:38.405Z"
   },
   {
    "duration": 16,
    "start_time": "2021-10-11T18:32:38.422Z"
   },
   {
    "duration": 12,
    "start_time": "2021-10-11T18:32:38.440Z"
   },
   {
    "duration": 15,
    "start_time": "2021-10-11T18:32:38.453Z"
   },
   {
    "duration": 39,
    "start_time": "2021-10-11T18:32:38.470Z"
   },
   {
    "duration": 13,
    "start_time": "2021-10-11T18:32:38.510Z"
   },
   {
    "duration": 7,
    "start_time": "2021-10-11T18:32:38.524Z"
   },
   {
    "duration": 13,
    "start_time": "2021-10-11T18:32:38.532Z"
   },
   {
    "duration": 12,
    "start_time": "2021-10-11T18:32:38.546Z"
   },
   {
    "duration": 537,
    "start_time": "2021-10-11T18:33:43.219Z"
   },
   {
    "duration": 52,
    "start_time": "2021-10-11T18:33:43.758Z"
   },
   {
    "duration": 11,
    "start_time": "2021-10-11T18:33:43.812Z"
   },
   {
    "duration": 18,
    "start_time": "2021-10-11T18:33:43.826Z"
   },
   {
    "duration": 16,
    "start_time": "2021-10-11T18:33:43.846Z"
   },
   {
    "duration": 38,
    "start_time": "2021-10-11T18:33:43.864Z"
   },
   {
    "duration": 4,
    "start_time": "2021-10-11T18:33:43.904Z"
   },
   {
    "duration": 6,
    "start_time": "2021-10-11T18:33:43.912Z"
   },
   {
    "duration": 8,
    "start_time": "2021-10-11T18:33:43.920Z"
   },
   {
    "duration": 16,
    "start_time": "2021-10-11T18:33:43.930Z"
   },
   {
    "duration": 14,
    "start_time": "2021-10-11T18:33:43.947Z"
   },
   {
    "duration": 43,
    "start_time": "2021-10-11T18:33:43.962Z"
   },
   {
    "duration": 10,
    "start_time": "2021-10-11T18:33:44.007Z"
   },
   {
    "duration": 6,
    "start_time": "2021-10-11T18:33:44.019Z"
   },
   {
    "duration": 10,
    "start_time": "2021-10-11T18:33:44.026Z"
   },
   {
    "duration": 5,
    "start_time": "2021-10-11T18:33:44.037Z"
   },
   {
    "duration": 11,
    "start_time": "2021-10-11T18:33:44.044Z"
   },
   {
    "duration": 8,
    "start_time": "2021-10-11T18:33:44.057Z"
   },
   {
    "duration": 10,
    "start_time": "2021-10-11T18:33:44.100Z"
   },
   {
    "duration": 14,
    "start_time": "2021-10-11T18:33:44.112Z"
   },
   {
    "duration": 17,
    "start_time": "2021-10-11T18:33:44.127Z"
   },
   {
    "duration": 9,
    "start_time": "2021-10-11T18:33:44.146Z"
   },
   {
    "duration": 7,
    "start_time": "2021-10-11T18:33:44.158Z"
   },
   {
    "duration": 47,
    "start_time": "2021-10-11T18:33:44.166Z"
   },
   {
    "duration": 16,
    "start_time": "2021-10-11T18:33:44.214Z"
   },
   {
    "duration": 15,
    "start_time": "2021-10-11T18:33:44.232Z"
   },
   {
    "duration": 9,
    "start_time": "2021-10-11T18:33:44.249Z"
   },
   {
    "duration": 5,
    "start_time": "2021-10-11T18:33:44.260Z"
   },
   {
    "duration": 34,
    "start_time": "2021-10-11T18:33:44.266Z"
   },
   {
    "duration": 4,
    "start_time": "2021-10-11T18:33:44.302Z"
   },
   {
    "duration": 6,
    "start_time": "2021-10-11T18:33:44.308Z"
   },
   {
    "duration": 13,
    "start_time": "2021-10-11T18:33:44.316Z"
   },
   {
    "duration": 692,
    "start_time": "2021-10-11T18:33:44.330Z"
   },
   {
    "duration": 3,
    "start_time": "2021-10-11T18:33:45.024Z"
   },
   {
    "duration": 3213,
    "start_time": "2021-10-11T18:33:45.028Z"
   },
   {
    "duration": 22,
    "start_time": "2021-10-11T18:33:48.243Z"
   },
   {
    "duration": 40,
    "start_time": "2021-10-11T18:33:48.266Z"
   },
   {
    "duration": 6,
    "start_time": "2021-10-11T18:33:48.309Z"
   },
   {
    "duration": 15,
    "start_time": "2021-10-11T18:33:48.316Z"
   },
   {
    "duration": 3,
    "start_time": "2021-10-11T18:33:48.333Z"
   },
   {
    "duration": 17,
    "start_time": "2021-10-11T18:33:48.338Z"
   },
   {
    "duration": 48,
    "start_time": "2021-10-11T18:33:48.356Z"
   },
   {
    "duration": 11,
    "start_time": "2021-10-11T18:33:48.406Z"
   },
   {
    "duration": 16,
    "start_time": "2021-10-11T18:33:48.419Z"
   },
   {
    "duration": 12,
    "start_time": "2021-10-11T18:33:48.437Z"
   },
   {
    "duration": 15,
    "start_time": "2021-10-11T18:33:48.451Z"
   },
   {
    "duration": 8,
    "start_time": "2021-10-11T18:33:48.499Z"
   },
   {
    "duration": 14,
    "start_time": "2021-10-11T18:33:48.509Z"
   },
   {
    "duration": 14,
    "start_time": "2021-10-11T18:33:48.525Z"
   },
   {
    "duration": 525,
    "start_time": "2021-10-11T18:36:25.615Z"
   },
   {
    "duration": 50,
    "start_time": "2021-10-11T18:36:26.142Z"
   },
   {
    "duration": 11,
    "start_time": "2021-10-11T18:36:26.194Z"
   },
   {
    "duration": 21,
    "start_time": "2021-10-11T18:36:26.206Z"
   },
   {
    "duration": 16,
    "start_time": "2021-10-11T18:36:26.228Z"
   },
   {
    "duration": 8,
    "start_time": "2021-10-11T18:36:26.246Z"
   },
   {
    "duration": 13,
    "start_time": "2021-10-11T18:36:26.256Z"
   },
   {
    "duration": 8,
    "start_time": "2021-10-11T18:36:26.270Z"
   },
   {
    "duration": 23,
    "start_time": "2021-10-11T18:36:26.280Z"
   },
   {
    "duration": 32,
    "start_time": "2021-10-11T18:36:26.305Z"
   },
   {
    "duration": 12,
    "start_time": "2021-10-11T18:36:26.339Z"
   },
   {
    "duration": 13,
    "start_time": "2021-10-11T18:36:26.352Z"
   },
   {
    "duration": 14,
    "start_time": "2021-10-11T18:36:26.367Z"
   },
   {
    "duration": 18,
    "start_time": "2021-10-11T18:36:26.383Z"
   },
   {
    "duration": 10,
    "start_time": "2021-10-11T18:36:26.403Z"
   },
   {
    "duration": 6,
    "start_time": "2021-10-11T18:36:26.414Z"
   },
   {
    "duration": 19,
    "start_time": "2021-10-11T18:36:26.422Z"
   },
   {
    "duration": 7,
    "start_time": "2021-10-11T18:36:26.443Z"
   },
   {
    "duration": 19,
    "start_time": "2021-10-11T18:36:26.452Z"
   },
   {
    "duration": 11,
    "start_time": "2021-10-11T18:36:26.472Z"
   },
   {
    "duration": 18,
    "start_time": "2021-10-11T18:36:26.500Z"
   },
   {
    "duration": 11,
    "start_time": "2021-10-11T18:36:26.520Z"
   },
   {
    "duration": 16,
    "start_time": "2021-10-11T18:36:26.532Z"
   },
   {
    "duration": 25,
    "start_time": "2021-10-11T18:36:26.550Z"
   },
   {
    "duration": 31,
    "start_time": "2021-10-11T18:36:26.576Z"
   },
   {
    "duration": 17,
    "start_time": "2021-10-11T18:36:26.608Z"
   },
   {
    "duration": 11,
    "start_time": "2021-10-11T18:36:26.629Z"
   },
   {
    "duration": 6,
    "start_time": "2021-10-11T18:36:26.643Z"
   },
   {
    "duration": 9,
    "start_time": "2021-10-11T18:36:26.650Z"
   },
   {
    "duration": 8,
    "start_time": "2021-10-11T18:36:26.661Z"
   },
   {
    "duration": 34,
    "start_time": "2021-10-11T18:36:26.670Z"
   },
   {
    "duration": 16,
    "start_time": "2021-10-11T18:36:26.706Z"
   },
   {
    "duration": 669,
    "start_time": "2021-10-11T18:36:26.724Z"
   },
   {
    "duration": 7,
    "start_time": "2021-10-11T18:36:27.395Z"
   },
   {
    "duration": 3315,
    "start_time": "2021-10-11T18:36:27.404Z"
   },
   {
    "duration": 22,
    "start_time": "2021-10-11T18:36:30.720Z"
   },
   {
    "duration": 25,
    "start_time": "2021-10-11T18:36:30.744Z"
   },
   {
    "duration": 5,
    "start_time": "2021-10-11T18:36:30.771Z"
   },
   {
    "duration": 15,
    "start_time": "2021-10-11T18:36:30.800Z"
   },
   {
    "duration": 4,
    "start_time": "2021-10-11T18:36:30.816Z"
   },
   {
    "duration": 24,
    "start_time": "2021-10-11T18:36:30.821Z"
   },
   {
    "duration": 18,
    "start_time": "2021-10-11T18:36:30.846Z"
   },
   {
    "duration": 20,
    "start_time": "2021-10-11T18:36:30.865Z"
   },
   {
    "duration": 27,
    "start_time": "2021-10-11T18:36:30.886Z"
   },
   {
    "duration": 20,
    "start_time": "2021-10-11T18:36:30.915Z"
   },
   {
    "duration": 25,
    "start_time": "2021-10-11T18:36:30.936Z"
   },
   {
    "duration": 10,
    "start_time": "2021-10-11T18:36:30.962Z"
   },
   {
    "duration": 13,
    "start_time": "2021-10-11T18:36:30.974Z"
   },
   {
    "duration": 13,
    "start_time": "2021-10-11T18:36:30.999Z"
   },
   {
    "duration": 491,
    "start_time": "2021-10-11T18:38:27.761Z"
   },
   {
    "duration": 49,
    "start_time": "2021-10-11T18:38:28.253Z"
   },
   {
    "duration": 10,
    "start_time": "2021-10-11T18:38:28.304Z"
   },
   {
    "duration": 18,
    "start_time": "2021-10-11T18:38:28.316Z"
   },
   {
    "duration": 14,
    "start_time": "2021-10-11T18:38:28.336Z"
   },
   {
    "duration": 9,
    "start_time": "2021-10-11T18:38:28.351Z"
   },
   {
    "duration": 8,
    "start_time": "2021-10-11T18:38:28.361Z"
   },
   {
    "duration": 5,
    "start_time": "2021-10-11T18:38:28.400Z"
   },
   {
    "duration": 7,
    "start_time": "2021-10-11T18:38:28.406Z"
   },
   {
    "duration": 15,
    "start_time": "2021-10-11T18:38:28.414Z"
   },
   {
    "duration": 12,
    "start_time": "2021-10-11T18:38:28.430Z"
   },
   {
    "duration": 7,
    "start_time": "2021-10-11T18:38:28.443Z"
   },
   {
    "duration": 8,
    "start_time": "2021-10-11T18:38:28.452Z"
   },
   {
    "duration": 41,
    "start_time": "2021-10-11T18:38:28.461Z"
   },
   {
    "duration": 8,
    "start_time": "2021-10-11T18:38:28.504Z"
   },
   {
    "duration": 4,
    "start_time": "2021-10-11T18:38:28.514Z"
   },
   {
    "duration": 14,
    "start_time": "2021-10-11T18:38:28.519Z"
   },
   {
    "duration": 5,
    "start_time": "2021-10-11T18:38:28.534Z"
   },
   {
    "duration": 13,
    "start_time": "2021-10-11T18:38:28.541Z"
   },
   {
    "duration": 10,
    "start_time": "2021-10-11T18:38:28.555Z"
   },
   {
    "duration": 45,
    "start_time": "2021-10-11T18:38:28.567Z"
   },
   {
    "duration": 10,
    "start_time": "2021-10-11T18:38:28.614Z"
   },
   {
    "duration": 7,
    "start_time": "2021-10-11T18:38:28.627Z"
   },
   {
    "duration": 17,
    "start_time": "2021-10-11T18:38:28.636Z"
   },
   {
    "duration": 17,
    "start_time": "2021-10-11T18:38:28.655Z"
   },
   {
    "duration": 41,
    "start_time": "2021-10-11T18:38:28.674Z"
   },
   {
    "duration": 9,
    "start_time": "2021-10-11T18:38:28.717Z"
   },
   {
    "duration": 5,
    "start_time": "2021-10-11T18:38:28.727Z"
   },
   {
    "duration": 4,
    "start_time": "2021-10-11T18:38:28.734Z"
   },
   {
    "duration": 5,
    "start_time": "2021-10-11T18:38:28.739Z"
   },
   {
    "duration": 6,
    "start_time": "2021-10-11T18:38:28.746Z"
   },
   {
    "duration": 45,
    "start_time": "2021-10-11T18:38:28.754Z"
   },
   {
    "duration": 668,
    "start_time": "2021-10-11T18:38:28.801Z"
   },
   {
    "duration": 2,
    "start_time": "2021-10-11T18:38:29.471Z"
   },
   {
    "duration": 3145,
    "start_time": "2021-10-11T18:38:29.475Z"
   },
   {
    "duration": 22,
    "start_time": "2021-10-11T18:38:32.622Z"
   },
   {
    "duration": 23,
    "start_time": "2021-10-11T18:38:32.645Z"
   },
   {
    "duration": 6,
    "start_time": "2021-10-11T18:38:32.669Z"
   },
   {
    "duration": 15,
    "start_time": "2021-10-11T18:38:32.700Z"
   },
   {
    "duration": 4,
    "start_time": "2021-10-11T18:38:32.716Z"
   },
   {
    "duration": 15,
    "start_time": "2021-10-11T18:38:32.721Z"
   },
   {
    "duration": 15,
    "start_time": "2021-10-11T18:38:32.738Z"
   },
   {
    "duration": 12,
    "start_time": "2021-10-11T18:38:32.754Z"
   },
   {
    "duration": 43,
    "start_time": "2021-10-11T18:38:32.768Z"
   },
   {
    "duration": 12,
    "start_time": "2021-10-11T18:38:32.813Z"
   },
   {
    "duration": 14,
    "start_time": "2021-10-11T18:38:32.827Z"
   },
   {
    "duration": 6,
    "start_time": "2021-10-11T18:38:32.843Z"
   },
   {
    "duration": 14,
    "start_time": "2021-10-11T18:38:32.851Z"
   },
   {
    "duration": 45,
    "start_time": "2021-10-11T18:38:32.866Z"
   },
   {
    "duration": 586,
    "start_time": "2021-10-12T06:59:07.678Z"
   },
   {
    "duration": 50,
    "start_time": "2021-10-12T06:59:08.266Z"
   },
   {
    "duration": 11,
    "start_time": "2021-10-12T06:59:08.317Z"
   },
   {
    "duration": 19,
    "start_time": "2021-10-12T06:59:08.330Z"
   },
   {
    "duration": 15,
    "start_time": "2021-10-12T06:59:08.350Z"
   },
   {
    "duration": 8,
    "start_time": "2021-10-12T06:59:08.366Z"
   },
   {
    "duration": 4,
    "start_time": "2021-10-12T06:59:08.400Z"
   },
   {
    "duration": 7,
    "start_time": "2021-10-12T06:59:08.406Z"
   },
   {
    "duration": 8,
    "start_time": "2021-10-12T06:59:08.415Z"
   },
   {
    "duration": 14,
    "start_time": "2021-10-12T06:59:08.425Z"
   },
   {
    "duration": 13,
    "start_time": "2021-10-12T06:59:08.440Z"
   },
   {
    "duration": 7,
    "start_time": "2021-10-12T06:59:08.454Z"
   },
   {
    "duration": 38,
    "start_time": "2021-10-12T06:59:08.463Z"
   },
   {
    "duration": 12,
    "start_time": "2021-10-12T06:59:08.503Z"
   },
   {
    "duration": 9,
    "start_time": "2021-10-12T06:59:08.517Z"
   },
   {
    "duration": 4,
    "start_time": "2021-10-12T06:59:08.527Z"
   },
   {
    "duration": 13,
    "start_time": "2021-10-12T06:59:08.533Z"
   },
   {
    "duration": 3,
    "start_time": "2021-10-12T06:59:08.548Z"
   },
   {
    "duration": 17,
    "start_time": "2021-10-12T06:59:08.552Z"
   },
   {
    "duration": 38,
    "start_time": "2021-10-12T06:59:08.570Z"
   },
   {
    "duration": 23,
    "start_time": "2021-10-12T06:59:08.610Z"
   },
   {
    "duration": 9,
    "start_time": "2021-10-12T06:59:08.634Z"
   },
   {
    "duration": 17,
    "start_time": "2021-10-12T06:59:08.646Z"
   },
   {
    "duration": 20,
    "start_time": "2021-10-12T06:59:08.665Z"
   },
   {
    "duration": 26,
    "start_time": "2021-10-12T06:59:08.687Z"
   },
   {
    "duration": 16,
    "start_time": "2021-10-12T06:59:08.715Z"
   },
   {
    "duration": 9,
    "start_time": "2021-10-12T06:59:08.732Z"
   },
   {
    "duration": 11,
    "start_time": "2021-10-12T06:59:08.743Z"
   },
   {
    "duration": 8,
    "start_time": "2021-10-12T06:59:08.756Z"
   },
   {
    "duration": 5,
    "start_time": "2021-10-12T06:59:08.765Z"
   },
   {
    "duration": 30,
    "start_time": "2021-10-12T06:59:08.772Z"
   },
   {
    "duration": 13,
    "start_time": "2021-10-12T06:59:08.804Z"
   },
   {
    "duration": 668,
    "start_time": "2021-10-12T06:59:08.819Z"
   },
   {
    "duration": 3,
    "start_time": "2021-10-12T06:59:09.488Z"
   },
   {
    "duration": 3140,
    "start_time": "2021-10-12T06:59:09.492Z"
   },
   {
    "duration": 21,
    "start_time": "2021-10-12T06:59:12.634Z"
   },
   {
    "duration": 23,
    "start_time": "2021-10-12T06:59:12.657Z"
   },
   {
    "duration": 22,
    "start_time": "2021-10-12T06:59:12.681Z"
   },
   {
    "duration": 23,
    "start_time": "2021-10-12T06:59:12.704Z"
   },
   {
    "duration": 4,
    "start_time": "2021-10-12T06:59:12.728Z"
   },
   {
    "duration": 27,
    "start_time": "2021-10-12T06:59:12.734Z"
   },
   {
    "duration": 18,
    "start_time": "2021-10-12T06:59:12.763Z"
   },
   {
    "duration": 18,
    "start_time": "2021-10-12T06:59:12.783Z"
   },
   {
    "duration": 36,
    "start_time": "2021-10-12T06:59:12.802Z"
   },
   {
    "duration": 24,
    "start_time": "2021-10-12T06:59:12.839Z"
   },
   {
    "duration": 15,
    "start_time": "2021-10-12T06:59:12.864Z"
   },
   {
    "duration": 14,
    "start_time": "2021-10-12T06:59:12.881Z"
   },
   {
    "duration": 17,
    "start_time": "2021-10-12T06:59:12.897Z"
   },
   {
    "duration": 14,
    "start_time": "2021-10-12T06:59:12.916Z"
   },
   {
    "duration": 14,
    "start_time": "2021-10-12T07:07:26.910Z"
   },
   {
    "duration": 516,
    "start_time": "2021-10-12T07:12:45.446Z"
   },
   {
    "duration": 53,
    "start_time": "2021-10-12T07:12:45.964Z"
   },
   {
    "duration": 11,
    "start_time": "2021-10-12T07:12:46.020Z"
   },
   {
    "duration": 20,
    "start_time": "2021-10-12T07:12:46.034Z"
   },
   {
    "duration": 16,
    "start_time": "2021-10-12T07:12:46.056Z"
   },
   {
    "duration": 11,
    "start_time": "2021-10-12T07:12:46.100Z"
   },
   {
    "duration": 7,
    "start_time": "2021-10-12T07:12:46.112Z"
   },
   {
    "duration": 5,
    "start_time": "2021-10-12T07:12:46.122Z"
   },
   {
    "duration": 5,
    "start_time": "2021-10-12T07:12:46.130Z"
   },
   {
    "duration": 16,
    "start_time": "2021-10-12T07:12:46.137Z"
   },
   {
    "duration": 51,
    "start_time": "2021-10-12T07:12:46.155Z"
   },
   {
    "duration": 7,
    "start_time": "2021-10-12T07:12:46.207Z"
   },
   {
    "duration": 10,
    "start_time": "2021-10-12T07:12:46.215Z"
   },
   {
    "duration": 11,
    "start_time": "2021-10-12T07:12:46.226Z"
   },
   {
    "duration": 8,
    "start_time": "2021-10-12T07:12:46.239Z"
   },
   {
    "duration": 4,
    "start_time": "2021-10-12T07:12:46.248Z"
   },
   {
    "duration": 46,
    "start_time": "2021-10-12T07:12:46.254Z"
   },
   {
    "duration": 3,
    "start_time": "2021-10-12T07:12:46.302Z"
   },
   {
    "duration": 14,
    "start_time": "2021-10-12T07:12:46.307Z"
   },
   {
    "duration": 9,
    "start_time": "2021-10-12T07:12:46.323Z"
   },
   {
    "duration": 16,
    "start_time": "2021-10-12T07:12:46.334Z"
   },
   {
    "duration": 10,
    "start_time": "2021-10-12T07:12:46.351Z"
   },
   {
    "duration": 6,
    "start_time": "2021-10-12T07:12:46.364Z"
   },
   {
    "duration": 43,
    "start_time": "2021-10-12T07:12:46.371Z"
   },
   {
    "duration": 16,
    "start_time": "2021-10-12T07:12:46.416Z"
   },
   {
    "duration": 18,
    "start_time": "2021-10-12T07:12:46.433Z"
   },
   {
    "duration": 10,
    "start_time": "2021-10-12T07:12:46.453Z"
   },
   {
    "duration": 36,
    "start_time": "2021-10-12T07:12:46.464Z"
   },
   {
    "duration": 4,
    "start_time": "2021-10-12T07:12:46.502Z"
   },
   {
    "duration": 7,
    "start_time": "2021-10-12T07:12:46.507Z"
   },
   {
    "duration": 6,
    "start_time": "2021-10-12T07:12:46.515Z"
   },
   {
    "duration": 12,
    "start_time": "2021-10-12T07:12:46.522Z"
   },
   {
    "duration": 679,
    "start_time": "2021-10-12T07:12:46.536Z"
   },
   {
    "duration": 3,
    "start_time": "2021-10-12T07:12:47.217Z"
   },
   {
    "duration": 3313,
    "start_time": "2021-10-12T07:12:47.222Z"
   },
   {
    "duration": 23,
    "start_time": "2021-10-12T07:12:50.536Z"
   },
   {
    "duration": 40,
    "start_time": "2021-10-12T07:12:50.561Z"
   },
   {
    "duration": 5,
    "start_time": "2021-10-12T07:12:50.603Z"
   },
   {
    "duration": 16,
    "start_time": "2021-10-12T07:12:50.609Z"
   },
   {
    "duration": 3,
    "start_time": "2021-10-12T07:12:50.627Z"
   },
   {
    "duration": 14,
    "start_time": "2021-10-12T07:12:50.632Z"
   },
   {
    "duration": 16,
    "start_time": "2021-10-12T07:12:50.647Z"
   },
   {
    "duration": 44,
    "start_time": "2021-10-12T07:12:50.665Z"
   },
   {
    "duration": 16,
    "start_time": "2021-10-12T07:12:50.712Z"
   },
   {
    "duration": 14,
    "start_time": "2021-10-12T07:12:50.729Z"
   },
   {
    "duration": 16,
    "start_time": "2021-10-12T07:12:50.744Z"
   },
   {
    "duration": 45,
    "start_time": "2021-10-12T07:12:50.762Z"
   },
   {
    "duration": 14,
    "start_time": "2021-10-12T07:12:50.809Z"
   },
   {
    "duration": 13,
    "start_time": "2021-10-12T07:12:50.825Z"
   },
   {
    "duration": 553,
    "start_time": "2021-10-12T07:18:49.919Z"
   },
   {
    "duration": 50,
    "start_time": "2021-10-12T07:18:50.474Z"
   },
   {
    "duration": 10,
    "start_time": "2021-10-12T07:18:50.526Z"
   },
   {
    "duration": 18,
    "start_time": "2021-10-12T07:18:50.538Z"
   },
   {
    "duration": 14,
    "start_time": "2021-10-12T07:18:50.558Z"
   },
   {
    "duration": 28,
    "start_time": "2021-10-12T07:18:50.574Z"
   },
   {
    "duration": 4,
    "start_time": "2021-10-12T07:18:50.604Z"
   },
   {
    "duration": 6,
    "start_time": "2021-10-12T07:18:50.610Z"
   },
   {
    "duration": 5,
    "start_time": "2021-10-12T07:18:50.618Z"
   },
   {
    "duration": 14,
    "start_time": "2021-10-12T07:18:50.625Z"
   },
   {
    "duration": 12,
    "start_time": "2021-10-12T07:18:50.640Z"
   },
   {
    "duration": 7,
    "start_time": "2021-10-12T07:18:50.653Z"
   },
   {
    "duration": 39,
    "start_time": "2021-10-12T07:18:50.662Z"
   },
   {
    "duration": 2939,
    "start_time": "2021-10-12T07:18:50.703Z"
   },
   {
    "duration": 9,
    "start_time": "2021-10-12T07:18:53.644Z"
   },
   {
    "duration": 4,
    "start_time": "2021-10-12T07:18:53.655Z"
   },
   {
    "duration": 12,
    "start_time": "2021-10-12T07:18:53.661Z"
   },
   {
    "duration": 25,
    "start_time": "2021-10-12T07:18:53.675Z"
   },
   {
    "duration": 12,
    "start_time": "2021-10-12T07:18:53.702Z"
   },
   {
    "duration": 13,
    "start_time": "2021-10-12T07:18:53.715Z"
   },
   {
    "duration": 17,
    "start_time": "2021-10-12T07:18:53.730Z"
   },
   {
    "duration": 10,
    "start_time": "2021-10-12T07:18:53.748Z"
   },
   {
    "duration": 7,
    "start_time": "2021-10-12T07:18:53.761Z"
   },
   {
    "duration": 39,
    "start_time": "2021-10-12T07:18:53.769Z"
   },
   {
    "duration": 18,
    "start_time": "2021-10-12T07:18:53.810Z"
   },
   {
    "duration": 17,
    "start_time": "2021-10-12T07:18:53.829Z"
   },
   {
    "duration": 9,
    "start_time": "2021-10-12T07:18:53.848Z"
   },
   {
    "duration": 5,
    "start_time": "2021-10-12T07:18:53.859Z"
   },
   {
    "duration": 34,
    "start_time": "2021-10-12T07:18:53.866Z"
   },
   {
    "duration": 7,
    "start_time": "2021-10-12T07:18:53.902Z"
   },
   {
    "duration": 5,
    "start_time": "2021-10-12T07:18:53.910Z"
   },
   {
    "duration": 11,
    "start_time": "2021-10-12T07:18:53.917Z"
   },
   {
    "duration": 670,
    "start_time": "2021-10-12T07:18:53.930Z"
   },
   {
    "duration": 2,
    "start_time": "2021-10-12T07:18:54.602Z"
   },
   {
    "duration": 3165,
    "start_time": "2021-10-12T07:18:54.606Z"
   },
   {
    "duration": 33,
    "start_time": "2021-10-12T07:18:57.772Z"
   },
   {
    "duration": 24,
    "start_time": "2021-10-12T07:18:57.807Z"
   },
   {
    "duration": 5,
    "start_time": "2021-10-12T07:18:57.833Z"
   },
   {
    "duration": 16,
    "start_time": "2021-10-12T07:18:57.839Z"
   },
   {
    "duration": 3,
    "start_time": "2021-10-12T07:18:57.856Z"
   },
   {
    "duration": 42,
    "start_time": "2021-10-12T07:18:57.861Z"
   },
   {
    "duration": 15,
    "start_time": "2021-10-12T07:18:57.905Z"
   },
   {
    "duration": 11,
    "start_time": "2021-10-12T07:18:57.921Z"
   },
   {
    "duration": 16,
    "start_time": "2021-10-12T07:18:57.933Z"
   },
   {
    "duration": 13,
    "start_time": "2021-10-12T07:18:57.951Z"
   },
   {
    "duration": 45,
    "start_time": "2021-10-12T07:18:57.966Z"
   },
   {
    "duration": 8,
    "start_time": "2021-10-12T07:18:58.013Z"
   },
   {
    "duration": 13,
    "start_time": "2021-10-12T07:18:58.024Z"
   },
   {
    "duration": 13,
    "start_time": "2021-10-12T07:18:58.039Z"
   },
   {
    "duration": 575,
    "start_time": "2021-10-12T07:20:30.098Z"
   },
   {
    "duration": 51,
    "start_time": "2021-10-12T07:20:30.675Z"
   },
   {
    "duration": 10,
    "start_time": "2021-10-12T07:20:30.728Z"
   },
   {
    "duration": 29,
    "start_time": "2021-10-12T07:20:30.740Z"
   },
   {
    "duration": 14,
    "start_time": "2021-10-12T07:20:30.771Z"
   },
   {
    "duration": 10,
    "start_time": "2021-10-12T07:20:30.799Z"
   },
   {
    "duration": 6,
    "start_time": "2021-10-12T07:20:30.810Z"
   },
   {
    "duration": 11,
    "start_time": "2021-10-12T07:20:30.817Z"
   },
   {
    "duration": 12,
    "start_time": "2021-10-12T07:20:30.831Z"
   },
   {
    "duration": 24,
    "start_time": "2021-10-12T07:20:30.845Z"
   },
   {
    "duration": 13,
    "start_time": "2021-10-12T07:20:30.870Z"
   },
   {
    "duration": 22,
    "start_time": "2021-10-12T07:20:30.884Z"
   },
   {
    "duration": 21,
    "start_time": "2021-10-12T07:20:30.907Z"
   },
   {
    "duration": 51,
    "start_time": "2021-10-12T07:20:30.930Z"
   },
   {
    "duration": -262,
    "start_time": "2021-10-12T07:20:31.246Z"
   },
   {
    "duration": -265,
    "start_time": "2021-10-12T07:20:31.249Z"
   },
   {
    "duration": -267,
    "start_time": "2021-10-12T07:20:31.252Z"
   },
   {
    "duration": -269,
    "start_time": "2021-10-12T07:20:31.255Z"
   },
   {
    "duration": -271,
    "start_time": "2021-10-12T07:20:31.258Z"
   },
   {
    "duration": -273,
    "start_time": "2021-10-12T07:20:31.261Z"
   },
   {
    "duration": -276,
    "start_time": "2021-10-12T07:20:31.264Z"
   },
   {
    "duration": -279,
    "start_time": "2021-10-12T07:20:31.268Z"
   },
   {
    "duration": -282,
    "start_time": "2021-10-12T07:20:31.272Z"
   },
   {
    "duration": -284,
    "start_time": "2021-10-12T07:20:31.274Z"
   },
   {
    "duration": -286,
    "start_time": "2021-10-12T07:20:31.277Z"
   },
   {
    "duration": -288,
    "start_time": "2021-10-12T07:20:31.280Z"
   },
   {
    "duration": -291,
    "start_time": "2021-10-12T07:20:31.284Z"
   },
   {
    "duration": -293,
    "start_time": "2021-10-12T07:20:31.287Z"
   },
   {
    "duration": -295,
    "start_time": "2021-10-12T07:20:31.290Z"
   },
   {
    "duration": -296,
    "start_time": "2021-10-12T07:20:31.292Z"
   },
   {
    "duration": -325,
    "start_time": "2021-10-12T07:20:31.322Z"
   },
   {
    "duration": -328,
    "start_time": "2021-10-12T07:20:31.325Z"
   },
   {
    "duration": -330,
    "start_time": "2021-10-12T07:20:31.328Z"
   },
   {
    "duration": -333,
    "start_time": "2021-10-12T07:20:31.332Z"
   },
   {
    "duration": -335,
    "start_time": "2021-10-12T07:20:31.335Z"
   },
   {
    "duration": -337,
    "start_time": "2021-10-12T07:20:31.338Z"
   },
   {
    "duration": -338,
    "start_time": "2021-10-12T07:20:31.340Z"
   },
   {
    "duration": -340,
    "start_time": "2021-10-12T07:20:31.343Z"
   },
   {
    "duration": -342,
    "start_time": "2021-10-12T07:20:31.346Z"
   },
   {
    "duration": -346,
    "start_time": "2021-10-12T07:20:31.351Z"
   },
   {
    "duration": -348,
    "start_time": "2021-10-12T07:20:31.354Z"
   },
   {
    "duration": -350,
    "start_time": "2021-10-12T07:20:31.357Z"
   },
   {
    "duration": -352,
    "start_time": "2021-10-12T07:20:31.360Z"
   },
   {
    "duration": -354,
    "start_time": "2021-10-12T07:20:31.362Z"
   },
   {
    "duration": -365,
    "start_time": "2021-10-12T07:20:31.374Z"
   },
   {
    "duration": -369,
    "start_time": "2021-10-12T07:20:31.379Z"
   },
   {
    "duration": -372,
    "start_time": "2021-10-12T07:20:31.383Z"
   },
   {
    "duration": -376,
    "start_time": "2021-10-12T07:20:31.388Z"
   },
   {
    "duration": -379,
    "start_time": "2021-10-12T07:20:31.392Z"
   },
   {
    "duration": 33,
    "start_time": "2021-10-12T07:20:48.573Z"
   },
   {
    "duration": 11,
    "start_time": "2021-10-12T07:21:27.855Z"
   },
   {
    "duration": 31,
    "start_time": "2021-10-12T07:26:49.367Z"
   },
   {
    "duration": 9,
    "start_time": "2021-10-12T07:26:52.755Z"
   },
   {
    "duration": 6,
    "start_time": "2021-10-12T07:27:06.126Z"
   },
   {
    "duration": 9,
    "start_time": "2021-10-12T07:27:08.236Z"
   },
   {
    "duration": 11,
    "start_time": "2021-10-12T07:27:36.983Z"
   },
   {
    "duration": 206,
    "start_time": "2021-10-12T07:35:07.302Z"
   },
   {
    "duration": 21,
    "start_time": "2021-10-12T07:35:28.713Z"
   },
   {
    "duration": 11,
    "start_time": "2021-10-12T07:36:07.510Z"
   },
   {
    "duration": 134,
    "start_time": "2021-10-12T07:36:23.451Z"
   },
   {
    "duration": 551,
    "start_time": "2021-10-12T07:36:46.306Z"
   },
   {
    "duration": 50,
    "start_time": "2021-10-12T07:36:46.858Z"
   },
   {
    "duration": 10,
    "start_time": "2021-10-12T07:36:46.910Z"
   },
   {
    "duration": 18,
    "start_time": "2021-10-12T07:36:46.921Z"
   },
   {
    "duration": 17,
    "start_time": "2021-10-12T07:36:46.941Z"
   },
   {
    "duration": 9,
    "start_time": "2021-10-12T07:36:46.959Z"
   },
   {
    "duration": 31,
    "start_time": "2021-10-12T07:36:46.970Z"
   },
   {
    "duration": 6,
    "start_time": "2021-10-12T07:36:47.004Z"
   },
   {
    "duration": 5,
    "start_time": "2021-10-12T07:36:47.012Z"
   },
   {
    "duration": 15,
    "start_time": "2021-10-12T07:36:47.019Z"
   },
   {
    "duration": 13,
    "start_time": "2021-10-12T07:36:47.036Z"
   },
   {
    "duration": 8,
    "start_time": "2021-10-12T07:36:47.051Z"
   },
   {
    "duration": 10,
    "start_time": "2021-10-12T07:36:47.100Z"
   },
   {
    "duration": 10,
    "start_time": "2021-10-12T07:36:47.112Z"
   },
   {
    "duration": 440,
    "start_time": "2021-10-12T07:36:47.124Z"
   },
   {
    "duration": -169,
    "start_time": "2021-10-12T07:36:47.736Z"
   },
   {
    "duration": -177,
    "start_time": "2021-10-12T07:36:47.746Z"
   },
   {
    "duration": -180,
    "start_time": "2021-10-12T07:36:47.750Z"
   },
   {
    "duration": -255,
    "start_time": "2021-10-12T07:36:47.826Z"
   },
   {
    "duration": -259,
    "start_time": "2021-10-12T07:36:47.832Z"
   },
   {
    "duration": -262,
    "start_time": "2021-10-12T07:36:47.836Z"
   },
   {
    "duration": -264,
    "start_time": "2021-10-12T07:36:47.840Z"
   },
   {
    "duration": -266,
    "start_time": "2021-10-12T07:36:47.843Z"
   },
   {
    "duration": -268,
    "start_time": "2021-10-12T07:36:47.846Z"
   },
   {
    "duration": -269,
    "start_time": "2021-10-12T07:36:47.849Z"
   },
   {
    "duration": -272,
    "start_time": "2021-10-12T07:36:47.853Z"
   },
   {
    "duration": -274,
    "start_time": "2021-10-12T07:36:47.856Z"
   },
   {
    "duration": -282,
    "start_time": "2021-10-12T07:36:47.866Z"
   },
   {
    "duration": -308,
    "start_time": "2021-10-12T07:36:47.893Z"
   },
   {
    "duration": -310,
    "start_time": "2021-10-12T07:36:47.896Z"
   },
   {
    "duration": -310,
    "start_time": "2021-10-12T07:36:47.898Z"
   },
   {
    "duration": -311,
    "start_time": "2021-10-12T07:36:47.900Z"
   },
   {
    "duration": -352,
    "start_time": "2021-10-12T07:36:47.942Z"
   },
   {
    "duration": -354,
    "start_time": "2021-10-12T07:36:47.945Z"
   },
   {
    "duration": -354,
    "start_time": "2021-10-12T07:36:47.947Z"
   },
   {
    "duration": -356,
    "start_time": "2021-10-12T07:36:47.950Z"
   },
   {
    "duration": -357,
    "start_time": "2021-10-12T07:36:47.953Z"
   },
   {
    "duration": -359,
    "start_time": "2021-10-12T07:36:47.956Z"
   },
   {
    "duration": -360,
    "start_time": "2021-10-12T07:36:47.958Z"
   },
   {
    "duration": -361,
    "start_time": "2021-10-12T07:36:47.961Z"
   },
   {
    "duration": -371,
    "start_time": "2021-10-12T07:36:47.972Z"
   },
   {
    "duration": -371,
    "start_time": "2021-10-12T07:36:47.974Z"
   },
   {
    "duration": -373,
    "start_time": "2021-10-12T07:36:47.977Z"
   },
   {
    "duration": -396,
    "start_time": "2021-10-12T07:36:48.001Z"
   },
   {
    "duration": -397,
    "start_time": "2021-10-12T07:36:48.004Z"
   },
   {
    "duration": -399,
    "start_time": "2021-10-12T07:36:48.007Z"
   },
   {
    "duration": -401,
    "start_time": "2021-10-12T07:36:48.010Z"
   },
   {
    "duration": -425,
    "start_time": "2021-10-12T07:36:48.036Z"
   },
   {
    "duration": -429,
    "start_time": "2021-10-12T07:36:48.041Z"
   },
   {
    "duration": -435,
    "start_time": "2021-10-12T07:36:48.048Z"
   },
   {
    "duration": 146,
    "start_time": "2021-10-12T07:37:07.551Z"
   },
   {
    "duration": 12,
    "start_time": "2021-10-12T07:37:23.260Z"
   },
   {
    "duration": 16,
    "start_time": "2021-10-12T07:38:46.134Z"
   },
   {
    "duration": 14,
    "start_time": "2021-10-12T07:38:50.303Z"
   },
   {
    "duration": 4,
    "start_time": "2021-10-12T07:39:15.023Z"
   },
   {
    "duration": 15,
    "start_time": "2021-10-12T07:40:11.981Z"
   },
   {
    "duration": 10,
    "start_time": "2021-10-12T07:40:27.035Z"
   },
   {
    "duration": 13,
    "start_time": "2021-10-12T07:40:54.977Z"
   },
   {
    "duration": 10,
    "start_time": "2021-10-12T07:40:57.572Z"
   },
   {
    "duration": 14,
    "start_time": "2021-10-12T07:41:39.248Z"
   },
   {
    "duration": 10,
    "start_time": "2021-10-12T07:41:41.467Z"
   },
   {
    "duration": 534,
    "start_time": "2021-10-12T07:41:49.834Z"
   },
   {
    "duration": 49,
    "start_time": "2021-10-12T07:41:50.370Z"
   },
   {
    "duration": 11,
    "start_time": "2021-10-12T07:41:50.421Z"
   },
   {
    "duration": 18,
    "start_time": "2021-10-12T07:41:50.434Z"
   },
   {
    "duration": 15,
    "start_time": "2021-10-12T07:41:50.453Z"
   },
   {
    "duration": 34,
    "start_time": "2021-10-12T07:41:50.469Z"
   },
   {
    "duration": 4,
    "start_time": "2021-10-12T07:41:50.504Z"
   },
   {
    "duration": 6,
    "start_time": "2021-10-12T07:41:50.511Z"
   },
   {
    "duration": 6,
    "start_time": "2021-10-12T07:41:50.519Z"
   },
   {
    "duration": 15,
    "start_time": "2021-10-12T07:41:50.526Z"
   },
   {
    "duration": 11,
    "start_time": "2021-10-12T07:41:50.543Z"
   },
   {
    "duration": 7,
    "start_time": "2021-10-12T07:41:50.556Z"
   },
   {
    "duration": 8,
    "start_time": "2021-10-12T07:41:50.600Z"
   },
   {
    "duration": 199,
    "start_time": "2021-10-12T07:41:50.610Z"
   },
   {
    "duration": -213,
    "start_time": "2021-10-12T07:41:51.025Z"
   },
   {
    "duration": -217,
    "start_time": "2021-10-12T07:41:51.029Z"
   },
   {
    "duration": -219,
    "start_time": "2021-10-12T07:41:51.033Z"
   },
   {
    "duration": -222,
    "start_time": "2021-10-12T07:41:51.036Z"
   },
   {
    "duration": -224,
    "start_time": "2021-10-12T07:41:51.040Z"
   },
   {
    "duration": -227,
    "start_time": "2021-10-12T07:41:51.044Z"
   },
   {
    "duration": -230,
    "start_time": "2021-10-12T07:41:51.048Z"
   },
   {
    "duration": -233,
    "start_time": "2021-10-12T07:41:51.052Z"
   },
   {
    "duration": -237,
    "start_time": "2021-10-12T07:41:51.056Z"
   },
   {
    "duration": -239,
    "start_time": "2021-10-12T07:41:51.060Z"
   },
   {
    "duration": -242,
    "start_time": "2021-10-12T07:41:51.064Z"
   },
   {
    "duration": -245,
    "start_time": "2021-10-12T07:41:51.068Z"
   },
   {
    "duration": -248,
    "start_time": "2021-10-12T07:41:51.072Z"
   },
   {
    "duration": -251,
    "start_time": "2021-10-12T07:41:51.075Z"
   },
   {
    "duration": -254,
    "start_time": "2021-10-12T07:41:51.079Z"
   },
   {
    "duration": -256,
    "start_time": "2021-10-12T07:41:51.082Z"
   },
   {
    "duration": -259,
    "start_time": "2021-10-12T07:41:51.086Z"
   },
   {
    "duration": -261,
    "start_time": "2021-10-12T07:41:51.089Z"
   },
   {
    "duration": -264,
    "start_time": "2021-10-12T07:41:51.093Z"
   },
   {
    "duration": -266,
    "start_time": "2021-10-12T07:41:51.096Z"
   },
   {
    "duration": -268,
    "start_time": "2021-10-12T07:41:51.099Z"
   },
   {
    "duration": -270,
    "start_time": "2021-10-12T07:41:51.102Z"
   },
   {
    "duration": -272,
    "start_time": "2021-10-12T07:41:51.106Z"
   },
   {
    "duration": -274,
    "start_time": "2021-10-12T07:41:51.109Z"
   },
   {
    "duration": -276,
    "start_time": "2021-10-12T07:41:51.112Z"
   },
   {
    "duration": -278,
    "start_time": "2021-10-12T07:41:51.115Z"
   },
   {
    "duration": -279,
    "start_time": "2021-10-12T07:41:51.119Z"
   },
   {
    "duration": -293,
    "start_time": "2021-10-12T07:41:51.133Z"
   },
   {
    "duration": -295,
    "start_time": "2021-10-12T07:41:51.136Z"
   },
   {
    "duration": -298,
    "start_time": "2021-10-12T07:41:51.140Z"
   },
   {
    "duration": -302,
    "start_time": "2021-10-12T07:41:51.145Z"
   },
   {
    "duration": -305,
    "start_time": "2021-10-12T07:41:51.149Z"
   },
   {
    "duration": -309,
    "start_time": "2021-10-12T07:41:51.154Z"
   },
   {
    "duration": -312,
    "start_time": "2021-10-12T07:41:51.158Z"
   },
   {
    "duration": -314,
    "start_time": "2021-10-12T07:41:51.162Z"
   },
   {
    "duration": 14,
    "start_time": "2021-10-12T07:42:19.880Z"
   },
   {
    "duration": 9,
    "start_time": "2021-10-12T07:42:22.337Z"
   },
   {
    "duration": 14,
    "start_time": "2021-10-12T07:49:43.274Z"
   },
   {
    "duration": 10,
    "start_time": "2021-10-12T07:49:46.544Z"
   },
   {
    "duration": 495,
    "start_time": "2021-10-12T07:57:14.049Z"
   },
   {
    "duration": 49,
    "start_time": "2021-10-12T07:57:14.546Z"
   },
   {
    "duration": 10,
    "start_time": "2021-10-12T07:57:14.597Z"
   },
   {
    "duration": 19,
    "start_time": "2021-10-12T07:57:14.609Z"
   },
   {
    "duration": 15,
    "start_time": "2021-10-12T07:57:14.629Z"
   },
   {
    "duration": 8,
    "start_time": "2021-10-12T07:57:14.646Z"
   },
   {
    "duration": 6,
    "start_time": "2021-10-12T07:57:14.655Z"
   },
   {
    "duration": 5,
    "start_time": "2021-10-12T07:57:14.663Z"
   },
   {
    "duration": 5,
    "start_time": "2021-10-12T07:57:14.700Z"
   },
   {
    "duration": 15,
    "start_time": "2021-10-12T07:57:14.706Z"
   },
   {
    "duration": 14,
    "start_time": "2021-10-12T07:57:14.722Z"
   },
   {
    "duration": 7,
    "start_time": "2021-10-12T07:57:14.737Z"
   },
   {
    "duration": 8,
    "start_time": "2021-10-12T07:57:14.745Z"
   },
   {
    "duration": 50,
    "start_time": "2021-10-12T07:57:14.755Z"
   },
   {
    "duration": 12,
    "start_time": "2021-10-12T07:57:14.807Z"
   },
   {
    "duration": 8,
    "start_time": "2021-10-12T07:57:14.820Z"
   },
   {
    "duration": 7,
    "start_time": "2021-10-12T07:57:14.830Z"
   },
   {
    "duration": 11,
    "start_time": "2021-10-12T07:57:14.838Z"
   },
   {
    "duration": 6,
    "start_time": "2021-10-12T07:57:14.850Z"
   },
   {
    "duration": 12,
    "start_time": "2021-10-12T07:57:14.858Z"
   },
   {
    "duration": 11,
    "start_time": "2021-10-12T07:57:14.900Z"
   },
   {
    "duration": 17,
    "start_time": "2021-10-12T07:57:14.912Z"
   },
   {
    "duration": 8,
    "start_time": "2021-10-12T07:57:14.932Z"
   },
   {
    "duration": 7,
    "start_time": "2021-10-12T07:57:14.942Z"
   },
   {
    "duration": 18,
    "start_time": "2021-10-12T07:57:14.950Z"
   },
   {
    "duration": 44,
    "start_time": "2021-10-12T07:57:14.969Z"
   },
   {
    "duration": 18,
    "start_time": "2021-10-12T07:57:15.015Z"
   },
   {
    "duration": 10,
    "start_time": "2021-10-12T07:57:15.034Z"
   },
   {
    "duration": 5,
    "start_time": "2021-10-12T07:57:15.046Z"
   },
   {
    "duration": 4,
    "start_time": "2021-10-12T07:57:15.052Z"
   },
   {
    "duration": 7,
    "start_time": "2021-10-12T07:57:15.058Z"
   },
   {
    "duration": 36,
    "start_time": "2021-10-12T07:57:15.067Z"
   },
   {
    "duration": 13,
    "start_time": "2021-10-12T07:57:15.105Z"
   },
   {
    "duration": 689,
    "start_time": "2021-10-12T07:57:15.119Z"
   },
   {
    "duration": 4,
    "start_time": "2021-10-12T07:57:15.809Z"
   },
   {
    "duration": 3354,
    "start_time": "2021-10-12T07:57:15.814Z"
   },
   {
    "duration": 33,
    "start_time": "2021-10-12T07:57:19.170Z"
   },
   {
    "duration": 24,
    "start_time": "2021-10-12T07:57:19.205Z"
   },
   {
    "duration": 6,
    "start_time": "2021-10-12T07:57:19.231Z"
   },
   {
    "duration": 17,
    "start_time": "2021-10-12T07:57:19.238Z"
   },
   {
    "duration": 3,
    "start_time": "2021-10-12T07:57:19.257Z"
   },
   {
    "duration": 44,
    "start_time": "2021-10-12T07:57:19.262Z"
   },
   {
    "duration": 14,
    "start_time": "2021-10-12T07:57:19.308Z"
   },
   {
    "duration": 11,
    "start_time": "2021-10-12T07:57:19.324Z"
   },
   {
    "duration": 14,
    "start_time": "2021-10-12T07:57:19.336Z"
   },
   {
    "duration": 11,
    "start_time": "2021-10-12T07:57:19.352Z"
   },
   {
    "duration": 41,
    "start_time": "2021-10-12T07:57:19.365Z"
   },
   {
    "duration": 8,
    "start_time": "2021-10-12T07:57:19.408Z"
   },
   {
    "duration": 13,
    "start_time": "2021-10-12T07:57:19.417Z"
   },
   {
    "duration": 12,
    "start_time": "2021-10-12T07:57:19.432Z"
   },
   {
    "duration": 208,
    "start_time": "2021-10-12T13:21:29.084Z"
   },
   {
    "duration": 564,
    "start_time": "2021-10-12T13:21:43.972Z"
   },
   {
    "duration": 49,
    "start_time": "2021-10-12T13:21:44.537Z"
   },
   {
    "duration": 11,
    "start_time": "2021-10-12T13:21:44.588Z"
   },
   {
    "duration": 18,
    "start_time": "2021-10-12T13:21:44.601Z"
   },
   {
    "duration": 18,
    "start_time": "2021-10-12T13:21:44.621Z"
   },
   {
    "duration": 9,
    "start_time": "2021-10-12T13:21:44.640Z"
   },
   {
    "duration": 5,
    "start_time": "2021-10-12T13:21:44.650Z"
   },
   {
    "duration": 6,
    "start_time": "2021-10-12T13:21:44.657Z"
   },
   {
    "duration": 5,
    "start_time": "2021-10-12T13:21:44.700Z"
   },
   {
    "duration": 14,
    "start_time": "2021-10-12T13:21:44.706Z"
   },
   {
    "duration": 13,
    "start_time": "2021-10-12T13:21:44.721Z"
   },
   {
    "duration": 8,
    "start_time": "2021-10-12T13:21:44.736Z"
   },
   {
    "duration": 9,
    "start_time": "2021-10-12T13:21:44.746Z"
   },
   {
    "duration": 49,
    "start_time": "2021-10-12T13:21:44.757Z"
   },
   {
    "duration": 11,
    "start_time": "2021-10-12T13:21:44.808Z"
   },
   {
    "duration": 14,
    "start_time": "2021-10-12T13:21:44.820Z"
   },
   {
    "duration": 6,
    "start_time": "2021-10-12T13:21:44.836Z"
   },
   {
    "duration": 12,
    "start_time": "2021-10-12T13:21:44.843Z"
   },
   {
    "duration": 3,
    "start_time": "2021-10-12T13:21:44.857Z"
   },
   {
    "duration": 12,
    "start_time": "2021-10-12T13:21:44.861Z"
   },
   {
    "duration": 39,
    "start_time": "2021-10-12T13:21:44.874Z"
   },
   {
    "duration": 19,
    "start_time": "2021-10-12T13:21:44.915Z"
   },
   {
    "duration": 10,
    "start_time": "2021-10-12T13:21:44.938Z"
   },
   {
    "duration": 8,
    "start_time": "2021-10-12T13:21:44.950Z"
   },
   {
    "duration": 42,
    "start_time": "2021-10-12T13:21:44.959Z"
   },
   {
    "duration": 19,
    "start_time": "2021-10-12T13:21:45.003Z"
   },
   {
    "duration": 15,
    "start_time": "2021-10-12T13:21:45.024Z"
   },
   {
    "duration": 9,
    "start_time": "2021-10-12T13:21:45.041Z"
   },
   {
    "duration": 11,
    "start_time": "2021-10-12T13:21:45.051Z"
   },
   {
    "duration": 5,
    "start_time": "2021-10-12T13:21:45.064Z"
   },
   {
    "duration": 4,
    "start_time": "2021-10-12T13:21:45.100Z"
   },
   {
    "duration": 5,
    "start_time": "2021-10-12T13:21:45.106Z"
   },
   {
    "duration": 12,
    "start_time": "2021-10-12T13:21:45.112Z"
   },
   {
    "duration": 666,
    "start_time": "2021-10-12T13:21:45.126Z"
   },
   {
    "duration": 5,
    "start_time": "2021-10-12T13:21:45.794Z"
   },
   {
    "duration": 3231,
    "start_time": "2021-10-12T13:21:45.801Z"
   },
   {
    "duration": 21,
    "start_time": "2021-10-12T13:21:49.033Z"
   },
   {
    "duration": 23,
    "start_time": "2021-10-12T13:21:49.056Z"
   },
   {
    "duration": 23,
    "start_time": "2021-10-12T13:21:49.080Z"
   },
   {
    "duration": 16,
    "start_time": "2021-10-12T13:21:49.104Z"
   },
   {
    "duration": 3,
    "start_time": "2021-10-12T13:21:49.121Z"
   },
   {
    "duration": 15,
    "start_time": "2021-10-12T13:21:49.125Z"
   },
   {
    "duration": 13,
    "start_time": "2021-10-12T13:21:49.141Z"
   },
   {
    "duration": 10,
    "start_time": "2021-10-12T13:21:49.156Z"
   },
   {
    "duration": 44,
    "start_time": "2021-10-12T13:21:49.167Z"
   },
   {
    "duration": 12,
    "start_time": "2021-10-12T13:21:49.212Z"
   },
   {
    "duration": 12,
    "start_time": "2021-10-12T13:21:49.225Z"
   },
   {
    "duration": 7,
    "start_time": "2021-10-12T13:21:49.239Z"
   },
   {
    "duration": 12,
    "start_time": "2021-10-12T13:21:49.248Z"
   },
   {
    "duration": 47,
    "start_time": "2021-10-12T13:21:49.261Z"
   }
  ],
  "kernelspec": {
   "display_name": "Python 3 (ipykernel)",
   "language": "python",
   "name": "python3"
  },
  "language_info": {
   "codemirror_mode": {
    "name": "ipython",
    "version": 3
   },
   "file_extension": ".py",
   "mimetype": "text/x-python",
   "name": "python",
   "nbconvert_exporter": "python",
   "pygments_lexer": "ipython3",
   "version": "3.9.7"
  },
  "toc": {
   "base_numbering": 1,
   "nav_menu": {},
   "number_sections": true,
   "sideBar": true,
   "skip_h1_title": true,
   "title_cell": "Table of Contents",
   "title_sidebar": "Contents",
   "toc_cell": false,
   "toc_position": {},
   "toc_section_display": true,
   "toc_window_display": false
  }
 },
 "nbformat": 4,
 "nbformat_minor": 2
}
