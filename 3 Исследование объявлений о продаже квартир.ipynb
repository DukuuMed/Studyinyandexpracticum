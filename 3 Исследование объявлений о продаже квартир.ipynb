{
 "cells": [
  {
   "cell_type": "markdown",
   "metadata": {},
   "source": [
    "<div style=\"border:solid green 2px; padding: 20px\">\n",
    "<b>Руслан, привет!</b>\n",
    "\n",
    "Меня зовут Евгений Дащенко, и я буду проверять твой проект. Предлагаю общаться на «ты» 😊 Но если это не удобно - дай знать, и мы перейдем на \"вы\". \n",
    "\n",
    "Моя основная цель — не указать на совершенные тобою ошибки, а поделиться своим опытом и помочь тебе стать аналитиком данных. Ты уже проделал большую работу над проектом, но давай сделаем его еще лучше. Ниже ты найдешь мои комментарии - пожалуйста, не перемещай, не изменяй и не удаляй их. Я буду использовать цветовую разметку:\n",
    "\n",
    "<div class=\"alert alert-danger\">\n",
    "<b>Комментарий ревьюера:</b> Так выделены самые важные замечания. Без их отработки проект не будет принят. </div>\n",
    "\n",
    "<div class=\"alert alert-warning\">\n",
    "<b>Комментарий ревьюера:</b> Так выделены небольшие замечания. Одна-два таких замечания в проекте допустимы, но если их будет больше - тебе будет необходимо внести исправления. Это как тестовое задание при приеме на работу: очень много мелких ошибок могут стать причиной отказа кандидату. \n",
    "\n",
    "</div>\n",
    "\n",
    "<div class=\"alert alert-success\">\n",
    "<b>Комментарий ревьюера:</b> Так я выделяю все остальные комментарии.</div>\n",
    "\n",
    "Давай работать над проектом в диалоге: если ты что-то меняешь в проекте или отвечаешь на мои комменатри — пиши об этом. Мне будет легче отследить изменения, если ты выделишь свои комментарии:\n",
    "<div class=\"alert alert-info\"> <b>Комментарий студента:</b> Например, вот так.</div>\n",
    "\n",
    "Всё это поможет выполнить повторную проверку твоего проекта оперативнее. "
   ]
  },
  {
   "cell_type": "markdown",
   "metadata": {
    "toc": true
   },
   "source": [
    "<h1>Содержание<span class=\"tocSkip\"></span></h1>\n",
    "<div class=\"toc\"><ul class=\"toc-item\"><li><span><a href=\"#Изучение-данных-из-файла\" data-toc-modified-id=\"Изучение-данных-из-файла-1\"><span class=\"toc-item-num\">1&nbsp;&nbsp;</span>Изучение данных из файла</a></span><ul class=\"toc-item\"><li><span><a href=\"#Вывод\" data-toc-modified-id=\"Вывод-1.1\"><span class=\"toc-item-num\">1.1&nbsp;&nbsp;</span>Вывод</a></span></li></ul></li><li><span><a href=\"#Предобработка-данных\" data-toc-modified-id=\"Предобработка-данных-2\"><span class=\"toc-item-num\">2&nbsp;&nbsp;</span>Предобработка данных</a></span></li><li><span><a href=\"#Расчёты-и-добавление-результатов-в-таблицу\" data-toc-modified-id=\"Расчёты-и-добавление-результатов-в-таблицу-3\"><span class=\"toc-item-num\">3&nbsp;&nbsp;</span>Расчёты и добавление результатов в таблицу</a></span></li><li><span><a href=\"#Исследовательский-анализ-данных\" data-toc-modified-id=\"Исследовательский-анализ-данных-4\"><span class=\"toc-item-num\">4&nbsp;&nbsp;</span>Исследовательский анализ данных</a></span></li><li><span><a href=\"#Общий-вывод\" data-toc-modified-id=\"Общий-вывод-5\"><span class=\"toc-item-num\">5&nbsp;&nbsp;</span>Общий вывод</a></span></li><li><span><a href=\"#Чек-лист-готовности-проекта\" data-toc-modified-id=\"Чек-лист-готовности-проекта-6\"><span class=\"toc-item-num\">6&nbsp;&nbsp;</span>Чек-лист готовности проекта</a></span></li></ul></div>"
   ]
  },
  {
   "cell_type": "markdown",
   "metadata": {},
   "source": [
    "# Исследование объявлений о продаже квартир\n",
    "\n",
    "В вашем распоряжении данные сервиса Яндекс.Недвижимость — архив объявлений о продаже квартир в Санкт-Петербурге и соседних населённых пунктах за несколько лет. Нужно научиться определять рыночную стоимость объектов недвижимости. Ваша задача — установить параметры. Это позволит построить автоматизированную систему: она отследит аномалии и мошенническую деятельность. \n",
    "\n",
    "По каждой квартире на продажу доступны два вида данных. Первые вписаны пользователем, вторые получены автоматически на основе картографических данных. Например, расстояние до центра, аэропорта, ближайшего парка и водоёма. "
   ]
  },
  {
   "cell_type": "markdown",
   "metadata": {},
   "source": [
    "## Изучение данных из файла"
   ]
  },
  {
   "cell_type": "markdown",
   "metadata": {},
   "source": [
    "#Скопируем описание данных из документации для удобства работы с датасетом\n",
    "```\n",
    "Описание данных\n",
    "airports_nearest — расстояние до ближайшего аэропорта в метрах (м)\n",
    "balcony — число балконов\n",
    "ceiling_height — высота потолков (м)\n",
    "cityCenters_nearest — расстояние до центра города (м)\n",
    "days_exposition — сколько дней было размещено объявление (от публикации до снятия)\n",
    "first_day_exposition — дата публикации\n",
    "floor — этаж\n",
    "floors_total — всего этажей в доме\n",
    "is_apartment — апартаменты (булев тип)\n",
    "kitchen_area — площадь кухни в квадратных метрах (м²)\n",
    "last_price — цена на момент снятия с публикации\n",
    "living_area — жилая площадь в квадратных метрах(м²)\n",
    "locality_name — название населённого пункта\n",
    "open_plan — свободная планировка (булев тип)\n",
    "parks_around3000 — число парков в радиусе 3 км\n",
    "parks_nearest — расстояние до ближайшего парка (м)\n",
    "ponds_around3000 — число водоёмов в радиусе 3 км\n",
    "ponds_nearest — расстояние до ближайшего водоёма (м)\n",
    "rooms — число комнат\n",
    "studio — квартира-студия (булев тип)\n",
    "total_area — площадь квартиры в квадратных метрах (м²)\n",
    "total_images — число фотографий квартиры в объявлении\n",
    "Пояснение: апартаменты — это нежилые помещения, не относящиеся к жилому фонду, но имеющие необходимые условия для проживания\n",
    "```"
   ]
  },
  {
   "cell_type": "markdown",
   "metadata": {},
   "source": [
    "<div class=\"alert alert-success\">\n",
    "<b>Комментарий ревьюера:</b>\n",
    "\n",
    "Здорово, когда есть вступление в сам проект, каждый сможет быстрее разобраться в концепции / деталях работы. \n",
    "\n",
    "</div>"
   ]
  },
  {
   "cell_type": "code",
   "execution_count": 1,
   "metadata": {},
   "outputs": [
    {
     "data": {
      "text/html": [
       "<div>\n",
       "<style scoped>\n",
       "    .dataframe tbody tr th:only-of-type {\n",
       "        vertical-align: middle;\n",
       "    }\n",
       "\n",
       "    .dataframe tbody tr th {\n",
       "        vertical-align: top;\n",
       "    }\n",
       "\n",
       "    .dataframe thead th {\n",
       "        text-align: right;\n",
       "    }\n",
       "</style>\n",
       "<table border=\"1\" class=\"dataframe\">\n",
       "  <thead>\n",
       "    <tr style=\"text-align: right;\">\n",
       "      <th></th>\n",
       "      <th>total_images</th>\n",
       "      <th>last_price</th>\n",
       "      <th>total_area</th>\n",
       "      <th>first_day_exposition</th>\n",
       "      <th>rooms</th>\n",
       "      <th>ceiling_height</th>\n",
       "      <th>floors_total</th>\n",
       "      <th>living_area</th>\n",
       "      <th>floor</th>\n",
       "      <th>is_apartment</th>\n",
       "      <th>...</th>\n",
       "      <th>kitchen_area</th>\n",
       "      <th>balcony</th>\n",
       "      <th>locality_name</th>\n",
       "      <th>airports_nearest</th>\n",
       "      <th>cityCenters_nearest</th>\n",
       "      <th>parks_around3000</th>\n",
       "      <th>parks_nearest</th>\n",
       "      <th>ponds_around3000</th>\n",
       "      <th>ponds_nearest</th>\n",
       "      <th>days_exposition</th>\n",
       "    </tr>\n",
       "  </thead>\n",
       "  <tbody>\n",
       "    <tr>\n",
       "      <td>0</td>\n",
       "      <td>20</td>\n",
       "      <td>13000000.0</td>\n",
       "      <td>108.0</td>\n",
       "      <td>2019-03-07T00:00:00</td>\n",
       "      <td>3</td>\n",
       "      <td>2.70</td>\n",
       "      <td>16.0</td>\n",
       "      <td>51.0</td>\n",
       "      <td>8</td>\n",
       "      <td>NaN</td>\n",
       "      <td>...</td>\n",
       "      <td>25.0</td>\n",
       "      <td>NaN</td>\n",
       "      <td>Санкт-Петербург</td>\n",
       "      <td>18863.0</td>\n",
       "      <td>16028.0</td>\n",
       "      <td>1.0</td>\n",
       "      <td>482.0</td>\n",
       "      <td>2.0</td>\n",
       "      <td>755.0</td>\n",
       "      <td>NaN</td>\n",
       "    </tr>\n",
       "    <tr>\n",
       "      <td>1</td>\n",
       "      <td>7</td>\n",
       "      <td>3350000.0</td>\n",
       "      <td>40.4</td>\n",
       "      <td>2018-12-04T00:00:00</td>\n",
       "      <td>1</td>\n",
       "      <td>NaN</td>\n",
       "      <td>11.0</td>\n",
       "      <td>18.6</td>\n",
       "      <td>1</td>\n",
       "      <td>NaN</td>\n",
       "      <td>...</td>\n",
       "      <td>11.0</td>\n",
       "      <td>2.0</td>\n",
       "      <td>посёлок Шушары</td>\n",
       "      <td>12817.0</td>\n",
       "      <td>18603.0</td>\n",
       "      <td>0.0</td>\n",
       "      <td>NaN</td>\n",
       "      <td>0.0</td>\n",
       "      <td>NaN</td>\n",
       "      <td>81.0</td>\n",
       "    </tr>\n",
       "    <tr>\n",
       "      <td>2</td>\n",
       "      <td>10</td>\n",
       "      <td>5196000.0</td>\n",
       "      <td>56.0</td>\n",
       "      <td>2015-08-20T00:00:00</td>\n",
       "      <td>2</td>\n",
       "      <td>NaN</td>\n",
       "      <td>5.0</td>\n",
       "      <td>34.3</td>\n",
       "      <td>4</td>\n",
       "      <td>NaN</td>\n",
       "      <td>...</td>\n",
       "      <td>8.3</td>\n",
       "      <td>0.0</td>\n",
       "      <td>Санкт-Петербург</td>\n",
       "      <td>21741.0</td>\n",
       "      <td>13933.0</td>\n",
       "      <td>1.0</td>\n",
       "      <td>90.0</td>\n",
       "      <td>2.0</td>\n",
       "      <td>574.0</td>\n",
       "      <td>558.0</td>\n",
       "    </tr>\n",
       "    <tr>\n",
       "      <td>3</td>\n",
       "      <td>0</td>\n",
       "      <td>64900000.0</td>\n",
       "      <td>159.0</td>\n",
       "      <td>2015-07-24T00:00:00</td>\n",
       "      <td>3</td>\n",
       "      <td>NaN</td>\n",
       "      <td>14.0</td>\n",
       "      <td>NaN</td>\n",
       "      <td>9</td>\n",
       "      <td>NaN</td>\n",
       "      <td>...</td>\n",
       "      <td>NaN</td>\n",
       "      <td>0.0</td>\n",
       "      <td>Санкт-Петербург</td>\n",
       "      <td>28098.0</td>\n",
       "      <td>6800.0</td>\n",
       "      <td>2.0</td>\n",
       "      <td>84.0</td>\n",
       "      <td>3.0</td>\n",
       "      <td>234.0</td>\n",
       "      <td>424.0</td>\n",
       "    </tr>\n",
       "    <tr>\n",
       "      <td>4</td>\n",
       "      <td>2</td>\n",
       "      <td>10000000.0</td>\n",
       "      <td>100.0</td>\n",
       "      <td>2018-06-19T00:00:00</td>\n",
       "      <td>2</td>\n",
       "      <td>3.03</td>\n",
       "      <td>14.0</td>\n",
       "      <td>32.0</td>\n",
       "      <td>13</td>\n",
       "      <td>NaN</td>\n",
       "      <td>...</td>\n",
       "      <td>41.0</td>\n",
       "      <td>NaN</td>\n",
       "      <td>Санкт-Петербург</td>\n",
       "      <td>31856.0</td>\n",
       "      <td>8098.0</td>\n",
       "      <td>2.0</td>\n",
       "      <td>112.0</td>\n",
       "      <td>1.0</td>\n",
       "      <td>48.0</td>\n",
       "      <td>121.0</td>\n",
       "    </tr>\n",
       "  </tbody>\n",
       "</table>\n",
       "<p>5 rows × 22 columns</p>\n",
       "</div>"
      ],
      "text/plain": [
       "   total_images  last_price  total_area first_day_exposition  rooms  \\\n",
       "0            20  13000000.0       108.0  2019-03-07T00:00:00      3   \n",
       "1             7   3350000.0        40.4  2018-12-04T00:00:00      1   \n",
       "2            10   5196000.0        56.0  2015-08-20T00:00:00      2   \n",
       "3             0  64900000.0       159.0  2015-07-24T00:00:00      3   \n",
       "4             2  10000000.0       100.0  2018-06-19T00:00:00      2   \n",
       "\n",
       "   ceiling_height  floors_total  living_area  floor is_apartment  ...  \\\n",
       "0            2.70          16.0         51.0      8          NaN  ...   \n",
       "1             NaN          11.0         18.6      1          NaN  ...   \n",
       "2             NaN           5.0         34.3      4          NaN  ...   \n",
       "3             NaN          14.0          NaN      9          NaN  ...   \n",
       "4            3.03          14.0         32.0     13          NaN  ...   \n",
       "\n",
       "   kitchen_area  balcony    locality_name  airports_nearest  \\\n",
       "0          25.0      NaN  Санкт-Петербург           18863.0   \n",
       "1          11.0      2.0   посёлок Шушары           12817.0   \n",
       "2           8.3      0.0  Санкт-Петербург           21741.0   \n",
       "3           NaN      0.0  Санкт-Петербург           28098.0   \n",
       "4          41.0      NaN  Санкт-Петербург           31856.0   \n",
       "\n",
       "  cityCenters_nearest  parks_around3000  parks_nearest  ponds_around3000  \\\n",
       "0             16028.0               1.0          482.0               2.0   \n",
       "1             18603.0               0.0            NaN               0.0   \n",
       "2             13933.0               1.0           90.0               2.0   \n",
       "3              6800.0               2.0           84.0               3.0   \n",
       "4              8098.0               2.0          112.0               1.0   \n",
       "\n",
       "   ponds_nearest  days_exposition  \n",
       "0          755.0              NaN  \n",
       "1            NaN             81.0  \n",
       "2          574.0            558.0  \n",
       "3          234.0            424.0  \n",
       "4           48.0            121.0  \n",
       "\n",
       "[5 rows x 22 columns]"
      ]
     },
     "execution_count": 1,
     "metadata": {},
     "output_type": "execute_result"
    }
   ],
   "source": [
    "import pandas as pd\n",
    "data = pd.read_csv('/datasets/real_estate_data.csv', sep = '\\t')\n",
    "#размечатаем датасет, чтобы увидеть, какие данные и каким образом в нем записаны\n",
    "data.head(5)"
   ]
  },
  {
   "cell_type": "code",
   "execution_count": 2,
   "metadata": {},
   "outputs": [
    {
     "name": "stdout",
     "output_type": "stream",
     "text": [
      "<class 'pandas.core.frame.DataFrame'>\n",
      "RangeIndex: 23699 entries, 0 to 23698\n",
      "Data columns (total 22 columns):\n",
      "total_images            23699 non-null int64\n",
      "last_price              23699 non-null float64\n",
      "total_area              23699 non-null float64\n",
      "first_day_exposition    23699 non-null object\n",
      "rooms                   23699 non-null int64\n",
      "ceiling_height          14504 non-null float64\n",
      "floors_total            23613 non-null float64\n",
      "living_area             21796 non-null float64\n",
      "floor                   23699 non-null int64\n",
      "is_apartment            2775 non-null object\n",
      "studio                  23699 non-null bool\n",
      "open_plan               23699 non-null bool\n",
      "kitchen_area            21421 non-null float64\n",
      "balcony                 12180 non-null float64\n",
      "locality_name           23650 non-null object\n",
      "airports_nearest        18157 non-null float64\n",
      "cityCenters_nearest     18180 non-null float64\n",
      "parks_around3000        18181 non-null float64\n",
      "parks_nearest           8079 non-null float64\n",
      "ponds_around3000        18181 non-null float64\n",
      "ponds_nearest           9110 non-null float64\n",
      "days_exposition         20518 non-null float64\n",
      "dtypes: bool(2), float64(14), int64(3), object(3)\n",
      "memory usage: 3.7+ MB\n"
     ]
    }
   ],
   "source": [
    "#применим метод info  и изучим данные по столбцам\n",
    "data.info()"
   ]
  },
  {
   "cell_type": "code",
   "execution_count": 3,
   "metadata": {},
   "outputs": [
    {
     "data": {
      "text/html": [
       "<div>\n",
       "<style scoped>\n",
       "    .dataframe tbody tr th:only-of-type {\n",
       "        vertical-align: middle;\n",
       "    }\n",
       "\n",
       "    .dataframe tbody tr th {\n",
       "        vertical-align: top;\n",
       "    }\n",
       "\n",
       "    .dataframe thead th {\n",
       "        text-align: right;\n",
       "    }\n",
       "</style>\n",
       "<table border=\"1\" class=\"dataframe\">\n",
       "  <thead>\n",
       "    <tr style=\"text-align: right;\">\n",
       "      <th></th>\n",
       "      <th>total_images</th>\n",
       "      <th>last_price</th>\n",
       "      <th>total_area</th>\n",
       "      <th>rooms</th>\n",
       "      <th>ceiling_height</th>\n",
       "      <th>floors_total</th>\n",
       "      <th>living_area</th>\n",
       "      <th>floor</th>\n",
       "      <th>kitchen_area</th>\n",
       "      <th>balcony</th>\n",
       "      <th>airports_nearest</th>\n",
       "      <th>cityCenters_nearest</th>\n",
       "      <th>parks_around3000</th>\n",
       "      <th>parks_nearest</th>\n",
       "      <th>ponds_around3000</th>\n",
       "      <th>ponds_nearest</th>\n",
       "      <th>days_exposition</th>\n",
       "    </tr>\n",
       "  </thead>\n",
       "  <tbody>\n",
       "    <tr>\n",
       "      <td>count</td>\n",
       "      <td>23699.000000</td>\n",
       "      <td>2.369900e+04</td>\n",
       "      <td>23699.000000</td>\n",
       "      <td>23699.000000</td>\n",
       "      <td>14504.000000</td>\n",
       "      <td>23613.000000</td>\n",
       "      <td>21796.000000</td>\n",
       "      <td>23699.000000</td>\n",
       "      <td>21421.000000</td>\n",
       "      <td>12180.000000</td>\n",
       "      <td>18157.000000</td>\n",
       "      <td>18180.000000</td>\n",
       "      <td>18181.000000</td>\n",
       "      <td>8079.000000</td>\n",
       "      <td>18181.000000</td>\n",
       "      <td>9110.000000</td>\n",
       "      <td>20518.000000</td>\n",
       "    </tr>\n",
       "    <tr>\n",
       "      <td>mean</td>\n",
       "      <td>9.858475</td>\n",
       "      <td>6.541549e+06</td>\n",
       "      <td>60.348651</td>\n",
       "      <td>2.070636</td>\n",
       "      <td>2.771499</td>\n",
       "      <td>10.673824</td>\n",
       "      <td>34.457852</td>\n",
       "      <td>5.892358</td>\n",
       "      <td>10.569807</td>\n",
       "      <td>1.150082</td>\n",
       "      <td>28793.672193</td>\n",
       "      <td>14191.277833</td>\n",
       "      <td>0.611408</td>\n",
       "      <td>490.804555</td>\n",
       "      <td>0.770255</td>\n",
       "      <td>517.980900</td>\n",
       "      <td>180.888634</td>\n",
       "    </tr>\n",
       "    <tr>\n",
       "      <td>std</td>\n",
       "      <td>5.682529</td>\n",
       "      <td>1.088701e+07</td>\n",
       "      <td>35.654083</td>\n",
       "      <td>1.078405</td>\n",
       "      <td>1.261056</td>\n",
       "      <td>6.597173</td>\n",
       "      <td>22.030445</td>\n",
       "      <td>4.885249</td>\n",
       "      <td>5.905438</td>\n",
       "      <td>1.071300</td>\n",
       "      <td>12630.880622</td>\n",
       "      <td>8608.386210</td>\n",
       "      <td>0.802074</td>\n",
       "      <td>342.317995</td>\n",
       "      <td>0.938346</td>\n",
       "      <td>277.720643</td>\n",
       "      <td>219.727988</td>\n",
       "    </tr>\n",
       "    <tr>\n",
       "      <td>min</td>\n",
       "      <td>0.000000</td>\n",
       "      <td>1.219000e+04</td>\n",
       "      <td>12.000000</td>\n",
       "      <td>0.000000</td>\n",
       "      <td>1.000000</td>\n",
       "      <td>1.000000</td>\n",
       "      <td>2.000000</td>\n",
       "      <td>1.000000</td>\n",
       "      <td>1.300000</td>\n",
       "      <td>0.000000</td>\n",
       "      <td>0.000000</td>\n",
       "      <td>181.000000</td>\n",
       "      <td>0.000000</td>\n",
       "      <td>1.000000</td>\n",
       "      <td>0.000000</td>\n",
       "      <td>13.000000</td>\n",
       "      <td>1.000000</td>\n",
       "    </tr>\n",
       "    <tr>\n",
       "      <td>25%</td>\n",
       "      <td>6.000000</td>\n",
       "      <td>3.400000e+06</td>\n",
       "      <td>40.000000</td>\n",
       "      <td>1.000000</td>\n",
       "      <td>2.520000</td>\n",
       "      <td>5.000000</td>\n",
       "      <td>18.600000</td>\n",
       "      <td>2.000000</td>\n",
       "      <td>7.000000</td>\n",
       "      <td>0.000000</td>\n",
       "      <td>18585.000000</td>\n",
       "      <td>9238.000000</td>\n",
       "      <td>0.000000</td>\n",
       "      <td>288.000000</td>\n",
       "      <td>0.000000</td>\n",
       "      <td>294.000000</td>\n",
       "      <td>45.000000</td>\n",
       "    </tr>\n",
       "    <tr>\n",
       "      <td>50%</td>\n",
       "      <td>9.000000</td>\n",
       "      <td>4.650000e+06</td>\n",
       "      <td>52.000000</td>\n",
       "      <td>2.000000</td>\n",
       "      <td>2.650000</td>\n",
       "      <td>9.000000</td>\n",
       "      <td>30.000000</td>\n",
       "      <td>4.000000</td>\n",
       "      <td>9.100000</td>\n",
       "      <td>1.000000</td>\n",
       "      <td>26726.000000</td>\n",
       "      <td>13098.500000</td>\n",
       "      <td>0.000000</td>\n",
       "      <td>455.000000</td>\n",
       "      <td>1.000000</td>\n",
       "      <td>502.000000</td>\n",
       "      <td>95.000000</td>\n",
       "    </tr>\n",
       "    <tr>\n",
       "      <td>75%</td>\n",
       "      <td>14.000000</td>\n",
       "      <td>6.800000e+06</td>\n",
       "      <td>69.900000</td>\n",
       "      <td>3.000000</td>\n",
       "      <td>2.800000</td>\n",
       "      <td>16.000000</td>\n",
       "      <td>42.300000</td>\n",
       "      <td>8.000000</td>\n",
       "      <td>12.000000</td>\n",
       "      <td>2.000000</td>\n",
       "      <td>37273.000000</td>\n",
       "      <td>16293.000000</td>\n",
       "      <td>1.000000</td>\n",
       "      <td>612.000000</td>\n",
       "      <td>1.000000</td>\n",
       "      <td>729.000000</td>\n",
       "      <td>232.000000</td>\n",
       "    </tr>\n",
       "    <tr>\n",
       "      <td>max</td>\n",
       "      <td>50.000000</td>\n",
       "      <td>7.630000e+08</td>\n",
       "      <td>900.000000</td>\n",
       "      <td>19.000000</td>\n",
       "      <td>100.000000</td>\n",
       "      <td>60.000000</td>\n",
       "      <td>409.700000</td>\n",
       "      <td>33.000000</td>\n",
       "      <td>112.000000</td>\n",
       "      <td>5.000000</td>\n",
       "      <td>84869.000000</td>\n",
       "      <td>65968.000000</td>\n",
       "      <td>3.000000</td>\n",
       "      <td>3190.000000</td>\n",
       "      <td>3.000000</td>\n",
       "      <td>1344.000000</td>\n",
       "      <td>1580.000000</td>\n",
       "    </tr>\n",
       "  </tbody>\n",
       "</table>\n",
       "</div>"
      ],
      "text/plain": [
       "       total_images    last_price    total_area         rooms  ceiling_height  \\\n",
       "count  23699.000000  2.369900e+04  23699.000000  23699.000000    14504.000000   \n",
       "mean       9.858475  6.541549e+06     60.348651      2.070636        2.771499   \n",
       "std        5.682529  1.088701e+07     35.654083      1.078405        1.261056   \n",
       "min        0.000000  1.219000e+04     12.000000      0.000000        1.000000   \n",
       "25%        6.000000  3.400000e+06     40.000000      1.000000        2.520000   \n",
       "50%        9.000000  4.650000e+06     52.000000      2.000000        2.650000   \n",
       "75%       14.000000  6.800000e+06     69.900000      3.000000        2.800000   \n",
       "max       50.000000  7.630000e+08    900.000000     19.000000      100.000000   \n",
       "\n",
       "       floors_total   living_area         floor  kitchen_area       balcony  \\\n",
       "count  23613.000000  21796.000000  23699.000000  21421.000000  12180.000000   \n",
       "mean      10.673824     34.457852      5.892358     10.569807      1.150082   \n",
       "std        6.597173     22.030445      4.885249      5.905438      1.071300   \n",
       "min        1.000000      2.000000      1.000000      1.300000      0.000000   \n",
       "25%        5.000000     18.600000      2.000000      7.000000      0.000000   \n",
       "50%        9.000000     30.000000      4.000000      9.100000      1.000000   \n",
       "75%       16.000000     42.300000      8.000000     12.000000      2.000000   \n",
       "max       60.000000    409.700000     33.000000    112.000000      5.000000   \n",
       "\n",
       "       airports_nearest  cityCenters_nearest  parks_around3000  parks_nearest  \\\n",
       "count      18157.000000         18180.000000      18181.000000    8079.000000   \n",
       "mean       28793.672193         14191.277833          0.611408     490.804555   \n",
       "std        12630.880622          8608.386210          0.802074     342.317995   \n",
       "min            0.000000           181.000000          0.000000       1.000000   \n",
       "25%        18585.000000          9238.000000          0.000000     288.000000   \n",
       "50%        26726.000000         13098.500000          0.000000     455.000000   \n",
       "75%        37273.000000         16293.000000          1.000000     612.000000   \n",
       "max        84869.000000         65968.000000          3.000000    3190.000000   \n",
       "\n",
       "       ponds_around3000  ponds_nearest  days_exposition  \n",
       "count      18181.000000    9110.000000     20518.000000  \n",
       "mean           0.770255     517.980900       180.888634  \n",
       "std            0.938346     277.720643       219.727988  \n",
       "min            0.000000      13.000000         1.000000  \n",
       "25%            0.000000     294.000000        45.000000  \n",
       "50%            1.000000     502.000000        95.000000  \n",
       "75%            1.000000     729.000000       232.000000  \n",
       "max            3.000000    1344.000000      1580.000000  "
      ]
     },
     "execution_count": 3,
     "metadata": {},
     "output_type": "execute_result"
    }
   ],
   "source": [
    "# посмотрим данные по таблице перед предобработкой, чтобы поближе с ними ознакомиться.\n",
    "data.describe()"
   ]
  },
  {
   "cell_type": "markdown",
   "metadata": {},
   "source": [
    "<div class=\"alert alert-success\">\n",
    "<b>Комментарий ревьюера:</b>\n",
    "\n",
    "Кстати для удобства изучения таблицы мы можем транспонировать расчеты `data.describe().T`    \n",
    "</div>"
   ]
  },
  {
   "cell_type": "markdown",
   "metadata": {},
   "source": [
    "### Вывод"
   ]
  },
  {
   "cell_type": "markdown",
   "metadata": {},
   "source": [
    "При изучении данных видим явные пропуски и не соответствия форматов данных в столбцах.\n",
    "Регулярно **повторяется значение 23699** - вероятно, это максимальное количество строк в датасете. К этому значению нужно привести все столбцы в датасете.\n",
    "\n",
    "- first_day_exposition - object - должен быть тип datetime \n",
    "- ceiling_height - нулевые значения\n",
    "- floors_total - должен быть тип int, т.к. количество этажей - целое значение + нулевые значения\n",
    "- is_apartment - должен быть тип bool + нулевые значения\n",
    "- living_area - нулевые значения\n",
    "- kitchen_area - нулевые значения\n",
    "- balcony - нулевые значения\n",
    "- locality_name - нулевые значения\n",
    "- airports_nearest - нулевые значения\n",
    "- cityCenters_nearest - нулевые значения\n",
    "- parks_around3000 - тип должен быть int + нулевые значения\n",
    "- parks_nearest - нулевые значения\n",
    "- ponds_around3000 - тип должен быть int + нулевые значения\n",
    "- ponds_nearest - нулевые значения\n",
    "- days_exposition - тип должен быть int + нулевые значения\n",
    "\n",
    "Причина наличия пропусков по каждому столбцу нам не известна."
   ]
  },
  {
   "cell_type": "markdown",
   "metadata": {},
   "source": [
    "<div class=\"alert alert-success\">\n",
    "<b>Комментарий ревьюера:</b>\n",
    "\n",
    "Достаточно детально изучили наши первичные данные, давай теперь их обработаем. \n",
    "</div>"
   ]
  },
  {
   "cell_type": "markdown",
   "metadata": {},
   "source": [
    "## Предобработка данных"
   ]
  },
  {
   "cell_type": "markdown",
   "metadata": {},
   "source": [
    "Сначала займемся обработкой проущенных значений - заменим их там, где возможно, а также изменим типы данных на целочисленные."
   ]
  },
  {
   "cell_type": "code",
   "execution_count": 4,
   "metadata": {},
   "outputs": [
    {
     "data": {
      "text/html": [
       "<div>\n",
       "<style scoped>\n",
       "    .dataframe tbody tr th:only-of-type {\n",
       "        vertical-align: middle;\n",
       "    }\n",
       "\n",
       "    .dataframe tbody tr th {\n",
       "        vertical-align: top;\n",
       "    }\n",
       "\n",
       "    .dataframe thead th {\n",
       "        text-align: right;\n",
       "    }\n",
       "</style>\n",
       "<table border=\"1\" class=\"dataframe\">\n",
       "  <thead>\n",
       "    <tr style=\"text-align: right;\">\n",
       "      <th></th>\n",
       "      <th>total_images</th>\n",
       "      <th>last_price</th>\n",
       "      <th>total_area</th>\n",
       "      <th>first_day_exposition</th>\n",
       "      <th>rooms</th>\n",
       "      <th>ceiling_height</th>\n",
       "      <th>floors_total</th>\n",
       "      <th>living_area</th>\n",
       "      <th>floor</th>\n",
       "      <th>is_apartment</th>\n",
       "      <th>...</th>\n",
       "      <th>kitchen_area</th>\n",
       "      <th>balcony</th>\n",
       "      <th>locality_name</th>\n",
       "      <th>airports_nearest</th>\n",
       "      <th>cityCenters_nearest</th>\n",
       "      <th>parks_around3000</th>\n",
       "      <th>parks_nearest</th>\n",
       "      <th>ponds_around3000</th>\n",
       "      <th>ponds_nearest</th>\n",
       "      <th>days_exposition</th>\n",
       "    </tr>\n",
       "  </thead>\n",
       "  <tbody>\n",
       "    <tr>\n",
       "      <td>0</td>\n",
       "      <td>20</td>\n",
       "      <td>13000000</td>\n",
       "      <td>108</td>\n",
       "      <td>2019-03-07T00:00:00</td>\n",
       "      <td>3</td>\n",
       "      <td>2.70</td>\n",
       "      <td>16.0</td>\n",
       "      <td>51.0</td>\n",
       "      <td>8</td>\n",
       "      <td>False</td>\n",
       "      <td>...</td>\n",
       "      <td>25.0</td>\n",
       "      <td>0</td>\n",
       "      <td>Санкт-Петербург</td>\n",
       "      <td>18863.0</td>\n",
       "      <td>16028.0</td>\n",
       "      <td>1.0</td>\n",
       "      <td>482.0</td>\n",
       "      <td>2.0</td>\n",
       "      <td>755.0</td>\n",
       "      <td>0</td>\n",
       "    </tr>\n",
       "    <tr>\n",
       "      <td>1</td>\n",
       "      <td>7</td>\n",
       "      <td>3350000</td>\n",
       "      <td>40</td>\n",
       "      <td>2018-12-04T00:00:00</td>\n",
       "      <td>1</td>\n",
       "      <td>NaN</td>\n",
       "      <td>11.0</td>\n",
       "      <td>18.6</td>\n",
       "      <td>1</td>\n",
       "      <td>False</td>\n",
       "      <td>...</td>\n",
       "      <td>11.0</td>\n",
       "      <td>2</td>\n",
       "      <td>посёлок Шушары</td>\n",
       "      <td>12817.0</td>\n",
       "      <td>18603.0</td>\n",
       "      <td>0.0</td>\n",
       "      <td>NaN</td>\n",
       "      <td>0.0</td>\n",
       "      <td>NaN</td>\n",
       "      <td>81</td>\n",
       "    </tr>\n",
       "    <tr>\n",
       "      <td>2</td>\n",
       "      <td>10</td>\n",
       "      <td>5196000</td>\n",
       "      <td>56</td>\n",
       "      <td>2015-08-20T00:00:00</td>\n",
       "      <td>2</td>\n",
       "      <td>NaN</td>\n",
       "      <td>5.0</td>\n",
       "      <td>34.3</td>\n",
       "      <td>4</td>\n",
       "      <td>False</td>\n",
       "      <td>...</td>\n",
       "      <td>8.3</td>\n",
       "      <td>0</td>\n",
       "      <td>Санкт-Петербург</td>\n",
       "      <td>21741.0</td>\n",
       "      <td>13933.0</td>\n",
       "      <td>1.0</td>\n",
       "      <td>90.0</td>\n",
       "      <td>2.0</td>\n",
       "      <td>574.0</td>\n",
       "      <td>558</td>\n",
       "    </tr>\n",
       "    <tr>\n",
       "      <td>3</td>\n",
       "      <td>0</td>\n",
       "      <td>64900000</td>\n",
       "      <td>159</td>\n",
       "      <td>2015-07-24T00:00:00</td>\n",
       "      <td>3</td>\n",
       "      <td>NaN</td>\n",
       "      <td>14.0</td>\n",
       "      <td>NaN</td>\n",
       "      <td>9</td>\n",
       "      <td>False</td>\n",
       "      <td>...</td>\n",
       "      <td>NaN</td>\n",
       "      <td>0</td>\n",
       "      <td>Санкт-Петербург</td>\n",
       "      <td>28098.0</td>\n",
       "      <td>6800.0</td>\n",
       "      <td>2.0</td>\n",
       "      <td>84.0</td>\n",
       "      <td>3.0</td>\n",
       "      <td>234.0</td>\n",
       "      <td>424</td>\n",
       "    </tr>\n",
       "    <tr>\n",
       "      <td>4</td>\n",
       "      <td>2</td>\n",
       "      <td>10000000</td>\n",
       "      <td>100</td>\n",
       "      <td>2018-06-19T00:00:00</td>\n",
       "      <td>2</td>\n",
       "      <td>3.03</td>\n",
       "      <td>14.0</td>\n",
       "      <td>32.0</td>\n",
       "      <td>13</td>\n",
       "      <td>False</td>\n",
       "      <td>...</td>\n",
       "      <td>41.0</td>\n",
       "      <td>0</td>\n",
       "      <td>Санкт-Петербург</td>\n",
       "      <td>31856.0</td>\n",
       "      <td>8098.0</td>\n",
       "      <td>2.0</td>\n",
       "      <td>112.0</td>\n",
       "      <td>1.0</td>\n",
       "      <td>48.0</td>\n",
       "      <td>121</td>\n",
       "    </tr>\n",
       "  </tbody>\n",
       "</table>\n",
       "<p>5 rows × 22 columns</p>\n",
       "</div>"
      ],
      "text/plain": [
       "   total_images  last_price  total_area first_day_exposition  rooms  \\\n",
       "0            20    13000000         108  2019-03-07T00:00:00      3   \n",
       "1             7     3350000          40  2018-12-04T00:00:00      1   \n",
       "2            10     5196000          56  2015-08-20T00:00:00      2   \n",
       "3             0    64900000         159  2015-07-24T00:00:00      3   \n",
       "4             2    10000000         100  2018-06-19T00:00:00      2   \n",
       "\n",
       "   ceiling_height  floors_total  living_area  floor  is_apartment  ...  \\\n",
       "0            2.70          16.0         51.0      8         False  ...   \n",
       "1             NaN          11.0         18.6      1         False  ...   \n",
       "2             NaN           5.0         34.3      4         False  ...   \n",
       "3             NaN          14.0          NaN      9         False  ...   \n",
       "4            3.03          14.0         32.0     13         False  ...   \n",
       "\n",
       "   kitchen_area  balcony    locality_name  airports_nearest  \\\n",
       "0          25.0        0  Санкт-Петербург           18863.0   \n",
       "1          11.0        2   посёлок Шушары           12817.0   \n",
       "2           8.3        0  Санкт-Петербург           21741.0   \n",
       "3           NaN        0  Санкт-Петербург           28098.0   \n",
       "4          41.0        0  Санкт-Петербург           31856.0   \n",
       "\n",
       "  cityCenters_nearest  parks_around3000  parks_nearest  ponds_around3000  \\\n",
       "0             16028.0               1.0          482.0               2.0   \n",
       "1             18603.0               0.0            NaN               0.0   \n",
       "2             13933.0               1.0           90.0               2.0   \n",
       "3              6800.0               2.0           84.0               3.0   \n",
       "4              8098.0               2.0          112.0               1.0   \n",
       "\n",
       "   ponds_nearest  days_exposition  \n",
       "0          755.0                0  \n",
       "1            NaN               81  \n",
       "2          574.0              558  \n",
       "3          234.0              424  \n",
       "4           48.0              121  \n",
       "\n",
       "[5 rows x 22 columns]"
      ]
     },
     "execution_count": 4,
     "metadata": {},
     "output_type": "execute_result"
    }
   ],
   "source": [
    "data['days_exposition'] = data['days_exposition'].fillna(0).astype('int') # дни у нас целочисленное значение\n",
    "data['balcony'] = data['balcony'].fillna(0).astype('int') # количество валконов - целое число. Если балкон не указан, вероятно его нет и логично заменииь на 0.\n",
    "\n",
    "data['last_price'] = data['last_price'].astype('int') #для удобства лучше работать с целочисленными значением\n",
    "data['total_area'] = data['total_area'].astype('int') #для удобства лучше работать с целочисленными значением\n",
    "data['is_apartment'] = data['is_apartment'].fillna(False) # 2775 записей в датасете про аппартаменты. из общего количества строк это 11.7%, что вполне соответствует ожиданиям ( не могут быт ьвсестрока аппартаментами). Мы можем считать, что отсутствующие значения в строках столбца просто не заполнены, потмоу что жилье не является аппартаментом, поэтому подставим значение False\n",
    "data.head(5)\n"
   ]
  },
  {
   "cell_type": "markdown",
   "metadata": {},
   "source": [
    "<div class=\"alert alert-success\">\n",
    "<b>Комментарий ревьюера:</b>\n",
    "\n",
    "В том числе метод `fillna` и `astype` можно применять к нескольким столбцам одновременно.\n",
    "    \n",
    "Если столбцов более 2–ух, то рекомендую применять цикл `for`.\n",
    "    \n",
    "Пример: \n",
    "    \n",
    "`df.astype({ \"col1\": \"float64\", \"col2\": \"int64\"})`\n",
    "    \n",
    "</div>"
   ]
  },
  {
   "cell_type": "markdown",
   "metadata": {},
   "source": [
    "```python\n",
    "\n",
    "columns = [col1, col2, col3]\n",
    "\n",
    "for i in columns:\n",
    "    df[i] = df[i].fillna(0)\n",
    "\n",
    "```"
   ]
  },
  {
   "cell_type": "markdown",
   "metadata": {},
   "source": [
    "<div class=\"alert alert-info\"> <b>Комментарий студента:</b> Это что за магия вне Хогвардса вообще? Как же мног оеще предстоит изучить! Спасибо!</div> "
   ]
  },
  {
   "cell_type": "markdown",
   "metadata": {},
   "source": [
    "<div class=\"alert alert-success\">\n",
    "<b>Комментарий ревьюера (2):</b>\n",
    "\n",
    "Дамбалдор разрешил её использовать 😁😁😁 \n",
    "    \n",
    "    \n",
    "    \n",
    "Да, информации очень много иногда и не знаешь как поместить все в себя быстрее – программирование это вечное обучение 😁\n",
    "    \n",
    "</div>"
   ]
  },
  {
   "cell_type": "markdown",
   "metadata": {},
   "source": [
    "Столбцы, где поменять значения мы не можем, пока не известна причина пропусков (или иная причина невозможности обработки):\n",
    "- locality_name - не известна причина отсутствия данных\n",
    "- floors_total - потерянных данных 0,4%, могли бы заменить данные на 0, но мы не знаем причину пропусков (отсмотрев все строки спропущенными значениями (.isna) явных взаимосвязей не нашли.\n",
    "- airports_nearest,\tcityCenters_nearest, parks_around3000, parks_nearest, ponds_around3000, ponds_nearest - в этих столбцах много пропущенных строк, заменять значения по какому-либо признаку мы не можем"
   ]
  },
  {
   "cell_type": "markdown",
   "metadata": {},
   "source": [
    "Изменим **отображение формата даты**, поскольку часы и минуты в рамках данного исследования не важны, к тому же данные о них указаны как 00:00."
   ]
  },
  {
   "cell_type": "code",
   "execution_count": 5,
   "metadata": {},
   "outputs": [],
   "source": [
    "data['first_day_exposition'] = pd.to_datetime(data['first_day_exposition'], format = '%Y-%m-%d')"
   ]
  },
  {
   "cell_type": "markdown",
   "metadata": {},
   "source": [
    "Если сделать выборку по airports_nearest и проверить пропущенные значения, то увидим, что часто вместе с пропусками в этом столбце есть пропуски и в других - cityCenters_nearest, parks_around3000, parks_nearest, ponds_around3000, ponds_nearest - вероятно, эти столбцы для заполнения были добавлены много позже добавления объявлений и поэтому данные в них отсутствуют. Вероятно, если бы у нас были данные об адресе объектов, мы могли бы сопоставить их с данными с онлайн карт (получить данные парсингом, или ручным изучением и вводом, но это слишком долго), н ов рамках этого исследования нет такой необходимости в заполнении этих значений."
   ]
  },
  {
   "cell_type": "code",
   "execution_count": 6,
   "metadata": {},
   "outputs": [
    {
     "data": {
      "text/html": [
       "<div>\n",
       "<style scoped>\n",
       "    .dataframe tbody tr th:only-of-type {\n",
       "        vertical-align: middle;\n",
       "    }\n",
       "\n",
       "    .dataframe tbody tr th {\n",
       "        vertical-align: top;\n",
       "    }\n",
       "\n",
       "    .dataframe thead th {\n",
       "        text-align: right;\n",
       "    }\n",
       "</style>\n",
       "<table border=\"1\" class=\"dataframe\">\n",
       "  <thead>\n",
       "    <tr style=\"text-align: right;\">\n",
       "      <th></th>\n",
       "      <th>total_images</th>\n",
       "      <th>last_price</th>\n",
       "      <th>total_area</th>\n",
       "      <th>first_day_exposition</th>\n",
       "      <th>rooms</th>\n",
       "      <th>ceiling_height</th>\n",
       "      <th>floors_total</th>\n",
       "      <th>living_area</th>\n",
       "      <th>floor</th>\n",
       "      <th>is_apartment</th>\n",
       "      <th>...</th>\n",
       "      <th>kitchen_area</th>\n",
       "      <th>balcony</th>\n",
       "      <th>locality_name</th>\n",
       "      <th>airports_nearest</th>\n",
       "      <th>cityCenters_nearest</th>\n",
       "      <th>parks_around3000</th>\n",
       "      <th>parks_nearest</th>\n",
       "      <th>ponds_around3000</th>\n",
       "      <th>ponds_nearest</th>\n",
       "      <th>days_exposition</th>\n",
       "    </tr>\n",
       "  </thead>\n",
       "  <tbody>\n",
       "    <tr>\n",
       "      <td>5</td>\n",
       "      <td>10</td>\n",
       "      <td>2890000</td>\n",
       "      <td>30</td>\n",
       "      <td>2018-09-10</td>\n",
       "      <td>1</td>\n",
       "      <td>NaN</td>\n",
       "      <td>12.0</td>\n",
       "      <td>14.40</td>\n",
       "      <td>5</td>\n",
       "      <td>False</td>\n",
       "      <td>...</td>\n",
       "      <td>9.10</td>\n",
       "      <td>0</td>\n",
       "      <td>городской посёлок Янино-1</td>\n",
       "      <td>NaN</td>\n",
       "      <td>NaN</td>\n",
       "      <td>NaN</td>\n",
       "      <td>NaN</td>\n",
       "      <td>NaN</td>\n",
       "      <td>NaN</td>\n",
       "      <td>55</td>\n",
       "    </tr>\n",
       "    <tr>\n",
       "      <td>8</td>\n",
       "      <td>20</td>\n",
       "      <td>2900000</td>\n",
       "      <td>33</td>\n",
       "      <td>2018-05-23</td>\n",
       "      <td>1</td>\n",
       "      <td>NaN</td>\n",
       "      <td>27.0</td>\n",
       "      <td>15.43</td>\n",
       "      <td>26</td>\n",
       "      <td>False</td>\n",
       "      <td>...</td>\n",
       "      <td>8.81</td>\n",
       "      <td>0</td>\n",
       "      <td>посёлок Мурино</td>\n",
       "      <td>NaN</td>\n",
       "      <td>NaN</td>\n",
       "      <td>NaN</td>\n",
       "      <td>NaN</td>\n",
       "      <td>NaN</td>\n",
       "      <td>NaN</td>\n",
       "      <td>189</td>\n",
       "    </tr>\n",
       "    <tr>\n",
       "      <td>12</td>\n",
       "      <td>10</td>\n",
       "      <td>3890000</td>\n",
       "      <td>54</td>\n",
       "      <td>2016-06-30</td>\n",
       "      <td>2</td>\n",
       "      <td>NaN</td>\n",
       "      <td>5.0</td>\n",
       "      <td>30.00</td>\n",
       "      <td>5</td>\n",
       "      <td>False</td>\n",
       "      <td>...</td>\n",
       "      <td>9.00</td>\n",
       "      <td>0</td>\n",
       "      <td>Сертолово</td>\n",
       "      <td>NaN</td>\n",
       "      <td>NaN</td>\n",
       "      <td>NaN</td>\n",
       "      <td>NaN</td>\n",
       "      <td>NaN</td>\n",
       "      <td>NaN</td>\n",
       "      <td>90</td>\n",
       "    </tr>\n",
       "    <tr>\n",
       "      <td>22</td>\n",
       "      <td>20</td>\n",
       "      <td>5000000</td>\n",
       "      <td>58</td>\n",
       "      <td>2017-04-24</td>\n",
       "      <td>2</td>\n",
       "      <td>2.75</td>\n",
       "      <td>25.0</td>\n",
       "      <td>30.00</td>\n",
       "      <td>15</td>\n",
       "      <td>False</td>\n",
       "      <td>...</td>\n",
       "      <td>11.00</td>\n",
       "      <td>2</td>\n",
       "      <td>деревня Кудрово</td>\n",
       "      <td>NaN</td>\n",
       "      <td>NaN</td>\n",
       "      <td>NaN</td>\n",
       "      <td>NaN</td>\n",
       "      <td>NaN</td>\n",
       "      <td>NaN</td>\n",
       "      <td>60</td>\n",
       "    </tr>\n",
       "    <tr>\n",
       "      <td>30</td>\n",
       "      <td>12</td>\n",
       "      <td>2200000</td>\n",
       "      <td>32</td>\n",
       "      <td>2018-02-19</td>\n",
       "      <td>1</td>\n",
       "      <td>NaN</td>\n",
       "      <td>9.0</td>\n",
       "      <td>NaN</td>\n",
       "      <td>2</td>\n",
       "      <td>False</td>\n",
       "      <td>...</td>\n",
       "      <td>NaN</td>\n",
       "      <td>0</td>\n",
       "      <td>Коммунар</td>\n",
       "      <td>NaN</td>\n",
       "      <td>NaN</td>\n",
       "      <td>NaN</td>\n",
       "      <td>NaN</td>\n",
       "      <td>NaN</td>\n",
       "      <td>NaN</td>\n",
       "      <td>63</td>\n",
       "    </tr>\n",
       "    <tr>\n",
       "      <td>...</td>\n",
       "      <td>...</td>\n",
       "      <td>...</td>\n",
       "      <td>...</td>\n",
       "      <td>...</td>\n",
       "      <td>...</td>\n",
       "      <td>...</td>\n",
       "      <td>...</td>\n",
       "      <td>...</td>\n",
       "      <td>...</td>\n",
       "      <td>...</td>\n",
       "      <td>...</td>\n",
       "      <td>...</td>\n",
       "      <td>...</td>\n",
       "      <td>...</td>\n",
       "      <td>...</td>\n",
       "      <td>...</td>\n",
       "      <td>...</td>\n",
       "      <td>...</td>\n",
       "      <td>...</td>\n",
       "      <td>...</td>\n",
       "      <td>...</td>\n",
       "    </tr>\n",
       "    <tr>\n",
       "      <td>23683</td>\n",
       "      <td>16</td>\n",
       "      <td>2100000</td>\n",
       "      <td>62</td>\n",
       "      <td>2018-09-18</td>\n",
       "      <td>4</td>\n",
       "      <td>2.50</td>\n",
       "      <td>5.0</td>\n",
       "      <td>45.50</td>\n",
       "      <td>3</td>\n",
       "      <td>False</td>\n",
       "      <td>...</td>\n",
       "      <td>5.50</td>\n",
       "      <td>0</td>\n",
       "      <td>посёлок Дзержинского</td>\n",
       "      <td>NaN</td>\n",
       "      <td>NaN</td>\n",
       "      <td>NaN</td>\n",
       "      <td>NaN</td>\n",
       "      <td>NaN</td>\n",
       "      <td>NaN</td>\n",
       "      <td>0</td>\n",
       "    </tr>\n",
       "    <tr>\n",
       "      <td>23692</td>\n",
       "      <td>2</td>\n",
       "      <td>1350000</td>\n",
       "      <td>30</td>\n",
       "      <td>2017-07-07</td>\n",
       "      <td>1</td>\n",
       "      <td>NaN</td>\n",
       "      <td>5.0</td>\n",
       "      <td>17.50</td>\n",
       "      <td>4</td>\n",
       "      <td>False</td>\n",
       "      <td>...</td>\n",
       "      <td>6.00</td>\n",
       "      <td>0</td>\n",
       "      <td>Тихвин</td>\n",
       "      <td>NaN</td>\n",
       "      <td>NaN</td>\n",
       "      <td>NaN</td>\n",
       "      <td>NaN</td>\n",
       "      <td>NaN</td>\n",
       "      <td>NaN</td>\n",
       "      <td>413</td>\n",
       "    </tr>\n",
       "    <tr>\n",
       "      <td>23695</td>\n",
       "      <td>14</td>\n",
       "      <td>3100000</td>\n",
       "      <td>59</td>\n",
       "      <td>2018-01-15</td>\n",
       "      <td>3</td>\n",
       "      <td>NaN</td>\n",
       "      <td>5.0</td>\n",
       "      <td>38.00</td>\n",
       "      <td>4</td>\n",
       "      <td>False</td>\n",
       "      <td>...</td>\n",
       "      <td>8.50</td>\n",
       "      <td>0</td>\n",
       "      <td>Тосно</td>\n",
       "      <td>NaN</td>\n",
       "      <td>NaN</td>\n",
       "      <td>NaN</td>\n",
       "      <td>NaN</td>\n",
       "      <td>NaN</td>\n",
       "      <td>NaN</td>\n",
       "      <td>45</td>\n",
       "    </tr>\n",
       "    <tr>\n",
       "      <td>23696</td>\n",
       "      <td>18</td>\n",
       "      <td>2500000</td>\n",
       "      <td>56</td>\n",
       "      <td>2018-02-11</td>\n",
       "      <td>2</td>\n",
       "      <td>NaN</td>\n",
       "      <td>3.0</td>\n",
       "      <td>29.70</td>\n",
       "      <td>1</td>\n",
       "      <td>False</td>\n",
       "      <td>...</td>\n",
       "      <td>NaN</td>\n",
       "      <td>0</td>\n",
       "      <td>село Рождествено</td>\n",
       "      <td>NaN</td>\n",
       "      <td>NaN</td>\n",
       "      <td>NaN</td>\n",
       "      <td>NaN</td>\n",
       "      <td>NaN</td>\n",
       "      <td>NaN</td>\n",
       "      <td>0</td>\n",
       "    </tr>\n",
       "    <tr>\n",
       "      <td>23698</td>\n",
       "      <td>4</td>\n",
       "      <td>1350000</td>\n",
       "      <td>32</td>\n",
       "      <td>2017-07-21</td>\n",
       "      <td>1</td>\n",
       "      <td>2.50</td>\n",
       "      <td>5.0</td>\n",
       "      <td>12.30</td>\n",
       "      <td>1</td>\n",
       "      <td>False</td>\n",
       "      <td>...</td>\n",
       "      <td>9.00</td>\n",
       "      <td>0</td>\n",
       "      <td>поселок Новый Учхоз</td>\n",
       "      <td>NaN</td>\n",
       "      <td>NaN</td>\n",
       "      <td>NaN</td>\n",
       "      <td>NaN</td>\n",
       "      <td>NaN</td>\n",
       "      <td>NaN</td>\n",
       "      <td>0</td>\n",
       "    </tr>\n",
       "  </tbody>\n",
       "</table>\n",
       "<p>5542 rows × 22 columns</p>\n",
       "</div>"
      ],
      "text/plain": [
       "       total_images  last_price  total_area first_day_exposition  rooms  \\\n",
       "5                10     2890000          30           2018-09-10      1   \n",
       "8                20     2900000          33           2018-05-23      1   \n",
       "12               10     3890000          54           2016-06-30      2   \n",
       "22               20     5000000          58           2017-04-24      2   \n",
       "30               12     2200000          32           2018-02-19      1   \n",
       "...             ...         ...         ...                  ...    ...   \n",
       "23683            16     2100000          62           2018-09-18      4   \n",
       "23692             2     1350000          30           2017-07-07      1   \n",
       "23695            14     3100000          59           2018-01-15      3   \n",
       "23696            18     2500000          56           2018-02-11      2   \n",
       "23698             4     1350000          32           2017-07-21      1   \n",
       "\n",
       "       ceiling_height  floors_total  living_area  floor  is_apartment  ...  \\\n",
       "5                 NaN          12.0        14.40      5         False  ...   \n",
       "8                 NaN          27.0        15.43     26         False  ...   \n",
       "12                NaN           5.0        30.00      5         False  ...   \n",
       "22               2.75          25.0        30.00     15         False  ...   \n",
       "30                NaN           9.0          NaN      2         False  ...   \n",
       "...               ...           ...          ...    ...           ...  ...   \n",
       "23683            2.50           5.0        45.50      3         False  ...   \n",
       "23692             NaN           5.0        17.50      4         False  ...   \n",
       "23695             NaN           5.0        38.00      4         False  ...   \n",
       "23696             NaN           3.0        29.70      1         False  ...   \n",
       "23698            2.50           5.0        12.30      1         False  ...   \n",
       "\n",
       "       kitchen_area  balcony              locality_name  airports_nearest  \\\n",
       "5              9.10        0  городской посёлок Янино-1               NaN   \n",
       "8              8.81        0             посёлок Мурино               NaN   \n",
       "12             9.00        0                  Сертолово               NaN   \n",
       "22            11.00        2            деревня Кудрово               NaN   \n",
       "30              NaN        0                   Коммунар               NaN   \n",
       "...             ...      ...                        ...               ...   \n",
       "23683          5.50        0       посёлок Дзержинского               NaN   \n",
       "23692          6.00        0                     Тихвин               NaN   \n",
       "23695          8.50        0                      Тосно               NaN   \n",
       "23696           NaN        0           село Рождествено               NaN   \n",
       "23698          9.00        0        поселок Новый Учхоз               NaN   \n",
       "\n",
       "      cityCenters_nearest  parks_around3000  parks_nearest  ponds_around3000  \\\n",
       "5                     NaN               NaN            NaN               NaN   \n",
       "8                     NaN               NaN            NaN               NaN   \n",
       "12                    NaN               NaN            NaN               NaN   \n",
       "22                    NaN               NaN            NaN               NaN   \n",
       "30                    NaN               NaN            NaN               NaN   \n",
       "...                   ...               ...            ...               ...   \n",
       "23683                 NaN               NaN            NaN               NaN   \n",
       "23692                 NaN               NaN            NaN               NaN   \n",
       "23695                 NaN               NaN            NaN               NaN   \n",
       "23696                 NaN               NaN            NaN               NaN   \n",
       "23698                 NaN               NaN            NaN               NaN   \n",
       "\n",
       "       ponds_nearest  days_exposition  \n",
       "5                NaN               55  \n",
       "8                NaN              189  \n",
       "12               NaN               90  \n",
       "22               NaN               60  \n",
       "30               NaN               63  \n",
       "...              ...              ...  \n",
       "23683            NaN                0  \n",
       "23692            NaN              413  \n",
       "23695            NaN               45  \n",
       "23696            NaN                0  \n",
       "23698            NaN                0  \n",
       "\n",
       "[5542 rows x 22 columns]"
      ]
     },
     "execution_count": 6,
     "metadata": {},
     "output_type": "execute_result"
    }
   ],
   "source": [
    "data[data['airports_nearest'].isna()]"
   ]
  },
  {
   "cell_type": "code",
   "execution_count": null,
   "metadata": {},
   "outputs": [],
   "source": []
  },
  {
   "cell_type": "markdown",
   "metadata": {},
   "source": [
    "## Расчёты и добавление результатов в таблицу"
   ]
  },
  {
   "cell_type": "markdown",
   "metadata": {},
   "source": [
    "Нам необходимо рассчитать:\n",
    "- цену квадратного метра;\n",
    "- день недели, месяц и год публикации объявления;\n",
    "- этаж квартиры; варианты — первый, последний, другой;\n",
    "- соотношение жилой и общей площади, а также отношение площади кухни к общей."
   ]
  },
  {
   "cell_type": "code",
   "execution_count": 7,
   "metadata": {},
   "outputs": [
    {
     "data": {
      "text/plain": [
       "<matplotlib.axes._subplots.AxesSubplot at 0x7f99f211b990>"
      ]
     },
     "execution_count": 7,
     "metadata": {},
     "output_type": "execute_result"
    },
    {
     "data": {
      "image/png": "[encoded data removed]",
      "text/plain": [
       "<Figure size 432x288 with 1 Axes>"
      ]
     },
     "metadata": {
      "needs_background": "light"
     },
     "output_type": "display_data"
    }
   ],
   "source": [
    "import matplotlib.pyplot as plt\n",
    "data['price_per_square_meter'] = data['last_price'] / data['total_area'] #посчитаем цену квадратного метра\n",
    "data['price_per_square_meter'] = data['price_per_square_meter'].astype('int') #приведем к типу int, чтобы удобнее читать данные\n",
    "data['price_per_square_meter'].hist(bins=50, range=(1, 500000))\n"
   ]
  },
  {
   "cell_type": "markdown",
   "metadata": {},
   "source": [
    "<div class=\"alert alert-warning\">\n",
    "<b>Комментарий ревьюера:</b>\n",
    "\n",
    "Лучше всего импортировать все необходимые библиотеки в самом начале проекта. \n",
    "    \n",
    "Это общепринятый формат в программировании, ведь так проще понять какие пакеты будут использованы в нашей работе.\n",
    "    \n",
    "</div>"
   ]
  },
  {
   "cell_type": "markdown",
   "metadata": {},
   "source": [
    "Видим на графике \"нормальное распределение цены\", около 100000 за метр,  хотя есть и цены за квадратный метр выше 400000."
   ]
  },
  {
   "cell_type": "markdown",
   "metadata": {},
   "source": [
    "Далее создадим отдельные столбцы в таблице для дня недели, месяца и года публикации объявления"
   ]
  },
  {
   "cell_type": "code",
   "execution_count": 8,
   "metadata": {},
   "outputs": [
    {
     "data": {
      "text/html": [
       "<div>\n",
       "<style scoped>\n",
       "    .dataframe tbody tr th:only-of-type {\n",
       "        vertical-align: middle;\n",
       "    }\n",
       "\n",
       "    .dataframe tbody tr th {\n",
       "        vertical-align: top;\n",
       "    }\n",
       "\n",
       "    .dataframe thead th {\n",
       "        text-align: right;\n",
       "    }\n",
       "</style>\n",
       "<table border=\"1\" class=\"dataframe\">\n",
       "  <thead>\n",
       "    <tr style=\"text-align: right;\">\n",
       "      <th></th>\n",
       "      <th>total_images</th>\n",
       "      <th>last_price</th>\n",
       "      <th>total_area</th>\n",
       "      <th>first_day_exposition</th>\n",
       "      <th>rooms</th>\n",
       "      <th>ceiling_height</th>\n",
       "      <th>floors_total</th>\n",
       "      <th>living_area</th>\n",
       "      <th>floor</th>\n",
       "      <th>is_apartment</th>\n",
       "      <th>...</th>\n",
       "      <th>cityCenters_nearest</th>\n",
       "      <th>parks_around3000</th>\n",
       "      <th>parks_nearest</th>\n",
       "      <th>ponds_around3000</th>\n",
       "      <th>ponds_nearest</th>\n",
       "      <th>days_exposition</th>\n",
       "      <th>price_per_square_meter</th>\n",
       "      <th>weekday_exposition</th>\n",
       "      <th>month_exposition</th>\n",
       "      <th>year_exposition</th>\n",
       "    </tr>\n",
       "  </thead>\n",
       "  <tbody>\n",
       "    <tr>\n",
       "      <td>0</td>\n",
       "      <td>20</td>\n",
       "      <td>13000000</td>\n",
       "      <td>108</td>\n",
       "      <td>2019-03-07</td>\n",
       "      <td>3</td>\n",
       "      <td>2.7</td>\n",
       "      <td>16.0</td>\n",
       "      <td>51.0</td>\n",
       "      <td>8</td>\n",
       "      <td>False</td>\n",
       "      <td>...</td>\n",
       "      <td>16028.0</td>\n",
       "      <td>1.0</td>\n",
       "      <td>482.0</td>\n",
       "      <td>2.0</td>\n",
       "      <td>755.0</td>\n",
       "      <td>0</td>\n",
       "      <td>120370</td>\n",
       "      <td>3</td>\n",
       "      <td>3</td>\n",
       "      <td>2019</td>\n",
       "    </tr>\n",
       "    <tr>\n",
       "      <td>19759</td>\n",
       "      <td>7</td>\n",
       "      <td>4300000</td>\n",
       "      <td>35</td>\n",
       "      <td>2019-02-12</td>\n",
       "      <td>1</td>\n",
       "      <td>NaN</td>\n",
       "      <td>23.0</td>\n",
       "      <td>19.0</td>\n",
       "      <td>21</td>\n",
       "      <td>False</td>\n",
       "      <td>...</td>\n",
       "      <td>17306.0</td>\n",
       "      <td>0.0</td>\n",
       "      <td>NaN</td>\n",
       "      <td>1.0</td>\n",
       "      <td>379.0</td>\n",
       "      <td>45</td>\n",
       "      <td>122857</td>\n",
       "      <td>1</td>\n",
       "      <td>2</td>\n",
       "      <td>2019</td>\n",
       "    </tr>\n",
       "    <tr>\n",
       "      <td>6246</td>\n",
       "      <td>6</td>\n",
       "      <td>3300000</td>\n",
       "      <td>44</td>\n",
       "      <td>2019-03-25</td>\n",
       "      <td>2</td>\n",
       "      <td>25.0</td>\n",
       "      <td>5.0</td>\n",
       "      <td>31.3</td>\n",
       "      <td>5</td>\n",
       "      <td>False</td>\n",
       "      <td>...</td>\n",
       "      <td>50649.0</td>\n",
       "      <td>1.0</td>\n",
       "      <td>417.0</td>\n",
       "      <td>2.0</td>\n",
       "      <td>73.0</td>\n",
       "      <td>0</td>\n",
       "      <td>75000</td>\n",
       "      <td>0</td>\n",
       "      <td>3</td>\n",
       "      <td>2019</td>\n",
       "    </tr>\n",
       "    <tr>\n",
       "      <td>6238</td>\n",
       "      <td>9</td>\n",
       "      <td>4400000</td>\n",
       "      <td>40</td>\n",
       "      <td>2019-04-24</td>\n",
       "      <td>1</td>\n",
       "      <td>2.6</td>\n",
       "      <td>27.0</td>\n",
       "      <td>16.5</td>\n",
       "      <td>26</td>\n",
       "      <td>False</td>\n",
       "      <td>...</td>\n",
       "      <td>18787.0</td>\n",
       "      <td>0.0</td>\n",
       "      <td>NaN</td>\n",
       "      <td>0.0</td>\n",
       "      <td>NaN</td>\n",
       "      <td>3</td>\n",
       "      <td>110000</td>\n",
       "      <td>2</td>\n",
       "      <td>4</td>\n",
       "      <td>2019</td>\n",
       "    </tr>\n",
       "    <tr>\n",
       "      <td>19783</td>\n",
       "      <td>12</td>\n",
       "      <td>3900000</td>\n",
       "      <td>49</td>\n",
       "      <td>2019-04-28</td>\n",
       "      <td>4</td>\n",
       "      <td>2.5</td>\n",
       "      <td>5.0</td>\n",
       "      <td>35.1</td>\n",
       "      <td>3</td>\n",
       "      <td>False</td>\n",
       "      <td>...</td>\n",
       "      <td>12035.0</td>\n",
       "      <td>0.0</td>\n",
       "      <td>NaN</td>\n",
       "      <td>0.0</td>\n",
       "      <td>NaN</td>\n",
       "      <td>0</td>\n",
       "      <td>79591</td>\n",
       "      <td>6</td>\n",
       "      <td>4</td>\n",
       "      <td>2019</td>\n",
       "    </tr>\n",
       "  </tbody>\n",
       "</table>\n",
       "<p>5 rows × 26 columns</p>\n",
       "</div>"
      ],
      "text/plain": [
       "       total_images  last_price  total_area first_day_exposition  rooms  \\\n",
       "0                20    13000000         108           2019-03-07      3   \n",
       "19759             7     4300000          35           2019-02-12      1   \n",
       "6246              6     3300000          44           2019-03-25      2   \n",
       "6238              9     4400000          40           2019-04-24      1   \n",
       "19783            12     3900000          49           2019-04-28      4   \n",
       "\n",
       "       ceiling_height  floors_total  living_area  floor  is_apartment  ...  \\\n",
       "0                 2.7          16.0         51.0      8         False  ...   \n",
       "19759             NaN          23.0         19.0     21         False  ...   \n",
       "6246             25.0           5.0         31.3      5         False  ...   \n",
       "6238              2.6          27.0         16.5     26         False  ...   \n",
       "19783             2.5           5.0         35.1      3         False  ...   \n",
       "\n",
       "       cityCenters_nearest  parks_around3000  parks_nearest  ponds_around3000  \\\n",
       "0                  16028.0               1.0          482.0               2.0   \n",
       "19759              17306.0               0.0            NaN               1.0   \n",
       "6246               50649.0               1.0          417.0               2.0   \n",
       "6238               18787.0               0.0            NaN               0.0   \n",
       "19783              12035.0               0.0            NaN               0.0   \n",
       "\n",
       "      ponds_nearest  days_exposition  price_per_square_meter  \\\n",
       "0             755.0                0                  120370   \n",
       "19759         379.0               45                  122857   \n",
       "6246           73.0                0                   75000   \n",
       "6238            NaN                3                  110000   \n",
       "19783           NaN                0                   79591   \n",
       "\n",
       "       weekday_exposition  month_exposition  year_exposition  \n",
       "0                       3                 3             2019  \n",
       "19759                   1                 2             2019  \n",
       "6246                    0                 3             2019  \n",
       "6238                    2                 4             2019  \n",
       "19783                   6                 4             2019  \n",
       "\n",
       "[5 rows x 26 columns]"
      ]
     },
     "execution_count": 8,
     "metadata": {},
     "output_type": "execute_result"
    }
   ],
   "source": [
    "data['weekday_exposition'] = data['first_day_exposition'].dt.weekday #столбец дня недели\n",
    "data['month_exposition'] = data['first_day_exposition'].dt.month #столбец месяца\n",
    "data['year_exposition'] = data['first_day_exposition'].dt.year #столбец года\n",
    "data.sort_values('year_exposition', ascending=False).head(5)"
   ]
  },
  {
   "cell_type": "markdown",
   "metadata": {},
   "source": [
    "Отсортировали данные по году добавления данных, видимо что первый год 2014, последний 2019, то ест ьмы изучаем данные за 6 лет. За это время, вероятно, система размещения аобъявлений не раз дорабатывалась, появлялись новые столбцы и данные, и поэтому ( врамках гипотезы) у нас много пропусков в некоторых столбцах."
   ]
  },
  {
   "cell_type": "markdown",
   "metadata": {},
   "source": [
    "Сделаем разбивку по этажам квартиры как сказано в условии - первый, последний, другой с помощью функции и цикла."
   ]
  },
  {
   "cell_type": "code",
   "execution_count": 9,
   "metadata": {},
   "outputs": [
    {
     "data": {
      "text/html": [
       "<div>\n",
       "<style scoped>\n",
       "    .dataframe tbody tr th:only-of-type {\n",
       "        vertical-align: middle;\n",
       "    }\n",
       "\n",
       "    .dataframe tbody tr th {\n",
       "        vertical-align: top;\n",
       "    }\n",
       "\n",
       "    .dataframe thead th {\n",
       "        text-align: right;\n",
       "    }\n",
       "</style>\n",
       "<table border=\"1\" class=\"dataframe\">\n",
       "  <thead>\n",
       "    <tr style=\"text-align: right;\">\n",
       "      <th></th>\n",
       "      <th>total_images</th>\n",
       "      <th>last_price</th>\n",
       "      <th>total_area</th>\n",
       "      <th>first_day_exposition</th>\n",
       "      <th>rooms</th>\n",
       "      <th>ceiling_height</th>\n",
       "      <th>floors_total</th>\n",
       "      <th>living_area</th>\n",
       "      <th>floor</th>\n",
       "      <th>is_apartment</th>\n",
       "      <th>...</th>\n",
       "      <th>parks_around3000</th>\n",
       "      <th>parks_nearest</th>\n",
       "      <th>ponds_around3000</th>\n",
       "      <th>ponds_nearest</th>\n",
       "      <th>days_exposition</th>\n",
       "      <th>price_per_square_meter</th>\n",
       "      <th>weekday_exposition</th>\n",
       "      <th>month_exposition</th>\n",
       "      <th>year_exposition</th>\n",
       "      <th>floor_category</th>\n",
       "    </tr>\n",
       "  </thead>\n",
       "  <tbody>\n",
       "    <tr>\n",
       "      <td>0</td>\n",
       "      <td>20</td>\n",
       "      <td>13000000</td>\n",
       "      <td>108</td>\n",
       "      <td>2019-03-07</td>\n",
       "      <td>3</td>\n",
       "      <td>2.70</td>\n",
       "      <td>16.0</td>\n",
       "      <td>51.0</td>\n",
       "      <td>8</td>\n",
       "      <td>False</td>\n",
       "      <td>...</td>\n",
       "      <td>1.0</td>\n",
       "      <td>482.0</td>\n",
       "      <td>2.0</td>\n",
       "      <td>755.0</td>\n",
       "      <td>0</td>\n",
       "      <td>120370</td>\n",
       "      <td>3</td>\n",
       "      <td>3</td>\n",
       "      <td>2019</td>\n",
       "      <td>другой</td>\n",
       "    </tr>\n",
       "    <tr>\n",
       "      <td>1</td>\n",
       "      <td>7</td>\n",
       "      <td>3350000</td>\n",
       "      <td>40</td>\n",
       "      <td>2018-12-04</td>\n",
       "      <td>1</td>\n",
       "      <td>NaN</td>\n",
       "      <td>11.0</td>\n",
       "      <td>18.6</td>\n",
       "      <td>1</td>\n",
       "      <td>False</td>\n",
       "      <td>...</td>\n",
       "      <td>0.0</td>\n",
       "      <td>NaN</td>\n",
       "      <td>0.0</td>\n",
       "      <td>NaN</td>\n",
       "      <td>81</td>\n",
       "      <td>83750</td>\n",
       "      <td>1</td>\n",
       "      <td>12</td>\n",
       "      <td>2018</td>\n",
       "      <td>первый</td>\n",
       "    </tr>\n",
       "    <tr>\n",
       "      <td>2</td>\n",
       "      <td>10</td>\n",
       "      <td>5196000</td>\n",
       "      <td>56</td>\n",
       "      <td>2015-08-20</td>\n",
       "      <td>2</td>\n",
       "      <td>NaN</td>\n",
       "      <td>5.0</td>\n",
       "      <td>34.3</td>\n",
       "      <td>4</td>\n",
       "      <td>False</td>\n",
       "      <td>...</td>\n",
       "      <td>1.0</td>\n",
       "      <td>90.0</td>\n",
       "      <td>2.0</td>\n",
       "      <td>574.0</td>\n",
       "      <td>558</td>\n",
       "      <td>92785</td>\n",
       "      <td>3</td>\n",
       "      <td>8</td>\n",
       "      <td>2015</td>\n",
       "      <td>другой</td>\n",
       "    </tr>\n",
       "    <tr>\n",
       "      <td>3</td>\n",
       "      <td>0</td>\n",
       "      <td>64900000</td>\n",
       "      <td>159</td>\n",
       "      <td>2015-07-24</td>\n",
       "      <td>3</td>\n",
       "      <td>NaN</td>\n",
       "      <td>14.0</td>\n",
       "      <td>NaN</td>\n",
       "      <td>9</td>\n",
       "      <td>False</td>\n",
       "      <td>...</td>\n",
       "      <td>2.0</td>\n",
       "      <td>84.0</td>\n",
       "      <td>3.0</td>\n",
       "      <td>234.0</td>\n",
       "      <td>424</td>\n",
       "      <td>408176</td>\n",
       "      <td>4</td>\n",
       "      <td>7</td>\n",
       "      <td>2015</td>\n",
       "      <td>другой</td>\n",
       "    </tr>\n",
       "    <tr>\n",
       "      <td>4</td>\n",
       "      <td>2</td>\n",
       "      <td>10000000</td>\n",
       "      <td>100</td>\n",
       "      <td>2018-06-19</td>\n",
       "      <td>2</td>\n",
       "      <td>3.03</td>\n",
       "      <td>14.0</td>\n",
       "      <td>32.0</td>\n",
       "      <td>13</td>\n",
       "      <td>False</td>\n",
       "      <td>...</td>\n",
       "      <td>2.0</td>\n",
       "      <td>112.0</td>\n",
       "      <td>1.0</td>\n",
       "      <td>48.0</td>\n",
       "      <td>121</td>\n",
       "      <td>100000</td>\n",
       "      <td>1</td>\n",
       "      <td>6</td>\n",
       "      <td>2018</td>\n",
       "      <td>другой</td>\n",
       "    </tr>\n",
       "  </tbody>\n",
       "</table>\n",
       "<p>5 rows × 27 columns</p>\n",
       "</div>"
      ],
      "text/plain": [
       "   total_images  last_price  total_area first_day_exposition  rooms  \\\n",
       "0            20    13000000         108           2019-03-07      3   \n",
       "1             7     3350000          40           2018-12-04      1   \n",
       "2            10     5196000          56           2015-08-20      2   \n",
       "3             0    64900000         159           2015-07-24      3   \n",
       "4             2    10000000         100           2018-06-19      2   \n",
       "\n",
       "   ceiling_height  floors_total  living_area  floor  is_apartment  ...  \\\n",
       "0            2.70          16.0         51.0      8         False  ...   \n",
       "1             NaN          11.0         18.6      1         False  ...   \n",
       "2             NaN           5.0         34.3      4         False  ...   \n",
       "3             NaN          14.0          NaN      9         False  ...   \n",
       "4            3.03          14.0         32.0     13         False  ...   \n",
       "\n",
       "   parks_around3000  parks_nearest  ponds_around3000  ponds_nearest  \\\n",
       "0               1.0          482.0               2.0          755.0   \n",
       "1               0.0            NaN               0.0            NaN   \n",
       "2               1.0           90.0               2.0          574.0   \n",
       "3               2.0           84.0               3.0          234.0   \n",
       "4               2.0          112.0               1.0           48.0   \n",
       "\n",
       "  days_exposition  price_per_square_meter  weekday_exposition  \\\n",
       "0               0                  120370                   3   \n",
       "1              81                   83750                   1   \n",
       "2             558                   92785                   3   \n",
       "3             424                  408176                   4   \n",
       "4             121                  100000                   1   \n",
       "\n",
       "   month_exposition  year_exposition  floor_category  \n",
       "0                 3             2019          другой  \n",
       "1                12             2018          первый  \n",
       "2                 8             2015          другой  \n",
       "3                 7             2015          другой  \n",
       "4                 6             2018          другой  \n",
       "\n",
       "[5 rows x 27 columns]"
      ]
     },
     "execution_count": 9,
     "metadata": {},
     "output_type": "execute_result"
    }
   ],
   "source": [
    "def floor_category(row):\n",
    "    floors_total = row['floors_total']\n",
    "    floor = row['floor']\n",
    "    try:\n",
    "        if floor == 1:\n",
    "            return 'первый'\n",
    "        elif floor == floors_total:\n",
    "            return 'последний'\n",
    "        elif 1 < floor < floors_total:\n",
    "            return 'другой'\n",
    "    except:\n",
    "        'Что-то пошло не так'\n",
    "\n",
    "\n",
    "data['floor_category'] = data.apply(floor_category, axis = 1) #категоризуем этажи с помощью функции  \n",
    "data.head(5)"
   ]
  },
  {
   "cell_type": "code",
   "execution_count": 10,
   "metadata": {},
   "outputs": [
    {
     "data": {
      "text/plain": [
       "другой       17363\n",
       "последний     3336\n",
       "первый        2917\n",
       "Name: floor_category, dtype: int64"
      ]
     },
     "execution_count": 10,
     "metadata": {},
     "output_type": "execute_result"
    }
   ],
   "source": [
    "data['floor_category'].value_counts()"
   ]
  },
  {
   "cell_type": "code",
   "execution_count": 11,
   "metadata": {},
   "outputs": [
    {
     "data": {
      "image/png": "[encoded data removed]",
      "text/plain": [
       "<Figure size 432x288 with 1 Axes>"
      ]
     },
     "metadata": {},
     "output_type": "display_data"
    }
   ],
   "source": [
    "pie_data_floor_labels = 'другой', 'последний', 'первый'\n",
    "pie_data_floor_sizes = data['floor_category'].value_counts()\n",
    "\n",
    "fig1, ax1 = plt.subplots()\n",
    "ax1.pie(pie_data_floor_sizes, labels=pie_data_floor_labels, startangle=90, autopct='%1.1f%%')\n",
    "plt.show()\n",
    "#круговая диаграмма наглядно покажет баланс в датасете по параметру этажности."
   ]
  },
  {
   "cell_type": "markdown",
   "metadata": {},
   "source": [
    "<div class=\"alert alert-success\">\n",
    "<b>Комментарий ревьюера:</b>\n",
    "\n",
    "Отличный график 👍\n",
    "    \n",
    "</div>"
   ]
  },
  {
   "cell_type": "markdown",
   "metadata": {},
   "source": [
    "Посмотрим на соотношение жилой и общей площади, а также отношение площади кухни к общей."
   ]
  },
  {
   "cell_type": "code",
   "execution_count": 12,
   "metadata": {
    "scrolled": true
   },
   "outputs": [
    {
     "data": {
      "text/plain": [
       "count    21796.000000\n",
       "mean         0.567389\n",
       "std          0.105641\n",
       "min          0.021583\n",
       "25%          0.500000\n",
       "50%          0.571429\n",
       "75%          0.640909\n",
       "max          1.008333\n",
       "Name: useful_area_ratio, dtype: float64"
      ]
     },
     "execution_count": 12,
     "metadata": {},
     "output_type": "execute_result"
    }
   ],
   "source": [
    "data['useful_area_ratio'] = data['living_area'] / data['total_area']\n",
    "data['useful_area_ratio'].describe()"
   ]
  },
  {
   "cell_type": "markdown",
   "metadata": {},
   "source": [
    "Видим, что среднее значение около 57%, стандартное отклонение около 10,5%, медианное значение практически совпадает со средним = 57%, максимальное соотношение больше 100% (скорее всего ошибка при заполнении данных), минимальное значение 2,1% (скорее всего тоже ошибка заполнения формы)."
   ]
  },
  {
   "cell_type": "code",
   "execution_count": 13,
   "metadata": {},
   "outputs": [
    {
     "data": {
      "text/plain": [
       "count    21421.000000\n",
       "mean         0.188295\n",
       "std          0.073508\n",
       "min          0.025381\n",
       "25%          0.133673\n",
       "50%          0.173077\n",
       "75%          0.233333\n",
       "max          0.787879\n",
       "Name: kitchen_area_ratio, dtype: float64"
      ]
     },
     "execution_count": 13,
     "metadata": {},
     "output_type": "execute_result"
    }
   ],
   "source": [
    "data['kitchen_area_ratio'] = data['kitchen_area'] / data['total_area']\n",
    "data['kitchen_area_ratio'].describe()"
   ]
  },
  {
   "cell_type": "markdown",
   "metadata": {},
   "source": [
    "Среднее соотношение около 18%, при этом стандартное отклонение 7,3%. Медианное значение близкое к среднему = 17,3%, максимальное соотношение 78,7%, минимальное значение 2,5%."
   ]
  },
  {
   "cell_type": "markdown",
   "metadata": {},
   "source": [
    "## Исследовательский анализ данных"
   ]
  },
  {
   "cell_type": "markdown",
   "metadata": {},
   "source": [
    "<div class=\"alert alert-success\">\n",
    "<b>Комментарий ревьюера:</b>\n",
    "\n",
    "Мы достаточно детально обработали наши данные и добавили все необходимые значения в нашу выборку. Давай теперь проведём анализ.\n",
    "    \n",
    "</div>"
   ]
  },
  {
   "cell_type": "markdown",
   "metadata": {},
   "source": [
    "*Изучите следующие параметры: площадь, цена, число комнат, высота потолков. Постройте гистограммы для каждого параметра.*"
   ]
  },
  {
   "cell_type": "markdown",
   "metadata": {},
   "source": [
    "<div class=\"alert alert-info\"> <b>Комментарий студента:</b> Ниже прописываю цикл для поиска площади, цены, числа комнат и высоты потолков. Старые свои записи ниже не удаляю. Здесь у меня возникла трудность с отображением графиков. Я не понимаю как мне сделать разный параметр range, чтобы везде адекватно отображалось. Я оставил запись как я попытался сделать и получил ошибку.  Я пытался передать значение переменной range во вложенном цикле, но у меня получалось 16 графиков и они похожие по строению. Я понимаю что я где-то в какой то мелочи туплю, но толи глаз уже все, толи впринипе я дуб. Нужна помощь.\n",
    "    \n",
    "column_list = ['total_area', 'last_price', 'rooms', 'ceiling_height']\n",
    "range_list = ['(0,350)','(0,2000000)','(0,20)','(2,5)']\n",
    "for i in range(len(column_list)):\n",
    "    for r in range(len(range_list)):\n",
    "        data.plot(y = column_list[i] , kind = 'hist', bins = 10, grid=True, figsize = (5,3))\n",
    "        plt.title(column_list[i])\n",
    "        plt.show()\n",
    "    \n",
    "</div> "
   ]
  },
  {
   "cell_type": "code",
   "execution_count": 14,
   "metadata": {
    "scrolled": true
   },
   "outputs": [
    {
     "data": {
      "image/png": "[encoded data removed]",
      "text/plain": [
       "<Figure size 360x216 with 1 Axes>"
      ]
     },
     "metadata": {
      "needs_background": "light"
     },
     "output_type": "display_data"
    },
    {
     "data": {
      "image/png": "[encoded data removed]",
      "text/plain": [
       "<Figure size 360x216 with 1 Axes>"
      ]
     },
     "metadata": {
      "needs_background": "light"
     },
     "output_type": "display_data"
    },
    {
     "data": {
      "image/png": "[encoded data removed]",
      "text/plain": [
       "<Figure size 360x216 with 1 Axes>"
      ]
     },
     "metadata": {
      "needs_background": "light"
     },
     "output_type": "display_data"
    },
    {
     "data": {
      "image/png": "[encoded data removed]",
      "text/plain": [
       "<Figure size 360x216 with 1 Axes>"
      ]
     },
     "metadata": {
      "needs_background": "light"
     },
     "output_type": "display_data"
    }
   ],
   "source": [
    "column_list = ['total_area', 'last_price', 'rooms', 'ceiling_height']\n",
    "range_list = ['(0,350)','(0,2000000)','(0,20)','(2,5)']\n",
    "for i in range(len(column_list)):\n",
    "    data.plot(y = column_list[i] , kind = 'hist', bins = 10, grid=True, figsize = (5,3))\n",
    "    plt.title(column_list[i])\n",
    "    plt.show()"
   ]
  },
  {
   "cell_type": "markdown",
   "metadata": {},
   "source": [
    "<div class=\"alert alert-success\">\n",
    "<b>Комментарий ревьюера (2):</b>\n",
    "\n",
    "Проблема была в том, что кортежи были в виде строк.\n",
    "    \n",
    "А так в целом рабочий вариант.\n",
    "    \n",
    "</div>"
   ]
  },
  {
   "cell_type": "code",
   "execution_count": 57,
   "metadata": {
    "scrolled": true
   },
   "outputs": [
    {
     "data": {
      "image/png": "[encoded data removed]",
      "text/plain": [
       "<Figure size 360x216 with 1 Axes>"
      ]
     },
     "metadata": {
      "needs_background": "light"
     },
     "output_type": "display_data"
    },
    {
     "data": {
      "image/png": "[encoded data removed]",
      "text/plain": [
       "<Figure size 360x216 with 1 Axes>"
      ]
     },
     "metadata": {
      "needs_background": "light"
     },
     "output_type": "display_data"
    },
    {
     "data": {
      "image/png": "[encoded data removed]",
      "text/plain": [
       "<Figure size 360x216 with 1 Axes>"
      ]
     },
     "metadata": {
      "needs_background": "light"
     },
     "output_type": "display_data"
    },
    {
     "data": {
      "image/png": "[encoded data removed]",
      "text/plain": [
       "<Figure size 360x216 with 1 Axes>"
      ]
     },
     "metadata": {
      "needs_background": "light"
     },
     "output_type": "display_data"
    }
   ],
   "source": [
    "column_list = ['total_area', 'last_price', 'rooms', 'ceiling_height']\n",
    "range_list = [(0,350),(0,2000000),(0,20),(2,5)]\n",
    "for i in range(len(column_list)):\n",
    "    data.plot(y = column_list[i] , kind = 'hist', bins = 10, grid=True, figsize = (5,3), range=range_list[i])\n",
    "    plt.title(column_list[i])\n",
    "    plt.show()"
   ]
  },
  {
   "cell_type": "code",
   "execution_count": 15,
   "metadata": {},
   "outputs": [
    {
     "data": {
      "text/plain": [
       "count    23699.000000\n",
       "mean        60.120511\n",
       "std         35.665822\n",
       "min         12.000000\n",
       "25%         40.000000\n",
       "50%         52.000000\n",
       "75%         69.000000\n",
       "max        900.000000\n",
       "Name: total_area, dtype: float64"
      ]
     },
     "execution_count": 15,
     "metadata": {},
     "output_type": "execute_result"
    },
    {
     "data": {
      "image/png": "[encoded data removed]",
      "text/plain": [
       "<Figure size 360x216 with 1 Axes>"
      ]
     },
     "metadata": {
      "needs_background": "light"
     },
     "output_type": "display_data"
    }
   ],
   "source": [
    "data.plot(y = 'total_area', kind = 'hist', bins = 100, grid=True, figsize = (5,3), range = (0,350))\n",
    "data['total_area'].describe()\n"
   ]
  },
  {
   "cell_type": "markdown",
   "metadata": {},
   "source": [
    "<div class=\"alert alert-success\">\n",
    "<b>Комментарий ревьюера:</b>\n",
    "\n",
    "Кстати для того чтобы подписать график мы можем использовать метод `plt.title()` и в конце кода применить `plt.show()`\n",
    "</div>"
   ]
  },
  {
   "cell_type": "markdown",
   "metadata": {},
   "source": [
    "Нормальное распределение данных, среднее значение около 60. Максимальное значение около 900, что кажется слишком большим (но всякое бывает). Восновном все предложения сосредоточены в диапозоне от 25 до 100."
   ]
  },
  {
   "cell_type": "code",
   "execution_count": 16,
   "metadata": {},
   "outputs": [
    {
     "data": {
      "text/plain": [
       "count    2.369900e+04\n",
       "mean     6.541549e+06\n",
       "std      1.088701e+07\n",
       "min      1.219000e+04\n",
       "25%      3.400000e+06\n",
       "50%      4.650000e+06\n",
       "75%      6.800000e+06\n",
       "max      7.630000e+08\n",
       "Name: last_price, dtype: float64"
      ]
     },
     "execution_count": 16,
     "metadata": {},
     "output_type": "execute_result"
    },
    {
     "data": {
      "image/png": "[encoded data removed]",
      "text/plain": [
       "<Figure size 720x360 with 1 Axes>"
      ]
     },
     "metadata": {
      "needs_background": "light"
     },
     "output_type": "display_data"
    }
   ],
   "source": [
    "data.plot(y = 'last_price', kind = 'hist', bins = 50, grid=True, range = (0,20000000), figsize = (10,5))\n",
    "data['last_price'].describe()"
   ]
  },
  {
   "cell_type": "markdown",
   "metadata": {},
   "source": [
    "<div class=\"alert alert-success\">\n",
    "<b>Комментарий ревьюера:</b>\n",
    "\n",
    "Чтобы нам в ручную не задавать параметр `range` мы можем посмотреть в открытом доступе  – как считать интерквартильный размах для нижнего и верхнего уровня нормального распределения.\n",
    "    \n",
    "https://stackoverflow.com/questions/50461349/how-to-remove-outlier-from-dataframe-using-iqr\n",
    "    \n",
    "</div>"
   ]
  },
  {
   "cell_type": "markdown",
   "metadata": {},
   "source": [
    "<div class=\"alert alert-info\"> <b>Комментарий студента:</b> Я тут много раз экспериментировал с отображением, но что то не догадался полезть в документации поискать лайфхаки... Век живи - век учись! Спасибо! </div> "
   ]
  },
  {
   "cell_type": "markdown",
   "metadata": {},
   "source": [
    "Видим нормальное распределение цены на объекты."
   ]
  },
  {
   "cell_type": "code",
   "execution_count": 17,
   "metadata": {},
   "outputs": [
    {
     "data": {
      "text/plain": [
       "count    23699.000000\n",
       "mean         2.070636\n",
       "std          1.078405\n",
       "min          0.000000\n",
       "25%          1.000000\n",
       "50%          2.000000\n",
       "75%          3.000000\n",
       "max         19.000000\n",
       "Name: rooms, dtype: float64"
      ]
     },
     "execution_count": 17,
     "metadata": {},
     "output_type": "execute_result"
    },
    {
     "data": {
      "image/png": "[encoded data removed]",
      "text/plain": [
       "<Figure size 720x216 with 1 Axes>"
      ]
     },
     "metadata": {
      "needs_background": "light"
     },
     "output_type": "display_data"
    }
   ],
   "source": [
    "data.plot(y = 'rooms', kind = 'hist', bins = 20, grid=True, figsize = (10,3), range = (0,20))\n",
    "data['rooms'].describe()\n"
   ]
  },
  {
   "cell_type": "markdown",
   "metadata": {},
   "source": [
    "<div class=\"alert alert-success\">\n",
    "<b>Комментарий ревьюера:</b>\n",
    "\n",
    "Здорово, что используешь атрибут `figsize`, чтобы увеличить наш график и сделать его более читабельным.\n",
    "    \n",
    "</div>"
   ]
  },
  {
   "cell_type": "markdown",
   "metadata": {},
   "source": [
    "В основном в продаже 1,2,3 команатные помещения."
   ]
  },
  {
   "cell_type": "code",
   "execution_count": 18,
   "metadata": {},
   "outputs": [
    {
     "data": {
      "text/plain": [
       "count    14504.000000\n",
       "mean         2.771499\n",
       "std          1.261056\n",
       "min          1.000000\n",
       "25%          2.520000\n",
       "50%          2.650000\n",
       "75%          2.800000\n",
       "max        100.000000\n",
       "Name: ceiling_height, dtype: float64"
      ]
     },
     "execution_count": 18,
     "metadata": {},
     "output_type": "execute_result"
    },
    {
     "data": {
      "image/png": "[encoded data removed]",
      "text/plain": [
       "<Figure size 720x216 with 1 Axes>"
      ]
     },
     "metadata": {
      "needs_background": "light"
     },
     "output_type": "display_data"
    }
   ],
   "source": [
    "data\n",
    "data.plot(y = 'ceiling_height', kind = 'hist', bins = 30, range = (2,5), grid=True, figsize = (10,3))\n",
    "data['ceiling_height'].describe()"
   ]
  },
  {
   "cell_type": "markdown",
   "metadata": {},
   "source": [
    "<div class=\"alert alert-success\">\n",
    "<b>Комментарий ревьюера:</b>\n",
    "\n",
    "Обрати внимание, что наши действия повторяются с точки зрения построения графиков.\n",
    "    \n",
    "Это говорит о том, что мы можем создать функцию, которая будет выполнять все действия за нас.\n",
    "    \n",
    "Тем самым мы сможем оптимизировать свой код и проект целиком.\n",
    "    \n",
    "</div>"
   ]
  },
  {
   "cell_type": "markdown",
   "metadata": {},
   "source": [
    "<div class=\"alert alert-info\"> <b>Комментарий студента:</b> То есть написат ьсвою функцию и в нее положить все операции, которые мы делаем дял построения графиков, только меняя переменную (столбец)? Не подумал об этом, я попробую такое сделать в следующих спринтовых проектах тогда. С функциями мне прям надо подружиться. </div> "
   ]
  },
  {
   "cell_type": "markdown",
   "metadata": {},
   "source": [
    "<div class=\"alert alert-success\">\n",
    "<b>Комментарий ревьюера (2):</b>\n",
    "\n",
    "Да, примерно так это и будет выглядеть в самой функции 😊\n",
    "    \n",
    "</div>"
   ]
  },
  {
   "cell_type": "markdown",
   "metadata": {},
   "source": [
    "Нормальное распределение данных. Средняя длинна потолков 2,77м, что вполне нормальное значение."
   ]
  },
  {
   "cell_type": "markdown",
   "metadata": {},
   "source": [
    "Краткий вывод:\n",
    "\n",
    "- Общая площадь в нашей выборке колеблется от 12 до 900 м2, среднее значение 60, а медиана 52 м2.\n",
    "- Цены на недвижимость имеют среднее значение в 6.5 млн руб., медиана 4.6 млн руб.\n",
    "- Количество комнат  от 1 до 19. Больше всего однокомнатных и двухкомнатных квартир.\n",
    "- Средняя высота потолков 2.77м, медианная 2.65 м."
   ]
  },
  {
   "cell_type": "markdown",
   "metadata": {},
   "source": [
    "*Изучите время продажи квартиры. Постройте гистограмму. Посчитайте среднее и медиану. Опишите, сколько обычно занимает продажа. Когда можно считать, что продажи прошли очень быстро, а когда необычно долго?*"
   ]
  },
  {
   "cell_type": "code",
   "execution_count": 19,
   "metadata": {},
   "outputs": [
    {
     "data": {
      "text/plain": [
       "count    20518.000000\n",
       "mean       180.888634\n",
       "std        219.727988\n",
       "min          1.000000\n",
       "25%         45.000000\n",
       "50%         95.000000\n",
       "75%        232.000000\n",
       "max       1580.000000\n",
       "Name: days_exposition, dtype: float64"
      ]
     },
     "execution_count": 19,
     "metadata": {},
     "output_type": "execute_result"
    },
    {
     "data": {
      "image/png": "[encoded data removed]",
      "text/plain": [
       "<Figure size 432x288 with 1 Axes>"
      ]
     },
     "metadata": {
      "needs_background": "light"
     },
     "output_type": "display_data"
    },
    {
     "data": {
      "image/png": "[encoded data removed]",
      "text/plain": [
       "<Figure size 432x288 with 1 Axes>"
      ]
     },
     "metadata": {
      "needs_background": "light"
     },
     "output_type": "display_data"
    }
   ],
   "source": [
    "data.plot(y = 'days_exposition', kind = 'hist', bins = 30, grid = True, range = (1,1400))\n",
    "data.plot(y = 'days_exposition', kind = 'hist', bins = 100, grid = True, range = (1,300))\n",
    "\n",
    "data[data['days_exposition']!=0]['days_exposition'].describe()"
   ]
  },
  {
   "cell_type": "markdown",
   "metadata": {},
   "source": [
    "<div class=\"alert alert-danger\">\n",
    "<b>Комментарий ревьюера:</b>\n",
    "\n",
    "<s>Давай постараемся автоматизировать построение графиков через цикл `for`. \n",
    "    \n",
    "Почему это важно? \n",
    "    \n",
    "- экономим своё время\n",
    "- оптимизируем код\n",
    "- делаем работу презентабельнее\n",
    "    \n",
    "Выбери любой участок кода где это сделать целесообразнее всего.\n",
    "\n",
    "</div>"
   ]
  },
  {
   "cell_type": "markdown",
   "metadata": {},
   "source": [
    "<div class=\"alert alert-info\"> <b>Комментарий студента:</b> Хорошо, попробую. Хотя пока что мне бы научиться код писать без ошибок, не то чтоб упрощать его циклами ))) Я думаю, что целесообразно сделать цикл для участка кода из 4 раздела, прям с самого начала, где мы приступаем к изучению и построению. Я попробовал прописать в самом начале 4 раздела. Старые записи не удалял пока что на свякийслучай. </div> "
   ]
  },
  {
   "cell_type": "markdown",
   "metadata": {},
   "source": [
    "<div class=\"alert alert-success\">\n",
    "<b>Комментарий ревьюера (2):</b>\n",
    "\n",
    "Здорово, что получилось применить автоматизацию построения графиков 👍\n",
    "    \n",
    "Теперь в нужный момент мы сможем применить данный инструмент.\n",
    "    \n",
    "</div>"
   ]
  },
  {
   "cell_type": "markdown",
   "metadata": {},
   "source": [
    "Среднее значение - 180 дней, а медиана - 95 дней. Ни гистограмме есть выбросы, природа которых неизвестна.Веротяно, это связано с днями публикации объявлений в системе. Проверим на каких именно промежутках случаются аномалии."
   ]
  },
  {
   "cell_type": "code",
   "execution_count": 20,
   "metadata": {},
   "outputs": [
    {
     "data": {
      "text/plain": [
       "45      880\n",
       "60      538\n",
       "7       234\n",
       "30      208\n",
       "90      204\n",
       "       ... \n",
       "807       1\n",
       "871       1\n",
       "951       1\n",
       "999       1\n",
       "1223      1\n",
       "Name: days_exposition, Length: 1141, dtype: int64"
      ]
     },
     "execution_count": 20,
     "metadata": {},
     "output_type": "execute_result"
    }
   ],
   "source": [
    "data[data['days_exposition']!=0]['days_exposition'].value_counts()"
   ]
  },
  {
   "cell_type": "markdown",
   "metadata": {},
   "source": [
    "Проверив данные по значениям методом value_counts видим аномалии на 45, 60, 7, 30, 90 днях - это наиболее популярное количество дней до снятия объявления. Вероятно, эти значения получаются из-за ограничений на размещение объявлений - многие системы таким образом поддерживают онлайн-базы объявлений в актуальном виде."
   ]
  },
  {
   "cell_type": "markdown",
   "metadata": {},
   "source": [
    "*Уберите редкие и выбивающиеся значения. Опишите, какие особенности обнаружили.*"
   ]
  },
  {
   "cell_type": "code",
   "execution_count": 21,
   "metadata": {},
   "outputs": [
    {
     "data": {
      "text/plain": [
       "count    18454.000000\n",
       "mean       195.803349\n",
       "std        226.760010\n",
       "min          1.000000\n",
       "25%         44.000000\n",
       "50%        114.000000\n",
       "75%        259.000000\n",
       "max       1580.000000\n",
       "Name: days_exposition, dtype: float64"
      ]
     },
     "execution_count": 21,
     "metadata": {},
     "output_type": "execute_result"
    },
    {
     "data": {
      "image/png": "[encoded data removed]",
      "text/plain": [
       "<Figure size 432x288 with 1 Axes>"
      ]
     },
     "metadata": {
      "needs_background": "light"
     },
     "output_type": "display_data"
    },
    {
     "data": {
      "image/png": "[encoded data removed]",
      "text/plain": [
       "<Figure size 432x288 with 1 Axes>"
      ]
     },
     "metadata": {
      "needs_background": "light"
     },
     "output_type": "display_data"
    }
   ],
   "source": [
    "#Проверим, какие значения выдаст метод describe, если мы проведем фильтрацию и уберем аномалии.\n",
    "data_filtered = data.query('days_exposition != 45 and days_exposition != 30 and days_exposition != 60 and days_exposition != 90 and days_exposition != 7 and days_exposition != 0')\n",
    "\n",
    "data_filtered.plot(y = 'days_exposition', kind = 'hist', bins = 30, grid = True, range = (1,1400))\n",
    "data_filtered.plot(y = 'days_exposition', kind = 'hist', bins = 100, grid = True, range = (1,300))\n",
    "\n",
    "import warnings\n",
    "warnings.filterwarnings('ignore')\n",
    "\n",
    "data_filtered[data['days_exposition']!=0]['days_exposition'].describe()"
   ]
  },
  {
   "cell_type": "markdown",
   "metadata": {},
   "source": [
    "<div class=\"alert alert-success\">\n",
    "<b>Комментарий ревьюера:</b>\n",
    "\n",
    "Кстати когда мы делаем множественную фильтрацию, рекомендую применять метод `loc`. Он читается проще и работает быстрее.    \n",
    "</div>"
   ]
  },
  {
   "cell_type": "markdown",
   "metadata": {},
   "source": [
    "Видим, что медианное и среднее значение подвинулось - теперь среднее значение 195 (180, 8.3%), а медианное 114(95, 20%), то есть квартиры продаются дольше, чем при первоначальном срезе. Изменились и межквартильные значения - были 45-232, стали 44-259. "
   ]
  },
  {
   "cell_type": "markdown",
   "metadata": {},
   "source": [
    "*Какие факторы больше всего влияют на стоимость квартиры? Изучите, зависит ли цена от площади, числа комнат, удалённости от центра. Изучите зависимость цены от того, на каком этаже расположена квартира: первом, последнем или другом. Также изучите зависимость от даты размещения: дня недели, месяца и года.*"
   ]
  },
  {
   "cell_type": "code",
   "execution_count": 22,
   "metadata": {},
   "outputs": [
    {
     "data": {
      "text/plain": [
       "0.29867803358007017"
      ]
     },
     "execution_count": 22,
     "metadata": {},
     "output_type": "execute_result"
    }
   ],
   "source": [
    "#Зависимость цены от площади\n",
    "data['total_area'].corr(data['price_per_square_meter'])"
   ]
  },
  {
   "cell_type": "markdown",
   "metadata": {},
   "source": [
    "Видим, что зависимость цены от площади всего 0,3 согласно корреляции Пирсона, то есть слабая. Получается, повышение площади лишь немного увеличивает стоимость."
   ]
  },
  {
   "cell_type": "code",
   "execution_count": 23,
   "metadata": {},
   "outputs": [
    {
     "data": {
      "text/plain": [
       "0.05219036139572185"
      ]
     },
     "execution_count": 23,
     "metadata": {},
     "output_type": "execute_result"
    }
   ],
   "source": [
    "#Зависимость цены от числа комнат\n",
    "data['rooms'].corr(data['price_per_square_meter'])"
   ]
  },
  {
   "cell_type": "markdown",
   "metadata": {},
   "source": [
    "Зависимость средняя. То есть чем больше комнат, тем выше цена квадратного метра. Однако, мы значем, что ест ьсамый популярный тип жилья (1-2 комнатные) и менее популярный тип жилья. Наверняка у них разная динамика зависимости. Построим график, чтобы изучить подробнее.\n"
   ]
  },
  {
   "cell_type": "code",
   "execution_count": 24,
   "metadata": {
    "scrolled": true
   },
   "outputs": [
    {
     "data": {
      "text/html": [
       "<div>\n",
       "<style scoped>\n",
       "    .dataframe tbody tr th:only-of-type {\n",
       "        vertical-align: middle;\n",
       "    }\n",
       "\n",
       "    .dataframe tbody tr th {\n",
       "        vertical-align: top;\n",
       "    }\n",
       "\n",
       "    .dataframe thead th {\n",
       "        text-align: right;\n",
       "    }\n",
       "</style>\n",
       "<table border=\"1\" class=\"dataframe\">\n",
       "  <thead>\n",
       "    <tr style=\"text-align: right;\">\n",
       "      <th></th>\n",
       "      <th>ceiling_height</th>\n",
       "      <th>mean</th>\n",
       "      <th>count</th>\n",
       "      <th>median</th>\n",
       "    </tr>\n",
       "  </thead>\n",
       "  <tbody>\n",
       "    <tr>\n",
       "      <td>0</td>\n",
       "      <td>100.00</td>\n",
       "      <td>600000.000000</td>\n",
       "      <td>1</td>\n",
       "      <td>600000.0</td>\n",
       "    </tr>\n",
       "    <tr>\n",
       "      <td>1</td>\n",
       "      <td>32.00</td>\n",
       "      <td>73675.000000</td>\n",
       "      <td>2</td>\n",
       "      <td>73675.0</td>\n",
       "    </tr>\n",
       "    <tr>\n",
       "      <td>2</td>\n",
       "      <td>27.50</td>\n",
       "      <td>116666.000000</td>\n",
       "      <td>1</td>\n",
       "      <td>116666.0</td>\n",
       "    </tr>\n",
       "    <tr>\n",
       "      <td>3</td>\n",
       "      <td>27.00</td>\n",
       "      <td>84700.500000</td>\n",
       "      <td>8</td>\n",
       "      <td>67579.5</td>\n",
       "    </tr>\n",
       "    <tr>\n",
       "      <td>4</td>\n",
       "      <td>26.00</td>\n",
       "      <td>88000.000000</td>\n",
       "      <td>1</td>\n",
       "      <td>88000.0</td>\n",
       "    </tr>\n",
       "    <tr>\n",
       "      <td>...</td>\n",
       "      <td>...</td>\n",
       "      <td>...</td>\n",
       "      <td>...</td>\n",
       "      <td>...</td>\n",
       "    </tr>\n",
       "    <tr>\n",
       "      <td>178</td>\n",
       "      <td>2.20</td>\n",
       "      <td>63636.000000</td>\n",
       "      <td>1</td>\n",
       "      <td>63636.0</td>\n",
       "    </tr>\n",
       "    <tr>\n",
       "      <td>179</td>\n",
       "      <td>2.00</td>\n",
       "      <td>67548.909091</td>\n",
       "      <td>11</td>\n",
       "      <td>48214.0</td>\n",
       "    </tr>\n",
       "    <tr>\n",
       "      <td>180</td>\n",
       "      <td>1.75</td>\n",
       "      <td>102500.000000</td>\n",
       "      <td>1</td>\n",
       "      <td>102500.0</td>\n",
       "    </tr>\n",
       "    <tr>\n",
       "      <td>181</td>\n",
       "      <td>1.20</td>\n",
       "      <td>35714.000000</td>\n",
       "      <td>1</td>\n",
       "      <td>35714.0</td>\n",
       "    </tr>\n",
       "    <tr>\n",
       "      <td>182</td>\n",
       "      <td>1.00</td>\n",
       "      <td>109090.000000</td>\n",
       "      <td>1</td>\n",
       "      <td>109090.0</td>\n",
       "    </tr>\n",
       "  </tbody>\n",
       "</table>\n",
       "<p>183 rows × 4 columns</p>\n",
       "</div>"
      ],
      "text/plain": [
       "     ceiling_height           mean  count    median\n",
       "0            100.00  600000.000000      1  600000.0\n",
       "1             32.00   73675.000000      2   73675.0\n",
       "2             27.50  116666.000000      1  116666.0\n",
       "3             27.00   84700.500000      8   67579.5\n",
       "4             26.00   88000.000000      1   88000.0\n",
       "..              ...            ...    ...       ...\n",
       "178            2.20   63636.000000      1   63636.0\n",
       "179            2.00   67548.909091     11   48214.0\n",
       "180            1.75  102500.000000      1  102500.0\n",
       "181            1.20   35714.000000      1   35714.0\n",
       "182            1.00  109090.000000      1  109090.0\n",
       "\n",
       "[183 rows x 4 columns]"
      ]
     },
     "execution_count": 24,
     "metadata": {},
     "output_type": "execute_result"
    }
   ],
   "source": [
    "#Зависимость от высоты потолков\n",
    "data_ceiling_height = data.pivot_table(index = 'ceiling_height', values = 'price_per_square_meter', aggfunc = ['mean', 'count', 'median'])\n",
    "data_ceiling_height.columns = ['mean', 'count', 'median']\n",
    "data_ceiling_height.sort_values('ceiling_height', ascending = False).reset_index()"
   ]
  },
  {
   "cell_type": "code",
   "execution_count": 25,
   "metadata": {},
   "outputs": [
    {
     "data": {
      "text/plain": [
       "<matplotlib.axes._subplots.AxesSubplot at 0x7f99e8ff08d0>"
      ]
     },
     "execution_count": 25,
     "metadata": {},
     "output_type": "execute_result"
    },
    {
     "data": {
      "image/png": "[encoded data removed]",
      "text/plain": [
       "<Figure size 432x288 with 1 Axes>"
      ]
     },
     "metadata": {
      "needs_background": "light"
     },
     "output_type": "display_data"
    }
   ],
   "source": [
    "data['ceiling_height'].corr(data['price_per_square_meter'])\n",
    "data_ceiling_height.query('ceiling_height < 4').plot(y = 'median')"
   ]
  },
  {
   "cell_type": "code",
   "execution_count": 26,
   "metadata": {},
   "outputs": [
    {
     "data": {
      "text/plain": [
       "0.1222335089937086"
      ]
     },
     "execution_count": 26,
     "metadata": {},
     "output_type": "execute_result"
    }
   ],
   "source": [
    "data['ceiling_height'].corr(data['price_per_square_meter'])"
   ]
  },
  {
   "cell_type": "markdown",
   "metadata": {},
   "source": [
    "Зависимость от высоты потолков низкая, ниблюдается резкий выброс только в диапозоне от 3.5 до 4 метров. Вероятно, это очень редкие предложения и один из атрибутов, по которому можно поднять цену. "
   ]
  },
  {
   "cell_type": "code",
   "execution_count": 27,
   "metadata": {
    "scrolled": true
   },
   "outputs": [
    {
     "data": {
      "text/plain": [
       "0.05219036139572185"
      ]
     },
     "execution_count": 27,
     "metadata": {},
     "output_type": "execute_result"
    },
    {
     "data": {
      "image/png": "[encoded data removed]",
      "text/plain": [
       "<Figure size 432x288 with 1 Axes>"
      ]
     },
     "metadata": {
      "needs_background": "light"
     },
     "output_type": "display_data"
    }
   ],
   "source": [
    "pivot_table_rooms = data.pivot_table(index = 'rooms', values = 'price_per_square_meter', aggfunc = ['mean', 'count', 'median'])\n",
    "pivot_table_rooms.columns = ['mean', 'count', 'median']\n",
    "pivot_table_rooms.query('count > 10').sort_values('median', ascending = False)\n",
    "\n",
    "pivot_table_rooms.query('count > 10').plot(y = 'median')\n",
    "data['rooms'].corr(data['price_per_square_meter'])"
   ]
  },
  {
   "cell_type": "markdown",
   "metadata": {},
   "source": [
    "Действительно, чем больше комнат, тем ниже цена квадратного метра до 3-комнатных квартир. После трехкомнатных цена за квадратный метр начинает расти. Зависимость средняя."
   ]
  },
  {
   "cell_type": "code",
   "execution_count": 28,
   "metadata": {},
   "outputs": [
    {
     "data": {
      "text/plain": [
       "-0.3176030620359509"
      ]
     },
     "execution_count": 28,
     "metadata": {},
     "output_type": "execute_result"
    },
    {
     "data": {
      "image/png": "[encoded data removed]",
      "text/plain": [
       "<Figure size 432x288 with 1 Axes>"
      ]
     },
     "metadata": {
      "needs_background": "light"
     },
     "output_type": "display_data"
    }
   ],
   "source": [
    "#Зависимость цены от удаленност ио тцентра\n",
    "pivot_table_cityCenters_nearest = data.pivot_table(index = 'cityCenters_nearest', values = 'price_per_square_meter', aggfunc = ['mean', 'count', 'median'])\n",
    "pivot_table_cityCenters_nearest.columns = ['mean', 'count', 'median']\n",
    "pivot_table_cityCenters_nearest.query('count > 10').sort_values('median', ascending = False).plot(y = 'median')\n",
    "\n",
    "data['cityCenters_nearest'].corr(data['price_per_square_meter'])"
   ]
  },
  {
   "cell_type": "markdown",
   "metadata": {},
   "source": [
    "Зависимость обратная - чем дальше от центра, тем дешевле, чем ближе - тем дороже. Но значение по корелляции Пирсона около -0,3, зависимость не сильная."
   ]
  },
  {
   "cell_type": "code",
   "execution_count": 29,
   "metadata": {},
   "outputs": [
    {
     "data": {
      "text/html": [
       "<div>\n",
       "<style scoped>\n",
       "    .dataframe tbody tr th:only-of-type {\n",
       "        vertical-align: middle;\n",
       "    }\n",
       "\n",
       "    .dataframe tbody tr th {\n",
       "        vertical-align: top;\n",
       "    }\n",
       "\n",
       "    .dataframe thead th {\n",
       "        text-align: right;\n",
       "    }\n",
       "</style>\n",
       "<table border=\"1\" class=\"dataframe\">\n",
       "  <thead>\n",
       "    <tr style=\"text-align: right;\">\n",
       "      <th></th>\n",
       "      <th>mean</th>\n",
       "      <th>count</th>\n",
       "      <th>median</th>\n",
       "    </tr>\n",
       "    <tr>\n",
       "      <th>floor_category</th>\n",
       "      <th></th>\n",
       "      <th></th>\n",
       "      <th></th>\n",
       "    </tr>\n",
       "  </thead>\n",
       "  <tbody>\n",
       "    <tr>\n",
       "      <td>другой</td>\n",
       "      <td>103942.271151</td>\n",
       "      <td>17363</td>\n",
       "      <td>98684.0</td>\n",
       "    </tr>\n",
       "    <tr>\n",
       "      <td>первый</td>\n",
       "      <td>82361.068906</td>\n",
       "      <td>2917</td>\n",
       "      <td>81578.0</td>\n",
       "    </tr>\n",
       "    <tr>\n",
       "      <td>последний</td>\n",
       "      <td>93805.209832</td>\n",
       "      <td>3336</td>\n",
       "      <td>88390.5</td>\n",
       "    </tr>\n",
       "  </tbody>\n",
       "</table>\n",
       "</div>"
      ],
      "text/plain": [
       "                         mean  count   median\n",
       "floor_category                               \n",
       "другой          103942.271151  17363  98684.0\n",
       "первый           82361.068906   2917  81578.0\n",
       "последний        93805.209832   3336  88390.5"
      ]
     },
     "execution_count": 29,
     "metadata": {},
     "output_type": "execute_result"
    },
    {
     "data": {
      "image/png": "[encoded data removed]",
      "text/plain": [
       "<Figure size 432x288 with 1 Axes>"
      ]
     },
     "metadata": {
      "needs_background": "light"
     },
     "output_type": "display_data"
    }
   ],
   "source": [
    "#Зависимость цены от эттажа\n",
    "pivot_table_floor_category = data.pivot_table(index = 'floor_category', values = 'price_per_square_meter', aggfunc = ['mean', 'count', 'median'])\n",
    "pivot_table_floor_category.columns = ['mean', 'count', 'median']\n",
    "pivot_table_floor_category.plot(y = 'median')\n",
    "pivot_table_floor_category\n",
    "#Мы не можем посчитать коэффициент зависимости по Пуассону, т.к. разный тип данных."
   ]
  },
  {
   "cell_type": "markdown",
   "metadata": {},
   "source": [
    "Видно, что квартиры на первом этаже дешевле квартир на последнем и других. По медианному значению разница в цене между первым и последним = 8.3%, между первым и другим 17.4%. Это существенная разница."
   ]
  },
  {
   "cell_type": "code",
   "execution_count": 30,
   "metadata": {},
   "outputs": [
    {
     "data": {
      "text/html": [
       "<div>\n",
       "<style scoped>\n",
       "    .dataframe tbody tr th:only-of-type {\n",
       "        vertical-align: middle;\n",
       "    }\n",
       "\n",
       "    .dataframe tbody tr th {\n",
       "        vertical-align: top;\n",
       "    }\n",
       "\n",
       "    .dataframe thead th {\n",
       "        text-align: right;\n",
       "    }\n",
       "</style>\n",
       "<table border=\"1\" class=\"dataframe\">\n",
       "  <thead>\n",
       "    <tr style=\"text-align: right;\">\n",
       "      <th></th>\n",
       "      <th>weekday_exposition</th>\n",
       "      <th>mean</th>\n",
       "      <th>count</th>\n",
       "      <th>median</th>\n",
       "    </tr>\n",
       "  </thead>\n",
       "  <tbody>\n",
       "    <tr>\n",
       "      <td>0</td>\n",
       "      <td>1</td>\n",
       "      <td>100188.837198</td>\n",
       "      <td>4183</td>\n",
       "      <td>96103.0</td>\n",
       "    </tr>\n",
       "    <tr>\n",
       "      <td>1</td>\n",
       "      <td>2</td>\n",
       "      <td>100074.622043</td>\n",
       "      <td>3974</td>\n",
       "      <td>96052.0</td>\n",
       "    </tr>\n",
       "    <tr>\n",
       "      <td>2</td>\n",
       "      <td>3</td>\n",
       "      <td>100623.294994</td>\n",
       "      <td>4295</td>\n",
       "      <td>95555.0</td>\n",
       "    </tr>\n",
       "    <tr>\n",
       "      <td>3</td>\n",
       "      <td>0</td>\n",
       "      <td>99886.826135</td>\n",
       "      <td>3612</td>\n",
       "      <td>95244.5</td>\n",
       "    </tr>\n",
       "    <tr>\n",
       "      <td>4</td>\n",
       "      <td>4</td>\n",
       "      <td>99462.464000</td>\n",
       "      <td>4000</td>\n",
       "      <td>95000.0</td>\n",
       "    </tr>\n",
       "    <tr>\n",
       "      <td>5</td>\n",
       "      <td>6</td>\n",
       "      <td>98141.110653</td>\n",
       "      <td>1699</td>\n",
       "      <td>94927.0</td>\n",
       "    </tr>\n",
       "    <tr>\n",
       "      <td>6</td>\n",
       "      <td>5</td>\n",
       "      <td>99463.185950</td>\n",
       "      <td>1936</td>\n",
       "      <td>94058.5</td>\n",
       "    </tr>\n",
       "  </tbody>\n",
       "</table>\n",
       "</div>"
      ],
      "text/plain": [
       "   weekday_exposition           mean  count   median\n",
       "0                   1  100188.837198   4183  96103.0\n",
       "1                   2  100074.622043   3974  96052.0\n",
       "2                   3  100623.294994   4295  95555.0\n",
       "3                   0   99886.826135   3612  95244.5\n",
       "4                   4   99462.464000   4000  95000.0\n",
       "5                   6   98141.110653   1699  94927.0\n",
       "6                   5   99463.185950   1936  94058.5"
      ]
     },
     "execution_count": 30,
     "metadata": {},
     "output_type": "execute_result"
    },
    {
     "data": {
      "image/png": "[encoded data removed]",
      "text/plain": [
       "<Figure size 432x288 with 1 Axes>"
      ]
     },
     "metadata": {
      "needs_background": "light"
     },
     "output_type": "display_data"
    }
   ],
   "source": [
    "#Зависимость цены за квадратынй метр от дня недели\n",
    "pivot_table_weekday_exposition = data.pivot_table(index = 'weekday_exposition', values = 'price_per_square_meter', aggfunc = ['mean', 'count', 'median'])\n",
    "pivot_table_weekday_exposition.columns = ['mean', 'count', 'median']\n",
    "pivot_table_weekday_exposition.plot(y = 'median')\n",
    "\n",
    "pivot_table_weekday_exposition.sort_values('median', ascending = False).reset_index()"
   ]
  },
  {
   "cell_type": "code",
   "execution_count": 31,
   "metadata": {},
   "outputs": [
    {
     "data": {
      "text/plain": [
       "-0.00731770429976911"
      ]
     },
     "execution_count": 31,
     "metadata": {},
     "output_type": "execute_result"
    }
   ],
   "source": [
    "data['weekday_exposition'].corr(data['price_per_square_meter'])"
   ]
  },
  {
   "cell_type": "markdown",
   "metadata": {},
   "source": [
    "Мы видим слабую зависимость стоимости от дня недели. Тем не менее, на графике видно, что чем ближе к значению 5( полагаю это суббота по индексу), тем ниже цена. И наоборот - вторник и среда самые высокие цены. ВОзможно, это связано с типом объектов, добавляемых к продаже - например работающие целыми днями по 10 часов в день люди, живущие в жилье подешевле ( сб олее дешевым квадратным метром) имеют время на создание объявлений (это не 1 минуту процесс, полагаю уходит до часа, чтобы сделать фотографии, описание и тд) имеют на это время только в субботу, когда отдыхают.\n",
    "\n",
    "Альтернативная гипотеза - В выходные дни объявления добавляют частные лица, выставляя объявления по своей желаемой цене, а в течение недели объявления выставляют риелторы, добавляя свою стоимость услуг в цену, поэтому цена выше. "
   ]
  },
  {
   "cell_type": "code",
   "execution_count": 32,
   "metadata": {},
   "outputs": [
    {
     "data": {
      "text/html": [
       "<div>\n",
       "<style scoped>\n",
       "    .dataframe tbody tr th:only-of-type {\n",
       "        vertical-align: middle;\n",
       "    }\n",
       "\n",
       "    .dataframe tbody tr th {\n",
       "        vertical-align: top;\n",
       "    }\n",
       "\n",
       "    .dataframe thead th {\n",
       "        text-align: right;\n",
       "    }\n",
       "</style>\n",
       "<table border=\"1\" class=\"dataframe\">\n",
       "  <thead>\n",
       "    <tr style=\"text-align: right;\">\n",
       "      <th></th>\n",
       "      <th>month_exposition</th>\n",
       "      <th>mean</th>\n",
       "      <th>count</th>\n",
       "      <th>median</th>\n",
       "    </tr>\n",
       "  </thead>\n",
       "  <tbody>\n",
       "    <tr>\n",
       "      <td>0</td>\n",
       "      <td>4</td>\n",
       "      <td>102409.147541</td>\n",
       "      <td>2379</td>\n",
       "      <td>97014.0</td>\n",
       "    </tr>\n",
       "    <tr>\n",
       "      <td>1</td>\n",
       "      <td>8</td>\n",
       "      <td>100566.951835</td>\n",
       "      <td>1744</td>\n",
       "      <td>96666.0</td>\n",
       "    </tr>\n",
       "    <tr>\n",
       "      <td>2</td>\n",
       "      <td>9</td>\n",
       "      <td>100908.876325</td>\n",
       "      <td>1981</td>\n",
       "      <td>96315.0</td>\n",
       "    </tr>\n",
       "    <tr>\n",
       "      <td>3</td>\n",
       "      <td>11</td>\n",
       "      <td>99683.644454</td>\n",
       "      <td>2371</td>\n",
       "      <td>96111.0</td>\n",
       "    </tr>\n",
       "    <tr>\n",
       "      <td>4</td>\n",
       "      <td>1</td>\n",
       "      <td>100318.617333</td>\n",
       "      <td>1500</td>\n",
       "      <td>95980.5</td>\n",
       "    </tr>\n",
       "    <tr>\n",
       "      <td>5</td>\n",
       "      <td>3</td>\n",
       "      <td>99465.054890</td>\n",
       "      <td>2587</td>\n",
       "      <td>95588.0</td>\n",
       "    </tr>\n",
       "    <tr>\n",
       "      <td>6</td>\n",
       "      <td>7</td>\n",
       "      <td>100085.279056</td>\n",
       "      <td>1695</td>\n",
       "      <td>95588.0</td>\n",
       "    </tr>\n",
       "    <tr>\n",
       "      <td>7</td>\n",
       "      <td>2</td>\n",
       "      <td>99196.098106</td>\n",
       "      <td>2640</td>\n",
       "      <td>95454.0</td>\n",
       "    </tr>\n",
       "    <tr>\n",
       "      <td>8</td>\n",
       "      <td>12</td>\n",
       "      <td>100008.938452</td>\n",
       "      <td>1641</td>\n",
       "      <td>94736.0</td>\n",
       "    </tr>\n",
       "    <tr>\n",
       "      <td>9</td>\n",
       "      <td>10</td>\n",
       "      <td>98413.361072</td>\n",
       "      <td>2127</td>\n",
       "      <td>94576.0</td>\n",
       "    </tr>\n",
       "    <tr>\n",
       "      <td>10</td>\n",
       "      <td>5</td>\n",
       "      <td>98960.226845</td>\n",
       "      <td>1274</td>\n",
       "      <td>93333.0</td>\n",
       "    </tr>\n",
       "    <tr>\n",
       "      <td>11</td>\n",
       "      <td>6</td>\n",
       "      <td>98184.679545</td>\n",
       "      <td>1760</td>\n",
       "      <td>93308.0</td>\n",
       "    </tr>\n",
       "  </tbody>\n",
       "</table>\n",
       "</div>"
      ],
      "text/plain": [
       "    month_exposition           mean  count   median\n",
       "0                  4  102409.147541   2379  97014.0\n",
       "1                  8  100566.951835   1744  96666.0\n",
       "2                  9  100908.876325   1981  96315.0\n",
       "3                 11   99683.644454   2371  96111.0\n",
       "4                  1  100318.617333   1500  95980.5\n",
       "5                  3   99465.054890   2587  95588.0\n",
       "6                  7  100085.279056   1695  95588.0\n",
       "7                  2   99196.098106   2640  95454.0\n",
       "8                 12  100008.938452   1641  94736.0\n",
       "9                 10   98413.361072   2127  94576.0\n",
       "10                 5   98960.226845   1274  93333.0\n",
       "11                 6   98184.679545   1760  93308.0"
      ]
     },
     "execution_count": 32,
     "metadata": {},
     "output_type": "execute_result"
    },
    {
     "data": {
      "image/png": "[encoded data removed]",
      "text/plain": [
       "<Figure size 432x288 with 1 Axes>"
      ]
     },
     "metadata": {
      "needs_background": "light"
     },
     "output_type": "display_data"
    }
   ],
   "source": [
    "#Зависимость цены за квадратынй метр от дня недели\n",
    "pivot_table_month_exposition = data.pivot_table(index = 'month_exposition', values = 'price_per_square_meter', aggfunc = ['mean', 'count', 'median'])\n",
    "pivot_table_month_exposition.columns = ['mean', 'count', 'median']\n",
    "pivot_table_month_exposition.plot(y = 'median')\n",
    "\n",
    "pivot_table_month_exposition.sort_values('median', ascending = False).reset_index()"
   ]
  },
  {
   "cell_type": "code",
   "execution_count": 33,
   "metadata": {},
   "outputs": [
    {
     "data": {
      "text/plain": [
       "-0.001996099357533134"
      ]
     },
     "execution_count": 33,
     "metadata": {},
     "output_type": "execute_result"
    }
   ],
   "source": [
    "data['month_exposition'].corr(data['price_per_square_meter'])"
   ]
  },
  {
   "cell_type": "markdown",
   "metadata": {},
   "source": [
    "Зависимость между месяцем добавления и ценой квадратного метра по коэффициенту Пуассона низкая. Однако на графике мы видим, что в мае и июне самые низкие цены за квадратный метр.Вероятно, это связано сначалом садово-огородного сезона, низкой покупательской активностью в летний период ( мы выяснили, что медианное время продажи квартиры около 100 дней) и желанием тех, кто продает скорее продать - врезультате чего снижается цена, чтобы сделать прдложение привлекательнее и ускорить процесс. Стоит отметить что разница между максимальным и миниамльным медианным значениям всего 4%."
   ]
  },
  {
   "cell_type": "markdown",
   "metadata": {},
   "source": [
    "<div class=\"alert alert-success\">\n",
    "<b>Комментарий ревьюера:</b>\n",
    "    \n",
    "Хорошие и логичные комментарии. \n",
    "    \n",
    "---\n",
    "\n",
    "В том числе можно было построить матрицу корреляции между нужными нам переменными.\n",
    "    \n",
    "И визуализировать её с помощью метода `heatmap` из библиотеки `seaborn`.\n",
    "    \n",
    "</div>"
   ]
  },
  {
   "cell_type": "code",
   "execution_count": 34,
   "metadata": {},
   "outputs": [
    {
     "data": {
      "image/png": "[encoded data removed]",
      "text/plain": [
       "<Figure size 720x576 with 2 Axes>"
      ]
     },
     "metadata": {
      "needs_background": "light"
     },
     "output_type": "display_data"
    },
    {
     "data": {
      "text/html": [
       "<div>\n",
       "<style scoped>\n",
       "    .dataframe tbody tr th:only-of-type {\n",
       "        vertical-align: middle;\n",
       "    }\n",
       "\n",
       "    .dataframe tbody tr th {\n",
       "        vertical-align: top;\n",
       "    }\n",
       "\n",
       "    .dataframe thead th {\n",
       "        text-align: right;\n",
       "    }\n",
       "</style>\n",
       "<table border=\"1\" class=\"dataframe\">\n",
       "  <thead>\n",
       "    <tr style=\"text-align: right;\">\n",
       "      <th></th>\n",
       "      <th>last_price</th>\n",
       "      <th>total_area</th>\n",
       "      <th>ceiling_height</th>\n",
       "      <th>floor</th>\n",
       "      <th>rooms</th>\n",
       "      <th>cityCenters_nearest</th>\n",
       "      <th>weekday_exposition</th>\n",
       "      <th>month_exposition</th>\n",
       "      <th>year_exposition</th>\n",
       "    </tr>\n",
       "  </thead>\n",
       "  <tbody>\n",
       "    <tr>\n",
       "      <td>last_price</td>\n",
       "      <td>1.000000</td>\n",
       "      <td>0.653654</td>\n",
       "      <td>0.085430</td>\n",
       "      <td>0.026576</td>\n",
       "      <td>0.363343</td>\n",
       "      <td>-0.206747</td>\n",
       "      <td>0.001550</td>\n",
       "      <td>0.002779</td>\n",
       "      <td>-0.043089</td>\n",
       "    </tr>\n",
       "    <tr>\n",
       "      <td>total_area</td>\n",
       "      <td>0.653654</td>\n",
       "      <td>1.000000</td>\n",
       "      <td>0.095643</td>\n",
       "      <td>-0.024955</td>\n",
       "      <td>0.758347</td>\n",
       "      <td>-0.231466</td>\n",
       "      <td>-0.004639</td>\n",
       "      <td>0.004925</td>\n",
       "      <td>-0.080544</td>\n",
       "    </tr>\n",
       "    <tr>\n",
       "      <td>ceiling_height</td>\n",
       "      <td>0.085430</td>\n",
       "      <td>0.095643</td>\n",
       "      <td>1.000000</td>\n",
       "      <td>-0.011798</td>\n",
       "      <td>0.054457</td>\n",
       "      <td>-0.091689</td>\n",
       "      <td>-0.009019</td>\n",
       "      <td>-0.001399</td>\n",
       "      <td>-0.013567</td>\n",
       "    </tr>\n",
       "    <tr>\n",
       "      <td>floor</td>\n",
       "      <td>0.026576</td>\n",
       "      <td>-0.024955</td>\n",
       "      <td>-0.011798</td>\n",
       "      <td>1.000000</td>\n",
       "      <td>-0.150862</td>\n",
       "      <td>0.009084</td>\n",
       "      <td>0.012347</td>\n",
       "      <td>0.019387</td>\n",
       "      <td>0.004915</td>\n",
       "    </tr>\n",
       "    <tr>\n",
       "      <td>rooms</td>\n",
       "      <td>0.363343</td>\n",
       "      <td>0.758347</td>\n",
       "      <td>0.054457</td>\n",
       "      <td>-0.150862</td>\n",
       "      <td>1.000000</td>\n",
       "      <td>-0.184864</td>\n",
       "      <td>-0.004134</td>\n",
       "      <td>-0.004469</td>\n",
       "      <td>-0.055418</td>\n",
       "    </tr>\n",
       "    <tr>\n",
       "      <td>cityCenters_nearest</td>\n",
       "      <td>-0.206747</td>\n",
       "      <td>-0.231466</td>\n",
       "      <td>-0.091689</td>\n",
       "      <td>0.009084</td>\n",
       "      <td>-0.184864</td>\n",
       "      <td>1.000000</td>\n",
       "      <td>0.008883</td>\n",
       "      <td>-0.008978</td>\n",
       "      <td>0.032333</td>\n",
       "    </tr>\n",
       "    <tr>\n",
       "      <td>weekday_exposition</td>\n",
       "      <td>0.001550</td>\n",
       "      <td>-0.004639</td>\n",
       "      <td>-0.009019</td>\n",
       "      <td>0.012347</td>\n",
       "      <td>-0.004134</td>\n",
       "      <td>0.008883</td>\n",
       "      <td>1.000000</td>\n",
       "      <td>0.011496</td>\n",
       "      <td>-0.004799</td>\n",
       "    </tr>\n",
       "    <tr>\n",
       "      <td>month_exposition</td>\n",
       "      <td>0.002779</td>\n",
       "      <td>0.004925</td>\n",
       "      <td>-0.001399</td>\n",
       "      <td>0.019387</td>\n",
       "      <td>-0.004469</td>\n",
       "      <td>-0.008978</td>\n",
       "      <td>0.011496</td>\n",
       "      <td>1.000000</td>\n",
       "      <td>-0.269642</td>\n",
       "    </tr>\n",
       "    <tr>\n",
       "      <td>year_exposition</td>\n",
       "      <td>-0.043089</td>\n",
       "      <td>-0.080544</td>\n",
       "      <td>-0.013567</td>\n",
       "      <td>0.004915</td>\n",
       "      <td>-0.055418</td>\n",
       "      <td>0.032333</td>\n",
       "      <td>-0.004799</td>\n",
       "      <td>-0.269642</td>\n",
       "      <td>1.000000</td>\n",
       "    </tr>\n",
       "  </tbody>\n",
       "</table>\n",
       "</div>"
      ],
      "text/plain": [
       "                     last_price  total_area  ceiling_height     floor  \\\n",
       "last_price             1.000000    0.653654        0.085430  0.026576   \n",
       "total_area             0.653654    1.000000        0.095643 -0.024955   \n",
       "ceiling_height         0.085430    0.095643        1.000000 -0.011798   \n",
       "floor                  0.026576   -0.024955       -0.011798  1.000000   \n",
       "rooms                  0.363343    0.758347        0.054457 -0.150862   \n",
       "cityCenters_nearest   -0.206747   -0.231466       -0.091689  0.009084   \n",
       "weekday_exposition     0.001550   -0.004639       -0.009019  0.012347   \n",
       "month_exposition       0.002779    0.004925       -0.001399  0.019387   \n",
       "year_exposition       -0.043089   -0.080544       -0.013567  0.004915   \n",
       "\n",
       "                        rooms  cityCenters_nearest  weekday_exposition  \\\n",
       "last_price           0.363343            -0.206747            0.001550   \n",
       "total_area           0.758347            -0.231466           -0.004639   \n",
       "ceiling_height       0.054457            -0.091689           -0.009019   \n",
       "floor               -0.150862             0.009084            0.012347   \n",
       "rooms                1.000000            -0.184864           -0.004134   \n",
       "cityCenters_nearest -0.184864             1.000000            0.008883   \n",
       "weekday_exposition  -0.004134             0.008883            1.000000   \n",
       "month_exposition    -0.004469            -0.008978            0.011496   \n",
       "year_exposition     -0.055418             0.032333           -0.004799   \n",
       "\n",
       "                     month_exposition  year_exposition  \n",
       "last_price                   0.002779        -0.043089  \n",
       "total_area                   0.004925        -0.080544  \n",
       "ceiling_height              -0.001399        -0.013567  \n",
       "floor                        0.019387         0.004915  \n",
       "rooms                       -0.004469        -0.055418  \n",
       "cityCenters_nearest         -0.008978         0.032333  \n",
       "weekday_exposition           0.011496        -0.004799  \n",
       "month_exposition             1.000000        -0.269642  \n",
       "year_exposition             -0.269642         1.000000  "
      ]
     },
     "execution_count": 34,
     "metadata": {},
     "output_type": "execute_result"
    }
   ],
   "source": [
    "import seaborn as sns\n",
    "columns_for_corr = ['last_price', 'total_area', 'ceiling_height', 'floor', \n",
    "                    'rooms', 'cityCenters_nearest','weekday_exposition', 'month_exposition', 'year_exposition']\n",
    "\n",
    "plt.figure(figsize=(10,8))\n",
    "sns.heatmap(data[columns_for_corr].corr(), annot = True)\n",
    "plt.show()\n",
    "data[columns_for_corr].corr()"
   ]
  },
  {
   "cell_type": "markdown",
   "metadata": {},
   "source": [
    "<div class=\"alert alert-info\"> <b>Комментарий студента:</b> У меня вот так получилось только </div> "
   ]
  },
  {
   "cell_type": "markdown",
   "metadata": {},
   "source": [
    "<div class=\"alert alert-success\">\n",
    "<b>Комментарий ревьюера (2):</b>\n",
    "\n",
    "Супер 👍\n",
    "    \n",
    "</div>"
   ]
  },
  {
   "cell_type": "code",
   "execution_count": 35,
   "metadata": {},
   "outputs": [
    {
     "data": {
      "text/html": [
       "<div>\n",
       "<style scoped>\n",
       "    .dataframe tbody tr th:only-of-type {\n",
       "        vertical-align: middle;\n",
       "    }\n",
       "\n",
       "    .dataframe tbody tr th {\n",
       "        vertical-align: top;\n",
       "    }\n",
       "\n",
       "    .dataframe thead th {\n",
       "        text-align: right;\n",
       "    }\n",
       "</style>\n",
       "<table border=\"1\" class=\"dataframe\">\n",
       "  <thead>\n",
       "    <tr style=\"text-align: right;\">\n",
       "      <th></th>\n",
       "      <th>year_exposition</th>\n",
       "      <th>mean</th>\n",
       "      <th>count</th>\n",
       "      <th>median</th>\n",
       "    </tr>\n",
       "  </thead>\n",
       "  <tbody>\n",
       "    <tr>\n",
       "      <td>0</td>\n",
       "      <td>2014</td>\n",
       "      <td>125313.854015</td>\n",
       "      <td>137</td>\n",
       "      <td>107845</td>\n",
       "    </tr>\n",
       "    <tr>\n",
       "      <td>1</td>\n",
       "      <td>2019</td>\n",
       "      <td>107687.481417</td>\n",
       "      <td>2879</td>\n",
       "      <td>104081</td>\n",
       "    </tr>\n",
       "    <tr>\n",
       "      <td>2</td>\n",
       "      <td>2018</td>\n",
       "      <td>98279.520953</td>\n",
       "      <td>8519</td>\n",
       "      <td>96341</td>\n",
       "    </tr>\n",
       "    <tr>\n",
       "      <td>3</td>\n",
       "      <td>2015</td>\n",
       "      <td>104975.345088</td>\n",
       "      <td>1191</td>\n",
       "      <td>93614</td>\n",
       "    </tr>\n",
       "    <tr>\n",
       "      <td>4</td>\n",
       "      <td>2017</td>\n",
       "      <td>98025.710501</td>\n",
       "      <td>8190</td>\n",
       "      <td>93181</td>\n",
       "    </tr>\n",
       "    <tr>\n",
       "      <td>5</td>\n",
       "      <td>2016</td>\n",
       "      <td>98673.141215</td>\n",
       "      <td>2783</td>\n",
       "      <td>92222</td>\n",
       "    </tr>\n",
       "  </tbody>\n",
       "</table>\n",
       "</div>"
      ],
      "text/plain": [
       "   year_exposition           mean  count  median\n",
       "0             2014  125313.854015    137  107845\n",
       "1             2019  107687.481417   2879  104081\n",
       "2             2018   98279.520953   8519   96341\n",
       "3             2015  104975.345088   1191   93614\n",
       "4             2017   98025.710501   8190   93181\n",
       "5             2016   98673.141215   2783   92222"
      ]
     },
     "execution_count": 35,
     "metadata": {},
     "output_type": "execute_result"
    },
    {
     "data": {
      "image/png": "[encoded data removed]",
      "text/plain": [
       "<Figure size 432x288 with 1 Axes>"
      ]
     },
     "metadata": {
      "needs_background": "light"
     },
     "output_type": "display_data"
    }
   ],
   "source": [
    "#Зависимость цены за квадратынй метр от года\n",
    "pivot_table_year_exposition = data.pivot_table(index = 'year_exposition', values = 'price_per_square_meter', aggfunc = ['mean', 'count', 'median'])\n",
    "pivot_table_year_exposition.columns = ['mean', 'count', 'median']\n",
    "pivot_table_year_exposition.plot(y = 'median')\n",
    "\n",
    "pivot_table_year_exposition.sort_values('median', ascending = False).reset_index()"
   ]
  },
  {
   "cell_type": "code",
   "execution_count": 36,
   "metadata": {},
   "outputs": [
    {
     "data": {
      "text/plain": [
       "0.00977513551029908"
      ]
     },
     "execution_count": 36,
     "metadata": {},
     "output_type": "execute_result"
    }
   ],
   "source": [
    "data['year_exposition'].corr(data['price_per_square_meter'])"
   ]
  },
  {
   "cell_type": "markdown",
   "metadata": {},
   "source": [
    "Зависимость между ценой и годом очень слабая. Награфике видим что самые высокие цены были в 2014 году и падали до 2016, затем начался рост и к 2019 году цена практически восстановилась до отметки 2014 года. Предполагаю, что ситуация с тотальным снижением по годам связана с низким покупательским спросом - если 2014 был год кризисный, то люди старались избегат ькрупных покупок, вроде недвижимости в посткризисном периоде, больше иметь в реальных деньгах. После того, как сиуация начала исправляться с экономикой - пошел и рост цен.\n",
    "\n",
    "Вторая гипотеза здесь - поскольку мы проводим исследовани в одном городе (и рядом прилегающими городами, но более 15500 строк тут - Санкт-Петербург), возможно прошли какие то глобальные события (например чемпионат мира или президентские выборы или какой то серьезный туристический информационный повод, что люди хотели приобрести в 2014 году здесь квартиры) - они могли повлиять на такое поведение цен."
   ]
  },
  {
   "cell_type": "markdown",
   "metadata": {},
   "source": [
    "*Выберите 10 населённых пунктов с наибольшим числом объявлений. Посчитайте среднюю цену квадратного метра в этих населённых пунктах. Выделите среди них населённые пункты с самой высокой и низкой стоимостью жилья. Эти данные можно найти по имени в столбце 'locality_name'.*"
   ]
  },
  {
   "cell_type": "code",
   "execution_count": 37,
   "metadata": {},
   "outputs": [
    {
     "data": {
      "text/html": [
       "<div>\n",
       "<style scoped>\n",
       "    .dataframe tbody tr th:only-of-type {\n",
       "        vertical-align: middle;\n",
       "    }\n",
       "\n",
       "    .dataframe tbody tr th {\n",
       "        vertical-align: top;\n",
       "    }\n",
       "\n",
       "    .dataframe thead th {\n",
       "        text-align: right;\n",
       "    }\n",
       "</style>\n",
       "<table border=\"1\" class=\"dataframe\">\n",
       "  <thead>\n",
       "    <tr style=\"text-align: right;\">\n",
       "      <th></th>\n",
       "      <th>locality_name</th>\n",
       "      <th>count</th>\n",
       "      <th>mean</th>\n",
       "    </tr>\n",
       "  </thead>\n",
       "  <tbody>\n",
       "    <tr>\n",
       "      <td>0</td>\n",
       "      <td>Санкт-Петербург</td>\n",
       "      <td>15721</td>\n",
       "      <td>115347.299472</td>\n",
       "    </tr>\n",
       "    <tr>\n",
       "      <td>1</td>\n",
       "      <td>посёлок Мурино</td>\n",
       "      <td>522</td>\n",
       "      <td>86379.549808</td>\n",
       "    </tr>\n",
       "    <tr>\n",
       "      <td>2</td>\n",
       "      <td>посёлок Шушары</td>\n",
       "      <td>440</td>\n",
       "      <td>79068.186364</td>\n",
       "    </tr>\n",
       "    <tr>\n",
       "      <td>3</td>\n",
       "      <td>Всеволожск</td>\n",
       "      <td>398</td>\n",
       "      <td>68984.801508</td>\n",
       "    </tr>\n",
       "    <tr>\n",
       "      <td>4</td>\n",
       "      <td>Пушкин</td>\n",
       "      <td>369</td>\n",
       "      <td>103610.948509</td>\n",
       "    </tr>\n",
       "    <tr>\n",
       "      <td>5</td>\n",
       "      <td>Колпино</td>\n",
       "      <td>338</td>\n",
       "      <td>75735.150888</td>\n",
       "    </tr>\n",
       "    <tr>\n",
       "      <td>6</td>\n",
       "      <td>посёлок Парголово</td>\n",
       "      <td>327</td>\n",
       "      <td>90675.235474</td>\n",
       "    </tr>\n",
       "    <tr>\n",
       "      <td>7</td>\n",
       "      <td>Гатчина</td>\n",
       "      <td>307</td>\n",
       "      <td>69045.068404</td>\n",
       "    </tr>\n",
       "    <tr>\n",
       "      <td>8</td>\n",
       "      <td>деревня Кудрово</td>\n",
       "      <td>299</td>\n",
       "      <td>93001.742475</td>\n",
       "    </tr>\n",
       "    <tr>\n",
       "      <td>9</td>\n",
       "      <td>Выборг</td>\n",
       "      <td>237</td>\n",
       "      <td>58295.691983</td>\n",
       "    </tr>\n",
       "  </tbody>\n",
       "</table>\n",
       "</div>"
      ],
      "text/plain": [
       "       locality_name  count           mean\n",
       "0    Санкт-Петербург  15721  115347.299472\n",
       "1     посёлок Мурино    522   86379.549808\n",
       "2     посёлок Шушары    440   79068.186364\n",
       "3         Всеволожск    398   68984.801508\n",
       "4             Пушкин    369  103610.948509\n",
       "5            Колпино    338   75735.150888\n",
       "6  посёлок Парголово    327   90675.235474\n",
       "7            Гатчина    307   69045.068404\n",
       "8    деревня Кудрово    299   93001.742475\n",
       "9             Выборг    237   58295.691983"
      ]
     },
     "execution_count": 37,
     "metadata": {},
     "output_type": "execute_result"
    }
   ],
   "source": [
    "local_pivot_table = data.pivot_table(index = 'locality_name', values = 'price_per_square_meter', aggfunc=['count', 'mean'])\n",
    "local_pivot_table.columns = ['count', 'mean']\n",
    "local_pivot_table = local_pivot_table.sort_values('count', ascending = False).head(10).reset_index()\n",
    "local_pivot_table"
   ]
  },
  {
   "cell_type": "code",
   "execution_count": 38,
   "metadata": {},
   "outputs": [
    {
     "data": {
      "text/html": [
       "<div>\n",
       "<style scoped>\n",
       "    .dataframe tbody tr th:only-of-type {\n",
       "        vertical-align: middle;\n",
       "    }\n",
       "\n",
       "    .dataframe tbody tr th {\n",
       "        vertical-align: top;\n",
       "    }\n",
       "\n",
       "    .dataframe thead th {\n",
       "        text-align: right;\n",
       "    }\n",
       "</style>\n",
       "<table border=\"1\" class=\"dataframe\">\n",
       "  <thead>\n",
       "    <tr style=\"text-align: right;\">\n",
       "      <th></th>\n",
       "      <th>locality_name</th>\n",
       "      <th>count</th>\n",
       "      <th>mean</th>\n",
       "    </tr>\n",
       "  </thead>\n",
       "  <tbody>\n",
       "    <tr>\n",
       "      <td>0</td>\n",
       "      <td>Санкт-Петербург</td>\n",
       "      <td>15721</td>\n",
       "      <td>115347.299472</td>\n",
       "    </tr>\n",
       "  </tbody>\n",
       "</table>\n",
       "</div>"
      ],
      "text/plain": [
       "     locality_name  count           mean\n",
       "0  Санкт-Петербург  15721  115347.299472"
      ]
     },
     "execution_count": 38,
     "metadata": {},
     "output_type": "execute_result"
    }
   ],
   "source": [
    "#самая высокая стоимость\n",
    "local_pivot_table[local_pivot_table['mean']==local_pivot_table['mean'].max()]"
   ]
  },
  {
   "cell_type": "code",
   "execution_count": 39,
   "metadata": {},
   "outputs": [
    {
     "data": {
      "text/html": [
       "<div>\n",
       "<style scoped>\n",
       "    .dataframe tbody tr th:only-of-type {\n",
       "        vertical-align: middle;\n",
       "    }\n",
       "\n",
       "    .dataframe tbody tr th {\n",
       "        vertical-align: top;\n",
       "    }\n",
       "\n",
       "    .dataframe thead th {\n",
       "        text-align: right;\n",
       "    }\n",
       "</style>\n",
       "<table border=\"1\" class=\"dataframe\">\n",
       "  <thead>\n",
       "    <tr style=\"text-align: right;\">\n",
       "      <th></th>\n",
       "      <th>locality_name</th>\n",
       "      <th>count</th>\n",
       "      <th>mean</th>\n",
       "    </tr>\n",
       "  </thead>\n",
       "  <tbody>\n",
       "    <tr>\n",
       "      <td>9</td>\n",
       "      <td>Выборг</td>\n",
       "      <td>237</td>\n",
       "      <td>58295.691983</td>\n",
       "    </tr>\n",
       "  </tbody>\n",
       "</table>\n",
       "</div>"
      ],
      "text/plain": [
       "  locality_name  count          mean\n",
       "9        Выборг    237  58295.691983"
      ]
     },
     "execution_count": 39,
     "metadata": {},
     "output_type": "execute_result"
    }
   ],
   "source": [
    "#самая низкая стоимость\n",
    "local_pivot_table[local_pivot_table['mean']==local_pivot_table['mean'].min()]"
   ]
  },
  {
   "cell_type": "markdown",
   "metadata": {},
   "source": [
    "Традиционно более крупные города показывают более высокую стоимость жилья, обусловленную рыночным спросом - многие люди из округов переезжают в центры (урбанизация). Трудовые, экономические и политические а также социкультурные различия жизни в крупных городах привлекают и мигрантов, поэтому цены существенно выше (почти в 2 раза Санкт-Петербург дороже Выборга)."
   ]
  },
  {
   "cell_type": "markdown",
   "metadata": {},
   "source": [
    "*Изучите предложения квартир: для каждой квартиры есть информация о расстоянии до центра. Выделите квартиры в Санкт-Петербурге ('locality_name'). Ваша задача — выяснить, какая область входит в центр. Создайте столбец с расстоянием до центра в километрах: округлите до целых значений. После этого посчитайте среднюю цену для каждого километра. Постройте график: он должен показывать, как цена зависит от удалённости от центра. Определите границу, где график сильно меняется — это и будет центральная зона.*"
   ]
  },
  {
   "cell_type": "code",
   "execution_count": 40,
   "metadata": {
    "scrolled": true
   },
   "outputs": [
    {
     "data": {
      "text/html": [
       "<div>\n",
       "<style scoped>\n",
       "    .dataframe tbody tr th:only-of-type {\n",
       "        vertical-align: middle;\n",
       "    }\n",
       "\n",
       "    .dataframe tbody tr th {\n",
       "        vertical-align: top;\n",
       "    }\n",
       "\n",
       "    .dataframe thead th {\n",
       "        text-align: right;\n",
       "    }\n",
       "</style>\n",
       "<table border=\"1\" class=\"dataframe\">\n",
       "  <thead>\n",
       "    <tr style=\"text-align: right;\">\n",
       "      <th></th>\n",
       "      <th>cityCenters_nearest_km</th>\n",
       "      <th>price_per_square_meter</th>\n",
       "    </tr>\n",
       "  </thead>\n",
       "  <tbody>\n",
       "    <tr>\n",
       "      <td>0</td>\n",
       "      <td>0</td>\n",
       "      <td>187716.674419</td>\n",
       "    </tr>\n",
       "    <tr>\n",
       "      <td>1</td>\n",
       "      <td>1</td>\n",
       "      <td>166970.441667</td>\n",
       "    </tr>\n",
       "    <tr>\n",
       "      <td>2</td>\n",
       "      <td>2</td>\n",
       "      <td>147016.651466</td>\n",
       "    </tr>\n",
       "    <tr>\n",
       "      <td>3</td>\n",
       "      <td>3</td>\n",
       "      <td>129829.153992</td>\n",
       "    </tr>\n",
       "    <tr>\n",
       "      <td>4</td>\n",
       "      <td>4</td>\n",
       "      <td>137911.898567</td>\n",
       "    </tr>\n",
       "    <tr>\n",
       "      <td>5</td>\n",
       "      <td>5</td>\n",
       "      <td>147435.639792</td>\n",
       "    </tr>\n",
       "    <tr>\n",
       "      <td>6</td>\n",
       "      <td>6</td>\n",
       "      <td>152774.836170</td>\n",
       "    </tr>\n",
       "    <tr>\n",
       "      <td>7</td>\n",
       "      <td>7</td>\n",
       "      <td>141884.238329</td>\n",
       "    </tr>\n",
       "    <tr>\n",
       "      <td>8</td>\n",
       "      <td>8</td>\n",
       "      <td>121101.447761</td>\n",
       "    </tr>\n",
       "    <tr>\n",
       "      <td>9</td>\n",
       "      <td>9</td>\n",
       "      <td>110496.727536</td>\n",
       "    </tr>\n",
       "    <tr>\n",
       "      <td>10</td>\n",
       "      <td>10</td>\n",
       "      <td>112170.703947</td>\n",
       "    </tr>\n",
       "    <tr>\n",
       "      <td>11</td>\n",
       "      <td>11</td>\n",
       "      <td>107349.250177</td>\n",
       "    </tr>\n",
       "    <tr>\n",
       "      <td>12</td>\n",
       "      <td>12</td>\n",
       "      <td>108825.275248</td>\n",
       "    </tr>\n",
       "    <tr>\n",
       "      <td>13</td>\n",
       "      <td>13</td>\n",
       "      <td>107696.620542</td>\n",
       "    </tr>\n",
       "    <tr>\n",
       "      <td>14</td>\n",
       "      <td>14</td>\n",
       "      <td>105504.152778</td>\n",
       "    </tr>\n",
       "    <tr>\n",
       "      <td>15</td>\n",
       "      <td>15</td>\n",
       "      <td>102371.989803</td>\n",
       "    </tr>\n",
       "    <tr>\n",
       "      <td>16</td>\n",
       "      <td>16</td>\n",
       "      <td>100618.349005</td>\n",
       "    </tr>\n",
       "    <tr>\n",
       "      <td>17</td>\n",
       "      <td>17</td>\n",
       "      <td>94579.323970</td>\n",
       "    </tr>\n",
       "    <tr>\n",
       "      <td>18</td>\n",
       "      <td>18</td>\n",
       "      <td>95335.626437</td>\n",
       "    </tr>\n",
       "    <tr>\n",
       "      <td>19</td>\n",
       "      <td>19</td>\n",
       "      <td>96168.865854</td>\n",
       "    </tr>\n",
       "    <tr>\n",
       "      <td>20</td>\n",
       "      <td>20</td>\n",
       "      <td>107623.440476</td>\n",
       "    </tr>\n",
       "    <tr>\n",
       "      <td>21</td>\n",
       "      <td>21</td>\n",
       "      <td>91947.097436</td>\n",
       "    </tr>\n",
       "    <tr>\n",
       "      <td>22</td>\n",
       "      <td>22</td>\n",
       "      <td>89035.294964</td>\n",
       "    </tr>\n",
       "    <tr>\n",
       "      <td>23</td>\n",
       "      <td>23</td>\n",
       "      <td>93251.800000</td>\n",
       "    </tr>\n",
       "    <tr>\n",
       "      <td>24</td>\n",
       "      <td>24</td>\n",
       "      <td>83176.227273</td>\n",
       "    </tr>\n",
       "    <tr>\n",
       "      <td>25</td>\n",
       "      <td>25</td>\n",
       "      <td>92006.760000</td>\n",
       "    </tr>\n",
       "    <tr>\n",
       "      <td>26</td>\n",
       "      <td>26</td>\n",
       "      <td>75171.333333</td>\n",
       "    </tr>\n",
       "    <tr>\n",
       "      <td>27</td>\n",
       "      <td>27</td>\n",
       "      <td>132115.000000</td>\n",
       "    </tr>\n",
       "    <tr>\n",
       "      <td>28</td>\n",
       "      <td>28</td>\n",
       "      <td>81943.700000</td>\n",
       "    </tr>\n",
       "    <tr>\n",
       "      <td>29</td>\n",
       "      <td>29</td>\n",
       "      <td>63011.333333</td>\n",
       "    </tr>\n",
       "  </tbody>\n",
       "</table>\n",
       "</div>"
      ],
      "text/plain": [
       "    cityCenters_nearest_km  price_per_square_meter\n",
       "0                        0           187716.674419\n",
       "1                        1           166970.441667\n",
       "2                        2           147016.651466\n",
       "3                        3           129829.153992\n",
       "4                        4           137911.898567\n",
       "5                        5           147435.639792\n",
       "6                        6           152774.836170\n",
       "7                        7           141884.238329\n",
       "8                        8           121101.447761\n",
       "9                        9           110496.727536\n",
       "10                      10           112170.703947\n",
       "11                      11           107349.250177\n",
       "12                      12           108825.275248\n",
       "13                      13           107696.620542\n",
       "14                      14           105504.152778\n",
       "15                      15           102371.989803\n",
       "16                      16           100618.349005\n",
       "17                      17            94579.323970\n",
       "18                      18            95335.626437\n",
       "19                      19            96168.865854\n",
       "20                      20           107623.440476\n",
       "21                      21            91947.097436\n",
       "22                      22            89035.294964\n",
       "23                      23            93251.800000\n",
       "24                      24            83176.227273\n",
       "25                      25            92006.760000\n",
       "26                      26            75171.333333\n",
       "27                      27           132115.000000\n",
       "28                      28            81943.700000\n",
       "29                      29            63011.333333"
      ]
     },
     "execution_count": 40,
     "metadata": {},
     "output_type": "execute_result"
    },
    {
     "data": {
      "image/png": "[encoded data removed]",
      "text/plain": [
       "<Figure size 432x288 with 1 Axes>"
      ]
     },
     "metadata": {
      "needs_background": "light"
     },
     "output_type": "display_data"
    }
   ],
   "source": [
    "data['cityCenters_nearest_km'] = data['cityCenters_nearest']/1000\n",
    "data['cityCenters_nearest_km'] = data['cityCenters_nearest_km'].fillna(999999)\n",
    "data['cityCenters_nearest_km'] = data['cityCenters_nearest_km'].astype('int')\n",
    "pivot_table_km = data.query('locality_name == \"Санкт-Петербург\" and cityCenters_nearest_km !=999999').pivot_table(index = 'cityCenters_nearest_km', values = 'price_per_square_meter', aggfunc = 'mean').reset_index()\n",
    "pivot_table_km.plot()\n",
    "pivot_table_km"
   ]
  },
  {
   "cell_type": "markdown",
   "metadata": {},
   "source": [
    "График демонстрирует двойную вершину цены к удаленности от центра в районе 5 км от центра. Предлагаю взять значение 10 км, отмеченное завершением второй вершины по цене, как точку отсчета центральной части. Логично, что там, где заканчиваются высокие цены и идет плавное снижение цены - есть мерка \"нестандартной цены\" или цены одного фактора (близост ьк центру, за это могут к цене квартиры добавлять чуть ли не 40% - гипотеза)."
   ]
  },
  {
   "cell_type": "markdown",
   "metadata": {},
   "source": [
    "<div class=\"alert alert-success\">\n",
    "<b>Комментарий ревьюера:</b>\n",
    "\n",
    "Ориентировочно да, потому что дальше идёт в том числе спад и длительная стагнация стоимости.\n",
    "    \n",
    "</div>"
   ]
  },
  {
   "cell_type": "markdown",
   "metadata": {},
   "source": [
    "*Выделите сегмент квартир в центре. Проанализируйте эту территорию и изучите следующие параметры: площадь, цена, число комнат, высота потолков. Также выделите факторы, которые влияют на стоимость квартиры (число комнат, этаж, удалённость от центра, дата размещения объявления). Сделайте выводы. Отличаются ли они от общих выводов по всему городу?*"
   ]
  },
  {
   "cell_type": "code",
   "execution_count": 41,
   "metadata": {},
   "outputs": [],
   "source": [
    "#Соберем квартиры в центре в отдельный датасет по радиусу 10 км\n",
    "center_spb_data = data.query('cityCenters_nearest_km <= 10 and locality_name == \"Санкт-Петербург\"')"
   ]
  },
  {
   "cell_type": "code",
   "execution_count": 42,
   "metadata": {},
   "outputs": [
    {
     "data": {
      "text/plain": [
       "0.28505602669935876"
      ]
     },
     "execution_count": 42,
     "metadata": {},
     "output_type": "execute_result"
    }
   ],
   "source": [
    "#Зависимость от площади\n",
    "center_spb_data['total_area'].corr(data['price_per_square_meter'])"
   ]
  },
  {
   "cell_type": "markdown",
   "metadata": {},
   "source": [
    "0.298 > 0.285 Соответственно, зависимость меньше."
   ]
  },
  {
   "cell_type": "code",
   "execution_count": 43,
   "metadata": {},
   "outputs": [
    {
     "data": {
      "text/plain": [
       "0.04706412706870006"
      ]
     },
     "execution_count": 43,
     "metadata": {},
     "output_type": "execute_result"
    }
   ],
   "source": [
    "#Зависимость цены от числа комнат\n",
    "center_spb_data['rooms'].corr(data['price_per_square_meter'])"
   ]
  },
  {
   "cell_type": "markdown",
   "metadata": {},
   "source": [
    "0.052 > 0.047 ,соответствено, зависимость меньше."
   ]
  },
  {
   "cell_type": "code",
   "execution_count": 44,
   "metadata": {},
   "outputs": [
    {
     "data": {
      "text/plain": [
       "0.04706412706870006"
      ]
     },
     "execution_count": 44,
     "metadata": {},
     "output_type": "execute_result"
    },
    {
     "data": {
      "image/png": "[encoded data removed]",
      "text/plain": [
       "<Figure size 432x288 with 1 Axes>"
      ]
     },
     "metadata": {
      "needs_background": "light"
     },
     "output_type": "display_data"
    }
   ],
   "source": [
    "#Зависимость от числа комнат\n",
    "center_spb_rooms = center_spb_data.pivot_table(index = 'rooms', values = 'price_per_square_meter', aggfunc = ['mean', 'count', 'median'])\n",
    "center_spb_rooms.columns = ['mean', 'count', 'median']\n",
    "center_spb_rooms.query('count > 10').sort_values('median', ascending = False)\n",
    "\n",
    "center_spb_rooms.query('count > 10').plot(y = 'median')\n",
    "center_spb_data['rooms'].corr(data['price_per_square_meter'])"
   ]
  },
  {
   "cell_type": "markdown",
   "metadata": {},
   "source": [
    "0.052 > 0.047 Соответственно зависимость меньше, однако цена квадратного метра снижается до 6 комнытных, а не до 3 комнатных, как во всем городе."
   ]
  },
  {
   "cell_type": "code",
   "execution_count": 45,
   "metadata": {
    "scrolled": true
   },
   "outputs": [
    {
     "data": {
      "text/html": [
       "<div>\n",
       "<style scoped>\n",
       "    .dataframe tbody tr th:only-of-type {\n",
       "        vertical-align: middle;\n",
       "    }\n",
       "\n",
       "    .dataframe tbody tr th {\n",
       "        vertical-align: top;\n",
       "    }\n",
       "\n",
       "    .dataframe thead th {\n",
       "        text-align: right;\n",
       "    }\n",
       "</style>\n",
       "<table border=\"1\" class=\"dataframe\">\n",
       "  <thead>\n",
       "    <tr style=\"text-align: right;\">\n",
       "      <th></th>\n",
       "      <th>ceiling_height</th>\n",
       "      <th>mean</th>\n",
       "      <th>count</th>\n",
       "      <th>median</th>\n",
       "    </tr>\n",
       "  </thead>\n",
       "  <tbody>\n",
       "    <tr>\n",
       "      <td>0</td>\n",
       "      <td>100.00</td>\n",
       "      <td>600000.0</td>\n",
       "      <td>1</td>\n",
       "      <td>600000.0</td>\n",
       "    </tr>\n",
       "    <tr>\n",
       "      <td>1</td>\n",
       "      <td>32.00</td>\n",
       "      <td>108684.0</td>\n",
       "      <td>1</td>\n",
       "      <td>108684.0</td>\n",
       "    </tr>\n",
       "    <tr>\n",
       "      <td>2</td>\n",
       "      <td>27.50</td>\n",
       "      <td>116666.0</td>\n",
       "      <td>1</td>\n",
       "      <td>116666.0</td>\n",
       "    </tr>\n",
       "    <tr>\n",
       "      <td>3</td>\n",
       "      <td>27.00</td>\n",
       "      <td>177777.0</td>\n",
       "      <td>1</td>\n",
       "      <td>177777.0</td>\n",
       "    </tr>\n",
       "    <tr>\n",
       "      <td>4</td>\n",
       "      <td>26.00</td>\n",
       "      <td>88000.0</td>\n",
       "      <td>1</td>\n",
       "      <td>88000.0</td>\n",
       "    </tr>\n",
       "    <tr>\n",
       "      <td>...</td>\n",
       "      <td>...</td>\n",
       "      <td>...</td>\n",
       "      <td>...</td>\n",
       "      <td>...</td>\n",
       "    </tr>\n",
       "    <tr>\n",
       "      <td>159</td>\n",
       "      <td>2.47</td>\n",
       "      <td>95421.0</td>\n",
       "      <td>1</td>\n",
       "      <td>95421.0</td>\n",
       "    </tr>\n",
       "    <tr>\n",
       "      <td>160</td>\n",
       "      <td>2.46</td>\n",
       "      <td>109230.0</td>\n",
       "      <td>1</td>\n",
       "      <td>109230.0</td>\n",
       "    </tr>\n",
       "    <tr>\n",
       "      <td>161</td>\n",
       "      <td>2.45</td>\n",
       "      <td>80035.0</td>\n",
       "      <td>4</td>\n",
       "      <td>74383.0</td>\n",
       "    </tr>\n",
       "    <tr>\n",
       "      <td>162</td>\n",
       "      <td>2.40</td>\n",
       "      <td>108763.5</td>\n",
       "      <td>4</td>\n",
       "      <td>114642.5</td>\n",
       "    </tr>\n",
       "    <tr>\n",
       "      <td>163</td>\n",
       "      <td>2.00</td>\n",
       "      <td>139772.0</td>\n",
       "      <td>1</td>\n",
       "      <td>139772.0</td>\n",
       "    </tr>\n",
       "  </tbody>\n",
       "</table>\n",
       "<p>164 rows × 4 columns</p>\n",
       "</div>"
      ],
      "text/plain": [
       "     ceiling_height      mean  count    median\n",
       "0            100.00  600000.0      1  600000.0\n",
       "1             32.00  108684.0      1  108684.0\n",
       "2             27.50  116666.0      1  116666.0\n",
       "3             27.00  177777.0      1  177777.0\n",
       "4             26.00   88000.0      1   88000.0\n",
       "..              ...       ...    ...       ...\n",
       "159            2.47   95421.0      1   95421.0\n",
       "160            2.46  109230.0      1  109230.0\n",
       "161            2.45   80035.0      4   74383.0\n",
       "162            2.40  108763.5      4  114642.5\n",
       "163            2.00  139772.0      1  139772.0\n",
       "\n",
       "[164 rows x 4 columns]"
      ]
     },
     "execution_count": 45,
     "metadata": {},
     "output_type": "execute_result"
    }
   ],
   "source": [
    "#Зависимость от высоты потолков\n",
    "center_spb_ceiling_height = center_spb_data.pivot_table(index = 'ceiling_height', values = 'price_per_square_meter', aggfunc = ['mean', 'count', 'median'])\n",
    "center_spb_ceiling_height.columns = ['mean', 'count', 'median']\n",
    "center_spb_ceiling_height.sort_values('ceiling_height', ascending = False).reset_index()\n"
   ]
  },
  {
   "cell_type": "markdown",
   "metadata": {},
   "source": [
    "Видим некорректные значения в столбце ceiling_height - мы ранее выяснили среднюю высотку потолков, она равна 2,7м (условно можем считать, что до 3). В рамках этого исследования отрежем все, что выше 4 метров и посмотрим на график."
   ]
  },
  {
   "cell_type": "code",
   "execution_count": 46,
   "metadata": {},
   "outputs": [
    {
     "data": {
      "text/plain": [
       "<matplotlib.axes._subplots.AxesSubplot at 0x7f99c9569d90>"
      ]
     },
     "execution_count": 46,
     "metadata": {},
     "output_type": "execute_result"
    },
    {
     "data": {
      "image/png": "[encoded data removed]",
      "text/plain": [
       "<Figure size 432x288 with 1 Axes>"
      ]
     },
     "metadata": {
      "needs_background": "light"
     },
     "output_type": "display_data"
    }
   ],
   "source": [
    "center_spb_data['ceiling_height'].corr(data['price_per_square_meter'])\n",
    "center_spb_ceiling_height.query('ceiling_height < 4').plot(y = 'median')"
   ]
  },
  {
   "cell_type": "code",
   "execution_count": 47,
   "metadata": {},
   "outputs": [
    {
     "data": {
      "text/plain": [
       "0.12078370102303873"
      ]
     },
     "execution_count": 47,
     "metadata": {},
     "output_type": "execute_result"
    }
   ],
   "source": [
    "center_spb_data['ceiling_height'].corr(data['price_per_square_meter'])"
   ]
  },
  {
   "cell_type": "markdown",
   "metadata": {},
   "source": [
    "Видим, что зависимость цены от высоты потолков 0.120, практически такая же, как по всему городу (0.122). Здесь момент в том, что у нас по всему городу заполнена высота потолков только в 184 стркоах, из них 163 строки - в центре. Соттветственно, значения получатся одинаковыми. Мы уже отмечали, что к отправителям датасета есть вопрсоы о данных. Высота потолков тоже под вопросом -как правильность заполнения так и правильность передачи данных (возможно был сбит формат)."
   ]
  },
  {
   "cell_type": "code",
   "execution_count": 48,
   "metadata": {},
   "outputs": [
    {
     "data": {
      "text/html": [
       "<div>\n",
       "<style scoped>\n",
       "    .dataframe tbody tr th:only-of-type {\n",
       "        vertical-align: middle;\n",
       "    }\n",
       "\n",
       "    .dataframe tbody tr th {\n",
       "        vertical-align: top;\n",
       "    }\n",
       "\n",
       "    .dataframe thead th {\n",
       "        text-align: right;\n",
       "    }\n",
       "</style>\n",
       "<table border=\"1\" class=\"dataframe\">\n",
       "  <thead>\n",
       "    <tr style=\"text-align: right;\">\n",
       "      <th></th>\n",
       "      <th>floor_category</th>\n",
       "      <th>mean</th>\n",
       "      <th>count</th>\n",
       "      <th>median</th>\n",
       "    </tr>\n",
       "  </thead>\n",
       "  <tbody>\n",
       "    <tr>\n",
       "      <td>0</td>\n",
       "      <td>другой</td>\n",
       "      <td>135661.567814</td>\n",
       "      <td>4387</td>\n",
       "      <td>120000.0</td>\n",
       "    </tr>\n",
       "    <tr>\n",
       "      <td>1</td>\n",
       "      <td>первый</td>\n",
       "      <td>114087.000000</td>\n",
       "      <td>650</td>\n",
       "      <td>102208.5</td>\n",
       "    </tr>\n",
       "    <tr>\n",
       "      <td>2</td>\n",
       "      <td>последний</td>\n",
       "      <td>135217.847476</td>\n",
       "      <td>931</td>\n",
       "      <td>112500.0</td>\n",
       "    </tr>\n",
       "  </tbody>\n",
       "</table>\n",
       "</div>"
      ],
      "text/plain": [
       "  floor_category           mean  count    median\n",
       "0         другой  135661.567814   4387  120000.0\n",
       "1         первый  114087.000000    650  102208.5\n",
       "2      последний  135217.847476    931  112500.0"
      ]
     },
     "execution_count": 48,
     "metadata": {},
     "output_type": "execute_result"
    },
    {
     "data": {
      "image/png": "[encoded data removed]",
      "text/plain": [
       "<Figure size 432x288 with 1 Axes>"
      ]
     },
     "metadata": {
      "needs_background": "light"
     },
     "output_type": "display_data"
    }
   ],
   "source": [
    "center_spb_floor_category = center_spb_data.pivot_table(index = 'floor_category', values = 'price_per_square_meter', aggfunc = ['mean', 'count', 'median'])\n",
    "center_spb_floor_category.columns = ['mean', 'count', 'median']\n",
    "center_spb_floor_category.plot(y = 'median')\n",
    "center_spb_floor_category.reset_index()"
   ]
  },
  {
   "cell_type": "markdown",
   "metadata": {},
   "source": [
    "Видим аналогичную ситуацию, как и с общими данными по датасету - первый этаж стоит существенно дешевле. Если сравнить по категориям с основными данными, то:\n",
    "- Первый этаж в центре на 9.2% дешевле, чем последний (8.3%)\n",
    "- Первый этаж в центре на 14.6% дешевле, чем другие( 17.3%)\\n\n",
    "\n",
    "В целом, разница не существенная, но есть. "
   ]
  },
  {
   "cell_type": "code",
   "execution_count": 49,
   "metadata": {},
   "outputs": [
    {
     "data": {
      "text/plain": [
       "-0.18508875596473423"
      ]
     },
     "execution_count": 49,
     "metadata": {},
     "output_type": "execute_result"
    },
    {
     "data": {
      "image/png": "[encoded data removed]",
      "text/plain": [
       "<Figure size 432x288 with 1 Axes>"
      ]
     },
     "metadata": {
      "needs_background": "light"
     },
     "output_type": "display_data"
    }
   ],
   "source": [
    "cspb_cityCenters_nearest = center_spb_data.pivot_table(index = 'cityCenters_nearest', values = 'price_per_square_meter', aggfunc = ['mean', 'count', 'median'])\n",
    "cspb_cityCenters_nearest.columns = ['mean', 'count', 'median']\n",
    "cspb_cityCenters_nearest.query('count > 10').sort_values('median', ascending = False).plot(y = 'median')\n",
    "\n",
    "center_spb_data['cityCenters_nearest'].corr(data['price_per_square_meter'])"
   ]
  },
  {
   "cell_type": "markdown",
   "metadata": {},
   "source": [
    "-0.317> -0.185 Обратной зависимости удаленности от центра в центральных объуетах (10км) еще меньше, что в целом, не удивительно.Вероятно, мы верно опредилили центр."
   ]
  },
  {
   "cell_type": "code",
   "execution_count": 50,
   "metadata": {},
   "outputs": [
    {
     "data": {
      "text/html": [
       "<div>\n",
       "<style scoped>\n",
       "    .dataframe tbody tr th:only-of-type {\n",
       "        vertical-align: middle;\n",
       "    }\n",
       "\n",
       "    .dataframe tbody tr th {\n",
       "        vertical-align: top;\n",
       "    }\n",
       "\n",
       "    .dataframe thead th {\n",
       "        text-align: right;\n",
       "    }\n",
       "</style>\n",
       "<table border=\"1\" class=\"dataframe\">\n",
       "  <thead>\n",
       "    <tr style=\"text-align: right;\">\n",
       "      <th></th>\n",
       "      <th>weekday_exposition</th>\n",
       "      <th>mean</th>\n",
       "      <th>count</th>\n",
       "      <th>median</th>\n",
       "    </tr>\n",
       "  </thead>\n",
       "  <tbody>\n",
       "    <tr>\n",
       "      <td>0</td>\n",
       "      <td>6</td>\n",
       "      <td>132611.968668</td>\n",
       "      <td>383</td>\n",
       "      <td>120000.0</td>\n",
       "    </tr>\n",
       "    <tr>\n",
       "      <td>1</td>\n",
       "      <td>5</td>\n",
       "      <td>139710.464758</td>\n",
       "      <td>454</td>\n",
       "      <td>118697.0</td>\n",
       "    </tr>\n",
       "    <tr>\n",
       "      <td>2</td>\n",
       "      <td>0</td>\n",
       "      <td>133799.039956</td>\n",
       "      <td>901</td>\n",
       "      <td>117283.0</td>\n",
       "    </tr>\n",
       "    <tr>\n",
       "      <td>3</td>\n",
       "      <td>2</td>\n",
       "      <td>132675.406312</td>\n",
       "      <td>1014</td>\n",
       "      <td>116077.0</td>\n",
       "    </tr>\n",
       "    <tr>\n",
       "      <td>4</td>\n",
       "      <td>3</td>\n",
       "      <td>133742.823682</td>\n",
       "      <td>1157</td>\n",
       "      <td>115625.0</td>\n",
       "    </tr>\n",
       "    <tr>\n",
       "      <td>5</td>\n",
       "      <td>4</td>\n",
       "      <td>131697.670319</td>\n",
       "      <td>1004</td>\n",
       "      <td>115504.5</td>\n",
       "    </tr>\n",
       "    <tr>\n",
       "      <td>6</td>\n",
       "      <td>1</td>\n",
       "      <td>131714.937442</td>\n",
       "      <td>1071</td>\n",
       "      <td>114848.0</td>\n",
       "    </tr>\n",
       "  </tbody>\n",
       "</table>\n",
       "</div>"
      ],
      "text/plain": [
       "   weekday_exposition           mean  count    median\n",
       "0                   6  132611.968668    383  120000.0\n",
       "1                   5  139710.464758    454  118697.0\n",
       "2                   0  133799.039956    901  117283.0\n",
       "3                   2  132675.406312   1014  116077.0\n",
       "4                   3  133742.823682   1157  115625.0\n",
       "5                   4  131697.670319   1004  115504.5\n",
       "6                   1  131714.937442   1071  114848.0"
      ]
     },
     "execution_count": 50,
     "metadata": {},
     "output_type": "execute_result"
    },
    {
     "data": {
      "image/png": "[encoded data removed]",
      "text/plain": [
       "<Figure size 432x288 with 1 Axes>"
      ]
     },
     "metadata": {
      "needs_background": "light"
     },
     "output_type": "display_data"
    }
   ],
   "source": [
    "#Зависимость цены за квадратынй метр от дня недели\n",
    "cspb_weekday_exposition = center_spb_data.pivot_table(index = 'weekday_exposition', values = 'price_per_square_meter', aggfunc = ['mean', 'count', 'median'])\n",
    "cspb_weekday_exposition.columns = ['mean', 'count', 'median']\n",
    "cspb_weekday_exposition.plot(y = 'median')\n",
    "\n",
    "cspb_weekday_exposition.sort_values('median', ascending = False).reset_index()"
   ]
  },
  {
   "cell_type": "code",
   "execution_count": 51,
   "metadata": {},
   "outputs": [
    {
     "data": {
      "text/plain": [
       "0.007404014101260922"
      ]
     },
     "execution_count": 51,
     "metadata": {},
     "output_type": "execute_result"
    }
   ],
   "source": [
    "center_spb_data['weekday_exposition'].corr(data['price_per_square_meter'])"
   ]
  },
  {
   "cell_type": "markdown",
   "metadata": {},
   "source": [
    "Зависимости от дня недели нет практически совсем, однако на графике мы видим, что в пятницу, субботу и воскресенье цены выше. Это отличается от общей картины. Как вариант, это может происходить потому, что квартиры из центра могут продаваться только риелторами ( то есть контенгент центральных жителей предпочитает сам вообще не участвовать в этом процессе) для того, чтобы находитсья в верхних позициях выдачи объявленйи на сайте (как правило, сначала показываются новые объекты) и к понедельнику попасть во всю аудиторию, кто во сколько будет смотреть объявление. Идеальн обыло бы сопоставить посещаемость сайта с выставлением объектов по дням и подтвердить гипотезу, например, что больше всег опросмотров новых объявлений идет в понедельник."
   ]
  },
  {
   "cell_type": "code",
   "execution_count": 52,
   "metadata": {},
   "outputs": [
    {
     "data": {
      "text/html": [
       "<div>\n",
       "<style scoped>\n",
       "    .dataframe tbody tr th:only-of-type {\n",
       "        vertical-align: middle;\n",
       "    }\n",
       "\n",
       "    .dataframe tbody tr th {\n",
       "        vertical-align: top;\n",
       "    }\n",
       "\n",
       "    .dataframe thead th {\n",
       "        text-align: right;\n",
       "    }\n",
       "</style>\n",
       "<table border=\"1\" class=\"dataframe\">\n",
       "  <thead>\n",
       "    <tr style=\"text-align: right;\">\n",
       "      <th></th>\n",
       "      <th>month_exposition</th>\n",
       "      <th>mean</th>\n",
       "      <th>count</th>\n",
       "      <th>median</th>\n",
       "    </tr>\n",
       "  </thead>\n",
       "  <tbody>\n",
       "    <tr>\n",
       "      <td>0</td>\n",
       "      <td>3</td>\n",
       "      <td>134168.354839</td>\n",
       "      <td>651</td>\n",
       "      <td>120879.0</td>\n",
       "    </tr>\n",
       "    <tr>\n",
       "      <td>1</td>\n",
       "      <td>8</td>\n",
       "      <td>134583.983796</td>\n",
       "      <td>432</td>\n",
       "      <td>120369.5</td>\n",
       "    </tr>\n",
       "    <tr>\n",
       "      <td>2</td>\n",
       "      <td>1</td>\n",
       "      <td>136207.813514</td>\n",
       "      <td>370</td>\n",
       "      <td>119607.0</td>\n",
       "    </tr>\n",
       "    <tr>\n",
       "      <td>3</td>\n",
       "      <td>9</td>\n",
       "      <td>134169.588235</td>\n",
       "      <td>510</td>\n",
       "      <td>118987.5</td>\n",
       "    </tr>\n",
       "    <tr>\n",
       "      <td>4</td>\n",
       "      <td>11</td>\n",
       "      <td>132016.131673</td>\n",
       "      <td>562</td>\n",
       "      <td>116666.0</td>\n",
       "    </tr>\n",
       "    <tr>\n",
       "      <td>5</td>\n",
       "      <td>4</td>\n",
       "      <td>138502.482234</td>\n",
       "      <td>591</td>\n",
       "      <td>116455.0</td>\n",
       "    </tr>\n",
       "    <tr>\n",
       "      <td>6</td>\n",
       "      <td>7</td>\n",
       "      <td>132149.384120</td>\n",
       "      <td>466</td>\n",
       "      <td>115187.5</td>\n",
       "    </tr>\n",
       "    <tr>\n",
       "      <td>7</td>\n",
       "      <td>10</td>\n",
       "      <td>130023.756863</td>\n",
       "      <td>510</td>\n",
       "      <td>115131.5</td>\n",
       "    </tr>\n",
       "    <tr>\n",
       "      <td>8</td>\n",
       "      <td>12</td>\n",
       "      <td>135600.287879</td>\n",
       "      <td>396</td>\n",
       "      <td>114720.5</td>\n",
       "    </tr>\n",
       "    <tr>\n",
       "      <td>9</td>\n",
       "      <td>2</td>\n",
       "      <td>131747.262918</td>\n",
       "      <td>658</td>\n",
       "      <td>113896.5</td>\n",
       "    </tr>\n",
       "    <tr>\n",
       "      <td>10</td>\n",
       "      <td>6</td>\n",
       "      <td>131782.490526</td>\n",
       "      <td>475</td>\n",
       "      <td>113422.0</td>\n",
       "    </tr>\n",
       "    <tr>\n",
       "      <td>11</td>\n",
       "      <td>5</td>\n",
       "      <td>127006.112948</td>\n",
       "      <td>363</td>\n",
       "      <td>112962.0</td>\n",
       "    </tr>\n",
       "  </tbody>\n",
       "</table>\n",
       "</div>"
      ],
      "text/plain": [
       "    month_exposition           mean  count    median\n",
       "0                  3  134168.354839    651  120879.0\n",
       "1                  8  134583.983796    432  120369.5\n",
       "2                  1  136207.813514    370  119607.0\n",
       "3                  9  134169.588235    510  118987.5\n",
       "4                 11  132016.131673    562  116666.0\n",
       "5                  4  138502.482234    591  116455.0\n",
       "6                  7  132149.384120    466  115187.5\n",
       "7                 10  130023.756863    510  115131.5\n",
       "8                 12  135600.287879    396  114720.5\n",
       "9                  2  131747.262918    658  113896.5\n",
       "10                 6  131782.490526    475  113422.0\n",
       "11                 5  127006.112948    363  112962.0"
      ]
     },
     "execution_count": 52,
     "metadata": {},
     "output_type": "execute_result"
    },
    {
     "data": {
      "image/png": "[encoded data removed]",
      "text/plain": [
       "<Figure size 432x288 with 1 Axes>"
      ]
     },
     "metadata": {
      "needs_background": "light"
     },
     "output_type": "display_data"
    }
   ],
   "source": [
    "#Зависимость цены за квадратынй метр от дня недели\n",
    "cspb_month_exposition = center_spb_data.pivot_table(index = 'month_exposition', values = 'price_per_square_meter', aggfunc = ['mean', 'count', 'median'])\n",
    "cspb_month_exposition.columns = ['mean', 'count', 'median']\n",
    "cspb_month_exposition.plot(y = 'median')\n",
    "\n",
    "cspb_month_exposition.sort_values('median', ascending = False).reset_index()"
   ]
  },
  {
   "cell_type": "code",
   "execution_count": 53,
   "metadata": {},
   "outputs": [
    {
     "data": {
      "text/plain": [
       "-0.006122174667391972"
      ]
     },
     "execution_count": 53,
     "metadata": {},
     "output_type": "execute_result"
    }
   ],
   "source": [
    "center_spb_data['month_exposition'].corr(data['price_per_square_meter'])"
   ]
  },
  {
   "cell_type": "markdown",
   "metadata": {},
   "source": [
    "**дата размещения объявления**"
   ]
  },
  {
   "cell_type": "markdown",
   "metadata": {},
   "source": [
    "Зависимость между месяцем добавления и ценой квадратного метра по коэффициенту Пуассона низкая. Аналогично общему - в мае и июне самые низкие цены за квадратный метр. "
   ]
  },
  {
   "cell_type": "code",
   "execution_count": 54,
   "metadata": {},
   "outputs": [
    {
     "data": {
      "text/html": [
       "<div>\n",
       "<style scoped>\n",
       "    .dataframe tbody tr th:only-of-type {\n",
       "        vertical-align: middle;\n",
       "    }\n",
       "\n",
       "    .dataframe tbody tr th {\n",
       "        vertical-align: top;\n",
       "    }\n",
       "\n",
       "    .dataframe thead th {\n",
       "        text-align: right;\n",
       "    }\n",
       "</style>\n",
       "<table border=\"1\" class=\"dataframe\">\n",
       "  <thead>\n",
       "    <tr style=\"text-align: right;\">\n",
       "      <th></th>\n",
       "      <th>year_exposition</th>\n",
       "      <th>mean</th>\n",
       "      <th>count</th>\n",
       "      <th>median</th>\n",
       "    </tr>\n",
       "  </thead>\n",
       "  <tbody>\n",
       "    <tr>\n",
       "      <td>0</td>\n",
       "      <td>2014</td>\n",
       "      <td>160066.553571</td>\n",
       "      <td>56</td>\n",
       "      <td>137403.5</td>\n",
       "    </tr>\n",
       "    <tr>\n",
       "      <td>1</td>\n",
       "      <td>2019</td>\n",
       "      <td>143118.630970</td>\n",
       "      <td>691</td>\n",
       "      <td>125873.0</td>\n",
       "    </tr>\n",
       "    <tr>\n",
       "      <td>2</td>\n",
       "      <td>2018</td>\n",
       "      <td>130555.942665</td>\n",
       "      <td>1936</td>\n",
       "      <td>117093.5</td>\n",
       "    </tr>\n",
       "    <tr>\n",
       "      <td>3</td>\n",
       "      <td>2015</td>\n",
       "      <td>136400.754464</td>\n",
       "      <td>448</td>\n",
       "      <td>114009.0</td>\n",
       "    </tr>\n",
       "    <tr>\n",
       "      <td>4</td>\n",
       "      <td>2017</td>\n",
       "      <td>131409.031538</td>\n",
       "      <td>2061</td>\n",
       "      <td>113333.0</td>\n",
       "    </tr>\n",
       "    <tr>\n",
       "      <td>5</td>\n",
       "      <td>2016</td>\n",
       "      <td>132297.702020</td>\n",
       "      <td>792</td>\n",
       "      <td>112184.0</td>\n",
       "    </tr>\n",
       "  </tbody>\n",
       "</table>\n",
       "</div>"
      ],
      "text/plain": [
       "   year_exposition           mean  count    median\n",
       "0             2014  160066.553571     56  137403.5\n",
       "1             2019  143118.630970    691  125873.0\n",
       "2             2018  130555.942665   1936  117093.5\n",
       "3             2015  136400.754464    448  114009.0\n",
       "4             2017  131409.031538   2061  113333.0\n",
       "5             2016  132297.702020    792  112184.0"
      ]
     },
     "execution_count": 54,
     "metadata": {},
     "output_type": "execute_result"
    },
    {
     "data": {
      "image/png": "[encoded data removed]",
      "text/plain": [
       "<Figure size 432x288 with 1 Axes>"
      ]
     },
     "metadata": {
      "needs_background": "light"
     },
     "output_type": "display_data"
    }
   ],
   "source": [
    "#Зависимость цены за квадратынй метр от года\n",
    "cspb_year_exposition = center_spb_data.pivot_table(index = 'year_exposition', values = 'price_per_square_meter', aggfunc = ['mean', 'count', 'median'])\n",
    "cspb_year_exposition.columns = ['mean', 'count', 'median']\n",
    "cspb_year_exposition.plot(y = 'median')\n",
    "\n",
    "cspb_year_exposition.sort_values('median', ascending = False).reset_index()"
   ]
  },
  {
   "cell_type": "code",
   "execution_count": 55,
   "metadata": {},
   "outputs": [
    {
     "data": {
      "text/plain": [
       "0.0036340129248147316"
      ]
     },
     "execution_count": 55,
     "metadata": {},
     "output_type": "execute_result"
    }
   ],
   "source": [
    "center_spb_data['year_exposition'].corr(data['price_per_square_meter'])"
   ]
  },
  {
   "cell_type": "markdown",
   "metadata": {},
   "source": [
    "Зависимости от года так же нет. График аналогичен общему. Интересно, что максимально количество объектов в центре продавалось в 2017 и 2018 году, то есть на подъеме рынка, что также кореллирует с общими данными."
   ]
  },
  {
   "cell_type": "markdown",
   "metadata": {},
   "source": [
    "<div class=\"alert alert-success\">\n",
    "<b>Комментарий ревьюера:</b>\n",
    "\n",
    "Кстати можно было бы сравнить центр и весь город в целом, для наглядности наших расчетов.\n",
    "    \n",
    "</div>"
   ]
  },
  {
   "cell_type": "markdown",
   "metadata": {},
   "source": [
    "## Общий вывод"
   ]
  },
  {
   "cell_type": "markdown",
   "metadata": {},
   "source": [
    "Проведя исследование данных мы обнаружили ряд зависимостей и закономерностей, а также сравнили выборку центральной части города с общими данными датасета. Ест ьвопрос к исхождной таблице - возможно, если бы было больше заполненных данных (или верно заполненных данных) - мы бы получили другие результаты исследования. Возможно, стоит доработать сайт - предложить людям выбирать варианты в некоторых столбцах из выпадающего списка (например высоту потолков), а также добавить автоматический расчет расстояни до центра.\n",
    "Мы выяснили, что:\n",
    "- квартиры на 1 этаже дешевле, чем квартиры на последнем и сущесвтенно дешевле остальных квартир. \n",
    "- самые популярные квартиры - 1и 2 комнатные, в районе 60 квадратных метров\n",
    "- средняя цена около 6.5 млн\n",
    "- средняя высота потолков 2.7м, а квартиры с высокими потолками ( 3.5-4м) стоят дороже за кв. метр\n",
    "- в среднем квартира продается от 45 до 232 дней (медиана 95)\n",
    "- зависимость от дней, месяцев  или года слабая, однако есть нюансы - например суббота, как день самых высоких цен, а май и июнь -месяца с самыми низкими ценами, период падения цен 2014-2016 и роста цен 2016-2019.\n",
    "- обнаружили центральный район по графику стоимости в радиусе 10км.\n",
    "\n",
    "Мы не проводили в рамкеах данного исследования проверку отдельно по каждому населенному пункту, вероятно где-то данные могли бы отличаться, но в целом, тренды мы вытащили из данных."
   ]
  },
  {
   "cell_type": "markdown",
   "metadata": {},
   "source": [
    "<div class=\"alert alert-success\">\n",
    "<b>Комментарий ревьюера:</b>\n",
    "\n",
    "Выводы понятны и логичны, а самое главное подкреплены выявленными фактами.\n",
    "    \n",
    "Достаточно детально проделанная работа и это не может не радовать 😊\n",
    "    \n",
    "Давай поправим мои комментарии и будем двигаться дальше.\n",
    "    \n",
    "Если у тебя вдруг есчть какие–либо вопросы, то я с радостью отвечу на них 😊\n",
    "       \n",
    "\n",
    "</div>"
   ]
  },
  {
   "cell_type": "markdown",
   "metadata": {},
   "source": [
    "<div class=\"alert alert-success\">\n",
    "<b>Комментарий ревьюера (2):</b>\n",
    "\n",
    "Здорово, что получилось поправить многие моменты и сформулировать новые идеи для будущих проектов, это круто. Предлагаю двигаться дальше 😊\n",
    "       \n",
    "В целом сам проект выполнен на хорошем уровне! На протяжении всей работы чувствуется глубина проработки задачи и это безусловный плюс для нас. Было использовано большое количество методов, которые будут помогать тебе в дальнейших проектах.\n",
    "    \n",
    "    \n",
    "Поздравляю с успешным завершением проекта 😊👍\n",
    "    \n",
    "И желаю успехов в новых работах 😊\n",
    "    \n",
    "**[общий комментарий]** Ячейки **markdown** в том числе мы можем использовать как дополнительный способ стилизации нашего проекта. Оставил ниже ссылку, с примерами стилизации.\n",
    "\n",
    "https://sqlbak.com/blog/jupyter-notebook-markdown-cheatsheet\n",
    "    \n",
    "</div>"
   ]
  },
  {
   "cell_type": "markdown",
   "metadata": {},
   "source": [
    "## Чек-лист готовности проекта\n",
    "\n",
    "Поставьте 'x' в выполненных пунктах. Далее нажмите Shift+Enter."
   ]
  },
  {
   "cell_type": "markdown",
   "metadata": {},
   "source": [
    "- [x]  открыт файл\n",
    "- [x]  файлы изучены (выведены первые строки, метод info())\n",
    "- [x]  определены пропущенные значения\n",
    "- [x]  заполнены пропущенные значения\n",
    "- [x]  есть пояснение, какие пропущенные значения обнаружены\n",
    "- [x]  изменены типы данных\n",
    "- [x]  есть пояснение, в каких столбцах изменены типы и почему\n",
    "- [x]  посчитано и добавлено в таблицу: цена квадратного метра\n",
    "- [x]  посчитано и добавлено в таблицу: день недели, месяц и год публикации объявления\n",
    "- [x]  посчитано и добавлено в таблицу: этаж квартиры; варианты — первый, последний, другой\n",
    "- [x]  посчитано и добавлено в таблицу: соотношение жилой и общей площади, а также отношение площади кухни к общей\n",
    "- [x]  изучены следующие параметры: площадь, цена, число комнат, высота потолков\n",
    "- [x]  построены гистограммы для каждого параметра\n",
    "- [x]  выполнено задание: \"Изучите время продажи квартиры. Постройте гистограмму. Посчитайте среднее и медиану. Опишите, сколько обычно занимает продажа. Когда можно считать, что продажи прошли очень быстро, а когда необычно долго?\"\n",
    "- [x]  выполнено задание: \"Уберите редкие и выбивающиеся значения. Опишите, какие особенности обнаружили.\"\n",
    "- [x]  выполнено задание: \"Какие факторы больше всего влияют на стоимость квартиры? Изучите, зависит ли цена от квадратного метра, числа комнат, этажа (первого или последнего), удалённости от центра. Также изучите зависимость от даты размещения: дня недели, месяца и года. \"Выберите 10 населённых пунктов с наибольшим числом объявлений. Посчитайте среднюю цену квадратного метра в этих населённых пунктах. Выделите населённые пункты с самой высокой и низкой стоимостью жилья. Эти данные можно найти по имени в столбце '*locality_name'*. \"\n",
    "- [x]  выполнено задание: \"Изучите предложения квартир: для каждой квартиры есть информация о расстоянии до центра. Выделите квартиры в Санкт-Петербурге (*'locality_name'*). Ваша задача — выяснить, какая область входит в центр. Создайте столбец с расстоянием до центра в километрах: округлите до целых значений. После этого посчитайте среднюю цену для каждого километра. Постройте график: он должен показывать, как цена зависит от удалённости от центра. Определите границу, где график сильно меняется — это и будет центральная зона. \"\n",
    "- [x]  выполнено задание: \"Выделите сегмент квартир в центре. Проанализируйте эту территорию и изучите следующие параметры: площадь, цена, число комнат, высота потолков. Также выделите факторы, которые влияют на стоимость квартиры (число комнат, этаж, удалённость от центра, дата размещения объявления). Сделайте выводы. Отличаются ли они от общих выводов по всему городу?\"\n",
    "- [x]  в каждом этапе есть выводы\n",
    "- [x]  есть общий вывод"
   ]
  },
  {
   "cell_type": "markdown",
   "metadata": {},
   "source": [
    "**Ревьюверу теплый привет! =) Буду рад рекомендациям и советам! Этот проект писать было уже попроще, чем первые 2. Личное достижение - заметки через # в коде. Осталось перестать путаться в синтаксисе, а то без шпаргалок никуда((**"
   ]
  },
  {
   "cell_type": "markdown",
   "metadata": {},
   "source": [
    "<div class=\"alert alert-success\">\n",
    "<b>Комментарий ревьюера:</b>\n",
    "\n",
    "Рад, что уже становится легче  и это отлично 😊 \n",
    "    \n",
    "Думаю с каждым проектом будет немного проще 😊\n",
    "\n",
    "</div>"
   ]
  },
  {
   "cell_type": "markdown",
   "metadata": {},
   "source": [
    "**Спасибо!**"
   ]
  },
  {
   "cell_type": "code",
   "execution_count": null,
   "metadata": {},
   "outputs": [],
   "source": []
  }
 ],
 "metadata": {
  "ExecuteTimeLog": [
   {
    "duration": 2649,
    "start_time": "2021-10-17T16:03:27.191Z"
   },
   {
    "duration": 88,
    "start_time": "2021-10-17T16:03:30.241Z"
   },
   {
    "duration": 119,
    "start_time": "2021-10-17T16:16:55.867Z"
   },
   {
    "duration": 93,
    "start_time": "2021-10-17T16:19:42.631Z"
   },
   {
    "duration": 861,
    "start_time": "2021-10-17T16:19:56.567Z"
   },
   {
    "duration": 122,
    "start_time": "2021-10-17T16:19:57.430Z"
   },
   {
    "duration": 110,
    "start_time": "2021-10-17T16:20:08.158Z"
   },
   {
    "duration": 16,
    "start_time": "2021-10-17T16:20:25.399Z"
   },
   {
    "duration": 841,
    "start_time": "2021-10-17T16:21:24.889Z"
   },
   {
    "duration": 28,
    "start_time": "2021-10-17T16:21:25.734Z"
   },
   {
    "duration": 117,
    "start_time": "2021-10-17T16:21:25.764Z"
   },
   {
    "duration": 416,
    "start_time": "2021-10-17T19:42:21.863Z"
   },
   {
    "duration": 6,
    "start_time": "2021-10-17T19:42:34.975Z"
   },
   {
    "duration": 5,
    "start_time": "2021-10-17T19:43:38.910Z"
   },
   {
    "duration": 31,
    "start_time": "2021-10-17T19:43:52.473Z"
   },
   {
    "duration": 6,
    "start_time": "2021-10-17T19:44:54.101Z"
   },
   {
    "duration": 66,
    "start_time": "2021-10-17T19:44:58.913Z"
   },
   {
    "duration": 10,
    "start_time": "2021-10-17T19:54:52.677Z"
   },
   {
    "duration": 9,
    "start_time": "2021-10-17T19:55:17.246Z"
   },
   {
    "duration": 68,
    "start_time": "2021-10-17T19:55:24.351Z"
   },
   {
    "duration": 36,
    "start_time": "2021-10-17T19:55:50.506Z"
   },
   {
    "duration": 39,
    "start_time": "2021-10-17T20:02:13.950Z"
   },
   {
    "duration": 39,
    "start_time": "2021-10-17T20:07:35.997Z"
   },
   {
    "duration": 46,
    "start_time": "2021-10-17T20:08:13.713Z"
   },
   {
    "duration": 8,
    "start_time": "2021-10-17T20:08:40.867Z"
   },
   {
    "duration": 12,
    "start_time": "2021-10-17T20:09:11.223Z"
   },
   {
    "duration": 10,
    "start_time": "2021-10-17T20:10:09.119Z"
   },
   {
    "duration": 17,
    "start_time": "2021-10-17T20:10:17.270Z"
   },
   {
    "duration": 311,
    "start_time": "2021-10-17T20:13:04.143Z"
   },
   {
    "duration": 307,
    "start_time": "2021-10-17T20:13:48.524Z"
   },
   {
    "duration": 11,
    "start_time": "2021-10-17T20:14:22.056Z"
   },
   {
    "duration": 13,
    "start_time": "2021-10-17T20:14:37.972Z"
   },
   {
    "duration": 29,
    "start_time": "2021-10-17T20:17:57.961Z"
   },
   {
    "duration": 879,
    "start_time": "2021-10-17T20:18:20.751Z"
   },
   {
    "duration": 30,
    "start_time": "2021-10-17T20:18:21.633Z"
   },
   {
    "duration": 124,
    "start_time": "2021-10-17T20:18:21.667Z"
   },
   {
    "duration": 77,
    "start_time": "2021-10-17T20:18:21.794Z"
   },
   {
    "duration": 13,
    "start_time": "2021-10-17T20:18:21.874Z"
   },
   {
    "duration": 37,
    "start_time": "2021-10-17T20:25:45.056Z"
   },
   {
    "duration": 12,
    "start_time": "2021-10-17T20:27:52.841Z"
   },
   {
    "duration": 13,
    "start_time": "2021-10-17T20:28:21.682Z"
   },
   {
    "duration": 71,
    "start_time": "2021-10-17T20:29:30.343Z"
   },
   {
    "duration": 54,
    "start_time": "2021-10-17T20:33:35.009Z"
   },
   {
    "duration": 12,
    "start_time": "2021-10-17T20:34:29.470Z"
   },
   {
    "duration": 52,
    "start_time": "2021-10-17T20:35:49.488Z"
   },
   {
    "duration": 53,
    "start_time": "2021-10-17T20:36:18.071Z"
   },
   {
    "duration": 12,
    "start_time": "2021-10-17T20:36:27.967Z"
   },
   {
    "duration": 54,
    "start_time": "2021-10-17T20:36:58.430Z"
   },
   {
    "duration": 56,
    "start_time": "2021-10-17T20:37:45.177Z"
   },
   {
    "duration": 38,
    "start_time": "2021-10-17T20:38:03.074Z"
   },
   {
    "duration": 8241,
    "start_time": "2021-10-17T20:38:42.247Z"
   },
   {
    "duration": 39,
    "start_time": "2021-10-17T20:39:05.344Z"
   },
   {
    "duration": 44,
    "start_time": "2021-10-17T20:47:29.225Z"
   },
   {
    "duration": 889,
    "start_time": "2021-10-17T20:52:58.963Z"
   },
   {
    "duration": 16,
    "start_time": "2021-10-17T20:52:59.855Z"
   },
   {
    "duration": 119,
    "start_time": "2021-10-17T20:52:59.874Z"
   },
   {
    "duration": 46,
    "start_time": "2021-10-17T20:52:59.996Z"
   },
   {
    "duration": 30,
    "start_time": "2021-10-17T20:53:00.044Z"
   },
   {
    "duration": 62,
    "start_time": "2021-10-17T20:53:00.077Z"
   },
   {
    "duration": 13,
    "start_time": "2021-10-17T21:06:44.592Z"
   },
   {
    "duration": 13,
    "start_time": "2021-10-17T21:06:54.556Z"
   },
   {
    "duration": 12,
    "start_time": "2021-10-17T21:07:03.538Z"
   },
   {
    "duration": 13,
    "start_time": "2021-10-17T21:07:14.752Z"
   },
   {
    "duration": 15,
    "start_time": "2021-10-17T21:07:41.034Z"
   },
   {
    "duration": 15,
    "start_time": "2021-10-17T21:07:54.456Z"
   },
   {
    "duration": 25,
    "start_time": "2021-10-17T21:08:07.953Z"
   },
   {
    "duration": 16,
    "start_time": "2021-10-17T21:08:23.354Z"
   },
   {
    "duration": 12,
    "start_time": "2021-10-17T21:08:35.143Z"
   },
   {
    "duration": 222,
    "start_time": "2021-10-18T12:10:00.805Z"
   },
   {
    "duration": 711,
    "start_time": "2021-10-18T12:10:30.375Z"
   },
   {
    "duration": 11,
    "start_time": "2021-10-18T12:10:31.088Z"
   },
   {
    "duration": 91,
    "start_time": "2021-10-18T12:10:31.102Z"
   },
   {
    "duration": 15,
    "start_time": "2021-10-18T12:10:31.194Z"
   },
   {
    "duration": 12,
    "start_time": "2021-10-18T12:10:31.211Z"
   },
   {
    "duration": 40,
    "start_time": "2021-10-18T12:10:31.225Z"
   },
   {
    "duration": 29,
    "start_time": "2021-10-18T12:13:32.652Z"
   },
   {
    "duration": 7,
    "start_time": "2021-10-18T12:20:07.498Z"
   },
   {
    "duration": 5,
    "start_time": "2021-10-18T12:20:09.293Z"
   },
   {
    "duration": 7,
    "start_time": "2021-10-18T12:20:20.647Z"
   },
   {
    "duration": 10,
    "start_time": "2021-10-18T12:20:36.061Z"
   },
   {
    "duration": 459,
    "start_time": "2021-10-18T12:21:52.874Z"
   },
   {
    "duration": 10,
    "start_time": "2021-10-18T12:22:09.225Z"
   },
   {
    "duration": 300,
    "start_time": "2021-10-18T12:22:28.599Z"
   },
   {
    "duration": 11,
    "start_time": "2021-10-18T12:23:17.494Z"
   },
   {
    "duration": 312,
    "start_time": "2021-10-18T12:23:28.240Z"
   },
   {
    "duration": 10,
    "start_time": "2021-10-18T12:23:33.410Z"
   },
   {
    "duration": 299,
    "start_time": "2021-10-18T12:23:55.828Z"
   },
   {
    "duration": 325,
    "start_time": "2021-10-18T12:24:21.267Z"
   },
   {
    "duration": 12,
    "start_time": "2021-10-18T12:24:54.407Z"
   },
   {
    "duration": 10,
    "start_time": "2021-10-18T12:25:09.332Z"
   },
   {
    "duration": 392,
    "start_time": "2021-10-18T12:25:19.091Z"
   },
   {
    "duration": 311,
    "start_time": "2021-10-18T12:26:51.413Z"
   },
   {
    "duration": 317,
    "start_time": "2021-10-18T12:27:05.329Z"
   },
   {
    "duration": 303,
    "start_time": "2021-10-18T12:27:10.410Z"
   },
   {
    "duration": 205,
    "start_time": "2021-10-18T12:27:26.013Z"
   },
   {
    "duration": 273,
    "start_time": "2021-10-18T12:30:24.651Z"
   },
   {
    "duration": 267,
    "start_time": "2021-10-18T12:30:43.237Z"
   },
   {
    "duration": 354,
    "start_time": "2021-10-18T12:30:49.902Z"
   },
   {
    "duration": 296,
    "start_time": "2021-10-18T12:30:54.682Z"
   },
   {
    "duration": 306,
    "start_time": "2021-10-18T12:31:27.386Z"
   },
   {
    "duration": 245,
    "start_time": "2021-10-18T12:31:49.493Z"
   },
   {
    "duration": 29,
    "start_time": "2021-10-18T12:37:03.802Z"
   },
   {
    "duration": 389,
    "start_time": "2021-10-18T12:37:31.247Z"
   },
   {
    "duration": 203,
    "start_time": "2021-10-18T12:37:43.820Z"
   },
   {
    "duration": 340,
    "start_time": "2021-10-18T12:37:49.469Z"
   },
   {
    "duration": 330,
    "start_time": "2021-10-18T12:37:57.975Z"
   },
   {
    "duration": 266,
    "start_time": "2021-10-18T12:38:07.290Z"
   },
   {
    "duration": 37,
    "start_time": "2021-10-18T12:40:06.626Z"
   },
   {
    "duration": 49,
    "start_time": "2021-10-18T12:40:19.761Z"
   },
   {
    "duration": 34,
    "start_time": "2021-10-18T12:40:31.564Z"
   },
   {
    "duration": 35,
    "start_time": "2021-10-18T12:40:56.913Z"
   },
   {
    "duration": 59,
    "start_time": "2021-10-18T12:46:36.455Z"
   },
   {
    "duration": 461,
    "start_time": "2021-10-18T12:46:47.737Z"
   },
   {
    "duration": 489,
    "start_time": "2021-10-18T12:47:01.785Z"
   },
   {
    "duration": 478,
    "start_time": "2021-10-18T12:48:05.990Z"
   },
   {
    "duration": 337,
    "start_time": "2021-10-18T12:50:12.154Z"
   },
   {
    "duration": 420,
    "start_time": "2021-10-18T12:50:30.486Z"
   },
   {
    "duration": 6308,
    "start_time": "2021-10-18T12:55:08.736Z"
   },
   {
    "duration": 4517,
    "start_time": "2021-10-18T12:55:35.628Z"
   },
   {
    "duration": 6139,
    "start_time": "2021-10-18T12:55:56.164Z"
   },
   {
    "duration": 180,
    "start_time": "2021-10-18T12:56:19.200Z"
   },
   {
    "duration": 192,
    "start_time": "2021-10-18T12:56:59.686Z"
   },
   {
    "duration": 187,
    "start_time": "2021-10-18T12:57:20.952Z"
   },
   {
    "duration": 218,
    "start_time": "2021-10-18T12:58:18.605Z"
   },
   {
    "duration": 199,
    "start_time": "2021-10-18T12:58:53.581Z"
   },
   {
    "duration": 425,
    "start_time": "2021-10-18T12:59:07.553Z"
   },
   {
    "duration": 10,
    "start_time": "2021-10-18T12:59:48.026Z"
   },
   {
    "duration": 202,
    "start_time": "2021-10-18T13:00:05.507Z"
   },
   {
    "duration": 190,
    "start_time": "2021-10-18T13:00:13.579Z"
   },
   {
    "duration": 6,
    "start_time": "2021-10-18T13:00:17.267Z"
   },
   {
    "duration": 272,
    "start_time": "2021-10-18T13:01:17.088Z"
   },
   {
    "duration": 5,
    "start_time": "2021-10-18T13:01:21.494Z"
   },
   {
    "duration": 19,
    "start_time": "2021-10-18T13:02:32.055Z"
   },
   {
    "duration": 206,
    "start_time": "2021-10-18T13:03:01.537Z"
   },
   {
    "duration": 15,
    "start_time": "2021-10-18T13:03:18.305Z"
   },
   {
    "duration": 22,
    "start_time": "2021-10-18T13:03:26.108Z"
   },
   {
    "duration": 190,
    "start_time": "2021-10-18T13:05:10.748Z"
   },
   {
    "duration": 8,
    "start_time": "2021-10-18T13:05:23.739Z"
   },
   {
    "duration": 201,
    "start_time": "2021-10-18T13:09:39.628Z"
   },
   {
    "duration": 267,
    "start_time": "2021-10-18T13:09:56.067Z"
   },
   {
    "duration": 276,
    "start_time": "2021-10-18T13:10:54.525Z"
   },
   {
    "duration": 268,
    "start_time": "2021-10-18T13:11:06.775Z"
   },
   {
    "duration": 389,
    "start_time": "2021-10-18T13:12:21.120Z"
   },
   {
    "duration": 293,
    "start_time": "2021-10-18T13:12:26.992Z"
   },
   {
    "duration": 9,
    "start_time": "2021-10-18T13:14:35.738Z"
   },
   {
    "duration": 487,
    "start_time": "2021-10-18T13:16:46.793Z"
   },
   {
    "duration": 410,
    "start_time": "2021-10-18T13:17:01.806Z"
   },
   {
    "duration": 63,
    "start_time": "2021-10-18T13:17:11.866Z"
   },
   {
    "duration": 331,
    "start_time": "2021-10-18T13:17:54.681Z"
   },
   {
    "duration": 327,
    "start_time": "2021-10-18T13:18:01.856Z"
   },
   {
    "duration": 63,
    "start_time": "2021-10-18T13:19:12.500Z"
   },
   {
    "duration": 74,
    "start_time": "2021-10-18T13:19:41.457Z"
   },
   {
    "duration": 630,
    "start_time": "2021-10-18T13:19:58.238Z"
   },
   {
    "duration": 11,
    "start_time": "2021-10-18T13:19:58.871Z"
   },
   {
    "duration": 75,
    "start_time": "2021-10-18T13:19:58.891Z"
   },
   {
    "duration": 46,
    "start_time": "2021-10-18T13:19:58.967Z"
   },
   {
    "duration": 7,
    "start_time": "2021-10-18T13:19:59.015Z"
   },
   {
    "duration": 36,
    "start_time": "2021-10-18T13:19:59.024Z"
   },
   {
    "duration": 367,
    "start_time": "2021-10-18T13:19:59.062Z"
   },
   {
    "duration": 39,
    "start_time": "2021-10-18T13:19:59.432Z"
   },
   {
    "duration": 526,
    "start_time": "2021-10-18T13:19:59.473Z"
   },
   {
    "duration": 11,
    "start_time": "2021-10-18T13:20:00.002Z"
   },
   {
    "duration": 88,
    "start_time": "2021-10-18T13:20:00.015Z"
   },
   {
    "duration": 620,
    "start_time": "2021-10-18T13:21:38.762Z"
   },
   {
    "duration": 70,
    "start_time": "2021-10-18T13:21:49.020Z"
   },
   {
    "duration": 365,
    "start_time": "2021-10-18T13:22:14.171Z"
   },
   {
    "duration": 354,
    "start_time": "2021-10-18T13:24:24.476Z"
   },
   {
    "duration": 381,
    "start_time": "2021-10-18T13:25:11.653Z"
   },
   {
    "duration": 558,
    "start_time": "2021-10-18T13:27:35.395Z"
   },
   {
    "duration": 480,
    "start_time": "2021-10-18T13:27:59.024Z"
   },
   {
    "duration": 364,
    "start_time": "2021-10-18T13:28:26.830Z"
   },
   {
    "duration": 141,
    "start_time": "2021-10-18T13:28:59.394Z"
   },
   {
    "duration": 8,
    "start_time": "2021-10-18T13:30:11.642Z"
   },
   {
    "duration": 532,
    "start_time": "2021-10-18T13:31:01.611Z"
   },
   {
    "duration": 12,
    "start_time": "2021-10-18T13:31:06.288Z"
   },
   {
    "duration": 16,
    "start_time": "2021-10-18T13:33:56.655Z"
   },
   {
    "duration": 74,
    "start_time": "2021-10-18T13:40:46.492Z"
   },
   {
    "duration": 629,
    "start_time": "2021-10-18T13:41:14.600Z"
   },
   {
    "duration": 197,
    "start_time": "2021-10-18T13:41:39.800Z"
   },
   {
    "duration": 345,
    "start_time": "2021-10-18T13:41:55.859Z"
   },
   {
    "duration": 71,
    "start_time": "2021-10-18T13:42:04.611Z"
   },
   {
    "duration": 390,
    "start_time": "2021-10-18T13:42:30.453Z"
   },
   {
    "duration": 377,
    "start_time": "2021-10-18T13:44:35.356Z"
   },
   {
    "duration": 381,
    "start_time": "2021-10-18T13:44:41.033Z"
   },
   {
    "duration": 458,
    "start_time": "2021-10-18T13:44:44.120Z"
   },
   {
    "duration": 379,
    "start_time": "2021-10-18T13:44:58.540Z"
   },
   {
    "duration": 390,
    "start_time": "2021-10-18T13:45:04.271Z"
   },
   {
    "duration": 404,
    "start_time": "2021-10-18T13:45:07.119Z"
   },
   {
    "duration": 390,
    "start_time": "2021-10-18T13:46:28.924Z"
   },
   {
    "duration": 292,
    "start_time": "2021-10-18T13:46:54.418Z"
   },
   {
    "duration": 400,
    "start_time": "2021-10-18T13:47:04.769Z"
   },
   {
    "duration": 303,
    "start_time": "2021-10-18T13:47:15.728Z"
   },
   {
    "duration": 1198,
    "start_time": "2021-10-18T13:48:42.934Z"
   },
   {
    "duration": 326,
    "start_time": "2021-10-18T13:48:54.767Z"
   },
   {
    "duration": 411,
    "start_time": "2021-10-18T13:49:03.961Z"
   },
   {
    "duration": 331,
    "start_time": "2021-10-18T13:49:07.757Z"
   },
   {
    "duration": 342,
    "start_time": "2021-10-18T13:49:35.012Z"
   },
   {
    "duration": 341,
    "start_time": "2021-10-18T13:49:43.037Z"
   },
   {
    "duration": 331,
    "start_time": "2021-10-18T13:50:47.249Z"
   },
   {
    "duration": 347,
    "start_time": "2021-10-18T13:50:55.184Z"
   },
   {
    "duration": 325,
    "start_time": "2021-10-18T13:50:58.032Z"
   },
   {
    "duration": 344,
    "start_time": "2021-10-18T13:51:00.986Z"
   },
   {
    "duration": 417,
    "start_time": "2021-10-18T13:51:04.015Z"
   },
   {
    "duration": 326,
    "start_time": "2021-10-18T13:51:06.102Z"
   },
   {
    "duration": 335,
    "start_time": "2021-10-18T13:51:09.993Z"
   },
   {
    "duration": 324,
    "start_time": "2021-10-18T13:51:12.534Z"
   },
   {
    "duration": 323,
    "start_time": "2021-10-18T13:51:19.520Z"
   },
   {
    "duration": 652,
    "start_time": "2021-10-18T13:51:31.910Z"
   },
   {
    "duration": 10,
    "start_time": "2021-10-18T13:51:32.564Z"
   },
   {
    "duration": 81,
    "start_time": "2021-10-18T13:51:32.576Z"
   },
   {
    "duration": 43,
    "start_time": "2021-10-18T13:51:32.659Z"
   },
   {
    "duration": 8,
    "start_time": "2021-10-18T13:51:32.704Z"
   },
   {
    "duration": 38,
    "start_time": "2021-10-18T13:51:32.714Z"
   },
   {
    "duration": 348,
    "start_time": "2021-10-18T13:51:32.754Z"
   },
   {
    "duration": 37,
    "start_time": "2021-10-18T13:51:33.104Z"
   },
   {
    "duration": 553,
    "start_time": "2021-10-18T13:51:33.144Z"
   },
   {
    "duration": 7,
    "start_time": "2021-10-18T13:51:33.699Z"
   },
   {
    "duration": 86,
    "start_time": "2021-10-18T13:51:33.707Z"
   },
   {
    "duration": 10,
    "start_time": "2021-10-18T13:51:33.794Z"
   },
   {
    "duration": 9,
    "start_time": "2021-10-18T13:51:33.806Z"
   },
   {
    "duration": 414,
    "start_time": "2021-10-18T13:51:33.816Z"
   },
   {
    "duration": 364,
    "start_time": "2021-10-18T13:51:34.232Z"
   },
   {
    "duration": 251,
    "start_time": "2021-10-18T13:52:09.633Z"
   },
   {
    "duration": 229,
    "start_time": "2021-10-18T13:52:20.877Z"
   },
   {
    "duration": 200,
    "start_time": "2021-10-18T13:52:30.310Z"
   },
   {
    "duration": 243,
    "start_time": "2021-10-18T13:52:46.073Z"
   },
   {
    "duration": 308,
    "start_time": "2021-10-18T13:53:53.183Z"
   },
   {
    "duration": 262,
    "start_time": "2021-10-18T13:54:03.195Z"
   },
   {
    "duration": 14,
    "start_time": "2021-10-18T14:25:30.286Z"
   },
   {
    "duration": 141,
    "start_time": "2021-10-18T14:29:13.512Z"
   },
   {
    "duration": 677,
    "start_time": "2021-10-18T14:29:44.846Z"
   },
   {
    "duration": 672,
    "start_time": "2021-10-18T14:30:00.363Z"
   },
   {
    "duration": 766,
    "start_time": "2021-10-18T14:30:07.681Z"
   },
   {
    "duration": 664,
    "start_time": "2021-10-18T14:30:21.633Z"
   },
   {
    "duration": 675,
    "start_time": "2021-10-18T14:30:41.066Z"
   },
   {
    "duration": 660,
    "start_time": "2021-10-18T14:30:56.773Z"
   },
   {
    "duration": 780,
    "start_time": "2021-10-18T14:32:14.070Z"
   },
   {
    "duration": 12,
    "start_time": "2021-10-18T14:33:44.476Z"
   },
   {
    "duration": 11,
    "start_time": "2021-10-18T14:42:40.594Z"
   },
   {
    "duration": 687,
    "start_time": "2021-10-18T14:44:26.431Z"
   },
   {
    "duration": 694,
    "start_time": "2021-10-18T14:45:25.160Z"
   },
   {
    "duration": 709,
    "start_time": "2021-10-18T14:45:35.059Z"
   },
   {
    "duration": 762,
    "start_time": "2021-10-18T14:45:55.354Z"
   },
   {
    "duration": 686,
    "start_time": "2021-10-18T14:46:01.065Z"
   },
   {
    "duration": 231,
    "start_time": "2021-10-18T15:24:31.749Z"
   },
   {
    "duration": 204,
    "start_time": "2021-10-18T15:25:46.243Z"
   },
   {
    "duration": 85,
    "start_time": "2021-10-18T15:28:10.643Z"
   },
   {
    "duration": 215,
    "start_time": "2021-10-18T15:28:34.495Z"
   },
   {
    "duration": 261,
    "start_time": "2021-10-18T15:29:42.352Z"
   },
   {
    "duration": 221,
    "start_time": "2021-10-18T15:29:57.292Z"
   },
   {
    "duration": 211,
    "start_time": "2021-10-18T15:30:35.399Z"
   },
   {
    "duration": 6,
    "start_time": "2021-10-18T15:32:42.890Z"
   },
   {
    "duration": 5,
    "start_time": "2021-10-18T15:33:22.238Z"
   },
   {
    "duration": 321,
    "start_time": "2021-10-18T15:35:25.547Z"
   },
   {
    "duration": 223,
    "start_time": "2021-10-18T15:36:12.224Z"
   },
   {
    "duration": 233,
    "start_time": "2021-10-18T15:37:04.554Z"
   },
   {
    "duration": 30,
    "start_time": "2021-10-18T15:37:53.320Z"
   },
   {
    "duration": 215,
    "start_time": "2021-10-18T15:37:56.003Z"
   },
   {
    "duration": 60,
    "start_time": "2021-10-18T15:38:56.554Z"
   },
   {
    "duration": 518,
    "start_time": "2021-10-18T15:40:06.548Z"
   },
   {
    "duration": 485,
    "start_time": "2021-10-18T15:40:37.592Z"
   },
   {
    "duration": 503,
    "start_time": "2021-10-18T15:40:43.396Z"
   },
   {
    "duration": 541,
    "start_time": "2021-10-18T15:40:47.828Z"
   },
   {
    "duration": 215,
    "start_time": "2021-10-18T15:41:45.747Z"
   },
   {
    "duration": 427,
    "start_time": "2021-10-18T15:41:53.074Z"
   },
   {
    "duration": 495,
    "start_time": "2021-10-18T15:41:58.570Z"
   },
   {
    "duration": 187,
    "start_time": "2021-10-18T15:44:58.805Z"
   },
   {
    "duration": 62,
    "start_time": "2021-10-18T15:45:27.700Z"
   },
   {
    "duration": 57,
    "start_time": "2021-10-18T15:45:43.085Z"
   },
   {
    "duration": 62,
    "start_time": "2021-10-18T15:46:34.647Z"
   },
   {
    "duration": 208,
    "start_time": "2021-10-18T15:46:57.097Z"
   },
   {
    "duration": 305,
    "start_time": "2021-10-18T15:47:29.330Z"
   },
   {
    "duration": 184,
    "start_time": "2021-10-18T15:49:49.739Z"
   },
   {
    "duration": 190,
    "start_time": "2021-10-18T15:50:25.317Z"
   },
   {
    "duration": 201,
    "start_time": "2021-10-18T15:50:44.517Z"
   },
   {
    "duration": 840,
    "start_time": "2021-10-18T15:52:14.190Z"
   },
   {
    "duration": 819,
    "start_time": "2021-10-18T15:52:19.212Z"
   },
   {
    "duration": 211,
    "start_time": "2021-10-18T15:52:24.657Z"
   },
   {
    "duration": 683,
    "start_time": "2021-10-18T15:52:35.177Z"
   },
   {
    "duration": 224,
    "start_time": "2021-10-18T15:56:52.916Z"
   },
   {
    "duration": 223,
    "start_time": "2021-10-18T15:56:59.623Z"
   },
   {
    "duration": 5,
    "start_time": "2021-10-18T15:59:10.111Z"
   },
   {
    "duration": 216,
    "start_time": "2021-10-18T16:09:22.267Z"
   },
   {
    "duration": 5,
    "start_time": "2021-10-18T16:11:11.640Z"
   },
   {
    "duration": 231,
    "start_time": "2021-10-18T16:15:27.183Z"
   },
   {
    "duration": 189,
    "start_time": "2021-10-18T16:15:30.288Z"
   },
   {
    "duration": 5,
    "start_time": "2021-10-18T16:15:49.037Z"
   },
   {
    "duration": 228,
    "start_time": "2021-10-18T16:16:04.379Z"
   },
   {
    "duration": 5,
    "start_time": "2021-10-18T16:16:07.211Z"
   },
   {
    "duration": 35,
    "start_time": "2021-10-18T16:20:13.870Z"
   },
   {
    "duration": 23,
    "start_time": "2021-10-18T16:20:29.416Z"
   },
   {
    "duration": 9,
    "start_time": "2021-10-18T16:20:39.152Z"
   },
   {
    "duration": 27,
    "start_time": "2021-10-18T16:20:56.196Z"
   },
   {
    "duration": 10,
    "start_time": "2021-10-18T16:21:02.832Z"
   },
   {
    "duration": 9,
    "start_time": "2021-10-18T16:21:08.289Z"
   },
   {
    "duration": 9,
    "start_time": "2021-10-18T16:21:11.153Z"
   },
   {
    "duration": 26,
    "start_time": "2021-10-18T16:22:08.088Z"
   },
   {
    "duration": 9,
    "start_time": "2021-10-18T16:22:10.530Z"
   },
   {
    "duration": 9,
    "start_time": "2021-10-18T16:22:14.076Z"
   },
   {
    "duration": 208,
    "start_time": "2021-10-18T16:25:19.306Z"
   },
   {
    "duration": 331,
    "start_time": "2021-10-18T16:25:35.013Z"
   },
   {
    "duration": 14,
    "start_time": "2021-10-18T16:31:20.331Z"
   },
   {
    "duration": 8,
    "start_time": "2021-10-18T16:39:12.695Z"
   },
   {
    "duration": 7,
    "start_time": "2021-10-18T16:41:48.784Z"
   },
   {
    "duration": 231,
    "start_time": "2021-10-18T16:44:26.962Z"
   },
   {
    "duration": 231,
    "start_time": "2021-10-18T16:45:18.273Z"
   },
   {
    "duration": 229,
    "start_time": "2021-10-18T16:46:07.173Z"
   },
   {
    "duration": 221,
    "start_time": "2021-10-18T16:51:53.237Z"
   },
   {
    "duration": 222,
    "start_time": "2021-10-18T16:52:03.739Z"
   },
   {
    "duration": 47,
    "start_time": "2021-10-18T16:52:24.765Z"
   },
   {
    "duration": 34,
    "start_time": "2021-10-18T16:52:40.281Z"
   },
   {
    "duration": 227,
    "start_time": "2021-10-18T16:53:31.359Z"
   },
   {
    "duration": 219,
    "start_time": "2021-10-18T16:54:36.278Z"
   },
   {
    "duration": 206,
    "start_time": "2021-10-18T16:55:40.616Z"
   },
   {
    "duration": 29,
    "start_time": "2021-10-18T16:55:46.516Z"
   },
   {
    "duration": 199,
    "start_time": "2021-10-18T16:56:34.055Z"
   },
   {
    "duration": 212,
    "start_time": "2021-10-18T16:56:58.263Z"
   },
   {
    "duration": 224,
    "start_time": "2021-10-18T16:57:45.323Z"
   },
   {
    "duration": 200,
    "start_time": "2021-10-18T17:45:33.365Z"
   },
   {
    "duration": 46,
    "start_time": "2021-10-18T17:45:44.538Z"
   },
   {
    "duration": 26,
    "start_time": "2021-10-18T17:46:24.264Z"
   },
   {
    "duration": 125,
    "start_time": "2021-10-18T17:46:32.965Z"
   },
   {
    "duration": 6,
    "start_time": "2021-10-18T17:46:41.628Z"
   },
   {
    "duration": 182,
    "start_time": "2021-10-18T17:46:47.746Z"
   },
   {
    "duration": 202,
    "start_time": "2021-10-18T17:48:44.003Z"
   },
   {
    "duration": 25,
    "start_time": "2021-10-18T17:48:59.820Z"
   },
   {
    "duration": 4575,
    "start_time": "2021-10-18T17:49:31.489Z"
   },
   {
    "duration": 23,
    "start_time": "2021-10-18T17:50:33.467Z"
   },
   {
    "duration": 33,
    "start_time": "2021-10-18T17:50:39.463Z"
   },
   {
    "duration": 25,
    "start_time": "2021-10-18T17:51:45.833Z"
   },
   {
    "duration": 27,
    "start_time": "2021-10-18T17:52:05.541Z"
   },
   {
    "duration": 35,
    "start_time": "2021-10-18T17:52:20.403Z"
   },
   {
    "duration": 34,
    "start_time": "2021-10-18T17:52:55.312Z"
   },
   {
    "duration": 186,
    "start_time": "2021-10-18T17:56:59.664Z"
   },
   {
    "duration": 206,
    "start_time": "2021-10-18T17:57:06.748Z"
   },
   {
    "duration": 28,
    "start_time": "2021-10-18T17:58:07.071Z"
   },
   {
    "duration": 32,
    "start_time": "2021-10-18T17:58:14.120Z"
   },
   {
    "duration": 9,
    "start_time": "2021-10-18T17:58:22.910Z"
   },
   {
    "duration": 205,
    "start_time": "2021-10-18T18:01:17.540Z"
   },
   {
    "duration": 33,
    "start_time": "2021-10-18T18:01:43.811Z"
   },
   {
    "duration": 38,
    "start_time": "2021-10-18T18:02:01.701Z"
   },
   {
    "duration": 77,
    "start_time": "2021-10-18T18:03:28.319Z"
   },
   {
    "duration": 56,
    "start_time": "2021-10-18T18:03:44.900Z"
   },
   {
    "duration": 201,
    "start_time": "2021-10-18T18:03:50.561Z"
   },
   {
    "duration": 6,
    "start_time": "2021-10-18T18:04:29.987Z"
   },
   {
    "duration": 7,
    "start_time": "2021-10-18T18:07:20.174Z"
   },
   {
    "duration": 7,
    "start_time": "2021-10-18T18:07:24.967Z"
   },
   {
    "duration": 659,
    "start_time": "2021-10-18T18:08:17.122Z"
   },
   {
    "duration": 10,
    "start_time": "2021-10-18T18:08:17.783Z"
   },
   {
    "duration": 75,
    "start_time": "2021-10-18T18:08:17.795Z"
   },
   {
    "duration": 33,
    "start_time": "2021-10-18T18:08:17.872Z"
   },
   {
    "duration": 8,
    "start_time": "2021-10-18T18:08:17.907Z"
   },
   {
    "duration": 39,
    "start_time": "2021-10-18T18:08:17.916Z"
   },
   {
    "duration": 341,
    "start_time": "2021-10-18T18:08:17.957Z"
   },
   {
    "duration": 36,
    "start_time": "2021-10-18T18:08:18.301Z"
   },
   {
    "duration": 529,
    "start_time": "2021-10-18T18:08:18.339Z"
   },
   {
    "duration": 7,
    "start_time": "2021-10-18T18:08:18.870Z"
   },
   {
    "duration": 87,
    "start_time": "2021-10-18T18:08:18.879Z"
   },
   {
    "duration": 27,
    "start_time": "2021-10-18T18:08:18.968Z"
   },
   {
    "duration": 10,
    "start_time": "2021-10-18T18:08:18.996Z"
   },
   {
    "duration": 397,
    "start_time": "2021-10-18T18:08:19.008Z"
   },
   {
    "duration": 363,
    "start_time": "2021-10-18T18:08:19.407Z"
   },
   {
    "duration": 245,
    "start_time": "2021-10-18T18:08:19.772Z"
   },
   {
    "duration": 300,
    "start_time": "2021-10-18T18:08:20.019Z"
   },
   {
    "duration": 704,
    "start_time": "2021-10-18T18:08:20.321Z"
   },
   {
    "duration": 10,
    "start_time": "2021-10-18T18:08:21.027Z"
   },
   {
    "duration": 676,
    "start_time": "2021-10-18T18:08:21.038Z"
   },
   {
    "duration": 5,
    "start_time": "2021-10-18T18:08:21.716Z"
   },
   {
    "duration": 7,
    "start_time": "2021-10-18T18:08:21.722Z"
   },
   {
    "duration": 34,
    "start_time": "2021-10-18T18:08:21.733Z"
   },
   {
    "duration": 230,
    "start_time": "2021-10-18T18:08:21.770Z"
   },
   {
    "duration": 5,
    "start_time": "2021-10-18T18:08:22.002Z"
   },
   {
    "duration": 225,
    "start_time": "2021-10-18T18:08:22.009Z"
   },
   {
    "duration": 217,
    "start_time": "2021-10-18T18:08:22.235Z"
   },
   {
    "duration": 200,
    "start_time": "2021-10-18T18:08:22.453Z"
   },
   {
    "duration": 226,
    "start_time": "2021-10-18T18:08:22.655Z"
   },
   {
    "duration": 12,
    "start_time": "2021-10-18T18:08:22.882Z"
   },
   {
    "duration": 221,
    "start_time": "2021-10-18T18:08:22.896Z"
   },
   {
    "duration": 5,
    "start_time": "2021-10-18T18:08:23.119Z"
   },
   {
    "duration": 218,
    "start_time": "2021-10-18T18:08:23.126Z"
   },
   {
    "duration": 5,
    "start_time": "2021-10-18T18:08:23.345Z"
   },
   {
    "duration": 40,
    "start_time": "2021-10-18T18:08:23.352Z"
   },
   {
    "duration": 244,
    "start_time": "2021-10-18T18:08:23.394Z"
   },
   {
    "duration": 819,
    "start_time": "2021-10-18T18:08:22.820Z"
   },
   {
    "duration": 813,
    "start_time": "2021-10-18T18:08:22.827Z"
   },
   {
    "duration": 810,
    "start_time": "2021-10-18T18:08:22.831Z"
   },
   {
    "duration": 808,
    "start_time": "2021-10-18T18:08:22.834Z"
   },
   {
    "duration": 806,
    "start_time": "2021-10-18T18:08:22.837Z"
   },
   {
    "duration": 805,
    "start_time": "2021-10-18T18:08:22.839Z"
   },
   {
    "duration": 803,
    "start_time": "2021-10-18T18:08:22.842Z"
   },
   {
    "duration": 801,
    "start_time": "2021-10-18T18:08:22.845Z"
   },
   {
    "duration": 10,
    "start_time": "2021-10-18T18:08:47.207Z"
   },
   {
    "duration": 8,
    "start_time": "2021-10-18T18:08:52.107Z"
   },
   {
    "duration": 614,
    "start_time": "2021-10-18T18:08:59.344Z"
   },
   {
    "duration": 10,
    "start_time": "2021-10-18T18:08:59.960Z"
   },
   {
    "duration": 83,
    "start_time": "2021-10-18T18:08:59.973Z"
   },
   {
    "duration": 42,
    "start_time": "2021-10-18T18:09:00.058Z"
   },
   {
    "duration": 9,
    "start_time": "2021-10-18T18:09:00.102Z"
   },
   {
    "duration": 40,
    "start_time": "2021-10-18T18:09:00.113Z"
   },
   {
    "duration": 342,
    "start_time": "2021-10-18T18:09:00.154Z"
   },
   {
    "duration": 40,
    "start_time": "2021-10-18T18:09:00.499Z"
   },
   {
    "duration": 540,
    "start_time": "2021-10-18T18:09:00.541Z"
   },
   {
    "duration": 10,
    "start_time": "2021-10-18T18:09:01.082Z"
   },
   {
    "duration": 72,
    "start_time": "2021-10-18T18:09:01.094Z"
   },
   {
    "duration": 26,
    "start_time": "2021-10-18T18:09:01.168Z"
   },
   {
    "duration": 10,
    "start_time": "2021-10-18T18:09:01.196Z"
   },
   {
    "duration": 414,
    "start_time": "2021-10-18T18:09:01.208Z"
   },
   {
    "duration": 369,
    "start_time": "2021-10-18T18:09:01.624Z"
   },
   {
    "duration": 277,
    "start_time": "2021-10-18T18:09:01.995Z"
   },
   {
    "duration": 271,
    "start_time": "2021-10-18T18:09:02.274Z"
   },
   {
    "duration": 744,
    "start_time": "2021-10-18T18:09:02.547Z"
   },
   {
    "duration": 10,
    "start_time": "2021-10-18T18:09:03.293Z"
   },
   {
    "duration": 655,
    "start_time": "2021-10-18T18:09:03.305Z"
   },
   {
    "duration": 4,
    "start_time": "2021-10-18T18:09:03.962Z"
   },
   {
    "duration": 15,
    "start_time": "2021-10-18T18:09:03.968Z"
   },
   {
    "duration": 41,
    "start_time": "2021-10-18T18:09:03.986Z"
   },
   {
    "duration": 211,
    "start_time": "2021-10-18T18:09:04.029Z"
   },
   {
    "duration": 5,
    "start_time": "2021-10-18T18:09:04.241Z"
   },
   {
    "duration": 235,
    "start_time": "2021-10-18T18:09:04.247Z"
   },
   {
    "duration": 221,
    "start_time": "2021-10-18T18:09:04.483Z"
   },
   {
    "duration": 187,
    "start_time": "2021-10-18T18:09:04.706Z"
   },
   {
    "duration": 258,
    "start_time": "2021-10-18T18:09:04.895Z"
   },
   {
    "duration": 5,
    "start_time": "2021-10-18T18:09:05.155Z"
   },
   {
    "duration": 230,
    "start_time": "2021-10-18T18:09:05.161Z"
   },
   {
    "duration": 5,
    "start_time": "2021-10-18T18:09:05.393Z"
   },
   {
    "duration": 227,
    "start_time": "2021-10-18T18:09:05.399Z"
   },
   {
    "duration": 5,
    "start_time": "2021-10-18T18:09:05.627Z"
   },
   {
    "duration": 33,
    "start_time": "2021-10-18T18:09:05.634Z"
   },
   {
    "duration": 10,
    "start_time": "2021-10-18T18:09:05.668Z"
   },
   {
    "duration": 13,
    "start_time": "2021-10-18T18:09:05.691Z"
   },
   {
    "duration": 310,
    "start_time": "2021-10-18T18:09:05.705Z"
   },
   {
    "duration": 9,
    "start_time": "2021-10-18T18:09:06.017Z"
   },
   {
    "duration": 21,
    "start_time": "2021-10-18T18:09:06.028Z"
   },
   {
    "duration": 21,
    "start_time": "2021-10-18T18:09:06.051Z"
   },
   {
    "duration": 222,
    "start_time": "2021-10-18T18:09:06.073Z"
   },
   {
    "duration": 32,
    "start_time": "2021-10-18T18:09:06.297Z"
   },
   {
    "duration": 218,
    "start_time": "2021-10-18T18:09:06.331Z"
   },
   {
    "duration": 7,
    "start_time": "2021-10-18T18:10:20.955Z"
   },
   {
    "duration": 508,
    "start_time": "2021-10-18T18:15:34.716Z"
   },
   {
    "duration": 171,
    "start_time": "2021-10-18T18:15:50.852Z"
   },
   {
    "duration": 187,
    "start_time": "2021-10-18T18:16:04.642Z"
   },
   {
    "duration": 236,
    "start_time": "2021-10-18T18:16:25.726Z"
   },
   {
    "duration": 181,
    "start_time": "2021-10-18T18:16:32.615Z"
   },
   {
    "duration": 212,
    "start_time": "2021-10-18T18:25:03.577Z"
   },
   {
    "duration": 199,
    "start_time": "2021-10-18T18:37:38.964Z"
   },
   {
    "duration": 7,
    "start_time": "2021-10-18T18:37:47.518Z"
   },
   {
    "duration": 209,
    "start_time": "2021-10-18T18:43:43.962Z"
   },
   {
    "duration": 216,
    "start_time": "2021-10-18T18:45:19.143Z"
   },
   {
    "duration": 6,
    "start_time": "2021-10-18T18:45:28.967Z"
   },
   {
    "duration": 207,
    "start_time": "2021-10-18T18:47:29.818Z"
   },
   {
    "duration": 9,
    "start_time": "2021-10-18T18:47:37.785Z"
   },
   {
    "duration": 654,
    "start_time": "2021-10-18T19:05:20.695Z"
   },
   {
    "duration": 11,
    "start_time": "2021-10-18T19:05:21.350Z"
   },
   {
    "duration": 89,
    "start_time": "2021-10-18T19:05:21.364Z"
   },
   {
    "duration": 40,
    "start_time": "2021-10-18T19:05:21.456Z"
   },
   {
    "duration": 8,
    "start_time": "2021-10-18T19:05:21.498Z"
   },
   {
    "duration": 34,
    "start_time": "2021-10-18T19:05:21.508Z"
   },
   {
    "duration": 335,
    "start_time": "2021-10-18T19:05:21.544Z"
   },
   {
    "duration": 40,
    "start_time": "2021-10-18T19:05:21.882Z"
   },
   {
    "duration": 521,
    "start_time": "2021-10-18T19:05:21.924Z"
   },
   {
    "duration": 7,
    "start_time": "2021-10-18T19:05:22.446Z"
   },
   {
    "duration": 83,
    "start_time": "2021-10-18T19:05:22.455Z"
   },
   {
    "duration": 11,
    "start_time": "2021-10-18T19:05:22.539Z"
   },
   {
    "duration": 10,
    "start_time": "2021-10-18T19:05:22.551Z"
   },
   {
    "duration": 406,
    "start_time": "2021-10-18T19:05:22.562Z"
   },
   {
    "duration": 358,
    "start_time": "2021-10-18T19:05:22.970Z"
   },
   {
    "duration": 246,
    "start_time": "2021-10-18T19:05:23.330Z"
   },
   {
    "duration": 287,
    "start_time": "2021-10-18T19:05:23.578Z"
   },
   {
    "duration": 731,
    "start_time": "2021-10-18T19:05:23.867Z"
   },
   {
    "duration": 10,
    "start_time": "2021-10-18T19:05:24.600Z"
   },
   {
    "duration": 679,
    "start_time": "2021-10-18T19:05:24.612Z"
   },
   {
    "duration": 4,
    "start_time": "2021-10-18T19:05:25.293Z"
   },
   {
    "duration": 6,
    "start_time": "2021-10-18T19:05:25.299Z"
   },
   {
    "duration": 33,
    "start_time": "2021-10-18T19:05:25.308Z"
   },
   {
    "duration": 231,
    "start_time": "2021-10-18T19:05:25.343Z"
   },
   {
    "duration": 16,
    "start_time": "2021-10-18T19:05:25.575Z"
   },
   {
    "duration": 224,
    "start_time": "2021-10-18T19:05:25.593Z"
   },
   {
    "duration": 216,
    "start_time": "2021-10-18T19:05:25.819Z"
   },
   {
    "duration": 202,
    "start_time": "2021-10-18T19:05:26.037Z"
   },
   {
    "duration": 223,
    "start_time": "2021-10-18T19:05:26.241Z"
   },
   {
    "duration": 5,
    "start_time": "2021-10-18T19:05:26.466Z"
   },
   {
    "duration": 240,
    "start_time": "2021-10-18T19:05:26.472Z"
   },
   {
    "duration": 6,
    "start_time": "2021-10-18T19:05:26.714Z"
   },
   {
    "duration": 238,
    "start_time": "2021-10-18T19:05:26.721Z"
   },
   {
    "duration": 6,
    "start_time": "2021-10-18T19:05:26.962Z"
   },
   {
    "duration": 44,
    "start_time": "2021-10-18T19:05:26.970Z"
   },
   {
    "duration": 11,
    "start_time": "2021-10-18T19:05:27.016Z"
   },
   {
    "duration": 9,
    "start_time": "2021-10-18T19:05:27.029Z"
   },
   {
    "duration": 330,
    "start_time": "2021-10-18T19:05:27.041Z"
   },
   {
    "duration": 18,
    "start_time": "2021-10-18T19:05:27.373Z"
   },
   {
    "duration": 7,
    "start_time": "2021-10-18T19:05:27.393Z"
   },
   {
    "duration": 7,
    "start_time": "2021-10-18T19:05:27.401Z"
   },
   {
    "duration": 229,
    "start_time": "2021-10-18T19:05:27.409Z"
   },
   {
    "duration": 33,
    "start_time": "2021-10-18T19:05:27.640Z"
   },
   {
    "duration": 219,
    "start_time": "2021-10-18T19:05:27.675Z"
   },
   {
    "duration": 5,
    "start_time": "2021-10-18T19:05:27.896Z"
   },
   {
    "duration": 215,
    "start_time": "2021-10-18T19:05:27.903Z"
   },
   {
    "duration": 222,
    "start_time": "2021-10-18T19:05:28.120Z"
   },
   {
    "duration": 213,
    "start_time": "2021-10-18T19:05:28.344Z"
   },
   {
    "duration": 6,
    "start_time": "2021-10-18T19:05:28.558Z"
   },
   {
    "duration": 225,
    "start_time": "2021-10-18T19:05:28.566Z"
   },
   {
    "duration": 10,
    "start_time": "2021-10-18T19:05:28.793Z"
   },
   {
    "duration": 243,
    "start_time": "2021-10-18T19:05:28.806Z"
   },
   {
    "duration": 6,
    "start_time": "2021-10-18T19:05:29.051Z"
   },
   {
    "duration": 663,
    "start_time": "2021-10-19T05:01:59.289Z"
   },
   {
    "duration": 10,
    "start_time": "2021-10-19T05:01:59.954Z"
   },
   {
    "duration": 88,
    "start_time": "2021-10-19T05:01:59.966Z"
   },
   {
    "duration": 40,
    "start_time": "2021-10-19T05:02:00.057Z"
   },
   {
    "duration": 9,
    "start_time": "2021-10-19T05:02:00.098Z"
   },
   {
    "duration": 38,
    "start_time": "2021-10-19T05:02:00.108Z"
   },
   {
    "duration": 333,
    "start_time": "2021-10-19T05:02:00.148Z"
   },
   {
    "duration": 36,
    "start_time": "2021-10-19T05:02:00.491Z"
   },
   {
    "duration": 529,
    "start_time": "2021-10-19T05:02:00.530Z"
   },
   {
    "duration": 7,
    "start_time": "2021-10-19T05:02:01.062Z"
   },
   {
    "duration": 80,
    "start_time": "2021-10-19T05:02:01.071Z"
   },
   {
    "duration": 10,
    "start_time": "2021-10-19T05:02:01.153Z"
   },
   {
    "duration": 9,
    "start_time": "2021-10-19T05:02:01.164Z"
   },
   {
    "duration": 396,
    "start_time": "2021-10-19T05:02:01.191Z"
   },
   {
    "duration": 357,
    "start_time": "2021-10-19T05:02:01.589Z"
   },
   {
    "duration": 254,
    "start_time": "2021-10-19T05:02:01.948Z"
   },
   {
    "duration": 262,
    "start_time": "2021-10-19T05:02:02.204Z"
   },
   {
    "duration": 725,
    "start_time": "2021-10-19T05:02:02.468Z"
   },
   {
    "duration": 10,
    "start_time": "2021-10-19T05:02:03.195Z"
   },
   {
    "duration": 643,
    "start_time": "2021-10-19T05:02:03.207Z"
   },
   {
    "duration": 5,
    "start_time": "2021-10-19T05:02:03.851Z"
   },
   {
    "duration": 17,
    "start_time": "2021-10-19T05:02:03.857Z"
   },
   {
    "duration": 43,
    "start_time": "2021-10-19T05:02:03.875Z"
   },
   {
    "duration": 189,
    "start_time": "2021-10-19T05:02:03.920Z"
   },
   {
    "duration": 5,
    "start_time": "2021-10-19T05:02:04.110Z"
   },
   {
    "duration": 220,
    "start_time": "2021-10-19T05:02:04.117Z"
   },
   {
    "duration": 211,
    "start_time": "2021-10-19T05:02:04.340Z"
   },
   {
    "duration": 199,
    "start_time": "2021-10-19T05:02:04.553Z"
   },
   {
    "duration": 220,
    "start_time": "2021-10-19T05:02:04.753Z"
   },
   {
    "duration": 5,
    "start_time": "2021-10-19T05:02:04.975Z"
   },
   {
    "duration": 235,
    "start_time": "2021-10-19T05:02:04.982Z"
   },
   {
    "duration": 4,
    "start_time": "2021-10-19T05:02:05.219Z"
   },
   {
    "duration": 220,
    "start_time": "2021-10-19T05:02:05.225Z"
   },
   {
    "duration": 6,
    "start_time": "2021-10-19T05:02:05.447Z"
   },
   {
    "duration": 37,
    "start_time": "2021-10-19T05:02:05.455Z"
   },
   {
    "duration": 8,
    "start_time": "2021-10-19T05:02:05.494Z"
   },
   {
    "duration": 8,
    "start_time": "2021-10-19T05:02:05.504Z"
   },
   {
    "duration": 312,
    "start_time": "2021-10-19T05:02:05.514Z"
   },
   {
    "duration": 9,
    "start_time": "2021-10-19T05:02:05.827Z"
   },
   {
    "duration": 14,
    "start_time": "2021-10-19T05:02:05.837Z"
   },
   {
    "duration": 10,
    "start_time": "2021-10-19T05:02:05.852Z"
   },
   {
    "duration": 217,
    "start_time": "2021-10-19T05:02:05.864Z"
   },
   {
    "duration": 37,
    "start_time": "2021-10-19T05:02:06.083Z"
   },
   {
    "duration": 196,
    "start_time": "2021-10-19T05:02:06.122Z"
   },
   {
    "duration": 7,
    "start_time": "2021-10-19T05:02:06.321Z"
   },
   {
    "duration": 200,
    "start_time": "2021-10-19T05:02:06.329Z"
   },
   {
    "duration": 202,
    "start_time": "2021-10-19T05:02:06.531Z"
   },
   {
    "duration": 196,
    "start_time": "2021-10-19T05:02:06.735Z"
   },
   {
    "duration": 7,
    "start_time": "2021-10-19T05:02:06.934Z"
   },
   {
    "duration": 220,
    "start_time": "2021-10-19T05:02:06.942Z"
   },
   {
    "duration": 6,
    "start_time": "2021-10-19T05:02:07.163Z"
   },
   {
    "duration": 203,
    "start_time": "2021-10-19T05:02:07.170Z"
   },
   {
    "duration": 6,
    "start_time": "2021-10-19T05:02:07.374Z"
   },
   {
    "duration": 253,
    "start_time": "2021-10-19T20:19:10.639Z"
   },
   {
    "duration": 87,
    "start_time": "2021-10-19T20:19:21.841Z"
   },
   {
    "duration": 318,
    "start_time": "2021-10-19T20:22:23.061Z"
   },
   {
    "duration": 259,
    "start_time": "2021-10-19T20:22:29.049Z"
   },
   {
    "duration": 860,
    "start_time": "2021-10-19T20:22:50.038Z"
   },
   {
    "duration": 23,
    "start_time": "2021-10-19T20:22:50.901Z"
   },
   {
    "duration": 117,
    "start_time": "2021-10-19T20:22:50.927Z"
   },
   {
    "duration": 47,
    "start_time": "2021-10-19T20:22:51.046Z"
   },
   {
    "duration": 27,
    "start_time": "2021-10-19T20:22:51.096Z"
   },
   {
    "duration": 51,
    "start_time": "2021-10-19T20:22:51.125Z"
   },
   {
    "duration": 527,
    "start_time": "2021-10-19T20:22:51.179Z"
   },
   {
    "duration": 57,
    "start_time": "2021-10-19T20:22:51.708Z"
   },
   {
    "duration": 857,
    "start_time": "2021-10-19T20:22:51.769Z"
   },
   {
    "duration": 10,
    "start_time": "2021-10-19T20:22:52.629Z"
   },
   {
    "duration": 128,
    "start_time": "2021-10-19T20:22:52.642Z"
   },
   {
    "duration": 13,
    "start_time": "2021-10-19T20:22:52.772Z"
   },
   {
    "duration": 36,
    "start_time": "2021-10-19T20:22:52.788Z"
   },
   {
    "duration": 625,
    "start_time": "2021-10-19T20:22:52.827Z"
   },
   {
    "duration": 585,
    "start_time": "2021-10-19T20:22:53.455Z"
   },
   {
    "duration": 374,
    "start_time": "2021-10-19T20:22:54.043Z"
   },
   {
    "duration": 463,
    "start_time": "2021-10-19T20:22:54.419Z"
   },
   {
    "duration": 1479,
    "start_time": "2021-10-19T20:22:54.885Z"
   },
   {
    "duration": 68,
    "start_time": "2021-10-19T20:22:56.366Z"
   },
   {
    "duration": 6451,
    "start_time": "2021-10-19T20:22:56.437Z"
   },
   {
    "duration": -241,
    "start_time": "2021-10-19T20:23:03.134Z"
   },
   {
    "duration": -248,
    "start_time": "2021-10-19T20:23:03.144Z"
   },
   {
    "duration": -254,
    "start_time": "2021-10-19T20:23:03.152Z"
   },
   {
    "duration": -258,
    "start_time": "2021-10-19T20:23:03.158Z"
   },
   {
    "duration": -264,
    "start_time": "2021-10-19T20:23:03.165Z"
   },
   {
    "duration": -269,
    "start_time": "2021-10-19T20:23:03.172Z"
   },
   {
    "duration": -253,
    "start_time": "2021-10-19T20:23:03.175Z"
   },
   {
    "duration": -255,
    "start_time": "2021-10-19T20:23:03.179Z"
   },
   {
    "duration": -255,
    "start_time": "2021-10-19T20:23:03.182Z"
   },
   {
    "duration": -258,
    "start_time": "2021-10-19T20:23:03.186Z"
   },
   {
    "duration": -260,
    "start_time": "2021-10-19T20:23:03.190Z"
   },
   {
    "duration": -261,
    "start_time": "2021-10-19T20:23:03.193Z"
   },
   {
    "duration": -262,
    "start_time": "2021-10-19T20:23:03.196Z"
   },
   {
    "duration": -283,
    "start_time": "2021-10-19T20:23:03.219Z"
   },
   {
    "duration": -286,
    "start_time": "2021-10-19T20:23:03.224Z"
   },
   {
    "duration": -288,
    "start_time": "2021-10-19T20:23:03.228Z"
   },
   {
    "duration": -290,
    "start_time": "2021-10-19T20:23:03.231Z"
   },
   {
    "duration": -290,
    "start_time": "2021-10-19T20:23:03.233Z"
   },
   {
    "duration": -291,
    "start_time": "2021-10-19T20:23:03.236Z"
   },
   {
    "duration": -291,
    "start_time": "2021-10-19T20:23:03.238Z"
   },
   {
    "duration": -293,
    "start_time": "2021-10-19T20:23:03.242Z"
   },
   {
    "duration": -295,
    "start_time": "2021-10-19T20:23:03.246Z"
   },
   {
    "duration": -296,
    "start_time": "2021-10-19T20:23:03.249Z"
   },
   {
    "duration": -296,
    "start_time": "2021-10-19T20:23:03.251Z"
   },
   {
    "duration": -297,
    "start_time": "2021-10-19T20:23:03.254Z"
   },
   {
    "duration": -299,
    "start_time": "2021-10-19T20:23:03.257Z"
   },
   {
    "duration": -300,
    "start_time": "2021-10-19T20:23:03.260Z"
   },
   {
    "duration": -239,
    "start_time": "2021-10-19T20:23:03.262Z"
   },
   {
    "duration": -240,
    "start_time": "2021-10-19T20:23:03.265Z"
   },
   {
    "duration": -241,
    "start_time": "2021-10-19T20:23:03.268Z"
   },
   {
    "duration": -247,
    "start_time": "2021-10-19T20:23:03.276Z"
   },
   {
    "duration": -249,
    "start_time": "2021-10-19T20:23:03.280Z"
   },
   {
    "duration": -249,
    "start_time": "2021-10-19T20:23:03.282Z"
   },
   {
    "duration": 1019,
    "start_time": "2021-10-19T20:23:28.595Z"
   },
   {
    "duration": 1189,
    "start_time": "2021-10-19T20:24:00.874Z"
   },
   {
    "duration": 18,
    "start_time": "2021-10-19T20:24:02.066Z"
   },
   {
    "duration": 134,
    "start_time": "2021-10-19T20:24:02.088Z"
   },
   {
    "duration": 48,
    "start_time": "2021-10-19T20:24:02.226Z"
   },
   {
    "duration": 14,
    "start_time": "2021-10-19T20:24:02.278Z"
   },
   {
    "duration": 52,
    "start_time": "2021-10-19T20:24:02.323Z"
   },
   {
    "duration": 528,
    "start_time": "2021-10-19T20:24:02.377Z"
   },
   {
    "duration": 58,
    "start_time": "2021-10-19T20:24:02.909Z"
   },
   {
    "duration": 868,
    "start_time": "2021-10-19T20:24:02.969Z"
   },
   {
    "duration": 10,
    "start_time": "2021-10-19T20:24:03.839Z"
   },
   {
    "duration": 133,
    "start_time": "2021-10-19T20:24:03.853Z"
   },
   {
    "duration": 34,
    "start_time": "2021-10-19T20:24:03.990Z"
   },
   {
    "duration": 16,
    "start_time": "2021-10-19T20:24:04.027Z"
   },
   {
    "duration": 633,
    "start_time": "2021-10-19T20:24:04.046Z"
   },
   {
    "duration": 553,
    "start_time": "2021-10-19T20:24:04.682Z"
   },
   {
    "duration": 389,
    "start_time": "2021-10-19T20:24:05.239Z"
   },
   {
    "duration": 419,
    "start_time": "2021-10-19T20:24:05.630Z"
   },
   {
    "duration": 1099,
    "start_time": "2021-10-19T20:24:06.052Z"
   },
   {
    "duration": 14,
    "start_time": "2021-10-19T20:24:07.153Z"
   },
   {
    "duration": 1043,
    "start_time": "2021-10-19T20:24:07.170Z"
   },
   {
    "duration": 9,
    "start_time": "2021-10-19T20:24:08.223Z"
   },
   {
    "duration": 9,
    "start_time": "2021-10-19T20:24:08.234Z"
   },
   {
    "duration": 88,
    "start_time": "2021-10-19T20:24:08.250Z"
   },
   {
    "duration": 302,
    "start_time": "2021-10-19T20:24:08.342Z"
   },
   {
    "duration": 6,
    "start_time": "2021-10-19T20:24:08.646Z"
   },
   {
    "duration": 352,
    "start_time": "2021-10-19T20:24:08.654Z"
   },
   {
    "duration": 329,
    "start_time": "2021-10-19T20:24:09.008Z"
   },
   {
    "duration": 290,
    "start_time": "2021-10-19T20:24:09.340Z"
   },
   {
    "duration": 510,
    "start_time": "2021-10-19T20:24:09.632Z"
   },
   {
    "duration": 7,
    "start_time": "2021-10-19T20:24:10.145Z"
   },
   {
    "duration": 566,
    "start_time": "2021-10-19T20:24:10.155Z"
   },
   {
    "duration": 7,
    "start_time": "2021-10-19T20:24:10.723Z"
   },
   {
    "duration": 360,
    "start_time": "2021-10-19T20:24:10.732Z"
   },
   {
    "duration": 7,
    "start_time": "2021-10-19T20:24:11.094Z"
   },
   {
    "duration": 52,
    "start_time": "2021-10-19T20:24:11.103Z"
   },
   {
    "duration": 10,
    "start_time": "2021-10-19T20:24:11.158Z"
   },
   {
    "duration": 13,
    "start_time": "2021-10-19T20:24:11.171Z"
   },
   {
    "duration": 450,
    "start_time": "2021-10-19T20:24:11.187Z"
   },
   {
    "duration": 13,
    "start_time": "2021-10-19T20:24:11.640Z"
   },
   {
    "duration": 8,
    "start_time": "2021-10-19T20:24:11.655Z"
   },
   {
    "duration": 10,
    "start_time": "2021-10-19T20:24:11.666Z"
   },
   {
    "duration": 383,
    "start_time": "2021-10-19T20:24:11.679Z"
   },
   {
    "duration": 62,
    "start_time": "2021-10-19T20:24:12.065Z"
   },
   {
    "duration": 342,
    "start_time": "2021-10-19T20:24:12.130Z"
   },
   {
    "duration": 8,
    "start_time": "2021-10-19T20:24:12.475Z"
   },
   {
    "duration": 317,
    "start_time": "2021-10-19T20:24:12.486Z"
   },
   {
    "duration": 320,
    "start_time": "2021-10-19T20:24:12.805Z"
   },
   {
    "duration": 329,
    "start_time": "2021-10-19T20:24:13.127Z"
   },
   {
    "duration": 8,
    "start_time": "2021-10-19T20:24:13.458Z"
   },
   {
    "duration": 346,
    "start_time": "2021-10-19T20:24:13.469Z"
   },
   {
    "duration": 8,
    "start_time": "2021-10-19T20:24:13.822Z"
   },
   {
    "duration": 318,
    "start_time": "2021-10-19T20:24:13.833Z"
   },
   {
    "duration": 7,
    "start_time": "2021-10-19T20:24:14.154Z"
   },
   {
    "duration": 99,
    "start_time": "2021-10-19T21:22:39.291Z"
   },
   {
    "duration": 97,
    "start_time": "2021-10-19T21:22:50.941Z"
   },
   {
    "duration": 2085,
    "start_time": "2021-10-19T21:22:59.453Z"
   },
   {
    "duration": 2100,
    "start_time": "2021-10-19T21:23:29.993Z"
   },
   {
    "duration": 1988,
    "start_time": "2021-10-19T21:24:13.768Z"
   },
   {
    "duration": 849,
    "start_time": "2021-10-20T15:00:31.785Z"
   },
   {
    "duration": 15,
    "start_time": "2021-10-20T15:00:32.637Z"
   },
   {
    "duration": 127,
    "start_time": "2021-10-20T15:00:32.655Z"
   },
   {
    "duration": 64,
    "start_time": "2021-10-20T15:00:32.786Z"
   },
   {
    "duration": 30,
    "start_time": "2021-10-20T15:00:32.853Z"
   },
   {
    "duration": 52,
    "start_time": "2021-10-20T15:00:32.885Z"
   },
   {
    "duration": 546,
    "start_time": "2021-10-20T15:00:32.940Z"
   },
   {
    "duration": 53,
    "start_time": "2021-10-20T15:00:33.491Z"
   },
   {
    "duration": 825,
    "start_time": "2021-10-20T15:00:33.547Z"
   },
   {
    "duration": 13,
    "start_time": "2021-10-20T15:00:34.375Z"
   },
   {
    "duration": 119,
    "start_time": "2021-10-20T15:00:34.390Z"
   },
   {
    "duration": 13,
    "start_time": "2021-10-20T15:00:34.511Z"
   },
   {
    "duration": 30,
    "start_time": "2021-10-20T15:00:34.527Z"
   },
   {
    "duration": 2098,
    "start_time": "2021-10-20T15:00:34.559Z"
   },
   {
    "duration": 364,
    "start_time": "2021-10-20T15:00:36.298Z"
   },
   {
    "duration": 362,
    "start_time": "2021-10-20T15:00:36.302Z"
   },
   {
    "duration": 360,
    "start_time": "2021-10-20T15:00:36.306Z"
   },
   {
    "duration": 372,
    "start_time": "2021-10-20T15:00:36.310Z"
   },
   {
    "duration": 371,
    "start_time": "2021-10-20T15:00:36.314Z"
   },
   {
    "duration": 369,
    "start_time": "2021-10-20T15:00:36.318Z"
   },
   {
    "duration": 369,
    "start_time": "2021-10-20T15:00:36.321Z"
   },
   {
    "duration": 369,
    "start_time": "2021-10-20T15:00:36.323Z"
   },
   {
    "duration": 368,
    "start_time": "2021-10-20T15:00:36.326Z"
   },
   {
    "duration": 362,
    "start_time": "2021-10-20T15:00:36.335Z"
   },
   {
    "duration": 361,
    "start_time": "2021-10-20T15:00:36.338Z"
   },
   {
    "duration": 358,
    "start_time": "2021-10-20T15:00:36.343Z"
   },
   {
    "duration": 356,
    "start_time": "2021-10-20T15:00:36.347Z"
   },
   {
    "duration": 353,
    "start_time": "2021-10-20T15:00:36.352Z"
   },
   {
    "duration": 351,
    "start_time": "2021-10-20T15:00:36.356Z"
   },
   {
    "duration": 348,
    "start_time": "2021-10-20T15:00:36.361Z"
   },
   {
    "duration": 324,
    "start_time": "2021-10-20T15:00:36.387Z"
   },
   {
    "duration": 322,
    "start_time": "2021-10-20T15:00:36.391Z"
   },
   {
    "duration": 318,
    "start_time": "2021-10-20T15:00:36.397Z"
   },
   {
    "duration": 316,
    "start_time": "2021-10-20T15:00:36.402Z"
   },
   {
    "duration": 313,
    "start_time": "2021-10-20T15:00:36.407Z"
   },
   {
    "duration": 372,
    "start_time": "2021-10-20T15:00:36.410Z"
   },
   {
    "duration": 367,
    "start_time": "2021-10-20T15:00:36.417Z"
   },
   {
    "duration": 365,
    "start_time": "2021-10-20T15:00:36.422Z"
   },
   {
    "duration": 362,
    "start_time": "2021-10-20T15:00:36.427Z"
   },
   {
    "duration": 359,
    "start_time": "2021-10-20T15:00:36.432Z"
   },
   {
    "duration": 357,
    "start_time": "2021-10-20T15:00:36.437Z"
   },
   {
    "duration": 355,
    "start_time": "2021-10-20T15:00:36.441Z"
   },
   {
    "duration": 354,
    "start_time": "2021-10-20T15:00:36.444Z"
   },
   {
    "duration": 331,
    "start_time": "2021-10-20T15:00:36.469Z"
   },
   {
    "duration": 329,
    "start_time": "2021-10-20T15:00:36.473Z"
   },
   {
    "duration": 327,
    "start_time": "2021-10-20T15:00:36.477Z"
   },
   {
    "duration": 308,
    "start_time": "2021-10-20T15:00:36.498Z"
   },
   {
    "duration": 306,
    "start_time": "2021-10-20T15:00:36.502Z"
   },
   {
    "duration": 304,
    "start_time": "2021-10-20T15:00:36.506Z"
   },
   {
    "duration": 304,
    "start_time": "2021-10-20T15:00:36.509Z"
   },
   {
    "duration": 302,
    "start_time": "2021-10-20T15:00:36.513Z"
   },
   {
    "duration": 300,
    "start_time": "2021-10-20T15:00:36.517Z"
   },
   {
    "duration": 295,
    "start_time": "2021-10-20T15:00:36.524Z"
   },
   {
    "duration": 356,
    "start_time": "2021-10-20T15:00:36.527Z"
   },
   {
    "duration": 866,
    "start_time": "2021-10-20T15:05:55.419Z"
   },
   {
    "duration": 867,
    "start_time": "2021-10-20T15:06:33.109Z"
   },
   {
    "duration": 1985,
    "start_time": "2021-10-20T15:07:15.793Z"
   },
   {
    "duration": 1929,
    "start_time": "2021-10-20T15:07:47.828Z"
   },
   {
    "duration": 1928,
    "start_time": "2021-10-20T15:08:47.580Z"
   },
   {
    "duration": 1799,
    "start_time": "2021-10-20T15:11:43.263Z"
   },
   {
    "duration": 1816,
    "start_time": "2021-10-20T15:12:09.944Z"
   },
   {
    "duration": 1922,
    "start_time": "2021-10-20T15:16:04.108Z"
   },
   {
    "duration": 1857,
    "start_time": "2021-10-20T15:16:15.038Z"
   },
   {
    "duration": 1927,
    "start_time": "2021-10-20T15:17:21.599Z"
   },
   {
    "duration": 1900,
    "start_time": "2021-10-20T15:17:57.999Z"
   },
   {
    "duration": 6407,
    "start_time": "2021-10-20T15:19:05.626Z"
   },
   {
    "duration": 6674,
    "start_time": "2021-10-20T15:19:24.534Z"
   },
   {
    "duration": 12017,
    "start_time": "2021-10-20T15:24:12.995Z"
   },
   {
    "duration": 6614,
    "start_time": "2021-10-20T15:24:29.791Z"
   },
   {
    "duration": 6554,
    "start_time": "2021-10-20T15:24:49.779Z"
   },
   {
    "duration": 6874,
    "start_time": "2021-10-20T15:25:00.112Z"
   },
   {
    "duration": 2428,
    "start_time": "2021-10-20T15:25:22.950Z"
   },
   {
    "duration": 493,
    "start_time": "2021-10-20T15:28:35.578Z"
   },
   {
    "duration": 474,
    "start_time": "2021-10-20T15:29:24.923Z"
   },
   {
    "duration": 479,
    "start_time": "2021-10-20T15:29:53.518Z"
   },
   {
    "duration": 503,
    "start_time": "2021-10-20T15:30:04.586Z"
   },
   {
    "duration": 281,
    "start_time": "2021-10-20T15:31:01.229Z"
   },
   {
    "duration": 2392,
    "start_time": "2021-10-20T15:31:09.644Z"
   },
   {
    "duration": 2529,
    "start_time": "2021-10-20T15:32:53.022Z"
   },
   {
    "duration": 1375,
    "start_time": "2021-10-20T15:32:58.522Z"
   },
   {
    "duration": 274,
    "start_time": "2021-10-20T15:33:42.310Z"
   },
   {
    "duration": 2204,
    "start_time": "2021-10-20T15:33:59.514Z"
   },
   {
    "duration": 943,
    "start_time": "2021-10-20T15:35:04.858Z"
   },
   {
    "duration": 979,
    "start_time": "2021-10-20T15:35:18.283Z"
   },
   {
    "duration": 293,
    "start_time": "2021-10-20T15:37:51.324Z"
   },
   {
    "duration": 1099,
    "start_time": "2021-10-20T15:38:15.613Z"
   },
   {
    "duration": 1297,
    "start_time": "2021-10-20T15:39:05.287Z"
   },
   {
    "duration": 1008,
    "start_time": "2021-10-20T15:39:24.767Z"
   },
   {
    "duration": 4828,
    "start_time": "2021-10-20T15:42:52.240Z"
   },
   {
    "duration": 289,
    "start_time": "2021-10-20T15:43:48.891Z"
   },
   {
    "duration": 502,
    "start_time": "2021-10-20T15:44:50.878Z"
   },
   {
    "duration": 471,
    "start_time": "2021-10-20T15:45:26.949Z"
   },
   {
    "duration": 514,
    "start_time": "2021-10-20T15:46:07.107Z"
   },
   {
    "duration": 4826,
    "start_time": "2021-10-20T15:46:42.806Z"
   },
   {
    "duration": 1151,
    "start_time": "2021-10-20T15:47:37.343Z"
   },
   {
    "duration": 855,
    "start_time": "2021-10-20T15:50:11.786Z"
   },
   {
    "duration": 21,
    "start_time": "2021-10-20T15:50:12.644Z"
   },
   {
    "duration": 115,
    "start_time": "2021-10-20T15:50:12.684Z"
   },
   {
    "duration": 44,
    "start_time": "2021-10-20T15:50:12.802Z"
   },
   {
    "duration": 34,
    "start_time": "2021-10-20T15:50:12.849Z"
   },
   {
    "duration": 51,
    "start_time": "2021-10-20T15:50:12.885Z"
   },
   {
    "duration": 523,
    "start_time": "2021-10-20T15:50:12.939Z"
   },
   {
    "duration": 59,
    "start_time": "2021-10-20T15:50:13.465Z"
   },
   {
    "duration": 840,
    "start_time": "2021-10-20T15:50:13.529Z"
   },
   {
    "duration": 10,
    "start_time": "2021-10-20T15:50:14.381Z"
   },
   {
    "duration": 120,
    "start_time": "2021-10-20T15:50:14.393Z"
   },
   {
    "duration": 17,
    "start_time": "2021-10-20T15:50:14.516Z"
   },
   {
    "duration": 13,
    "start_time": "2021-10-20T15:50:14.536Z"
   },
   {
    "duration": 1237,
    "start_time": "2021-10-20T15:50:14.551Z"
   },
   {
    "duration": 611,
    "start_time": "2021-10-20T15:50:15.791Z"
   },
   {
    "duration": 528,
    "start_time": "2021-10-20T15:50:16.405Z"
   },
   {
    "duration": 450,
    "start_time": "2021-10-20T15:50:16.935Z"
   },
   {
    "duration": 422,
    "start_time": "2021-10-20T15:50:17.388Z"
   },
   {
    "duration": 1055,
    "start_time": "2021-10-20T15:50:17.813Z"
   },
   {
    "duration": 23,
    "start_time": "2021-10-20T15:50:18.870Z"
   },
   {
    "duration": 1046,
    "start_time": "2021-10-20T15:50:18.896Z"
   },
   {
    "duration": 7,
    "start_time": "2021-10-20T15:50:19.944Z"
   },
   {
    "duration": 28,
    "start_time": "2021-10-20T15:50:19.954Z"
   },
   {
    "duration": 53,
    "start_time": "2021-10-20T15:50:19.985Z"
   },
   {
    "duration": 309,
    "start_time": "2021-10-20T15:50:20.041Z"
   },
   {
    "duration": 7,
    "start_time": "2021-10-20T15:50:20.352Z"
   },
   {
    "duration": 334,
    "start_time": "2021-10-20T15:50:20.386Z"
   },
   {
    "duration": 341,
    "start_time": "2021-10-20T15:50:20.724Z"
   },
   {
    "duration": 379,
    "start_time": "2021-10-20T15:50:21.068Z"
   },
   {
    "duration": 332,
    "start_time": "2021-10-20T15:50:21.450Z"
   },
   {
    "duration": 7,
    "start_time": "2021-10-20T15:50:21.784Z"
   },
   {
    "duration": 338,
    "start_time": "2021-10-20T15:50:21.793Z"
   },
   {
    "duration": 7,
    "start_time": "2021-10-20T15:50:22.133Z"
   },
   {
    "duration": 1643,
    "start_time": "2021-10-20T15:50:22.142Z"
   },
   {
    "duration": 328,
    "start_time": "2021-10-20T15:50:23.789Z"
   },
   {
    "duration": 6,
    "start_time": "2021-10-20T15:50:24.120Z"
   },
   {
    "duration": 57,
    "start_time": "2021-10-20T15:50:24.128Z"
   },
   {
    "duration": 11,
    "start_time": "2021-10-20T15:50:24.187Z"
   },
   {
    "duration": 14,
    "start_time": "2021-10-20T15:50:24.200Z"
   },
   {
    "duration": 355,
    "start_time": "2021-10-20T15:50:24.216Z"
   },
   {
    "duration": 16,
    "start_time": "2021-10-20T15:50:24.573Z"
   },
   {
    "duration": 16,
    "start_time": "2021-10-20T15:50:24.591Z"
   },
   {
    "duration": 11,
    "start_time": "2021-10-20T15:50:24.610Z"
   },
   {
    "duration": 362,
    "start_time": "2021-10-20T15:50:24.623Z"
   },
   {
    "duration": 50,
    "start_time": "2021-10-20T15:50:24.987Z"
   },
   {
    "duration": 332,
    "start_time": "2021-10-20T15:50:25.040Z"
   },
   {
    "duration": 8,
    "start_time": "2021-10-20T15:50:25.382Z"
   },
   {
    "duration": 325,
    "start_time": "2021-10-20T15:50:25.392Z"
   },
   {
    "duration": 341,
    "start_time": "2021-10-20T15:50:25.719Z"
   },
   {
    "duration": 338,
    "start_time": "2021-10-20T15:50:26.063Z"
   },
   {
    "duration": 7,
    "start_time": "2021-10-20T15:50:26.405Z"
   },
   {
    "duration": 347,
    "start_time": "2021-10-20T15:50:26.415Z"
   },
   {
    "duration": 19,
    "start_time": "2021-10-20T15:50:26.765Z"
   },
   {
    "duration": 321,
    "start_time": "2021-10-20T15:50:26.787Z"
   },
   {
    "duration": 9,
    "start_time": "2021-10-20T15:50:27.110Z"
   },
   {
    "duration": 753,
    "start_time": "2021-10-21T06:39:56.773Z"
   },
   {
    "duration": 10,
    "start_time": "2021-10-21T06:39:57.527Z"
   },
   {
    "duration": 79,
    "start_time": "2021-10-21T06:39:57.539Z"
   },
   {
    "duration": 30,
    "start_time": "2021-10-21T06:39:57.620Z"
   },
   {
    "duration": 7,
    "start_time": "2021-10-21T06:39:57.651Z"
   },
   {
    "duration": 47,
    "start_time": "2021-10-21T06:39:57.660Z"
   },
   {
    "duration": 311,
    "start_time": "2021-10-21T06:39:57.708Z"
   },
   {
    "duration": 34,
    "start_time": "2021-10-21T06:39:58.020Z"
   },
   {
    "duration": 516,
    "start_time": "2021-10-21T06:39:58.056Z"
   },
   {
    "duration": 7,
    "start_time": "2021-10-21T06:39:58.574Z"
   },
   {
    "duration": 66,
    "start_time": "2021-10-21T06:39:58.591Z"
   },
   {
    "duration": 9,
    "start_time": "2021-10-21T06:39:58.659Z"
   },
   {
    "duration": 28,
    "start_time": "2021-10-21T06:39:58.669Z"
   },
   {
    "duration": 772,
    "start_time": "2021-10-21T06:39:58.699Z"
   },
   {
    "duration": 392,
    "start_time": "2021-10-21T06:39:59.473Z"
   },
   {
    "duration": 343,
    "start_time": "2021-10-21T06:39:59.867Z"
   },
   {
    "duration": 309,
    "start_time": "2021-10-21T06:40:00.212Z"
   },
   {
    "duration": 265,
    "start_time": "2021-10-21T06:40:00.522Z"
   },
   {
    "duration": 642,
    "start_time": "2021-10-21T06:40:00.789Z"
   },
   {
    "duration": 9,
    "start_time": "2021-10-21T06:40:01.433Z"
   },
   {
    "duration": 873,
    "start_time": "2021-10-21T06:40:01.444Z"
   },
   {
    "duration": 5,
    "start_time": "2021-10-21T06:40:02.318Z"
   },
   {
    "duration": 6,
    "start_time": "2021-10-21T06:40:02.325Z"
   },
   {
    "duration": 41,
    "start_time": "2021-10-21T06:40:02.332Z"
   },
   {
    "duration": 210,
    "start_time": "2021-10-21T06:40:02.375Z"
   },
   {
    "duration": 5,
    "start_time": "2021-10-21T06:40:02.591Z"
   },
   {
    "duration": 224,
    "start_time": "2021-10-21T06:40:02.599Z"
   },
   {
    "duration": 203,
    "start_time": "2021-10-21T06:40:02.825Z"
   },
   {
    "duration": 267,
    "start_time": "2021-10-21T06:40:03.030Z"
   },
   {
    "duration": 225,
    "start_time": "2021-10-21T06:40:03.298Z"
   },
   {
    "duration": 4,
    "start_time": "2021-10-21T06:40:03.525Z"
   },
   {
    "duration": 228,
    "start_time": "2021-10-21T06:40:03.531Z"
   },
   {
    "duration": 5,
    "start_time": "2021-10-21T06:40:03.760Z"
   },
   {
    "duration": 1244,
    "start_time": "2021-10-21T06:40:03.766Z"
   },
   {
    "duration": 248,
    "start_time": "2021-10-21T06:40:05.012Z"
   },
   {
    "duration": 5,
    "start_time": "2021-10-21T06:40:05.261Z"
   },
   {
    "duration": 37,
    "start_time": "2021-10-21T06:40:05.268Z"
   },
   {
    "duration": 7,
    "start_time": "2021-10-21T06:40:05.307Z"
   },
   {
    "duration": 22,
    "start_time": "2021-10-21T06:40:05.316Z"
   },
   {
    "duration": 232,
    "start_time": "2021-10-21T06:40:05.340Z"
   },
   {
    "duration": 21,
    "start_time": "2021-10-21T06:40:05.573Z"
   },
   {
    "duration": 6,
    "start_time": "2021-10-21T06:40:05.595Z"
   },
   {
    "duration": 6,
    "start_time": "2021-10-21T06:40:05.603Z"
   },
   {
    "duration": 226,
    "start_time": "2021-10-21T06:40:05.610Z"
   },
   {
    "duration": 31,
    "start_time": "2021-10-21T06:40:05.838Z"
   },
   {
    "duration": 220,
    "start_time": "2021-10-21T06:40:05.871Z"
   },
   {
    "duration": 5,
    "start_time": "2021-10-21T06:40:06.093Z"
   },
   {
    "duration": 208,
    "start_time": "2021-10-21T06:40:06.100Z"
   },
   {
    "duration": 210,
    "start_time": "2021-10-21T06:40:06.310Z"
   },
   {
    "duration": 217,
    "start_time": "2021-10-21T06:40:06.522Z"
   },
   {
    "duration": 6,
    "start_time": "2021-10-21T06:40:06.740Z"
   },
   {
    "duration": 233,
    "start_time": "2021-10-21T06:40:06.747Z"
   },
   {
    "duration": 5,
    "start_time": "2021-10-21T06:40:06.982Z"
   },
   {
    "duration": 200,
    "start_time": "2021-10-21T06:40:06.991Z"
   },
   {
    "duration": 5,
    "start_time": "2021-10-21T06:40:07.193Z"
   },
   {
    "duration": 407,
    "start_time": "2021-10-21T06:40:34.112Z"
   },
   {
    "duration": 914,
    "start_time": "2021-10-21T06:41:06.115Z"
   }
  ],
  "kernelspec": {
   "display_name": "Python 3 (ipykernel)",
   "language": "python",
   "name": "python3"
  },
  "language_info": {
   "codemirror_mode": {
    "name": "ipython",
    "version": 3
   },
   "file_extension": ".py",
   "mimetype": "text/x-python",
   "name": "python",
   "nbconvert_exporter": "python",
   "pygments_lexer": "ipython3",
   "version": "3.9.7"
  },
  "toc": {
   "base_numbering": 1,
   "nav_menu": {},
   "number_sections": true,
   "sideBar": true,
   "skip_h1_title": true,
   "title_cell": "Содержание",
   "title_sidebar": "Contents",
   "toc_cell": true,
   "toc_position": {
    "height": "calc(100% - 180px)",
    "left": "10px",
    "top": "150px",
    "width": "177.172px"
   },
   "toc_section_display": true,
   "toc_window_display": true
  }
 },
 "nbformat": 4,
 "nbformat_minor": 2
}
